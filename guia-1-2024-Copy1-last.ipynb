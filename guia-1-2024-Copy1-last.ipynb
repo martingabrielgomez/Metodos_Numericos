{
 "cells": [
  {
   "cell_type": "markdown",
   "metadata": {},
   "source": [
    "# Métodos Numéricos 2024"
   ]
  },
  {
   "cell_type": "markdown",
   "metadata": {},
   "source": [
    "## Guía 1: 2024-03-12"
   ]
  },
  {
   "cell_type": "markdown",
   "metadata": {},
   "source": [
    "## Parte 1 : Uso de Linux, Julia y Notebooks"
   ]
  },
  {
   "cell_type": "markdown",
   "metadata": {},
   "source": [
    "### Ejercicio 1 : terminal de *bash*\n",
    "\n",
    "1. Abra una terminal de *bash* de linux. Ud. debería ver en la termina un *prompt* `user@host:~$` indicando el nombre del *usuario* logueado y del *host* (la computadora). En la práctica el nombre de user y host pueden cambiar dependiendo de quién es el usuario que está loguead y en que máquina lo haya hecho. Por otro lado, lo que está entre los dos puntos `:` y el signo pesos `$` indica el directorio de trabajo. En este caso, el símbolo es `~` lo cual representa una abreviación del directorio de trabajo de su usuario que, en este ejemplo, es `/home/user/`.\n",
    "\n",
    "2. El prompt le permite a Ud. ingresar comandos de *bash*. Con estos comandos, Ud. podrá crear y borrar directorios, copiar archivos, cambiar de directorio de trabajo, imprimir en pantalla la lista de directorios y archivos en su actual directorio de trabajo, etc. Además, podrá ejecutar programas."
   ]
  },
  {
   "cell_type": "markdown",
   "metadata": {},
   "source": [
    "### Ejercicio 2 : instalando *Julia*\n",
    "\n",
    "*Julia* es un lenguage de programación de [código abierto](https://es.wikipedia.org/wiki/C%C3%B3digo_abierto) (open source) específicamente desarrollado para el cálculo numérico y científico. Es el lenguaje de programación que utilizaremos en la comisión de Julia de los prácticos de Métodos Numéricos (2024).\n",
    "\n",
    "A continuación, Ud. deberá instalar Julia en la computadora en la que está trabajando. En algunos casos, puede que Julia ya esté instalado. Si ese es el caso, llame al profesor para que elimine la instalación así Ud. puede practicar la misma.\n",
    "\n",
    "Para instalar Julia:\n",
    "\n",
    "1. Ingrese a la página oficial de Julia\n",
    "\n",
    "* [https://julialang.org/](https://julialang.org/)\n",
    "        \n",
    "2. En la página de Julia, cliquee en el botón *Download*. Esto lo llevará a Ud. a la página\n",
    "\n",
    "* [https://julialang.org/downloads/](https://julialang.org/downloads/)\n",
    "        \n",
    "3. Luego, vaya hasta la sección *Official Binaries for Manual Download* y baje el archivo \n",
    "\n",
    "* [https://julialang-s3.julialang.org/bin/linux/x64/1.10/julia-1.10.2-linux-x86_64.tar.gz](https://julialang-s3.julialang.org/bin/linux/x64/1.10/julia-1.10.2-linux-x86_64.tar.gz)\n",
    "        \n",
    "    (o la versión equivalente) escondido en el link de nombre `glibc` correspondiente a la versión *Generic Linux on x86* de Linux.\n",
    "    \n",
    "4. Abra una terminal de bash y descomprima el archivo ejecutando el comando\n",
    "\n",
    "        tar -xf julia-1.10.2-linux-x86_64.tar.gz\n",
    "        \n",
    "    esto creará una carpeta llamada `julia-1.10.2` en donde podrá encontrar los archivos de Julia.\n",
    "    \n",
    "5. Para poder ejecutar julia desde cualquier directorio, hay que modificar el archivo de texto `.bashrc` agregandole al final la linea\n",
    "\n",
    "        export PATH=:$HOME/julia-1.10.2/bin:$PATH\n",
    "        \n",
    "   Para ello, puede utilizar el editor de texto `gedit` ingresando el comando\n",
    "   \n",
    "        gedit ~/.bashrc"
   ]
  },
  {
   "cell_type": "markdown",
   "metadata": {},
   "source": [
    "### Ejercicio 3 : instalando *paquetes* de Julia\n",
    "\n",
    "1. En una terminal de bash, inicie una terminal de Julia ingresando el comando `julia`. Con esto, le aparecerá el prompt `julia>` de la terminal de Julia en donde Ud. podrá ingresar comandos de Julia.\n",
    "\n",
    "2. Importe el administrador de paquetes de Julia llamado `Pkg` ingrese el comando \n",
    "\n",
    "        using Pkg \n",
    "   \n",
    "3. Para poder realizar graficos en Julia, instale el paquete `Plots` ingresando el comando \n",
    "\n",
    "        Pkg.add(\"Plots\")\n",
    "   \n",
    "4. Para poder utilizar *notebooks de Jupyter* en Julia, instale el paquete `IJulia` ingresando el comando\n",
    "\n",
    "        Pkg.add(\"IJulia\")\n",
    "   \n",
    "5. Para salir de la terminal de Julia ingrese el comando\n",
    "\n",
    "        exit()"
   ]
  },
  {
   "cell_type": "markdown",
   "metadata": {},
   "source": [
    "### Ejercicio 4 : Clonando el repositorio *git*\n",
    "\n",
    "1. En una terminal de bash, cree un directorio con el formato `apellido-nombre` ingresando el comando\n",
    "\n",
    "        mkdir apellido-nombre\n",
    "\n",
    "    Recuerde usar su primer appellido en vez de `apellido` y su primer nombre en vez de `nombre`. Evite utilizar espacios, acentos o la letra ñ.\n",
    "   \n",
    "2. Cambie de directorio de trabajo ingresando al directorio recientemente creado ingresando el comando\n",
    "\n",
    "        cd apellido-nombre\n",
    "\n",
    "3. Clone el repositorio ingresando el comando\n",
    "\n",
    "        git clone https://github.com/jipphysics/metodos-numericos-2024.git"
   ]
  },
  {
   "cell_type": "markdown",
   "metadata": {},
   "source": [
    "### Ejercicio 5 : Trabajando con *notebooks*\n",
    "\n",
    "1. En una terminal de bash, inicialize una terminal de Julia ingresando el comando\n",
    "\n",
    "        julia\n",
    "    \n",
    "2. En la terminal de Julia, inicialize el administrador de notebooks de *Jupyter* ingresando los comandos\n",
    "\n",
    "        using IJulia\n",
    "        notebook()\n",
    "   \n",
    "3. Desde el administrador de notebooks, vaya a la carpeta del repositior que anteriormente clonó y cree una copia o duplicado de la notebook \n",
    "\n",
    "        guia-1-2024.ipynb\n",
    "\n",
    "4. Abra la copia de la notebook y resuelva los ejercicios y problemas.\n",
    "\n",
    "**IMPORTANTE:** Trabaje siempre en la copia de las notebook del repositorio clonado. Nunca trabaje en la originale. Esto le permitirá en un futuro bajar facilmente el resto de las guías."
   ]
  },
  {
   "cell_type": "markdown",
   "metadata": {},
   "source": [
    "## Parte 2 : Ejercicios de programación en Julia"
   ]
  },
  {
   "cell_type": "markdown",
   "metadata": {},
   "source": [
    "### Ejercicio 6: strings\n",
    "\n",
    "En Julia, como en la mayoría de los lenguajes de programación, uno puede representar texto en el código utilizando cadenas de caracteres (strings). Para construir una cadena de caracteres, simplemente englobe el texto entre comillas\n",
    "\n",
    "        \"Hola mundo!\"\n",
    "        \n",
    "A continuación, construya una cadena de texto con su frase favorita."
   ]
  },
  {
   "cell_type": "code",
   "execution_count": null,
   "metadata": {},
   "outputs": [],
   "source": [
    "\"Los poetas, como los ciegos, pueden ver en la oscuridad.\""
   ]
  },
  {
   "cell_type": "code",
   "execution_count": null,
   "metadata": {},
   "outputs": [],
   "source": [
    "\n"
   ]
  },
  {
   "cell_type": "markdown",
   "metadata": {},
   "source": [
    "### Ejercicio 7: unicode\n",
    "\n",
    "Escribir símbolos especiales en Julia es muy parecido a escribir símbolos especiales en LaTeX. Para ello, se utiliza el sistema unicode\n",
    "\n",
    "* [https://docs.julialang.org/en/v1/manual/unicode-input/](https://docs.julialang.org/en/v1/manual/unicode-input/)\n",
    "\n",
    "Por ejemplo, para ingresar:"
   ]
  },
  {
   "cell_type": "code",
   "execution_count": null,
   "metadata": {},
   "outputs": [],
   "source": [
    "÷     # tiene que escribir \\div y luego presionar la tecla tab.\n",
    "\n",
    "α     # tiene que escribir \\alpha y luego presionar la tecla tab.\n",
    "\n",
    "⊗     # tiene que escribir \\otimes y luego presionar la tecla tab."
   ]
  },
  {
   "cell_type": "markdown",
   "metadata": {},
   "source": [
    "En una celda de código ingrese los símbolos unicode $\\pm$, $\\times$, $\\Delta$, $\\epsilon$, $\\backepsilon$, $\\subset$ y $x^3$."
   ]
  },
  {
   "cell_type": "code",
   "execution_count": null,
   "metadata": {},
   "outputs": [],
   "source": [
    "∈\n",
    "∋\n",
    "∆\n",
    "±\n",
    "⊂\n",
    "𝑥^3"
   ]
  },
  {
   "cell_type": "markdown",
   "metadata": {},
   "source": [
    "### Ejercicio 8: números enteros\n",
    "\n",
    "En Julia, Ud. puede representar un número de entero en el código escribiendo el número de la manera usual. Note, sin embargo, que los números enteros que una computadora puede representar abarcan un rango finito de posibilidades, dependiendo del *tipo* de número de entero utilizado. \n",
    "\n",
    "En Julia, existen los tipos `UInt8`, `UInt16`, `UInt32`, `UInt64` y `UInt128` para representar enteros sin signo (Unsigned) de 8, 16, 32, 64 y 128 bits y los tipos `Int8`, `Int16`, `Int32`, `Int64` y `Int128` para representar enteros con signo de 8, 16, 32, 64 y 128 bits. Por defecto, Julia utiliza enteros con signo de 64 bits. Por ende, si Ud. escribe\n",
    "\n",
    "    42\n",
    "    \n",
    "Julia asumirá que dicho número es un número entero de tipo `Int64`. Si Ud. desea que dicho número sea de tipo entero sin signo y 16 bits, simplemente escriba\n",
    "\n",
    "    UInt16(42)\n",
    "\n",
    "Para más detalle, visite la ayuda correspondiente de la página de Julia:\n",
    "\n",
    "* [https://docs.julialang.org/en/v1/manual/integers-and-floating-point-numbers/#Integers](https://docs.julialang.org/en/v1/manual/integers-and-floating-point-numbers/#Integers)\n",
    "\n",
    "A contiuación, ingrese un número de cada tipo."
   ]
  },
  {
   "cell_type": "code",
   "execution_count": null,
   "metadata": {},
   "outputs": [],
   "source": [
    "a = UInt16(15)\n",
    "print(\"$(a)\")"
   ]
  },
  {
   "cell_type": "markdown",
   "metadata": {},
   "source": [
    "### Ejercicio 9: números flotantes\n",
    "\n",
    "De manera similar a lo que ocurre con los números enteros, Julia puede representar números flotantes de diferentes tipos de precisión. Por defecto, Julia asume que los números flotantes son de 64 bits. Por ejemplo, Julia traduce\n",
    "\n",
    "        1.0\n",
    "        \n",
    "al número `Float64(1.0)`. \n",
    "\n",
    "Ingrese números flotantes de 16, 32 y 64 bits."
   ]
  },
  {
   "cell_type": "code",
   "execution_count": null,
   "metadata": {},
   "outputs": [],
   "source": [
    "x = Float64(1.54)\n",
    "y = Float32(1.30)\n",
    "z = Float16(3.1)\n",
    "println(\"$(x)\\n$(y)\\n$(z)\")"
   ]
  },
  {
   "cell_type": "markdown",
   "metadata": {},
   "source": [
    "### Ejercicio 10: variables\n",
    "\n",
    "Las variables se usan para almacenar valores. Los valores pueden ser números, strings, arrays, etc. Por ejemplo, en Julia podemos asignar un valor a una variable `x` utilizando la siguiente sintaxis\n",
    "\n",
    "    x = 10.0\n",
    "    \n",
    "Cree diferentes variables asignandole diferentes valores. Modifique luego el valor de las variables."
   ]
  },
  {
   "cell_type": "code",
   "execution_count": null,
   "metadata": {},
   "outputs": [],
   "source": [
    "x = 10 \n",
    "y = x/2\n",
    "x = y+x\n",
    "if x<100\n",
    "    println(\"$(x)\")\n",
    "else \n",
    "    println(\"$(y)\")\n",
    "end"
   ]
  },
  {
   "cell_type": "markdown",
   "metadata": {},
   "source": [
    "### Ejercicio 11: print\n",
    "\n",
    "Las funciones `print` y `println` nos permiten imprimir cosas en pantalla. Por ejemplo\n",
    "\n",
    "    println(\"Hola mundo!\")\n",
    "    \n",
    "imprimirá\n",
    "\n",
    "    Hola mundo!\n",
    "\n",
    "Se puede usar el concepto de *interpolacion* imprimir el valor de variables. Por ejemplo\n",
    "\n",
    "    x = 10.0\n",
    "    \n",
    "    println(\"El valor de x es $(x)\")\n",
    "    \n",
    "Para más información, lea la documentación correspondiente en la página de Julia\n",
    "\n",
    "* [https://docs.julialang.org/en/v1/manual/strings/#string-interpolation](https://docs.julialang.org/en/v1/manual/strings/#string-interpolation)\n",
    "    \n",
    "Use interpolación para imprimir el valor de las variables definidas arriba.    "
   ]
  },
  {
   "cell_type": "code",
   "execution_count": null,
   "metadata": {},
   "outputs": [],
   "source": [
    "println(\"$(x)\")"
   ]
  },
  {
   "cell_type": "markdown",
   "metadata": {},
   "source": [
    "### Ejercicio 12: operadores aritméticos\n",
    "\n",
    "Los operadores aritméticos nos permiten realizar operaciones aritméticas sobre expressiones y/o variables con valores numéricos. Por ejemplo, podemos cambiar de signo, sumar, restar, multiplicar, divir y exponenciar enteros, escribiendo\n",
    "\n",
    "       -3\n",
    "        3 + 4\n",
    "        3 - 4\n",
    "        3 * 4\n",
    "        3 / 4   # División flotante de 3 sobre 4\n",
    "        3 \\ 4   # División flotante de 4 sobre 3\n",
    "        3 ÷ 4   # División entera de 3 sobre 4\n",
    "        3 % 4   # Resto de la división entera de 3 sobre 4\n",
    "        3 ^ 4   # Exponenciación\n",
    "    \n",
    "Para más información, visite la documentación de Julia al respecto\n",
    "\n",
    "* [https://docs.julialang.org/en/v1/manual/mathematical-operations/](https://docs.julialang.org/en/v1/manual/mathematical-operations/)\n",
    "    \n",
    "Pruebe evaluar estas expresiones Ud. mismo. Que ocurre en el caso de las divisiones? Repita las anteriores operaciones con números flotantes. Es posible sumar strings? Y multiplicarlas?"
   ]
  },
  {
   "cell_type": "code",
   "execution_count": null,
   "metadata": {},
   "outputs": [],
   "source": [
    "\n",
    "3%5"
   ]
  },
  {
   "cell_type": "markdown",
   "metadata": {},
   "source": [
    "### Ejercicio 13: operadores booleanos\n",
    "\n",
    "Los operadores booleanos permiten realizar operaciones lógicas con los valores booleanos `true` y `false` (verdadero y falso). Por ejemplo, si `x` e `y` representan variables (o constantes) de valores booleanos, podemos aplicar el operador unario de *negación* (cambiar de verdadero a falso y viceversa)\n",
    "\n",
    "        !x\n",
    "        \n",
    "o podemos aplicar los operadores binarios *and* y *or*\n",
    "\n",
    "        x && y\n",
    "        x || y\n",
    "        \n",
    "respectivamente.\n",
    "\n",
    "También existen los operadores de comparación, los cuales retornan un valor booleano. Por ejemplo, los operadores aritméticos `==`, `<`, `>`, `<=`, `>=` (igual, menor, mayor, menor o igual, mayor o igual).\n",
    "\n",
    "Para más información, visite la documentación de Julia al respecto\n",
    "\n",
    "* [https://docs.julialang.org/en/v1/manual/mathematical-operations/](https://docs.julialang.org/en/v1/manual/mathematical-operations/)\n",
    "\n",
    "Para todas las combinaciones posibles de los valores booleanos de las variables `x` e `y`, calcule los valores booleanos de las expresiones `!x`, `x && y` y `x || y`.\n",
    "\n",
    "Luego, asigne valores aritméticos a `x` e `y` y evalúe los operadores de comparación. \n",
    "\n",
    "Pueden compararse strings?"
   ]
  },
  {
   "cell_type": "code",
   "execution_count": null,
   "metadata": {},
   "outputs": [],
   "source": [
    "x = randn()\n",
    "println(\"$(x)\")\n",
    "if typeof(x) == Int\n",
    "    println(\"x es un entero\")\n",
    "else \n",
    "    println(\"x no es entero\") \n",
    "end\n",
    "        \n"
   ]
  },
  {
   "cell_type": "markdown",
   "metadata": {},
   "source": [
    "### Ejercicio 14: condicionales\n",
    "\n",
    "Existen diferentes formas de controlar el flujo de un programa. Las expresiones condicionales sirven para controlar el flujo de un programa. La más común de ellas es el comando `if`. Veamos un ejemplo\n",
    "\n",
    "        x = 1\n",
    "        if x > 0\n",
    "            println(\"Si\");\n",
    "        else\n",
    "            println(\"No\");        \n",
    "        end\n",
    "        \n",
    "Evalúe el ejemplo. Luego, intente combiar operadores del ejercicio 13 con el if."
   ]
  },
  {
   "cell_type": "code",
   "execution_count": null,
   "metadata": {},
   "outputs": [],
   "source": [
    "x = 1\n",
    "if x >= 0 \n",
    "    println(\"Si\")\n",
    "else\n",
    "    println(\"No\")\n",
    "end"
   ]
  },
  {
   "cell_type": "markdown",
   "metadata": {},
   "source": [
    "### Ejercicio 13: loops\n",
    "\n",
    "Los loops proveen de otra forma de controlar el flujo de un programa. El fomando `for` provee la forma más común de implementar loops en Julia. Por ejemplo\n",
    "\n",
    "        for i in 1:10\n",
    "           println(\"$i\") \n",
    "        end\n",
    "        \n",
    "Para más información, puede leer la documentación de Julia al respecto\n",
    "\n",
    "* [https://docs.julialang.org/en/v1/base/base/#for](https://docs.julialang.org/en/v1/base/base/#for)\n",
    "        \n",
    "Pruebe el ejemplo anterior. Modifíquelo para que imprima los números 1,2,4,8,16,32,64,128,256.   "
   ]
  },
  {
   "cell_type": "code",
   "execution_count": null,
   "metadata": {},
   "outputs": [],
   "source": [
    "for x in 1:10\n",
    "    println(\"$(2^x)\")\n",
    "end\n"
   ]
  },
  {
   "cell_type": "markdown",
   "metadata": {},
   "source": [
    "### Ejercicio 15: funciones\n",
    "\n",
    "Las funciones proveen otra forma de controlar el flujo de un programa. En Julia, existen varias maneras de implementar una función. A continuación ejemplificamos las dos más simples. La primer forma se utiliza para definir funciones que puedan escribirse en una linea\n",
    "\n",
    "    f(x,y) = 2*x+y^3\n",
    "    f(3,4)\n",
    "    \n",
    "La segunda forma, sirve para definir funciones mas complejas    \n",
    "    \n",
    "    function g(i,n)\n",
    "        for j = 1:n\n",
    "            m=i^j\n",
    "            println(\"$m\")\n",
    "        end\n",
    "    end\n",
    "    g(2,5)\n",
    "    \n",
    "Implemente y pruebe ambas funciones. Luego, implemente y pruebe una función que retorne si un número es par o no. "
   ]
  },
  {
   "cell_type": "code",
   "execution_count": null,
   "metadata": {},
   "outputs": [],
   "source": [
    "function g(j)\n",
    "    if iseven(j) \n",
    "        println(\"$(j) es par\")\n",
    "    else \n",
    "        println(\"$(j) es impar\")\n",
    "    end\n",
    "end\n",
    "g(4)"
   ]
  },
  {
   "cell_type": "markdown",
   "metadata": {},
   "source": [
    "### Ejercicio 16: arrays\n",
    "\n",
    "El uso de vectores, matrices y tensores en general es muy común en el cálculo numérico. Los arreglos o *arrays* constituyen la forma más común de representar estos objetos matemáticos en un programa. Por ejemplo, para definir un array 1D de 5 números enteros, podemos escribir\n",
    "\n",
    "    a = Array{Int64}(undef,5)\n",
    "    \n",
    "Luego, para acceder al í-esimo elemento del array escribimos `a[i]`. De esta manera, podemos asignar valores a los elementos del array escribiendo\n",
    "\n",
    "    for i in 1:length(a)\n",
    "       a[i] = 100\n",
    "    end\n",
    "\n",
    "y luego ver que, efectivamente las entradas del array valen 100. Por ejemplo, para ver el valor almacenado en la entrada 3 escribimos\n",
    "\n",
    "    a[3]\n",
    "    \n",
    "Para definir un array 2D de dimensiones 3x4 de números flotantes de 64 bits, escribimos\n",
    "\n",
    "    b = Array{Float64}(undef,(3,4))\n",
    "    \n",
    "y para acceder al elemento i,j-ésimo escribimos `b[i,j]`.\n",
    "\n",
    "Cree y asigne valores al array `a`. Repita lo anterior para el array `b`. Luego, fabrique un array de números flotantes de 3D."
   ]
  },
  {
   "cell_type": "code",
   "execution_count": null,
   "metadata": {},
   "outputs": [],
   "source": [
    "a = Array{Any,3}(undef,(2,2,2))\n",
    "a[1,1,1] = \"cos(x)\"\n",
    "a[1,2,1] = \"sen(x)\"\n",
    "a[1,1,2] = \"tan(x)\"\n",
    "a[1,2,2] = \"e^x\"\n",
    "a[2,1,1] = 5\n",
    "a[2,2,1] = 6\n",
    "a[2,2,2] = 7\n",
    "a[2,1,2] = 8\n",
    "\n",
    "a\n",
    "\n"
   ]
  },
  {
   "cell_type": "markdown",
   "metadata": {},
   "source": [
    "### Ejercicio 17: gráficos\n",
    "\n",
    "Grafique la función seno en el intervalo $[0,2\\pi]$. Para ello, primero importe el paquete `Plots` escribiendo\n",
    "\n",
    "     using Plots\n",
    "    \n",
    "y luego realize el gráfico con el programa\n",
    "\n",
    "     plot(0:0.01:2*π,sin,xlabel=\"x\",ylabel=\"sen(x)\",label=\"\")\n",
    "     \n",
    "Luego, buscando la documentación del paquete `Plots` de Julia\n",
    "\n",
    "* [https://docs.juliaplots.org/stable/tutorial/#tutorial](https://docs.juliaplots.org/stable/tutorial/#tutorial)\n",
    "\n",
    "determine que es lo que indica cada argumento pasado a la función `plots` en el anterior programa."
   ]
  },
  {
   "cell_type": "code",
   "execution_count": null,
   "metadata": {},
   "outputs": [],
   "source": [
    "using Plots\n",
    "x = range(0, 10, length=100)\n",
    "y = sin.(x)\n",
    "y_noisy = @. sin(x) + 0.2*randn()\n",
    "\n",
    "plot(x, y, label=\"sin(x)\")\n",
    "plot!(x, y_noisy, seriestype=:scatter, label=\"data\")\n"
   ]
  },
  {
   "cell_type": "markdown",
   "metadata": {},
   "source": [
    "## Parte 3 : Errores numéricos"
   ]
  },
  {
   "cell_type": "markdown",
   "metadata": {},
   "source": [
    "### Problema 1\n",
    "\n",
    "Evaluar las siguientes operaciones matemáticas, una por celda. Tenga en cuenta que, en Julia, la división entera se representa por el símbolo ÷.\n",
    "\n",
    "    A = 5 ÷ 2 + 20 ÷ 6\n",
    "    B = 4 * 6 ÷ 2 - 15 ÷ 2\n",
    "    C = 5 * 15 ÷ 2 ÷ (4 - 2)\n",
    "    D = 1 + 1 ÷ 4\n",
    "    E = 1. + 1 ÷ 4\n",
    "    F = 1 + 1. / 4\n",
    "    G = 1. + 1. / 4.\n",
    "    \n",
    "En que se diferencian los casos, D, E, F y G?"
   ]
  },
  {
   "cell_type": "code",
   "execution_count": null,
   "metadata": {},
   "outputs": [],
   "source": []
  },
  {
   "cell_type": "markdown",
   "metadata": {},
   "source": [
    "### Problema 2\n",
    "\n",
    "Implemente una función que pida dos numeros reales y retorne el mayor de ellos, ó retorne el string `\"iguales\"` si son iguales. Pruebe la función para los casos\n",
    "\n",
    "    f(1,2)\n",
    "    f(2,1)\n",
    "    f(0.0,0.0)\n",
    "    f(0.0,10.0^(-500))\n",
    "    \n",
    "Explique que ocurre en el último caso.    "
   ]
  },
  {
   "cell_type": "code",
   "execution_count": null,
   "metadata": {},
   "outputs": [],
   "source": [
    "function f(x,y)\n",
    "    if x>y\n",
    "        println(\"$(x)\")\n",
    "    elseif x<y\n",
    "        println(\"$(y)\")\n",
    "    else\n",
    "        println(\"Son Iguales\")\n",
    "    end\n",
    "end\n",
    "f(0.0,10.0^(-500))"
   ]
  },
  {
   "cell_type": "code",
   "execution_count": null,
   "metadata": {},
   "outputs": [],
   "source": [
    "println(\"$(f(1,4))\")"
   ]
  },
  {
   "cell_type": "markdown",
   "metadata": {},
   "source": [
    "### Problema 3\n",
    "\n",
    "Implemente una función que pida un número entero y retorne un booleano determinando si es multiplo de 2 y de 5.\n",
    "Testee la función con ejemplos."
   ]
  },
  {
   "cell_type": "code",
   "execution_count": null,
   "metadata": {},
   "outputs": [],
   "source": [
    "function g(i)\n",
    "    x = i%2\n",
    "    y = i%5\n",
    "    if x == 0 && y == 0\n",
    "        println(\"True\")\n",
    "    else \n",
    "        println(\"False\")\n",
    "    end\n",
    "end\n",
    "g(2)"
   ]
  },
  {
   "cell_type": "markdown",
   "metadata": {},
   "source": [
    "### Problema 6\n",
    "\n",
    "Implemente una función que pida los coeficientes $A$, $B$ y $C$ de un polinomio real de segundo grado ($A x^2 + B x + C$), calcule e imprima en pantalla las dos raíces del polinomio en formato complejo $a + i b$, sin\n",
    "utilizar algebra compleja.\n",
    "Testee la función con ejemplos."
   ]
  },
  {
   "cell_type": "markdown",
   "metadata": {},
   "source": [
    "**Teoría**\n",
    "\n",
    "Dados\n",
    "$$\n",
    "a = -\\frac{B}{2A}\\in \\mathbb{R}\n",
    "\\;\\;\\;\\;\n",
    "\\mbox{y}\n",
    "\\;\\;\\;\\;\n",
    "b = \\frac{\\sqrt{\\left|B^2-4AC\\right|}}{2A}\\in \\mathbb{R}\n",
    "$$ \n",
    "luego, las soluciones de \n",
    "$$\n",
    "A x^2 + B x + C=0\n",
    "$$\n",
    "son\n",
    "$$\n",
    "x_{\\pm} = a\\pm b\n",
    "$$\n",
    "si el discriminante satisface\n",
    "$$\n",
    "B^2-4AC \\geq 0\n",
    "$$\n",
    "ó son\n",
    "$$\n",
    "x_{\\pm} = a\\pm ib\n",
    "$$\n",
    "en caso contrario."
   ]
  },
  {
   "cell_type": "code",
   "execution_count": null,
   "metadata": {},
   "outputs": [],
   "source": [
    "function f(A,B,C)\n",
    "    a = (-B)/2*A\n",
    "    d = (B^2)-(4*A*C)\n",
    "    b = sqrt(abs(d))/2*A\n",
    "    if A == 0 && B == 0\n",
    "        println(\"error: A o B tienen que ser distintos a O\")\n",
    "    elseif A == 0\n",
    "        println(\"$((-C)/B)\")\n",
    "    else\n",
    "        if d >= 0\n",
    "            println(\"$(a+b)\\n$(a-b)\")\n",
    "        else\n",
    "            println(\"$(a)+i($(b))\\n$(a)-i($(b))\")\n",
    "        end\n",
    "    end\n",
    "end\n",
    "f(0,1,-1)"
   ]
  },
  {
   "cell_type": "markdown",
   "metadata": {},
   "source": [
    "### Problema 7\n",
    "\n",
    "Implemente una función que compute la suma en precisión simple (float de 32 bits)\n",
    "$$\n",
    "\\sum_{n=1}^{10\\,000\\,000} \\frac{1}{n}\n",
    "$$\n",
    "en el orden usual.\n",
    "Luego, implemente otra que compute la suma en el orden opuesto, también en precisión simple.\n",
    "Luego, repita todo el proceso para precisión doble (float de 64 bits).\n",
    "Ejecute todas funciones, observe los resultados y describa las diferencias obtenidas.\n",
    "En particular, indique cuál función es más precisa y explique porqué."
   ]
  },
  {
   "cell_type": "code",
   "execution_count": null,
   "metadata": {},
   "outputs": [],
   "source": [
    "function f()\n",
    "x = 0\n",
    "    println(\"32 o 64?\")\n",
    "y = parse(Int32,readline())\n",
    "    if y == 32\n",
    "        for n in 1:1000000\n",
    "            x += Float32(1/n)\n",
    "        end\n",
    "        return x\n",
    "    elseif y == 64\n",
    "        for n in 1:1000000\n",
    "            x += Float64(1/n)\n",
    "        end\n",
    "        return x\n",
    "    end\n",
    "    \n",
    "end\n",
    "f()"
   ]
  },
  {
   "cell_type": "markdown",
   "metadata": {},
   "source": [
    "Bla bla ..."
   ]
  },
  {
   "cell_type": "markdown",
   "metadata": {},
   "source": [
    "### Problema 8\n",
    "\n",
    "Diseñar una función que calcule la potencia enésima de un número, es decir que devuelva $x^n$ para $x$ real y $n$ entero. Realice un programa que utilice la función e imprima en pantalla las primeras 5 potencias naturales de un número ingresado."
   ]
  },
  {
   "cell_type": "code",
   "execution_count": null,
   "metadata": {},
   "outputs": [],
   "source": [
    "function p(x,n)\n",
    "    a = x^n\n",
    "end\n",
    "c = parse(Float64, readline())\n",
    "for i in 1:5\n",
    "    println(\"$(p(c,i))\")\n",
    "end"
   ]
  },
  {
   "cell_type": "markdown",
   "metadata": {},
   "source": [
    "### Problema 9\n",
    "\n",
    "Implemente una función que tome una matriz $A$ de dimensión $M\\times N$ y un vector $v$ de dimensión $N$ y retorne un vector de dimensión $M$ igual al producto matricial $Av$.\n",
    "\n",
    "Ralice varias pruebas de la función.\n",
    "\n",
    "**Ayuda:** Lea [https://docs.julialang.org/en/v1/base/arrays/](https://docs.julialang.org/en/v1/base/arrays/)."
   ]
  },
  {
   "cell_type": "code",
   "execution_count": null,
   "metadata": {},
   "outputs": [],
   "source": [
    "using LinearAlgebra\n",
    "m = 0\n",
    "n = 0\n",
    "function h()\n",
    "    C = A*B \n",
    "    return C\n",
    "end\n",
    "A = [1 3 ; 1 2]\n",
    "B = [1 ; 5]\n",
    "h()"
   ]
  },
  {
   "cell_type": "markdown",
   "metadata": {},
   "source": [
    "### Problema 10\n",
    "\n",
    "Se determinaron 9 mediciones de concentraciones de fósforo en un campo y los datos obtenidos fueron:\n",
    "\n",
    "    479.80 \n",
    "    499.10 \n",
    "    510.20 \n",
    "    508.60\n",
    "    503.30\n",
    "    501.20\n",
    "    507.30\n",
    "    499.90\n",
    "    468.60\n",
    "    \n",
    "* Cargue los datos en un array.\n",
    "\n",
    "* Escriba un programa que calcule el promedio y la [estimación de la desviación estandard no sesgada](https://es.wikipedia.org/wiki/Estimaci%C3%B3n_de_la_desviaci%C3%B3n_est%C3%A1ndar_no_sesgada) del array de datos.\n",
    "\n",
    "**Ayudas:**\n",
    "\n",
    "* Puede crear el vector a mano, o puede intentar usando las funciones [split](https://docs.julialang.org/en/v1/base/strings/#Base.split) y [parse](https://docs.julialang.org/en/v1/base/numbers/#Base.parse), o puede intentar usar usar los paquetes [CSV](https://csv.juliadata.org/stable/) y [DataFrames](https://dataframes.juliadata.org/stable/).\n",
    "\n",
    "* El *promedio* de una serie de mediciones $x_1, x_2, ..., x_n$ se defined como\n",
    "\n",
    "    $$\n",
    "    \\overline{x} = \\frac{1}{n} \\sum_{i=1}^n x_i\n",
    "    $$\n",
    "\n",
    "    y la *estimación de la desviación estandard no sesgada* como\n",
    "    \n",
    "    $$\n",
    "    s_x = \\sqrt{\\frac{1}{n-1}\\sum_{i=1}^n (x_i-\\overline{x})^2}\n",
    "    $$"
   ]
  },
  {
   "cell_type": "code",
   "execution_count": null,
   "metadata": {},
   "outputs": [],
   "source": [
    "A = [479.80, 499.10, 510.20, 508.60, 503.30, 501.20, 507.30, 499.90, 468.60]\n",
    "function prom()\n",
    "    x = (1/length(A))*Base.sum(A)\n",
    "    return x\n",
    "end\n",
    "function desv()\n",
    "    y = 0\n",
    "    s = 0\n",
    "    for i in 1:length(A)\n",
    "        y = (A[i]-prom())^2 + y\n",
    "        s = sqrt(1/(length(A)-1)*y)\n",
    "    end\n",
    "    return s\n",
    "end\n",
    "desv()\n",
    "prom()"
   ]
  },
  {
   "cell_type": "markdown",
   "metadata": {},
   "source": [
    "### Problema 11\n",
    "\n",
    "Escriba una funcion que retorne el *string* de la representación en base $b \\leq 16$ de un número natural $n$. Por ejemplo, para $n=42$, la función tiene que retornar `\"101010\"` si $b=2$ (representación binaria), y tiene que retornar `\"2A\"` si $b=16$ (representación hexadecimal).\n",
    "\n",
    "**Ayuda:** Utilice las operaciones división entera `÷` y resto `%`, la concatenación de *string* s (i.e. el operador ` *`) y utilice una *string* `\"0123456789ABCDEF\"` con todos los dígitos necesarios."
   ]
  },
  {
   "cell_type": "code",
   "execution_count": null,
   "metadata": {},
   "outputs": [],
   "source": [
    "function Converter(n,base)\n",
    "    decimal = n # Guardo un numero decimal\n",
    "     baseN = \"\"# En esta variable almaceno el valor en otra base con letras\n",
    "    while decimal != 0\n",
    "        # Cambia los digitos por los de la otra base\n",
    "        resto = decimal % base\n",
    "        rem = CambiarDigitos(resto)\n",
    "        # Da a la varibale \"en la nueva base\" con los nuevos valores\n",
    "        baseN = string(rem) * baseN\n",
    "        decimal = decimal ÷ base\n",
    "    end\n",
    "    println(\"Resultado: $(baseN)\") # Muestra el resultado\n",
    "end\n",
    "\n",
    "function CambiarDigitos(digitos) # Traduce los digitos a hexadecimales\n",
    "    decimales = [10 , 11 , 12 , 13 , 14 , 15 ]\n",
    "    hexadecimal = [\"A\", \"B\", \"C\", \"D\", \"E\", \"F\"]\n",
    "    for i in 1:length(decimales)\n",
    "        if digitos == decimales[i]\n",
    "            digitos = hexadecimal[i]\n",
    "        end\n",
    "    end\n",
    "    return digitos\n",
    "end\n",
    "Converter(12334,16)"
   ]
  },
  {
   "cell_type": "code",
   "execution_count": null,
   "metadata": {},
   "outputs": [],
   "source": [
    "length(6)"
   ]
  },
  {
   "cell_type": "markdown",
   "metadata": {},
   "source": [
    "### Problema 12\n",
    "\n",
    "Efectúe con un programa en Julia en simple precisión los siguientes cálculos matemáticamente equivalentes,\n",
    "\n",
    "**a)** $1\\,000\\,000 \\times 0.1$\n",
    "\n",
    "**b)** $\\sum_{n=1}^{1\\,000\\,000} 0.1$\n",
    "\n",
    "**c)** $\\sum_{n=1}^{1\\,000} \\left( \\sum_{m=1}^{1\\,000} 0.1\\right)$\n",
    "\n",
    "1. Vaya guardando en vectores los errores parciales cada 1000 iteraciones en el caso **b)**, y en todas las iteraciones de la suma externa en **c)**, de manera que cada suma parcial comprenda 1000 términos de la suma total.\n",
    "\n",
    "2. Grafique de manera comparativa dichos errores en función de los correspondientes valores de $n$. Incluya en el gráfico nombres adecuados en los ejes y con leyendas adecuadas. \n",
    "\n",
    "3. Repita el gráfico utilizando escala logarítmica en el eje $y$.\n",
    "\n",
    "4. Utilce los resultados anteriores para explicar las diferencias obtenidas entre resultados finales de **a)**, **b)** y **c)** y muestre que el error relativo en **b)** es del orden del $1\\%$, pero es mucho menor en **c)**."
   ]
  },
  {
   "cell_type": "code",
   "execution_count": null,
   "metadata": {},
   "outputs": [],
   "source": [
    "# no salio\n"
   ]
  },
  {
   "cell_type": "markdown",
   "metadata": {},
   "source": [
    "### Problema 13\n",
    "\n",
    "**Serie de Taylor, aproximaciones y errores**\n",
    "\n",
    "La siguiente fórmula permite expresar, usando la serie de Taylor a partir del punto $x=0$, la función *seno* como suma (infinita) de potencias:\n",
    "\n",
    "$$\n",
    "\\sin(x) = \\sum_{j=0}^{\\infty} \\frac{(-1)^j}{(2j+1)!}x^{2j+1}\n",
    "$$\n",
    "\n",
    "Podemos approximar esta expresión en la computadora truncando la serie en algún valor finito de $n$.\n",
    "\n",
    "1. Defina una función, `sin_n(x,n)` que tome como argumentos un valor de la variable `x` y un valor de `n` y devuelva el valor de la suma hasta dicho $n$. \n",
    "    \n",
    "2. Grafique en el intervalo $[0, 2π]$ dicha función para los distintos valores de $n=6,7,8$ y agregue en el mismo gráfico la función `sin(x)` que viene pre-definida en Julia.\n",
    "    \n",
    "3. En otro gráfico grafique el *error* entre la aproximación con $n=8$ y la función estandard de Julia. \n",
    "    \n",
    "4. Defina una nueva función, `sin_n_inv(x,n)` idéntica a al anterior pero donde la suma se haga en orden inverso.\n",
    "    \n",
    "5. Compare los errores obtenidos con `sin_n(x,n)` y `sin_n_inv(x,n)` para `n=8` en el rango $[0,1]$.\n",
    "\n",
    "6. Repita la comparación anterior utilizando precisión simple (i.e. numero flotante de 32 bits). \n",
    "\n",
    "7. Explique las diferencias observadas entre 5. y 6.\n",
    "\n",
    "**Ayudas:** \n",
    "\n",
    "* Para calcular el factorial de un número entero use la función `factorial`.\n",
    "\n",
    "* `Float32(x)` retorna el valor de `x` en precisión simple.\n",
    "\n",
    "* Las expresiones `zero(x)` y `one(x)` retornan 0 y 1, respectivamente, en la misma precisión que la variable `x`."
   ]
  },
  {
   "cell_type": "code",
   "execution_count": 3,
   "metadata": {
    "scrolled": true
   },
   "outputs": [
    {
     "data": {
      "image/svg+xml": [
       "<?xml version=\"1.0\" encoding=\"utf-8\"?>\n",
       "<svg xmlns=\"http://www.w3.org/2000/svg\" xmlns:xlink=\"http://www.w3.org/1999/xlink\" width=\"600\" height=\"400\" viewBox=\"0 0 2400 1600\">\n",
       "<defs>\n",
       "  <clipPath id=\"clip820\">\n",
       "    <rect x=\"0\" y=\"0\" width=\"2400\" height=\"1600\"/>\n",
       "  </clipPath>\n",
       "</defs>\n",
       "<path clip-path=\"url(#clip820)\" d=\"M0 1600 L2400 1600 L2400 0 L0 0  Z\" fill=\"#ffffff\" fill-rule=\"evenodd\" fill-opacity=\"1\"/>\n",
       "<defs>\n",
       "  <clipPath id=\"clip821\">\n",
       "    <rect x=\"480\" y=\"0\" width=\"1681\" height=\"1600\"/>\n",
       "  </clipPath>\n",
       "</defs>\n",
       "<path clip-path=\"url(#clip820)\" d=\"M257.204 1423.18 L2352.76 1423.18 L2352.76 47.2441 L257.204 47.2441  Z\" fill=\"#ffffff\" fill-rule=\"evenodd\" fill-opacity=\"1\"/>\n",
       "<defs>\n",
       "  <clipPath id=\"clip822\">\n",
       "    <rect x=\"257\" y=\"47\" width=\"2097\" height=\"1377\"/>\n",
       "  </clipPath>\n",
       "</defs>\n",
       "<polyline clip-path=\"url(#clip822)\" style=\"stroke:#000000; stroke-linecap:round; stroke-linejoin:round; stroke-width:2; stroke-opacity:0.1; fill:none\" points=\"316.512,1423.18 316.512,47.2441 \"/>\n",
       "<polyline clip-path=\"url(#clip822)\" style=\"stroke:#000000; stroke-linecap:round; stroke-linejoin:round; stroke-width:2; stroke-opacity:0.1; fill:none\" points=\"631.311,1423.18 631.311,47.2441 \"/>\n",
       "<polyline clip-path=\"url(#clip822)\" style=\"stroke:#000000; stroke-linecap:round; stroke-linejoin:round; stroke-width:2; stroke-opacity:0.1; fill:none\" points=\"946.109,1423.18 946.109,47.2441 \"/>\n",
       "<polyline clip-path=\"url(#clip822)\" style=\"stroke:#000000; stroke-linecap:round; stroke-linejoin:round; stroke-width:2; stroke-opacity:0.1; fill:none\" points=\"1260.91,1423.18 1260.91,47.2441 \"/>\n",
       "<polyline clip-path=\"url(#clip822)\" style=\"stroke:#000000; stroke-linecap:round; stroke-linejoin:round; stroke-width:2; stroke-opacity:0.1; fill:none\" points=\"1575.71,1423.18 1575.71,47.2441 \"/>\n",
       "<polyline clip-path=\"url(#clip822)\" style=\"stroke:#000000; stroke-linecap:round; stroke-linejoin:round; stroke-width:2; stroke-opacity:0.1; fill:none\" points=\"1890.51,1423.18 1890.51,47.2441 \"/>\n",
       "<polyline clip-path=\"url(#clip822)\" style=\"stroke:#000000; stroke-linecap:round; stroke-linejoin:round; stroke-width:2; stroke-opacity:0.1; fill:none\" points=\"2205.3,1423.18 2205.3,47.2441 \"/>\n",
       "<polyline clip-path=\"url(#clip820)\" style=\"stroke:#000000; stroke-linecap:round; stroke-linejoin:round; stroke-width:4; stroke-opacity:1; fill:none\" points=\"257.204,1423.18 2352.76,1423.18 \"/>\n",
       "<polyline clip-path=\"url(#clip820)\" style=\"stroke:#000000; stroke-linecap:round; stroke-linejoin:round; stroke-width:4; stroke-opacity:1; fill:none\" points=\"316.512,1423.18 316.512,1404.28 \"/>\n",
       "<polyline clip-path=\"url(#clip820)\" style=\"stroke:#000000; stroke-linecap:round; stroke-linejoin:round; stroke-width:4; stroke-opacity:1; fill:none\" points=\"631.311,1423.18 631.311,1404.28 \"/>\n",
       "<polyline clip-path=\"url(#clip820)\" style=\"stroke:#000000; stroke-linecap:round; stroke-linejoin:round; stroke-width:4; stroke-opacity:1; fill:none\" points=\"946.109,1423.18 946.109,1404.28 \"/>\n",
       "<polyline clip-path=\"url(#clip820)\" style=\"stroke:#000000; stroke-linecap:round; stroke-linejoin:round; stroke-width:4; stroke-opacity:1; fill:none\" points=\"1260.91,1423.18 1260.91,1404.28 \"/>\n",
       "<polyline clip-path=\"url(#clip820)\" style=\"stroke:#000000; stroke-linecap:round; stroke-linejoin:round; stroke-width:4; stroke-opacity:1; fill:none\" points=\"1575.71,1423.18 1575.71,1404.28 \"/>\n",
       "<polyline clip-path=\"url(#clip820)\" style=\"stroke:#000000; stroke-linecap:round; stroke-linejoin:round; stroke-width:4; stroke-opacity:1; fill:none\" points=\"1890.51,1423.18 1890.51,1404.28 \"/>\n",
       "<polyline clip-path=\"url(#clip820)\" style=\"stroke:#000000; stroke-linecap:round; stroke-linejoin:round; stroke-width:4; stroke-opacity:1; fill:none\" points=\"2205.3,1423.18 2205.3,1404.28 \"/>\n",
       "<path clip-path=\"url(#clip820)\" d=\"M316.512 1454.1 Q312.901 1454.1 311.072 1457.66 Q309.267 1461.2 309.267 1468.33 Q309.267 1475.44 311.072 1479.01 Q312.901 1482.55 316.512 1482.55 Q320.146 1482.55 321.952 1479.01 Q323.781 1475.44 323.781 1468.33 Q323.781 1461.2 321.952 1457.66 Q320.146 1454.1 316.512 1454.1 M316.512 1450.39 Q322.322 1450.39 325.378 1455 Q328.456 1459.58 328.456 1468.33 Q328.456 1477.06 325.378 1481.67 Q322.322 1486.25 316.512 1486.25 Q310.702 1486.25 307.623 1481.67 Q304.568 1477.06 304.568 1468.33 Q304.568 1459.58 307.623 1455 Q310.702 1450.39 316.512 1450.39 Z\" fill=\"#000000\" fill-rule=\"nonzero\" fill-opacity=\"1\" /><path clip-path=\"url(#clip820)\" d=\"M621.693 1481.64 L629.332 1481.64 L629.332 1455.28 L621.021 1456.95 L621.021 1452.69 L629.285 1451.02 L633.961 1451.02 L633.961 1481.64 L641.6 1481.64 L641.6 1485.58 L621.693 1485.58 L621.693 1481.64 Z\" fill=\"#000000\" fill-rule=\"nonzero\" fill-opacity=\"1\" /><path clip-path=\"url(#clip820)\" d=\"M940.762 1481.64 L957.082 1481.64 L957.082 1485.58 L935.137 1485.58 L935.137 1481.64 Q937.799 1478.89 942.383 1474.26 Q946.989 1469.61 948.17 1468.27 Q950.415 1465.74 951.295 1464.01 Q952.197 1462.25 952.197 1460.56 Q952.197 1457.8 950.253 1456.07 Q948.332 1454.33 945.23 1454.33 Q943.031 1454.33 940.577 1455.09 Q938.147 1455.86 935.369 1457.41 L935.369 1452.69 Q938.193 1451.55 940.647 1450.97 Q943.1 1450.39 945.137 1450.39 Q950.508 1450.39 953.702 1453.08 Q956.896 1455.77 956.896 1460.26 Q956.896 1462.39 956.086 1464.31 Q955.299 1466.2 953.193 1468.8 Q952.614 1469.47 949.512 1472.69 Q946.41 1475.88 940.762 1481.64 Z\" fill=\"#000000\" fill-rule=\"nonzero\" fill-opacity=\"1\" /><path clip-path=\"url(#clip820)\" d=\"M1265.16 1466.95 Q1268.51 1467.66 1270.39 1469.93 Q1272.29 1472.2 1272.29 1475.53 Q1272.29 1480.65 1268.77 1483.45 Q1265.25 1486.25 1258.77 1486.25 Q1256.59 1486.25 1254.28 1485.81 Q1251.98 1485.39 1249.53 1484.54 L1249.53 1480.02 Q1251.48 1481.16 1253.79 1481.74 Q1256.1 1482.32 1258.63 1482.32 Q1263.03 1482.32 1265.32 1480.58 Q1267.63 1478.84 1267.63 1475.53 Q1267.63 1472.48 1265.48 1470.77 Q1263.35 1469.03 1259.53 1469.03 L1255.5 1469.03 L1255.5 1465.19 L1259.72 1465.19 Q1263.17 1465.19 1264.99 1463.82 Q1266.82 1462.43 1266.82 1459.84 Q1266.82 1457.18 1264.92 1455.77 Q1263.05 1454.33 1259.53 1454.33 Q1257.61 1454.33 1255.41 1454.75 Q1253.21 1455.16 1250.57 1456.04 L1250.57 1451.88 Q1253.23 1451.14 1255.55 1450.77 Q1257.89 1450.39 1259.95 1450.39 Q1265.27 1450.39 1268.37 1452.83 Q1271.48 1455.23 1271.48 1459.35 Q1271.48 1462.22 1269.83 1464.21 Q1268.19 1466.18 1265.16 1466.95 Z\" fill=\"#000000\" fill-rule=\"nonzero\" fill-opacity=\"1\" /><path clip-path=\"url(#clip820)\" d=\"M1578.72 1455.09 L1566.91 1473.54 L1578.72 1473.54 L1578.72 1455.09 M1577.49 1451.02 L1583.37 1451.02 L1583.37 1473.54 L1588.3 1473.54 L1588.3 1477.43 L1583.37 1477.43 L1583.37 1485.58 L1578.72 1485.58 L1578.72 1477.43 L1563.11 1477.43 L1563.11 1472.92 L1577.49 1451.02 Z\" fill=\"#000000\" fill-rule=\"nonzero\" fill-opacity=\"1\" /><path clip-path=\"url(#clip820)\" d=\"M1880.78 1451.02 L1899.14 1451.02 L1899.14 1454.96 L1885.07 1454.96 L1885.07 1463.43 Q1886.08 1463.08 1887.1 1462.92 Q1888.12 1462.73 1889.14 1462.73 Q1894.93 1462.73 1898.31 1465.9 Q1901.69 1469.08 1901.69 1474.49 Q1901.69 1480.07 1898.21 1483.17 Q1894.74 1486.25 1888.42 1486.25 Q1886.25 1486.25 1883.98 1485.88 Q1881.73 1485.51 1879.33 1484.77 L1879.33 1480.07 Q1881.41 1481.2 1883.63 1481.76 Q1885.85 1482.32 1888.33 1482.32 Q1892.33 1482.32 1894.67 1480.21 Q1897.01 1478.1 1897.01 1474.49 Q1897.01 1470.88 1894.67 1468.77 Q1892.33 1466.67 1888.33 1466.67 Q1886.45 1466.67 1884.58 1467.08 Q1882.73 1467.5 1880.78 1468.38 L1880.78 1451.02 Z\" fill=\"#000000\" fill-rule=\"nonzero\" fill-opacity=\"1\" /><path clip-path=\"url(#clip820)\" d=\"M2205.71 1466.44 Q2202.56 1466.44 2200.71 1468.59 Q2198.88 1470.74 2198.88 1474.49 Q2198.88 1478.22 2200.71 1480.39 Q2202.56 1482.55 2205.71 1482.55 Q2208.86 1482.55 2210.69 1480.39 Q2212.54 1478.22 2212.54 1474.49 Q2212.54 1470.74 2210.69 1468.59 Q2208.86 1466.44 2205.71 1466.44 M2214.99 1451.78 L2214.99 1456.04 Q2213.23 1455.21 2211.43 1454.77 Q2209.64 1454.33 2207.89 1454.33 Q2203.26 1454.33 2200.8 1457.45 Q2198.37 1460.58 2198.02 1466.9 Q2199.39 1464.89 2201.45 1463.82 Q2203.51 1462.73 2205.99 1462.73 Q2211.2 1462.73 2214.2 1465.9 Q2217.24 1469.05 2217.24 1474.49 Q2217.24 1479.82 2214.09 1483.03 Q2210.94 1486.25 2205.71 1486.25 Q2199.71 1486.25 2196.54 1481.67 Q2193.37 1477.06 2193.37 1468.33 Q2193.37 1460.14 2197.26 1455.28 Q2201.15 1450.39 2207.7 1450.39 Q2209.46 1450.39 2211.24 1450.74 Q2213.05 1451.09 2214.99 1451.78 Z\" fill=\"#000000\" fill-rule=\"nonzero\" fill-opacity=\"1\" /><path clip-path=\"url(#clip820)\" d=\"M1321.59 1532.4 L1308.7 1549.74 L1322.26 1568.04 L1315.36 1568.04 L1304.98 1554.04 L1294.6 1568.04 L1287.7 1568.04 L1301.54 1549.39 L1288.87 1532.4 L1295.78 1532.4 L1305.23 1545.1 L1314.69 1532.4 L1321.59 1532.4 Z\" fill=\"#000000\" fill-rule=\"nonzero\" fill-opacity=\"1\" /><polyline clip-path=\"url(#clip822)\" style=\"stroke:#000000; stroke-linecap:round; stroke-linejoin:round; stroke-width:2; stroke-opacity:0.1; fill:none\" points=\"257.204,1383.77 2352.76,1383.77 \"/>\n",
       "<polyline clip-path=\"url(#clip822)\" style=\"stroke:#000000; stroke-linecap:round; stroke-linejoin:round; stroke-width:2; stroke-opacity:0.1; fill:none\" points=\"257.204,1059.37 2352.76,1059.37 \"/>\n",
       "<polyline clip-path=\"url(#clip822)\" style=\"stroke:#000000; stroke-linecap:round; stroke-linejoin:round; stroke-width:2; stroke-opacity:0.1; fill:none\" points=\"257.204,734.976 2352.76,734.976 \"/>\n",
       "<polyline clip-path=\"url(#clip822)\" style=\"stroke:#000000; stroke-linecap:round; stroke-linejoin:round; stroke-width:2; stroke-opacity:0.1; fill:none\" points=\"257.204,410.581 2352.76,410.581 \"/>\n",
       "<polyline clip-path=\"url(#clip822)\" style=\"stroke:#000000; stroke-linecap:round; stroke-linejoin:round; stroke-width:2; stroke-opacity:0.1; fill:none\" points=\"257.204,86.1855 2352.76,86.1855 \"/>\n",
       "<polyline clip-path=\"url(#clip820)\" style=\"stroke:#000000; stroke-linecap:round; stroke-linejoin:round; stroke-width:4; stroke-opacity:1; fill:none\" points=\"257.204,1423.18 257.204,47.2441 \"/>\n",
       "<polyline clip-path=\"url(#clip820)\" style=\"stroke:#000000; stroke-linecap:round; stroke-linejoin:round; stroke-width:4; stroke-opacity:1; fill:none\" points=\"257.204,1383.77 276.102,1383.77 \"/>\n",
       "<polyline clip-path=\"url(#clip820)\" style=\"stroke:#000000; stroke-linecap:round; stroke-linejoin:round; stroke-width:4; stroke-opacity:1; fill:none\" points=\"257.204,1059.37 276.102,1059.37 \"/>\n",
       "<polyline clip-path=\"url(#clip820)\" style=\"stroke:#000000; stroke-linecap:round; stroke-linejoin:round; stroke-width:4; stroke-opacity:1; fill:none\" points=\"257.204,734.976 276.102,734.976 \"/>\n",
       "<polyline clip-path=\"url(#clip820)\" style=\"stroke:#000000; stroke-linecap:round; stroke-linejoin:round; stroke-width:4; stroke-opacity:1; fill:none\" points=\"257.204,410.581 276.102,410.581 \"/>\n",
       "<polyline clip-path=\"url(#clip820)\" style=\"stroke:#000000; stroke-linecap:round; stroke-linejoin:round; stroke-width:4; stroke-opacity:1; fill:none\" points=\"257.204,86.1855 276.102,86.1855 \"/>\n",
       "<path clip-path=\"url(#clip820)\" d=\"M114.26 1384.22 L143.936 1384.22 L143.936 1388.15 L114.26 1388.15 L114.26 1384.22 Z\" fill=\"#000000\" fill-rule=\"nonzero\" fill-opacity=\"1\" /><path clip-path=\"url(#clip820)\" d=\"M154.839 1397.11 L162.477 1397.11 L162.477 1370.75 L154.167 1372.41 L154.167 1368.15 L162.431 1366.49 L167.107 1366.49 L167.107 1397.11 L174.746 1397.11 L174.746 1401.05 L154.839 1401.05 L154.839 1397.11 Z\" fill=\"#000000\" fill-rule=\"nonzero\" fill-opacity=\"1\" /><path clip-path=\"url(#clip820)\" d=\"M184.19 1395.17 L189.075 1395.17 L189.075 1401.05 L184.19 1401.05 L184.19 1395.17 Z\" fill=\"#000000\" fill-rule=\"nonzero\" fill-opacity=\"1\" /><path clip-path=\"url(#clip820)\" d=\"M209.26 1369.57 Q205.649 1369.57 203.82 1373.13 Q202.014 1376.67 202.014 1383.8 Q202.014 1390.91 203.82 1394.47 Q205.649 1398.01 209.26 1398.01 Q212.894 1398.01 214.699 1394.47 Q216.528 1390.91 216.528 1383.8 Q216.528 1376.67 214.699 1373.13 Q212.894 1369.57 209.26 1369.57 M209.26 1365.86 Q215.07 1365.86 218.125 1370.47 Q221.204 1375.05 221.204 1383.8 Q221.204 1392.53 218.125 1397.13 Q215.07 1401.72 209.26 1401.72 Q203.449 1401.72 200.371 1397.13 Q197.315 1392.53 197.315 1383.8 Q197.315 1375.05 200.371 1370.47 Q203.449 1365.86 209.26 1365.86 Z\" fill=\"#000000\" fill-rule=\"nonzero\" fill-opacity=\"1\" /><path clip-path=\"url(#clip820)\" d=\"M115.256 1059.82 L144.931 1059.82 L144.931 1063.76 L115.256 1063.76 L115.256 1059.82 Z\" fill=\"#000000\" fill-rule=\"nonzero\" fill-opacity=\"1\" /><path clip-path=\"url(#clip820)\" d=\"M165.024 1045.17 Q161.413 1045.17 159.584 1048.74 Q157.778 1052.28 157.778 1059.41 Q157.778 1066.51 159.584 1070.08 Q161.413 1073.62 165.024 1073.62 Q168.658 1073.62 170.464 1070.08 Q172.292 1066.51 172.292 1059.41 Q172.292 1052.28 170.464 1048.74 Q168.658 1045.17 165.024 1045.17 M165.024 1041.47 Q170.834 1041.47 173.889 1046.07 Q176.968 1050.66 176.968 1059.41 Q176.968 1068.13 173.889 1072.74 Q170.834 1077.32 165.024 1077.32 Q159.214 1077.32 156.135 1072.74 Q153.079 1068.13 153.079 1059.41 Q153.079 1050.66 156.135 1046.07 Q159.214 1041.47 165.024 1041.47 Z\" fill=\"#000000\" fill-rule=\"nonzero\" fill-opacity=\"1\" /><path clip-path=\"url(#clip820)\" d=\"M185.186 1070.77 L190.07 1070.77 L190.07 1076.65 L185.186 1076.65 L185.186 1070.77 Z\" fill=\"#000000\" fill-rule=\"nonzero\" fill-opacity=\"1\" /><path clip-path=\"url(#clip820)\" d=\"M200.301 1042.09 L218.658 1042.09 L218.658 1046.03 L204.584 1046.03 L204.584 1054.5 Q205.602 1054.15 206.621 1053.99 Q207.639 1053.8 208.658 1053.8 Q214.445 1053.8 217.824 1056.98 Q221.204 1060.15 221.204 1065.56 Q221.204 1071.14 217.732 1074.24 Q214.26 1077.32 207.94 1077.32 Q205.764 1077.32 203.496 1076.95 Q201.25 1076.58 198.843 1075.84 L198.843 1071.14 Q200.926 1072.28 203.149 1072.83 Q205.371 1073.39 207.848 1073.39 Q211.852 1073.39 214.19 1071.28 Q216.528 1069.17 216.528 1065.56 Q216.528 1061.95 214.19 1059.85 Q211.852 1057.74 207.848 1057.74 Q205.973 1057.74 204.098 1058.16 Q202.246 1058.57 200.301 1059.45 L200.301 1042.09 Z\" fill=\"#000000\" fill-rule=\"nonzero\" fill-opacity=\"1\" /><path clip-path=\"url(#clip820)\" d=\"M164.028 720.775 Q160.417 720.775 158.589 724.34 Q156.783 727.881 156.783 735.011 Q156.783 742.117 158.589 745.682 Q160.417 749.224 164.028 749.224 Q167.663 749.224 169.468 745.682 Q171.297 742.117 171.297 735.011 Q171.297 727.881 169.468 724.34 Q167.663 720.775 164.028 720.775 M164.028 717.071 Q169.839 717.071 172.894 721.678 Q175.973 726.261 175.973 735.011 Q175.973 743.738 172.894 748.344 Q169.839 752.927 164.028 752.927 Q158.218 752.927 155.14 748.344 Q152.084 743.738 152.084 735.011 Q152.084 726.261 155.14 721.678 Q158.218 717.071 164.028 717.071 Z\" fill=\"#000000\" fill-rule=\"nonzero\" fill-opacity=\"1\" /><path clip-path=\"url(#clip820)\" d=\"M184.19 746.377 L189.075 746.377 L189.075 752.256 L184.19 752.256 L184.19 746.377 Z\" fill=\"#000000\" fill-rule=\"nonzero\" fill-opacity=\"1\" /><path clip-path=\"url(#clip820)\" d=\"M209.26 720.775 Q205.649 720.775 203.82 724.34 Q202.014 727.881 202.014 735.011 Q202.014 742.117 203.82 745.682 Q205.649 749.224 209.26 749.224 Q212.894 749.224 214.699 745.682 Q216.528 742.117 216.528 735.011 Q216.528 727.881 214.699 724.34 Q212.894 720.775 209.26 720.775 M209.26 717.071 Q215.07 717.071 218.125 721.678 Q221.204 726.261 221.204 735.011 Q221.204 743.738 218.125 748.344 Q215.07 752.927 209.26 752.927 Q203.449 752.927 200.371 748.344 Q197.315 743.738 197.315 735.011 Q197.315 726.261 200.371 721.678 Q203.449 717.071 209.26 717.071 Z\" fill=\"#000000\" fill-rule=\"nonzero\" fill-opacity=\"1\" /><path clip-path=\"url(#clip820)\" d=\"M165.024 396.38 Q161.413 396.38 159.584 399.944 Q157.778 403.486 157.778 410.616 Q157.778 417.722 159.584 421.287 Q161.413 424.828 165.024 424.828 Q168.658 424.828 170.464 421.287 Q172.292 417.722 172.292 410.616 Q172.292 403.486 170.464 399.944 Q168.658 396.38 165.024 396.38 M165.024 392.676 Q170.834 392.676 173.889 397.282 Q176.968 401.866 176.968 410.616 Q176.968 419.342 173.889 423.949 Q170.834 428.532 165.024 428.532 Q159.214 428.532 156.135 423.949 Q153.079 419.342 153.079 410.616 Q153.079 401.866 156.135 397.282 Q159.214 392.676 165.024 392.676 Z\" fill=\"#000000\" fill-rule=\"nonzero\" fill-opacity=\"1\" /><path clip-path=\"url(#clip820)\" d=\"M185.186 421.981 L190.07 421.981 L190.07 427.861 L185.186 427.861 L185.186 421.981 Z\" fill=\"#000000\" fill-rule=\"nonzero\" fill-opacity=\"1\" /><path clip-path=\"url(#clip820)\" d=\"M200.301 393.301 L218.658 393.301 L218.658 397.236 L204.584 397.236 L204.584 405.708 Q205.602 405.361 206.621 405.199 Q207.639 405.014 208.658 405.014 Q214.445 405.014 217.824 408.185 Q221.204 411.356 221.204 416.773 Q221.204 422.352 217.732 425.453 Q214.26 428.532 207.94 428.532 Q205.764 428.532 203.496 428.162 Q201.25 427.791 198.843 427.051 L198.843 422.352 Q200.926 423.486 203.149 424.041 Q205.371 424.597 207.848 424.597 Q211.852 424.597 214.19 422.49 Q216.528 420.384 216.528 416.773 Q216.528 413.162 214.19 411.055 Q211.852 408.949 207.848 408.949 Q205.973 408.949 204.098 409.366 Q202.246 409.782 200.301 410.662 L200.301 393.301 Z\" fill=\"#000000\" fill-rule=\"nonzero\" fill-opacity=\"1\" /><path clip-path=\"url(#clip820)\" d=\"M154.839 99.5303 L162.477 99.5303 L162.477 73.1647 L154.167 74.8314 L154.167 70.5721 L162.431 68.9055 L167.107 68.9055 L167.107 99.5303 L174.746 99.5303 L174.746 103.465 L154.839 103.465 L154.839 99.5303 Z\" fill=\"#000000\" fill-rule=\"nonzero\" fill-opacity=\"1\" /><path clip-path=\"url(#clip820)\" d=\"M184.19 97.5859 L189.075 97.5859 L189.075 103.465 L184.19 103.465 L184.19 97.5859 Z\" fill=\"#000000\" fill-rule=\"nonzero\" fill-opacity=\"1\" /><path clip-path=\"url(#clip820)\" d=\"M209.26 71.9842 Q205.649 71.9842 203.82 75.5489 Q202.014 79.0906 202.014 86.2202 Q202.014 93.3266 203.82 96.8914 Q205.649 100.433 209.26 100.433 Q212.894 100.433 214.699 96.8914 Q216.528 93.3266 216.528 86.2202 Q216.528 79.0906 214.699 75.5489 Q212.894 71.9842 209.26 71.9842 M209.26 68.2805 Q215.07 68.2805 218.125 72.8869 Q221.204 77.4702 221.204 86.2202 Q221.204 94.947 218.125 99.5535 Q215.07 104.137 209.26 104.137 Q203.449 104.137 200.371 99.5535 Q197.315 94.947 197.315 86.2202 Q197.315 77.4702 200.371 72.8869 Q203.449 68.2805 209.26 68.2805 Z\" fill=\"#000000\" fill-rule=\"nonzero\" fill-opacity=\"1\" /><path clip-path=\"url(#clip820)\" d=\"M29.4065 807.717 L34.9447 807.717 Q33.6716 810.2 33.035 812.874 Q32.3984 815.547 32.3984 818.412 Q32.3984 822.772 33.7352 824.968 Q35.072 827.133 37.7456 827.133 Q39.7826 827.133 40.9603 825.573 Q42.1061 824.014 43.1565 819.303 L43.6021 817.298 Q44.9389 811.059 47.3897 808.449 Q49.8086 805.808 54.1691 805.808 Q59.1344 805.808 62.0308 809.754 Q64.9272 813.669 64.9272 820.544 Q64.9272 823.409 64.3543 826.528 Q63.8132 829.615 62.6992 833.053 L56.6518 833.053 Q58.3387 829.806 59.198 826.655 Q60.0256 823.504 60.0256 820.417 Q60.0256 816.279 58.6251 814.051 Q57.1929 811.823 54.6147 811.823 Q52.2276 811.823 50.9545 813.447 Q49.6813 815.038 48.5037 820.481 L48.0262 822.518 Q46.8804 827.96 44.5251 830.379 Q42.138 832.798 38.0002 832.798 Q32.9713 832.798 30.2341 829.233 Q27.4968 825.669 27.4968 819.112 Q27.4968 815.865 27.9743 813.001 Q28.4517 810.136 29.4065 807.717 Z\" fill=\"#000000\" fill-rule=\"nonzero\" fill-opacity=\"1\" /><path clip-path=\"url(#clip820)\" d=\"M44.7161 765.99 L47.5806 765.99 L47.5806 792.917 Q53.6281 792.535 56.8109 789.289 Q59.9619 786.01 59.9619 780.186 Q59.9619 776.812 59.1344 773.661 Q58.3069 770.478 56.6518 767.359 L62.1899 767.359 Q63.5267 770.51 64.227 773.82 Q64.9272 777.13 64.9272 780.536 Q64.9272 789.066 59.9619 794.063 Q54.9967 799.028 46.5303 799.028 Q37.7774 799.028 32.6531 794.318 Q27.4968 789.575 27.4968 781.554 Q27.4968 774.361 32.1438 770.192 Q36.7589 765.99 44.7161 765.99 M42.9973 771.847 Q38.1912 771.91 35.3266 774.552 Q32.4621 777.162 32.4621 781.491 Q32.4621 786.392 35.2312 789.352 Q38.0002 792.281 43.0292 792.726 L42.9973 771.847 Z\" fill=\"#000000\" fill-rule=\"nonzero\" fill-opacity=\"1\" /><path clip-path=\"url(#clip820)\" d=\"M42.4881 726.746 L64.0042 726.746 L64.0042 732.602 L42.679 732.602 Q37.6183 732.602 35.1038 734.575 Q32.5894 736.549 32.5894 740.496 Q32.5894 745.238 35.6131 747.975 Q38.6368 750.712 43.8567 750.712 L64.0042 750.712 L64.0042 756.601 L28.3562 756.601 L28.3562 750.712 L33.8944 750.712 Q30.6797 748.612 29.0883 745.779 Q27.4968 742.914 27.4968 739.191 Q27.4968 733.048 31.3163 729.897 Q35.1038 726.746 42.4881 726.746 Z\" fill=\"#000000\" fill-rule=\"nonzero\" fill-opacity=\"1\" /><path clip-path=\"url(#clip820)\" d=\"M14.5426 700.996 Q21.8632 705.261 29.0246 707.33 Q36.186 709.399 43.5384 709.399 Q50.8908 709.399 58.1159 707.33 Q65.3091 705.229 72.5979 700.996 L72.5979 706.089 Q65.1182 710.863 57.8931 713.25 Q50.668 715.606 43.5384 715.606 Q36.4406 715.606 29.2474 713.25 Q22.0542 710.895 14.5426 706.089 L14.5426 700.996 Z\" fill=\"#000000\" fill-rule=\"nonzero\" fill-opacity=\"1\" /><path clip-path=\"url(#clip820)\" d=\"M28.3562 660.001 L45.7028 672.892 L64.0042 659.333 L64.0042 666.24 L49.9996 676.616 L64.0042 686.992 L64.0042 693.899 L45.3526 680.053 L28.3562 692.721 L28.3562 685.814 L41.0558 676.361 L28.3562 666.908 L28.3562 660.001 Z\" fill=\"#000000\" fill-rule=\"nonzero\" fill-opacity=\"1\" /><path clip-path=\"url(#clip820)\" d=\"M14.5426 651.98 L14.5426 646.888 Q22.0542 642.114 29.2474 639.758 Q36.4406 637.371 43.5384 637.371 Q50.668 637.371 57.8931 639.758 Q65.1182 642.114 72.5979 646.888 L72.5979 651.98 Q65.3091 647.747 58.1159 645.678 Q50.8908 643.578 43.5384 643.578 Q36.186 643.578 29.0246 645.678 Q21.8632 647.747 14.5426 651.98 Z\" fill=\"#000000\" fill-rule=\"nonzero\" fill-opacity=\"1\" /><polyline clip-path=\"url(#clip822)\" style=\"stroke:#009af9; stroke-linecap:round; stroke-linejoin:round; stroke-width:4; stroke-opacity:1; fill:none\" points=\"316.512,734.976 319.66,728.488 322.808,722.001 325.956,715.515 329.104,709.031 332.252,702.55 335.4,696.072 338.548,689.598 341.696,683.128 344.844,676.664 347.992,670.205 351.14,663.753 354.288,657.308 357.436,650.871 360.584,644.442 363.732,638.022 366.88,631.612 370.028,625.212 373.176,618.823 376.324,612.446 379.472,606.081 382.62,599.729 385.768,593.391 388.916,587.066 392.064,580.757 395.212,574.463 398.36,568.185 401.508,561.923 404.656,555.679 407.804,549.453 410.952,543.245 414.1,537.057 417.248,530.888 420.396,524.74 423.544,518.613 426.692,512.507 429.84,506.424 432.988,500.363 436.136,494.326 439.284,488.313 442.432,482.325 445.58,476.362 448.728,470.425 451.876,464.514 455.024,458.631 458.172,452.775 461.319,446.947 464.467,441.148 467.615,435.378 470.763,429.638 473.911,423.929 477.059,418.251 480.207,412.605 483.355,406.991 486.503,401.41 489.651,395.862 492.799,390.348 495.947,384.868 499.095,379.423 502.243,374.014 505.391,368.641 508.539,363.305 511.687,358.006 514.835,352.745 517.983,347.521 521.131,342.337 524.279,337.192 527.427,332.086 530.575,327.021 533.723,321.997 536.871,317.014 540.019,312.072 543.167,307.174 546.315,302.317 549.463,297.504 552.611,292.735 555.759,288.01 558.907,283.33 562.055,278.695 565.203,274.106 568.351,269.562 571.499,265.065 574.647,260.616 577.795,256.213 580.943,251.859 584.091,247.552 587.239,243.295 590.387,239.087 593.535,234.928 596.683,230.819 599.831,226.761 602.979,222.753 606.127,218.797 609.275,214.893 612.423,211.04 615.571,207.24 618.719,203.492 621.867,199.798 625.015,196.157 628.163,192.57 631.311,189.038 634.459,185.56 637.607,182.136 640.755,178.769 643.903,175.456 647.051,172.2 650.199,169 653.347,165.857 656.495,162.77 659.643,159.741 662.791,156.769 665.939,153.855 669.087,150.999 672.235,148.202 675.383,145.463 678.531,142.783 681.679,140.163 684.827,137.602 687.975,135.1 691.123,132.659 694.271,130.278 697.419,127.957 700.566,125.697 703.714,123.498 706.862,121.36 710.01,119.284 713.158,117.269 716.306,115.316 719.454,113.424 722.602,111.595 725.75,109.829 728.898,108.124 732.046,106.483 735.194,104.904 738.342,103.388 741.49,101.936 744.638,100.547 747.786,99.2209 750.934,97.9587 754.082,96.7602 757.23,95.6255 760.378,94.5548 763.526,93.5481 766.674,92.6055 769.822,91.7272 772.97,90.9132 776.118,90.1636 779.266,89.4785 782.414,88.8579 785.562,88.302 788.71,87.8107 791.858,87.3841 795.006,87.0223 798.154,86.7253 801.302,86.4931 804.45,86.3258 807.598,86.2233 810.746,86.1857 813.894,86.2129 817.042,86.3051 820.19,86.4621 823.338,86.684 826.486,86.9707 829.634,87.3222 832.782,87.7384 835.93,88.2194 839.078,88.7651 842.226,89.3753 845.374,90.0502 848.522,90.7895 851.67,91.5933 854.818,92.4613 857.966,93.3937 861.114,94.3902 864.262,95.4507 867.41,96.5752 870.558,97.7636 873.706,99.0156 876.854,100.331 880.002,101.71 883.15,103.153 886.298,104.659 889.446,106.227 892.594,107.859 895.742,109.553 898.89,111.31 902.038,113.129 905.186,115.01 908.334,116.954 911.482,118.959 914.63,121.025 917.778,123.154 920.926,125.343 924.074,127.593 927.222,129.904 930.37,132.276 933.518,134.708 936.666,137.199 939.813,139.751 942.961,142.362 946.109,145.032 949.257,147.762 952.405,150.55 955.553,153.396 958.701,156.301 961.849,159.264 964.997,162.284 968.145,165.361 971.293,168.496 974.441,171.687 977.589,174.934 980.737,178.237 983.885,181.596 987.033,185.011 990.181,188.48 993.329,192.004 996.477,195.582 999.625,199.214 1002.77,202.9 1005.92,206.639 1009.07,210.431 1012.22,214.275 1015.37,218.172 1018.51,222.12 1021.66,226.119 1024.81,230.169 1027.96,234.27 1031.11,238.421 1034.25,242.621 1037.4,246.871 1040.55,251.169 1043.7,255.516 1046.85,259.911 1049.99,264.353 1053.14,268.843 1056.29,273.379 1059.44,277.961 1062.58,282.589 1065.73,287.262 1068.88,291.98 1072.03,296.742 1075.18,301.548 1078.32,306.397 1081.47,311.289 1084.62,316.224 1087.77,321.2 1090.92,326.218 1094.06,331.276 1097.21,336.375 1100.36,341.514 1103.51,346.693 1106.66,351.91 1109.8,357.165 1112.95,362.458 1116.1,367.788 1119.25,373.156 1122.4,378.559 1125.54,383.998 1128.69,389.472 1131.84,394.98 1134.99,400.523 1138.14,406.099 1141.28,411.708 1144.43,417.349 1147.58,423.022 1150.73,428.726 1153.88,434.461 1157.02,440.226 1160.17,446.02 1163.32,451.843 1166.47,457.695 1169.62,463.574 1172.76,469.48 1175.91,475.413 1179.06,481.372 1182.21,487.356 1185.36,493.365 1188.5,499.398 1191.65,505.455 1194.8,511.535 1197.95,517.637 1201.1,523.76 1204.24,529.905 1207.39,536.07 1210.54,542.255 1213.69,548.46 1216.84,554.683 1219.98,560.924 1223.13,567.183 1226.28,573.458 1229.43,579.749 1232.58,586.056 1235.72,592.378 1238.87,598.714 1242.02,605.064 1245.17,611.426 1248.32,617.801 1251.46,624.188 1254.61,630.586 1257.76,636.994 1260.91,643.412 1264.06,649.839 1267.2,656.275 1270.35,662.718 1273.5,669.169 1276.65,675.626 1279.8,682.089 1282.94,688.557 1286.09,695.03 1289.24,701.507 1292.39,707.988 1295.54,714.471 1298.68,720.956 1301.83,727.442 1304.98,733.929 1308.13,740.416 1311.28,746.903 1314.42,753.388 1317.57,759.872 1320.72,766.353 1323.87,772.831 1327.02,779.305 1330.16,785.774 1333.31,792.239 1336.46,798.697 1339.61,805.149 1342.76,811.595 1345.9,818.032 1349.05,824.461 1352.2,830.881 1355.35,837.292 1358.5,843.692 1361.64,850.081 1364.79,856.459 1367.94,862.824 1371.09,869.176 1374.24,875.516 1377.38,881.841 1380.53,888.151 1383.68,894.445 1386.83,900.724 1389.98,906.986 1393.12,913.231 1396.27,919.458 1399.42,925.666 1402.57,931.856 1405.72,938.025 1408.86,944.174 1412.01,950.302 1415.16,956.408 1418.31,962.492 1421.46,968.554 1424.6,974.591 1427.75,980.605 1430.9,986.594 1434.05,992.557 1437.2,998.495 1440.34,1004.41 1443.49,1010.29 1446.64,1016.15 1449.79,1021.97 1452.94,1027.77 1456.08,1033.54 1459.23,1039.28 1462.38,1044.99 1465.53,1050.67 1468.68,1056.32 1471.82,1061.93 1474.97,1067.51 1478.12,1073.06 1481.27,1078.57 1484.42,1084.05 1487.56,1089.49 1490.71,1094.9 1493.86,1100.27 1497.01,1105.61 1500.16,1110.9 1503.3,1116.16 1506.45,1121.39 1509.6,1126.57 1512.75,1131.71 1515.9,1136.81 1519.04,1141.87 1522.19,1146.89 1525.34,1151.87 1528.49,1156.81 1531.64,1161.71 1534.78,1166.56 1537.93,1171.36 1541.08,1176.13 1544.23,1180.85 1547.37,1185.52 1550.52,1190.15 1553.67,1194.73 1556.82,1199.27 1559.97,1203.76 1563.11,1208.2 1566.26,1212.59 1569.41,1216.94 1572.56,1221.23 1575.71,1225.48 1578.85,1229.68 1582,1233.82 1585.15,1237.92 1588.3,1241.97 1591.45,1245.96 1594.59,1249.9 1597.74,1253.79 1600.89,1257.63 1604.04,1261.41 1607.19,1265.14 1610.33,1268.82 1613.48,1272.44 1616.63,1276.01 1619.78,1279.52 1622.93,1282.97 1626.07,1286.37 1629.22,1289.72 1632.37,1293 1635.52,1296.23 1638.67,1299.41 1641.81,1302.52 1644.96,1305.58 1648.11,1308.58 1651.26,1311.52 1654.41,1314.4 1657.55,1317.22 1660.7,1319.98 1663.85,1322.68 1667,1325.32 1670.15,1327.9 1673.29,1330.42 1676.44,1332.88 1679.59,1335.27 1682.74,1337.61 1685.89,1339.88 1689.03,1342.09 1692.18,1344.23 1695.33,1346.32 1698.48,1348.34 1701.63,1350.29 1704.77,1352.18 1707.92,1354.01 1711.07,1355.77 1714.22,1357.47 1717.37,1359.11 1720.51,1360.67 1723.66,1362.18 1726.81,1363.61 1729.96,1364.99 1733.11,1366.29 1736.25,1367.53 1739.4,1368.7 1742.55,1369.81 1745.7,1370.84 1748.85,1371.82 1751.99,1372.72 1755.14,1373.56 1758.29,1374.32 1761.44,1375.02 1764.59,1375.66 1767.73,1376.22 1770.88,1376.72 1774.03,1377.14 1777.18,1377.5 1780.33,1377.79 1783.47,1378.01 1786.62,1378.16 1789.77,1378.24 1792.92,1378.25 1796.07,1378.19 1799.21,1378.06 1802.36,1377.86 1805.51,1377.59 1808.66,1377.25 1811.81,1376.84 1814.95,1376.36 1818.1,1375.81 1821.25,1375.18 1824.4,1374.49 1827.55,1373.72 1830.69,1372.88 1833.84,1371.98 1836.99,1371 1840.14,1369.94 1843.29,1368.82 1846.43,1367.63 1849.58,1366.36 1852.73,1365.02 1855.88,1363.61 1859.03,1362.12 1862.17,1360.56 1865.32,1358.93 1868.47,1357.23 1871.62,1355.46 1874.77,1353.61 1877.91,1351.69 1881.06,1349.69 1884.21,1347.63 1887.36,1345.49 1890.51,1343.27 1893.65,1340.98 1896.8,1338.62 1899.95,1336.19 1903.1,1333.68 1906.25,1331.1 1909.39,1328.44 1912.54,1325.71 1915.69,1322.9 1918.84,1320.02 1921.99,1317.07 1925.13,1314.04 1928.28,1310.93 1931.43,1307.76 1934.58,1304.5 1937.73,1301.17 1940.87,1297.77 1944.02,1294.29 1947.17,1290.73 1950.32,1287.1 1953.47,1283.39 1956.61,1279.61 1959.76,1275.75 1962.91,1271.82 1966.06,1267.81 1969.21,1263.72 1972.35,1259.55 1975.5,1255.31 1978.65,1250.99 1981.8,1246.59 1984.95,1242.12 1988.09,1237.56 1991.24,1232.93 1994.39,1228.22 1997.54,1223.44 2000.69,1218.57 2003.83,1213.62 2006.98,1208.6 2010.13,1203.5 2013.28,1198.31 2016.42,1193.05 2019.57,1187.7 2022.72,1182.28 2025.87,1176.77 2029.02,1171.18 2032.16,1165.51 2035.31,1159.76 2038.46,1153.93 2041.61,1148.01 2044.76,1142.01 2047.9,1135.93 2051.05,1129.76 2054.2,1123.51 2057.35,1117.17 2060.5,1110.75 2063.64,1104.25 2066.79,1097.65 2069.94,1090.97 2073.09,1084.2 2076.24,1077.35 2079.38,1070.4 2082.53,1063.37 2085.68,1056.24 2088.83,1049.03 2091.98,1041.73 2095.12,1034.33 2098.27,1026.84 2101.42,1019.26 2104.57,1011.59 2107.72,1003.82 2110.86,995.952 2114.01,987.992 2117.16,979.935 2120.31,971.78 2123.46,963.527 2126.6,955.174 2129.75,946.722 2132.9,938.168 2136.05,929.511 2139.2,920.752 2142.34,911.888 2145.49,902.919 2148.64,893.844 2151.79,884.661 2154.94,875.37 2158.08,865.969 2161.23,856.457 2164.38,846.832 2167.53,837.094 2170.68,827.241 2173.82,817.272 2176.97,807.186 2180.12,796.98 2183.27,786.654 2186.42,776.206 2189.56,765.634 2192.71,754.937 2195.86,744.113 2199.01,733.161 2202.16,722.079 2205.3,710.865 2208.45,699.518 2211.6,688.034 2214.75,676.414 2217.9,664.654 2221.04,652.753 2224.19,640.708 2227.34,628.518 2230.49,616.18 2233.64,603.693 2236.78,591.053 2239.93,578.26 2243.08,565.309 2246.23,552.2 2249.38,538.929 2252.52,525.494 2255.67,511.892 2258.82,498.121 2261.97,484.178 2265.12,470.06 2268.26,455.765 2271.41,441.289 2274.56,426.63 2277.71,411.784 2280.86,396.748 2284,381.52 2287.15,366.096 2290.3,350.473 2293.45,334.646 \"/>\n",
       "<polyline clip-path=\"url(#clip822)\" style=\"stroke:#e26f46; stroke-linecap:round; stroke-linejoin:round; stroke-width:4; stroke-opacity:1; fill:none\" points=\"316.512,734.976 319.66,728.488 322.808,722.001 325.956,715.515 329.104,709.031 332.252,702.55 335.4,696.072 338.548,689.598 341.696,683.128 344.844,676.664 347.992,670.205 351.14,663.753 354.288,657.308 357.436,650.871 360.584,644.442 363.732,638.022 366.88,631.612 370.028,625.212 373.176,618.823 376.324,612.446 379.472,606.081 382.62,599.729 385.768,593.391 388.916,587.066 392.064,580.757 395.212,574.463 398.36,568.185 401.508,561.923 404.656,555.679 407.804,549.453 410.952,543.245 414.1,537.057 417.248,530.888 420.396,524.74 423.544,518.613 426.692,512.507 429.84,506.424 432.988,500.363 436.136,494.326 439.284,488.313 442.432,482.325 445.58,476.362 448.728,470.425 451.876,464.514 455.024,458.631 458.172,452.775 461.319,446.947 464.467,441.148 467.615,435.378 470.763,429.638 473.911,423.929 477.059,418.251 480.207,412.605 483.355,406.991 486.503,401.41 489.651,395.862 492.799,390.348 495.947,384.868 499.095,379.423 502.243,374.014 505.391,368.641 508.539,363.305 511.687,358.006 514.835,352.745 517.983,347.521 521.131,342.337 524.279,337.192 527.427,332.086 530.575,327.021 533.723,321.997 536.871,317.014 540.019,312.072 543.167,307.174 546.315,302.317 549.463,297.504 552.611,292.735 555.759,288.01 558.907,283.33 562.055,278.695 565.203,274.106 568.351,269.562 571.499,265.065 574.647,260.616 577.795,256.213 580.943,251.859 584.091,247.552 587.239,243.295 590.387,239.087 593.535,234.928 596.683,230.819 599.831,226.761 602.979,222.753 606.127,218.797 609.275,214.893 612.423,211.04 615.571,207.24 618.719,203.492 621.867,199.798 625.015,196.157 628.163,192.57 631.311,189.038 634.459,185.56 637.607,182.136 640.755,178.769 643.903,175.456 647.051,172.2 650.199,169 653.347,165.857 656.495,162.77 659.643,159.741 662.791,156.769 665.939,153.855 669.087,150.999 672.235,148.202 675.383,145.463 678.531,142.783 681.679,140.163 684.827,137.602 687.975,135.1 691.123,132.659 694.271,130.278 697.419,127.957 700.566,125.697 703.714,123.498 706.862,121.36 710.01,119.284 713.158,117.269 716.306,115.316 719.454,113.424 722.602,111.595 725.75,109.829 728.898,108.124 732.046,106.483 735.194,104.904 738.342,103.388 741.49,101.936 744.638,100.547 747.786,99.2209 750.934,97.9587 754.082,96.7602 757.23,95.6255 760.378,94.5548 763.526,93.5481 766.674,92.6055 769.822,91.7272 772.97,90.9132 776.118,90.1636 779.266,89.4785 782.414,88.8579 785.562,88.302 788.71,87.8107 791.858,87.3841 795.006,87.0223 798.154,86.7253 801.302,86.4931 804.45,86.3258 807.598,86.2233 810.746,86.1857 813.894,86.2129 817.042,86.3051 820.19,86.4621 823.338,86.684 826.486,86.9707 829.634,87.3222 832.782,87.7384 835.93,88.2194 839.078,88.7651 842.226,89.3753 845.374,90.0502 848.522,90.7895 851.67,91.5933 854.818,92.4613 857.966,93.3937 861.114,94.3902 864.262,95.4507 867.41,96.5752 870.558,97.7636 873.706,99.0156 876.854,100.331 880.002,101.71 883.15,103.153 886.298,104.659 889.446,106.227 892.594,107.859 895.742,109.553 898.89,111.31 902.038,113.129 905.186,115.01 908.334,116.954 911.482,118.959 914.63,121.025 917.778,123.154 920.926,125.343 924.074,127.593 927.222,129.904 930.37,132.276 933.518,134.708 936.666,137.199 939.813,139.751 942.961,142.362 946.109,145.032 949.257,147.762 952.405,150.55 955.553,153.396 958.701,156.301 961.849,159.264 964.997,162.284 968.145,165.361 971.293,168.496 974.441,171.687 977.589,174.934 980.737,178.237 983.885,181.596 987.033,185.011 990.181,188.48 993.329,192.004 996.477,195.582 999.625,199.215 1002.77,202.9 1005.92,206.639 1009.07,210.431 1012.22,214.276 1015.37,218.172 1018.51,222.12 1021.66,226.119 1024.81,230.17 1027.96,234.27 1031.11,238.421 1034.25,242.621 1037.4,246.871 1040.55,251.17 1043.7,255.516 1046.85,259.911 1049.99,264.354 1053.14,268.843 1056.29,273.379 1059.44,277.961 1062.58,282.589 1065.73,287.262 1068.88,291.98 1072.03,296.742 1075.18,301.548 1078.32,306.397 1081.47,311.289 1084.62,316.224 1087.77,321.2 1090.92,326.218 1094.06,331.277 1097.21,336.376 1100.36,341.515 1103.51,346.693 1106.66,351.91 1109.8,357.165 1112.95,362.459 1116.1,367.789 1119.25,373.156 1122.4,378.559 1125.54,383.998 1128.69,389.472 1131.84,394.981 1134.99,400.524 1138.14,406.1 1141.28,411.709 1144.43,417.35 1147.58,423.023 1150.73,428.727 1153.88,434.462 1157.02,440.227 1160.17,446.021 1163.32,451.845 1166.47,457.696 1169.62,463.575 1172.76,469.482 1175.91,475.415 1179.06,481.374 1182.21,487.358 1185.36,493.367 1188.5,499.4 1191.65,505.457 1194.8,511.537 1197.95,517.639 1201.1,523.763 1204.24,529.908 1207.39,536.073 1210.54,542.259 1213.69,548.463 1216.84,554.686 1219.98,560.928 1223.13,567.186 1226.28,573.462 1229.43,579.754 1232.58,586.061 1235.72,592.383 1238.87,598.719 1242.02,605.069 1245.17,611.432 1248.32,617.807 1251.46,624.194 1254.61,630.592 1257.76,637.001 1260.91,643.419 1264.06,649.847 1267.2,656.283 1270.35,662.726 1273.5,669.177 1276.65,675.635 1279.8,682.099 1282.94,688.568 1286.09,695.041 1289.24,701.519 1292.39,707.999 1295.54,714.483 1298.68,720.969 1301.83,727.456 1304.98,733.943 1308.13,740.431 1311.28,746.919 1314.42,753.405 1317.57,759.889 1320.72,766.371 1323.87,772.849 1327.02,779.324 1330.16,785.795 1333.31,792.26 1336.46,798.72 1339.61,805.173 1342.76,811.619 1345.9,818.058 1349.05,824.488 1352.2,830.91 1355.35,837.321 1358.5,843.723 1361.64,850.113 1364.79,856.493 1367.94,862.86 1371.09,869.214 1374.24,875.555 1377.38,881.881 1380.53,888.193 1383.68,894.49 1386.83,900.771 1389.98,907.035 1393.12,913.282 1396.27,919.511 1399.42,925.722 1402.57,931.914 1405.72,938.086 1408.86,944.237 1412.01,950.368 1415.16,956.477 1418.31,962.564 1421.46,968.629 1424.6,974.669 1427.75,980.686 1430.9,986.679 1434.05,992.646 1437.2,998.588 1440.34,1004.5 1443.49,1010.39 1446.64,1016.25 1449.79,1022.08 1452.94,1027.89 1456.08,1033.66 1459.23,1039.41 1462.38,1045.12 1465.53,1050.81 1468.68,1056.46 1471.82,1062.08 1474.97,1067.66 1478.12,1073.22 1481.27,1078.74 1484.42,1084.22 1487.56,1089.67 1490.71,1095.09 1493.86,1100.47 1497.01,1105.81 1500.16,1111.12 1503.3,1116.38 1506.45,1121.61 1509.6,1126.8 1512.75,1131.96 1515.9,1137.07 1519.04,1142.14 1522.19,1147.17 1525.34,1152.16 1528.49,1157.11 1531.64,1162.02 1534.78,1166.88 1537.93,1171.7 1541.08,1176.48 1544.23,1181.21 1547.37,1185.9 1550.52,1190.54 1553.67,1195.14 1556.82,1199.69 1559.97,1204.2 1563.11,1208.66 1566.26,1213.07 1569.41,1217.43 1572.56,1221.75 1575.71,1226.01 1578.85,1230.23 1582,1234.4 1585.15,1238.52 1588.3,1242.58 1591.45,1246.6 1594.59,1250.57 1597.74,1254.48 1600.89,1258.34 1604.04,1262.15 1607.19,1265.91 1610.33,1269.62 1613.48,1273.27 1616.63,1276.87 1619.78,1280.41 1622.93,1283.9 1626.07,1287.33 1629.22,1290.71 1632.37,1294.04 1635.52,1297.3 1638.67,1300.51 1641.81,1303.67 1644.96,1306.77 1648.11,1309.81 1651.26,1312.79 1654.41,1315.72 1657.55,1318.59 1660.7,1321.4 1663.85,1324.15 1667,1326.84 1670.15,1329.48 1673.29,1332.05 1676.44,1334.57 1679.59,1337.02 1682.74,1339.42 1685.89,1341.75 1689.03,1344.03 1692.18,1346.24 1695.33,1348.39 1698.48,1350.49 1701.63,1352.52 1704.77,1354.49 1707.92,1356.39 1711.07,1358.24 1714.22,1360.02 1717.37,1361.74 1720.51,1363.4 1723.66,1365 1726.81,1366.53 1729.96,1368 1733.11,1369.41 1736.25,1370.75 1739.4,1372.03 1742.55,1373.25 1745.7,1374.4 1748.85,1375.5 1751.99,1376.52 1755.14,1377.49 1758.29,1378.38 1761.44,1379.22 1764.59,1379.99 1767.73,1380.7 1770.88,1381.34 1774.03,1381.92 1777.18,1382.44 1780.33,1382.89 1783.47,1383.27 1786.62,1383.59 1789.77,1383.85 1792.92,1384.04 1796.07,1384.17 1799.21,1384.24 1802.36,1384.24 1805.51,1384.17 1808.66,1384.05 1811.81,1383.85 1814.95,1383.6 1818.1,1383.28 1821.25,1382.89 1824.4,1382.44 1827.55,1381.93 1830.69,1381.35 1833.84,1380.71 1836.99,1380.01 1840.14,1379.24 1843.29,1378.41 1846.43,1377.51 1849.58,1376.56 1852.73,1375.54 1855.88,1374.45 1859.03,1373.3 1862.17,1372.09 1865.32,1370.82 1868.47,1369.49 1871.62,1368.09 1874.77,1366.63 1877.91,1365.11 1881.06,1363.53 1884.21,1361.88 1887.36,1360.18 1890.51,1358.41 1893.65,1356.59 1896.8,1354.7 1899.95,1352.75 1903.1,1350.74 1906.25,1348.67 1909.39,1346.55 1912.54,1344.36 1915.69,1342.11 1918.84,1339.81 1921.99,1337.45 1925.13,1335.02 1928.28,1332.54 1931.43,1330.01 1934.58,1327.41 1937.73,1324.76 1940.87,1322.05 1944.02,1319.29 1947.17,1316.47 1950.32,1313.59 1953.47,1310.66 1956.61,1307.68 1959.76,1304.64 1962.91,1301.54 1966.06,1298.39 1969.21,1295.19 1972.35,1291.94 1975.5,1288.63 1978.65,1285.27 1981.8,1281.86 1984.95,1278.4 1988.09,1274.89 1991.24,1271.33 1994.39,1267.72 1997.54,1264.05 2000.69,1260.34 2003.83,1256.59 2006.98,1252.78 2010.13,1248.93 2013.28,1245.02 2016.42,1241.08 2019.57,1237.08 2022.72,1233.05 2025.87,1228.96 2029.02,1224.84 2032.16,1220.67 2035.31,1216.45 2038.46,1212.2 2041.61,1207.9 2044.76,1203.56 2047.9,1199.18 2051.05,1194.76 2054.2,1190.3 2057.35,1185.8 2060.5,1181.26 2063.64,1176.69 2066.79,1172.08 2069.94,1167.43 2073.09,1162.75 2076.24,1158.03 2079.38,1153.28 2082.53,1148.49 2085.68,1143.67 2088.83,1138.82 2091.98,1133.94 2095.12,1129.03 2098.27,1124.08 2101.42,1119.11 2104.57,1114.11 2107.72,1109.08 2110.86,1104.03 2114.01,1098.95 2117.16,1093.84 2120.31,1088.71 2123.46,1083.56 2126.6,1078.38 2129.75,1073.18 2132.9,1067.96 2136.05,1062.72 2139.2,1057.46 2142.34,1052.18 2145.49,1046.88 2148.64,1041.57 2151.79,1036.24 2154.94,1030.89 2158.08,1025.54 2161.23,1020.16 2164.38,1014.78 2167.53,1009.39 2170.68,1003.98 2173.82,998.567 2176.97,993.145 2180.12,987.715 2183.27,982.279 2186.42,976.838 2189.56,971.393 2192.71,965.945 2195.86,960.495 2199.01,955.044 2202.16,949.593 2205.3,944.143 2208.45,938.696 2211.6,933.252 2214.75,927.813 2217.9,922.38 2221.04,916.954 2224.19,911.537 2227.34,906.128 2230.49,900.73 2233.64,895.344 2236.78,889.972 2239.93,884.613 2243.08,879.271 2246.23,873.945 2249.38,868.638 2252.52,863.35 2255.67,858.083 2258.82,852.838 2261.97,847.617 2265.12,842.422 2268.26,837.252 2271.41,832.111 2274.56,826.999 2277.71,821.918 2280.86,816.869 2284,811.854 2287.15,806.874 2290.3,801.931 2293.45,797.027 \"/>\n",
       "<polyline clip-path=\"url(#clip822)\" style=\"stroke:#3da44d; stroke-linecap:round; stroke-linejoin:round; stroke-width:4; stroke-opacity:1; fill:none\" points=\"316.512,734.976 319.66,728.488 322.808,722.001 325.956,715.515 329.104,709.031 332.252,702.55 335.4,696.072 338.548,689.598 341.696,683.128 344.844,676.664 347.992,670.205 351.14,663.753 354.288,657.308 357.436,650.871 360.584,644.442 363.732,638.022 366.88,631.612 370.028,625.212 373.176,618.823 376.324,612.446 379.472,606.081 382.62,599.729 385.768,593.391 388.916,587.066 392.064,580.757 395.212,574.463 398.36,568.185 401.508,561.923 404.656,555.679 407.804,549.453 410.952,543.245 414.1,537.057 417.248,530.888 420.396,524.74 423.544,518.613 426.692,512.507 429.84,506.424 432.988,500.363 436.136,494.326 439.284,488.313 442.432,482.325 445.58,476.362 448.728,470.425 451.876,464.514 455.024,458.631 458.172,452.775 461.319,446.947 464.467,441.148 467.615,435.378 470.763,429.638 473.911,423.929 477.059,418.251 480.207,412.605 483.355,406.991 486.503,401.41 489.651,395.862 492.799,390.348 495.947,384.868 499.095,379.423 502.243,374.014 505.391,368.641 508.539,363.305 511.687,358.006 514.835,352.745 517.983,347.521 521.131,342.337 524.279,337.192 527.427,332.086 530.575,327.021 533.723,321.997 536.871,317.014 540.019,312.072 543.167,307.174 546.315,302.317 549.463,297.504 552.611,292.735 555.759,288.01 558.907,283.33 562.055,278.695 565.203,274.106 568.351,269.562 571.499,265.065 574.647,260.616 577.795,256.213 580.943,251.859 584.091,247.552 587.239,243.295 590.387,239.087 593.535,234.928 596.683,230.819 599.831,226.761 602.979,222.753 606.127,218.797 609.275,214.893 612.423,211.04 615.571,207.24 618.719,203.492 621.867,199.798 625.015,196.157 628.163,192.57 631.311,189.038 634.459,185.56 637.607,182.136 640.755,178.769 643.903,175.456 647.051,172.2 650.199,169 653.347,165.857 656.495,162.77 659.643,159.741 662.791,156.769 665.939,153.855 669.087,150.999 672.235,148.202 675.383,145.463 678.531,142.783 681.679,140.163 684.827,137.602 687.975,135.1 691.123,132.659 694.271,130.278 697.419,127.957 700.566,125.697 703.714,123.498 706.862,121.36 710.01,119.284 713.158,117.269 716.306,115.316 719.454,113.424 722.602,111.595 725.75,109.829 728.898,108.124 732.046,106.483 735.194,104.904 738.342,103.388 741.49,101.936 744.638,100.547 747.786,99.2209 750.934,97.9587 754.082,96.7602 757.23,95.6255 760.378,94.5548 763.526,93.5481 766.674,92.6055 769.822,91.7272 772.97,90.9132 776.118,90.1636 779.266,89.4785 782.414,88.8579 785.562,88.302 788.71,87.8107 791.858,87.3841 795.006,87.0223 798.154,86.7253 801.302,86.4931 804.45,86.3258 807.598,86.2233 810.746,86.1857 813.894,86.2129 817.042,86.3051 820.19,86.4621 823.338,86.684 826.486,86.9707 829.634,87.3222 832.782,87.7384 835.93,88.2194 839.078,88.7651 842.226,89.3753 845.374,90.0502 848.522,90.7895 851.67,91.5933 854.818,92.4613 857.966,93.3937 861.114,94.3902 864.262,95.4507 867.41,96.5752 870.558,97.7636 873.706,99.0156 876.854,100.331 880.002,101.71 883.15,103.153 886.298,104.659 889.446,106.227 892.594,107.859 895.742,109.553 898.89,111.31 902.038,113.129 905.186,115.01 908.334,116.954 911.482,118.959 914.63,121.025 917.778,123.154 920.926,125.343 924.074,127.593 927.222,129.904 930.37,132.276 933.518,134.708 936.666,137.199 939.813,139.751 942.961,142.362 946.109,145.032 949.257,147.762 952.405,150.55 955.553,153.396 958.701,156.301 961.849,159.264 964.997,162.284 968.145,165.361 971.293,168.496 974.441,171.687 977.589,174.934 980.737,178.237 983.885,181.596 987.033,185.011 990.181,188.48 993.329,192.004 996.477,195.582 999.625,199.215 1002.77,202.9 1005.92,206.639 1009.07,210.431 1012.22,214.276 1015.37,218.172 1018.51,222.12 1021.66,226.119 1024.81,230.17 1027.96,234.27 1031.11,238.421 1034.25,242.621 1037.4,246.871 1040.55,251.17 1043.7,255.516 1046.85,259.911 1049.99,264.354 1053.14,268.843 1056.29,273.379 1059.44,277.961 1062.58,282.589 1065.73,287.262 1068.88,291.98 1072.03,296.742 1075.18,301.548 1078.32,306.397 1081.47,311.289 1084.62,316.224 1087.77,321.2 1090.92,326.218 1094.06,331.277 1097.21,336.376 1100.36,341.515 1103.51,346.693 1106.66,351.91 1109.8,357.165 1112.95,362.459 1116.1,367.789 1119.25,373.156 1122.4,378.559 1125.54,383.998 1128.69,389.472 1131.84,394.981 1134.99,400.524 1138.14,406.1 1141.28,411.709 1144.43,417.35 1147.58,423.023 1150.73,428.727 1153.88,434.462 1157.02,440.227 1160.17,446.021 1163.32,451.845 1166.47,457.696 1169.62,463.575 1172.76,469.482 1175.91,475.415 1179.06,481.374 1182.21,487.358 1185.36,493.367 1188.5,499.4 1191.65,505.457 1194.8,511.537 1197.95,517.639 1201.1,523.763 1204.24,529.908 1207.39,536.073 1210.54,542.259 1213.69,548.463 1216.84,554.686 1219.98,560.928 1223.13,567.186 1226.28,573.462 1229.43,579.753 1232.58,586.061 1235.72,592.383 1238.87,598.719 1242.02,605.069 1245.17,611.432 1248.32,617.807 1251.46,624.194 1254.61,630.592 1257.76,637.001 1260.91,643.419 1264.06,649.846 1267.2,656.282 1270.35,662.726 1273.5,669.177 1276.65,675.635 1279.8,682.098 1282.94,688.567 1286.09,695.041 1289.24,701.518 1292.39,707.999 1295.54,714.483 1298.68,720.968 1301.83,727.455 1304.98,733.943 1308.13,740.431 1311.28,746.918 1314.42,753.404 1317.57,759.888 1320.72,766.37 1323.87,772.849 1327.02,779.324 1330.16,785.794 1333.31,792.259 1336.46,798.719 1339.61,805.172 1342.76,811.618 1345.9,818.057 1349.05,824.487 1352.2,830.908 1355.35,837.32 1358.5,843.722 1361.64,850.112 1364.79,856.491 1367.94,862.858 1371.09,869.212 1374.24,875.553 1377.38,881.88 1380.53,888.192 1383.68,894.488 1386.83,900.769 1389.98,907.033 1393.12,913.28 1396.27,919.509 1399.42,925.719 1402.57,931.911 1405.72,938.083 1408.86,944.234 1412.01,950.365 1415.16,956.474 1418.31,962.561 1421.46,968.625 1424.6,974.666 1427.75,980.683 1430.9,986.675 1434.05,992.642 1437.2,998.583 1440.34,1004.5 1443.49,1010.39 1446.64,1016.25 1449.79,1022.08 1452.94,1027.88 1456.08,1033.66 1459.23,1039.4 1462.38,1045.12 1465.53,1050.8 1468.68,1056.45 1471.82,1062.07 1474.97,1067.66 1478.12,1073.21 1481.27,1078.73 1484.42,1084.21 1487.56,1089.66 1490.71,1095.08 1493.86,1100.46 1497.01,1105.8 1500.16,1111.1 1503.3,1116.37 1506.45,1121.6 1509.6,1126.79 1512.75,1131.94 1515.9,1137.06 1519.04,1142.13 1522.19,1147.16 1525.34,1152.15 1528.49,1157.1 1531.64,1162 1534.78,1166.86 1537.93,1171.68 1541.08,1176.46 1544.23,1181.19 1547.37,1185.88 1550.52,1190.52 1553.67,1195.12 1556.82,1199.67 1559.97,1204.17 1563.11,1208.63 1566.26,1213.04 1569.41,1217.4 1572.56,1221.72 1575.71,1225.98 1578.85,1230.2 1582,1234.36 1585.15,1238.48 1588.3,1242.55 1591.45,1246.56 1594.59,1250.53 1597.74,1254.44 1600.89,1258.3 1604.04,1262.11 1607.19,1265.86 1610.33,1269.57 1613.48,1273.22 1616.63,1276.81 1619.78,1280.35 1622.93,1283.84 1626.07,1287.27 1629.22,1290.65 1632.37,1293.97 1635.52,1297.23 1638.67,1300.44 1641.81,1303.6 1644.96,1306.69 1648.11,1309.73 1651.26,1312.71 1654.41,1315.63 1657.55,1318.5 1660.7,1321.3 1663.85,1324.05 1667,1326.74 1670.15,1329.37 1673.29,1331.94 1676.44,1334.45 1679.59,1336.9 1682.74,1339.29 1685.89,1341.62 1689.03,1343.89 1692.18,1346.1 1695.33,1348.25 1698.48,1350.33 1701.63,1352.36 1704.77,1354.32 1707.92,1356.22 1711.07,1358.06 1714.22,1359.84 1717.37,1361.55 1720.51,1363.2 1723.66,1364.79 1726.81,1366.31 1729.96,1367.78 1733.11,1369.18 1736.25,1370.51 1739.4,1371.78 1742.55,1372.99 1745.7,1374.13 1748.85,1375.22 1751.99,1376.23 1755.14,1377.18 1758.29,1378.07 1761.44,1378.89 1764.59,1379.65 1767.73,1380.35 1770.88,1380.98 1774.03,1381.54 1777.18,1382.04 1780.33,1382.48 1783.47,1382.85 1786.62,1383.16 1789.77,1383.4 1792.92,1383.58 1796.07,1383.69 1799.21,1383.73 1802.36,1383.72 1805.51,1383.63 1808.66,1383.48 1811.81,1383.27 1814.95,1382.99 1818.1,1382.65 1821.25,1382.24 1824.4,1381.77 1827.55,1381.23 1830.69,1380.63 1833.84,1379.97 1836.99,1379.23 1840.14,1378.44 1843.29,1377.58 1846.43,1376.66 1849.58,1375.67 1852.73,1374.61 1855.88,1373.5 1859.03,1372.32 1862.17,1371.07 1865.32,1369.76 1868.47,1368.39 1871.62,1366.96 1874.77,1365.46 1877.91,1363.9 1881.06,1362.27 1884.21,1360.58 1887.36,1358.83 1890.51,1357.02 1893.65,1355.15 1896.8,1353.21 1899.95,1351.21 1903.1,1349.15 1906.25,1347.03 1909.39,1344.84 1912.54,1342.6 1915.69,1340.29 1918.84,1337.92 1921.99,1335.5 1925.13,1333.01 1928.28,1330.46 1931.43,1327.85 1934.58,1325.19 1937.73,1322.46 1940.87,1319.68 1944.02,1316.83 1947.17,1313.93 1950.32,1310.97 1953.47,1307.95 1956.61,1304.88 1959.76,1301.74 1962.91,1298.55 1966.06,1295.31 1969.21,1292 1972.35,1288.64 1975.5,1285.23 1978.65,1281.76 1981.8,1278.24 1984.95,1274.66 1988.09,1271.02 1991.24,1267.33 1994.39,1263.59 1997.54,1259.8 2000.69,1255.95 2003.83,1252.05 2006.98,1248.1 2010.13,1244.09 2013.28,1240.04 2016.42,1235.93 2019.57,1231.77 2022.72,1227.56 2025.87,1223.31 2029.02,1219 2032.16,1214.64 2035.31,1210.24 2038.46,1205.79 2041.61,1201.29 2044.76,1196.74 2047.9,1192.14 2051.05,1187.5 2054.2,1182.82 2057.35,1178.08 2060.5,1173.31 2063.64,1168.48 2066.79,1163.62 2069.94,1158.71 2073.09,1153.76 2076.24,1148.76 2079.38,1143.72 2082.53,1138.64 2085.68,1133.52 2088.83,1128.36 2091.98,1123.16 2095.12,1117.91 2098.27,1112.63 2101.42,1107.31 2104.57,1101.95 2107.72,1096.55 2110.86,1091.12 2114.01,1085.65 2117.16,1080.14 2120.31,1074.6 2123.46,1069.02 2126.6,1063.4 2129.75,1057.75 2132.9,1052.07 2136.05,1046.36 2139.2,1040.61 2142.34,1034.83 2145.49,1029.01 2148.64,1023.17 2151.79,1017.3 2154.94,1011.39 2158.08,1005.46 2161.23,999.497 2164.38,993.505 2167.53,987.486 2170.68,981.439 2173.82,975.365 2176.97,969.265 2180.12,963.139 2183.27,956.988 2186.42,950.812 2189.56,944.612 2192.71,938.389 2195.86,932.142 2199.01,925.872 2202.16,919.581 2205.3,913.268 2208.45,906.935 2211.6,900.58 2214.75,894.206 2217.9,887.813 2221.04,881.401 2224.19,874.971 2227.34,868.523 2230.49,862.058 2233.64,855.577 2236.78,849.079 2239.93,842.566 2243.08,836.038 2246.23,829.496 2249.38,822.939 2252.52,816.37 2255.67,809.787 2258.82,803.192 2261.97,796.586 2265.12,789.968 2268.26,783.339 2271.41,776.7 2274.56,770.052 2277.71,763.394 2280.86,756.727 2284,750.053 2287.15,743.37 2290.3,736.681 2293.45,729.985 \"/>\n",
       "<polyline clip-path=\"url(#clip822)\" style=\"stroke:#c271d2; stroke-linecap:round; stroke-linejoin:round; stroke-width:4; stroke-opacity:1; fill:none\" points=\"316.512,734.976 319.66,728.488 322.808,722.001 325.956,715.515 329.104,709.031 332.252,702.55 335.4,696.072 338.548,689.598 341.696,683.128 344.844,676.664 347.992,670.205 351.14,663.753 354.288,657.308 357.436,650.871 360.584,644.442 363.732,638.022 366.88,631.612 370.028,625.212 373.176,618.823 376.324,612.446 379.472,606.081 382.62,599.729 385.768,593.391 388.916,587.066 392.064,580.757 395.212,574.463 398.36,568.185 401.508,561.923 404.656,555.679 407.804,549.453 410.952,543.245 414.1,537.057 417.248,530.888 420.396,524.74 423.544,518.613 426.692,512.507 429.84,506.424 432.988,500.363 436.136,494.326 439.284,488.313 442.432,482.325 445.58,476.362 448.728,470.425 451.876,464.514 455.024,458.631 458.172,452.775 461.319,446.947 464.467,441.148 467.615,435.378 470.763,429.638 473.911,423.929 477.059,418.251 480.207,412.605 483.355,406.991 486.503,401.41 489.651,395.862 492.799,390.348 495.947,384.868 499.095,379.423 502.243,374.014 505.391,368.641 508.539,363.305 511.687,358.006 514.835,352.745 517.983,347.521 521.131,342.337 524.279,337.192 527.427,332.086 530.575,327.021 533.723,321.997 536.871,317.014 540.019,312.072 543.167,307.174 546.315,302.317 549.463,297.504 552.611,292.735 555.759,288.01 558.907,283.33 562.055,278.695 565.203,274.106 568.351,269.562 571.499,265.065 574.647,260.616 577.795,256.213 580.943,251.859 584.091,247.552 587.239,243.295 590.387,239.087 593.535,234.928 596.683,230.819 599.831,226.761 602.979,222.753 606.127,218.797 609.275,214.893 612.423,211.04 615.571,207.24 618.719,203.492 621.867,199.798 625.015,196.157 628.163,192.57 631.311,189.038 634.459,185.56 637.607,182.136 640.755,178.769 643.903,175.456 647.051,172.2 650.199,169 653.347,165.857 656.495,162.77 659.643,159.741 662.791,156.769 665.939,153.855 669.087,150.999 672.235,148.202 675.383,145.463 678.531,142.783 681.679,140.163 684.827,137.602 687.975,135.1 691.123,132.659 694.271,130.278 697.419,127.957 700.566,125.697 703.714,123.498 706.862,121.36 710.01,119.284 713.158,117.269 716.306,115.316 719.454,113.424 722.602,111.595 725.75,109.829 728.898,108.124 732.046,106.483 735.194,104.904 738.342,103.388 741.49,101.936 744.638,100.547 747.786,99.2209 750.934,97.9587 754.082,96.7602 757.23,95.6255 760.378,94.5548 763.526,93.5481 766.674,92.6055 769.822,91.7272 772.97,90.9132 776.118,90.1636 779.266,89.4785 782.414,88.8579 785.562,88.302 788.71,87.8107 791.858,87.3841 795.006,87.0223 798.154,86.7253 801.302,86.4931 804.45,86.3258 807.598,86.2233 810.746,86.1857 813.894,86.2129 817.042,86.3051 820.19,86.4621 823.338,86.684 826.486,86.9707 829.634,87.3222 832.782,87.7384 835.93,88.2194 839.078,88.7651 842.226,89.3753 845.374,90.0502 848.522,90.7895 851.67,91.5933 854.818,92.4613 857.966,93.3937 861.114,94.3902 864.262,95.4507 867.41,96.5752 870.558,97.7636 873.706,99.0156 876.854,100.331 880.002,101.71 883.15,103.153 886.298,104.659 889.446,106.227 892.594,107.859 895.742,109.553 898.89,111.31 902.038,113.129 905.186,115.01 908.334,116.954 911.482,118.959 914.63,121.025 917.778,123.154 920.926,125.343 924.074,127.593 927.222,129.904 930.37,132.276 933.518,134.708 936.666,137.199 939.813,139.751 942.961,142.362 946.109,145.032 949.257,147.762 952.405,150.55 955.553,153.396 958.701,156.301 961.849,159.264 964.997,162.284 968.145,165.361 971.293,168.496 974.441,171.687 977.589,174.934 980.737,178.237 983.885,181.596 987.033,185.011 990.181,188.48 993.329,192.004 996.477,195.582 999.625,199.215 1002.77,202.9 1005.92,206.639 1009.07,210.431 1012.22,214.276 1015.37,218.172 1018.51,222.12 1021.66,226.119 1024.81,230.17 1027.96,234.27 1031.11,238.421 1034.25,242.621 1037.4,246.871 1040.55,251.17 1043.7,255.516 1046.85,259.911 1049.99,264.354 1053.14,268.843 1056.29,273.379 1059.44,277.961 1062.58,282.589 1065.73,287.262 1068.88,291.98 1072.03,296.742 1075.18,301.548 1078.32,306.397 1081.47,311.289 1084.62,316.224 1087.77,321.2 1090.92,326.218 1094.06,331.277 1097.21,336.376 1100.36,341.515 1103.51,346.693 1106.66,351.91 1109.8,357.165 1112.95,362.459 1116.1,367.789 1119.25,373.156 1122.4,378.559 1125.54,383.998 1128.69,389.472 1131.84,394.981 1134.99,400.524 1138.14,406.1 1141.28,411.709 1144.43,417.35 1147.58,423.023 1150.73,428.727 1153.88,434.462 1157.02,440.227 1160.17,446.021 1163.32,451.845 1166.47,457.696 1169.62,463.575 1172.76,469.482 1175.91,475.415 1179.06,481.374 1182.21,487.358 1185.36,493.367 1188.5,499.4 1191.65,505.457 1194.8,511.537 1197.95,517.639 1201.1,523.763 1204.24,529.908 1207.39,536.073 1210.54,542.259 1213.69,548.463 1216.84,554.686 1219.98,560.928 1223.13,567.186 1226.28,573.462 1229.43,579.753 1232.58,586.061 1235.72,592.383 1238.87,598.719 1242.02,605.069 1245.17,611.432 1248.32,617.807 1251.46,624.194 1254.61,630.592 1257.76,637.001 1260.91,643.419 1264.06,649.846 1267.2,656.282 1270.35,662.726 1273.5,669.177 1276.65,675.635 1279.8,682.098 1282.94,688.567 1286.09,695.041 1289.24,701.518 1292.39,707.999 1295.54,714.483 1298.68,720.968 1301.83,727.455 1304.98,733.943 1308.13,740.431 1311.28,746.918 1314.42,753.404 1317.57,759.888 1320.72,766.37 1323.87,772.849 1327.02,779.324 1330.16,785.794 1333.31,792.259 1336.46,798.719 1339.61,805.172 1342.76,811.618 1345.9,818.057 1349.05,824.487 1352.2,830.908 1355.35,837.32 1358.5,843.722 1361.64,850.112 1364.79,856.491 1367.94,862.858 1371.09,869.212 1374.24,875.553 1377.38,881.88 1380.53,888.192 1383.68,894.488 1386.83,900.769 1389.98,907.033 1393.12,913.28 1396.27,919.509 1399.42,925.72 1402.57,931.911 1405.72,938.083 1408.86,944.234 1412.01,950.365 1415.16,956.474 1418.31,962.561 1421.46,968.625 1424.6,974.666 1427.75,980.683 1430.9,986.675 1434.05,992.642 1437.2,998.584 1440.34,1004.5 1443.49,1010.39 1446.64,1016.25 1449.79,1022.08 1452.94,1027.88 1456.08,1033.66 1459.23,1039.4 1462.38,1045.12 1465.53,1050.8 1468.68,1056.45 1471.82,1062.07 1474.97,1067.66 1478.12,1073.21 1481.27,1078.73 1484.42,1084.21 1487.56,1089.66 1490.71,1095.08 1493.86,1100.46 1497.01,1105.8 1500.16,1111.1 1503.3,1116.37 1506.45,1121.6 1509.6,1126.79 1512.75,1131.94 1515.9,1137.06 1519.04,1142.13 1522.19,1147.16 1525.34,1152.15 1528.49,1157.1 1531.64,1162 1534.78,1166.86 1537.93,1171.68 1541.08,1176.46 1544.23,1181.19 1547.37,1185.88 1550.52,1190.52 1553.67,1195.12 1556.82,1199.67 1559.97,1204.17 1563.11,1208.63 1566.26,1213.04 1569.41,1217.4 1572.56,1221.72 1575.71,1225.98 1578.85,1230.2 1582,1234.37 1585.15,1238.48 1588.3,1242.55 1591.45,1246.56 1594.59,1250.53 1597.74,1254.44 1600.89,1258.3 1604.04,1262.11 1607.19,1265.87 1610.33,1269.57 1613.48,1273.22 1616.63,1276.81 1619.78,1280.36 1622.93,1283.84 1626.07,1287.27 1629.22,1290.65 1632.37,1293.97 1635.52,1297.24 1638.67,1300.45 1641.81,1303.6 1644.96,1306.69 1648.11,1309.73 1651.26,1312.71 1654.41,1315.64 1657.55,1318.5 1660.7,1321.31 1663.85,1324.06 1667,1326.75 1670.15,1329.38 1673.29,1331.95 1676.44,1334.46 1679.59,1336.91 1682.74,1339.3 1685.89,1341.63 1689.03,1343.9 1692.18,1346.11 1695.33,1348.26 1698.48,1350.34 1701.63,1352.37 1704.77,1354.33 1707.92,1356.23 1711.07,1358.07 1714.22,1359.85 1717.37,1361.56 1720.51,1363.21 1723.66,1364.8 1726.81,1366.33 1729.96,1367.79 1733.11,1369.19 1736.25,1370.52 1739.4,1371.8 1742.55,1373.01 1745.7,1374.15 1748.85,1375.23 1751.99,1376.25 1755.14,1377.2 1758.29,1378.09 1761.44,1378.91 1764.59,1379.67 1767.73,1380.37 1770.88,1381 1774.03,1381.57 1777.18,1382.07 1780.33,1382.5 1783.47,1382.88 1786.62,1383.18 1789.77,1383.43 1792.92,1383.6 1796.07,1383.72 1799.21,1383.77 1802.36,1383.75 1805.51,1383.67 1808.66,1383.52 1811.81,1383.31 1814.95,1383.03 1818.1,1382.69 1821.25,1382.28 1824.4,1381.81 1827.55,1381.28 1830.69,1380.68 1833.84,1380.01 1836.99,1379.28 1840.14,1378.49 1843.29,1377.63 1846.43,1376.71 1849.58,1375.73 1852.73,1374.67 1855.88,1373.56 1859.03,1372.38 1862.17,1371.14 1865.32,1369.83 1868.47,1368.47 1871.62,1367.03 1874.77,1365.54 1877.91,1363.98 1881.06,1362.36 1884.21,1360.67 1887.36,1358.93 1890.51,1357.12 1893.65,1355.25 1896.8,1353.31 1899.95,1351.32 1903.1,1349.26 1906.25,1347.14 1909.39,1344.96 1912.54,1342.72 1915.69,1340.42 1918.84,1338.06 1921.99,1335.64 1925.13,1333.15 1928.28,1330.61 1931.43,1328.01 1934.58,1325.35 1937.73,1322.63 1940.87,1319.85 1944.02,1317.01 1947.17,1314.12 1950.32,1311.16 1953.47,1308.15 1956.61,1305.09 1959.76,1301.96 1962.91,1298.78 1966.06,1295.54 1969.21,1292.24 1972.35,1288.89 1975.5,1285.49 1978.65,1282.03 1981.8,1278.51 1984.95,1274.94 1988.09,1271.32 1991.24,1267.64 1994.39,1263.91 1997.54,1260.13 2000.69,1256.29 2003.83,1252.4 2006.98,1248.46 2010.13,1244.47 2013.28,1240.43 2016.42,1236.34 2019.57,1232.2 2022.72,1228 2025.87,1223.76 2029.02,1219.47 2032.16,1215.13 2035.31,1210.74 2038.46,1206.31 2041.61,1201.83 2044.76,1197.3 2047.9,1192.72 2051.05,1188.1 2054.2,1183.44 2057.35,1178.73 2060.5,1173.97 2063.64,1169.17 2066.79,1164.33 2069.94,1159.44 2073.09,1154.52 2076.24,1149.55 2079.38,1144.54 2082.53,1139.48 2085.68,1134.39 2088.83,1129.26 2091.98,1124.09 2095.12,1118.88 2098.27,1113.63 2101.42,1108.34 2104.57,1103.01 2107.72,1097.65 2110.86,1092.26 2114.01,1086.82 2117.16,1081.35 2120.31,1075.85 2123.46,1070.31 2126.6,1064.74 2129.75,1059.14 2132.9,1053.5 2136.05,1047.84 2139.2,1042.14 2142.34,1036.41 2145.49,1030.65 2148.64,1024.86 2151.79,1019.04 2154.94,1013.19 2158.08,1007.32 2161.23,1001.41 2164.38,995.484 2167.53,989.529 2170.68,983.549 2173.82,977.544 2176.97,971.514 2180.12,965.461 2183.27,959.385 2186.42,953.287 2189.56,947.166 2192.71,941.025 2195.86,934.862 2199.01,928.68 2202.16,922.479 2205.3,916.258 2208.45,910.02 2211.6,903.764 2214.75,897.491 2217.9,891.202 2221.04,884.897 2224.19,878.578 2227.34,872.244 2230.49,865.896 2233.64,859.535 2236.78,853.162 2239.93,846.776 2243.08,840.38 2246.23,833.973 2249.38,827.556 2252.52,821.13 2255.67,814.696 2258.82,808.253 2261.97,801.803 2265.12,795.346 2268.26,788.884 2271.41,782.416 2274.56,775.943 2277.71,769.466 2280.86,762.986 2284,756.503 2287.15,750.017 2290.3,743.53 2293.45,737.043 \"/>\n",
       "<path clip-path=\"url(#clip820)\" d=\"M327.056 1377.32 L702.42 1377.32 L702.42 1118.12 L327.056 1118.12  Z\" fill=\"#ffffff\" fill-rule=\"evenodd\" fill-opacity=\"1\"/>\n",
       "<polyline clip-path=\"url(#clip820)\" style=\"stroke:#000000; stroke-linecap:round; stroke-linejoin:round; stroke-width:4; stroke-opacity:1; fill:none\" points=\"327.056,1377.32 702.42,1377.32 702.42,1118.12 327.056,1118.12 327.056,1377.32 \"/>\n",
       "<polyline clip-path=\"url(#clip820)\" style=\"stroke:#009af9; stroke-linecap:round; stroke-linejoin:round; stroke-width:4; stroke-opacity:1; fill:none\" points=\"350.34,1169.96 490.043,1169.96 \"/>\n",
       "<path clip-path=\"url(#clip820)\" d=\"M531.753 1162.07 L531.753 1166.1 Q529.947 1165.18 528.003 1164.71 Q526.058 1164.25 523.975 1164.25 Q520.804 1164.25 519.207 1165.22 Q517.633 1166.19 517.633 1168.14 Q517.633 1169.62 518.767 1170.48 Q519.901 1171.31 523.327 1172.07 L524.785 1172.4 Q529.322 1173.37 531.22 1175.15 Q533.142 1176.91 533.142 1180.08 Q533.142 1183.69 530.271 1185.8 Q527.424 1187.91 522.424 1187.91 Q520.341 1187.91 518.072 1187.49 Q515.827 1187.1 513.327 1186.29 L513.327 1181.89 Q515.688 1183.11 517.98 1183.74 Q520.271 1184.34 522.517 1184.34 Q525.526 1184.34 527.146 1183.32 Q528.767 1182.28 528.767 1180.41 Q528.767 1178.67 527.586 1177.74 Q526.429 1176.82 522.471 1175.96 L520.989 1175.62 Q517.031 1174.78 515.271 1173.07 Q513.512 1171.33 513.512 1168.32 Q513.512 1164.67 516.105 1162.68 Q518.697 1160.68 523.466 1160.68 Q525.827 1160.68 527.91 1161.03 Q529.994 1161.38 531.753 1162.07 Z\" fill=\"#000000\" fill-rule=\"nonzero\" fill-opacity=\"1\" /><path clip-path=\"url(#clip820)\" d=\"M539.924 1161.31 L544.183 1161.31 L544.183 1187.24 L539.924 1187.24 L539.924 1161.31 M539.924 1151.22 L544.183 1151.22 L544.183 1156.61 L539.924 1156.61 L539.924 1151.22 Z\" fill=\"#000000\" fill-rule=\"nonzero\" fill-opacity=\"1\" /><path clip-path=\"url(#clip820)\" d=\"M574.646 1171.59 L574.646 1187.24 L570.387 1187.24 L570.387 1171.73 Q570.387 1168.05 568.952 1166.22 Q567.517 1164.39 564.646 1164.39 Q561.197 1164.39 559.206 1166.59 Q557.216 1168.79 557.216 1172.58 L557.216 1187.24 L552.933 1187.24 L552.933 1161.31 L557.216 1161.31 L557.216 1165.34 Q558.743 1163 560.804 1161.84 Q562.887 1160.68 565.595 1160.68 Q570.063 1160.68 572.354 1163.46 Q574.646 1166.22 574.646 1171.59 Z\" fill=\"#000000\" fill-rule=\"nonzero\" fill-opacity=\"1\" /><path clip-path=\"url(#clip820)\" d=\"M609.391 1168.09 Q606.243 1168.09 604.391 1170.24 Q602.563 1172.4 602.563 1176.15 Q602.563 1179.87 604.391 1182.05 Q606.243 1184.2 609.391 1184.2 Q612.539 1184.2 614.368 1182.05 Q616.22 1179.87 616.22 1176.15 Q616.22 1172.4 614.368 1170.24 Q612.539 1168.09 609.391 1168.09 M618.674 1153.44 L618.674 1157.7 Q616.914 1156.87 615.109 1156.43 Q613.327 1155.99 611.567 1155.99 Q606.938 1155.99 604.484 1159.11 Q602.053 1162.24 601.706 1168.55 Q603.072 1166.54 605.132 1165.48 Q607.192 1164.39 609.669 1164.39 Q614.877 1164.39 617.887 1167.56 Q620.919 1170.71 620.919 1176.15 Q620.919 1181.47 617.771 1184.69 Q614.623 1187.91 609.391 1187.91 Q603.396 1187.91 600.225 1183.32 Q597.053 1178.72 597.053 1169.99 Q597.053 1161.8 600.942 1156.93 Q604.831 1152.05 611.382 1152.05 Q613.141 1152.05 614.924 1152.4 Q616.729 1152.74 618.674 1153.44 Z\" fill=\"#000000\" fill-rule=\"nonzero\" fill-opacity=\"1\" /><polyline clip-path=\"url(#clip820)\" style=\"stroke:#e26f46; stroke-linecap:round; stroke-linejoin:round; stroke-width:4; stroke-opacity:1; fill:none\" points=\"350.34,1221.8 490.043,1221.8 \"/>\n",
       "<path clip-path=\"url(#clip820)\" d=\"M531.753 1213.91 L531.753 1217.94 Q529.947 1217.02 528.003 1216.55 Q526.058 1216.09 523.975 1216.09 Q520.804 1216.09 519.207 1217.06 Q517.633 1218.03 517.633 1219.98 Q517.633 1221.46 518.767 1222.32 Q519.901 1223.15 523.327 1223.91 L524.785 1224.24 Q529.322 1225.21 531.22 1226.99 Q533.142 1228.75 533.142 1231.92 Q533.142 1235.53 530.271 1237.64 Q527.424 1239.75 522.424 1239.75 Q520.341 1239.75 518.072 1239.33 Q515.827 1238.94 513.327 1238.13 L513.327 1233.73 Q515.688 1234.95 517.98 1235.58 Q520.271 1236.18 522.517 1236.18 Q525.526 1236.18 527.146 1235.16 Q528.767 1234.12 528.767 1232.25 Q528.767 1230.51 527.586 1229.58 Q526.429 1228.66 522.471 1227.8 L520.989 1227.46 Q517.031 1226.62 515.271 1224.91 Q513.512 1223.17 513.512 1220.16 Q513.512 1216.51 516.105 1214.52 Q518.697 1212.52 523.466 1212.52 Q525.827 1212.52 527.91 1212.87 Q529.994 1213.22 531.753 1213.91 Z\" fill=\"#000000\" fill-rule=\"nonzero\" fill-opacity=\"1\" /><path clip-path=\"url(#clip820)\" d=\"M539.924 1213.15 L544.183 1213.15 L544.183 1239.08 L539.924 1239.08 L539.924 1213.15 M539.924 1203.06 L544.183 1203.06 L544.183 1208.45 L539.924 1208.45 L539.924 1203.06 Z\" fill=\"#000000\" fill-rule=\"nonzero\" fill-opacity=\"1\" /><path clip-path=\"url(#clip820)\" d=\"M574.646 1223.43 L574.646 1239.08 L570.387 1239.08 L570.387 1223.57 Q570.387 1219.89 568.952 1218.06 Q567.517 1216.23 564.646 1216.23 Q561.197 1216.23 559.206 1218.43 Q557.216 1220.63 557.216 1224.42 L557.216 1239.08 L552.933 1239.08 L552.933 1213.15 L557.216 1213.15 L557.216 1217.18 Q558.743 1214.84 560.804 1213.68 Q562.887 1212.52 565.595 1212.52 Q570.063 1212.52 572.354 1215.3 Q574.646 1218.06 574.646 1223.43 Z\" fill=\"#000000\" fill-rule=\"nonzero\" fill-opacity=\"1\" /><path clip-path=\"url(#clip820)\" d=\"M597.632 1204.52 L619.854 1204.52 L619.854 1206.51 L607.308 1239.08 L602.424 1239.08 L614.229 1208.45 L597.632 1208.45 L597.632 1204.52 Z\" fill=\"#000000\" fill-rule=\"nonzero\" fill-opacity=\"1\" /><polyline clip-path=\"url(#clip820)\" style=\"stroke:#3da44d; stroke-linecap:round; stroke-linejoin:round; stroke-width:4; stroke-opacity:1; fill:none\" points=\"350.34,1273.64 490.043,1273.64 \"/>\n",
       "<path clip-path=\"url(#clip820)\" d=\"M531.753 1265.75 L531.753 1269.78 Q529.947 1268.86 528.003 1268.39 Q526.058 1267.93 523.975 1267.93 Q520.804 1267.93 519.207 1268.9 Q517.633 1269.87 517.633 1271.82 Q517.633 1273.3 518.767 1274.16 Q519.901 1274.99 523.327 1275.75 L524.785 1276.08 Q529.322 1277.05 531.22 1278.83 Q533.142 1280.59 533.142 1283.76 Q533.142 1287.37 530.271 1289.48 Q527.424 1291.59 522.424 1291.59 Q520.341 1291.59 518.072 1291.17 Q515.827 1290.78 513.327 1289.97 L513.327 1285.57 Q515.688 1286.79 517.98 1287.42 Q520.271 1288.02 522.517 1288.02 Q525.526 1288.02 527.146 1287 Q528.767 1285.96 528.767 1284.09 Q528.767 1282.35 527.586 1281.42 Q526.429 1280.5 522.471 1279.64 L520.989 1279.3 Q517.031 1278.46 515.271 1276.75 Q513.512 1275.01 513.512 1272 Q513.512 1268.35 516.105 1266.36 Q518.697 1264.36 523.466 1264.36 Q525.827 1264.36 527.91 1264.71 Q529.994 1265.06 531.753 1265.75 Z\" fill=\"#000000\" fill-rule=\"nonzero\" fill-opacity=\"1\" /><path clip-path=\"url(#clip820)\" d=\"M539.924 1264.99 L544.183 1264.99 L544.183 1290.92 L539.924 1290.92 L539.924 1264.99 M539.924 1254.9 L544.183 1254.9 L544.183 1260.29 L539.924 1260.29 L539.924 1254.9 Z\" fill=\"#000000\" fill-rule=\"nonzero\" fill-opacity=\"1\" /><path clip-path=\"url(#clip820)\" d=\"M574.646 1275.27 L574.646 1290.92 L570.387 1290.92 L570.387 1275.41 Q570.387 1271.73 568.952 1269.9 Q567.517 1268.07 564.646 1268.07 Q561.197 1268.07 559.206 1270.27 Q557.216 1272.47 557.216 1276.26 L557.216 1290.92 L552.933 1290.92 L552.933 1264.99 L557.216 1264.99 L557.216 1269.02 Q558.743 1266.68 560.804 1265.52 Q562.887 1264.36 565.595 1264.36 Q570.063 1264.36 572.354 1267.14 Q574.646 1269.9 574.646 1275.27 Z\" fill=\"#000000\" fill-rule=\"nonzero\" fill-opacity=\"1\" /><path clip-path=\"url(#clip820)\" d=\"M608.813 1274.5 Q605.479 1274.5 603.558 1276.29 Q601.66 1278.07 601.66 1281.19 Q601.66 1284.32 603.558 1286.1 Q605.479 1287.88 608.813 1287.88 Q612.146 1287.88 614.067 1286.1 Q615.989 1284.29 615.989 1281.19 Q615.989 1278.07 614.067 1276.29 Q612.169 1274.5 608.813 1274.5 M604.137 1272.51 Q601.127 1271.77 599.438 1269.71 Q597.771 1267.65 597.771 1264.69 Q597.771 1260.55 600.711 1258.14 Q603.674 1255.73 608.813 1255.73 Q613.975 1255.73 616.914 1258.14 Q619.854 1260.55 619.854 1264.69 Q619.854 1267.65 618.164 1269.71 Q616.498 1271.77 613.512 1272.51 Q616.891 1273.3 618.766 1275.59 Q620.664 1277.88 620.664 1281.19 Q620.664 1286.22 617.586 1288.9 Q614.53 1291.59 608.813 1291.59 Q603.095 1291.59 600.016 1288.9 Q596.961 1286.22 596.961 1281.19 Q596.961 1277.88 598.859 1275.59 Q600.757 1273.3 604.137 1272.51 M602.424 1265.13 Q602.424 1267.81 604.09 1269.32 Q605.78 1270.82 608.813 1270.82 Q611.822 1270.82 613.512 1269.32 Q615.225 1267.81 615.225 1265.13 Q615.225 1262.44 613.512 1260.94 Q611.822 1259.43 608.813 1259.43 Q605.78 1259.43 604.09 1260.94 Q602.424 1262.44 602.424 1265.13 Z\" fill=\"#000000\" fill-rule=\"nonzero\" fill-opacity=\"1\" /><polyline clip-path=\"url(#clip820)\" style=\"stroke:#c271d2; stroke-linecap:round; stroke-linejoin:round; stroke-width:4; stroke-opacity:1; fill:none\" points=\"350.34,1325.48 490.043,1325.48 \"/>\n",
       "<path clip-path=\"url(#clip820)\" d=\"M531.753 1317.59 L531.753 1321.62 Q529.947 1320.7 528.003 1320.23 Q526.058 1319.77 523.975 1319.77 Q520.804 1319.77 519.207 1320.74 Q517.633 1321.71 517.633 1323.66 Q517.633 1325.14 518.767 1326 Q519.901 1326.83 523.327 1327.59 L524.785 1327.92 Q529.322 1328.89 531.22 1330.67 Q533.142 1332.43 533.142 1335.6 Q533.142 1339.21 530.271 1341.32 Q527.424 1343.43 522.424 1343.43 Q520.341 1343.43 518.072 1343.01 Q515.827 1342.62 513.327 1341.81 L513.327 1337.41 Q515.688 1338.63 517.98 1339.26 Q520.271 1339.86 522.517 1339.86 Q525.526 1339.86 527.146 1338.84 Q528.767 1337.8 528.767 1335.93 Q528.767 1334.19 527.586 1333.26 Q526.429 1332.34 522.471 1331.48 L520.989 1331.14 Q517.031 1330.3 515.271 1328.59 Q513.512 1326.85 513.512 1323.84 Q513.512 1320.19 516.105 1318.2 Q518.697 1316.2 523.466 1316.2 Q525.827 1316.2 527.91 1316.55 Q529.994 1316.9 531.753 1317.59 Z\" fill=\"#000000\" fill-rule=\"nonzero\" fill-opacity=\"1\" /><path clip-path=\"url(#clip820)\" d=\"M539.924 1316.83 L544.183 1316.83 L544.183 1342.76 L539.924 1342.76 L539.924 1316.83 M539.924 1306.74 L544.183 1306.74 L544.183 1312.13 L539.924 1312.13 L539.924 1306.74 Z\" fill=\"#000000\" fill-rule=\"nonzero\" fill-opacity=\"1\" /><path clip-path=\"url(#clip820)\" d=\"M574.646 1327.11 L574.646 1342.76 L570.387 1342.76 L570.387 1327.25 Q570.387 1323.57 568.952 1321.74 Q567.517 1319.91 564.646 1319.91 Q561.197 1319.91 559.206 1322.11 Q557.216 1324.31 557.216 1328.1 L557.216 1342.76 L552.933 1342.76 L552.933 1316.83 L557.216 1316.83 L557.216 1320.86 Q558.743 1318.52 560.804 1317.36 Q562.887 1316.2 565.595 1316.2 Q570.063 1316.2 572.354 1318.98 Q574.646 1321.74 574.646 1327.11 Z\" fill=\"#000000\" fill-rule=\"nonzero\" fill-opacity=\"1\" /><path clip-path=\"url(#clip820)\" d=\"M613.234 1320.81 Q612.516 1320.39 611.66 1320.21 Q610.827 1320 609.808 1320 Q606.197 1320 604.252 1322.36 Q602.331 1324.7 602.331 1329.1 L602.331 1342.76 L598.049 1342.76 L598.049 1316.83 L602.331 1316.83 L602.331 1320.86 Q603.674 1318.5 605.827 1317.36 Q607.979 1316.2 611.058 1316.2 Q611.498 1316.2 612.03 1316.27 Q612.563 1316.32 613.211 1316.44 L613.234 1320.81 Z\" fill=\"#000000\" fill-rule=\"nonzero\" fill-opacity=\"1\" /><path clip-path=\"url(#clip820)\" d=\"M638.836 1328.73 L638.836 1330.81 L619.252 1330.81 Q619.53 1335.21 621.891 1337.52 Q624.276 1339.82 628.512 1339.82 Q630.965 1339.82 633.257 1339.21 Q635.572 1338.61 637.84 1337.41 L637.84 1341.44 Q635.549 1342.41 633.141 1342.92 Q630.734 1343.43 628.257 1343.43 Q622.053 1343.43 618.419 1339.82 Q614.808 1336.2 614.808 1330.05 Q614.808 1323.68 618.234 1319.95 Q621.683 1316.2 627.516 1316.2 Q632.748 1316.2 635.78 1319.58 Q638.836 1322.94 638.836 1328.73 M634.576 1327.48 Q634.53 1323.98 632.609 1321.9 Q630.711 1319.82 627.563 1319.82 Q623.998 1319.82 621.845 1321.83 Q619.715 1323.84 619.391 1327.5 L634.576 1327.48 Z\" fill=\"#000000\" fill-rule=\"nonzero\" fill-opacity=\"1\" /><path clip-path=\"url(#clip820)\" d=\"M657.609 1329.72 Q652.447 1329.72 650.456 1330.9 Q648.465 1332.08 648.465 1334.93 Q648.465 1337.2 649.947 1338.54 Q651.451 1339.86 654.021 1339.86 Q657.562 1339.86 659.692 1337.36 Q661.845 1334.84 661.845 1330.67 L661.845 1329.72 L657.609 1329.72 M666.104 1327.96 L666.104 1342.76 L661.845 1342.76 L661.845 1338.82 Q660.386 1341.18 658.211 1342.32 Q656.035 1343.43 652.886 1343.43 Q648.905 1343.43 646.544 1341.2 Q644.206 1338.96 644.206 1335.21 Q644.206 1330.83 647.123 1328.61 Q650.062 1326.39 655.873 1326.39 L661.845 1326.39 L661.845 1325.97 Q661.845 1323.03 659.9 1321.44 Q657.979 1319.82 654.484 1319.82 Q652.261 1319.82 650.155 1320.35 Q648.049 1320.88 646.104 1321.95 L646.104 1318.01 Q648.442 1317.11 650.641 1316.67 Q652.84 1316.2 654.923 1316.2 Q660.548 1316.2 663.326 1319.12 Q666.104 1322.04 666.104 1327.96 Z\" fill=\"#000000\" fill-rule=\"nonzero\" fill-opacity=\"1\" /><path clip-path=\"url(#clip820)\" d=\"M674.877 1306.74 L679.136 1306.74 L679.136 1342.76 L674.877 1342.76 L674.877 1306.74 Z\" fill=\"#000000\" fill-rule=\"nonzero\" fill-opacity=\"1\" /></svg>\n"
      ]
     },
     "execution_count": 3,
     "metadata": {},
     "output_type": "execute_result"
    }
   ],
   "source": [
    "#Esto es 1,2 \n",
    "using Plots\n",
    "using BenchmarkTools\n",
    "n=0\n",
    "function sin_n(x, n)\n",
    "    taylor = x\n",
    "    for i in 1:n\n",
    "        taylor += (((-1)^i)/(factorial(2*i+1)))*x^(2i+1)\n",
    "    end\n",
    "    return taylor\n",
    "end\n",
    "j = 6\n",
    "f(x) = sin_n(x,j)\n",
    "range1 = 0:0.01:2*π\n",
    "Taylor1 = f.(range1)\n",
    "\n",
    "ñ = plot(range1,Taylor1,xlabel=\"x\",ylabel=\"sen(x)\",label=\"sin 6\")\n",
    "\n",
    "j = 7\n",
    "g(x) = sin_n(x,j)\n",
    "range2 = 0:0.01:2*π\n",
    "Taylor2 = f.(range2)\n",
    "\n",
    "plot!(range2,Taylor2,xlabel=\"x\",ylabel=\"sen(x)\",label=\"sin 7\")\n",
    "\n",
    "j = 8\n",
    "h(x) = sin_n(x,j)\n",
    "range3 = 0:0.01:2*π\n",
    "Taylor3 = f.(range3)\n",
    "\n",
    "plot!(range3,Taylor3,xlabel=\"x\",ylabel=\"sen(x)\",label=\"sin 8\")\n",
    "\n",
    "plot!(range1,sin,xlabel=\"x\",ylabel=\"sen(x)\",label=\"sin real\")\n",
    "\n"
   ]
  },
  {
   "cell_type": "code",
   "execution_count": 4,
   "metadata": {
    "scrolled": true
   },
   "outputs": [
    {
     "data": {
      "image/svg+xml": [
       "<?xml version=\"1.0\" encoding=\"utf-8\"?>\n",
       "<svg xmlns=\"http://www.w3.org/2000/svg\" xmlns:xlink=\"http://www.w3.org/1999/xlink\" width=\"600\" height=\"400\" viewBox=\"0 0 2400 1600\">\n",
       "<defs>\n",
       "  <clipPath id=\"clip860\">\n",
       "    <rect x=\"0\" y=\"0\" width=\"2400\" height=\"1600\"/>\n",
       "  </clipPath>\n",
       "</defs>\n",
       "<path clip-path=\"url(#clip860)\" d=\"M0 1600 L2400 1600 L2400 0 L0 0  Z\" fill=\"#ffffff\" fill-rule=\"evenodd\" fill-opacity=\"1\"/>\n",
       "<defs>\n",
       "  <clipPath id=\"clip861\">\n",
       "    <rect x=\"480\" y=\"0\" width=\"1681\" height=\"1600\"/>\n",
       "  </clipPath>\n",
       "</defs>\n",
       "<path clip-path=\"url(#clip860)\" d=\"M309.866 1423.18 L2352.76 1423.18 L2352.76 47.2441 L309.866 47.2441  Z\" fill=\"#ffffff\" fill-rule=\"evenodd\" fill-opacity=\"1\"/>\n",
       "<defs>\n",
       "  <clipPath id=\"clip862\">\n",
       "    <rect x=\"309\" y=\"47\" width=\"2044\" height=\"1377\"/>\n",
       "  </clipPath>\n",
       "</defs>\n",
       "<polyline clip-path=\"url(#clip862)\" style=\"stroke:#000000; stroke-linecap:round; stroke-linejoin:round; stroke-width:2; stroke-opacity:0.1; fill:none\" points=\"367.683,1423.18 367.683,47.2441 \"/>\n",
       "<polyline clip-path=\"url(#clip862)\" style=\"stroke:#000000; stroke-linecap:round; stroke-linejoin:round; stroke-width:2; stroke-opacity:0.1; fill:none\" points=\"674.571,1423.18 674.571,47.2441 \"/>\n",
       "<polyline clip-path=\"url(#clip862)\" style=\"stroke:#000000; stroke-linecap:round; stroke-linejoin:round; stroke-width:2; stroke-opacity:0.1; fill:none\" points=\"981.459,1423.18 981.459,47.2441 \"/>\n",
       "<polyline clip-path=\"url(#clip862)\" style=\"stroke:#000000; stroke-linecap:round; stroke-linejoin:round; stroke-width:2; stroke-opacity:0.1; fill:none\" points=\"1288.35,1423.18 1288.35,47.2441 \"/>\n",
       "<polyline clip-path=\"url(#clip862)\" style=\"stroke:#000000; stroke-linecap:round; stroke-linejoin:round; stroke-width:2; stroke-opacity:0.1; fill:none\" points=\"1595.23,1423.18 1595.23,47.2441 \"/>\n",
       "<polyline clip-path=\"url(#clip862)\" style=\"stroke:#000000; stroke-linecap:round; stroke-linejoin:round; stroke-width:2; stroke-opacity:0.1; fill:none\" points=\"1902.12,1423.18 1902.12,47.2441 \"/>\n",
       "<polyline clip-path=\"url(#clip862)\" style=\"stroke:#000000; stroke-linecap:round; stroke-linejoin:round; stroke-width:2; stroke-opacity:0.1; fill:none\" points=\"2209.01,1423.18 2209.01,47.2441 \"/>\n",
       "<polyline clip-path=\"url(#clip860)\" style=\"stroke:#000000; stroke-linecap:round; stroke-linejoin:round; stroke-width:4; stroke-opacity:1; fill:none\" points=\"309.866,1423.18 2352.76,1423.18 \"/>\n",
       "<polyline clip-path=\"url(#clip860)\" style=\"stroke:#000000; stroke-linecap:round; stroke-linejoin:round; stroke-width:4; stroke-opacity:1; fill:none\" points=\"367.683,1423.18 367.683,1404.28 \"/>\n",
       "<polyline clip-path=\"url(#clip860)\" style=\"stroke:#000000; stroke-linecap:round; stroke-linejoin:round; stroke-width:4; stroke-opacity:1; fill:none\" points=\"674.571,1423.18 674.571,1404.28 \"/>\n",
       "<polyline clip-path=\"url(#clip860)\" style=\"stroke:#000000; stroke-linecap:round; stroke-linejoin:round; stroke-width:4; stroke-opacity:1; fill:none\" points=\"981.459,1423.18 981.459,1404.28 \"/>\n",
       "<polyline clip-path=\"url(#clip860)\" style=\"stroke:#000000; stroke-linecap:round; stroke-linejoin:round; stroke-width:4; stroke-opacity:1; fill:none\" points=\"1288.35,1423.18 1288.35,1404.28 \"/>\n",
       "<polyline clip-path=\"url(#clip860)\" style=\"stroke:#000000; stroke-linecap:round; stroke-linejoin:round; stroke-width:4; stroke-opacity:1; fill:none\" points=\"1595.23,1423.18 1595.23,1404.28 \"/>\n",
       "<polyline clip-path=\"url(#clip860)\" style=\"stroke:#000000; stroke-linecap:round; stroke-linejoin:round; stroke-width:4; stroke-opacity:1; fill:none\" points=\"1902.12,1423.18 1902.12,1404.28 \"/>\n",
       "<polyline clip-path=\"url(#clip860)\" style=\"stroke:#000000; stroke-linecap:round; stroke-linejoin:round; stroke-width:4; stroke-opacity:1; fill:none\" points=\"2209.01,1423.18 2209.01,1404.28 \"/>\n",
       "<path clip-path=\"url(#clip860)\" d=\"M367.683 1454.1 Q364.072 1454.1 362.244 1457.66 Q360.438 1461.2 360.438 1468.33 Q360.438 1475.44 362.244 1479.01 Q364.072 1482.55 367.683 1482.55 Q371.318 1482.55 373.123 1479.01 Q374.952 1475.44 374.952 1468.33 Q374.952 1461.2 373.123 1457.66 Q371.318 1454.1 367.683 1454.1 M367.683 1450.39 Q373.494 1450.39 376.549 1455 Q379.628 1459.58 379.628 1468.33 Q379.628 1477.06 376.549 1481.67 Q373.494 1486.25 367.683 1486.25 Q361.873 1486.25 358.795 1481.67 Q355.739 1477.06 355.739 1468.33 Q355.739 1459.58 358.795 1455 Q361.873 1450.39 367.683 1450.39 Z\" fill=\"#000000\" fill-rule=\"nonzero\" fill-opacity=\"1\" /><path clip-path=\"url(#clip860)\" d=\"M664.953 1481.64 L672.592 1481.64 L672.592 1455.28 L664.282 1456.95 L664.282 1452.69 L672.546 1451.02 L677.222 1451.02 L677.222 1481.64 L684.86 1481.64 L684.86 1485.58 L664.953 1485.58 L664.953 1481.64 Z\" fill=\"#000000\" fill-rule=\"nonzero\" fill-opacity=\"1\" /><path clip-path=\"url(#clip860)\" d=\"M976.112 1481.64 L992.431 1481.64 L992.431 1485.58 L970.487 1485.58 L970.487 1481.64 Q973.149 1478.89 977.732 1474.26 Q982.338 1469.61 983.519 1468.27 Q985.764 1465.74 986.644 1464.01 Q987.547 1462.25 987.547 1460.56 Q987.547 1457.8 985.602 1456.07 Q983.681 1454.33 980.579 1454.33 Q978.38 1454.33 975.926 1455.09 Q973.496 1455.86 970.718 1457.41 L970.718 1452.69 Q973.542 1451.55 975.996 1450.97 Q978.45 1450.39 980.487 1450.39 Q985.857 1450.39 989.051 1453.08 Q992.246 1455.77 992.246 1460.26 Q992.246 1462.39 991.436 1464.31 Q990.649 1466.2 988.542 1468.8 Q987.963 1469.47 984.862 1472.69 Q981.76 1475.88 976.112 1481.64 Z\" fill=\"#000000\" fill-rule=\"nonzero\" fill-opacity=\"1\" /><path clip-path=\"url(#clip860)\" d=\"M1292.59 1466.95 Q1295.95 1467.66 1297.83 1469.93 Q1299.72 1472.2 1299.72 1475.53 Q1299.72 1480.65 1296.21 1483.45 Q1292.69 1486.25 1286.21 1486.25 Q1284.03 1486.25 1281.71 1485.81 Q1279.42 1485.39 1276.97 1484.54 L1276.97 1480.02 Q1278.91 1481.16 1281.23 1481.74 Q1283.54 1482.32 1286.07 1482.32 Q1290.46 1482.32 1292.76 1480.58 Q1295.07 1478.84 1295.07 1475.53 Q1295.07 1472.48 1292.92 1470.77 Q1290.79 1469.03 1286.97 1469.03 L1282.94 1469.03 L1282.94 1465.19 L1287.15 1465.19 Q1290.6 1465.19 1292.43 1463.82 Q1294.26 1462.43 1294.26 1459.84 Q1294.26 1457.18 1292.36 1455.77 Q1290.49 1454.33 1286.97 1454.33 Q1285.05 1454.33 1282.85 1454.75 Q1280.65 1455.16 1278.01 1456.04 L1278.01 1451.88 Q1280.67 1451.14 1282.99 1450.77 Q1285.33 1450.39 1287.39 1450.39 Q1292.71 1450.39 1295.81 1452.83 Q1298.91 1455.23 1298.91 1459.35 Q1298.91 1462.22 1297.27 1464.21 Q1295.63 1466.18 1292.59 1466.95 Z\" fill=\"#000000\" fill-rule=\"nonzero\" fill-opacity=\"1\" /><path clip-path=\"url(#clip860)\" d=\"M1598.24 1455.09 L1586.44 1473.54 L1598.24 1473.54 L1598.24 1455.09 M1597.02 1451.02 L1602.9 1451.02 L1602.9 1473.54 L1607.83 1473.54 L1607.83 1477.43 L1602.9 1477.43 L1602.9 1485.58 L1598.24 1485.58 L1598.24 1477.43 L1582.64 1477.43 L1582.64 1472.92 L1597.02 1451.02 Z\" fill=\"#000000\" fill-rule=\"nonzero\" fill-opacity=\"1\" /><path clip-path=\"url(#clip860)\" d=\"M1892.4 1451.02 L1910.76 1451.02 L1910.76 1454.96 L1896.68 1454.96 L1896.68 1463.43 Q1897.7 1463.08 1898.72 1462.92 Q1899.74 1462.73 1900.76 1462.73 Q1906.54 1462.73 1909.92 1465.9 Q1913.3 1469.08 1913.3 1474.49 Q1913.3 1480.07 1909.83 1483.17 Q1906.36 1486.25 1900.04 1486.25 Q1897.86 1486.25 1895.59 1485.88 Q1893.35 1485.51 1890.94 1484.77 L1890.94 1480.07 Q1893.02 1481.2 1895.25 1481.76 Q1897.47 1482.32 1899.95 1482.32 Q1903.95 1482.32 1906.29 1480.21 Q1908.63 1478.1 1908.63 1474.49 Q1908.63 1470.88 1906.29 1468.77 Q1903.95 1466.67 1899.95 1466.67 Q1898.07 1466.67 1896.2 1467.08 Q1894.34 1467.5 1892.4 1468.38 L1892.4 1451.02 Z\" fill=\"#000000\" fill-rule=\"nonzero\" fill-opacity=\"1\" /><path clip-path=\"url(#clip860)\" d=\"M2209.41 1466.44 Q2206.27 1466.44 2204.41 1468.59 Q2202.59 1470.74 2202.59 1474.49 Q2202.59 1478.22 2204.41 1480.39 Q2206.27 1482.55 2209.41 1482.55 Q2212.56 1482.55 2214.39 1480.39 Q2216.24 1478.22 2216.24 1474.49 Q2216.24 1470.74 2214.39 1468.59 Q2212.56 1466.44 2209.41 1466.44 M2218.7 1451.78 L2218.7 1456.04 Q2216.94 1455.21 2215.13 1454.77 Q2213.35 1454.33 2211.59 1454.33 Q2206.96 1454.33 2204.51 1457.45 Q2202.08 1460.58 2201.73 1466.9 Q2203.1 1464.89 2205.16 1463.82 Q2207.22 1462.73 2209.69 1462.73 Q2214.9 1462.73 2217.91 1465.9 Q2220.94 1469.05 2220.94 1474.49 Q2220.94 1479.82 2217.79 1483.03 Q2214.65 1486.25 2209.41 1486.25 Q2203.42 1486.25 2200.25 1481.67 Q2197.08 1477.06 2197.08 1468.33 Q2197.08 1460.14 2200.97 1455.28 Q2204.85 1450.39 2211.41 1450.39 Q2213.16 1450.39 2214.95 1450.74 Q2216.75 1451.09 2218.7 1451.78 Z\" fill=\"#000000\" fill-rule=\"nonzero\" fill-opacity=\"1\" /><path clip-path=\"url(#clip860)\" d=\"M1347.93 1532.4 L1335.03 1549.74 L1348.59 1568.04 L1341.69 1568.04 L1331.31 1554.04 L1320.93 1568.04 L1314.03 1568.04 L1327.87 1549.39 L1315.21 1532.4 L1322.11 1532.4 L1331.57 1545.1 L1341.02 1532.4 L1347.93 1532.4 Z\" fill=\"#000000\" fill-rule=\"nonzero\" fill-opacity=\"1\" /><polyline clip-path=\"url(#clip862)\" style=\"stroke:#000000; stroke-linecap:round; stroke-linejoin:round; stroke-width:2; stroke-opacity:0.1; fill:none\" points=\"309.866,1384.24 2352.76,1384.24 \"/>\n",
       "<polyline clip-path=\"url(#clip862)\" style=\"stroke:#000000; stroke-linecap:round; stroke-linejoin:round; stroke-width:2; stroke-opacity:0.1; fill:none\" points=\"309.866,1085.95 2352.76,1085.95 \"/>\n",
       "<polyline clip-path=\"url(#clip862)\" style=\"stroke:#000000; stroke-linecap:round; stroke-linejoin:round; stroke-width:2; stroke-opacity:0.1; fill:none\" points=\"309.866,787.655 2352.76,787.655 \"/>\n",
       "<polyline clip-path=\"url(#clip862)\" style=\"stroke:#000000; stroke-linecap:round; stroke-linejoin:round; stroke-width:2; stroke-opacity:0.1; fill:none\" points=\"309.866,489.364 2352.76,489.364 \"/>\n",
       "<polyline clip-path=\"url(#clip862)\" style=\"stroke:#000000; stroke-linecap:round; stroke-linejoin:round; stroke-width:2; stroke-opacity:0.1; fill:none\" points=\"309.866,191.073 2352.76,191.073 \"/>\n",
       "<polyline clip-path=\"url(#clip860)\" style=\"stroke:#000000; stroke-linecap:round; stroke-linejoin:round; stroke-width:4; stroke-opacity:1; fill:none\" points=\"309.866,1423.18 309.866,47.2441 \"/>\n",
       "<polyline clip-path=\"url(#clip860)\" style=\"stroke:#000000; stroke-linecap:round; stroke-linejoin:round; stroke-width:4; stroke-opacity:1; fill:none\" points=\"309.866,1384.24 328.763,1384.24 \"/>\n",
       "<polyline clip-path=\"url(#clip860)\" style=\"stroke:#000000; stroke-linecap:round; stroke-linejoin:round; stroke-width:4; stroke-opacity:1; fill:none\" points=\"309.866,1085.95 328.763,1085.95 \"/>\n",
       "<polyline clip-path=\"url(#clip860)\" style=\"stroke:#000000; stroke-linecap:round; stroke-linejoin:round; stroke-width:4; stroke-opacity:1; fill:none\" points=\"309.866,787.655 328.763,787.655 \"/>\n",
       "<polyline clip-path=\"url(#clip860)\" style=\"stroke:#000000; stroke-linecap:round; stroke-linejoin:round; stroke-width:4; stroke-opacity:1; fill:none\" points=\"309.866,489.364 328.763,489.364 \"/>\n",
       "<polyline clip-path=\"url(#clip860)\" style=\"stroke:#000000; stroke-linecap:round; stroke-linejoin:round; stroke-width:4; stroke-opacity:1; fill:none\" points=\"309.866,191.073 328.763,191.073 \"/>\n",
       "<path clip-path=\"url(#clip860)\" d=\"M126.205 1370.04 Q122.593 1370.04 120.765 1373.6 Q118.959 1377.14 118.959 1384.27 Q118.959 1391.38 120.765 1394.94 Q122.593 1398.49 126.205 1398.49 Q129.839 1398.49 131.644 1394.94 Q133.473 1391.38 133.473 1384.27 Q133.473 1377.14 131.644 1373.6 Q129.839 1370.04 126.205 1370.04 M126.205 1366.33 Q132.015 1366.33 135.07 1370.94 Q138.149 1375.52 138.149 1384.27 Q138.149 1393 135.07 1397.61 Q132.015 1402.19 126.205 1402.19 Q120.394 1402.19 117.316 1397.61 Q114.26 1393 114.26 1384.27 Q114.26 1375.52 117.316 1370.94 Q120.394 1366.33 126.205 1366.33 Z\" fill=\"#000000\" fill-rule=\"nonzero\" fill-opacity=\"1\" /><path clip-path=\"url(#clip860)\" d=\"M146.366 1395.64 L151.251 1395.64 L151.251 1401.52 L146.366 1401.52 L146.366 1395.64 Z\" fill=\"#000000\" fill-rule=\"nonzero\" fill-opacity=\"1\" /><path clip-path=\"url(#clip860)\" d=\"M171.436 1370.04 Q167.825 1370.04 165.996 1373.6 Q164.19 1377.14 164.19 1384.27 Q164.19 1391.38 165.996 1394.94 Q167.825 1398.49 171.436 1398.49 Q175.07 1398.49 176.876 1394.94 Q178.704 1391.38 178.704 1384.27 Q178.704 1377.14 176.876 1373.6 Q175.07 1370.04 171.436 1370.04 M171.436 1366.33 Q177.246 1366.33 180.301 1370.94 Q183.38 1375.52 183.38 1384.27 Q183.38 1393 180.301 1397.61 Q177.246 1402.19 171.436 1402.19 Q165.626 1402.19 162.547 1397.61 Q159.491 1393 159.491 1384.27 Q159.491 1375.52 162.547 1370.94 Q165.626 1366.33 171.436 1366.33 Z\" fill=\"#000000\" fill-rule=\"nonzero\" fill-opacity=\"1\" /><path clip-path=\"url(#clip860)\" d=\"M201.598 1370.04 Q197.987 1370.04 196.158 1373.6 Q194.352 1377.14 194.352 1384.27 Q194.352 1391.38 196.158 1394.94 Q197.987 1398.49 201.598 1398.49 Q205.232 1398.49 207.037 1394.94 Q208.866 1391.38 208.866 1384.27 Q208.866 1377.14 207.037 1373.6 Q205.232 1370.04 201.598 1370.04 M201.598 1366.33 Q207.408 1366.33 210.463 1370.94 Q213.542 1375.52 213.542 1384.27 Q213.542 1393 210.463 1397.61 Q207.408 1402.19 201.598 1402.19 Q195.787 1402.19 192.709 1397.61 Q189.653 1393 189.653 1384.27 Q189.653 1375.52 192.709 1370.94 Q195.787 1366.33 201.598 1366.33 Z\" fill=\"#000000\" fill-rule=\"nonzero\" fill-opacity=\"1\" /><path clip-path=\"url(#clip860)\" d=\"M231.76 1370.04 Q228.148 1370.04 226.32 1373.6 Q224.514 1377.14 224.514 1384.27 Q224.514 1391.38 226.32 1394.94 Q228.148 1398.49 231.76 1398.49 Q235.394 1398.49 237.199 1394.94 Q239.028 1391.38 239.028 1384.27 Q239.028 1377.14 237.199 1373.6 Q235.394 1370.04 231.76 1370.04 M231.76 1366.33 Q237.57 1366.33 240.625 1370.94 Q243.704 1375.52 243.704 1384.27 Q243.704 1393 240.625 1397.61 Q237.57 1402.19 231.76 1402.19 Q225.949 1402.19 222.871 1397.61 Q219.815 1393 219.815 1384.27 Q219.815 1375.52 222.871 1370.94 Q225.949 1366.33 231.76 1366.33 Z\" fill=\"#000000\" fill-rule=\"nonzero\" fill-opacity=\"1\" /><path clip-path=\"url(#clip860)\" d=\"M261.921 1370.04 Q258.31 1370.04 256.482 1373.6 Q254.676 1377.14 254.676 1384.27 Q254.676 1391.38 256.482 1394.94 Q258.31 1398.49 261.921 1398.49 Q265.556 1398.49 267.361 1394.94 Q269.19 1391.38 269.19 1384.27 Q269.19 1377.14 267.361 1373.6 Q265.556 1370.04 261.921 1370.04 M261.921 1366.33 Q267.732 1366.33 270.787 1370.94 Q273.866 1375.52 273.866 1384.27 Q273.866 1393 270.787 1397.61 Q267.732 1402.19 261.921 1402.19 Q256.111 1402.19 253.033 1397.61 Q249.977 1393 249.977 1384.27 Q249.977 1375.52 253.033 1370.94 Q256.111 1366.33 261.921 1366.33 Z\" fill=\"#000000\" fill-rule=\"nonzero\" fill-opacity=\"1\" /><path clip-path=\"url(#clip860)\" d=\"M127.2 1071.75 Q123.589 1071.75 121.76 1075.31 Q119.955 1078.85 119.955 1085.98 Q119.955 1093.09 121.76 1096.65 Q123.589 1100.19 127.2 1100.19 Q130.834 1100.19 132.64 1096.65 Q134.468 1093.09 134.468 1085.98 Q134.468 1078.85 132.64 1075.31 Q130.834 1071.75 127.2 1071.75 M127.2 1068.04 Q133.01 1068.04 136.066 1072.65 Q139.144 1077.23 139.144 1085.98 Q139.144 1094.71 136.066 1099.31 Q133.01 1103.9 127.2 1103.9 Q121.39 1103.9 118.311 1099.31 Q115.256 1094.71 115.256 1085.98 Q115.256 1077.23 118.311 1072.65 Q121.39 1068.04 127.2 1068.04 Z\" fill=\"#000000\" fill-rule=\"nonzero\" fill-opacity=\"1\" /><path clip-path=\"url(#clip860)\" d=\"M147.362 1097.35 L152.246 1097.35 L152.246 1103.23 L147.362 1103.23 L147.362 1097.35 Z\" fill=\"#000000\" fill-rule=\"nonzero\" fill-opacity=\"1\" /><path clip-path=\"url(#clip860)\" d=\"M172.431 1071.75 Q168.82 1071.75 166.991 1075.31 Q165.186 1078.85 165.186 1085.98 Q165.186 1093.09 166.991 1096.65 Q168.82 1100.19 172.431 1100.19 Q176.065 1100.19 177.871 1096.65 Q179.7 1093.09 179.7 1085.98 Q179.7 1078.85 177.871 1075.31 Q176.065 1071.75 172.431 1071.75 M172.431 1068.04 Q178.241 1068.04 181.297 1072.65 Q184.376 1077.23 184.376 1085.98 Q184.376 1094.71 181.297 1099.31 Q178.241 1103.9 172.431 1103.9 Q166.621 1103.9 163.542 1099.31 Q160.487 1094.71 160.487 1085.98 Q160.487 1077.23 163.542 1072.65 Q166.621 1068.04 172.431 1068.04 Z\" fill=\"#000000\" fill-rule=\"nonzero\" fill-opacity=\"1\" /><path clip-path=\"url(#clip860)\" d=\"M202.593 1071.75 Q198.982 1071.75 197.153 1075.31 Q195.348 1078.85 195.348 1085.98 Q195.348 1093.09 197.153 1096.65 Q198.982 1100.19 202.593 1100.19 Q206.227 1100.19 208.033 1096.65 Q209.861 1093.09 209.861 1085.98 Q209.861 1078.85 208.033 1075.31 Q206.227 1071.75 202.593 1071.75 M202.593 1068.04 Q208.403 1068.04 211.459 1072.65 Q214.537 1077.23 214.537 1085.98 Q214.537 1094.71 211.459 1099.31 Q208.403 1103.9 202.593 1103.9 Q196.783 1103.9 193.704 1099.31 Q190.649 1094.71 190.649 1085.98 Q190.649 1077.23 193.704 1072.65 Q196.783 1068.04 202.593 1068.04 Z\" fill=\"#000000\" fill-rule=\"nonzero\" fill-opacity=\"1\" /><path clip-path=\"url(#clip860)\" d=\"M226.783 1099.29 L243.102 1099.29 L243.102 1103.23 L221.158 1103.23 L221.158 1099.29 Q223.82 1096.54 228.403 1091.91 Q233.01 1087.25 234.19 1085.91 Q236.435 1083.39 237.315 1081.65 Q238.218 1079.89 238.218 1078.2 Q238.218 1075.45 236.273 1073.71 Q234.352 1071.98 231.25 1071.98 Q229.051 1071.98 226.598 1072.74 Q224.167 1073.5 221.389 1075.06 L221.389 1070.33 Q224.213 1069.2 226.667 1068.62 Q229.121 1068.04 231.158 1068.04 Q236.528 1068.04 239.722 1070.73 Q242.917 1073.41 242.917 1077.9 Q242.917 1080.03 242.107 1081.95 Q241.32 1083.85 239.213 1086.44 Q238.634 1087.12 235.533 1090.33 Q232.431 1093.53 226.783 1099.29 Z\" fill=\"#000000\" fill-rule=\"nonzero\" fill-opacity=\"1\" /><path clip-path=\"url(#clip860)\" d=\"M252.963 1068.67 L271.32 1068.67 L271.32 1072.6 L257.246 1072.6 L257.246 1081.07 Q258.264 1080.73 259.283 1080.56 Q260.301 1080.38 261.32 1080.38 Q267.107 1080.38 270.486 1083.55 Q273.866 1086.72 273.866 1092.14 Q273.866 1097.72 270.394 1100.82 Q266.921 1103.9 260.602 1103.9 Q258.426 1103.9 256.158 1103.53 Q253.912 1103.16 251.505 1102.42 L251.505 1097.72 Q253.588 1098.85 255.81 1099.41 Q258.033 1099.96 260.509 1099.96 Q264.514 1099.96 266.852 1097.86 Q269.19 1095.75 269.19 1092.14 Q269.19 1088.53 266.852 1086.42 Q264.514 1084.31 260.509 1084.31 Q258.634 1084.31 256.759 1084.73 Q254.908 1085.15 252.963 1086.03 L252.963 1068.67 Z\" fill=\"#000000\" fill-rule=\"nonzero\" fill-opacity=\"1\" /><path clip-path=\"url(#clip860)\" d=\"M126.205 773.454 Q122.593 773.454 120.765 777.019 Q118.959 780.561 118.959 787.69 Q118.959 794.797 120.765 798.361 Q122.593 801.903 126.205 801.903 Q129.839 801.903 131.644 798.361 Q133.473 794.797 133.473 787.69 Q133.473 780.561 131.644 777.019 Q129.839 773.454 126.205 773.454 M126.205 769.75 Q132.015 769.75 135.07 774.357 Q138.149 778.94 138.149 787.69 Q138.149 796.417 135.07 801.023 Q132.015 805.607 126.205 805.607 Q120.394 805.607 117.316 801.023 Q114.26 796.417 114.26 787.69 Q114.26 778.94 117.316 774.357 Q120.394 769.75 126.205 769.75 Z\" fill=\"#000000\" fill-rule=\"nonzero\" fill-opacity=\"1\" /><path clip-path=\"url(#clip860)\" d=\"M146.366 799.056 L151.251 799.056 L151.251 804.935 L146.366 804.935 L146.366 799.056 Z\" fill=\"#000000\" fill-rule=\"nonzero\" fill-opacity=\"1\" /><path clip-path=\"url(#clip860)\" d=\"M171.436 773.454 Q167.825 773.454 165.996 777.019 Q164.19 780.561 164.19 787.69 Q164.19 794.797 165.996 798.361 Q167.825 801.903 171.436 801.903 Q175.07 801.903 176.876 798.361 Q178.704 794.797 178.704 787.69 Q178.704 780.561 176.876 777.019 Q175.07 773.454 171.436 773.454 M171.436 769.75 Q177.246 769.75 180.301 774.357 Q183.38 778.94 183.38 787.69 Q183.38 796.417 180.301 801.023 Q177.246 805.607 171.436 805.607 Q165.626 805.607 162.547 801.023 Q159.491 796.417 159.491 787.69 Q159.491 778.94 162.547 774.357 Q165.626 769.75 171.436 769.75 Z\" fill=\"#000000\" fill-rule=\"nonzero\" fill-opacity=\"1\" /><path clip-path=\"url(#clip860)\" d=\"M201.598 773.454 Q197.987 773.454 196.158 777.019 Q194.352 780.561 194.352 787.69 Q194.352 794.797 196.158 798.361 Q197.987 801.903 201.598 801.903 Q205.232 801.903 207.037 798.361 Q208.866 794.797 208.866 787.69 Q208.866 780.561 207.037 777.019 Q205.232 773.454 201.598 773.454 M201.598 769.75 Q207.408 769.75 210.463 774.357 Q213.542 778.94 213.542 787.69 Q213.542 796.417 210.463 801.023 Q207.408 805.607 201.598 805.607 Q195.787 805.607 192.709 801.023 Q189.653 796.417 189.653 787.69 Q189.653 778.94 192.709 774.357 Q195.787 769.75 201.598 769.75 Z\" fill=\"#000000\" fill-rule=\"nonzero\" fill-opacity=\"1\" /><path clip-path=\"url(#clip860)\" d=\"M221.806 770.375 L240.162 770.375 L240.162 774.311 L226.088 774.311 L226.088 782.783 Q227.107 782.436 228.125 782.274 Q229.144 782.088 230.162 782.088 Q235.949 782.088 239.329 785.26 Q242.709 788.431 242.709 793.848 Q242.709 799.426 239.236 802.528 Q235.764 805.607 229.445 805.607 Q227.269 805.607 225 805.236 Q222.755 804.866 220.348 804.125 L220.348 799.426 Q222.431 800.56 224.653 801.116 Q226.875 801.672 229.352 801.672 Q233.357 801.672 235.695 799.565 Q238.033 797.459 238.033 793.848 Q238.033 790.236 235.695 788.13 Q233.357 786.024 229.352 786.024 Q227.477 786.024 225.602 786.44 Q223.75 786.857 221.806 787.736 L221.806 770.375 Z\" fill=\"#000000\" fill-rule=\"nonzero\" fill-opacity=\"1\" /><path clip-path=\"url(#clip860)\" d=\"M261.921 773.454 Q258.31 773.454 256.482 777.019 Q254.676 780.561 254.676 787.69 Q254.676 794.797 256.482 798.361 Q258.31 801.903 261.921 801.903 Q265.556 801.903 267.361 798.361 Q269.19 794.797 269.19 787.69 Q269.19 780.561 267.361 777.019 Q265.556 773.454 261.921 773.454 M261.921 769.75 Q267.732 769.75 270.787 774.357 Q273.866 778.94 273.866 787.69 Q273.866 796.417 270.787 801.023 Q267.732 805.607 261.921 805.607 Q256.111 805.607 253.033 801.023 Q249.977 796.417 249.977 787.69 Q249.977 778.94 253.033 774.357 Q256.111 769.75 261.921 769.75 Z\" fill=\"#000000\" fill-rule=\"nonzero\" fill-opacity=\"1\" /><path clip-path=\"url(#clip860)\" d=\"M127.2 475.163 Q123.589 475.163 121.76 478.728 Q119.955 482.269 119.955 489.399 Q119.955 496.505 121.76 500.07 Q123.589 503.612 127.2 503.612 Q130.834 503.612 132.64 500.07 Q134.468 496.505 134.468 489.399 Q134.468 482.269 132.64 478.728 Q130.834 475.163 127.2 475.163 M127.2 471.459 Q133.01 471.459 136.066 476.066 Q139.144 480.649 139.144 489.399 Q139.144 498.126 136.066 502.732 Q133.01 507.315 127.2 507.315 Q121.39 507.315 118.311 502.732 Q115.256 498.126 115.256 489.399 Q115.256 480.649 118.311 476.066 Q121.39 471.459 127.2 471.459 Z\" fill=\"#000000\" fill-rule=\"nonzero\" fill-opacity=\"1\" /><path clip-path=\"url(#clip860)\" d=\"M147.362 500.764 L152.246 500.764 L152.246 506.644 L147.362 506.644 L147.362 500.764 Z\" fill=\"#000000\" fill-rule=\"nonzero\" fill-opacity=\"1\" /><path clip-path=\"url(#clip860)\" d=\"M172.431 475.163 Q168.82 475.163 166.991 478.728 Q165.186 482.269 165.186 489.399 Q165.186 496.505 166.991 500.07 Q168.82 503.612 172.431 503.612 Q176.065 503.612 177.871 500.07 Q179.7 496.505 179.7 489.399 Q179.7 482.269 177.871 478.728 Q176.065 475.163 172.431 475.163 M172.431 471.459 Q178.241 471.459 181.297 476.066 Q184.376 480.649 184.376 489.399 Q184.376 498.126 181.297 502.732 Q178.241 507.315 172.431 507.315 Q166.621 507.315 163.542 502.732 Q160.487 498.126 160.487 489.399 Q160.487 480.649 163.542 476.066 Q166.621 471.459 172.431 471.459 Z\" fill=\"#000000\" fill-rule=\"nonzero\" fill-opacity=\"1\" /><path clip-path=\"url(#clip860)\" d=\"M202.593 475.163 Q198.982 475.163 197.153 478.728 Q195.348 482.269 195.348 489.399 Q195.348 496.505 197.153 500.07 Q198.982 503.612 202.593 503.612 Q206.227 503.612 208.033 500.07 Q209.861 496.505 209.861 489.399 Q209.861 482.269 208.033 478.728 Q206.227 475.163 202.593 475.163 M202.593 471.459 Q208.403 471.459 211.459 476.066 Q214.537 480.649 214.537 489.399 Q214.537 498.126 211.459 502.732 Q208.403 507.315 202.593 507.315 Q196.783 507.315 193.704 502.732 Q190.649 498.126 190.649 489.399 Q190.649 480.649 193.704 476.066 Q196.783 471.459 202.593 471.459 Z\" fill=\"#000000\" fill-rule=\"nonzero\" fill-opacity=\"1\" /><path clip-path=\"url(#clip860)\" d=\"M221.574 472.084 L243.797 472.084 L243.797 474.075 L231.25 506.644 L226.366 506.644 L238.172 476.019 L221.574 476.019 L221.574 472.084 Z\" fill=\"#000000\" fill-rule=\"nonzero\" fill-opacity=\"1\" /><path clip-path=\"url(#clip860)\" d=\"M252.963 472.084 L271.32 472.084 L271.32 476.019 L257.246 476.019 L257.246 484.491 Q258.264 484.144 259.283 483.982 Q260.301 483.797 261.32 483.797 Q267.107 483.797 270.486 486.968 Q273.866 490.14 273.866 495.556 Q273.866 501.135 270.394 504.237 Q266.921 507.315 260.602 507.315 Q258.426 507.315 256.158 506.945 Q253.912 506.575 251.505 505.834 L251.505 501.135 Q253.588 502.269 255.81 502.825 Q258.033 503.38 260.509 503.38 Q264.514 503.38 266.852 501.274 Q269.19 499.167 269.19 495.556 Q269.19 491.945 266.852 489.839 Q264.514 487.732 260.509 487.732 Q258.634 487.732 256.759 488.149 Q254.908 488.565 252.963 489.445 L252.963 472.084 Z\" fill=\"#000000\" fill-rule=\"nonzero\" fill-opacity=\"1\" /><path clip-path=\"url(#clip860)\" d=\"M126.205 176.871 Q122.593 176.871 120.765 180.436 Q118.959 183.978 118.959 191.107 Q118.959 198.214 120.765 201.779 Q122.593 205.32 126.205 205.32 Q129.839 205.32 131.644 201.779 Q133.473 198.214 133.473 191.107 Q133.473 183.978 131.644 180.436 Q129.839 176.871 126.205 176.871 M126.205 173.168 Q132.015 173.168 135.07 177.774 Q138.149 182.357 138.149 191.107 Q138.149 199.834 135.07 204.441 Q132.015 209.024 126.205 209.024 Q120.394 209.024 117.316 204.441 Q114.26 199.834 114.26 191.107 Q114.26 182.357 117.316 177.774 Q120.394 173.168 126.205 173.168 Z\" fill=\"#000000\" fill-rule=\"nonzero\" fill-opacity=\"1\" /><path clip-path=\"url(#clip860)\" d=\"M146.366 202.473 L151.251 202.473 L151.251 208.353 L146.366 208.353 L146.366 202.473 Z\" fill=\"#000000\" fill-rule=\"nonzero\" fill-opacity=\"1\" /><path clip-path=\"url(#clip860)\" d=\"M171.436 176.871 Q167.825 176.871 165.996 180.436 Q164.19 183.978 164.19 191.107 Q164.19 198.214 165.996 201.779 Q167.825 205.32 171.436 205.32 Q175.07 205.32 176.876 201.779 Q178.704 198.214 178.704 191.107 Q178.704 183.978 176.876 180.436 Q175.07 176.871 171.436 176.871 M171.436 173.168 Q177.246 173.168 180.301 177.774 Q183.38 182.357 183.38 191.107 Q183.38 199.834 180.301 204.441 Q177.246 209.024 171.436 209.024 Q165.626 209.024 162.547 204.441 Q159.491 199.834 159.491 191.107 Q159.491 182.357 162.547 177.774 Q165.626 173.168 171.436 173.168 Z\" fill=\"#000000\" fill-rule=\"nonzero\" fill-opacity=\"1\" /><path clip-path=\"url(#clip860)\" d=\"M192.408 204.418 L200.047 204.418 L200.047 178.052 L191.737 179.719 L191.737 175.459 L200 173.793 L204.676 173.793 L204.676 204.418 L212.315 204.418 L212.315 208.353 L192.408 208.353 L192.408 204.418 Z\" fill=\"#000000\" fill-rule=\"nonzero\" fill-opacity=\"1\" /><path clip-path=\"url(#clip860)\" d=\"M231.76 176.871 Q228.148 176.871 226.32 180.436 Q224.514 183.978 224.514 191.107 Q224.514 198.214 226.32 201.779 Q228.148 205.32 231.76 205.32 Q235.394 205.32 237.199 201.779 Q239.028 198.214 239.028 191.107 Q239.028 183.978 237.199 180.436 Q235.394 176.871 231.76 176.871 M231.76 173.168 Q237.57 173.168 240.625 177.774 Q243.704 182.357 243.704 191.107 Q243.704 199.834 240.625 204.441 Q237.57 209.024 231.76 209.024 Q225.949 209.024 222.871 204.441 Q219.815 199.834 219.815 191.107 Q219.815 182.357 222.871 177.774 Q225.949 173.168 231.76 173.168 Z\" fill=\"#000000\" fill-rule=\"nonzero\" fill-opacity=\"1\" /><path clip-path=\"url(#clip860)\" d=\"M261.921 176.871 Q258.31 176.871 256.482 180.436 Q254.676 183.978 254.676 191.107 Q254.676 198.214 256.482 201.779 Q258.31 205.32 261.921 205.32 Q265.556 205.32 267.361 201.779 Q269.19 198.214 269.19 191.107 Q269.19 183.978 267.361 180.436 Q265.556 176.871 261.921 176.871 M261.921 173.168 Q267.732 173.168 270.787 177.774 Q273.866 182.357 273.866 191.107 Q273.866 199.834 270.787 204.441 Q267.732 209.024 261.921 209.024 Q256.111 209.024 253.033 204.441 Q249.977 199.834 249.977 191.107 Q249.977 182.357 253.033 177.774 Q256.111 173.168 261.921 173.168 Z\" fill=\"#000000\" fill-rule=\"nonzero\" fill-opacity=\"1\" /><path clip-path=\"url(#clip860)\" d=\"M29.4065 807.717 L34.9447 807.717 Q33.6716 810.2 33.035 812.874 Q32.3984 815.547 32.3984 818.412 Q32.3984 822.772 33.7352 824.968 Q35.072 827.133 37.7456 827.133 Q39.7826 827.133 40.9603 825.573 Q42.1061 824.014 43.1565 819.303 L43.6021 817.298 Q44.9389 811.059 47.3897 808.449 Q49.8086 805.808 54.1691 805.808 Q59.1344 805.808 62.0308 809.754 Q64.9272 813.669 64.9272 820.544 Q64.9272 823.409 64.3543 826.528 Q63.8132 829.615 62.6992 833.053 L56.6518 833.053 Q58.3387 829.806 59.198 826.655 Q60.0256 823.504 60.0256 820.417 Q60.0256 816.279 58.6251 814.051 Q57.1929 811.823 54.6147 811.823 Q52.2276 811.823 50.9545 813.447 Q49.6813 815.038 48.5037 820.481 L48.0262 822.518 Q46.8804 827.96 44.5251 830.379 Q42.138 832.798 38.0002 832.798 Q32.9713 832.798 30.2341 829.233 Q27.4968 825.669 27.4968 819.112 Q27.4968 815.865 27.9743 813.001 Q28.4517 810.136 29.4065 807.717 Z\" fill=\"#000000\" fill-rule=\"nonzero\" fill-opacity=\"1\" /><path clip-path=\"url(#clip860)\" d=\"M44.7161 765.99 L47.5806 765.99 L47.5806 792.917 Q53.6281 792.535 56.8109 789.289 Q59.9619 786.01 59.9619 780.186 Q59.9619 776.812 59.1344 773.661 Q58.3069 770.478 56.6518 767.359 L62.1899 767.359 Q63.5267 770.51 64.227 773.82 Q64.9272 777.13 64.9272 780.536 Q64.9272 789.066 59.9619 794.063 Q54.9967 799.028 46.5303 799.028 Q37.7774 799.028 32.6531 794.318 Q27.4968 789.575 27.4968 781.554 Q27.4968 774.361 32.1438 770.192 Q36.7589 765.99 44.7161 765.99 M42.9973 771.847 Q38.1912 771.91 35.3266 774.552 Q32.4621 777.162 32.4621 781.491 Q32.4621 786.392 35.2312 789.352 Q38.0002 792.281 43.0292 792.726 L42.9973 771.847 Z\" fill=\"#000000\" fill-rule=\"nonzero\" fill-opacity=\"1\" /><path clip-path=\"url(#clip860)\" d=\"M42.4881 726.746 L64.0042 726.746 L64.0042 732.602 L42.679 732.602 Q37.6183 732.602 35.1038 734.575 Q32.5894 736.549 32.5894 740.496 Q32.5894 745.238 35.6131 747.975 Q38.6368 750.712 43.8567 750.712 L64.0042 750.712 L64.0042 756.601 L28.3562 756.601 L28.3562 750.712 L33.8944 750.712 Q30.6797 748.612 29.0883 745.779 Q27.4968 742.914 27.4968 739.191 Q27.4968 733.048 31.3163 729.897 Q35.1038 726.746 42.4881 726.746 Z\" fill=\"#000000\" fill-rule=\"nonzero\" fill-opacity=\"1\" /><path clip-path=\"url(#clip860)\" d=\"M14.5426 700.996 Q21.8632 705.261 29.0246 707.33 Q36.186 709.399 43.5384 709.399 Q50.8908 709.399 58.1159 707.33 Q65.3091 705.229 72.5979 700.996 L72.5979 706.089 Q65.1182 710.863 57.8931 713.25 Q50.668 715.606 43.5384 715.606 Q36.4406 715.606 29.2474 713.25 Q22.0542 710.895 14.5426 706.089 L14.5426 700.996 Z\" fill=\"#000000\" fill-rule=\"nonzero\" fill-opacity=\"1\" /><path clip-path=\"url(#clip860)\" d=\"M28.3562 660.001 L45.7028 672.892 L64.0042 659.333 L64.0042 666.24 L49.9996 676.616 L64.0042 686.992 L64.0042 693.899 L45.3526 680.053 L28.3562 692.721 L28.3562 685.814 L41.0558 676.361 L28.3562 666.908 L28.3562 660.001 Z\" fill=\"#000000\" fill-rule=\"nonzero\" fill-opacity=\"1\" /><path clip-path=\"url(#clip860)\" d=\"M14.5426 651.98 L14.5426 646.888 Q22.0542 642.114 29.2474 639.758 Q36.4406 637.371 43.5384 637.371 Q50.668 637.371 57.8931 639.758 Q65.1182 642.114 72.5979 646.888 L72.5979 651.98 Q65.3091 647.747 58.1159 645.678 Q50.8908 643.578 43.5384 643.578 Q36.186 643.578 29.0246 645.678 Q21.8632 647.747 14.5426 651.98 Z\" fill=\"#000000\" fill-rule=\"nonzero\" fill-opacity=\"1\" /><polyline clip-path=\"url(#clip862)\" style=\"stroke:#009af9; stroke-linecap:round; stroke-linejoin:round; stroke-width:4; stroke-opacity:1; fill:none\" points=\"367.683,1384.24 370.752,1384.24 373.821,1384.24 376.89,1384.24 379.959,1384.24 383.028,1384.24 386.097,1384.24 389.166,1384.24 392.234,1384.24 395.303,1384.24 398.372,1384.24 401.441,1384.24 404.51,1384.24 407.579,1384.24 410.648,1384.24 413.717,1384.24 416.785,1384.24 419.854,1384.24 422.923,1384.24 425.992,1384.24 429.061,1384.24 432.13,1384.24 435.199,1384.24 438.268,1384.24 441.336,1384.24 444.405,1384.24 447.474,1384.24 450.543,1384.24 453.612,1384.24 456.681,1384.24 459.75,1384.24 462.819,1384.24 465.887,1384.24 468.956,1384.24 472.025,1384.24 475.094,1384.24 478.163,1384.24 481.232,1384.24 484.301,1384.24 487.37,1384.24 490.439,1384.24 493.507,1384.24 496.576,1384.24 499.645,1384.24 502.714,1384.24 505.783,1384.24 508.852,1384.24 511.921,1384.24 514.99,1384.24 518.058,1384.24 521.127,1384.24 524.196,1384.24 527.265,1384.24 530.334,1384.24 533.403,1384.24 536.472,1384.24 539.541,1384.24 542.609,1384.24 545.678,1384.24 548.747,1384.24 551.816,1384.24 554.885,1384.24 557.954,1384.24 561.023,1384.24 564.092,1384.24 567.16,1384.24 570.229,1384.24 573.298,1384.24 576.367,1384.24 579.436,1384.24 582.505,1384.24 585.574,1384.24 588.643,1384.24 591.711,1384.24 594.78,1384.24 597.849,1384.24 600.918,1384.24 603.987,1384.24 607.056,1384.24 610.125,1384.24 613.194,1384.24 616.262,1384.24 619.331,1384.24 622.4,1384.24 625.469,1384.24 628.538,1384.24 631.607,1384.24 634.676,1384.24 637.745,1384.24 640.813,1384.24 643.882,1384.24 646.951,1384.24 650.02,1384.24 653.089,1384.24 656.158,1384.24 659.227,1384.24 662.296,1384.24 665.365,1384.24 668.433,1384.24 671.502,1384.24 674.571,1384.24 677.64,1384.24 680.709,1384.24 683.778,1384.24 686.847,1384.24 689.916,1384.24 692.984,1384.24 696.053,1384.24 699.122,1384.24 702.191,1384.24 705.26,1384.24 708.329,1384.24 711.398,1384.24 714.467,1384.24 717.535,1384.24 720.604,1384.24 723.673,1384.24 726.742,1384.24 729.811,1384.24 732.88,1384.24 735.949,1384.24 739.018,1384.24 742.086,1384.24 745.155,1384.24 748.224,1384.24 751.293,1384.24 754.362,1384.24 757.431,1384.24 760.5,1384.24 763.569,1384.24 766.637,1384.24 769.706,1384.24 772.775,1384.24 775.844,1384.24 778.913,1384.24 781.982,1384.24 785.051,1384.24 788.12,1384.24 791.188,1384.24 794.257,1384.24 797.326,1384.24 800.395,1384.24 803.464,1384.24 806.533,1384.24 809.602,1384.24 812.671,1384.24 815.739,1384.24 818.808,1384.24 821.877,1384.24 824.946,1384.24 828.015,1384.24 831.084,1384.24 834.153,1384.24 837.222,1384.24 840.291,1384.24 843.359,1384.24 846.428,1384.24 849.497,1384.24 852.566,1384.24 855.635,1384.24 858.704,1384.24 861.773,1384.24 864.842,1384.24 867.91,1384.24 870.979,1384.24 874.048,1384.24 877.117,1384.24 880.186,1384.24 883.255,1384.24 886.324,1384.24 889.393,1384.24 892.461,1384.24 895.53,1384.24 898.599,1384.24 901.668,1384.24 904.737,1384.24 907.806,1384.24 910.875,1384.24 913.944,1384.24 917.012,1384.24 920.081,1384.24 923.15,1384.24 926.219,1384.24 929.288,1384.24 932.357,1384.24 935.426,1384.24 938.495,1384.24 941.563,1384.24 944.632,1384.24 947.701,1384.24 950.77,1384.24 953.839,1384.24 956.908,1384.24 959.977,1384.24 963.046,1384.24 966.114,1384.24 969.183,1384.24 972.252,1384.24 975.321,1384.24 978.39,1384.24 981.459,1384.24 984.528,1384.24 987.597,1384.24 990.665,1384.24 993.734,1384.24 996.803,1384.24 999.872,1384.24 1002.94,1384.24 1006.01,1384.24 1009.08,1384.24 1012.15,1384.24 1015.22,1384.24 1018.29,1384.24 1021.35,1384.24 1024.42,1384.24 1027.49,1384.24 1030.56,1384.24 1033.63,1384.24 1036.7,1384.24 1039.77,1384.24 1042.84,1384.24 1045.91,1384.24 1048.97,1384.24 1052.04,1384.24 1055.11,1384.24 1058.18,1384.24 1061.25,1384.24 1064.32,1384.24 1067.39,1384.24 1070.46,1384.24 1073.53,1384.24 1076.59,1384.24 1079.66,1384.24 1082.73,1384.24 1085.8,1384.24 1088.87,1384.24 1091.94,1384.24 1095.01,1384.24 1098.08,1384.24 1101.15,1384.24 1104.21,1384.24 1107.28,1384.24 1110.35,1384.24 1113.42,1384.24 1116.49,1384.24 1119.56,1384.24 1122.63,1384.24 1125.7,1384.24 1128.76,1384.24 1131.83,1384.24 1134.9,1384.24 1137.97,1384.24 1141.04,1384.24 1144.11,1384.24 1147.18,1384.24 1150.25,1384.24 1153.32,1384.24 1156.38,1384.24 1159.45,1384.24 1162.52,1384.24 1165.59,1384.24 1168.66,1384.24 1171.73,1384.24 1174.8,1384.24 1177.87,1384.24 1180.94,1384.24 1184,1384.24 1187.07,1384.24 1190.14,1384.24 1193.21,1384.24 1196.28,1384.24 1199.35,1384.24 1202.42,1384.24 1205.49,1384.24 1208.56,1384.24 1211.62,1384.24 1214.69,1384.24 1217.76,1384.24 1220.83,1384.24 1223.9,1384.24 1226.97,1384.24 1230.04,1384.24 1233.11,1384.24 1236.18,1384.24 1239.24,1384.24 1242.31,1384.24 1245.38,1384.24 1248.45,1384.24 1251.52,1384.24 1254.59,1384.24 1257.66,1384.24 1260.73,1384.24 1263.8,1384.24 1266.86,1384.24 1269.93,1384.24 1273,1384.24 1276.07,1384.24 1279.14,1384.24 1282.21,1384.24 1285.28,1384.24 1288.35,1384.24 1291.42,1384.24 1294.48,1384.24 1297.55,1384.24 1300.62,1384.24 1303.69,1384.24 1306.76,1384.24 1309.83,1384.24 1312.9,1384.24 1315.97,1384.24 1319.04,1384.24 1322.1,1384.24 1325.17,1384.24 1328.24,1384.24 1331.31,1384.24 1334.38,1384.24 1337.45,1384.24 1340.52,1384.24 1343.59,1384.23 1346.66,1384.23 1349.72,1384.23 1352.79,1384.23 1355.86,1384.23 1358.93,1384.23 1362,1384.23 1365.07,1384.23 1368.14,1384.23 1371.21,1384.23 1374.28,1384.23 1377.34,1384.23 1380.41,1384.23 1383.48,1384.23 1386.55,1384.23 1389.62,1384.23 1392.69,1384.23 1395.76,1384.23 1398.83,1384.23 1401.9,1384.23 1404.96,1384.23 1408.03,1384.23 1411.1,1384.23 1414.17,1384.23 1417.24,1384.22 1420.31,1384.22 1423.38,1384.22 1426.45,1384.22 1429.51,1384.22 1432.58,1384.22 1435.65,1384.22 1438.72,1384.22 1441.79,1384.22 1444.86,1384.22 1447.93,1384.22 1451,1384.21 1454.07,1384.21 1457.13,1384.21 1460.2,1384.21 1463.27,1384.21 1466.34,1384.21 1469.41,1384.2 1472.48,1384.2 1475.55,1384.2 1478.62,1384.2 1481.69,1384.2 1484.75,1384.19 1487.82,1384.19 1490.89,1384.19 1493.96,1384.19 1497.03,1384.18 1500.1,1384.18 1503.17,1384.18 1506.24,1384.18 1509.31,1384.17 1512.37,1384.17 1515.44,1384.17 1518.51,1384.16 1521.58,1384.16 1524.65,1384.15 1527.72,1384.15 1530.79,1384.14 1533.86,1384.14 1536.93,1384.13 1539.99,1384.13 1543.06,1384.12 1546.13,1384.12 1549.2,1384.11 1552.27,1384.11 1555.34,1384.1 1558.41,1384.09 1561.48,1384.09 1564.55,1384.08 1567.61,1384.07 1570.68,1384.06 1573.75,1384.05 1576.82,1384.04 1579.89,1384.03 1582.96,1384.02 1586.03,1384.01 1589.1,1384 1592.17,1383.99 1595.23,1383.98 1598.3,1383.97 1601.37,1383.95 1604.44,1383.94 1607.51,1383.92 1610.58,1383.91 1613.65,1383.89 1616.72,1383.88 1619.79,1383.86 1622.85,1383.84 1625.92,1383.82 1628.99,1383.8 1632.06,1383.78 1635.13,1383.76 1638.2,1383.74 1641.27,1383.72 1644.34,1383.69 1647.41,1383.67 1650.47,1383.64 1653.54,1383.61 1656.61,1383.58 1659.68,1383.55 1662.75,1383.52 1665.82,1383.49 1668.89,1383.46 1671.96,1383.42 1675.03,1383.38 1678.09,1383.34 1681.16,1383.3 1684.23,1383.26 1687.3,1383.22 1690.37,1383.17 1693.44,1383.12 1696.51,1383.07 1699.58,1383.02 1702.64,1382.97 1705.71,1382.91 1708.78,1382.85 1711.85,1382.79 1714.92,1382.73 1717.99,1382.66 1721.06,1382.59 1724.13,1382.52 1727.2,1382.45 1730.26,1382.37 1733.33,1382.29 1736.4,1382.2 1739.47,1382.11 1742.54,1382.02 1745.61,1381.93 1748.68,1381.83 1751.75,1381.72 1754.82,1381.62 1757.88,1381.51 1760.95,1381.39 1764.02,1381.27 1767.09,1381.14 1770.16,1381.01 1773.23,1380.88 1776.3,1380.73 1779.37,1380.59 1782.44,1380.43 1785.5,1380.27 1788.57,1380.11 1791.64,1379.94 1794.71,1379.76 1797.78,1379.57 1800.85,1379.38 1803.92,1379.18 1806.99,1378.97 1810.06,1378.76 1813.12,1378.53 1816.19,1378.3 1819.26,1378.05 1822.33,1377.8 1825.4,1377.54 1828.47,1377.27 1831.54,1376.99 1834.61,1376.7 1837.68,1376.39 1840.74,1376.08 1843.81,1375.75 1846.88,1375.41 1849.95,1375.06 1853.02,1374.69 1856.09,1374.31 1859.16,1373.92 1862.23,1373.51 1865.3,1373.08 1868.36,1372.64 1871.43,1372.19 1874.5,1371.72 1877.57,1371.23 1880.64,1370.72 1883.71,1370.19 1886.78,1369.64 1889.85,1369.07 1892.92,1368.49 1895.98,1367.88 1899.05,1367.25 1902.12,1366.59 1905.19,1365.91 1908.26,1365.21 1911.33,1364.48 1914.4,1363.72 1917.47,1362.94 1920.54,1362.13 1923.6,1361.29 1926.67,1360.42 1929.74,1359.52 1932.81,1358.59 1935.88,1357.62 1938.95,1356.62 1942.02,1355.58 1945.09,1354.51 1948.16,1353.4 1951.22,1352.25 1954.29,1351.06 1957.36,1349.83 1960.43,1348.55 1963.5,1347.23 1966.57,1345.86 1969.64,1344.45 1972.71,1342.99 1975.78,1341.47 1978.84,1339.9 1981.91,1338.28 1984.98,1336.61 1988.05,1334.87 1991.12,1333.08 1994.19,1331.22 1997.26,1329.3 2000.33,1327.31 2003.39,1325.26 2006.46,1323.14 2009.53,1320.94 2012.6,1318.67 2015.67,1316.32 2018.74,1313.9 2021.81,1311.39 2024.88,1308.8 2027.95,1306.12 2031.01,1303.35 2034.08,1300.48 2037.15,1297.53 2040.22,1294.47 2043.29,1291.31 2046.36,1288.05 2049.43,1284.67 2052.5,1281.19 2055.57,1277.59 2058.63,1273.87 2061.7,1270.03 2064.77,1266.07 2067.84,1261.97 2070.91,1257.74 2073.98,1253.37 2077.05,1248.86 2080.12,1244.2 2083.19,1239.4 2086.25,1234.43 2089.32,1229.3 2092.39,1224.01 2095.46,1218.55 2098.53,1212.91 2101.6,1207.09 2104.67,1201.09 2107.74,1194.89 2110.81,1188.49 2113.87,1181.89 2116.94,1175.08 2120.01,1168.05 2123.08,1160.8 2126.15,1153.32 2129.22,1145.61 2132.29,1137.65 2135.36,1129.44 2138.43,1120.97 2141.49,1112.23 2144.56,1103.22 2147.63,1093.93 2150.7,1084.35 2153.77,1074.47 2156.84,1064.29 2159.91,1053.79 2162.98,1042.96 2166.05,1031.79 2169.11,1020.29 2172.18,1008.42 2175.25,996.194 2178.32,983.59 2181.39,970.599 2184.46,957.21 2187.53,943.413 2190.6,929.194 2193.67,914.541 2196.73,899.444 2199.8,883.888 2202.87,867.86 2205.94,851.348 2209.01,834.337 2212.08,816.813 2215.15,798.762 2218.22,780.168 2221.29,761.017 2224.35,741.292 2227.42,720.978 2230.49,700.058 2233.56,678.514 2236.63,656.33 2239.7,633.487 2242.77,609.967 2245.84,585.751 2248.91,560.82 2251.97,535.154 2255.04,508.732 2258.11,481.534 2261.18,453.538 2264.25,424.721 2267.32,395.063 2270.39,364.538 2273.46,333.124 2276.52,300.796 2279.59,267.528 2282.66,233.296 2285.73,198.074 2288.8,161.833 2291.87,124.546 2294.94,86.1857 \"/>\n",
       "<path clip-path=\"url(#clip860)\" d=\"M377.962 196.789 L694.403 196.789 L694.403 93.1086 L377.962 93.1086  Z\" fill=\"#ffffff\" fill-rule=\"evenodd\" fill-opacity=\"1\"/>\n",
       "<polyline clip-path=\"url(#clip860)\" style=\"stroke:#000000; stroke-linecap:round; stroke-linejoin:round; stroke-width:4; stroke-opacity:1; fill:none\" points=\"377.962,196.789 694.403,196.789 694.403,93.1086 377.962,93.1086 377.962,196.789 \"/>\n",
       "<polyline clip-path=\"url(#clip860)\" style=\"stroke:#009af9; stroke-linecap:round; stroke-linejoin:round; stroke-width:4; stroke-opacity:1; fill:none\" points=\"400.661,144.949 536.854,144.949 \"/>\n",
       "<path clip-path=\"url(#clip860)\" d=\"M583.58 148.201 L583.58 150.284 L563.997 150.284 Q564.275 154.682 566.636 156.997 Q569.02 159.289 573.256 159.289 Q575.71 159.289 578.001 158.687 Q580.316 158.085 582.585 156.881 L582.585 160.909 Q580.293 161.881 577.886 162.391 Q575.478 162.9 573.001 162.9 Q566.798 162.9 563.163 159.289 Q559.552 155.678 559.552 149.52 Q559.552 143.155 562.978 139.428 Q566.427 135.678 572.261 135.678 Q577.492 135.678 580.524 139.057 Q583.58 142.414 583.58 148.201 M579.321 146.951 Q579.274 143.456 577.353 141.372 Q575.455 139.289 572.307 139.289 Q568.742 139.289 566.589 141.303 Q564.46 143.317 564.136 146.974 L579.321 146.951 Z\" fill=\"#000000\" fill-rule=\"nonzero\" fill-opacity=\"1\" /><path clip-path=\"url(#clip860)\" d=\"M605.594 140.284 Q604.876 139.868 604.02 139.682 Q603.186 139.474 602.168 139.474 Q598.557 139.474 596.612 141.835 Q594.691 144.173 594.691 148.571 L594.691 162.229 L590.409 162.229 L590.409 136.303 L594.691 136.303 L594.691 140.331 Q596.034 137.969 598.186 136.835 Q600.339 135.678 603.418 135.678 Q603.858 135.678 604.39 135.747 Q604.922 135.794 605.571 135.909 L605.594 140.284 Z\" fill=\"#000000\" fill-rule=\"nonzero\" fill-opacity=\"1\" /><path clip-path=\"url(#clip860)\" d=\"M624.251 140.284 Q623.533 139.868 622.677 139.682 Q621.844 139.474 620.825 139.474 Q617.214 139.474 615.27 141.835 Q613.348 144.173 613.348 148.571 L613.348 162.229 L609.066 162.229 L609.066 136.303 L613.348 136.303 L613.348 140.331 Q614.691 137.969 616.844 136.835 Q618.996 135.678 622.075 135.678 Q622.515 135.678 623.047 135.747 Q623.58 135.794 624.228 135.909 L624.251 140.284 Z\" fill=\"#000000\" fill-rule=\"nonzero\" fill-opacity=\"1\" /><path clip-path=\"url(#clip860)\" d=\"M637.723 139.289 Q634.297 139.289 632.307 141.974 Q630.316 144.636 630.316 149.289 Q630.316 153.942 632.283 156.627 Q634.274 159.289 637.723 159.289 Q641.126 159.289 643.117 156.604 Q645.107 153.918 645.107 149.289 Q645.107 144.682 643.117 141.997 Q641.126 139.289 637.723 139.289 M637.723 135.678 Q643.279 135.678 646.45 139.289 Q649.621 142.9 649.621 149.289 Q649.621 155.655 646.45 159.289 Q643.279 162.9 637.723 162.9 Q632.145 162.9 628.973 159.289 Q625.825 155.655 625.825 149.289 Q625.825 142.9 628.973 139.289 Q632.145 135.678 637.723 135.678 Z\" fill=\"#000000\" fill-rule=\"nonzero\" fill-opacity=\"1\" /><path clip-path=\"url(#clip860)\" d=\"M671.705 140.284 Q670.987 139.868 670.13 139.682 Q669.297 139.474 668.279 139.474 Q664.668 139.474 662.723 141.835 Q660.802 144.173 660.802 148.571 L660.802 162.229 L656.519 162.229 L656.519 136.303 L660.802 136.303 L660.802 140.331 Q662.144 137.969 664.297 136.835 Q666.45 135.678 669.529 135.678 Q669.968 135.678 670.501 135.747 Q671.033 135.794 671.681 135.909 L671.705 140.284 Z\" fill=\"#000000\" fill-rule=\"nonzero\" fill-opacity=\"1\" /></svg>\n"
      ]
     },
     "execution_count": 4,
     "metadata": {},
     "output_type": "execute_result"
    }
   ],
   "source": [
    "#Este es el ejercicio 3\n",
    "function wrong(y,j)\n",
    "    error = 0\n",
    "    for i in 1:j\n",
    "        error = Float32(h(y)-sin(y))\n",
    "    end\n",
    "    return error\n",
    "end\n",
    "p = wrong.(range1,j)\n",
    "\n",
    "plot(range1,p,xlabel=\"x\",ylabel=\"sen(x)\",label=\"error\", ylims=(1,4))\n",
    "\n",
    "#Este es el ejercicio 4\n",
    "\n",
    "function sin_n_inv(x, n)\n",
    "    taylor_inv = x\n",
    "    for i in n:-1:1\n",
    "        taylor_inv += (((-1)^i)/(factorial(2*i+1)))*x^(2i+1)\n",
    "    end\n",
    "    return taylor_inv\n",
    "end\n",
    "\n",
    "function wrong_inv(y,j)\n",
    "    error = 0\n",
    "    for i in 1:j\n",
    "        error = Float32(h(y)-sin(y))\n",
    "    end\n",
    "    return error\n",
    "end\n",
    "p = wrong.(range1,j)\n",
    "\n",
    "plot(range1,p,xlabel=\"x\",ylabel=\"sen(x)\",label=\"error\")\n"
   ]
  },
  {
   "cell_type": "code",
   "execution_count": null,
   "metadata": {
    "scrolled": true
   },
   "outputs": [],
   "source": [
    "using Pkg\n",
    "Pkg.add(\"BenchmarkTools\")\n",
    "^"
   ]
  },
  {
   "cell_type": "markdown",
   "metadata": {},
   "source": [
    "### Problema 14\n",
    "\n",
    "1. Escriba un programa que calcule la posición y la velocidad en función del tiempo para un problema de tiro oblicuo. El programa debe asumiendo que el proyectil parte del origen, y debe tomar como datos de entrada el ángulo $\\theta$ (en grados) y la rapidéz inicial $v_0$ (en m/seg.) del proyectil.\n",
    "\n",
    "2. Calcule la trayectoria para $\\theta=°30$ y $v_0=50\\, m/s$. Elija el incremento temporal ($\\Delta t$) de manera que eventualmente pueda graficar una trajectoria con 600 puntos en el intervalo entre el disparo y el instante $T$ en que el proyectil vuelve a tener altura 0. \n",
    "\n",
    "3. En una figura grafique $x(t)$, $y(t)$ y $v_y(t)$ en función de $t$. \n",
    "\n",
    "4. En otra figura grafique la trayectoria del proyectil.\n",
    "\n",
    "**Ayuda:** para plotear puntos o curvas, lea [https://docs.juliaplots.org/latest/tutorial/](https://docs.juliaplots.org/latest/tutorial/)."
   ]
  },
  {
   "cell_type": "code",
   "execution_count": 6,
   "metadata": {},
   "outputs": [
    {
     "name": "stdout",
     "output_type": "stream",
     "text": [
      "Escriba el valor del angulo de salida\n",
      "stdin> 30\n",
      "Escriba el valor de la velocidad incial\n",
      "stdin> 50\n",
      "[0.0, 0.04251700680272108, 0.08503401360544216, 0.12755102040816324, 0.17006802721088432, 0.2125850340136054, 0.2551020408163265, 0.29761904761904756, 0.34013605442176864, 0.3826530612244897, 0.4251700680272108, 0.4676870748299319, 0.510204081632653, 0.552721088435374, 0.5952380952380951, 0.6377551020408162, 0.6802721088435373, 0.7227891156462584, 0.7653061224489794, 0.8078231292517005, 0.8503401360544216, 0.8928571428571427, 0.9353741496598638, 0.9778911564625848, 1.020408163265306, 1.0629251700680271, 1.105442176870748, 1.147959183673469, 1.1904761904761902, 1.2329931972789114, 1.2755102040816324, 1.3180272108843534, 1.3605442176870746, 1.4030612244897958, 1.4455782312925167, 1.4880952380952377, 1.5306122448979589, 1.57312925170068, 1.615646258503401, 1.658163265306122, 1.7006802721088432, 1.7431972789115644, 1.7857142857142854, 1.8282312925170063, 1.8707482993197275, 1.9132653061224487, 1.9557823129251697, 1.9982993197278907, 2.040816326530612, 2.083333333333333, 2.1258503401360542, 2.168367346938775, 2.210884353741496, 2.2534013605442174, 2.295918367346938, 2.3384353741496593, 2.3809523809523805, 2.4234693877551017, 2.465986394557823, 2.5085034013605436, 2.551020408163265]\n"
     ]
    },
    {
     "data": {
      "image/svg+xml": [
       "<?xml version=\"1.0\" encoding=\"utf-8\"?>\n",
       "<svg xmlns=\"http://www.w3.org/2000/svg\" xmlns:xlink=\"http://www.w3.org/1999/xlink\" width=\"600\" height=\"400\" viewBox=\"0 0 2400 1600\">\n",
       "<defs>\n",
       "  <clipPath id=\"clip940\">\n",
       "    <rect x=\"0\" y=\"0\" width=\"2400\" height=\"1600\"/>\n",
       "  </clipPath>\n",
       "</defs>\n",
       "<path clip-path=\"url(#clip940)\" d=\"M0 1600 L2400 1600 L2400 0 L0 0  Z\" fill=\"#ffffff\" fill-rule=\"evenodd\" fill-opacity=\"1\"/>\n",
       "<defs>\n",
       "  <clipPath id=\"clip941\">\n",
       "    <rect x=\"480\" y=\"0\" width=\"1681\" height=\"1600\"/>\n",
       "  </clipPath>\n",
       "</defs>\n",
       "<path clip-path=\"url(#clip940)\" d=\"M203.964 1423.18 L2352.76 1423.18 L2352.76 47.2441 L203.964 47.2441  Z\" fill=\"#ffffff\" fill-rule=\"evenodd\" fill-opacity=\"1\"/>\n",
       "<defs>\n",
       "  <clipPath id=\"clip942\">\n",
       "    <rect x=\"203\" y=\"47\" width=\"2150\" height=\"1377\"/>\n",
       "  </clipPath>\n",
       "</defs>\n",
       "<polyline clip-path=\"url(#clip942)\" style=\"stroke:#000000; stroke-linecap:round; stroke-linejoin:round; stroke-width:2; stroke-opacity:0.1; fill:none\" points=\"264.778,1423.18 264.778,47.2441 \"/>\n",
       "<polyline clip-path=\"url(#clip942)\" style=\"stroke:#000000; stroke-linecap:round; stroke-linejoin:round; stroke-width:2; stroke-opacity:0.1; fill:none\" points=\"662.102,1423.18 662.102,47.2441 \"/>\n",
       "<polyline clip-path=\"url(#clip942)\" style=\"stroke:#000000; stroke-linecap:round; stroke-linejoin:round; stroke-width:2; stroke-opacity:0.1; fill:none\" points=\"1059.43,1423.18 1059.43,47.2441 \"/>\n",
       "<polyline clip-path=\"url(#clip942)\" style=\"stroke:#000000; stroke-linecap:round; stroke-linejoin:round; stroke-width:2; stroke-opacity:0.1; fill:none\" points=\"1456.75,1423.18 1456.75,47.2441 \"/>\n",
       "<polyline clip-path=\"url(#clip942)\" style=\"stroke:#000000; stroke-linecap:round; stroke-linejoin:round; stroke-width:2; stroke-opacity:0.1; fill:none\" points=\"1854.07,1423.18 1854.07,47.2441 \"/>\n",
       "<polyline clip-path=\"url(#clip942)\" style=\"stroke:#000000; stroke-linecap:round; stroke-linejoin:round; stroke-width:2; stroke-opacity:0.1; fill:none\" points=\"2251.4,1423.18 2251.4,47.2441 \"/>\n",
       "<polyline clip-path=\"url(#clip940)\" style=\"stroke:#000000; stroke-linecap:round; stroke-linejoin:round; stroke-width:4; stroke-opacity:1; fill:none\" points=\"203.964,1423.18 2352.76,1423.18 \"/>\n",
       "<polyline clip-path=\"url(#clip940)\" style=\"stroke:#000000; stroke-linecap:round; stroke-linejoin:round; stroke-width:4; stroke-opacity:1; fill:none\" points=\"264.778,1423.18 264.778,1404.28 \"/>\n",
       "<polyline clip-path=\"url(#clip940)\" style=\"stroke:#000000; stroke-linecap:round; stroke-linejoin:round; stroke-width:4; stroke-opacity:1; fill:none\" points=\"662.102,1423.18 662.102,1404.28 \"/>\n",
       "<polyline clip-path=\"url(#clip940)\" style=\"stroke:#000000; stroke-linecap:round; stroke-linejoin:round; stroke-width:4; stroke-opacity:1; fill:none\" points=\"1059.43,1423.18 1059.43,1404.28 \"/>\n",
       "<polyline clip-path=\"url(#clip940)\" style=\"stroke:#000000; stroke-linecap:round; stroke-linejoin:round; stroke-width:4; stroke-opacity:1; fill:none\" points=\"1456.75,1423.18 1456.75,1404.28 \"/>\n",
       "<polyline clip-path=\"url(#clip940)\" style=\"stroke:#000000; stroke-linecap:round; stroke-linejoin:round; stroke-width:4; stroke-opacity:1; fill:none\" points=\"1854.07,1423.18 1854.07,1404.28 \"/>\n",
       "<polyline clip-path=\"url(#clip940)\" style=\"stroke:#000000; stroke-linecap:round; stroke-linejoin:round; stroke-width:4; stroke-opacity:1; fill:none\" points=\"2251.4,1423.18 2251.4,1404.28 \"/>\n",
       "<path clip-path=\"url(#clip940)\" d=\"M242.163 1454.1 Q238.552 1454.1 236.723 1457.66 Q234.917 1461.2 234.917 1468.33 Q234.917 1475.44 236.723 1479.01 Q238.552 1482.55 242.163 1482.55 Q245.797 1482.55 247.603 1479.01 Q249.431 1475.44 249.431 1468.33 Q249.431 1461.2 247.603 1457.66 Q245.797 1454.1 242.163 1454.1 M242.163 1450.39 Q247.973 1450.39 251.029 1455 Q254.107 1459.58 254.107 1468.33 Q254.107 1477.06 251.029 1481.67 Q247.973 1486.25 242.163 1486.25 Q236.353 1486.25 233.274 1481.67 Q230.218 1477.06 230.218 1468.33 Q230.218 1459.58 233.274 1455 Q236.353 1450.39 242.163 1450.39 Z\" fill=\"#000000\" fill-rule=\"nonzero\" fill-opacity=\"1\" /><path clip-path=\"url(#clip940)\" d=\"M262.325 1479.7 L267.209 1479.7 L267.209 1485.58 L262.325 1485.58 L262.325 1479.7 Z\" fill=\"#000000\" fill-rule=\"nonzero\" fill-opacity=\"1\" /><path clip-path=\"url(#clip940)\" d=\"M287.394 1454.1 Q283.783 1454.1 281.954 1457.66 Q280.149 1461.2 280.149 1468.33 Q280.149 1475.44 281.954 1479.01 Q283.783 1482.55 287.394 1482.55 Q291.028 1482.55 292.834 1479.01 Q294.663 1475.44 294.663 1468.33 Q294.663 1461.2 292.834 1457.66 Q291.028 1454.1 287.394 1454.1 M287.394 1450.39 Q293.204 1450.39 296.26 1455 Q299.338 1459.58 299.338 1468.33 Q299.338 1477.06 296.26 1481.67 Q293.204 1486.25 287.394 1486.25 Q281.584 1486.25 278.505 1481.67 Q275.45 1477.06 275.45 1468.33 Q275.45 1459.58 278.505 1455 Q281.584 1450.39 287.394 1450.39 Z\" fill=\"#000000\" fill-rule=\"nonzero\" fill-opacity=\"1\" /><path clip-path=\"url(#clip940)\" d=\"M639.984 1454.1 Q636.373 1454.1 634.545 1457.66 Q632.739 1461.2 632.739 1468.33 Q632.739 1475.44 634.545 1479.01 Q636.373 1482.55 639.984 1482.55 Q643.619 1482.55 645.424 1479.01 Q647.253 1475.44 647.253 1468.33 Q647.253 1461.2 645.424 1457.66 Q643.619 1454.1 639.984 1454.1 M639.984 1450.39 Q645.795 1450.39 648.85 1455 Q651.929 1459.58 651.929 1468.33 Q651.929 1477.06 648.85 1481.67 Q645.795 1486.25 639.984 1486.25 Q634.174 1486.25 631.096 1481.67 Q628.04 1477.06 628.04 1468.33 Q628.04 1459.58 631.096 1455 Q634.174 1450.39 639.984 1450.39 Z\" fill=\"#000000\" fill-rule=\"nonzero\" fill-opacity=\"1\" /><path clip-path=\"url(#clip940)\" d=\"M660.146 1479.7 L665.031 1479.7 L665.031 1485.58 L660.146 1485.58 L660.146 1479.7 Z\" fill=\"#000000\" fill-rule=\"nonzero\" fill-opacity=\"1\" /><path clip-path=\"url(#clip940)\" d=\"M675.262 1451.02 L693.618 1451.02 L693.618 1454.96 L679.544 1454.96 L679.544 1463.43 Q680.563 1463.08 681.581 1462.92 Q682.6 1462.73 683.618 1462.73 Q689.405 1462.73 692.785 1465.9 Q696.165 1469.08 696.165 1474.49 Q696.165 1480.07 692.692 1483.17 Q689.22 1486.25 682.901 1486.25 Q680.725 1486.25 678.456 1485.88 Q676.211 1485.51 673.804 1484.77 L673.804 1480.07 Q675.887 1481.2 678.109 1481.76 Q680.331 1482.32 682.808 1482.32 Q686.813 1482.32 689.151 1480.21 Q691.489 1478.1 691.489 1474.49 Q691.489 1470.88 689.151 1468.77 Q686.813 1466.67 682.808 1466.67 Q680.933 1466.67 679.058 1467.08 Q677.206 1467.5 675.262 1468.38 L675.262 1451.02 Z\" fill=\"#000000\" fill-rule=\"nonzero\" fill-opacity=\"1\" /><path clip-path=\"url(#clip940)\" d=\"M1026.58 1481.64 L1034.22 1481.64 L1034.22 1455.28 L1025.91 1456.95 L1025.91 1452.69 L1034.17 1451.02 L1038.85 1451.02 L1038.85 1481.64 L1046.49 1481.64 L1046.49 1485.58 L1026.58 1485.58 L1026.58 1481.64 Z\" fill=\"#000000\" fill-rule=\"nonzero\" fill-opacity=\"1\" /><path clip-path=\"url(#clip940)\" d=\"M1055.93 1479.7 L1060.82 1479.7 L1060.82 1485.58 L1055.93 1485.58 L1055.93 1479.7 Z\" fill=\"#000000\" fill-rule=\"nonzero\" fill-opacity=\"1\" /><path clip-path=\"url(#clip940)\" d=\"M1081 1454.1 Q1077.39 1454.1 1075.56 1457.66 Q1073.75 1461.2 1073.75 1468.33 Q1073.75 1475.44 1075.56 1479.01 Q1077.39 1482.55 1081 1482.55 Q1084.63 1482.55 1086.44 1479.01 Q1088.27 1475.44 1088.27 1468.33 Q1088.27 1461.2 1086.44 1457.66 Q1084.63 1454.1 1081 1454.1 M1081 1450.39 Q1086.81 1450.39 1089.87 1455 Q1092.94 1459.58 1092.94 1468.33 Q1092.94 1477.06 1089.87 1481.67 Q1086.81 1486.25 1081 1486.25 Q1075.19 1486.25 1072.11 1481.67 Q1069.06 1477.06 1069.06 1468.33 Q1069.06 1459.58 1072.11 1455 Q1075.19 1450.39 1081 1450.39 Z\" fill=\"#000000\" fill-rule=\"nonzero\" fill-opacity=\"1\" /><path clip-path=\"url(#clip940)\" d=\"M1424.4 1481.64 L1432.04 1481.64 L1432.04 1455.28 L1423.73 1456.95 L1423.73 1452.69 L1431.99 1451.02 L1436.67 1451.02 L1436.67 1481.64 L1444.31 1481.64 L1444.31 1485.58 L1424.4 1485.58 L1424.4 1481.64 Z\" fill=\"#000000\" fill-rule=\"nonzero\" fill-opacity=\"1\" /><path clip-path=\"url(#clip940)\" d=\"M1453.75 1479.7 L1458.64 1479.7 L1458.64 1485.58 L1453.75 1485.58 L1453.75 1479.7 Z\" fill=\"#000000\" fill-rule=\"nonzero\" fill-opacity=\"1\" /><path clip-path=\"url(#clip940)\" d=\"M1468.87 1451.02 L1487.22 1451.02 L1487.22 1454.96 L1473.15 1454.96 L1473.15 1463.43 Q1474.17 1463.08 1475.19 1462.92 Q1476.21 1462.73 1477.22 1462.73 Q1483.01 1462.73 1486.39 1465.9 Q1489.77 1469.08 1489.77 1474.49 Q1489.77 1480.07 1486.3 1483.17 Q1482.83 1486.25 1476.51 1486.25 Q1474.33 1486.25 1472.06 1485.88 Q1469.82 1485.51 1467.41 1484.77 L1467.41 1480.07 Q1469.49 1481.2 1471.72 1481.76 Q1473.94 1482.32 1476.41 1482.32 Q1480.42 1482.32 1482.76 1480.21 Q1485.09 1478.1 1485.09 1474.49 Q1485.09 1470.88 1482.76 1468.77 Q1480.42 1466.67 1476.41 1466.67 Q1474.54 1466.67 1472.66 1467.08 Q1470.81 1467.5 1468.87 1468.38 L1468.87 1451.02 Z\" fill=\"#000000\" fill-rule=\"nonzero\" fill-opacity=\"1\" /><path clip-path=\"url(#clip940)\" d=\"M1825.31 1481.64 L1841.63 1481.64 L1841.63 1485.58 L1819.69 1485.58 L1819.69 1481.64 Q1822.35 1478.89 1826.93 1474.26 Q1831.54 1469.61 1832.72 1468.27 Q1834.97 1465.74 1835.84 1464.01 Q1836.75 1462.25 1836.75 1460.56 Q1836.75 1457.8 1834.8 1456.07 Q1832.88 1454.33 1829.78 1454.33 Q1827.58 1454.33 1825.13 1455.09 Q1822.7 1455.86 1819.92 1457.41 L1819.92 1452.69 Q1822.74 1451.55 1825.2 1450.97 Q1827.65 1450.39 1829.69 1450.39 Q1835.06 1450.39 1838.25 1453.08 Q1841.45 1455.77 1841.45 1460.26 Q1841.45 1462.39 1840.64 1464.31 Q1839.85 1466.2 1837.74 1468.8 Q1837.16 1469.47 1834.06 1472.69 Q1830.96 1475.88 1825.31 1481.64 Z\" fill=\"#000000\" fill-rule=\"nonzero\" fill-opacity=\"1\" /><path clip-path=\"url(#clip940)\" d=\"M1851.45 1479.7 L1856.33 1479.7 L1856.33 1485.58 L1851.45 1485.58 L1851.45 1479.7 Z\" fill=\"#000000\" fill-rule=\"nonzero\" fill-opacity=\"1\" /><path clip-path=\"url(#clip940)\" d=\"M1876.52 1454.1 Q1872.9 1454.1 1871.08 1457.66 Q1869.27 1461.2 1869.27 1468.33 Q1869.27 1475.44 1871.08 1479.01 Q1872.9 1482.55 1876.52 1482.55 Q1880.15 1482.55 1881.96 1479.01 Q1883.78 1475.44 1883.78 1468.33 Q1883.78 1461.2 1881.96 1457.66 Q1880.15 1454.1 1876.52 1454.1 M1876.52 1450.39 Q1882.33 1450.39 1885.38 1455 Q1888.46 1459.58 1888.46 1468.33 Q1888.46 1477.06 1885.38 1481.67 Q1882.33 1486.25 1876.52 1486.25 Q1870.71 1486.25 1867.63 1481.67 Q1864.57 1477.06 1864.57 1468.33 Q1864.57 1459.58 1867.63 1455 Q1870.71 1450.39 1876.52 1450.39 Z\" fill=\"#000000\" fill-rule=\"nonzero\" fill-opacity=\"1\" /><path clip-path=\"url(#clip940)\" d=\"M2223.13 1481.64 L2239.45 1481.64 L2239.45 1485.58 L2217.51 1485.58 L2217.51 1481.64 Q2220.17 1478.89 2224.75 1474.26 Q2229.36 1469.61 2230.54 1468.27 Q2232.79 1465.74 2233.67 1464.01 Q2234.57 1462.25 2234.57 1460.56 Q2234.57 1457.8 2232.62 1456.07 Q2230.7 1454.33 2227.6 1454.33 Q2225.4 1454.33 2222.95 1455.09 Q2220.52 1455.86 2217.74 1457.41 L2217.74 1452.69 Q2220.56 1451.55 2223.02 1450.97 Q2225.47 1450.39 2227.51 1450.39 Q2232.88 1450.39 2236.07 1453.08 Q2239.27 1455.77 2239.27 1460.26 Q2239.27 1462.39 2238.46 1464.31 Q2237.67 1466.2 2235.56 1468.8 Q2234.99 1469.47 2231.88 1472.69 Q2228.78 1475.88 2223.13 1481.64 Z\" fill=\"#000000\" fill-rule=\"nonzero\" fill-opacity=\"1\" /><path clip-path=\"url(#clip940)\" d=\"M2249.27 1479.7 L2254.15 1479.7 L2254.15 1485.58 L2249.27 1485.58 L2249.27 1479.7 Z\" fill=\"#000000\" fill-rule=\"nonzero\" fill-opacity=\"1\" /><path clip-path=\"url(#clip940)\" d=\"M2264.38 1451.02 L2282.74 1451.02 L2282.74 1454.96 L2268.67 1454.96 L2268.67 1463.43 Q2269.68 1463.08 2270.7 1462.92 Q2271.72 1462.73 2272.74 1462.73 Q2278.53 1462.73 2281.91 1465.9 Q2285.29 1469.08 2285.29 1474.49 Q2285.29 1480.07 2281.81 1483.17 Q2278.34 1486.25 2272.02 1486.25 Q2269.85 1486.25 2267.58 1485.88 Q2265.33 1485.51 2262.93 1484.77 L2262.93 1480.07 Q2265.01 1481.2 2267.23 1481.76 Q2269.45 1482.32 2271.93 1482.32 Q2275.93 1482.32 2278.27 1480.21 Q2280.61 1478.1 2280.61 1474.49 Q2280.61 1470.88 2278.27 1468.77 Q2275.93 1466.67 2271.93 1466.67 Q2270.06 1466.67 2268.18 1467.08 Q2266.33 1467.5 2264.38 1468.38 L2264.38 1451.02 Z\" fill=\"#000000\" fill-rule=\"nonzero\" fill-opacity=\"1\" /><path clip-path=\"url(#clip940)\" d=\"M1277.42 1522.27 L1277.42 1532.4 L1289.48 1532.4 L1289.48 1536.95 L1277.42 1536.95 L1277.42 1556.3 Q1277.42 1560.66 1278.6 1561.9 Q1279.81 1563.14 1283.47 1563.14 L1289.48 1563.14 L1289.48 1568.04 L1283.47 1568.04 Q1276.69 1568.04 1274.11 1565.53 Q1271.53 1562.98 1271.53 1556.3 L1271.53 1536.95 L1267.24 1536.95 L1267.24 1532.4 L1271.53 1532.4 L1271.53 1522.27 L1277.42 1522.27 Z\" fill=\"#000000\" fill-rule=\"nonzero\" fill-opacity=\"1\" /><polyline clip-path=\"url(#clip942)\" style=\"stroke:#000000; stroke-linecap:round; stroke-linejoin:round; stroke-width:2; stroke-opacity:0.1; fill:none\" points=\"203.964,1384.24 2352.76,1384.24 \"/>\n",
       "<polyline clip-path=\"url(#clip942)\" style=\"stroke:#000000; stroke-linecap:round; stroke-linejoin:round; stroke-width:2; stroke-opacity:0.1; fill:none\" points=\"203.964,977.169 2352.76,977.169 \"/>\n",
       "<polyline clip-path=\"url(#clip942)\" style=\"stroke:#000000; stroke-linecap:round; stroke-linejoin:round; stroke-width:2; stroke-opacity:0.1; fill:none\" points=\"203.964,570.1 2352.76,570.1 \"/>\n",
       "<polyline clip-path=\"url(#clip942)\" style=\"stroke:#000000; stroke-linecap:round; stroke-linejoin:round; stroke-width:2; stroke-opacity:0.1; fill:none\" points=\"203.964,163.03 2352.76,163.03 \"/>\n",
       "<polyline clip-path=\"url(#clip940)\" style=\"stroke:#000000; stroke-linecap:round; stroke-linejoin:round; stroke-width:4; stroke-opacity:1; fill:none\" points=\"203.964,1423.18 203.964,47.2441 \"/>\n",
       "<polyline clip-path=\"url(#clip940)\" style=\"stroke:#000000; stroke-linecap:round; stroke-linejoin:round; stroke-width:4; stroke-opacity:1; fill:none\" points=\"203.964,1384.24 222.861,1384.24 \"/>\n",
       "<polyline clip-path=\"url(#clip940)\" style=\"stroke:#000000; stroke-linecap:round; stroke-linejoin:round; stroke-width:4; stroke-opacity:1; fill:none\" points=\"203.964,977.169 222.861,977.169 \"/>\n",
       "<polyline clip-path=\"url(#clip940)\" style=\"stroke:#000000; stroke-linecap:round; stroke-linejoin:round; stroke-width:4; stroke-opacity:1; fill:none\" points=\"203.964,570.1 222.861,570.1 \"/>\n",
       "<polyline clip-path=\"url(#clip940)\" style=\"stroke:#000000; stroke-linecap:round; stroke-linejoin:round; stroke-width:4; stroke-opacity:1; fill:none\" points=\"203.964,163.03 222.861,163.03 \"/>\n",
       "<path clip-path=\"url(#clip940)\" d=\"M156.019 1370.04 Q152.408 1370.04 150.579 1373.6 Q148.774 1377.14 148.774 1384.27 Q148.774 1391.38 150.579 1394.94 Q152.408 1398.49 156.019 1398.49 Q159.653 1398.49 161.459 1394.94 Q163.288 1391.38 163.288 1384.27 Q163.288 1377.14 161.459 1373.6 Q159.653 1370.04 156.019 1370.04 M156.019 1366.33 Q161.829 1366.33 164.885 1370.94 Q167.964 1375.52 167.964 1384.27 Q167.964 1393 164.885 1397.61 Q161.829 1402.19 156.019 1402.19 Q150.209 1402.19 147.13 1397.61 Q144.075 1393 144.075 1384.27 Q144.075 1375.52 147.13 1370.94 Q150.209 1366.33 156.019 1366.33 Z\" fill=\"#000000\" fill-rule=\"nonzero\" fill-opacity=\"1\" /><path clip-path=\"url(#clip940)\" d=\"M116.668 990.514 L124.306 990.514 L124.306 964.148 L115.996 965.815 L115.996 961.556 L124.26 959.889 L128.936 959.889 L128.936 990.514 L136.575 990.514 L136.575 994.449 L116.668 994.449 L116.668 990.514 Z\" fill=\"#000000\" fill-rule=\"nonzero\" fill-opacity=\"1\" /><path clip-path=\"url(#clip940)\" d=\"M156.019 962.968 Q152.408 962.968 150.579 966.532 Q148.774 970.074 148.774 977.204 Q148.774 984.31 150.579 987.875 Q152.408 991.417 156.019 991.417 Q159.653 991.417 161.459 987.875 Q163.288 984.31 163.288 977.204 Q163.288 970.074 161.459 966.532 Q159.653 962.968 156.019 962.968 M156.019 959.264 Q161.829 959.264 164.885 963.87 Q167.964 968.454 167.964 977.204 Q167.964 985.93 164.885 990.537 Q161.829 995.12 156.019 995.12 Q150.209 995.12 147.13 990.537 Q144.075 985.93 144.075 977.204 Q144.075 968.454 147.13 963.87 Q150.209 959.264 156.019 959.264 Z\" fill=\"#000000\" fill-rule=\"nonzero\" fill-opacity=\"1\" /><path clip-path=\"url(#clip940)\" d=\"M119.885 583.445 L136.204 583.445 L136.204 587.38 L114.26 587.38 L114.26 583.445 Q116.922 580.69 121.505 576.06 Q126.112 571.408 127.292 570.065 Q129.538 567.542 130.417 565.806 Q131.32 564.046 131.32 562.357 Q131.32 559.602 129.376 557.866 Q127.455 556.13 124.353 556.13 Q122.154 556.13 119.7 556.894 Q117.269 557.658 114.492 559.209 L114.492 554.486 Q117.316 553.352 119.769 552.773 Q122.223 552.195 124.26 552.195 Q129.63 552.195 132.825 554.88 Q136.019 557.565 136.019 562.056 Q136.019 564.185 135.209 566.107 Q134.422 568.005 132.316 570.597 Q131.737 571.269 128.635 574.486 Q125.533 577.681 119.885 583.445 Z\" fill=\"#000000\" fill-rule=\"nonzero\" fill-opacity=\"1\" /><path clip-path=\"url(#clip940)\" d=\"M156.019 555.898 Q152.408 555.898 150.579 559.463 Q148.774 563.005 148.774 570.134 Q148.774 577.241 150.579 580.806 Q152.408 584.347 156.019 584.347 Q159.653 584.347 161.459 580.806 Q163.288 577.241 163.288 570.134 Q163.288 563.005 161.459 559.463 Q159.653 555.898 156.019 555.898 M156.019 552.195 Q161.829 552.195 164.885 556.801 Q167.964 561.384 167.964 570.134 Q167.964 578.861 164.885 583.468 Q161.829 588.051 156.019 588.051 Q150.209 588.051 147.13 583.468 Q144.075 578.861 144.075 570.134 Q144.075 561.384 147.13 556.801 Q150.209 552.195 156.019 552.195 Z\" fill=\"#000000\" fill-rule=\"nonzero\" fill-opacity=\"1\" /><path clip-path=\"url(#clip940)\" d=\"M130.024 161.676 Q133.38 162.394 135.255 164.662 Q137.154 166.931 137.154 170.264 Q137.154 175.38 133.635 178.181 Q130.117 180.982 123.635 180.982 Q121.459 180.982 119.144 180.542 Q116.853 180.125 114.399 179.269 L114.399 174.755 Q116.343 175.889 118.658 176.468 Q120.973 177.047 123.496 177.047 Q127.894 177.047 130.186 175.31 Q132.501 173.574 132.501 170.264 Q132.501 167.209 130.348 165.496 Q128.218 163.76 124.399 163.76 L120.371 163.76 L120.371 159.917 L124.584 159.917 Q128.033 159.917 129.862 158.551 Q131.691 157.162 131.691 154.57 Q131.691 151.908 129.792 150.496 Q127.917 149.061 124.399 149.061 Q122.478 149.061 120.279 149.477 Q118.08 149.894 115.441 150.774 L115.441 146.607 Q118.103 145.866 120.418 145.496 Q122.755 145.125 124.816 145.125 Q130.14 145.125 133.242 147.556 Q136.343 149.963 136.343 154.084 Q136.343 156.954 134.7 158.945 Q133.056 160.912 130.024 161.676 Z\" fill=\"#000000\" fill-rule=\"nonzero\" fill-opacity=\"1\" /><path clip-path=\"url(#clip940)\" d=\"M156.019 148.829 Q152.408 148.829 150.579 152.394 Q148.774 155.936 148.774 163.065 Q148.774 170.172 150.579 173.736 Q152.408 177.278 156.019 177.278 Q159.653 177.278 161.459 173.736 Q163.288 170.172 163.288 163.065 Q163.288 155.936 161.459 152.394 Q159.653 148.829 156.019 148.829 M156.019 145.125 Q161.829 145.125 164.885 149.732 Q167.964 154.315 167.964 163.065 Q167.964 171.792 164.885 176.398 Q161.829 180.982 156.019 180.982 Q150.209 180.982 147.13 176.398 Q144.075 171.792 144.075 163.065 Q144.075 154.315 147.13 149.732 Q150.209 145.125 156.019 145.125 Z\" fill=\"#000000\" fill-rule=\"nonzero\" fill-opacity=\"1\" /><path clip-path=\"url(#clip940)\" d=\"M28.3562 718.597 L45.7028 731.488 L64.0042 717.929 L64.0042 724.836 L49.9996 735.212 L64.0042 745.588 L64.0042 752.495 L45.3526 738.649 L28.3562 751.317 L28.3562 744.41 L41.0558 734.957 L28.3562 725.504 L28.3562 718.597 Z\" fill=\"#000000\" fill-rule=\"nonzero\" fill-opacity=\"1\" /><polyline clip-path=\"url(#clip942)\" style=\"stroke:#009af9; stroke-linecap:round; stroke-linejoin:round; stroke-width:4; stroke-opacity:1; fill:none\" points=\"264.778,1384.24 298.564,1341.33 332.351,1299.14 366.137,1257.68 399.923,1216.93 433.709,1176.91 467.495,1137.61 501.281,1099.03 535.067,1061.17 568.853,1024.03 602.639,987.611 636.425,951.915 670.211,916.939 703.997,882.685 737.783,849.152 771.569,816.34 805.355,784.25 839.141,752.88 872.927,722.231 906.713,692.304 940.499,663.098 974.285,634.613 1008.07,606.849 1041.86,579.806 1075.64,553.485 1109.43,527.884 1143.22,503.005 1177,478.847 1210.79,455.41 1244.57,432.694 1278.36,410.699 1312.15,389.425 1345.93,368.873 1379.72,349.041 1413.5,329.931 1447.29,311.542 1481.08,293.874 1514.86,276.927 1548.65,260.702 1582.43,245.197 1616.22,230.414 1650.01,216.352 1683.79,203.01 1717.58,190.39 1751.36,178.492 1785.15,167.314 1818.94,156.857 1852.72,147.122 1886.51,138.108 1920.29,129.815 1954.08,122.243 1987.87,115.392 2021.65,109.262 2055.44,103.854 2089.22,99.1662 2123.01,95.1999 2156.8,91.9548 2190.58,89.4308 2224.37,87.628 2258.15,86.5462 2291.94,86.1857 \"/>\n",
       "<path clip-path=\"url(#clip940)\" d=\"M275.59 196.789 L596.464 196.789 L596.464 93.1086 L275.59 93.1086  Z\" fill=\"#ffffff\" fill-rule=\"evenodd\" fill-opacity=\"1\"/>\n",
       "<polyline clip-path=\"url(#clip940)\" style=\"stroke:#000000; stroke-linecap:round; stroke-linejoin:round; stroke-width:4; stroke-opacity:1; fill:none\" points=\"275.59,196.789 596.464,196.789 596.464,93.1086 275.59,93.1086 275.59,196.789 \"/>\n",
       "<polyline clip-path=\"url(#clip940)\" style=\"stroke:#009af9; stroke-linecap:round; stroke-linejoin:round; stroke-width:4; stroke-opacity:1; fill:none\" points=\"299.465,144.949 442.718,144.949 \"/>\n",
       "<path clip-path=\"url(#clip940)\" d=\"M470.876 158.34 L470.876 172.09 L466.594 172.09 L466.594 136.303 L470.876 136.303 L470.876 140.238 Q472.219 137.923 474.256 136.812 Q476.316 135.678 479.163 135.678 Q483.885 135.678 486.825 139.428 Q489.788 143.178 489.788 149.289 Q489.788 155.4 486.825 159.15 Q483.885 162.9 479.163 162.9 Q476.316 162.9 474.256 161.789 Q472.219 160.655 470.876 158.34 M485.367 149.289 Q485.367 144.59 483.422 141.928 Q481.501 139.243 478.121 139.243 Q474.742 139.243 472.797 141.928 Q470.876 144.59 470.876 149.289 Q470.876 153.988 472.797 156.673 Q474.742 159.335 478.121 159.335 Q481.501 159.335 483.422 156.673 Q485.367 153.988 485.367 149.289 Z\" fill=\"#000000\" fill-rule=\"nonzero\" fill-opacity=\"1\" /><path clip-path=\"url(#clip940)\" d=\"M506.894 139.289 Q503.469 139.289 501.478 141.974 Q499.487 144.636 499.487 149.289 Q499.487 153.942 501.455 156.627 Q503.445 159.289 506.894 159.289 Q510.297 159.289 512.288 156.604 Q514.279 153.918 514.279 149.289 Q514.279 144.682 512.288 141.997 Q510.297 139.289 506.894 139.289 M506.894 135.678 Q512.45 135.678 515.621 139.289 Q518.793 142.9 518.793 149.289 Q518.793 155.655 515.621 159.289 Q512.45 162.9 506.894 162.9 Q501.316 162.9 498.145 159.289 Q494.996 155.655 494.996 149.289 Q494.996 142.9 498.145 139.289 Q501.316 135.678 506.894 135.678 Z\" fill=\"#000000\" fill-rule=\"nonzero\" fill-opacity=\"1\" /><path clip-path=\"url(#clip940)\" d=\"M542.38 137.067 L542.38 141.094 Q540.575 140.169 538.63 139.706 Q536.686 139.243 534.603 139.243 Q531.431 139.243 529.834 140.215 Q528.26 141.187 528.26 143.131 Q528.26 144.613 529.394 145.469 Q530.529 146.303 533.954 147.067 L535.413 147.391 Q539.95 148.363 541.848 150.145 Q543.769 151.905 543.769 155.076 Q543.769 158.687 540.899 160.793 Q538.052 162.9 533.052 162.9 Q530.968 162.9 528.7 162.483 Q526.455 162.09 523.955 161.28 L523.955 156.881 Q526.316 158.108 528.607 158.733 Q530.899 159.335 533.144 159.335 Q536.154 159.335 537.774 158.317 Q539.394 157.275 539.394 155.4 Q539.394 153.664 538.214 152.738 Q537.056 151.812 533.098 150.956 L531.617 150.608 Q527.658 149.775 525.899 148.062 Q524.14 146.326 524.14 143.317 Q524.14 139.659 526.732 137.669 Q529.325 135.678 534.093 135.678 Q536.454 135.678 538.538 136.025 Q540.621 136.372 542.38 137.067 Z\" fill=\"#000000\" fill-rule=\"nonzero\" fill-opacity=\"1\" /><path clip-path=\"url(#clip940)\" d=\"M572.102 136.303 L562.727 148.919 L572.589 162.229 L567.565 162.229 L560.019 152.043 L552.473 162.229 L547.45 162.229 L557.519 148.664 L548.306 136.303 L553.329 136.303 L560.204 145.539 L567.079 136.303 L572.102 136.303 Z\" fill=\"#000000\" fill-rule=\"nonzero\" fill-opacity=\"1\" /></svg>\n"
      ]
     },
     "execution_count": 6,
     "metadata": {},
     "output_type": "execute_result"
    }
   ],
   "source": [
    "println(\"Escriba el valor del angulo de salida\")\n",
    "grados = parse(Float64, readline())\n",
    "angulo = (π*grados)/180\n",
    "println(\"Escriba el valor de la velocidad incial\")\n",
    "vel_inicial = parse(Float64, readline())\n",
    "tiempo_final = (vel_inicial*sin(angulo))/9.8\n",
    "paso = tiempo_final/60\n",
    "function vely(angulo,vel_inicial,t)\n",
    "    return (-9.8)*t+ vel_inicial*sin(angulo)\n",
    "end\n",
    "function posy(angulo,vel_inicial,t)\n",
    "    return (-9.8/2)*t^2+ vel_inicial*sin(angulo)*t\n",
    "end\n",
    "function posx(angulo,vel_inicial,t)\n",
    "    return vel_inicial*cos(angulo)*t\n",
    "end\n",
    "range = 0:paso:tiempo_final\n",
    "rango = [i for i in 0:paso:tiempo_final]\n",
    "println(rango)\n",
    "#graph_posx(x) = posx(angulo,vel_inicial,x)\n",
    "vect_posx = posy.(angulo,vel_inicial,rango)\n",
    "\n",
    "plot(rango,vect_posx,xlabel=\"t\",ylabel=\"x\",label=\"posx\")\n"
   ]
  },
  {
   "cell_type": "code",
   "execution_count": 51,
   "metadata": {},
   "outputs": [
    {
     "ename": "LoadError",
     "evalue": "UndefVarError: vect_posx not defined",
     "output_type": "error",
     "traceback": [
      "UndefVarError: vect_posx not defined",
      "",
      "Stacktrace:",
      " [1] top-level scope",
      "   @ In[51]:1"
     ]
    }
   ],
   "source": [
    "typeof(vect_posx)"
   ]
  },
  {
   "cell_type": "markdown",
   "metadata": {},
   "source": [
    "### Problema 15\n",
    "\n",
    "Escriba un programa para calcular un valor aproximado de $\\pi$ utilizando los siguientes métodos.\n",
    "\n",
    "1. La fórmula recurrente de Arquímedes, que  acota $\\pi$ entre $p_n$ y $P_n$, con $p_n < \\pi < P_n$, siendo $p_n$ y $P_n$ los perímetros de los polígonos regulares de $n$ lados inscriptos y circunscriptos, respectivamente, en la circunsferencia de radio $1/2$. \n",
    "\n",
    "    La fórmula de recurrencia que encontró Arquímides es la siguiente:\n",
    "    \n",
    "    $$\n",
    "    \\begin{align}\n",
    "    P_{2n} &= \\frac{2 p_n P_n}{p_n + P_n} \\\\\n",
    "    p_{2n} &= \\sqrt{P_{2n} p_n} \n",
    "    \\end{align}\n",
    "    $$\n",
    "    \n",
    "    Usando los valores $P_6=2\\sqrt{3}$ y $p_6 = 3$, correspondientes al hexágono, escriba un programa que realice 20 iteraciones recorriendo $k=0,1,..., 20$, y escriba los resultados en pantalla de $k$, $n=6\\times 2^k$, $p_n$, $P_n$, la aproximación $\\pi_n = (p_n+P_n)/2$ y el error $|\\pi_n-\\pi|$.\n",
    "\n",
    "2. La productoria de Wallis\n",
    "\n",
    "    $$\n",
    "    \\frac{\\pi}{2} = \\prod_{n=1}^\\infty \\frac{(2n)^2}{(2n)^2-1} = \\frac43\\frac{16}{15}\\frac{36}{35}\\frac{64}{63}\\dots \n",
    "    $$\n",
    "    \n",
    "    truncando la productoria a $10^6$ factores."
   ]
  },
  {
   "cell_type": "code",
   "execution_count": null,
   "metadata": {},
   "outputs": [],
   "source": []
  },
  {
   "cell_type": "markdown",
   "metadata": {},
   "source": [
    "### Problema 16\n",
    "\n",
    "La fórmula cuadrática nos dice que las raíces de $ax^2 + bx + c = 0$ son\n",
    "\n",
    "$$\n",
    "x_1 = \\frac{-b+\\sqrt{b^2-4ac}}{2a},\n",
    "\\;\\;\\;\\;\n",
    "x_2 = \\frac{-b-\\sqrt{b^2-4ac}}{2a}\n",
    "$$\n",
    "\n",
    "Si $b^2 \\gg 4ac$, cálculo de $x_1$ involucra en el numerador la sustracción de dos números casi iguales cuando $b>0$, y ocurre para el cálculo de $x_2$ cuando $b<0$.\n",
    "La división por números gigantes suele generar errores numéricos severos.\n",
    "Para solucionar este problema, conviene *racionalizar los numeradores* en cuestión.\n",
    "Más precisamente, conviene calcular la raíz $x_1$ usando la expresión\n",
    "\n",
    "$$\n",
    "x_1 = \\frac{-b+\\sqrt{b^2-4ac}}{2a} \\frac{-b-\\sqrt{b^2-4ac}}{-b-\\sqrt{b^2-4ac}} = \\frac{-2c}{b+\\sqrt{b^2-4ac}}\n",
    "$$\n",
    "\n",
    "cuando $b>0$, y conviene calcular la raíz $x_2$ usando la expresión\n",
    "\n",
    "$$\n",
    "x_2 = \\frac{-b-\\sqrt{b^2-4ac}}{2a} \\frac{-b+\\sqrt{b^2-4ac}}{-b+\\sqrt{b^2-4ac}} = \\frac{2c}{-b+\\sqrt{b^2-4ac}}\n",
    "$$\n",
    "\n",
    "cuando $b<0$.\n",
    "\n",
    "1. Implemente una función que utilice las fórmulas usuales para calcular las raices $x_1$ y $x_2$.\n",
    "\n",
    "2. Implemente otra función que utilice las fórmulas *racionalizadas* para calcular las raíces $x_1$ y $x_2$.\n",
    "\n",
    "3. Implemente una función que calcule las raíces $x_1$ y $x_2$ evaluando la condición $b>0$ para decidir que fórmula utilizar en cada caso.\n",
    "\n",
    "4. Utilice las funciones de los incisos anteriores para encontrar aproximaciones numéricas a las raíces de las ecuaciónes\n",
    "\n",
    "   a) $x^2 + 6210x + 1 = 0$\n",
    "\n",
    "   b) $x^2 - 6210x + 1 = 0$\n",
    "\n",
    "5. Repita el inciso anterior para precisión simple.\n",
    "\n",
    "6. Describa lo observado."
   ]
  },
  {
   "cell_type": "code",
   "execution_count": null,
   "metadata": {},
   "outputs": [],
   "source": []
  },
  {
   "cell_type": "markdown",
   "metadata": {},
   "source": [
    "**6.**\n",
    "Bla bla bla..."
   ]
  }
 ],
 "metadata": {
  "@webio": {
   "lastCommId": null,
   "lastKernelId": null
  },
  "kernelspec": {
   "display_name": "Julia 1.8.5",
   "language": "julia",
   "name": "julia-1.8"
  },
  "language_info": {
   "file_extension": ".jl",
   "mimetype": "application/julia",
   "name": "julia",
   "version": "1.8.5"
  }
 },
 "nbformat": 4,
 "nbformat_minor": 4
}
