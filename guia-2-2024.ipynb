{
 "cells": [
  {
   "cell_type": "markdown",
   "metadata": {},
   "source": [
    "# Métodos Numéricos 2024 "
   ]
  },
  {
   "cell_type": "markdown",
   "metadata": {},
   "source": [
    "## Guía 2: 2024-04-04 - Solución de ecuaciones de una variable"
   ]
  },
  {
   "cell_type": "code",
   "execution_count": 4,
   "metadata": {},
   "outputs": [
    {
     "ename": "LoadError",
     "evalue": "ArgumentError: Package LaTeXStrings not found in current path.\n- Run `import Pkg; Pkg.add(\"LaTeXStrings\")` to install the LaTeXStrings package.",
     "output_type": "error",
     "traceback": [
      "ArgumentError: Package LaTeXStrings not found in current path.\n- Run `import Pkg; Pkg.add(\"LaTeXStrings\")` to install the LaTeXStrings package.",
      "",
      "Stacktrace:",
      " [1] macro expansion",
      "   @ ./loading.jl:1163 [inlined]",
      " [2] macro expansion",
      "   @ ./lock.jl:223 [inlined]",
      " [3] require(into::Module, mod::Symbol)",
      "   @ Base ./loading.jl:1144"
     ]
    }
   ],
   "source": [
    "using Plots\n",
    "using LaTeXStrings\n",
    "using DataFrames # Recuerde instalar este paquete ingresando en una celda: using Pkg; Pkg.add(\"DataFrames\")"
   ]
  },
  {
   "cell_type": "code",
   "execution_count": 55,
   "metadata": {},
   "outputs": [
    {
     "name": "stderr",
     "output_type": "stream",
     "text": [
      "\u001b[32m\u001b[1m   Resolving\u001b[22m\u001b[39m package versions...\n",
      "\u001b[32m\u001b[1m  No Changes\u001b[22m\u001b[39m to `/opt/julia/global-depot/environments/v1.8/Project.toml`\n",
      "\u001b[32m\u001b[1m  No Changes\u001b[22m\u001b[39m to `/opt/julia/global-depot/environments/v1.8/Manifest.toml`\n",
      "\u001b[36m\u001b[1m[ \u001b[22m\u001b[39m\u001b[36m\u001b[1mInfo: \u001b[22m\u001b[39mPrecompiling DataFrames [a93c6f00-e57d-5684-b7b6-d8193f3e46c0]\n",
      "\u001b[33m\u001b[1m┌ \u001b[22m\u001b[39m\u001b[33m\u001b[1mWarning: \u001b[22m\u001b[39mModule SortingAlgorithms with build ID 8541192765040 is missing from the cache.\n",
      "\u001b[33m\u001b[1m│ \u001b[22m\u001b[39mThis may mean SortingAlgorithms [a2af1166-a08f-5f64-846c-94a0d3cef48c] does not support precompilation but is imported by a module that does.\n",
      "\u001b[33m\u001b[1m└ \u001b[22m\u001b[39m\u001b[90m@ Base loading.jl:1325\u001b[39m\n",
      "\u001b[36m\u001b[1m[ \u001b[22m\u001b[39m\u001b[36m\u001b[1mInfo: \u001b[22m\u001b[39mSkipping precompilation since __precompile__(false). Importing DataFrames [a93c6f00-e57d-5684-b7b6-d8193f3e46c0].\n",
      "\u001b[36m\u001b[1m[ \u001b[22m\u001b[39m\u001b[36m\u001b[1mInfo: \u001b[22m\u001b[39mPrecompiling PooledArrays [2dfb63ee-cc39-5dd5-95bd-886bf059d720]\n",
      "\u001b[33m\u001b[1m┌ \u001b[22m\u001b[39m\u001b[33m\u001b[1mWarning: \u001b[22m\u001b[39mModule DataAPI with build ID 8538440474511 is missing from the cache.\n",
      "\u001b[33m\u001b[1m│ \u001b[22m\u001b[39mThis may mean DataAPI [9a962f9c-6df0-11e9-0e5d-c546b8b5ee8a] does not support precompilation but is imported by a module that does.\n",
      "\u001b[33m\u001b[1m└ \u001b[22m\u001b[39m\u001b[90m@ Base loading.jl:1325\u001b[39m\n",
      "\u001b[36m\u001b[1m[ \u001b[22m\u001b[39m\u001b[36m\u001b[1mInfo: \u001b[22m\u001b[39mSkipping precompilation since __precompile__(false). Importing PooledArrays [2dfb63ee-cc39-5dd5-95bd-886bf059d720].\n",
      "\u001b[36m\u001b[1m[ \u001b[22m\u001b[39m\u001b[36m\u001b[1mInfo: \u001b[22m\u001b[39mPrecompiling PrettyTables [08abe8d2-0d0c-5749-adfa-8a2ac140af0d]\n",
      "\u001b[33m\u001b[1m┌ \u001b[22m\u001b[39m\u001b[33m\u001b[1mWarning: \u001b[22m\u001b[39mModule DataAPI with build ID 8538440474511 is missing from the cache.\n",
      "\u001b[33m\u001b[1m│ \u001b[22m\u001b[39mThis may mean DataAPI [9a962f9c-6df0-11e9-0e5d-c546b8b5ee8a] does not support precompilation but is imported by a module that does.\n",
      "\u001b[33m\u001b[1m└ \u001b[22m\u001b[39m\u001b[90m@ Base loading.jl:1325\u001b[39m\n",
      "\u001b[33m\u001b[1m┌ \u001b[22m\u001b[39m\u001b[33m\u001b[1mWarning: \u001b[22m\u001b[39mModule DataAPI with build ID 8538440474511 is missing from the cache.\n",
      "\u001b[33m\u001b[1m│ \u001b[22m\u001b[39mThis may mean DataAPI [9a962f9c-6df0-11e9-0e5d-c546b8b5ee8a] does not support precompilation but is imported by a module that does.\n",
      "\u001b[33m\u001b[1m└ \u001b[22m\u001b[39m\u001b[90m@ Base loading.jl:1325\u001b[39m\n",
      "\u001b[36m\u001b[1m[ \u001b[22m\u001b[39m\u001b[36m\u001b[1mInfo: \u001b[22m\u001b[39mSkipping precompilation since __precompile__(false). Importing PrettyTables [08abe8d2-0d0c-5749-adfa-8a2ac140af0d].\n",
      "\u001b[36m\u001b[1m[ \u001b[22m\u001b[39m\u001b[36m\u001b[1mInfo: \u001b[22m\u001b[39mPrecompiling Tables [bd369af6-aec1-5ad0-b16a-f7cc5008161c]\n",
      "\u001b[33m\u001b[1m┌ \u001b[22m\u001b[39m\u001b[33m\u001b[1mWarning: \u001b[22m\u001b[39mModule DataAPI with build ID 8538440474511 is missing from the cache.\n",
      "\u001b[33m\u001b[1m│ \u001b[22m\u001b[39mThis may mean DataAPI [9a962f9c-6df0-11e9-0e5d-c546b8b5ee8a] does not support precompilation but is imported by a module that does.\n",
      "\u001b[33m\u001b[1m└ \u001b[22m\u001b[39m\u001b[90m@ Base loading.jl:1325\u001b[39m\n",
      "\u001b[36m\u001b[1m[ \u001b[22m\u001b[39m\u001b[36m\u001b[1mInfo: \u001b[22m\u001b[39mSkipping precompilation since __precompile__(false). Importing Tables [bd369af6-aec1-5ad0-b16a-f7cc5008161c].\n",
      "\u001b[36m\u001b[1m[ \u001b[22m\u001b[39m\u001b[36m\u001b[1mInfo: \u001b[22m\u001b[39mPrecompiling StringManipulation [892a3eda-7b42-436c-8928-eab12a02cf0e]\n",
      "\u001b[33m\u001b[1m┌ \u001b[22m\u001b[39m\u001b[33m\u001b[1mWarning: \u001b[22m\u001b[39mModule PrecompileTools with build ID 15622095710102 is missing from the cache.\n",
      "\u001b[33m\u001b[1m│ \u001b[22m\u001b[39mThis may mean PrecompileTools [aea7be01-6a6a-4083-8856-8a6e6704d82a] does not support precompilation but is imported by a module that does.\n",
      "\u001b[33m\u001b[1m└ \u001b[22m\u001b[39m\u001b[90m@ Base loading.jl:1325\u001b[39m\n",
      "\u001b[36m\u001b[1m[ \u001b[22m\u001b[39m\u001b[36m\u001b[1mInfo: \u001b[22m\u001b[39mSkipping precompilation since __precompile__(false). Importing StringManipulation [892a3eda-7b42-436c-8928-eab12a02cf0e].\n",
      "\u001b[36m\u001b[1m[ \u001b[22m\u001b[39m\u001b[36m\u001b[1mInfo: \u001b[22m\u001b[39mPrecompiling InlineStrings [842dd82b-1e85-43dc-bf29-5d0ee9dffc48]\n",
      "\u001b[33m\u001b[1m┌ \u001b[22m\u001b[39m\u001b[33m\u001b[1mWarning: \u001b[22m\u001b[39mModule Parsers with build ID 8540134848039 is missing from the cache.\n",
      "\u001b[33m\u001b[1m│ \u001b[22m\u001b[39mThis may mean Parsers [69de0a69-1ddd-5017-9359-2bf0b02dc9f0] does not support precompilation but is imported by a module that does.\n",
      "\u001b[33m\u001b[1m└ \u001b[22m\u001b[39m\u001b[90m@ Base loading.jl:1325\u001b[39m\n",
      "\u001b[36m\u001b[1m[ \u001b[22m\u001b[39m\u001b[36m\u001b[1mInfo: \u001b[22m\u001b[39mSkipping precompilation since __precompile__(false). Importing InlineStrings [842dd82b-1e85-43dc-bf29-5d0ee9dffc48].\n"
     ]
    }
   ],
   "source": [
    "using Pkg\n",
    "Pkg.add(\"DataFrames\")\n",
    "using DataFrames"
   ]
  },
  {
   "cell_type": "markdown",
   "metadata": {},
   "source": [
    "### Problema 1\n",
    "\n",
    "Desarrolle un programa para encontrar la raíz de una función $f$ utilizando el **método de la bisección**.\n",
    "El programa debe tomar como datos de entrada:\n",
    "\n",
    "* la función $f:\\mathbb{R}\\to \\mathbb{R}$, \n",
    "\n",
    "* el intervalo inicial $[a,b]$, \n",
    "\n",
    "* la máxima tolerancia permitida $\\varepsilon_x$ al error relativo $(p-x)/x$ de la aproximación $p$ de la raíz $x$ de $f$ en $[a,b]$,\n",
    "\n",
    "* la máxima tolerancia permitida $\\varepsilon_f$ al valor de $|f(p)|$,\n",
    "\n",
    "* y el número máximo $n_{\\max}$ de iteraciones permitidas.\n",
    "\n",
    "El programa debe retornar una tupla con las siguientes componentes:\n",
    "\n",
    "* un booleano indicando si el algoritmo convergió o no dentro de las tolerancias máximas permitidas $\\varepsilon_x$ y $\\varepsilon_f$,\n",
    "\n",
    "* un vector de componentes $p_i$ que representan las aproximaciones a la raíz $x$ obtenidas por el algoritmo en sucesivas iteraciones $i=1,2,...,n$,\n",
    "\n",
    "* un vector de componentes $f_i=f(p_i)$,\n",
    "\n",
    "* un vector de componentes $c_i=|b_i-a_i|/2$ que representan cotas de los errores absolutos $|x-p_i|$,\n",
    "\n",
    "* y un vector de componentes $r_i=c_i/|p_i|$ que representan estimaciones de los errores relativos $|x-p_i|/|x|$.\n",
    "\n",
    "El programa debe deternerse si se cumple:\n",
    "\n",
    "$$\n",
    "(r_i<\\varepsilon_x \\;\\; \\text{AND} \\;\\; |f_i|<\\varepsilon_f) \\;\\; \\text{OR} \\;\\; i=n_{\\max}\n",
    "$$\n",
    "\n",
    "El programa debe trabajar con números de precisión suficientemente alta como para obtener resultados con 12 cifras significativas en los reales (ej. `Float64`).\n",
    "\n",
    "Con el programa desarrollado, Ud. debe:\n",
    "\n",
    "1. Encontrar una aproximación a $\\sqrt{3}$ con un error (relativo en $x$ y absoluto en $y$) menor a $10^{-5}$. Para ello: \n",
    "\n",
    "    * Note que $\\sqrt{3}$ es la raíz positiva de la ecuación $f(x)=x^2-3$.\n",
    "    * Grafique $f(x)$ vs $x$ en el intervalo $[1,2]$ para determinar que tiene una raíz allí.\n",
    "    * Utilice el programa desarrollado para calcular los vectores de aproximaciones y errores.\n",
    "    * Imprima una lista con los valores $i$, $p_i$, $f_i$, $c_i$ y $r_i$ para $i=1,...,n$, utilizando el paquete `DataFrames`.\n",
    "    * Grafique $p_i$ vs $i$ usando puntos (en vez de una línea contínua).\n",
    "    * Grafique $|f_i|$ vs $i$ usando puntos, escala logarítmica en el eje $y$ y lineal en el eje $x$.\n",
    "    * En una misma figura, grafique con puntos de un color los errores absolutos $c_i$ vs $i$ y con puntos de otro color los errores relativos $r_i$ vs $i$, utilizando escala logarítimica en el eje $y$ y lineal en el eje $x$. \n",
    "    * Responda: \n",
    "        * Cuanto vale la presunta mejor aproximación $p_n$? \n",
    "        * Cuántas iteraciones fueron necesarias?\n",
    "        * Cuales son los valores exactos de los errores absoluto y relativo que se obtienen de comparando el resultado $p_n$ con el \"analítico\"?   \n",
    "    \n",
    "2. Encontrar la menor solución positiva de la ecuación $g(x)=\\tan(x)-2x$ con un error relativo en $x$ y absoluto en $y$ menor a $10^{-5}$. Para ello, repita lo realizado en el inciso anterior considerando el intérvalo $x\\in [0.8,1.4]$, pero exceptuando el último item ya que no podemos calcular el valor analítico en este caso. \n",
    "\n",
    "**IMPORTANTE:** Recuerde poner títulos, etiquetas a los ejes y leyendas para las curvas o puntos de los gráficos."
   ]
  },
  {
   "cell_type": "code",
   "execution_count": 50,
   "metadata": {},
   "outputs": [
    {
     "data": {
      "text/plain": [
       "biseccion (generic function with 4 methods)"
      ]
     },
     "execution_count": 50,
     "metadata": {},
     "output_type": "execute_result"
    }
   ],
   "source": [
    "#PROGRAMA 1\n",
    "#la función f:ℝ→ℝ\n",
    "#el intervalo inicial [a,b]\n",
    "#la máxima tolerancia permitida εx al error relativo (p−x)/x de la aproximación p de la raíz x de f en [a,b]\n",
    "#la máxima tolerancia permitida εf al valor de |f(p)|\n",
    "#y el número máximo nmax de iteraciones permitidas.\n",
    "\n",
    "\n",
    "function biseccion(f,intervalo,e_x=1e-5,e_f=1e-5,n_max=100)\n",
    "    a,b = intervalo\n",
    "    @assert a<=b\n",
    "    fa = f(a)\n",
    "    @assert fa*f(b) < 0\n",
    "    vect_pi = zeros(n_max) #vector de aprox de p_i\n",
    "    vect_f = zeros(n_max) #vector de valores de f(p_i)\n",
    "    vect_eabs = zeros(n_max) #vector de estim de errores absolutos de x\n",
    "    vect_erel = zeros(n_max) #vector de estim de errores relativos de x\n",
    "    \n",
    "    for i in 1:n_max\n",
    "        p_i =((b-a)/2) + a \n",
    "        f_pi = f(p_i)\n",
    "        error_abs = (b-a)/2 #estimacion error abs\n",
    "        error_rel = abs(error_abs/p_i)\n",
    "        \n",
    "        vect_pi[i]= p_i\n",
    "        vect_f[i]= f_pi\n",
    "        vect_eabs[i] = error_abs\n",
    "        vect_erel[i] = error_rel\n",
    "        \n",
    "         if error_abs <= e_x && abs(f_pi) <= e_f\n",
    "            return true,vect_pi[1:i],vect_f[1:i],vect_eabs[1:i],vect_erel[1:i] \n",
    "        end\n",
    "        if fa*f_pi < 0.0\n",
    "            b = p_i\n",
    "        else\n",
    "            a = p_i  \n",
    "        end\n",
    "    end\n",
    "    return false,vect_pi,vect_f,vect_eabs,vect_erel\n",
    "end   \n",
    "            \n",
    "    "
   ]
  },
  {
   "cell_type": "code",
   "execution_count": 58,
   "metadata": {},
   "outputs": [
    {
     "data": {
      "image/svg+xml": [
       "<?xml version=\"1.0\" encoding=\"utf-8\"?>\n",
       "<svg xmlns=\"http://www.w3.org/2000/svg\" xmlns:xlink=\"http://www.w3.org/1999/xlink\" width=\"600\" height=\"400\" viewBox=\"0 0 2400 1600\">\n",
       "<defs>\n",
       "  <clipPath id=\"clip200\">\n",
       "    <rect x=\"0\" y=\"0\" width=\"2400\" height=\"1600\"/>\n",
       "  </clipPath>\n",
       "</defs>\n",
       "<path clip-path=\"url(#clip200)\" d=\"M0 1600 L2400 1600 L2400 0 L0 0  Z\" fill=\"#ffffff\" fill-rule=\"evenodd\" fill-opacity=\"1\"/>\n",
       "<defs>\n",
       "  <clipPath id=\"clip201\">\n",
       "    <rect x=\"480\" y=\"0\" width=\"1681\" height=\"1600\"/>\n",
       "  </clipPath>\n",
       "</defs>\n",
       "<path clip-path=\"url(#clip200)\" d=\"M174.149 1423.18 L2352.76 1423.18 L2352.76 47.2441 L174.149 47.2441  Z\" fill=\"#ffffff\" fill-rule=\"evenodd\" fill-opacity=\"1\"/>\n",
       "<defs>\n",
       "  <clipPath id=\"clip202\">\n",
       "    <rect x=\"174\" y=\"47\" width=\"2180\" height=\"1377\"/>\n",
       "  </clipPath>\n",
       "</defs>\n",
       "<polyline clip-path=\"url(#clip202)\" style=\"stroke:#000000; stroke-linecap:round; stroke-linejoin:round; stroke-width:2; stroke-opacity:0.1; fill:none\" points=\"235.808,1423.18 235.808,47.2441 \"/>\n",
       "<polyline clip-path=\"url(#clip202)\" style=\"stroke:#000000; stroke-linecap:round; stroke-linejoin:round; stroke-width:2; stroke-opacity:0.1; fill:none\" points=\"578.356,1423.18 578.356,47.2441 \"/>\n",
       "<polyline clip-path=\"url(#clip202)\" style=\"stroke:#000000; stroke-linecap:round; stroke-linejoin:round; stroke-width:2; stroke-opacity:0.1; fill:none\" points=\"920.904,1423.18 920.904,47.2441 \"/>\n",
       "<polyline clip-path=\"url(#clip202)\" style=\"stroke:#000000; stroke-linecap:round; stroke-linejoin:round; stroke-width:2; stroke-opacity:0.1; fill:none\" points=\"1263.45,1423.18 1263.45,47.2441 \"/>\n",
       "<polyline clip-path=\"url(#clip202)\" style=\"stroke:#000000; stroke-linecap:round; stroke-linejoin:round; stroke-width:2; stroke-opacity:0.1; fill:none\" points=\"1606,1423.18 1606,47.2441 \"/>\n",
       "<polyline clip-path=\"url(#clip202)\" style=\"stroke:#000000; stroke-linecap:round; stroke-linejoin:round; stroke-width:2; stroke-opacity:0.1; fill:none\" points=\"1948.55,1423.18 1948.55,47.2441 \"/>\n",
       "<polyline clip-path=\"url(#clip202)\" style=\"stroke:#000000; stroke-linecap:round; stroke-linejoin:round; stroke-width:2; stroke-opacity:0.1; fill:none\" points=\"2291.1,1423.18 2291.1,47.2441 \"/>\n",
       "<polyline clip-path=\"url(#clip200)\" style=\"stroke:#000000; stroke-linecap:round; stroke-linejoin:round; stroke-width:4; stroke-opacity:1; fill:none\" points=\"174.149,1423.18 2352.76,1423.18 \"/>\n",
       "<polyline clip-path=\"url(#clip200)\" style=\"stroke:#000000; stroke-linecap:round; stroke-linejoin:round; stroke-width:4; stroke-opacity:1; fill:none\" points=\"235.808,1423.18 235.808,1404.28 \"/>\n",
       "<polyline clip-path=\"url(#clip200)\" style=\"stroke:#000000; stroke-linecap:round; stroke-linejoin:round; stroke-width:4; stroke-opacity:1; fill:none\" points=\"578.356,1423.18 578.356,1404.28 \"/>\n",
       "<polyline clip-path=\"url(#clip200)\" style=\"stroke:#000000; stroke-linecap:round; stroke-linejoin:round; stroke-width:4; stroke-opacity:1; fill:none\" points=\"920.904,1423.18 920.904,1404.28 \"/>\n",
       "<polyline clip-path=\"url(#clip200)\" style=\"stroke:#000000; stroke-linecap:round; stroke-linejoin:round; stroke-width:4; stroke-opacity:1; fill:none\" points=\"1263.45,1423.18 1263.45,1404.28 \"/>\n",
       "<polyline clip-path=\"url(#clip200)\" style=\"stroke:#000000; stroke-linecap:round; stroke-linejoin:round; stroke-width:4; stroke-opacity:1; fill:none\" points=\"1606,1423.18 1606,1404.28 \"/>\n",
       "<polyline clip-path=\"url(#clip200)\" style=\"stroke:#000000; stroke-linecap:round; stroke-linejoin:round; stroke-width:4; stroke-opacity:1; fill:none\" points=\"1948.55,1423.18 1948.55,1404.28 \"/>\n",
       "<polyline clip-path=\"url(#clip200)\" style=\"stroke:#000000; stroke-linecap:round; stroke-linejoin:round; stroke-width:4; stroke-opacity:1; fill:none\" points=\"2291.1,1423.18 2291.1,1404.28 \"/>\n",
       "<path clip-path=\"url(#clip200)\" d=\"M213.238 1454.1 Q209.627 1454.1 207.798 1457.66 Q205.993 1461.2 205.993 1468.33 Q205.993 1475.44 207.798 1479.01 Q209.627 1482.55 213.238 1482.55 Q216.873 1482.55 218.678 1479.01 Q220.507 1475.44 220.507 1468.33 Q220.507 1461.2 218.678 1457.66 Q216.873 1454.1 213.238 1454.1 M213.238 1450.39 Q219.048 1450.39 222.104 1455 Q225.183 1459.58 225.183 1468.33 Q225.183 1477.06 222.104 1481.67 Q219.048 1486.25 213.238 1486.25 Q207.428 1486.25 204.349 1481.67 Q201.294 1477.06 201.294 1468.33 Q201.294 1459.58 204.349 1455 Q207.428 1450.39 213.238 1450.39 Z\" fill=\"#000000\" fill-rule=\"nonzero\" fill-opacity=\"1\" /><path clip-path=\"url(#clip200)\" d=\"M233.4 1479.7 L238.284 1479.7 L238.284 1485.58 L233.4 1485.58 L233.4 1479.7 Z\" fill=\"#000000\" fill-rule=\"nonzero\" fill-opacity=\"1\" /><path clip-path=\"url(#clip200)\" d=\"M258.47 1469.17 Q255.136 1469.17 253.215 1470.95 Q251.317 1472.73 251.317 1475.86 Q251.317 1478.98 253.215 1480.77 Q255.136 1482.55 258.47 1482.55 Q261.803 1482.55 263.724 1480.77 Q265.645 1478.96 265.645 1475.86 Q265.645 1472.73 263.724 1470.95 Q261.826 1469.17 258.47 1469.17 M253.794 1467.18 Q250.784 1466.44 249.095 1464.38 Q247.428 1462.32 247.428 1459.35 Q247.428 1455.21 250.368 1452.8 Q253.331 1450.39 258.47 1450.39 Q263.632 1450.39 266.571 1452.8 Q269.511 1455.21 269.511 1459.35 Q269.511 1462.32 267.821 1464.38 Q266.155 1466.44 263.169 1467.18 Q266.548 1467.96 268.423 1470.26 Q270.321 1472.55 270.321 1475.86 Q270.321 1480.88 267.243 1483.57 Q264.187 1486.25 258.47 1486.25 Q252.752 1486.25 249.673 1483.57 Q246.618 1480.88 246.618 1475.86 Q246.618 1472.55 248.516 1470.26 Q250.414 1467.96 253.794 1467.18 M252.081 1459.79 Q252.081 1462.48 253.747 1463.98 Q255.437 1465.49 258.47 1465.49 Q261.479 1465.49 263.169 1463.98 Q264.882 1462.48 264.882 1459.79 Q264.882 1457.11 263.169 1455.6 Q261.479 1454.1 258.47 1454.1 Q255.437 1454.1 253.747 1455.6 Q252.081 1457.11 252.081 1459.79 Z\" fill=\"#000000\" fill-rule=\"nonzero\" fill-opacity=\"1\" /><path clip-path=\"url(#clip200)\" d=\"M555.833 1454.1 Q552.222 1454.1 550.393 1457.66 Q548.588 1461.2 548.588 1468.33 Q548.588 1475.44 550.393 1479.01 Q552.222 1482.55 555.833 1482.55 Q559.467 1482.55 561.273 1479.01 Q563.101 1475.44 563.101 1468.33 Q563.101 1461.2 561.273 1457.66 Q559.467 1454.1 555.833 1454.1 M555.833 1450.39 Q561.643 1450.39 564.699 1455 Q567.777 1459.58 567.777 1468.33 Q567.777 1477.06 564.699 1481.67 Q561.643 1486.25 555.833 1486.25 Q550.023 1486.25 546.944 1481.67 Q543.888 1477.06 543.888 1468.33 Q543.888 1459.58 546.944 1455 Q550.023 1450.39 555.833 1450.39 Z\" fill=\"#000000\" fill-rule=\"nonzero\" fill-opacity=\"1\" /><path clip-path=\"url(#clip200)\" d=\"M575.995 1479.7 L580.879 1479.7 L580.879 1485.58 L575.995 1485.58 L575.995 1479.7 Z\" fill=\"#000000\" fill-rule=\"nonzero\" fill-opacity=\"1\" /><path clip-path=\"url(#clip200)\" d=\"M591.203 1484.86 L591.203 1480.6 Q592.962 1481.44 594.768 1481.88 Q596.573 1482.32 598.309 1482.32 Q602.939 1482.32 605.37 1479.21 Q607.823 1476.09 608.171 1469.75 Q606.828 1471.74 604.768 1472.8 Q602.708 1473.87 600.208 1473.87 Q595.022 1473.87 591.99 1470.74 Q588.981 1467.59 588.981 1462.15 Q588.981 1456.83 592.129 1453.61 Q595.277 1450.39 600.509 1450.39 Q606.504 1450.39 609.652 1455 Q612.823 1459.58 612.823 1468.33 Q612.823 1476.51 608.934 1481.39 Q605.069 1486.25 598.518 1486.25 Q596.759 1486.25 594.953 1485.9 Q593.147 1485.56 591.203 1484.86 M600.509 1470.21 Q603.657 1470.21 605.485 1468.06 Q607.337 1465.9 607.337 1462.15 Q607.337 1458.43 605.485 1456.27 Q603.657 1454.1 600.509 1454.1 Q597.36 1454.1 595.509 1456.27 Q593.68 1458.43 593.68 1462.15 Q593.68 1465.9 595.509 1468.06 Q597.36 1470.21 600.509 1470.21 Z\" fill=\"#000000\" fill-rule=\"nonzero\" fill-opacity=\"1\" /><path clip-path=\"url(#clip200)\" d=\"M888.057 1481.64 L895.696 1481.64 L895.696 1455.28 L887.386 1456.95 L887.386 1452.69 L895.65 1451.02 L900.326 1451.02 L900.326 1481.64 L907.964 1481.64 L907.964 1485.58 L888.057 1485.58 L888.057 1481.64 Z\" fill=\"#000000\" fill-rule=\"nonzero\" fill-opacity=\"1\" /><path clip-path=\"url(#clip200)\" d=\"M917.409 1479.7 L922.293 1479.7 L922.293 1485.58 L917.409 1485.58 L917.409 1479.7 Z\" fill=\"#000000\" fill-rule=\"nonzero\" fill-opacity=\"1\" /><path clip-path=\"url(#clip200)\" d=\"M942.478 1454.1 Q938.867 1454.1 937.038 1457.66 Q935.233 1461.2 935.233 1468.33 Q935.233 1475.44 937.038 1479.01 Q938.867 1482.55 942.478 1482.55 Q946.112 1482.55 947.918 1479.01 Q949.747 1475.44 949.747 1468.33 Q949.747 1461.2 947.918 1457.66 Q946.112 1454.1 942.478 1454.1 M942.478 1450.39 Q948.288 1450.39 951.344 1455 Q954.422 1459.58 954.422 1468.33 Q954.422 1477.06 951.344 1481.67 Q948.288 1486.25 942.478 1486.25 Q936.668 1486.25 933.589 1481.67 Q930.534 1477.06 930.534 1468.33 Q930.534 1459.58 933.589 1455 Q936.668 1450.39 942.478 1450.39 Z\" fill=\"#000000\" fill-rule=\"nonzero\" fill-opacity=\"1\" /><path clip-path=\"url(#clip200)\" d=\"M1231.22 1481.64 L1238.86 1481.64 L1238.86 1455.28 L1230.55 1456.95 L1230.55 1452.69 L1238.81 1451.02 L1243.49 1451.02 L1243.49 1481.64 L1251.13 1481.64 L1251.13 1485.58 L1231.22 1485.58 L1231.22 1481.64 Z\" fill=\"#000000\" fill-rule=\"nonzero\" fill-opacity=\"1\" /><path clip-path=\"url(#clip200)\" d=\"M1260.57 1479.7 L1265.45 1479.7 L1265.45 1485.58 L1260.57 1485.58 L1260.57 1479.7 Z\" fill=\"#000000\" fill-rule=\"nonzero\" fill-opacity=\"1\" /><path clip-path=\"url(#clip200)\" d=\"M1276.45 1481.64 L1284.09 1481.64 L1284.09 1455.28 L1275.78 1456.95 L1275.78 1452.69 L1284.04 1451.02 L1288.72 1451.02 L1288.72 1481.64 L1296.36 1481.64 L1296.36 1485.58 L1276.45 1485.58 L1276.45 1481.64 Z\" fill=\"#000000\" fill-rule=\"nonzero\" fill-opacity=\"1\" /><path clip-path=\"url(#clip200)\" d=\"M1573.95 1481.64 L1581.59 1481.64 L1581.59 1455.28 L1573.28 1456.95 L1573.28 1452.69 L1581.54 1451.02 L1586.22 1451.02 L1586.22 1481.64 L1593.86 1481.64 L1593.86 1485.58 L1573.95 1485.58 L1573.95 1481.64 Z\" fill=\"#000000\" fill-rule=\"nonzero\" fill-opacity=\"1\" /><path clip-path=\"url(#clip200)\" d=\"M1603.3 1479.7 L1608.19 1479.7 L1608.19 1485.58 L1603.3 1485.58 L1603.3 1479.7 Z\" fill=\"#000000\" fill-rule=\"nonzero\" fill-opacity=\"1\" /><path clip-path=\"url(#clip200)\" d=\"M1622.4 1481.64 L1638.72 1481.64 L1638.72 1485.58 L1616.78 1485.58 L1616.78 1481.64 Q1619.44 1478.89 1624.02 1474.26 Q1628.63 1469.61 1629.81 1468.27 Q1632.05 1465.74 1632.93 1464.01 Q1633.84 1462.25 1633.84 1460.56 Q1633.84 1457.8 1631.89 1456.07 Q1629.97 1454.33 1626.87 1454.33 Q1624.67 1454.33 1622.22 1455.09 Q1619.79 1455.86 1617.01 1457.41 L1617.01 1452.69 Q1619.83 1451.55 1622.29 1450.97 Q1624.74 1450.39 1626.78 1450.39 Q1632.15 1450.39 1635.34 1453.08 Q1638.54 1455.77 1638.54 1460.26 Q1638.54 1462.39 1637.73 1464.31 Q1636.94 1466.2 1634.83 1468.8 Q1634.25 1469.47 1631.15 1472.69 Q1628.05 1475.88 1622.4 1481.64 Z\" fill=\"#000000\" fill-rule=\"nonzero\" fill-opacity=\"1\" /><path clip-path=\"url(#clip200)\" d=\"M1916.03 1481.64 L1923.66 1481.64 L1923.66 1455.28 L1915.35 1456.95 L1915.35 1452.69 L1923.62 1451.02 L1928.29 1451.02 L1928.29 1481.64 L1935.93 1481.64 L1935.93 1485.58 L1916.03 1485.58 L1916.03 1481.64 Z\" fill=\"#000000\" fill-rule=\"nonzero\" fill-opacity=\"1\" /><path clip-path=\"url(#clip200)\" d=\"M1945.38 1479.7 L1950.26 1479.7 L1950.26 1485.58 L1945.38 1485.58 L1945.38 1479.7 Z\" fill=\"#000000\" fill-rule=\"nonzero\" fill-opacity=\"1\" /><path clip-path=\"url(#clip200)\" d=\"M1974.61 1466.95 Q1977.97 1467.66 1979.85 1469.93 Q1981.74 1472.2 1981.74 1475.53 Q1981.74 1480.65 1978.22 1483.45 Q1974.71 1486.25 1968.22 1486.25 Q1966.05 1486.25 1963.73 1485.81 Q1961.44 1485.39 1958.99 1484.54 L1958.99 1480.02 Q1960.93 1481.16 1963.25 1481.74 Q1965.56 1482.32 1968.09 1482.32 Q1972.48 1482.32 1974.78 1480.58 Q1977.09 1478.84 1977.09 1475.53 Q1977.09 1472.48 1974.94 1470.77 Q1972.81 1469.03 1968.99 1469.03 L1964.96 1469.03 L1964.96 1465.19 L1969.17 1465.19 Q1972.62 1465.19 1974.45 1463.82 Q1976.28 1462.43 1976.28 1459.84 Q1976.28 1457.18 1974.38 1455.77 Q1972.51 1454.33 1968.99 1454.33 Q1967.07 1454.33 1964.87 1454.75 Q1962.67 1455.16 1960.03 1456.04 L1960.03 1451.88 Q1962.69 1451.14 1965.01 1450.77 Q1967.35 1450.39 1969.41 1450.39 Q1974.73 1450.39 1977.83 1452.83 Q1980.93 1455.23 1980.93 1459.35 Q1980.93 1462.22 1979.29 1464.21 Q1977.65 1466.18 1974.61 1466.95 Z\" fill=\"#000000\" fill-rule=\"nonzero\" fill-opacity=\"1\" /><path clip-path=\"url(#clip200)\" d=\"M2258.01 1481.64 L2265.65 1481.64 L2265.65 1455.28 L2257.34 1456.95 L2257.34 1452.69 L2265.6 1451.02 L2270.28 1451.02 L2270.28 1481.64 L2277.91 1481.64 L2277.91 1485.58 L2258.01 1485.58 L2258.01 1481.64 Z\" fill=\"#000000\" fill-rule=\"nonzero\" fill-opacity=\"1\" /><path clip-path=\"url(#clip200)\" d=\"M2287.36 1479.7 L2292.24 1479.7 L2292.24 1485.58 L2287.36 1485.58 L2287.36 1479.7 Z\" fill=\"#000000\" fill-rule=\"nonzero\" fill-opacity=\"1\" /><path clip-path=\"url(#clip200)\" d=\"M2315.28 1455.09 L2303.47 1473.54 L2315.28 1473.54 L2315.28 1455.09 M2314.05 1451.02 L2319.93 1451.02 L2319.93 1473.54 L2324.86 1473.54 L2324.86 1477.43 L2319.93 1477.43 L2319.93 1485.58 L2315.28 1485.58 L2315.28 1477.43 L2299.67 1477.43 L2299.67 1472.92 L2314.05 1451.02 Z\" fill=\"#000000\" fill-rule=\"nonzero\" fill-opacity=\"1\" /><path clip-path=\"url(#clip200)\" d=\"M1280.07 1532.4 L1267.18 1549.74 L1280.74 1568.04 L1273.83 1568.04 L1263.45 1554.04 L1253.08 1568.04 L1246.17 1568.04 L1260.01 1549.39 L1247.35 1532.4 L1254.25 1532.4 L1263.71 1545.1 L1273.16 1532.4 L1280.07 1532.4 Z\" fill=\"#000000\" fill-rule=\"nonzero\" fill-opacity=\"1\" /><polyline clip-path=\"url(#clip202)\" style=\"stroke:#000000; stroke-linecap:round; stroke-linejoin:round; stroke-width:2; stroke-opacity:0.1; fill:none\" points=\"174.149,1176.75 2352.76,1176.75 \"/>\n",
       "<polyline clip-path=\"url(#clip202)\" style=\"stroke:#000000; stroke-linecap:round; stroke-linejoin:round; stroke-width:2; stroke-opacity:0.1; fill:none\" points=\"174.149,812.974 2352.76,812.974 \"/>\n",
       "<polyline clip-path=\"url(#clip202)\" style=\"stroke:#000000; stroke-linecap:round; stroke-linejoin:round; stroke-width:2; stroke-opacity:0.1; fill:none\" points=\"174.149,449.195 2352.76,449.195 \"/>\n",
       "<polyline clip-path=\"url(#clip202)\" style=\"stroke:#000000; stroke-linecap:round; stroke-linejoin:round; stroke-width:2; stroke-opacity:0.1; fill:none\" points=\"174.149,85.4158 2352.76,85.4158 \"/>\n",
       "<polyline clip-path=\"url(#clip200)\" style=\"stroke:#000000; stroke-linecap:round; stroke-linejoin:round; stroke-width:4; stroke-opacity:1; fill:none\" points=\"174.149,1423.18 174.149,47.2441 \"/>\n",
       "<polyline clip-path=\"url(#clip200)\" style=\"stroke:#000000; stroke-linecap:round; stroke-linejoin:round; stroke-width:4; stroke-opacity:1; fill:none\" points=\"174.149,1176.75 193.047,1176.75 \"/>\n",
       "<polyline clip-path=\"url(#clip200)\" style=\"stroke:#000000; stroke-linecap:round; stroke-linejoin:round; stroke-width:4; stroke-opacity:1; fill:none\" points=\"174.149,812.974 193.047,812.974 \"/>\n",
       "<polyline clip-path=\"url(#clip200)\" style=\"stroke:#000000; stroke-linecap:round; stroke-linejoin:round; stroke-width:4; stroke-opacity:1; fill:none\" points=\"174.149,449.195 193.047,449.195 \"/>\n",
       "<polyline clip-path=\"url(#clip200)\" style=\"stroke:#000000; stroke-linecap:round; stroke-linejoin:round; stroke-width:4; stroke-opacity:1; fill:none\" points=\"174.149,85.4158 193.047,85.4158 \"/>\n",
       "<path clip-path=\"url(#clip200)\" d=\"M126.205 1162.55 Q122.593 1162.55 120.765 1166.12 Q118.959 1169.66 118.959 1176.79 Q118.959 1183.89 120.765 1187.46 Q122.593 1191 126.205 1191 Q129.839 1191 131.644 1187.46 Q133.473 1183.89 133.473 1176.79 Q133.473 1169.66 131.644 1166.12 Q129.839 1162.55 126.205 1162.55 M126.205 1158.85 Q132.015 1158.85 135.07 1163.45 Q138.149 1168.04 138.149 1176.79 Q138.149 1185.51 135.07 1190.12 Q132.015 1194.7 126.205 1194.7 Q120.394 1194.7 117.316 1190.12 Q114.26 1185.51 114.26 1176.79 Q114.26 1168.04 117.316 1163.45 Q120.394 1158.85 126.205 1158.85 Z\" fill=\"#000000\" fill-rule=\"nonzero\" fill-opacity=\"1\" /><path clip-path=\"url(#clip200)\" d=\"M118.242 826.319 L125.88 826.319 L125.88 799.953 L117.57 801.62 L117.57 797.36 L125.834 795.694 L130.51 795.694 L130.51 826.319 L138.149 826.319 L138.149 830.254 L118.242 830.254 L118.242 826.319 Z\" fill=\"#000000\" fill-rule=\"nonzero\" fill-opacity=\"1\" /><path clip-path=\"url(#clip200)\" d=\"M121.83 462.54 L138.149 462.54 L138.149 466.475 L116.205 466.475 L116.205 462.54 Q118.867 459.785 123.45 455.155 Q128.056 450.503 129.237 449.16 Q131.482 446.637 132.362 444.901 Q133.265 443.142 133.265 441.452 Q133.265 438.697 131.32 436.961 Q129.399 435.225 126.297 435.225 Q124.098 435.225 121.644 435.989 Q119.214 436.753 116.436 438.304 L116.436 433.581 Q119.26 432.447 121.714 431.868 Q124.168 431.29 126.205 431.29 Q131.575 431.29 134.769 433.975 Q137.964 436.66 137.964 441.151 Q137.964 443.28 137.154 445.202 Q136.367 447.1 134.26 449.692 Q133.681 450.364 130.58 453.581 Q127.478 456.776 121.83 462.54 Z\" fill=\"#000000\" fill-rule=\"nonzero\" fill-opacity=\"1\" /><path clip-path=\"url(#clip200)\" d=\"M131.019 84.0617 Q134.376 84.7792 136.251 87.0477 Q138.149 89.3163 138.149 92.6496 Q138.149 97.7653 134.63 100.566 Q131.112 103.367 124.63 103.367 Q122.455 103.367 120.14 102.927 Q117.848 102.511 115.394 101.654 L115.394 97.1403 Q117.339 98.2745 119.654 98.8532 Q121.968 99.4319 124.492 99.4319 Q128.89 99.4319 131.181 97.6958 Q133.496 95.9597 133.496 92.6496 Q133.496 89.594 131.343 87.8811 Q129.214 86.145 125.394 86.145 L121.367 86.145 L121.367 82.3024 L125.58 82.3024 Q129.029 82.3024 130.857 80.9367 Q132.686 79.5478 132.686 76.9552 Q132.686 74.2932 130.788 72.8812 Q128.913 71.446 125.394 71.446 Q123.473 71.446 121.274 71.8626 Q119.075 72.2793 116.436 73.1589 L116.436 68.9923 Q119.098 68.2516 121.413 67.8812 Q123.751 67.5108 125.811 67.5108 Q131.135 67.5108 134.237 69.9414 Q137.339 72.3488 137.339 76.4691 Q137.339 79.3395 135.695 81.3302 Q134.052 83.2978 131.019 84.0617 Z\" fill=\"#000000\" fill-rule=\"nonzero\" fill-opacity=\"1\" /><path clip-path=\"url(#clip200)\" d=\"M45.7664 725.138 Q39.4007 725.138 35.8996 727.78 Q32.3984 730.39 32.3984 735.132 Q32.3984 739.843 35.8996 742.485 Q39.4007 745.095 45.7664 745.095 Q52.1003 745.095 55.6014 742.485 Q59.1026 739.843 59.1026 735.132 Q59.1026 730.39 55.6014 727.78 Q52.1003 725.138 45.7664 725.138 M59.58 719.282 Q68.683 719.282 73.1071 723.324 Q77.5631 727.366 77.5631 735.705 Q77.5631 738.793 77.0857 741.53 Q76.6401 744.267 75.6852 746.845 L69.9879 746.845 Q71.3884 744.267 72.0568 741.753 Q72.7252 739.238 72.7252 736.628 Q72.7252 730.867 69.7015 728.003 Q66.7096 725.138 60.6303 725.138 L57.7339 725.138 Q60.885 726.952 62.4446 729.785 Q64.0042 732.618 64.0042 736.565 Q64.0042 743.121 59.0071 747.132 Q54.01 751.142 45.7664 751.142 Q37.491 751.142 32.4939 747.132 Q27.4968 743.121 27.4968 736.565 Q27.4968 732.618 29.0564 729.785 Q30.616 726.952 33.7671 725.138 L28.3562 725.138 L28.3562 719.282 L59.58 719.282 Z\" fill=\"#000000\" fill-rule=\"nonzero\" fill-opacity=\"1\" /><polyline clip-path=\"url(#clip202)\" style=\"stroke:#009af9; stroke-linecap:round; stroke-linejoin:round; stroke-width:4; stroke-opacity:1; fill:none\" points=\"235.808,1384.24 270.062,1383.94 304.317,1383.48 338.572,1382.86 372.827,1382.06 407.082,1381.08 441.337,1379.9 475.591,1378.53 509.846,1376.95 544.101,1375.16 578.356,1373.14 612.611,1370.88 646.866,1368.37 681.12,1365.6 715.375,1362.56 749.63,1359.23 783.885,1355.6 818.14,1351.66 852.394,1347.38 886.649,1342.75 920.904,1337.76 955.159,1332.38 989.414,1326.58 1023.67,1320.36 1057.92,1313.67 1092.18,1306.51 1126.43,1298.83 1160.69,1290.61 1194.94,1281.81 1229.2,1272.39 1263.45,1262.33 1297.71,1251.57 1331.96,1240.07 1366.22,1227.77 1400.47,1214.63 1434.73,1200.58 1468.98,1185.56 1503.24,1169.48 1537.49,1152.28 1571.75,1133.86 1606,1114.13 1640.26,1092.97 1674.51,1070.25 1708.77,1045.86 1743.02,1019.63 1777.27,991.382 1811.53,960.934 1845.78,928.061 1880.04,892.514 1914.29,854.006 1948.55,812.209 1982.8,766.744 2017.06,717.173 2051.31,662.984 2085.57,603.576 2119.82,538.24 2154.08,466.132 2188.33,386.24 2222.59,297.34 2256.84,197.937 2291.1,86.1857 \"/>\n",
       "<path clip-path=\"url(#clip200)\" d=\"M246.769 196.789 L553.078 196.789 L553.078 93.1086 L246.769 93.1086  Z\" fill=\"#ffffff\" fill-rule=\"evenodd\" fill-opacity=\"1\"/>\n",
       "<polyline clip-path=\"url(#clip200)\" style=\"stroke:#000000; stroke-linecap:round; stroke-linejoin:round; stroke-width:4; stroke-opacity:1; fill:none\" points=\"246.769,196.789 553.078,196.789 553.078,93.1086 246.769,93.1086 246.769,196.789 \"/>\n",
       "<polyline clip-path=\"url(#clip200)\" style=\"stroke:#009af9; stroke-linecap:round; stroke-linejoin:round; stroke-width:4; stroke-opacity:1; fill:none\" points=\"270.976,144.949 416.216,144.949 \"/>\n",
       "<path clip-path=\"url(#clip200)\" d=\"M459.335 148.965 Q459.335 144.335 457.414 141.789 Q455.516 139.243 452.067 139.243 Q448.641 139.243 446.719 141.789 Q444.821 144.335 444.821 148.965 Q444.821 153.571 446.719 156.118 Q448.641 158.664 452.067 158.664 Q455.516 158.664 457.414 156.118 Q459.335 153.571 459.335 148.965 M463.594 159.011 Q463.594 165.631 460.654 168.849 Q457.715 172.09 451.65 172.09 Q449.405 172.09 447.414 171.742 Q445.423 171.418 443.548 170.724 L443.548 166.58 Q445.423 167.599 447.252 168.085 Q449.08 168.571 450.979 168.571 Q455.168 168.571 457.252 166.372 Q459.335 164.196 459.335 159.775 L459.335 157.668 Q458.016 159.96 455.955 161.094 Q453.895 162.229 451.025 162.229 Q446.256 162.229 443.34 158.594 Q440.423 154.96 440.423 148.965 Q440.423 142.946 443.34 139.312 Q446.256 135.678 451.025 135.678 Q453.895 135.678 455.955 136.812 Q458.016 137.946 459.335 140.238 L459.335 136.303 L463.594 136.303 L463.594 159.011 Z\" fill=\"#000000\" fill-rule=\"nonzero\" fill-opacity=\"1\" /><path clip-path=\"url(#clip200)\" d=\"M482.599 126.257 Q479.497 131.581 477.992 136.789 Q476.488 141.997 476.488 147.344 Q476.488 152.692 477.992 157.946 Q479.52 163.178 482.599 168.479 L478.895 168.479 Q475.423 163.039 473.687 157.784 Q471.974 152.53 471.974 147.344 Q471.974 142.182 473.687 136.951 Q475.4 131.72 478.895 126.257 L482.599 126.257 Z\" fill=\"#000000\" fill-rule=\"nonzero\" fill-opacity=\"1\" /><path clip-path=\"url(#clip200)\" d=\"M512.413 136.303 L503.039 148.919 L512.9 162.229 L507.876 162.229 L500.33 152.043 L492.784 162.229 L487.761 162.229 L497.83 148.664 L488.617 136.303 L493.64 136.303 L500.515 145.539 L507.39 136.303 L512.413 136.303 Z\" fill=\"#000000\" fill-rule=\"nonzero\" fill-opacity=\"1\" /><path clip-path=\"url(#clip200)\" d=\"M518.247 126.257 L521.95 126.257 Q525.423 131.72 527.136 136.951 Q528.872 142.182 528.872 147.344 Q528.872 152.53 527.136 157.784 Q525.423 163.039 521.95 168.479 L518.247 168.479 Q521.325 163.178 522.83 157.946 Q524.358 152.692 524.358 147.344 Q524.358 141.997 522.83 136.789 Q521.325 131.581 518.247 126.257 Z\" fill=\"#000000\" fill-rule=\"nonzero\" fill-opacity=\"1\" /></svg>\n"
      ]
     },
     "execution_count": 58,
     "metadata": {},
     "output_type": "execute_result"
    }
   ],
   "source": [
    "g(x) = x^2-3\n",
    "g(x)= tan(x)-2x\n",
    "\n",
    "plot(g,0.8:0.01:1.4,xlabel =\"x\",ylabel = \"g\", label = \"g(x)\")"
   ]
  },
  {
   "cell_type": "code",
   "execution_count": 59,
   "metadata": {},
   "outputs": [
    {
     "data": {
      "text/html": [
       "<div><div style = \"float: left;\"><span>16×4 DataFrame</span></div><div style = \"clear: both;\"></div></div><div class = \"data-frame\" style = \"overflow-x: scroll;\"><table class = \"data-frame\" style = \"margin-bottom: 6px;\"><thead><tr class = \"header\"><th class = \"rowNumber\" style = \"font-weight: bold; text-align: right;\">Row</th><th style = \"text-align: left;\">p_i</th><th style = \"text-align: left;\">f_i</th><th style = \"text-align: left;\">error_abs</th><th style = \"text-align: left;\">error_rel</th></tr><tr class = \"subheader headerLastRow\"><th class = \"rowNumber\" style = \"font-weight: bold; text-align: right;\"></th><th title = \"Float64\" style = \"text-align: left;\">Float64</th><th title = \"Float64\" style = \"text-align: left;\">Float64</th><th title = \"Float64\" style = \"text-align: left;\">Float64</th><th title = \"Float64\" style = \"text-align: left;\">Float64</th></tr></thead><tbody><tr><td class = \"rowNumber\" style = \"font-weight: bold; text-align: right;\">1</td><td style = \"text-align: right;\">1.1</td><td style = \"text-align: right;\">-0.23524</td><td style = \"text-align: right;\">0.3</td><td style = \"text-align: right;\">0.272727</td></tr><tr><td class = \"rowNumber\" style = \"font-weight: bold; text-align: right;\">2</td><td style = \"text-align: right;\">1.25</td><td style = \"text-align: right;\">0.50957</td><td style = \"text-align: right;\">0.15</td><td style = \"text-align: right;\">0.12</td></tr><tr><td class = \"rowNumber\" style = \"font-weight: bold; text-align: right;\">3</td><td style = \"text-align: right;\">1.175</td><td style = \"text-align: right;\">0.0432212</td><td style = \"text-align: right;\">0.075</td><td style = \"text-align: right;\">0.0638298</td></tr><tr><td class = \"rowNumber\" style = \"font-weight: bold; text-align: right;\">4</td><td style = \"text-align: right;\">1.1375</td><td style = \"text-align: right;\">-0.113383</td><td style = \"text-align: right;\">0.0375</td><td style = \"text-align: right;\">0.032967</td></tr><tr><td class = \"rowNumber\" style = \"font-weight: bold; text-align: right;\">5</td><td style = \"text-align: right;\">1.15625</td><td style = \"text-align: right;\">-0.0400159</td><td style = \"text-align: right;\">0.01875</td><td style = \"text-align: right;\">0.0162162</td></tr><tr><td class = \"rowNumber\" style = \"font-weight: bold; text-align: right;\">6</td><td style = \"text-align: right;\">1.16562</td><td style = \"text-align: right;\">0.000283024</td><td style = \"text-align: right;\">0.009375</td><td style = \"text-align: right;\">0.0080429</td></tr><tr><td class = \"rowNumber\" style = \"font-weight: bold; text-align: right;\">7</td><td style = \"text-align: right;\">1.16094</td><td style = \"text-align: right;\">-0.020185</td><td style = \"text-align: right;\">0.0046875</td><td style = \"text-align: right;\">0.00403769</td></tr><tr><td class = \"rowNumber\" style = \"font-weight: bold; text-align: right;\">8</td><td style = \"text-align: right;\">1.16328</td><td style = \"text-align: right;\">-0.010032</td><td style = \"text-align: right;\">0.00234375</td><td style = \"text-align: right;\">0.00201478</td></tr><tr><td class = \"rowNumber\" style = \"font-weight: bold; text-align: right;\">9</td><td style = \"text-align: right;\">1.16445</td><td style = \"text-align: right;\">-0.00489492</td><td style = \"text-align: right;\">0.00117188</td><td style = \"text-align: right;\">0.00100637</td></tr><tr><td class = \"rowNumber\" style = \"font-weight: bold; text-align: right;\">10</td><td style = \"text-align: right;\">1.16504</td><td style = \"text-align: right;\">-0.00231108</td><td style = \"text-align: right;\">0.000585938</td><td style = \"text-align: right;\">0.000502934</td></tr><tr><td class = \"rowNumber\" style = \"font-weight: bold; text-align: right;\">11</td><td style = \"text-align: right;\">1.16533</td><td style = \"text-align: right;\">-0.00101531</td><td style = \"text-align: right;\">0.000292969</td><td style = \"text-align: right;\">0.000251404</td></tr><tr><td class = \"rowNumber\" style = \"font-weight: bold; text-align: right;\">12</td><td style = \"text-align: right;\">1.16548</td><td style = \"text-align: right;\">-0.000366465</td><td style = \"text-align: right;\">0.000146484</td><td style = \"text-align: right;\">0.000125686</td></tr><tr><td class = \"rowNumber\" style = \"font-weight: bold; text-align: right;\">13</td><td style = \"text-align: right;\">1.16555</td><td style = \"text-align: right;\">-4.1801e-5</td><td style = \"text-align: right;\">7.32422e-5</td><td style = \"text-align: right;\">6.28391e-5</td></tr><tr><td class = \"rowNumber\" style = \"font-weight: bold; text-align: right;\">14</td><td style = \"text-align: right;\">1.16559</td><td style = \"text-align: right;\">0.000120592</td><td style = \"text-align: right;\">3.66211e-5</td><td style = \"text-align: right;\">3.14185e-5</td></tr><tr><td class = \"rowNumber\" style = \"font-weight: bold; text-align: right;\">15</td><td style = \"text-align: right;\">1.16557</td><td style = \"text-align: right;\">3.93902e-5</td><td style = \"text-align: right;\">1.83105e-5</td><td style = \"text-align: right;\">1.57095e-5</td></tr><tr><td class = \"rowNumber\" style = \"font-weight: bold; text-align: right;\">16</td><td style = \"text-align: right;\">1.16556</td><td style = \"text-align: right;\">-1.20662e-6</td><td style = \"text-align: right;\">9.15527e-6</td><td style = \"text-align: right;\">7.85482e-6</td></tr></tbody></table></div>"
      ],
      "text/latex": [
       "\\begin{tabular}{r|cccc}\n",
       "\t& p\\_i & f\\_i & error\\_abs & error\\_rel\\\\\n",
       "\t\\hline\n",
       "\t& Float64 & Float64 & Float64 & Float64\\\\\n",
       "\t\\hline\n",
       "\t1 & 1.1 & -0.23524 & 0.3 & 0.272727 \\\\\n",
       "\t2 & 1.25 & 0.50957 & 0.15 & 0.12 \\\\\n",
       "\t3 & 1.175 & 0.0432212 & 0.075 & 0.0638298 \\\\\n",
       "\t4 & 1.1375 & -0.113383 & 0.0375 & 0.032967 \\\\\n",
       "\t5 & 1.15625 & -0.0400159 & 0.01875 & 0.0162162 \\\\\n",
       "\t6 & 1.16562 & 0.000283024 & 0.009375 & 0.0080429 \\\\\n",
       "\t7 & 1.16094 & -0.020185 & 0.0046875 & 0.00403769 \\\\\n",
       "\t8 & 1.16328 & -0.010032 & 0.00234375 & 0.00201478 \\\\\n",
       "\t9 & 1.16445 & -0.00489492 & 0.00117188 & 0.00100637 \\\\\n",
       "\t10 & 1.16504 & -0.00231108 & 0.000585938 & 0.000502934 \\\\\n",
       "\t11 & 1.16533 & -0.00101531 & 0.000292969 & 0.000251404 \\\\\n",
       "\t12 & 1.16548 & -0.000366465 & 0.000146484 & 0.000125686 \\\\\n",
       "\t13 & 1.16555 & -4.1801e-5 & 7.32422e-5 & 6.28391e-5 \\\\\n",
       "\t14 & 1.16559 & 0.000120592 & 3.66211e-5 & 3.14185e-5 \\\\\n",
       "\t15 & 1.16557 & 3.93902e-5 & 1.83105e-5 & 1.57095e-5 \\\\\n",
       "\t16 & 1.16556 & -1.20662e-6 & 9.15527e-6 & 7.85482e-6 \\\\\n",
       "\\end{tabular}\n"
      ],
      "text/plain": [
       "\u001b[1m16×4 DataFrame\u001b[0m\n",
       "\u001b[1m Row \u001b[0m│\u001b[1m p_i     \u001b[0m\u001b[1m f_i          \u001b[0m\u001b[1m error_abs   \u001b[0m\u001b[1m error_rel   \u001b[0m\n",
       "     │\u001b[90m Float64 \u001b[0m\u001b[90m Float64      \u001b[0m\u001b[90m Float64     \u001b[0m\u001b[90m Float64     \u001b[0m\n",
       "─────┼─────────────────────────────────────────────────\n",
       "   1 │ 1.1      -0.23524      0.3          0.272727\n",
       "   2 │ 1.25      0.50957      0.15         0.12\n",
       "   3 │ 1.175     0.0432212    0.075        0.0638298\n",
       "   4 │ 1.1375   -0.113383     0.0375       0.032967\n",
       "   5 │ 1.15625  -0.0400159    0.01875      0.0162162\n",
       "   6 │ 1.16562   0.000283024  0.009375     0.0080429\n",
       "   7 │ 1.16094  -0.020185     0.0046875    0.00403769\n",
       "   8 │ 1.16328  -0.010032     0.00234375   0.00201478\n",
       "   9 │ 1.16445  -0.00489492   0.00117188   0.00100637\n",
       "  10 │ 1.16504  -0.00231108   0.000585938  0.000502934\n",
       "  11 │ 1.16533  -0.00101531   0.000292969  0.000251404\n",
       "  12 │ 1.16548  -0.000366465  0.000146484  0.000125686\n",
       "  13 │ 1.16555  -4.1801e-5    7.32422e-5   6.28391e-5\n",
       "  14 │ 1.16559   0.000120592  3.66211e-5   3.14185e-5\n",
       "  15 │ 1.16557   3.93902e-5   1.83105e-5   1.57095e-5\n",
       "  16 │ 1.16556  -1.20662e-6   9.15527e-6   7.85482e-6"
      ]
     },
     "execution_count": 59,
     "metadata": {},
     "output_type": "execute_result"
    }
   ],
   "source": [
    "conv,vect_pi,vect_f,vect_eabs,vect_erel = biseccion(g,[0.8,1.4])\n",
    "data = DataFrame(p_i = vect_pi, f_i= vect_f,error_abs = vect_eabs,error_rel = vect_erel)"
   ]
  },
  {
   "cell_type": "code",
   "execution_count": 73,
   "metadata": {},
   "outputs": [
    {
     "data": {
      "image/svg+xml": [
       "<?xml version=\"1.0\" encoding=\"utf-8\"?>\n",
       "<svg xmlns=\"http://www.w3.org/2000/svg\" xmlns:xlink=\"http://www.w3.org/1999/xlink\" width=\"600\" height=\"400\" viewBox=\"0 0 2400 1600\">\n",
       "<defs>\n",
       "  <clipPath id=\"clip480\">\n",
       "    <rect x=\"0\" y=\"0\" width=\"2400\" height=\"1600\"/>\n",
       "  </clipPath>\n",
       "</defs>\n",
       "<path clip-path=\"url(#clip480)\" d=\"M0 1600 L2400 1600 L2400 0 L0 0  Z\" fill=\"#ffffff\" fill-rule=\"evenodd\" fill-opacity=\"1\"/>\n",
       "<defs>\n",
       "  <clipPath id=\"clip481\">\n",
       "    <rect x=\"480\" y=\"0\" width=\"1681\" height=\"1600\"/>\n",
       "  </clipPath>\n",
       "</defs>\n",
       "<path clip-path=\"url(#clip480)\" d=\"M244.132 1486.45 L2352.76 1486.45 L2352.76 47.2441 L244.132 47.2441  Z\" fill=\"#ffffff\" fill-rule=\"evenodd\" fill-opacity=\"1\"/>\n",
       "<defs>\n",
       "  <clipPath id=\"clip482\">\n",
       "    <rect x=\"244\" y=\"47\" width=\"2110\" height=\"1440\"/>\n",
       "  </clipPath>\n",
       "</defs>\n",
       "<polyline clip-path=\"url(#clip482)\" style=\"stroke:#000000; stroke-linecap:round; stroke-linejoin:round; stroke-width:2; stroke-opacity:0.1; fill:none\" points=\"569.046,1486.45 569.046,47.2441 \"/>\n",
       "<polyline clip-path=\"url(#clip482)\" style=\"stroke:#000000; stroke-linecap:round; stroke-linejoin:round; stroke-width:2; stroke-opacity:0.1; fill:none\" points=\"966.9,1486.45 966.9,47.2441 \"/>\n",
       "<polyline clip-path=\"url(#clip482)\" style=\"stroke:#000000; stroke-linecap:round; stroke-linejoin:round; stroke-width:2; stroke-opacity:0.1; fill:none\" points=\"1364.75,1486.45 1364.75,47.2441 \"/>\n",
       "<polyline clip-path=\"url(#clip482)\" style=\"stroke:#000000; stroke-linecap:round; stroke-linejoin:round; stroke-width:2; stroke-opacity:0.1; fill:none\" points=\"1762.61,1486.45 1762.61,47.2441 \"/>\n",
       "<polyline clip-path=\"url(#clip482)\" style=\"stroke:#000000; stroke-linecap:round; stroke-linejoin:round; stroke-width:2; stroke-opacity:0.1; fill:none\" points=\"2160.46,1486.45 2160.46,47.2441 \"/>\n",
       "<polyline clip-path=\"url(#clip480)\" style=\"stroke:#000000; stroke-linecap:round; stroke-linejoin:round; stroke-width:4; stroke-opacity:1; fill:none\" points=\"244.132,1486.45 2352.76,1486.45 \"/>\n",
       "<polyline clip-path=\"url(#clip480)\" style=\"stroke:#000000; stroke-linecap:round; stroke-linejoin:round; stroke-width:4; stroke-opacity:1; fill:none\" points=\"569.046,1486.45 569.046,1467.55 \"/>\n",
       "<polyline clip-path=\"url(#clip480)\" style=\"stroke:#000000; stroke-linecap:round; stroke-linejoin:round; stroke-width:4; stroke-opacity:1; fill:none\" points=\"966.9,1486.45 966.9,1467.55 \"/>\n",
       "<polyline clip-path=\"url(#clip480)\" style=\"stroke:#000000; stroke-linecap:round; stroke-linejoin:round; stroke-width:4; stroke-opacity:1; fill:none\" points=\"1364.75,1486.45 1364.75,1467.55 \"/>\n",
       "<polyline clip-path=\"url(#clip480)\" style=\"stroke:#000000; stroke-linecap:round; stroke-linejoin:round; stroke-width:4; stroke-opacity:1; fill:none\" points=\"1762.61,1486.45 1762.61,1467.55 \"/>\n",
       "<polyline clip-path=\"url(#clip480)\" style=\"stroke:#000000; stroke-linecap:round; stroke-linejoin:round; stroke-width:4; stroke-opacity:1; fill:none\" points=\"2160.46,1486.45 2160.46,1467.55 \"/>\n",
       "<path clip-path=\"url(#clip480)\" d=\"M573.294 1530.21 Q576.65 1530.93 578.525 1533.2 Q580.423 1535.47 580.423 1538.8 Q580.423 1543.92 576.905 1546.72 Q573.386 1549.52 566.905 1549.52 Q564.729 1549.52 562.414 1549.08 Q560.123 1548.66 557.669 1547.81 L557.669 1543.29 Q559.613 1544.43 561.928 1545.01 Q564.243 1545.58 566.766 1545.58 Q571.164 1545.58 573.456 1543.85 Q575.771 1542.11 575.771 1538.8 Q575.771 1535.75 573.618 1534.03 Q571.488 1532.3 567.669 1532.3 L563.641 1532.3 L563.641 1528.45 L567.854 1528.45 Q571.303 1528.45 573.132 1527.09 Q574.96 1525.7 574.96 1523.11 Q574.96 1520.45 573.062 1519.03 Q571.187 1517.6 567.669 1517.6 Q565.748 1517.6 563.549 1518.01 Q561.349 1518.43 558.711 1519.31 L558.711 1515.14 Q561.373 1514.4 563.687 1514.03 Q566.025 1513.66 568.086 1513.66 Q573.41 1513.66 576.511 1516.09 Q579.613 1518.5 579.613 1522.62 Q579.613 1525.49 577.97 1527.48 Q576.326 1529.45 573.294 1530.21 Z\" fill=\"#000000\" fill-rule=\"nonzero\" fill-opacity=\"1\" /><path clip-path=\"url(#clip480)\" d=\"M967.305 1529.7 Q964.157 1529.7 962.305 1531.86 Q960.476 1534.01 960.476 1537.76 Q960.476 1541.49 962.305 1543.66 Q964.157 1545.82 967.305 1545.82 Q970.453 1545.82 972.282 1543.66 Q974.133 1541.49 974.133 1537.76 Q974.133 1534.01 972.282 1531.86 Q970.453 1529.7 967.305 1529.7 M976.587 1515.05 L976.587 1519.31 Q974.828 1518.48 973.022 1518.04 Q971.24 1517.6 969.481 1517.6 Q964.851 1517.6 962.397 1520.72 Q959.967 1523.85 959.62 1530.17 Q960.985 1528.15 963.045 1527.09 Q965.106 1526 967.583 1526 Q972.791 1526 975.8 1529.17 Q978.832 1532.32 978.832 1537.76 Q978.832 1543.08 975.684 1546.3 Q972.536 1549.52 967.305 1549.52 Q961.309 1549.52 958.138 1544.94 Q954.967 1540.33 954.967 1531.6 Q954.967 1523.41 958.856 1518.55 Q962.745 1513.66 969.295 1513.66 Q971.055 1513.66 972.837 1514.01 Q974.643 1514.36 976.587 1515.05 Z\" fill=\"#000000\" fill-rule=\"nonzero\" fill-opacity=\"1\" /><path clip-path=\"url(#clip480)\" d=\"M1355.05 1548.13 L1355.05 1543.87 Q1356.81 1544.7 1358.62 1545.14 Q1360.42 1545.58 1362.16 1545.58 Q1366.79 1545.58 1369.22 1542.48 Q1371.67 1539.36 1372.02 1533.01 Q1370.68 1535.01 1368.62 1536.07 Q1366.56 1537.13 1364.06 1537.13 Q1358.87 1537.13 1355.84 1534.01 Q1352.83 1530.86 1352.83 1525.42 Q1352.83 1520.1 1355.98 1516.88 Q1359.13 1513.66 1364.36 1513.66 Q1370.35 1513.66 1373.5 1518.27 Q1376.67 1522.85 1376.67 1531.6 Q1376.67 1539.77 1372.79 1544.66 Q1368.92 1549.52 1362.37 1549.52 Q1360.61 1549.52 1358.8 1549.17 Q1357 1548.82 1355.05 1548.13 M1364.36 1533.48 Q1367.51 1533.48 1369.34 1531.32 Q1371.19 1529.17 1371.19 1525.42 Q1371.19 1521.7 1369.34 1519.54 Q1367.51 1517.37 1364.36 1517.37 Q1361.21 1517.37 1359.36 1519.54 Q1357.53 1521.7 1357.53 1525.42 Q1357.53 1529.17 1359.36 1531.32 Q1361.21 1533.48 1364.36 1533.48 Z\" fill=\"#000000\" fill-rule=\"nonzero\" fill-opacity=\"1\" /><path clip-path=\"url(#clip480)\" d=\"M1738.09 1544.91 L1745.73 1544.91 L1745.73 1518.55 L1737.42 1520.21 L1737.42 1515.95 L1745.69 1514.29 L1750.36 1514.29 L1750.36 1544.91 L1758 1544.91 L1758 1548.85 L1738.09 1548.85 L1738.09 1544.91 Z\" fill=\"#000000\" fill-rule=\"nonzero\" fill-opacity=\"1\" /><path clip-path=\"url(#clip480)\" d=\"M1771.47 1544.91 L1787.79 1544.91 L1787.79 1548.85 L1765.85 1548.85 L1765.85 1544.91 Q1768.51 1542.16 1773.09 1537.53 Q1777.7 1532.88 1778.88 1531.53 Q1781.13 1529.01 1782 1527.27 Q1782.91 1525.51 1782.91 1523.82 Q1782.91 1521.07 1780.96 1519.33 Q1779.04 1517.6 1775.94 1517.6 Q1773.74 1517.6 1771.29 1518.36 Q1768.86 1519.13 1766.08 1520.68 L1766.08 1515.95 Q1768.9 1514.82 1771.36 1514.24 Q1773.81 1513.66 1775.85 1513.66 Q1781.22 1513.66 1784.41 1516.35 Q1787.61 1519.03 1787.61 1523.52 Q1787.61 1525.65 1786.8 1527.57 Q1786.01 1529.47 1783.9 1532.07 Q1783.32 1532.74 1780.22 1535.95 Q1777.12 1539.15 1771.47 1544.91 Z\" fill=\"#000000\" fill-rule=\"nonzero\" fill-opacity=\"1\" /><path clip-path=\"url(#clip480)\" d=\"M2135.65 1544.91 L2143.28 1544.91 L2143.28 1518.55 L2134.97 1520.21 L2134.97 1515.95 L2143.24 1514.29 L2147.91 1514.29 L2147.91 1544.91 L2155.55 1544.91 L2155.55 1548.85 L2135.65 1548.85 L2135.65 1544.91 Z\" fill=\"#000000\" fill-rule=\"nonzero\" fill-opacity=\"1\" /><path clip-path=\"url(#clip480)\" d=\"M2165.04 1514.29 L2183.4 1514.29 L2183.4 1518.22 L2169.33 1518.22 L2169.33 1526.7 Q2170.34 1526.35 2171.36 1526.19 Q2172.38 1526 2173.4 1526 Q2179.19 1526 2182.57 1529.17 Q2185.95 1532.34 2185.95 1537.76 Q2185.95 1543.34 2182.47 1546.44 Q2179 1549.52 2172.68 1549.52 Q2170.51 1549.52 2168.24 1549.15 Q2165.99 1548.78 2163.59 1548.04 L2163.59 1543.34 Q2165.67 1544.47 2167.89 1545.03 Q2170.11 1545.58 2172.59 1545.58 Q2176.59 1545.58 2178.93 1543.48 Q2181.27 1541.37 2181.27 1537.76 Q2181.27 1534.15 2178.93 1532.04 Q2176.59 1529.94 2172.59 1529.94 Q2170.71 1529.94 2168.84 1530.35 Q2166.99 1530.77 2165.04 1531.65 L2165.04 1514.29 Z\" fill=\"#000000\" fill-rule=\"nonzero\" fill-opacity=\"1\" /><polyline clip-path=\"url(#clip482)\" style=\"stroke:#000000; stroke-linecap:round; stroke-linejoin:round; stroke-width:2; stroke-opacity:0.1; fill:none\" points=\"244.132,1235.21 2352.76,1235.21 \"/>\n",
       "<polyline clip-path=\"url(#clip482)\" style=\"stroke:#000000; stroke-linecap:round; stroke-linejoin:round; stroke-width:2; stroke-opacity:0.1; fill:none\" points=\"244.132,623.811 2352.76,623.811 \"/>\n",
       "<polyline clip-path=\"url(#clip480)\" style=\"stroke:#000000; stroke-linecap:round; stroke-linejoin:round; stroke-width:4; stroke-opacity:1; fill:none\" points=\"244.132,1486.45 244.132,47.2441 \"/>\n",
       "<polyline clip-path=\"url(#clip480)\" style=\"stroke:#000000; stroke-linecap:round; stroke-linejoin:round; stroke-width:4; stroke-opacity:1; fill:none\" points=\"244.132,1235.21 263.03,1235.21 \"/>\n",
       "<polyline clip-path=\"url(#clip480)\" style=\"stroke:#000000; stroke-linecap:round; stroke-linejoin:round; stroke-width:4; stroke-opacity:1; fill:none\" points=\"244.132,623.811 263.03,623.811 \"/>\n",
       "<path clip-path=\"url(#clip480)\" d=\"M51.6634 1255.01 L59.3023 1255.01 L59.3023 1228.64 L50.9921 1230.31 L50.9921 1226.05 L59.256 1224.38 L63.9319 1224.38 L63.9319 1255.01 L71.5707 1255.01 L71.5707 1258.94 L51.6634 1258.94 L51.6634 1255.01 Z\" fill=\"#000000\" fill-rule=\"nonzero\" fill-opacity=\"1\" /><path clip-path=\"url(#clip480)\" d=\"M91.0151 1227.46 Q87.404 1227.46 85.5753 1231.03 Q83.7697 1234.57 83.7697 1241.7 Q83.7697 1248.8 85.5753 1252.37 Q87.404 1255.91 91.0151 1255.91 Q94.6493 1255.91 96.4548 1252.37 Q98.2835 1248.8 98.2835 1241.7 Q98.2835 1234.57 96.4548 1231.03 Q94.6493 1227.46 91.0151 1227.46 M91.0151 1223.76 Q96.8252 1223.76 99.8808 1228.36 Q102.959 1232.95 102.959 1241.7 Q102.959 1250.42 99.8808 1255.03 Q96.8252 1259.61 91.0151 1259.61 Q85.2049 1259.61 82.1262 1255.03 Q79.0707 1250.42 79.0707 1241.7 Q79.0707 1232.95 82.1262 1228.36 Q85.2049 1223.76 91.0151 1223.76 Z\" fill=\"#000000\" fill-rule=\"nonzero\" fill-opacity=\"1\" /><path clip-path=\"url(#clip480)\" d=\"M112.664 1205.95 Q109.73 1205.95 108.244 1208.85 Q106.777 1211.73 106.777 1217.52 Q106.777 1223.29 108.244 1226.19 Q109.73 1229.07 112.664 1229.07 Q115.617 1229.07 117.084 1226.19 Q118.57 1223.29 118.57 1217.52 Q118.57 1211.73 117.084 1208.85 Q115.617 1205.95 112.664 1205.95 M112.664 1202.94 Q117.385 1202.94 119.868 1206.69 Q122.369 1210.41 122.369 1217.52 Q122.369 1224.61 119.868 1228.35 Q117.385 1232.08 112.664 1232.08 Q107.943 1232.08 105.442 1228.35 Q102.959 1224.61 102.959 1217.52 Q102.959 1210.41 105.442 1206.69 Q107.943 1202.94 112.664 1202.94 Z\" fill=\"#000000\" fill-rule=\"nonzero\" fill-opacity=\"1\" /><path clip-path=\"url(#clip480)\" d=\"M129.046 1226.75 L133.014 1226.75 L133.014 1231.53 L129.046 1231.53 L129.046 1226.75 Z\" fill=\"#000000\" fill-rule=\"nonzero\" fill-opacity=\"1\" /><path clip-path=\"url(#clip480)\" d=\"M149.415 1205.95 Q146.481 1205.95 144.995 1208.85 Q143.528 1211.73 143.528 1217.52 Q143.528 1223.29 144.995 1226.19 Q146.481 1229.07 149.415 1229.07 Q152.367 1229.07 153.834 1226.19 Q155.32 1223.29 155.32 1217.52 Q155.32 1211.73 153.834 1208.85 Q152.367 1205.95 149.415 1205.95 M149.415 1202.94 Q154.135 1202.94 156.618 1206.69 Q159.119 1210.41 159.119 1217.52 Q159.119 1224.61 156.618 1228.35 Q154.135 1232.08 149.415 1232.08 Q144.694 1232.08 142.192 1228.35 Q139.71 1224.61 139.71 1217.52 Q139.71 1210.41 142.192 1206.69 Q144.694 1202.94 149.415 1202.94 Z\" fill=\"#000000\" fill-rule=\"nonzero\" fill-opacity=\"1\" /><path clip-path=\"url(#clip480)\" d=\"M165.834 1203.45 L180.748 1203.45 L180.748 1206.65 L169.313 1206.65 L169.313 1213.53 Q170.141 1213.25 170.968 1213.12 Q171.796 1212.97 172.623 1212.97 Q177.325 1212.97 180.071 1215.54 Q182.817 1218.12 182.817 1222.52 Q182.817 1227.05 179.996 1229.58 Q177.175 1232.08 172.04 1232.08 Q170.272 1232.08 168.429 1231.78 Q166.605 1231.47 164.649 1230.87 L164.649 1227.05 Q166.342 1227.98 168.147 1228.43 Q169.953 1228.88 171.965 1228.88 Q175.219 1228.88 177.118 1227.17 Q179.018 1225.46 179.018 1222.52 Q179.018 1219.59 177.118 1217.88 Q175.219 1216.17 171.965 1216.17 Q170.442 1216.17 168.918 1216.5 Q167.414 1216.84 165.834 1217.56 L165.834 1203.45 Z\" fill=\"#000000\" fill-rule=\"nonzero\" fill-opacity=\"1\" /><path clip-path=\"url(#clip480)\" d=\"M198.428 1205.95 Q195.494 1205.95 194.008 1208.85 Q192.541 1211.73 192.541 1217.52 Q192.541 1223.29 194.008 1226.19 Q195.494 1229.07 198.428 1229.07 Q201.38 1229.07 202.848 1226.19 Q204.333 1223.29 204.333 1217.52 Q204.333 1211.73 202.848 1208.85 Q201.38 1205.95 198.428 1205.95 M198.428 1202.94 Q203.148 1202.94 205.631 1206.69 Q208.132 1210.41 208.132 1217.52 Q208.132 1224.61 205.631 1228.35 Q203.148 1232.08 198.428 1232.08 Q193.707 1232.08 191.205 1228.35 Q188.723 1224.61 188.723 1217.52 Q188.723 1210.41 191.205 1206.69 Q193.707 1202.94 198.428 1202.94 Z\" fill=\"#000000\" fill-rule=\"nonzero\" fill-opacity=\"1\" /><path clip-path=\"url(#clip480)\" d=\"M52.4722 643.603 L60.111 643.603 L60.111 617.237 L51.8009 618.904 L51.8009 614.645 L60.0647 612.978 L64.7406 612.978 L64.7406 643.603 L72.3795 643.603 L72.3795 647.538 L52.4722 647.538 L52.4722 643.603 Z\" fill=\"#000000\" fill-rule=\"nonzero\" fill-opacity=\"1\" /><path clip-path=\"url(#clip480)\" d=\"M91.8238 616.057 Q88.2127 616.057 86.384 619.622 Q84.5785 623.163 84.5785 630.293 Q84.5785 637.399 86.384 640.964 Q88.2127 644.506 91.8238 644.506 Q95.458 644.506 97.2636 640.964 Q99.0923 637.399 99.0923 630.293 Q99.0923 623.163 97.2636 619.622 Q95.458 616.057 91.8238 616.057 M91.8238 612.353 Q97.6339 612.353 100.689 616.96 Q103.768 621.543 103.768 630.293 Q103.768 639.02 100.689 643.626 Q97.6339 648.209 91.8238 648.209 Q86.0136 648.209 82.935 643.626 Q79.8794 639.02 79.8794 630.293 Q79.8794 621.543 82.935 616.96 Q86.0136 612.353 91.8238 612.353 Z\" fill=\"#000000\" fill-rule=\"nonzero\" fill-opacity=\"1\" /><path clip-path=\"url(#clip480)\" d=\"M113.473 594.549 Q110.539 594.549 109.053 597.446 Q107.586 600.323 107.586 606.116 Q107.586 611.89 109.053 614.786 Q110.539 617.664 113.473 617.664 Q116.426 617.664 117.893 614.786 Q119.379 611.89 119.379 606.116 Q119.379 600.323 117.893 597.446 Q116.426 594.549 113.473 594.549 M113.473 591.54 Q118.194 591.54 120.676 595.283 Q123.178 599.007 123.178 606.116 Q123.178 613.207 120.676 616.949 Q118.194 620.673 113.473 620.673 Q108.752 620.673 106.251 616.949 Q103.768 613.207 103.768 606.116 Q103.768 599.007 106.251 595.283 Q108.752 591.54 113.473 591.54 Z\" fill=\"#000000\" fill-rule=\"nonzero\" fill-opacity=\"1\" /><path clip-path=\"url(#clip480)\" d=\"M129.855 615.351 L133.823 615.351 L133.823 620.128 L129.855 620.128 L129.855 615.351 Z\" fill=\"#000000\" fill-rule=\"nonzero\" fill-opacity=\"1\" /><path clip-path=\"url(#clip480)\" d=\"M150.223 594.549 Q147.289 594.549 145.804 597.446 Q144.337 600.323 144.337 606.116 Q144.337 611.89 145.804 614.786 Q147.289 617.664 150.223 617.664 Q153.176 617.664 154.643 614.786 Q156.129 611.89 156.129 606.116 Q156.129 600.323 154.643 597.446 Q153.176 594.549 150.223 594.549 M150.223 591.54 Q154.944 591.54 157.427 595.283 Q159.928 599.007 159.928 606.116 Q159.928 613.207 157.427 616.949 Q154.944 620.673 150.223 620.673 Q145.503 620.673 143.001 616.949 Q140.519 613.207 140.519 606.116 Q140.519 599.007 143.001 595.283 Q145.503 591.54 150.223 591.54 Z\" fill=\"#000000\" fill-rule=\"nonzero\" fill-opacity=\"1\" /><path clip-path=\"url(#clip480)\" d=\"M165.646 592.048 L183.701 592.048 L183.701 593.665 L173.507 620.128 L169.539 620.128 L179.131 595.245 L165.646 595.245 L165.646 592.048 Z\" fill=\"#000000\" fill-rule=\"nonzero\" fill-opacity=\"1\" /><path clip-path=\"url(#clip480)\" d=\"M191.149 592.048 L206.064 592.048 L206.064 595.245 L194.629 595.245 L194.629 602.129 Q195.456 601.847 196.284 601.715 Q197.111 601.565 197.939 601.565 Q202.641 601.565 205.387 604.141 Q208.132 606.718 208.132 611.119 Q208.132 615.652 205.311 618.172 Q202.49 620.673 197.356 620.673 Q195.588 620.673 193.745 620.372 Q191.92 620.071 189.964 619.47 L189.964 615.652 Q191.657 616.573 193.462 617.024 Q195.268 617.476 197.28 617.476 Q200.534 617.476 202.434 615.764 Q204.333 614.053 204.333 611.119 Q204.333 608.185 202.434 606.473 Q200.534 604.762 197.28 604.762 Q195.757 604.762 194.234 605.1 Q192.729 605.439 191.149 606.154 L191.149 592.048 Z\" fill=\"#000000\" fill-rule=\"nonzero\" fill-opacity=\"1\" /><circle clip-path=\"url(#clip482)\" cx=\"303.811\" cy=\"1445.72\" r=\"14.4\" fill=\"#009af9\" fill-rule=\"evenodd\" fill-opacity=\"1\" stroke=\"#000000\" stroke-opacity=\"1\" stroke-width=\"3.2\"/>\n",
       "<circle clip-path=\"url(#clip482)\" cx=\"436.428\" cy=\"87.9763\" r=\"14.4\" fill=\"#009af9\" fill-rule=\"evenodd\" fill-opacity=\"1\" stroke=\"#000000\" stroke-opacity=\"1\" stroke-width=\"3.2\"/>\n",
       "<circle clip-path=\"url(#clip482)\" cx=\"569.046\" cy=\"745.165\" r=\"14.4\" fill=\"#009af9\" fill-rule=\"evenodd\" fill-opacity=\"1\" stroke=\"#000000\" stroke-opacity=\"1\" stroke-width=\"3.2\"/>\n",
       "<circle clip-path=\"url(#clip482)\" cx=\"701.664\" cy=\"1089.67\" r=\"14.4\" fill=\"#009af9\" fill-rule=\"evenodd\" fill-opacity=\"1\" stroke=\"#000000\" stroke-opacity=\"1\" stroke-width=\"3.2\"/>\n",
       "<circle clip-path=\"url(#clip482)\" cx=\"834.282\" cy=\"916.019\" r=\"14.4\" fill=\"#009af9\" fill-rule=\"evenodd\" fill-opacity=\"1\" stroke=\"#000000\" stroke-opacity=\"1\" stroke-width=\"3.2\"/>\n",
       "<circle clip-path=\"url(#clip482)\" cx=\"966.9\" cy=\"830.248\" r=\"14.4\" fill=\"#009af9\" fill-rule=\"evenodd\" fill-opacity=\"1\" stroke=\"#000000\" stroke-opacity=\"1\" stroke-width=\"3.2\"/>\n",
       "<circle clip-path=\"url(#clip482)\" cx=\"1099.52\" cy=\"873.047\" r=\"14.4\" fill=\"#009af9\" fill-rule=\"evenodd\" fill-opacity=\"1\" stroke=\"#000000\" stroke-opacity=\"1\" stroke-width=\"3.2\"/>\n",
       "<circle clip-path=\"url(#clip482)\" cx=\"1232.14\" cy=\"851.626\" r=\"14.4\" fill=\"#009af9\" fill-rule=\"evenodd\" fill-opacity=\"1\" stroke=\"#000000\" stroke-opacity=\"1\" stroke-width=\"3.2\"/>\n",
       "<circle clip-path=\"url(#clip482)\" cx=\"1364.75\" cy=\"840.932\" r=\"14.4\" fill=\"#009af9\" fill-rule=\"evenodd\" fill-opacity=\"1\" stroke=\"#000000\" stroke-opacity=\"1\" stroke-width=\"3.2\"/>\n",
       "<circle clip-path=\"url(#clip482)\" cx=\"1497.37\" cy=\"835.589\" r=\"14.4\" fill=\"#009af9\" fill-rule=\"evenodd\" fill-opacity=\"1\" stroke=\"#000000\" stroke-opacity=\"1\" stroke-width=\"3.2\"/>\n",
       "<circle clip-path=\"url(#clip482)\" cx=\"1629.99\" cy=\"832.918\" r=\"14.4\" fill=\"#009af9\" fill-rule=\"evenodd\" fill-opacity=\"1\" stroke=\"#000000\" stroke-opacity=\"1\" stroke-width=\"3.2\"/>\n",
       "<circle clip-path=\"url(#clip482)\" cx=\"1762.61\" cy=\"831.583\" r=\"14.4\" fill=\"#009af9\" fill-rule=\"evenodd\" fill-opacity=\"1\" stroke=\"#000000\" stroke-opacity=\"1\" stroke-width=\"3.2\"/>\n",
       "<circle clip-path=\"url(#clip482)\" cx=\"1895.22\" cy=\"830.916\" r=\"14.4\" fill=\"#009af9\" fill-rule=\"evenodd\" fill-opacity=\"1\" stroke=\"#000000\" stroke-opacity=\"1\" stroke-width=\"3.2\"/>\n",
       "<circle clip-path=\"url(#clip482)\" cx=\"2027.84\" cy=\"830.582\" r=\"14.4\" fill=\"#009af9\" fill-rule=\"evenodd\" fill-opacity=\"1\" stroke=\"#000000\" stroke-opacity=\"1\" stroke-width=\"3.2\"/>\n",
       "<circle clip-path=\"url(#clip482)\" cx=\"2160.46\" cy=\"830.749\" r=\"14.4\" fill=\"#009af9\" fill-rule=\"evenodd\" fill-opacity=\"1\" stroke=\"#000000\" stroke-opacity=\"1\" stroke-width=\"3.2\"/>\n",
       "<circle clip-path=\"url(#clip482)\" cx=\"2293.08\" cy=\"830.832\" r=\"14.4\" fill=\"#009af9\" fill-rule=\"evenodd\" fill-opacity=\"1\" stroke=\"#000000\" stroke-opacity=\"1\" stroke-width=\"3.2\"/>\n",
       "<path clip-path=\"url(#clip480)\" d=\"M2019.18 198.898 L2282.47 198.898 L2282.47 95.2176 L2019.18 95.2176  Z\" fill=\"#ffffff\" fill-rule=\"evenodd\" fill-opacity=\"1\"/>\n",
       "<polyline clip-path=\"url(#clip480)\" style=\"stroke:#000000; stroke-linecap:round; stroke-linejoin:round; stroke-width:4; stroke-opacity:1; fill:none\" points=\"2019.18,198.898 2282.47,198.898 2282.47,95.2176 2019.18,95.2176 2019.18,198.898 \"/>\n",
       "<circle clip-path=\"url(#clip480)\" cx=\"2112.89\" cy=\"147.058\" r=\"20.48\" fill=\"#009af9\" fill-rule=\"evenodd\" fill-opacity=\"1\" stroke=\"#000000\" stroke-opacity=\"1\" stroke-width=\"4.55111\"/>\n",
       "<path clip-path=\"url(#clip480)\" d=\"M2220.45 166.745 Q2218.65 171.375 2216.93 172.787 Q2215.22 174.199 2212.35 174.199 L2208.95 174.199 L2208.95 170.634 L2211.45 170.634 Q2213.21 170.634 2214.18 169.8 Q2215.15 168.967 2216.33 165.865 L2217.1 163.921 L2206.61 138.412 L2211.12 138.412 L2219.22 158.689 L2227.33 138.412 L2231.84 138.412 L2220.45 166.745 Z\" fill=\"#000000\" fill-rule=\"nonzero\" fill-opacity=\"1\" /><path clip-path=\"url(#clip480)\" d=\"M2239.13 160.402 L2246.77 160.402 L2246.77 134.037 L2238.46 135.703 L2238.46 131.444 L2246.72 129.778 L2251.4 129.778 L2251.4 160.402 L2259.04 160.402 L2259.04 164.338 L2239.13 164.338 L2239.13 160.402 Z\" fill=\"#000000\" fill-rule=\"nonzero\" fill-opacity=\"1\" /></svg>\n"
      ]
     },
     "execution_count": 73,
     "metadata": {},
     "output_type": "execute_result"
    }
   ],
   "source": [
    "n = length(vect_pi)\n",
    "scatter(1:n,i->abs(vect_pi[i]),yscale =:log10)"
   ]
  },
  {
   "cell_type": "markdown",
   "metadata": {},
   "source": [
    "### Problema 2\n",
    "\n",
    "Desarrolle un programa para encontrar la raíz de una función $f$ utilizando el **método de Newton** (también conocido como Newton-Raphson).\n",
    "El programa debe tomar como datos de entrada la función $f:\\mathbb{R}\\to \\mathbb{R}$, su derivada $f':\\mathbb{R}\\to \\mathbb{R}$, una estimación inicial $p_1$ de la raíz $x$, la tolerancia $\\varepsilon_x$ a la estimación $r_i:=\\frac{|p_{i+1} - p_{i}|}{|p_{i+1}|}$ del error relativo $|x-p_i|/|x|$ en la iteración $i$ para $i=1,2,...,n$, la tolerancia en $\\varepsilon_f$ al valor absoluto de $f_i:=f(p_{i})$ y el número máximo de iteraciones permitido $n_{\\max}$.\n",
    "El programa debe retornar una tupla con las siguientes componentes:\n",
    "\n",
    "* Un booleano indicando si el algoritmo convergió.\n",
    "\n",
    "* Un vector de componentes $p_i$ para $i=1,2,...,n$, donde $n$ es el número de iteraciones realizado por el programa.\n",
    "\n",
    "* Un vector de valores $f_i:=f(p_i)$.\n",
    "\n",
    "* Un vector de estimaciones $c_i:=|p_{i+1}-p_i|$ de errores absolutos $|x-p_i|$.\n",
    "\n",
    "* Un vector de estimaciones $r_i:=c_i/|p_{i+1}|$ de errores relativos $|x-p_i|/|x|$.\n",
    "\n",
    "El programa debe finalizar en la iteración $n$-ésima que satisfaga por vez primera:\n",
    "$$\n",
    "\\left( r_n < \\varepsilon_x \\qquad \\text{AND} \\qquad \n",
    "f_n < \\varepsilon_f \\right) \\qquad \\text{OR} \\qquad\n",
    "n = n_{\\max}\n",
    "$$\n",
    "y debe poder utlizar 13 cifras significativas para las variables reales (ej. `Float64`).\n",
    "\n",
    "Utilice este programa para resolver los **incisos 1 y 2** del **problema 1**, usando $p_1=1$ en ambos casos. No hace falta graficar $f(x)$ vs $x$. Compare la cantidad de iteraciones $n$, la cantidad de evaluaciones de la función $f$ y su derivada $f'$ en los dos métodos."
   ]
  },
  {
   "cell_type": "code",
   "execution_count": null,
   "metadata": {},
   "outputs": [],
   "source": []
  },
  {
   "cell_type": "markdown",
   "metadata": {},
   "source": [
    "### Problema 3\n",
    "\n",
    "Compute y grafique en escala log-lineal el error relativo estimado $r_i:=|p_{i+1}-p_i|/|p_{i+1}|$ vs $i$ de las aproximaciones de $\\sqrt{3}$ con los métodos de la **bisección** y **Newton**, partiendo del intervalo $[0,2.5]$ y del valor inicial $p_1=2.5$, respectivamente. \n",
    "Utilice en ambos casos tolerancias $\\varepsilon_x=\\varepsilon_f=10^{-10}$."
   ]
  },
  {
   "cell_type": "code",
   "execution_count": null,
   "metadata": {},
   "outputs": [],
   "source": []
  },
  {
   "cell_type": "markdown",
   "metadata": {},
   "source": [
    "### Problema 4\n",
    "\n",
    "Un objeto en caída vertical en el aire está sujeto a la fuerza de gravedad y a la resistencia del aire. Si un objeto de masa $m$ es dejado caer desde una altura $h_0$, su altura luego de $t$ segundos está dada por:\n",
    "$$\n",
    "h(t) = h_0 - \\frac{mg}{k} t + \\frac{m^2 g}{k^2} \\left( 1 - e^{-kt/m}\\right)\n",
    "$$\n",
    "donde $g=9.8\\, m/s^2$ y $k$ representa el coeficiente de resistencia del aire en $kg / s$.\n",
    "Suponga que $h_0 = 10\\,m$, $m=0.1\\,kg$, y $k=0.149\\,kg/s$.\n",
    "\n",
    "Grafique $h(t)$ para analizar su comportamiento.\n",
    "\n",
    "Encuentre, con una precisión de $0.01\\,s$, el tiempo que le toma a este objeto llegar al suelo. \n",
    "Utilice el método de **bisección** y el de **Newton**."
   ]
  },
  {
   "cell_type": "code",
   "execution_count": null,
   "metadata": {},
   "outputs": [],
   "source": []
  },
  {
   "cell_type": "markdown",
   "metadata": {},
   "source": [
    "### Problema 5\n",
    "\n",
    "Encuentre la solución a la ecuación \n",
    "$$\n",
    "x - \\cos x = 0 \n",
    "$$\n",
    "en el intervalo $[0, \\pi/2]$ con un error relativo $\\varepsilon_x=10^{-10}$ utilizando:\n",
    "\n",
    "1. el método de la **secante** con $p_1=0.0$ y $p_2=\\pi/2$,\n",
    "\n",
    "2. el método de **regula falsi** con $a=0.0$ y $b=\\pi/2$,\n",
    "\n",
    "3. el método de **bisección** con $a=0.0$ y $b=\\pi/2$ y\n",
    "\n",
    "4. el método de **Newton** con $p_1=1$.\n",
    "\n",
    "Graficar el error relativo $r_i$ retornado por cada método vs el número de iteración $i$. Utilice las escalas log-lineal (es decir, logarítmica en el eje $y$ y lineal en el $x$)."
   ]
  },
  {
   "cell_type": "code",
   "execution_count": null,
   "metadata": {},
   "outputs": [],
   "source": []
  },
  {
   "cell_type": "markdown",
   "metadata": {},
   "source": [
    "### Problema 6\n",
    "\n",
    "Dado el siguiente polinomio, $p(x) = -10 + 5 x - 12 x^2  + 6 x^3  - 2 x^4  + x^5$.\n",
    "\n",
    "Grafique y observe que posee una única raíz real positiva. Encuentre la misma utilizando:\n",
    "\n",
    "1. El método de bisección. Elija el intervalo $[a,b]$ utilizando el **teorema de las cotas de Cauchy** que acota la región del espacio complejo donde se encuentran las raíces. Evalúe el polinomio utilizando el **algoritmo de Horner**.\n",
    "\n",
    "2. El método de Newton-Raphson. Elija el valor inicial utilizando los teoremas que acotan la región del espacio complejo donde se encuentran las raíces. Evalúe el polinomio y su derivada utilizando el **algoritmo de Horner**."
   ]
  },
  {
   "cell_type": "markdown",
   "metadata": {},
   "source": [
    "**Teorema de las cotas de Cauchy**\n",
    "\n",
    "Sea $p(x) = a_0 + a_1x + a_2x^2+...+a_nx^n$ un polinomio sobre $\\mathbb{C}$ de grado $n\\geq 1$ y coeficientes $a_i\\in \\mathbb{C}$ para $i=0,1,...,n$. Luego, todas las raices de $p$ se encuentran en el intervalo $[-(M+1),M+1]$ para $M = \\max\\left\\{\\frac{|a_0|}{|a_n|},\\frac{|a_0|}{|a_n|},...,\\frac{|a_{n-1}|}{|a_n|}\\right\\}$."
   ]
  },
  {
   "cell_type": "markdown",
   "metadata": {},
   "source": [
    "**Algoritmo de Horner**\n",
    "\n",
    "Cualquier polinomio\n",
    "$$\n",
    "p(x)=a_0+a_1x+a_2x^2+...+a_{n-1}x^{n-1}+a_nx^n\n",
    "$$\n",
    "puede ser reescrito como\n",
    "$$\n",
    "p(x)=a_0+x(a_1+x(a_2+...+x(a_{n-1}+xa_n)...))\n",
    "$$\n",
    "El algoritmo de Horner consiste en calcular $p(x)$ para un valor dado de $x$ sacando ventaja de la anterior expresión, ya que nos evita tener que calcular potencias $x^2, x^3, ..., x^n$ lo cual resulta numericamente costozo y tendiente a introducir errores numéricos indeseables.\n",
    "Notar que\n",
    "$$\n",
    "p'(x)=a_1+2a_2x+3a_3x^2+...+(n-1)a_{n-1}x^{n-2}+na_nx^{n-1}\n",
    "$$\n",
    "lo cual se reduce a\n",
    "$$\n",
    "p'(x)=a_1+x(2a_2+x(3a_3+...+x((n-1)a_{n-1}+xna_n))+...)))\n",
    "$$"
   ]
  },
  {
   "cell_type": "code",
   "execution_count": null,
   "metadata": {},
   "outputs": [],
   "source": []
  },
  {
   "cell_type": "markdown",
   "metadata": {},
   "source": [
    "## Ejercicios Complementarios"
   ]
  },
  {
   "cell_type": "markdown",
   "metadata": {},
   "source": [
    "### Problema C.1\n",
    "\n",
    "Cree una función para calcular una aproximación a la raíz cúbica $x=R^{1/3}$ de un número $R$ positivo. La función debe tomar como entrada el número $R$, la aproximación inicial $x_0$, el error máximo permitido $\\epsilon$, y debe utilizar el algoritmo de de Newton-Raphson para calcular la raíz. Ponga a prueba la función con $R=40$, $x_0=20$ y $\\epsilon=10^{-5}$"
   ]
  },
  {
   "cell_type": "code",
   "execution_count": null,
   "metadata": {},
   "outputs": [],
   "source": []
  }
 ],
 "metadata": {
  "@webio": {
   "lastCommId": null,
   "lastKernelId": null
  },
  "kernelspec": {
   "display_name": "Julia 1.8.5",
   "language": "julia",
   "name": "julia-1.8"
  },
  "language_info": {
   "file_extension": ".jl",
   "mimetype": "application/julia",
   "name": "julia",
   "version": "1.8.5"
  }
 },
 "nbformat": 4,
 "nbformat_minor": 4
}
