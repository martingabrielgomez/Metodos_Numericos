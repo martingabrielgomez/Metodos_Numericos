{
 "cells": [
  {
   "cell_type": "markdown",
   "metadata": {},
   "source": [
    "# Métodos Numéricos (2024)\n",
    "\n",
    "## Guía 7: Ecuaciones Diferenciales Ordinarias"
   ]
  },
  {
   "cell_type": "code",
   "execution_count": 13,
   "metadata": {},
   "outputs": [],
   "source": [
    "using Plots\n",
    "using LaTeXStrings"
   ]
  },
  {
   "cell_type": "markdown",
   "metadata": {},
   "source": [
    "## Problema 1\n",
    "\n",
    "Considere el problema de valores iniciales determinado por la Ecuación Diferencial Ordinaria (EDO)\n",
    "\n",
    "$$\n",
    "\\frac{dy}{dt}(t) = f(t,y(t),p),\\;\\;\\;\\;\\;\\; a\\leq t \\leq b\n",
    "$$\n",
    "\n",
    "y la condición inicial $y(a) = y_0$. Aquí $t$ denota la variable independiente (usualmente representando el tiempo), $y:[a,b]\\ni t\\to y(t)\\in \\mathbb{R}^n$ denota una trayectoria o solución de la ecuación (p. ej. la posición de una partícula) y $p$ un vector de parámetros de la EDO (ej. $p_1$ denota la constante gravitatoria, $p_2$ la masa de una partícula, etc.).\n",
    "\n",
    "Escriba funciones que permitan realizar **un paso de integración** de para una función arbitraria $f$ de acuerdo a los métodos de **Euler**, y Runge Kutta de 2° orden (**RK2**) y Runge Kutta de 4° orden (**RK4**).\n",
    "Las funciones deben admitir como argumentos: el lado derecho de la EDO $f$, el valor inicial $y_0$, el tiempo inicial $t_0=a$, el paso de integración $h$ (el paso de integración), y el vector de parámetros $p$. \n",
    "Cada función debe retornar el valor de la variable luego del paso de integración, es decir una aproximación $w$ a $y(t + h)$.\n",
    "\n",
    "Escriba otra función que permita hacer integrar de una trayectoria genérica en un intervalo $[a,b]$ arbitrario utilizando un método arbitrario para calcular un paso de integración. Esta función deberá admitir como argumentos, además de las anteriores ($f$, $y_0$, $t_0$ y $p$), la función que realiza un paso de integración.\n",
    "La función debe retornar dos vectores, uno con los valores $t_i = t_0 + i h$ y otro con los valores aproximados de $w_i \\approx y(t_i)$.\n",
    "\n",
    "**Ayuda:** Dejamos como ejemplo la implementación del método de Euler."
   ]
  },
  {
   "cell_type": "code",
   "execution_count": 14,
   "metadata": {},
   "outputs": [
    {
     "data": {
      "text/plain": [
       "Euler"
      ]
     },
     "execution_count": 14,
     "metadata": {},
     "output_type": "execute_result"
    }
   ],
   "source": [
    "\"\"\"\n",
    "    Euler(f,y0,t0,h)\n",
    "\n",
    "Hace un paso del método de Euler explícito: \n",
    "    f  : función que nos da la tangente como en (y,t,p)\n",
    "    y0 : y inicial\n",
    "    t0 : t inicial\n",
    "    h  : dt\n",
    "\n",
    "# Examples\n",
    "```julia-repl\n",
    "julia> \n",
    "function f(y,t)\n",
    "    return -y + sin(2π*t)\n",
    "end\n",
    "h= 0.1\n",
    "Euler(f,1,0,h)\n",
    "0.9\n",
    "```\n",
    "\"\"\"\n",
    "function Euler(f,y0,t0,h)\n",
    "    return y0 + h*f(y0,t0)\n",
    "end\n",
    "\n",
    "\"\"\"\n",
    "    Euler(f,y0,t0,h,p)\n",
    "\n",
    "Hace un paso del método de Euler explícito: \n",
    "    f  : función que nos da la tangente como en (y,t,p)\n",
    "    y0 : y inicial\n",
    "    t0 : t inicial\n",
    "    h  : dt\n",
    "    p  : parametros opcionales.\n",
    "\n",
    "# Examples\n",
    "```julia-repl\n",
    "julia> \n",
    "function f(y,t,p)\n",
    "    return -p[1]*y + sin(2π*t) + p[2]\n",
    "end\n",
    "h= 0.1\n",
    "Euler(f,1,0,h,[1,2])\n",
    "1.1\n",
    "```\n",
    "\"\"\"\n",
    "function Euler(f,y0,t0,h,p)\n",
    "    return y0 + h*f(y0,t0,p)\n",
    "end"
   ]
  },
  {
   "cell_type": "code",
   "execution_count": 15,
   "metadata": {},
   "outputs": [
    {
     "data": {
      "text/plain": [
       "1.1"
      ]
     },
     "execution_count": 15,
     "metadata": {},
     "output_type": "execute_result"
    }
   ],
   "source": [
    "# Test\n",
    "f(y,t,p) = -p[1]*y + sin(2π*t) + p[2]\n",
    "h = 0.1\n",
    "Euler(f,1,0,h,[1,2])"
   ]
  },
  {
   "cell_type": "markdown",
   "metadata": {},
   "source": [
    "## Problema 2\n",
    "\n",
    "Utilizando las funciones del **Problema 1** resuelva con los tres métodos dados en el teórico (Euler, RK2 y RK4) el siguiente problema de valores iniciales:\n",
    "$$\n",
    "\\frac{dy}{dt}(t) = -y(t)+\\sin(2\\pi t), \\;\\;\\;\\;\\;\\; 0 \\le t \\le 1\\; , \n",
    "\\;\\;\\;\\;\\; y(0) = 1.0\n",
    "$$\n",
    "en el intervalo $0 \\le t \\le 1$ con un paso de integración $h=0.1$. \n",
    "\n",
    "A modo de comparación, grafique la aproximación obtenida y la solución exacta: \n",
    "\n",
    "$$\n",
    "y_e(t)=\\Bigl(1+\\frac{2\\pi}{1+4\\pi^2}\\Bigr)e^{-t}+\\frac{\\sin(2\\pi t)-2\\pi\n",
    "    \\cos(2\\pi t)}{1+4\\pi^2},\n",
    "$$\n",
    "\n",
    "Grafique el error global, $\\epsilon(t) = |w(t)-y_e(t)|$ vs $t$."
   ]
  },
  {
   "cell_type": "code",
   "execution_count": 16,
   "metadata": {},
   "outputs": [
    {
     "data": {
      "text/plain": [
       "Euler (generic function with 2 methods)"
      ]
     },
     "execution_count": 16,
     "metadata": {},
     "output_type": "execute_result"
    }
   ],
   "source": [
    "function Euler(f,y0,t0,h)\n",
    "    return y0 + h*f(y0,t0)\n",
    "end"
   ]
  },
  {
   "cell_type": "code",
   "execution_count": 55,
   "metadata": {},
   "outputs": [
    {
     "data": {
      "text/plain": [
       "RK2 (generic function with 1 method)"
      ]
     },
     "execution_count": 55,
     "metadata": {},
     "output_type": "execute_result"
    }
   ],
   "source": [
    "function RK2(f,y0,t0,h)\n",
    "    k1 = f(y0,t0)\n",
    "    k2 = f(y0 + h*k1,t0 + h*k1)\n",
    "    return y0 + (h/2)*(k1+k2)\n",
    "end"
   ]
  },
  {
   "cell_type": "code",
   "execution_count": 56,
   "metadata": {},
   "outputs": [
    {
     "data": {
      "text/plain": [
       "RK4 (generic function with 1 method)"
      ]
     },
     "execution_count": 56,
     "metadata": {},
     "output_type": "execute_result"
    }
   ],
   "source": [
    "function RK4(f,y0,t0,h)\n",
    "    k1 = h*f(y0,t0)\n",
    "    k2 = h*f(y0 + k1/2,t0 + k1/2)\n",
    "    k3 = h*f(y0 + k2/2,t0 + k2/2)\n",
    "    k4 = h*f(y0 + k3,t0 + k3)\n",
    "    return y0 + (k1 + 2k2 + 2k3 + k4)/6\n",
    "end"
   ]
  },
  {
   "cell_type": "code",
   "execution_count": 57,
   "metadata": {},
   "outputs": [
    {
     "data": {
      "text/plain": [
       "ODE (generic function with 1 method)"
      ]
     },
     "execution_count": 57,
     "metadata": {},
     "output_type": "execute_result"
    }
   ],
   "source": [
    "function ODE(Method,f,y0,(a,b),h)\n",
    "    n = Int((b-a)/h)\n",
    "    w = zeros(n)\n",
    "    t = zeros(n)\n",
    "    w[1] = y0\n",
    "    t[1] = a\n",
    "    for i in 2:n\n",
    "        t[i] = t[i-1]+ h\n",
    "        w[i] = Method(f,w[i-1],t[i-1],h)\n",
    "    end\n",
    "    return (t[:],w[:])\n",
    "end"
   ]
  },
  {
   "cell_type": "code",
   "execution_count": 83,
   "metadata": {},
   "outputs": [
    {
     "data": {
      "text/plain": [
       "0.05"
      ]
     },
     "execution_count": 83,
     "metadata": {},
     "output_type": "execute_result"
    }
   ],
   "source": [
    "y(t) = (1+(2*pi/(1+4*pi^2)))*ℯ^(-t)+((sin(2*pi*t)-(2*pi*cos(2*pi*t)))/(1+4*pi^2))\n",
    "f(y,t) = -y + sin(2*pi*t)\n",
    "y0 = 1.0\n",
    "A = (0,1)\n",
    "h = 0.05"
   ]
  },
  {
   "cell_type": "code",
   "execution_count": 84,
   "metadata": {},
   "outputs": [
    {
     "data": {
      "text/plain": [
       "([0.0, 0.05, 0.1, 0.15000000000000002, 0.2, 0.25, 0.3, 0.35, 0.39999999999999997, 0.44999999999999996, 0.49999999999999994, 0.5499999999999999, 0.6, 0.65, 0.7000000000000001, 0.7500000000000001, 0.8000000000000002, 0.8500000000000002, 0.9000000000000002, 0.9500000000000003], [1.0, 0.9435245751406263, 0.9077311728879556, 0.8900301249323567, 0.8857002315516317, 0.8890399483028696, 0.8944340628758338, 0.8970532295703375, 0.8931600915326534, 0.880142874966303, 0.8564196864717079, 0.8213146726372437, 0.7749597652581703, 0.7182489543070377, 0.652861621441297, 0.5813557929834595, 0.5072868634767951, 0.43522776327214285, 0.37049760001151555, 0.3184448341762394])"
      ]
     },
     "execution_count": 84,
     "metadata": {},
     "output_type": "execute_result"
    }
   ],
   "source": [
    "#Euler\n",
    "\n",
    "t_e, w_e = ODE(Euler,f,y0,A,h)\n",
    "\n",
    "\n",
    "#RK4\n",
    "t_RK4, w_RK4 = ODE(RK4,f,y0,A,h)\n",
    "\n",
    "#RK2\n",
    "t_RK2, w_RK2 = ODE(RK2,f,y0,A,h)"
   ]
  },
  {
   "cell_type": "code",
   "execution_count": 85,
   "metadata": {},
   "outputs": [
    {
     "data": {
      "image/svg+xml": [
       "<?xml version=\"1.0\" encoding=\"utf-8\"?>\n",
       "<svg xmlns=\"http://www.w3.org/2000/svg\" xmlns:xlink=\"http://www.w3.org/1999/xlink\" width=\"600\" height=\"400\" viewBox=\"0 0 2400 1600\">\n",
       "<defs>\n",
       "  <clipPath id=\"clip340\">\n",
       "    <rect x=\"0\" y=\"0\" width=\"2400\" height=\"1600\"/>\n",
       "  </clipPath>\n",
       "</defs>\n",
       "<path clip-path=\"url(#clip340)\" d=\"M0 1600 L2400 1600 L2400 0 L0 0  Z\" fill=\"#ffffff\" fill-rule=\"evenodd\" fill-opacity=\"1\"/>\n",
       "<defs>\n",
       "  <clipPath id=\"clip341\">\n",
       "    <rect x=\"480\" y=\"0\" width=\"1681\" height=\"1600\"/>\n",
       "  </clipPath>\n",
       "</defs>\n",
       "<path clip-path=\"url(#clip340)\" d=\"M156.598 1486.45 L2352.76 1486.45 L2352.76 47.2441 L156.598 47.2441  Z\" fill=\"#ffffff\" fill-rule=\"evenodd\" fill-opacity=\"1\"/>\n",
       "<defs>\n",
       "  <clipPath id=\"clip342\">\n",
       "    <rect x=\"156\" y=\"47\" width=\"2197\" height=\"1440\"/>\n",
       "  </clipPath>\n",
       "</defs>\n",
       "<polyline clip-path=\"url(#clip342)\" style=\"stroke:#000000; stroke-linecap:round; stroke-linejoin:round; stroke-width:2; stroke-opacity:0.1; fill:none\" points=\"218.754,1486.45 218.754,47.2441 \"/>\n",
       "<polyline clip-path=\"url(#clip342)\" style=\"stroke:#000000; stroke-linecap:round; stroke-linejoin:round; stroke-width:2; stroke-opacity:0.1; fill:none\" points=\"736.715,1486.45 736.715,47.2441 \"/>\n",
       "<polyline clip-path=\"url(#clip342)\" style=\"stroke:#000000; stroke-linecap:round; stroke-linejoin:round; stroke-width:2; stroke-opacity:0.1; fill:none\" points=\"1254.68,1486.45 1254.68,47.2441 \"/>\n",
       "<polyline clip-path=\"url(#clip342)\" style=\"stroke:#000000; stroke-linecap:round; stroke-linejoin:round; stroke-width:2; stroke-opacity:0.1; fill:none\" points=\"1772.64,1486.45 1772.64,47.2441 \"/>\n",
       "<polyline clip-path=\"url(#clip342)\" style=\"stroke:#000000; stroke-linecap:round; stroke-linejoin:round; stroke-width:2; stroke-opacity:0.1; fill:none\" points=\"2290.6,1486.45 2290.6,47.2441 \"/>\n",
       "<polyline clip-path=\"url(#clip340)\" style=\"stroke:#000000; stroke-linecap:round; stroke-linejoin:round; stroke-width:4; stroke-opacity:1; fill:none\" points=\"156.598,1486.45 2352.76,1486.45 \"/>\n",
       "<polyline clip-path=\"url(#clip340)\" style=\"stroke:#000000; stroke-linecap:round; stroke-linejoin:round; stroke-width:4; stroke-opacity:1; fill:none\" points=\"218.754,1486.45 218.754,1467.55 \"/>\n",
       "<polyline clip-path=\"url(#clip340)\" style=\"stroke:#000000; stroke-linecap:round; stroke-linejoin:round; stroke-width:4; stroke-opacity:1; fill:none\" points=\"736.715,1486.45 736.715,1467.55 \"/>\n",
       "<polyline clip-path=\"url(#clip340)\" style=\"stroke:#000000; stroke-linecap:round; stroke-linejoin:round; stroke-width:4; stroke-opacity:1; fill:none\" points=\"1254.68,1486.45 1254.68,1467.55 \"/>\n",
       "<polyline clip-path=\"url(#clip340)\" style=\"stroke:#000000; stroke-linecap:round; stroke-linejoin:round; stroke-width:4; stroke-opacity:1; fill:none\" points=\"1772.64,1486.45 1772.64,1467.55 \"/>\n",
       "<polyline clip-path=\"url(#clip340)\" style=\"stroke:#000000; stroke-linecap:round; stroke-linejoin:round; stroke-width:4; stroke-opacity:1; fill:none\" points=\"2290.6,1486.45 2290.6,1467.55 \"/>\n",
       "<path clip-path=\"url(#clip340)\" d=\"M181.057 1517.37 Q177.446 1517.37 175.617 1520.93 Q173.812 1524.47 173.812 1531.6 Q173.812 1538.71 175.617 1542.27 Q177.446 1545.82 181.057 1545.82 Q184.691 1545.82 186.497 1542.27 Q188.326 1538.71 188.326 1531.6 Q188.326 1524.47 186.497 1520.93 Q184.691 1517.37 181.057 1517.37 M181.057 1513.66 Q186.867 1513.66 189.923 1518.27 Q193.001 1522.85 193.001 1531.6 Q193.001 1540.33 189.923 1544.94 Q186.867 1549.52 181.057 1549.52 Q175.247 1549.52 172.168 1544.94 Q169.113 1540.33 169.113 1531.6 Q169.113 1522.85 172.168 1518.27 Q175.247 1513.66 181.057 1513.66 Z\" fill=\"#000000\" fill-rule=\"nonzero\" fill-opacity=\"1\" /><path clip-path=\"url(#clip340)\" d=\"M201.219 1542.97 L206.103 1542.97 L206.103 1548.85 L201.219 1548.85 L201.219 1542.97 Z\" fill=\"#000000\" fill-rule=\"nonzero\" fill-opacity=\"1\" /><path clip-path=\"url(#clip340)\" d=\"M226.288 1517.37 Q222.677 1517.37 220.849 1520.93 Q219.043 1524.47 219.043 1531.6 Q219.043 1538.71 220.849 1542.27 Q222.677 1545.82 226.288 1545.82 Q229.923 1545.82 231.728 1542.27 Q233.557 1538.71 233.557 1531.6 Q233.557 1524.47 231.728 1520.93 Q229.923 1517.37 226.288 1517.37 M226.288 1513.66 Q232.098 1513.66 235.154 1518.27 Q238.233 1522.85 238.233 1531.6 Q238.233 1540.33 235.154 1544.94 Q232.098 1549.52 226.288 1549.52 Q220.478 1549.52 217.399 1544.94 Q214.344 1540.33 214.344 1531.6 Q214.344 1522.85 217.399 1518.27 Q220.478 1513.66 226.288 1513.66 Z\" fill=\"#000000\" fill-rule=\"nonzero\" fill-opacity=\"1\" /><path clip-path=\"url(#clip340)\" d=\"M256.45 1517.37 Q252.839 1517.37 251.01 1520.93 Q249.205 1524.47 249.205 1531.6 Q249.205 1538.71 251.01 1542.27 Q252.839 1545.82 256.45 1545.82 Q260.084 1545.82 261.89 1542.27 Q263.719 1538.71 263.719 1531.6 Q263.719 1524.47 261.89 1520.93 Q260.084 1517.37 256.45 1517.37 M256.45 1513.66 Q262.26 1513.66 265.316 1518.27 Q268.395 1522.85 268.395 1531.6 Q268.395 1540.33 265.316 1544.94 Q262.26 1549.52 256.45 1549.52 Q250.64 1549.52 247.561 1544.94 Q244.506 1540.33 244.506 1531.6 Q244.506 1522.85 247.561 1518.27 Q250.64 1513.66 256.45 1513.66 Z\" fill=\"#000000\" fill-rule=\"nonzero\" fill-opacity=\"1\" /><path clip-path=\"url(#clip340)\" d=\"M699.516 1517.37 Q695.905 1517.37 694.077 1520.93 Q692.271 1524.47 692.271 1531.6 Q692.271 1538.71 694.077 1542.27 Q695.905 1545.82 699.516 1545.82 Q703.151 1545.82 704.956 1542.27 Q706.785 1538.71 706.785 1531.6 Q706.785 1524.47 704.956 1520.93 Q703.151 1517.37 699.516 1517.37 M699.516 1513.66 Q705.327 1513.66 708.382 1518.27 Q711.461 1522.85 711.461 1531.6 Q711.461 1540.33 708.382 1544.94 Q705.327 1549.52 699.516 1549.52 Q693.706 1549.52 690.628 1544.94 Q687.572 1540.33 687.572 1531.6 Q687.572 1522.85 690.628 1518.27 Q693.706 1513.66 699.516 1513.66 Z\" fill=\"#000000\" fill-rule=\"nonzero\" fill-opacity=\"1\" /><path clip-path=\"url(#clip340)\" d=\"M719.678 1542.97 L724.563 1542.97 L724.563 1548.85 L719.678 1548.85 L719.678 1542.97 Z\" fill=\"#000000\" fill-rule=\"nonzero\" fill-opacity=\"1\" /><path clip-path=\"url(#clip340)\" d=\"M738.776 1544.91 L755.095 1544.91 L755.095 1548.85 L733.151 1548.85 L733.151 1544.91 Q735.813 1542.16 740.396 1537.53 Q745.002 1532.88 746.183 1531.53 Q748.428 1529.01 749.308 1527.27 Q750.211 1525.51 750.211 1523.82 Q750.211 1521.07 748.266 1519.33 Q746.345 1517.6 743.243 1517.6 Q741.044 1517.6 738.59 1518.36 Q736.16 1519.13 733.382 1520.68 L733.382 1515.95 Q736.206 1514.82 738.66 1514.24 Q741.113 1513.66 743.151 1513.66 Q748.521 1513.66 751.715 1516.35 Q754.91 1519.03 754.91 1523.52 Q754.91 1525.65 754.1 1527.57 Q753.312 1529.47 751.206 1532.07 Q750.627 1532.74 747.525 1535.95 Q744.424 1539.15 738.776 1544.91 Z\" fill=\"#000000\" fill-rule=\"nonzero\" fill-opacity=\"1\" /><path clip-path=\"url(#clip340)\" d=\"M764.956 1514.29 L783.312 1514.29 L783.312 1518.22 L769.238 1518.22 L769.238 1526.7 Q770.257 1526.35 771.275 1526.19 Q772.294 1526 773.312 1526 Q779.099 1526 782.479 1529.17 Q785.859 1532.34 785.859 1537.76 Q785.859 1543.34 782.386 1546.44 Q778.914 1549.52 772.595 1549.52 Q770.419 1549.52 768.15 1549.15 Q765.905 1548.78 763.498 1548.04 L763.498 1543.34 Q765.581 1544.47 767.803 1545.03 Q770.025 1545.58 772.502 1545.58 Q776.507 1545.58 778.845 1543.48 Q781.183 1541.37 781.183 1537.76 Q781.183 1534.15 778.845 1532.04 Q776.507 1529.94 772.502 1529.94 Q770.627 1529.94 768.752 1530.35 Q766.9 1530.77 764.956 1531.65 L764.956 1514.29 Z\" fill=\"#000000\" fill-rule=\"nonzero\" fill-opacity=\"1\" /><path clip-path=\"url(#clip340)\" d=\"M1216.98 1517.37 Q1213.37 1517.37 1211.54 1520.93 Q1209.74 1524.47 1209.74 1531.6 Q1209.74 1538.71 1211.54 1542.27 Q1213.37 1545.82 1216.98 1545.82 Q1220.61 1545.82 1222.42 1542.27 Q1224.25 1538.71 1224.25 1531.6 Q1224.25 1524.47 1222.42 1520.93 Q1220.61 1517.37 1216.98 1517.37 M1216.98 1513.66 Q1222.79 1513.66 1225.85 1518.27 Q1228.92 1522.85 1228.92 1531.6 Q1228.92 1540.33 1225.85 1544.94 Q1222.79 1549.52 1216.98 1549.52 Q1211.17 1549.52 1208.09 1544.94 Q1205.04 1540.33 1205.04 1531.6 Q1205.04 1522.85 1208.09 1518.27 Q1211.17 1513.66 1216.98 1513.66 Z\" fill=\"#000000\" fill-rule=\"nonzero\" fill-opacity=\"1\" /><path clip-path=\"url(#clip340)\" d=\"M1237.14 1542.97 L1242.03 1542.97 L1242.03 1548.85 L1237.14 1548.85 L1237.14 1542.97 Z\" fill=\"#000000\" fill-rule=\"nonzero\" fill-opacity=\"1\" /><path clip-path=\"url(#clip340)\" d=\"M1252.26 1514.29 L1270.61 1514.29 L1270.61 1518.22 L1256.54 1518.22 L1256.54 1526.7 Q1257.56 1526.35 1258.58 1526.19 Q1259.6 1526 1260.61 1526 Q1266.4 1526 1269.78 1529.17 Q1273.16 1532.34 1273.16 1537.76 Q1273.16 1543.34 1269.69 1546.44 Q1266.22 1549.52 1259.9 1549.52 Q1257.72 1549.52 1255.45 1549.15 Q1253.21 1548.78 1250.8 1548.04 L1250.8 1543.34 Q1252.88 1544.47 1255.11 1545.03 Q1257.33 1545.58 1259.8 1545.58 Q1263.81 1545.58 1266.15 1543.48 Q1268.48 1541.37 1268.48 1537.76 Q1268.48 1534.15 1266.15 1532.04 Q1263.81 1529.94 1259.8 1529.94 Q1257.93 1529.94 1256.05 1530.35 Q1254.2 1530.77 1252.26 1531.65 L1252.26 1514.29 Z\" fill=\"#000000\" fill-rule=\"nonzero\" fill-opacity=\"1\" /><path clip-path=\"url(#clip340)\" d=\"M1292.37 1517.37 Q1288.76 1517.37 1286.93 1520.93 Q1285.13 1524.47 1285.13 1531.6 Q1285.13 1538.71 1286.93 1542.27 Q1288.76 1545.82 1292.37 1545.82 Q1296.01 1545.82 1297.81 1542.27 Q1299.64 1538.71 1299.64 1531.6 Q1299.64 1524.47 1297.81 1520.93 Q1296.01 1517.37 1292.37 1517.37 M1292.37 1513.66 Q1298.18 1513.66 1301.24 1518.27 Q1304.32 1522.85 1304.32 1531.6 Q1304.32 1540.33 1301.24 1544.94 Q1298.18 1549.52 1292.37 1549.52 Q1286.56 1549.52 1283.48 1544.94 Q1280.43 1540.33 1280.43 1531.6 Q1280.43 1522.85 1283.48 1518.27 Q1286.56 1513.66 1292.37 1513.66 Z\" fill=\"#000000\" fill-rule=\"nonzero\" fill-opacity=\"1\" /><path clip-path=\"url(#clip340)\" d=\"M1735.44 1517.37 Q1731.83 1517.37 1730 1520.93 Q1728.19 1524.47 1728.19 1531.6 Q1728.19 1538.71 1730 1542.27 Q1731.83 1545.82 1735.44 1545.82 Q1739.07 1545.82 1740.88 1542.27 Q1742.71 1538.71 1742.71 1531.6 Q1742.71 1524.47 1740.88 1520.93 Q1739.07 1517.37 1735.44 1517.37 M1735.44 1513.66 Q1741.25 1513.66 1744.31 1518.27 Q1747.38 1522.85 1747.38 1531.6 Q1747.38 1540.33 1744.31 1544.94 Q1741.25 1549.52 1735.44 1549.52 Q1729.63 1549.52 1726.55 1544.94 Q1723.5 1540.33 1723.5 1531.6 Q1723.5 1522.85 1726.55 1518.27 Q1729.63 1513.66 1735.44 1513.66 Z\" fill=\"#000000\" fill-rule=\"nonzero\" fill-opacity=\"1\" /><path clip-path=\"url(#clip340)\" d=\"M1755.6 1542.97 L1760.49 1542.97 L1760.49 1548.85 L1755.6 1548.85 L1755.6 1542.97 Z\" fill=\"#000000\" fill-rule=\"nonzero\" fill-opacity=\"1\" /><path clip-path=\"url(#clip340)\" d=\"M1769.49 1514.29 L1791.71 1514.29 L1791.71 1516.28 L1779.17 1548.85 L1774.28 1548.85 L1786.09 1518.22 L1769.49 1518.22 L1769.49 1514.29 Z\" fill=\"#000000\" fill-rule=\"nonzero\" fill-opacity=\"1\" /><path clip-path=\"url(#clip340)\" d=\"M1800.88 1514.29 L1819.24 1514.29 L1819.24 1518.22 L1805.16 1518.22 L1805.16 1526.7 Q1806.18 1526.35 1807.2 1526.19 Q1808.22 1526 1809.24 1526 Q1815.02 1526 1818.4 1529.17 Q1821.78 1532.34 1821.78 1537.76 Q1821.78 1543.34 1818.31 1546.44 Q1814.84 1549.52 1808.52 1549.52 Q1806.34 1549.52 1804.07 1549.15 Q1801.83 1548.78 1799.42 1548.04 L1799.42 1543.34 Q1801.5 1544.47 1803.73 1545.03 Q1805.95 1545.58 1808.43 1545.58 Q1812.43 1545.58 1814.77 1543.48 Q1817.11 1541.37 1817.11 1537.76 Q1817.11 1534.15 1814.77 1532.04 Q1812.43 1529.94 1808.43 1529.94 Q1806.55 1529.94 1804.68 1530.35 Q1802.82 1530.77 1800.88 1531.65 L1800.88 1514.29 Z\" fill=\"#000000\" fill-rule=\"nonzero\" fill-opacity=\"1\" /><path clip-path=\"url(#clip340)\" d=\"M2242.67 1544.91 L2250.31 1544.91 L2250.31 1518.55 L2242 1520.21 L2242 1515.95 L2250.27 1514.29 L2254.94 1514.29 L2254.94 1544.91 L2262.58 1544.91 L2262.58 1548.85 L2242.67 1548.85 L2242.67 1544.91 Z\" fill=\"#000000\" fill-rule=\"nonzero\" fill-opacity=\"1\" /><path clip-path=\"url(#clip340)\" d=\"M2272.02 1542.97 L2276.91 1542.97 L2276.91 1548.85 L2272.02 1548.85 L2272.02 1542.97 Z\" fill=\"#000000\" fill-rule=\"nonzero\" fill-opacity=\"1\" /><path clip-path=\"url(#clip340)\" d=\"M2297.09 1517.37 Q2293.48 1517.37 2291.65 1520.93 Q2289.85 1524.47 2289.85 1531.6 Q2289.85 1538.71 2291.65 1542.27 Q2293.48 1545.82 2297.09 1545.82 Q2300.73 1545.82 2302.53 1542.27 Q2304.36 1538.71 2304.36 1531.6 Q2304.36 1524.47 2302.53 1520.93 Q2300.73 1517.37 2297.09 1517.37 M2297.09 1513.66 Q2302.9 1513.66 2305.96 1518.27 Q2309.04 1522.85 2309.04 1531.6 Q2309.04 1540.33 2305.96 1544.94 Q2302.9 1549.52 2297.09 1549.52 Q2291.28 1549.52 2288.2 1544.94 Q2285.15 1540.33 2285.15 1531.6 Q2285.15 1522.85 2288.2 1518.27 Q2291.28 1513.66 2297.09 1513.66 Z\" fill=\"#000000\" fill-rule=\"nonzero\" fill-opacity=\"1\" /><path clip-path=\"url(#clip340)\" d=\"M2327.26 1517.37 Q2323.64 1517.37 2321.82 1520.93 Q2320.01 1524.47 2320.01 1531.6 Q2320.01 1538.71 2321.82 1542.27 Q2323.64 1545.82 2327.26 1545.82 Q2330.89 1545.82 2332.7 1542.27 Q2334.52 1538.71 2334.52 1531.6 Q2334.52 1524.47 2332.7 1520.93 Q2330.89 1517.37 2327.26 1517.37 M2327.26 1513.66 Q2333.07 1513.66 2336.12 1518.27 Q2339.2 1522.85 2339.2 1531.6 Q2339.2 1540.33 2336.12 1544.94 Q2333.07 1549.52 2327.26 1549.52 Q2321.45 1549.52 2318.37 1544.94 Q2315.31 1540.33 2315.31 1531.6 Q2315.31 1522.85 2318.37 1518.27 Q2321.45 1513.66 2327.26 1513.66 Z\" fill=\"#000000\" fill-rule=\"nonzero\" fill-opacity=\"1\" /><polyline clip-path=\"url(#clip342)\" style=\"stroke:#000000; stroke-linecap:round; stroke-linejoin:round; stroke-width:2; stroke-opacity:0.1; fill:none\" points=\"156.598,1203.56 2352.76,1203.56 \"/>\n",
       "<polyline clip-path=\"url(#clip342)\" style=\"stroke:#000000; stroke-linecap:round; stroke-linejoin:round; stroke-width:2; stroke-opacity:0.1; fill:none\" points=\"156.598,831.698 2352.76,831.698 \"/>\n",
       "<polyline clip-path=\"url(#clip342)\" style=\"stroke:#000000; stroke-linecap:round; stroke-linejoin:round; stroke-width:2; stroke-opacity:0.1; fill:none\" points=\"156.598,459.837 2352.76,459.837 \"/>\n",
       "<polyline clip-path=\"url(#clip342)\" style=\"stroke:#000000; stroke-linecap:round; stroke-linejoin:round; stroke-width:2; stroke-opacity:0.1; fill:none\" points=\"156.598,87.9763 2352.76,87.9763 \"/>\n",
       "<polyline clip-path=\"url(#clip340)\" style=\"stroke:#000000; stroke-linecap:round; stroke-linejoin:round; stroke-width:4; stroke-opacity:1; fill:none\" points=\"156.598,1486.45 156.598,47.2441 \"/>\n",
       "<polyline clip-path=\"url(#clip340)\" style=\"stroke:#000000; stroke-linecap:round; stroke-linejoin:round; stroke-width:4; stroke-opacity:1; fill:none\" points=\"156.598,1203.56 175.496,1203.56 \"/>\n",
       "<polyline clip-path=\"url(#clip340)\" style=\"stroke:#000000; stroke-linecap:round; stroke-linejoin:round; stroke-width:4; stroke-opacity:1; fill:none\" points=\"156.598,831.698 175.496,831.698 \"/>\n",
       "<polyline clip-path=\"url(#clip340)\" style=\"stroke:#000000; stroke-linecap:round; stroke-linejoin:round; stroke-width:4; stroke-opacity:1; fill:none\" points=\"156.598,459.837 175.496,459.837 \"/>\n",
       "<polyline clip-path=\"url(#clip340)\" style=\"stroke:#000000; stroke-linecap:round; stroke-linejoin:round; stroke-width:4; stroke-opacity:1; fill:none\" points=\"156.598,87.9763 175.496,87.9763 \"/>\n",
       "<path clip-path=\"url(#clip340)\" d=\"M62.9365 1189.36 Q59.3254 1189.36 57.4967 1192.92 Q55.6912 1196.46 55.6912 1203.59 Q55.6912 1210.7 57.4967 1214.27 Q59.3254 1217.81 62.9365 1217.81 Q66.5707 1217.81 68.3763 1214.27 Q70.205 1210.7 70.205 1203.59 Q70.205 1196.46 68.3763 1192.92 Q66.5707 1189.36 62.9365 1189.36 M62.9365 1185.65 Q68.7467 1185.65 71.8022 1190.26 Q74.8809 1194.84 74.8809 1203.59 Q74.8809 1212.32 71.8022 1216.93 Q68.7467 1221.51 62.9365 1221.51 Q57.1264 1221.51 54.0477 1216.93 Q50.9921 1212.32 50.9921 1203.59 Q50.9921 1194.84 54.0477 1190.26 Q57.1264 1185.65 62.9365 1185.65 Z\" fill=\"#000000\" fill-rule=\"nonzero\" fill-opacity=\"1\" /><path clip-path=\"url(#clip340)\" d=\"M83.0984 1214.96 L87.9827 1214.96 L87.9827 1220.84 L83.0984 1220.84 L83.0984 1214.96 Z\" fill=\"#000000\" fill-rule=\"nonzero\" fill-opacity=\"1\" /><path clip-path=\"url(#clip340)\" d=\"M111.015 1190.35 L99.2095 1208.8 L111.015 1208.8 L111.015 1190.35 M109.788 1186.28 L115.668 1186.28 L115.668 1208.8 L120.598 1208.8 L120.598 1212.69 L115.668 1212.69 L115.668 1220.84 L111.015 1220.84 L111.015 1212.69 L95.4132 1212.69 L95.4132 1208.18 L109.788 1186.28 Z\" fill=\"#000000\" fill-rule=\"nonzero\" fill-opacity=\"1\" /><path clip-path=\"url(#clip340)\" d=\"M63.2606 817.497 Q59.6495 817.497 57.8208 821.062 Q56.0152 824.603 56.0152 831.733 Q56.0152 838.839 57.8208 842.404 Q59.6495 845.946 63.2606 845.946 Q66.8948 845.946 68.7004 842.404 Q70.5291 838.839 70.5291 831.733 Q70.5291 824.603 68.7004 821.062 Q66.8948 817.497 63.2606 817.497 M63.2606 813.793 Q69.0707 813.793 72.1263 818.4 Q75.205 822.983 75.205 831.733 Q75.205 840.46 72.1263 845.066 Q69.0707 849.65 63.2606 849.65 Q57.4504 849.65 54.3717 845.066 Q51.3162 840.46 51.3162 831.733 Q51.3162 822.983 54.3717 818.4 Q57.4504 813.793 63.2606 813.793 Z\" fill=\"#000000\" fill-rule=\"nonzero\" fill-opacity=\"1\" /><path clip-path=\"url(#clip340)\" d=\"M83.4225 843.099 L88.3067 843.099 L88.3067 848.978 L83.4225 848.978 L83.4225 843.099 Z\" fill=\"#000000\" fill-rule=\"nonzero\" fill-opacity=\"1\" /><path clip-path=\"url(#clip340)\" d=\"M109.071 829.835 Q105.922 829.835 104.071 831.988 Q102.242 834.14 102.242 837.89 Q102.242 841.617 104.071 843.793 Q105.922 845.946 109.071 845.946 Q112.219 845.946 114.047 843.793 Q115.899 841.617 115.899 837.89 Q115.899 834.14 114.047 831.988 Q112.219 829.835 109.071 829.835 M118.353 815.182 L118.353 819.441 Q116.594 818.608 114.788 818.168 Q113.006 817.728 111.246 817.728 Q106.617 817.728 104.163 820.853 Q101.733 823.978 101.385 830.298 Q102.751 828.284 104.811 827.219 Q106.871 826.131 109.348 826.131 Q114.557 826.131 117.566 829.302 Q120.598 832.451 120.598 837.89 Q120.598 843.214 117.45 846.432 Q114.302 849.65 109.071 849.65 Q103.075 849.65 99.9039 845.066 Q96.7326 840.46 96.7326 831.733 Q96.7326 823.539 100.621 818.678 Q104.51 813.793 111.061 813.793 Q112.82 813.793 114.603 814.141 Q116.408 814.488 118.353 815.182 Z\" fill=\"#000000\" fill-rule=\"nonzero\" fill-opacity=\"1\" /><path clip-path=\"url(#clip340)\" d=\"M63.5152 445.636 Q59.9041 445.636 58.0754 449.201 Q56.2699 452.742 56.2699 459.872 Q56.2699 466.978 58.0754 470.543 Q59.9041 474.085 63.5152 474.085 Q67.1494 474.085 68.955 470.543 Q70.7837 466.978 70.7837 459.872 Q70.7837 452.742 68.955 449.201 Q67.1494 445.636 63.5152 445.636 M63.5152 441.932 Q69.3254 441.932 72.3809 446.539 Q75.4596 451.122 75.4596 459.872 Q75.4596 468.599 72.3809 473.205 Q69.3254 477.789 63.5152 477.789 Q57.7051 477.789 54.6264 473.205 Q51.5708 468.599 51.5708 459.872 Q51.5708 451.122 54.6264 446.539 Q57.7051 441.932 63.5152 441.932 Z\" fill=\"#000000\" fill-rule=\"nonzero\" fill-opacity=\"1\" /><path clip-path=\"url(#clip340)\" d=\"M83.6771 471.238 L88.5614 471.238 L88.5614 477.117 L83.6771 477.117 L83.6771 471.238 Z\" fill=\"#000000\" fill-rule=\"nonzero\" fill-opacity=\"1\" /><path clip-path=\"url(#clip340)\" d=\"M108.746 460.705 Q105.413 460.705 103.492 462.488 Q101.594 464.27 101.594 467.395 Q101.594 470.52 103.492 472.302 Q105.413 474.085 108.746 474.085 Q112.08 474.085 114.001 472.302 Q115.922 470.497 115.922 467.395 Q115.922 464.27 114.001 462.488 Q112.103 460.705 108.746 460.705 M104.071 458.715 Q101.061 457.974 99.3715 455.914 Q97.7048 453.854 97.7048 450.891 Q97.7048 446.747 100.645 444.34 Q103.608 441.932 108.746 441.932 Q113.908 441.932 116.848 444.34 Q119.788 446.747 119.788 450.891 Q119.788 453.854 118.098 455.914 Q116.432 457.974 113.445 458.715 Q116.825 459.502 118.7 461.793 Q120.598 464.085 120.598 467.395 Q120.598 472.418 117.52 475.103 Q114.464 477.789 108.746 477.789 Q103.029 477.789 99.9502 475.103 Q96.8947 472.418 96.8947 467.395 Q96.8947 464.085 98.7928 461.793 Q100.691 459.502 104.071 458.715 M102.358 451.33 Q102.358 454.016 104.024 455.52 Q105.714 457.025 108.746 457.025 Q111.756 457.025 113.445 455.52 Q115.158 454.016 115.158 451.33 Q115.158 448.645 113.445 447.141 Q111.756 445.636 108.746 445.636 Q105.714 445.636 104.024 447.141 Q102.358 448.645 102.358 451.33 Z\" fill=\"#000000\" fill-rule=\"nonzero\" fill-opacity=\"1\" /><path clip-path=\"url(#clip340)\" d=\"M54.2328 101.321 L61.8717 101.321 L61.8717 74.9555 L53.5616 76.6222 L53.5616 72.3629 L61.8254 70.6963 L66.5013 70.6963 L66.5013 101.321 L74.1402 101.321 L74.1402 105.256 L54.2328 105.256 L54.2328 101.321 Z\" fill=\"#000000\" fill-rule=\"nonzero\" fill-opacity=\"1\" /><path clip-path=\"url(#clip340)\" d=\"M83.5845 99.3767 L88.4688 99.3767 L88.4688 105.256 L83.5845 105.256 L83.5845 99.3767 Z\" fill=\"#000000\" fill-rule=\"nonzero\" fill-opacity=\"1\" /><path clip-path=\"url(#clip340)\" d=\"M108.654 73.775 Q105.043 73.775 103.214 77.3398 Q101.409 80.8814 101.409 88.011 Q101.409 95.1174 103.214 98.6822 Q105.043 102.224 108.654 102.224 Q112.288 102.224 114.094 98.6822 Q115.922 95.1174 115.922 88.011 Q115.922 80.8814 114.094 77.3398 Q112.288 73.775 108.654 73.775 M108.654 70.0713 Q114.464 70.0713 117.52 74.6777 Q120.598 79.261 120.598 88.011 Q120.598 96.7378 117.52 101.344 Q114.464 105.928 108.654 105.928 Q102.844 105.928 99.765 101.344 Q96.7095 96.7378 96.7095 88.011 Q96.7095 79.261 99.765 74.6777 Q102.844 70.0713 108.654 70.0713 Z\" fill=\"#000000\" fill-rule=\"nonzero\" fill-opacity=\"1\" /><circle clip-path=\"url(#clip342)\" cx=\"218.754\" cy=\"87.9763\" r=\"14.4\" fill=\"#009af9\" fill-rule=\"evenodd\" fill-opacity=\"1\" stroke=\"#000000\" stroke-opacity=\"1\" stroke-width=\"3.2\"/>\n",
       "<circle clip-path=\"url(#clip342)\" cx=\"322.346\" cy=\"180.942\" r=\"14.4\" fill=\"#009af9\" fill-rule=\"evenodd\" fill-opacity=\"1\" stroke=\"#000000\" stroke-opacity=\"1\" stroke-width=\"3.2\"/>\n",
       "<circle clip-path=\"url(#clip342)\" cx=\"425.938\" cy=\"240.531\" r=\"14.4\" fill=\"#009af9\" fill-rule=\"evenodd\" fill-opacity=\"1\" stroke=\"#000000\" stroke-opacity=\"1\" stroke-width=\"3.2\"/>\n",
       "<circle clip-path=\"url(#clip342)\" cx=\"529.531\" cy=\"271.225\" r=\"14.4\" fill=\"#009af9\" fill-rule=\"evenodd\" fill-opacity=\"1\" stroke=\"#000000\" stroke-opacity=\"1\" stroke-width=\"3.2\"/>\n",
       "<circle clip-path=\"url(#clip342)\" cx=\"633.123\" cy=\"279.817\" r=\"14.4\" fill=\"#009af9\" fill-rule=\"evenodd\" fill-opacity=\"1\" stroke=\"#000000\" stroke-opacity=\"1\" stroke-width=\"3.2\"/>\n",
       "<circle clip-path=\"url(#clip342)\" cx=\"736.715\" cy=\"274.775\" r=\"14.4\" fill=\"#009af9\" fill-rule=\"evenodd\" fill-opacity=\"1\" stroke=\"#000000\" stroke-opacity=\"1\" stroke-width=\"3.2\"/>\n",
       "<circle clip-path=\"url(#clip342)\" cx=\"840.308\" cy=\"265.435\" r=\"14.4\" fill=\"#009af9\" fill-rule=\"evenodd\" fill-opacity=\"1\" stroke=\"#000000\" stroke-opacity=\"1\" stroke-width=\"3.2\"/>\n",
       "<circle clip-path=\"url(#clip342)\" cx=\"943.9\" cy=\"261.112\" r=\"14.4\" fill=\"#009af9\" fill-rule=\"evenodd\" fill-opacity=\"1\" stroke=\"#000000\" stroke-opacity=\"1\" stroke-width=\"3.2\"/>\n",
       "<circle clip-path=\"url(#clip342)\" cx=\"1047.49\" cy=\"270.21\" r=\"14.4\" fill=\"#009af9\" fill-rule=\"evenodd\" fill-opacity=\"1\" stroke=\"#000000\" stroke-opacity=\"1\" stroke-width=\"3.2\"/>\n",
       "<circle clip-path=\"url(#clip342)\" cx=\"1151.08\" cy=\"299.42\" r=\"14.4\" fill=\"#009af9\" fill-rule=\"evenodd\" fill-opacity=\"1\" stroke=\"#000000\" stroke-opacity=\"1\" stroke-width=\"3.2\"/>\n",
       "<circle clip-path=\"url(#clip342)\" cx=\"1254.68\" cy=\"353.085\" r=\"14.4\" fill=\"#009af9\" fill-rule=\"evenodd\" fill-opacity=\"1\" stroke=\"#000000\" stroke-opacity=\"1\" stroke-width=\"3.2\"/>\n",
       "<circle clip-path=\"url(#clip342)\" cx=\"1358.27\" cy=\"432.795\" r=\"14.4\" fill=\"#009af9\" fill-rule=\"evenodd\" fill-opacity=\"1\" stroke=\"#000000\" stroke-opacity=\"1\" stroke-width=\"3.2\"/>\n",
       "<circle clip-path=\"url(#clip342)\" cx=\"1461.86\" cy=\"537.247\" r=\"14.4\" fill=\"#009af9\" fill-rule=\"evenodd\" fill-opacity=\"1\" stroke=\"#000000\" stroke-opacity=\"1\" stroke-width=\"3.2\"/>\n",
       "<circle clip-path=\"url(#clip342)\" cx=\"1565.45\" cy=\"662.393\" r=\"14.4\" fill=\"#009af9\" fill-rule=\"evenodd\" fill-opacity=\"1\" stroke=\"#000000\" stroke-opacity=\"1\" stroke-width=\"3.2\"/>\n",
       "<circle clip-path=\"url(#clip342)\" cx=\"1669.05\" cy=\"801.847\" r=\"14.4\" fill=\"#009af9\" fill-rule=\"evenodd\" fill-opacity=\"1\" stroke=\"#000000\" stroke-opacity=\"1\" stroke-width=\"3.2\"/>\n",
       "<circle clip-path=\"url(#clip342)\" cx=\"1772.64\" cy=\"947.534\" r=\"14.4\" fill=\"#009af9\" fill-rule=\"evenodd\" fill-opacity=\"1\" stroke=\"#000000\" stroke-opacity=\"1\" stroke-width=\"3.2\"/>\n",
       "<circle clip-path=\"url(#clip342)\" cx=\"1876.23\" cy=\"1090.49\" r=\"14.4\" fill=\"#009af9\" fill-rule=\"evenodd\" fill-opacity=\"1\" stroke=\"#000000\" stroke-opacity=\"1\" stroke-width=\"3.2\"/>\n",
       "<circle clip-path=\"url(#clip342)\" cx=\"1979.82\" cy=\"1221.74\" r=\"14.4\" fill=\"#009af9\" fill-rule=\"evenodd\" fill-opacity=\"1\" stroke=\"#000000\" stroke-opacity=\"1\" stroke-width=\"3.2\"/>\n",
       "<circle clip-path=\"url(#clip342)\" cx=\"2083.42\" cy=\"1333.23\" r=\"14.4\" fill=\"#009af9\" fill-rule=\"evenodd\" fill-opacity=\"1\" stroke=\"#000000\" stroke-opacity=\"1\" stroke-width=\"3.2\"/>\n",
       "<circle clip-path=\"url(#clip342)\" cx=\"2187.01\" cy=\"1418.58\" r=\"14.4\" fill=\"#009af9\" fill-rule=\"evenodd\" fill-opacity=\"1\" stroke=\"#000000\" stroke-opacity=\"1\" stroke-width=\"3.2\"/>\n",
       "<circle clip-path=\"url(#clip342)\" cx=\"218.754\" cy=\"87.9763\" r=\"14.4\" fill=\"#e26f46\" fill-rule=\"evenodd\" fill-opacity=\"1\" stroke=\"#000000\" stroke-opacity=\"1\" stroke-width=\"3.2\"/>\n",
       "<circle clip-path=\"url(#clip342)\" cx=\"322.346\" cy=\"194.197\" r=\"14.4\" fill=\"#e26f46\" fill-rule=\"evenodd\" fill-opacity=\"1\" stroke=\"#000000\" stroke-opacity=\"1\" stroke-width=\"3.2\"/>\n",
       "<circle clip-path=\"url(#clip342)\" cx=\"425.938\" cy=\"261.302\" r=\"14.4\" fill=\"#e26f46\" fill-rule=\"evenodd\" fill-opacity=\"1\" stroke=\"#000000\" stroke-opacity=\"1\" stroke-width=\"3.2\"/>\n",
       "<circle clip-path=\"url(#clip342)\" cx=\"529.531\" cy=\"294.31\" r=\"14.4\" fill=\"#e26f46\" fill-rule=\"evenodd\" fill-opacity=\"1\" stroke=\"#000000\" stroke-opacity=\"1\" stroke-width=\"3.2\"/>\n",
       "<circle clip-path=\"url(#clip342)\" cx=\"633.123\" cy=\"302.281\" r=\"14.4\" fill=\"#e26f46\" fill-rule=\"evenodd\" fill-opacity=\"1\" stroke=\"#000000\" stroke-opacity=\"1\" stroke-width=\"3.2\"/>\n",
       "<circle clip-path=\"url(#clip342)\" cx=\"736.715\" cy=\"295.975\" r=\"14.4\" fill=\"#e26f46\" fill-rule=\"evenodd\" fill-opacity=\"1\" stroke=\"#000000\" stroke-opacity=\"1\" stroke-width=\"3.2\"/>\n",
       "<circle clip-path=\"url(#clip342)\" cx=\"840.308\" cy=\"285.849\" r=\"14.4\" fill=\"#e26f46\" fill-rule=\"evenodd\" fill-opacity=\"1\" stroke=\"#000000\" stroke-opacity=\"1\" stroke-width=\"3.2\"/>\n",
       "<circle clip-path=\"url(#clip342)\" cx=\"943.9\" cy=\"280.884\" r=\"14.4\" fill=\"#e26f46\" fill-rule=\"evenodd\" fill-opacity=\"1\" stroke=\"#000000\" stroke-opacity=\"1\" stroke-width=\"3.2\"/>\n",
       "<circle clip-path=\"url(#clip342)\" cx=\"1047.49\" cy=\"288.119\" r=\"14.4\" fill=\"#e26f46\" fill-rule=\"evenodd\" fill-opacity=\"1\" stroke=\"#000000\" stroke-opacity=\"1\" stroke-width=\"3.2\"/>\n",
       "<circle clip-path=\"url(#clip342)\" cx=\"1151.08\" cy=\"312.596\" r=\"14.4\" fill=\"#e26f46\" fill-rule=\"evenodd\" fill-opacity=\"1\" stroke=\"#000000\" stroke-opacity=\"1\" stroke-width=\"3.2\"/>\n",
       "<circle clip-path=\"url(#clip342)\" cx=\"1254.68\" cy=\"357.464\" r=\"14.4\" fill=\"#e26f46\" fill-rule=\"evenodd\" fill-opacity=\"1\" stroke=\"#000000\" stroke-opacity=\"1\" stroke-width=\"3.2\"/>\n",
       "<circle clip-path=\"url(#clip342)\" cx=\"1358.27\" cy=\"424.125\" r=\"14.4\" fill=\"#e26f46\" fill-rule=\"evenodd\" fill-opacity=\"1\" stroke=\"#000000\" stroke-opacity=\"1\" stroke-width=\"3.2\"/>\n",
       "<circle clip-path=\"url(#clip342)\" cx=\"1461.86\" cy=\"512.334\" r=\"14.4\" fill=\"#e26f46\" fill-rule=\"evenodd\" fill-opacity=\"1\" stroke=\"#000000\" stroke-opacity=\"1\" stroke-width=\"3.2\"/>\n",
       "<circle clip-path=\"url(#clip342)\" cx=\"1565.45\" cy=\"620.241\" r=\"14.4\" fill=\"#e26f46\" fill-rule=\"evenodd\" fill-opacity=\"1\" stroke=\"#000000\" stroke-opacity=\"1\" stroke-width=\"3.2\"/>\n",
       "<circle clip-path=\"url(#clip342)\" cx=\"1669.05\" cy=\"744.366\" r=\"14.4\" fill=\"#e26f46\" fill-rule=\"evenodd\" fill-opacity=\"1\" stroke=\"#000000\" stroke-opacity=\"1\" stroke-width=\"3.2\"/>\n",
       "<circle clip-path=\"url(#clip342)\" cx=\"1772.64\" cy=\"879.53\" r=\"14.4\" fill=\"#e26f46\" fill-rule=\"evenodd\" fill-opacity=\"1\" stroke=\"#000000\" stroke-opacity=\"1\" stroke-width=\"3.2\"/>\n",
       "<circle clip-path=\"url(#clip342)\" cx=\"1876.23\" cy=\"1018.82\" r=\"14.4\" fill=\"#e26f46\" fill-rule=\"evenodd\" fill-opacity=\"1\" stroke=\"#000000\" stroke-opacity=\"1\" stroke-width=\"3.2\"/>\n",
       "<circle clip-path=\"url(#clip342)\" cx=\"1979.82\" cy=\"1153.67\" r=\"14.4\" fill=\"#e26f46\" fill-rule=\"evenodd\" fill-opacity=\"1\" stroke=\"#000000\" stroke-opacity=\"1\" stroke-width=\"3.2\"/>\n",
       "<circle clip-path=\"url(#clip342)\" cx=\"2083.42\" cy=\"1274.4\" r=\"14.4\" fill=\"#e26f46\" fill-rule=\"evenodd\" fill-opacity=\"1\" stroke=\"#000000\" stroke-opacity=\"1\" stroke-width=\"3.2\"/>\n",
       "<circle clip-path=\"url(#clip342)\" cx=\"2187.01\" cy=\"1371.25\" r=\"14.4\" fill=\"#e26f46\" fill-rule=\"evenodd\" fill-opacity=\"1\" stroke=\"#000000\" stroke-opacity=\"1\" stroke-width=\"3.2\"/>\n",
       "<circle clip-path=\"url(#clip342)\" cx=\"218.754\" cy=\"87.9763\" r=\"14.4\" fill=\"#3da44d\" fill-rule=\"evenodd\" fill-opacity=\"1\" stroke=\"#000000\" stroke-opacity=\"1\" stroke-width=\"3.2\"/>\n",
       "<circle clip-path=\"url(#clip342)\" cx=\"322.346\" cy=\"192.981\" r=\"14.4\" fill=\"#3da44d\" fill-rule=\"evenodd\" fill-opacity=\"1\" stroke=\"#000000\" stroke-opacity=\"1\" stroke-width=\"3.2\"/>\n",
       "<circle clip-path=\"url(#clip342)\" cx=\"425.938\" cy=\"259.532\" r=\"14.4\" fill=\"#3da44d\" fill-rule=\"evenodd\" fill-opacity=\"1\" stroke=\"#000000\" stroke-opacity=\"1\" stroke-width=\"3.2\"/>\n",
       "<circle clip-path=\"url(#clip342)\" cx=\"529.531\" cy=\"292.444\" r=\"14.4\" fill=\"#3da44d\" fill-rule=\"evenodd\" fill-opacity=\"1\" stroke=\"#000000\" stroke-opacity=\"1\" stroke-width=\"3.2\"/>\n",
       "<circle clip-path=\"url(#clip342)\" cx=\"633.123\" cy=\"300.494\" r=\"14.4\" fill=\"#3da44d\" fill-rule=\"evenodd\" fill-opacity=\"1\" stroke=\"#000000\" stroke-opacity=\"1\" stroke-width=\"3.2\"/>\n",
       "<circle clip-path=\"url(#clip342)\" cx=\"736.715\" cy=\"294.285\" r=\"14.4\" fill=\"#3da44d\" fill-rule=\"evenodd\" fill-opacity=\"1\" stroke=\"#000000\" stroke-opacity=\"1\" stroke-width=\"3.2\"/>\n",
       "<circle clip-path=\"url(#clip342)\" cx=\"840.308\" cy=\"284.256\" r=\"14.4\" fill=\"#3da44d\" fill-rule=\"evenodd\" fill-opacity=\"1\" stroke=\"#000000\" stroke-opacity=\"1\" stroke-width=\"3.2\"/>\n",
       "<circle clip-path=\"url(#clip342)\" cx=\"943.9\" cy=\"279.386\" r=\"14.4\" fill=\"#3da44d\" fill-rule=\"evenodd\" fill-opacity=\"1\" stroke=\"#000000\" stroke-opacity=\"1\" stroke-width=\"3.2\"/>\n",
       "<circle clip-path=\"url(#clip342)\" cx=\"1047.49\" cy=\"286.624\" r=\"14.4\" fill=\"#3da44d\" fill-rule=\"evenodd\" fill-opacity=\"1\" stroke=\"#000000\" stroke-opacity=\"1\" stroke-width=\"3.2\"/>\n",
       "<circle clip-path=\"url(#clip342)\" cx=\"1151.08\" cy=\"310.827\" r=\"14.4\" fill=\"#3da44d\" fill-rule=\"evenodd\" fill-opacity=\"1\" stroke=\"#000000\" stroke-opacity=\"1\" stroke-width=\"3.2\"/>\n",
       "<circle clip-path=\"url(#clip342)\" cx=\"1254.68\" cy=\"354.936\" r=\"14.4\" fill=\"#3da44d\" fill-rule=\"evenodd\" fill-opacity=\"1\" stroke=\"#000000\" stroke-opacity=\"1\" stroke-width=\"3.2\"/>\n",
       "<circle clip-path=\"url(#clip342)\" cx=\"1358.27\" cy=\"420.207\" r=\"14.4\" fill=\"#3da44d\" fill-rule=\"evenodd\" fill-opacity=\"1\" stroke=\"#000000\" stroke-opacity=\"1\" stroke-width=\"3.2\"/>\n",
       "<circle clip-path=\"url(#clip342)\" cx=\"1461.86\" cy=\"506.395\" r=\"14.4\" fill=\"#3da44d\" fill-rule=\"evenodd\" fill-opacity=\"1\" stroke=\"#000000\" stroke-opacity=\"1\" stroke-width=\"3.2\"/>\n",
       "<circle clip-path=\"url(#clip342)\" cx=\"1565.45\" cy=\"611.837\" r=\"14.4\" fill=\"#3da44d\" fill-rule=\"evenodd\" fill-opacity=\"1\" stroke=\"#000000\" stroke-opacity=\"1\" stroke-width=\"3.2\"/>\n",
       "<circle clip-path=\"url(#clip342)\" cx=\"1669.05\" cy=\"733.412\" r=\"14.4\" fill=\"#3da44d\" fill-rule=\"evenodd\" fill-opacity=\"1\" stroke=\"#000000\" stroke-opacity=\"1\" stroke-width=\"3.2\"/>\n",
       "<circle clip-path=\"url(#clip342)\" cx=\"1772.64\" cy=\"866.364\" r=\"14.4\" fill=\"#3da44d\" fill-rule=\"evenodd\" fill-opacity=\"1\" stroke=\"#000000\" stroke-opacity=\"1\" stroke-width=\"3.2\"/>\n",
       "<circle clip-path=\"url(#clip342)\" cx=\"1876.23\" cy=\"1004.08\" r=\"14.4\" fill=\"#3da44d\" fill-rule=\"evenodd\" fill-opacity=\"1\" stroke=\"#000000\" stroke-opacity=\"1\" stroke-width=\"3.2\"/>\n",
       "<circle clip-path=\"url(#clip342)\" cx=\"1979.82\" cy=\"1138.06\" r=\"14.4\" fill=\"#3da44d\" fill-rule=\"evenodd\" fill-opacity=\"1\" stroke=\"#000000\" stroke-opacity=\"1\" stroke-width=\"3.2\"/>\n",
       "<circle clip-path=\"url(#clip342)\" cx=\"2083.42\" cy=\"1258.41\" r=\"14.4\" fill=\"#3da44d\" fill-rule=\"evenodd\" fill-opacity=\"1\" stroke=\"#000000\" stroke-opacity=\"1\" stroke-width=\"3.2\"/>\n",
       "<circle clip-path=\"url(#clip342)\" cx=\"2187.01\" cy=\"1355.2\" r=\"14.4\" fill=\"#3da44d\" fill-rule=\"evenodd\" fill-opacity=\"1\" stroke=\"#000000\" stroke-opacity=\"1\" stroke-width=\"3.2\"/>\n",
       "<polyline clip-path=\"url(#clip342)\" style=\"stroke:#c271d2; stroke-linecap:round; stroke-linejoin:round; stroke-width:4; stroke-opacity:1; fill:none\" points=\"218.754,87.9763 239.472,105.895 260.191,122.475 280.909,137.738 301.628,151.707 322.346,164.412 343.064,175.885 363.783,186.163 384.501,195.288 405.22,203.304 425.938,210.259 446.657,216.205 467.375,221.196 488.094,225.291 508.812,228.549 529.531,231.034 550.249,232.812 570.968,233.949 591.686,234.516 612.405,234.581 633.123,234.219 653.841,233.501 674.56,232.501 695.278,231.294 715.997,229.953 736.715,228.552 757.434,227.166 778.152,225.866 798.871,224.725 819.589,223.813 840.308,223.199 861.026,222.951 881.745,223.132 902.463,223.807 923.182,225.035 943.9,226.873 964.619,229.377 985.337,232.596 1006.06,236.578 1026.77,241.368 1047.49,247.006 1068.21,253.528 1088.93,260.966 1109.65,269.348 1130.37,278.698 1151.08,289.036 1171.8,300.376 1192.52,312.729 1213.24,326.101 1233.96,340.492 1254.68,355.9 1275.4,372.316 1296.11,389.729 1316.83,408.122 1337.55,427.472 1358.27,447.756 1378.99,468.944 1399.71,491 1420.42,513.889 1441.14,537.568 1461.86,561.993 1482.58,587.115 1503.3,612.882 1524.02,639.24 1544.74,666.131 1565.45,693.495 1586.17,721.269 1606.89,749.39 1627.61,777.791 1648.33,806.404 1669.05,835.16 1689.76,863.989 1710.48,892.82 1731.2,921.582 1751.92,950.203 1772.64,978.613 1793.36,1006.74 1814.08,1034.51 1834.79,1061.86 1855.51,1088.73 1876.23,1115.03 1896.95,1140.72 1917.67,1165.72 1938.39,1189.97 1959.11,1213.43 1979.82,1236.03 2000.54,1257.72 2021.26,1278.46 2041.98,1298.19 2062.7,1316.88 2083.42,1334.49 2104.13,1350.99 2124.85,1366.33 2145.57,1380.51 2166.29,1393.5 2187.01,1405.27 2207.73,1415.82 2228.45,1425.15 2249.16,1433.23 2269.88,1440.09 2290.6,1445.72 \"/>\n",
       "<path clip-path=\"url(#clip340)\" d=\"M1607.62 354.418 L2279.55 354.418 L2279.55 95.2176 L1607.62 95.2176  Z\" fill=\"#ffffff\" fill-rule=\"evenodd\" fill-opacity=\"1\"/>\n",
       "<polyline clip-path=\"url(#clip340)\" style=\"stroke:#000000; stroke-linecap:round; stroke-linejoin:round; stroke-width:4; stroke-opacity:1; fill:none\" points=\"1607.62,354.418 2279.55,354.418 2279.55,95.2176 1607.62,95.2176 1607.62,354.418 \"/>\n",
       "<circle clip-path=\"url(#clip340)\" cx=\"1705.23\" cy=\"147.058\" r=\"20.48\" fill=\"#009af9\" fill-rule=\"evenodd\" fill-opacity=\"1\" stroke=\"#000000\" stroke-opacity=\"1\" stroke-width=\"4.55111\"/>\n",
       "<path clip-path=\"url(#clip340)\" d=\"M1818.67 134.384 L1812.33 151.583 L1825.04 151.583 L1818.67 134.384 M1816.03 129.778 L1821.33 129.778 L1834.5 164.338 L1829.64 164.338 L1826.49 155.472 L1810.92 155.472 L1807.77 164.338 L1802.84 164.338 L1816.03 129.778 Z\" fill=\"#000000\" fill-rule=\"nonzero\" fill-opacity=\"1\" /><path clip-path=\"url(#clip340)\" d=\"M1843.48 160.449 L1843.48 174.199 L1839.2 174.199 L1839.2 138.412 L1843.48 138.412 L1843.48 142.347 Q1844.83 140.032 1846.86 138.921 Q1848.92 137.787 1851.77 137.787 Q1856.49 137.787 1859.43 141.537 Q1862.4 145.287 1862.4 151.398 Q1862.4 157.509 1859.43 161.259 Q1856.49 165.009 1851.77 165.009 Q1848.92 165.009 1846.86 163.898 Q1844.83 162.763 1843.48 160.449 M1857.98 151.398 Q1857.98 146.699 1856.03 144.037 Q1854.11 141.352 1850.73 141.352 Q1847.35 141.352 1845.41 144.037 Q1843.48 146.699 1843.48 151.398 Q1843.48 156.097 1845.41 158.782 Q1847.35 161.444 1850.73 161.444 Q1854.11 161.444 1856.03 158.782 Q1857.98 156.097 1857.98 151.398 Z\" fill=\"#000000\" fill-rule=\"nonzero\" fill-opacity=\"1\" /><path clip-path=\"url(#clip340)\" d=\"M1884.48 142.393 Q1883.76 141.977 1882.91 141.791 Q1882.07 141.583 1881.05 141.583 Q1877.44 141.583 1875.5 143.944 Q1873.58 146.282 1873.58 150.68 L1873.58 164.338 L1869.29 164.338 L1869.29 138.412 L1873.58 138.412 L1873.58 142.44 Q1874.92 140.078 1877.07 138.944 Q1879.22 137.787 1882.3 137.787 Q1882.74 137.787 1883.28 137.856 Q1883.81 137.903 1884.46 138.018 L1884.48 142.393 Z\" fill=\"#000000\" fill-rule=\"nonzero\" fill-opacity=\"1\" /><path clip-path=\"url(#clip340)\" d=\"M1897.95 141.398 Q1894.53 141.398 1892.54 144.083 Q1890.54 146.745 1890.54 151.398 Q1890.54 156.051 1892.51 158.736 Q1894.5 161.398 1897.95 161.398 Q1901.35 161.398 1903.35 158.713 Q1905.34 156.027 1905.34 151.398 Q1905.34 146.791 1903.35 144.106 Q1901.35 141.398 1897.95 141.398 M1897.95 137.787 Q1903.51 137.787 1906.68 141.398 Q1909.85 145.009 1909.85 151.398 Q1909.85 157.764 1906.68 161.398 Q1903.51 165.009 1897.95 165.009 Q1892.37 165.009 1889.2 161.398 Q1886.05 157.764 1886.05 151.398 Q1886.05 145.009 1889.2 141.398 Q1892.37 137.787 1897.95 137.787 Z\" fill=\"#000000\" fill-rule=\"nonzero\" fill-opacity=\"1\" /><path clip-path=\"url(#clip340)\" d=\"M1937 138.412 L1927.63 151.027 L1937.49 164.338 L1932.47 164.338 L1924.92 154.152 L1917.37 164.338 L1912.35 164.338 L1922.42 150.773 L1913.21 138.412 L1918.23 138.412 L1925.1 147.648 L1931.98 138.412 L1937 138.412 Z\" fill=\"#000000\" fill-rule=\"nonzero\" fill-opacity=\"1\" /><path clip-path=\"url(#clip340)\" d=\"M1943.51 138.412 L1947.77 138.412 L1947.77 164.338 L1943.51 164.338 L1943.51 138.412 M1943.51 128.319 L1947.77 128.319 L1947.77 133.713 L1943.51 133.713 L1943.51 128.319 Z\" fill=\"#000000\" fill-rule=\"nonzero\" fill-opacity=\"1\" /><path clip-path=\"url(#clip340)\" d=\"M1976.86 143.389 Q1978.46 140.518 1980.68 139.153 Q1982.9 137.787 1985.91 137.787 Q1989.97 137.787 1992.16 140.634 Q1994.36 143.458 1994.36 148.689 L1994.36 164.338 L1990.08 164.338 L1990.08 148.828 Q1990.08 145.102 1988.76 143.296 Q1987.44 141.49 1984.73 141.49 Q1981.42 141.49 1979.5 143.69 Q1977.58 145.889 1977.58 149.685 L1977.58 164.338 L1973.3 164.338 L1973.3 148.828 Q1973.3 145.078 1971.98 143.296 Q1970.66 141.49 1967.91 141.49 Q1964.64 141.49 1962.72 143.713 Q1960.8 145.912 1960.8 149.685 L1960.8 164.338 L1956.52 164.338 L1956.52 138.412 L1960.8 138.412 L1960.8 142.44 Q1962.26 140.055 1964.29 138.921 Q1966.33 137.787 1969.13 137.787 Q1971.96 137.787 1973.92 139.222 Q1975.91 140.657 1976.86 143.389 Z\" fill=\"#000000\" fill-rule=\"nonzero\" fill-opacity=\"1\" /><path clip-path=\"url(#clip340)\" d=\"M2014.64 151.305 Q2009.48 151.305 2007.49 152.486 Q2005.5 153.666 2005.5 156.514 Q2005.5 158.782 2006.98 160.125 Q2008.48 161.444 2011.05 161.444 Q2014.59 161.444 2016.72 158.944 Q2018.88 156.421 2018.88 152.254 L2018.88 151.305 L2014.64 151.305 M2023.14 149.546 L2023.14 164.338 L2018.88 164.338 L2018.88 160.402 Q2017.42 162.763 2015.24 163.898 Q2013.07 165.009 2009.92 165.009 Q2005.94 165.009 2003.58 162.787 Q2001.24 160.541 2001.24 156.791 Q2001.24 152.416 2004.15 150.194 Q2007.09 147.972 2012.9 147.972 L2018.88 147.972 L2018.88 147.555 Q2018.88 144.615 2016.93 143.018 Q2015.01 141.398 2011.52 141.398 Q2009.29 141.398 2007.19 141.93 Q2005.08 142.463 2003.14 143.527 L2003.14 139.592 Q2005.47 138.69 2007.67 138.25 Q2009.87 137.787 2011.96 137.787 Q2017.58 137.787 2020.36 140.703 Q2023.14 143.62 2023.14 149.546 Z\" fill=\"#000000\" fill-rule=\"nonzero\" fill-opacity=\"1\" /><path clip-path=\"url(#clip340)\" d=\"M2036.12 131.051 L2036.12 138.412 L2044.9 138.412 L2044.9 141.722 L2036.12 141.722 L2036.12 155.796 Q2036.12 158.967 2036.98 159.87 Q2037.86 160.773 2040.52 160.773 L2044.9 160.773 L2044.9 164.338 L2040.52 164.338 Q2035.59 164.338 2033.71 162.509 Q2031.84 160.657 2031.84 155.796 L2031.84 141.722 L2028.71 141.722 L2028.71 138.412 L2031.84 138.412 L2031.84 131.051 L2036.12 131.051 Z\" fill=\"#000000\" fill-rule=\"nonzero\" fill-opacity=\"1\" /><path clip-path=\"url(#clip340)\" d=\"M2050.5 138.412 L2054.76 138.412 L2054.76 164.338 L2050.5 164.338 L2050.5 138.412 M2050.5 128.319 L2054.76 128.319 L2054.76 133.713 L2050.5 133.713 L2050.5 128.319 Z\" fill=\"#000000\" fill-rule=\"nonzero\" fill-opacity=\"1\" /><path clip-path=\"url(#clip340)\" d=\"M2073.71 141.398 Q2070.29 141.398 2068.3 144.083 Q2066.31 146.745 2066.31 151.398 Q2066.31 156.051 2068.27 158.736 Q2070.27 161.398 2073.71 161.398 Q2077.12 161.398 2079.11 158.713 Q2081.1 156.027 2081.1 151.398 Q2081.1 146.791 2079.11 144.106 Q2077.12 141.398 2073.71 141.398 M2073.71 137.787 Q2079.27 137.787 2082.44 141.398 Q2085.61 145.009 2085.61 151.398 Q2085.61 157.764 2082.44 161.398 Q2079.27 165.009 2073.71 165.009 Q2068.14 165.009 2064.96 161.398 Q2061.82 157.764 2061.82 151.398 Q2061.82 145.009 2064.96 141.398 Q2068.14 137.787 2073.71 137.787 Z\" fill=\"#000000\" fill-rule=\"nonzero\" fill-opacity=\"1\" /><path clip-path=\"url(#clip340)\" d=\"M2114.22 148.689 L2114.22 164.338 L2109.96 164.338 L2109.96 148.828 Q2109.96 145.148 2108.53 143.319 Q2107.09 141.49 2104.22 141.49 Q2100.77 141.49 2098.78 143.69 Q2096.79 145.889 2096.79 149.685 L2096.79 164.338 L2092.51 164.338 L2092.51 138.412 L2096.79 138.412 L2096.79 142.44 Q2098.32 140.102 2100.38 138.944 Q2102.46 137.787 2105.17 137.787 Q2109.64 137.787 2111.93 140.565 Q2114.22 143.319 2114.22 148.689 Z\" fill=\"#000000\" fill-rule=\"nonzero\" fill-opacity=\"1\" /><path clip-path=\"url(#clip340)\" d=\"M2137.97 129.778 L2159.83 129.778 L2159.83 133.713 L2142.65 133.713 L2142.65 143.944 L2159.11 143.944 L2159.11 147.879 L2142.65 147.879 L2142.65 160.402 L2160.24 160.402 L2160.24 164.338 L2137.97 164.338 L2137.97 129.778 Z\" fill=\"#000000\" fill-rule=\"nonzero\" fill-opacity=\"1\" /><path clip-path=\"url(#clip340)\" d=\"M2167.3 154.106 L2167.3 138.412 L2171.56 138.412 L2171.56 153.944 Q2171.56 157.625 2173 159.476 Q2174.43 161.305 2177.3 161.305 Q2180.75 161.305 2182.74 159.106 Q2184.76 156.907 2184.76 153.111 L2184.76 138.412 L2189.01 138.412 L2189.01 164.338 L2184.76 164.338 L2184.76 160.356 Q2183.2 162.717 2181.14 163.875 Q2179.11 165.009 2176.4 165.009 Q2171.93 165.009 2169.62 162.231 Q2167.3 159.453 2167.3 154.106 M2178.02 137.787 L2178.02 137.787 Z\" fill=\"#000000\" fill-rule=\"nonzero\" fill-opacity=\"1\" /><path clip-path=\"url(#clip340)\" d=\"M2197.79 128.319 L2202.05 128.319 L2202.05 164.338 L2197.79 164.338 L2197.79 128.319 Z\" fill=\"#000000\" fill-rule=\"nonzero\" fill-opacity=\"1\" /><path clip-path=\"url(#clip340)\" d=\"M2233.14 150.31 L2233.14 152.393 L2213.55 152.393 Q2213.83 156.791 2216.19 159.106 Q2218.58 161.398 2222.81 161.398 Q2225.26 161.398 2227.56 160.796 Q2229.87 160.194 2232.14 158.99 L2232.14 163.018 Q2229.85 163.99 2227.44 164.5 Q2225.03 165.009 2222.56 165.009 Q2216.35 165.009 2212.72 161.398 Q2209.11 157.787 2209.11 151.629 Q2209.11 145.264 2212.53 141.537 Q2215.98 137.787 2221.82 137.787 Q2227.05 137.787 2230.08 141.166 Q2233.14 144.523 2233.14 150.31 M2228.88 149.06 Q2228.83 145.565 2226.91 143.481 Q2225.01 141.398 2221.86 141.398 Q2218.3 141.398 2216.14 143.412 Q2214.01 145.426 2213.69 149.083 L2228.88 149.06 Z\" fill=\"#000000\" fill-rule=\"nonzero\" fill-opacity=\"1\" /><path clip-path=\"url(#clip340)\" d=\"M2255.15 142.393 Q2254.43 141.977 2253.57 141.791 Q2252.74 141.583 2251.72 141.583 Q2248.11 141.583 2246.17 143.944 Q2244.25 146.282 2244.25 150.68 L2244.25 164.338 L2239.96 164.338 L2239.96 138.412 L2244.25 138.412 L2244.25 142.44 Q2245.59 140.078 2247.74 138.944 Q2249.89 137.787 2252.97 137.787 Q2253.41 137.787 2253.95 137.856 Q2254.48 137.903 2255.13 138.018 L2255.15 142.393 Z\" fill=\"#000000\" fill-rule=\"nonzero\" fill-opacity=\"1\" /><circle clip-path=\"url(#clip340)\" cx=\"1705.23\" cy=\"198.898\" r=\"20.48\" fill=\"#e26f46\" fill-rule=\"evenodd\" fill-opacity=\"1\" stroke=\"#000000\" stroke-opacity=\"1\" stroke-width=\"4.55111\"/>\n",
       "<path clip-path=\"url(#clip340)\" d=\"M1818.67 186.224 L1812.33 203.423 L1825.04 203.423 L1818.67 186.224 M1816.03 181.618 L1821.33 181.618 L1834.5 216.178 L1829.64 216.178 L1826.49 207.312 L1810.92 207.312 L1807.77 216.178 L1802.84 216.178 L1816.03 181.618 Z\" fill=\"#000000\" fill-rule=\"nonzero\" fill-opacity=\"1\" /><path clip-path=\"url(#clip340)\" d=\"M1843.48 212.289 L1843.48 226.039 L1839.2 226.039 L1839.2 190.252 L1843.48 190.252 L1843.48 194.187 Q1844.83 191.872 1846.86 190.761 Q1848.92 189.627 1851.77 189.627 Q1856.49 189.627 1859.43 193.377 Q1862.4 197.127 1862.4 203.238 Q1862.4 209.349 1859.43 213.099 Q1856.49 216.849 1851.77 216.849 Q1848.92 216.849 1846.86 215.738 Q1844.83 214.603 1843.48 212.289 M1857.98 203.238 Q1857.98 198.539 1856.03 195.877 Q1854.11 193.192 1850.73 193.192 Q1847.35 193.192 1845.41 195.877 Q1843.48 198.539 1843.48 203.238 Q1843.48 207.937 1845.41 210.622 Q1847.35 213.284 1850.73 213.284 Q1854.11 213.284 1856.03 210.622 Q1857.98 207.937 1857.98 203.238 Z\" fill=\"#000000\" fill-rule=\"nonzero\" fill-opacity=\"1\" /><path clip-path=\"url(#clip340)\" d=\"M1884.48 194.233 Q1883.76 193.817 1882.91 193.631 Q1882.07 193.423 1881.05 193.423 Q1877.44 193.423 1875.5 195.784 Q1873.58 198.122 1873.58 202.52 L1873.58 216.178 L1869.29 216.178 L1869.29 190.252 L1873.58 190.252 L1873.58 194.28 Q1874.92 191.918 1877.07 190.784 Q1879.22 189.627 1882.3 189.627 Q1882.74 189.627 1883.28 189.696 Q1883.81 189.743 1884.46 189.858 L1884.48 194.233 Z\" fill=\"#000000\" fill-rule=\"nonzero\" fill-opacity=\"1\" /><path clip-path=\"url(#clip340)\" d=\"M1897.95 193.238 Q1894.53 193.238 1892.54 195.923 Q1890.54 198.585 1890.54 203.238 Q1890.54 207.891 1892.51 210.576 Q1894.5 213.238 1897.95 213.238 Q1901.35 213.238 1903.35 210.553 Q1905.34 207.867 1905.34 203.238 Q1905.34 198.631 1903.35 195.946 Q1901.35 193.238 1897.95 193.238 M1897.95 189.627 Q1903.51 189.627 1906.68 193.238 Q1909.85 196.849 1909.85 203.238 Q1909.85 209.604 1906.68 213.238 Q1903.51 216.849 1897.95 216.849 Q1892.37 216.849 1889.2 213.238 Q1886.05 209.604 1886.05 203.238 Q1886.05 196.849 1889.2 193.238 Q1892.37 189.627 1897.95 189.627 Z\" fill=\"#000000\" fill-rule=\"nonzero\" fill-opacity=\"1\" /><path clip-path=\"url(#clip340)\" d=\"M1937 190.252 L1927.63 202.867 L1937.49 216.178 L1932.47 216.178 L1924.92 205.992 L1917.37 216.178 L1912.35 216.178 L1922.42 202.613 L1913.21 190.252 L1918.23 190.252 L1925.1 199.488 L1931.98 190.252 L1937 190.252 Z\" fill=\"#000000\" fill-rule=\"nonzero\" fill-opacity=\"1\" /><path clip-path=\"url(#clip340)\" d=\"M1943.51 190.252 L1947.77 190.252 L1947.77 216.178 L1943.51 216.178 L1943.51 190.252 M1943.51 180.159 L1947.77 180.159 L1947.77 185.553 L1943.51 185.553 L1943.51 180.159 Z\" fill=\"#000000\" fill-rule=\"nonzero\" fill-opacity=\"1\" /><path clip-path=\"url(#clip340)\" d=\"M1976.86 195.229 Q1978.46 192.358 1980.68 190.993 Q1982.9 189.627 1985.91 189.627 Q1989.97 189.627 1992.16 192.474 Q1994.36 195.298 1994.36 200.529 L1994.36 216.178 L1990.08 216.178 L1990.08 200.668 Q1990.08 196.942 1988.76 195.136 Q1987.44 193.33 1984.73 193.33 Q1981.42 193.33 1979.5 195.53 Q1977.58 197.729 1977.58 201.525 L1977.58 216.178 L1973.3 216.178 L1973.3 200.668 Q1973.3 196.918 1971.98 195.136 Q1970.66 193.33 1967.91 193.33 Q1964.64 193.33 1962.72 195.553 Q1960.8 197.752 1960.8 201.525 L1960.8 216.178 L1956.52 216.178 L1956.52 190.252 L1960.8 190.252 L1960.8 194.28 Q1962.26 191.895 1964.29 190.761 Q1966.33 189.627 1969.13 189.627 Q1971.96 189.627 1973.92 191.062 Q1975.91 192.497 1976.86 195.229 Z\" fill=\"#000000\" fill-rule=\"nonzero\" fill-opacity=\"1\" /><path clip-path=\"url(#clip340)\" d=\"M2014.64 203.145 Q2009.48 203.145 2007.49 204.326 Q2005.5 205.506 2005.5 208.354 Q2005.5 210.622 2006.98 211.965 Q2008.48 213.284 2011.05 213.284 Q2014.59 213.284 2016.72 210.784 Q2018.88 208.261 2018.88 204.094 L2018.88 203.145 L2014.64 203.145 M2023.14 201.386 L2023.14 216.178 L2018.88 216.178 L2018.88 212.242 Q2017.42 214.603 2015.24 215.738 Q2013.07 216.849 2009.92 216.849 Q2005.94 216.849 2003.58 214.627 Q2001.24 212.381 2001.24 208.631 Q2001.24 204.256 2004.15 202.034 Q2007.09 199.812 2012.9 199.812 L2018.88 199.812 L2018.88 199.395 Q2018.88 196.455 2016.93 194.858 Q2015.01 193.238 2011.52 193.238 Q2009.29 193.238 2007.19 193.77 Q2005.08 194.303 2003.14 195.367 L2003.14 191.432 Q2005.47 190.53 2007.67 190.09 Q2009.87 189.627 2011.96 189.627 Q2017.58 189.627 2020.36 192.543 Q2023.14 195.46 2023.14 201.386 Z\" fill=\"#000000\" fill-rule=\"nonzero\" fill-opacity=\"1\" /><path clip-path=\"url(#clip340)\" d=\"M2036.12 182.891 L2036.12 190.252 L2044.9 190.252 L2044.9 193.562 L2036.12 193.562 L2036.12 207.636 Q2036.12 210.807 2036.98 211.71 Q2037.86 212.613 2040.52 212.613 L2044.9 212.613 L2044.9 216.178 L2040.52 216.178 Q2035.59 216.178 2033.71 214.349 Q2031.84 212.497 2031.84 207.636 L2031.84 193.562 L2028.71 193.562 L2028.71 190.252 L2031.84 190.252 L2031.84 182.891 L2036.12 182.891 Z\" fill=\"#000000\" fill-rule=\"nonzero\" fill-opacity=\"1\" /><path clip-path=\"url(#clip340)\" d=\"M2050.5 190.252 L2054.76 190.252 L2054.76 216.178 L2050.5 216.178 L2050.5 190.252 M2050.5 180.159 L2054.76 180.159 L2054.76 185.553 L2050.5 185.553 L2050.5 180.159 Z\" fill=\"#000000\" fill-rule=\"nonzero\" fill-opacity=\"1\" /><path clip-path=\"url(#clip340)\" d=\"M2073.71 193.238 Q2070.29 193.238 2068.3 195.923 Q2066.31 198.585 2066.31 203.238 Q2066.31 207.891 2068.27 210.576 Q2070.27 213.238 2073.71 213.238 Q2077.12 213.238 2079.11 210.553 Q2081.1 207.867 2081.1 203.238 Q2081.1 198.631 2079.11 195.946 Q2077.12 193.238 2073.71 193.238 M2073.71 189.627 Q2079.27 189.627 2082.44 193.238 Q2085.61 196.849 2085.61 203.238 Q2085.61 209.604 2082.44 213.238 Q2079.27 216.849 2073.71 216.849 Q2068.14 216.849 2064.96 213.238 Q2061.82 209.604 2061.82 203.238 Q2061.82 196.849 2064.96 193.238 Q2068.14 189.627 2073.71 189.627 Z\" fill=\"#000000\" fill-rule=\"nonzero\" fill-opacity=\"1\" /><path clip-path=\"url(#clip340)\" d=\"M2114.22 200.529 L2114.22 216.178 L2109.96 216.178 L2109.96 200.668 Q2109.96 196.988 2108.53 195.159 Q2107.09 193.33 2104.22 193.33 Q2100.77 193.33 2098.78 195.53 Q2096.79 197.729 2096.79 201.525 L2096.79 216.178 L2092.51 216.178 L2092.51 190.252 L2096.79 190.252 L2096.79 194.28 Q2098.32 191.942 2100.38 190.784 Q2102.46 189.627 2105.17 189.627 Q2109.64 189.627 2111.93 192.405 Q2114.22 195.159 2114.22 200.529 Z\" fill=\"#000000\" fill-rule=\"nonzero\" fill-opacity=\"1\" /><path clip-path=\"url(#clip340)\" d=\"M2154.36 199.974 Q2155.87 200.483 2157.28 202.15 Q2158.71 203.817 2160.15 206.733 L2164.89 216.178 L2159.87 216.178 L2155.45 207.312 Q2153.74 203.84 2152.12 202.705 Q2150.52 201.571 2147.74 201.571 L2142.65 201.571 L2142.65 216.178 L2137.97 216.178 L2137.97 181.618 L2148.53 181.618 Q2154.45 181.618 2157.37 184.094 Q2160.29 186.571 2160.29 191.571 Q2160.29 194.835 2158.76 196.988 Q2157.26 199.141 2154.36 199.974 M2142.65 185.46 L2142.65 197.729 L2148.53 197.729 Q2151.91 197.729 2153.62 196.178 Q2155.36 194.604 2155.36 191.571 Q2155.36 188.539 2153.62 187.011 Q2151.91 185.46 2148.53 185.46 L2142.65 185.46 Z\" fill=\"#000000\" fill-rule=\"nonzero\" fill-opacity=\"1\" /><path clip-path=\"url(#clip340)\" d=\"M2170.91 181.618 L2175.59 181.618 L2175.59 196.224 L2191.1 181.618 L2197.12 181.618 L2179.96 197.729 L2198.34 216.178 L2192.19 216.178 L2175.59 199.534 L2175.59 216.178 L2170.91 216.178 L2170.91 181.618 Z\" fill=\"#000000\" fill-rule=\"nonzero\" fill-opacity=\"1\" /><path clip-path=\"url(#clip340)\" d=\"M2215.26 185.692 L2203.46 204.141 L2215.26 204.141 L2215.26 185.692 M2214.04 181.618 L2219.92 181.618 L2219.92 204.141 L2224.85 204.141 L2224.85 208.029 L2219.92 208.029 L2219.92 216.178 L2215.26 216.178 L2215.26 208.029 L2199.66 208.029 L2199.66 203.516 L2214.04 181.618 Z\" fill=\"#000000\" fill-rule=\"nonzero\" fill-opacity=\"1\" /><circle clip-path=\"url(#clip340)\" cx=\"1705.23\" cy=\"250.738\" r=\"20.48\" fill=\"#3da44d\" fill-rule=\"evenodd\" fill-opacity=\"1\" stroke=\"#000000\" stroke-opacity=\"1\" stroke-width=\"4.55111\"/>\n",
       "<path clip-path=\"url(#clip340)\" d=\"M1818.67 238.064 L1812.33 255.263 L1825.04 255.263 L1818.67 238.064 M1816.03 233.458 L1821.33 233.458 L1834.5 268.018 L1829.64 268.018 L1826.49 259.152 L1810.92 259.152 L1807.77 268.018 L1802.84 268.018 L1816.03 233.458 Z\" fill=\"#000000\" fill-rule=\"nonzero\" fill-opacity=\"1\" /><path clip-path=\"url(#clip340)\" d=\"M1843.48 264.129 L1843.48 277.879 L1839.2 277.879 L1839.2 242.092 L1843.48 242.092 L1843.48 246.027 Q1844.83 243.712 1846.86 242.601 Q1848.92 241.467 1851.77 241.467 Q1856.49 241.467 1859.43 245.217 Q1862.4 248.967 1862.4 255.078 Q1862.4 261.189 1859.43 264.939 Q1856.49 268.689 1851.77 268.689 Q1848.92 268.689 1846.86 267.578 Q1844.83 266.443 1843.48 264.129 M1857.98 255.078 Q1857.98 250.379 1856.03 247.717 Q1854.11 245.032 1850.73 245.032 Q1847.35 245.032 1845.41 247.717 Q1843.48 250.379 1843.48 255.078 Q1843.48 259.777 1845.41 262.462 Q1847.35 265.124 1850.73 265.124 Q1854.11 265.124 1856.03 262.462 Q1857.98 259.777 1857.98 255.078 Z\" fill=\"#000000\" fill-rule=\"nonzero\" fill-opacity=\"1\" /><path clip-path=\"url(#clip340)\" d=\"M1884.48 246.073 Q1883.76 245.657 1882.91 245.471 Q1882.07 245.263 1881.05 245.263 Q1877.44 245.263 1875.5 247.624 Q1873.58 249.962 1873.58 254.36 L1873.58 268.018 L1869.29 268.018 L1869.29 242.092 L1873.58 242.092 L1873.58 246.12 Q1874.92 243.758 1877.07 242.624 Q1879.22 241.467 1882.3 241.467 Q1882.74 241.467 1883.28 241.536 Q1883.81 241.583 1884.46 241.698 L1884.48 246.073 Z\" fill=\"#000000\" fill-rule=\"nonzero\" fill-opacity=\"1\" /><path clip-path=\"url(#clip340)\" d=\"M1897.95 245.078 Q1894.53 245.078 1892.54 247.763 Q1890.54 250.425 1890.54 255.078 Q1890.54 259.731 1892.51 262.416 Q1894.5 265.078 1897.95 265.078 Q1901.35 265.078 1903.35 262.393 Q1905.34 259.707 1905.34 255.078 Q1905.34 250.471 1903.35 247.786 Q1901.35 245.078 1897.95 245.078 M1897.95 241.467 Q1903.51 241.467 1906.68 245.078 Q1909.85 248.689 1909.85 255.078 Q1909.85 261.444 1906.68 265.078 Q1903.51 268.689 1897.95 268.689 Q1892.37 268.689 1889.2 265.078 Q1886.05 261.444 1886.05 255.078 Q1886.05 248.689 1889.2 245.078 Q1892.37 241.467 1897.95 241.467 Z\" fill=\"#000000\" fill-rule=\"nonzero\" fill-opacity=\"1\" /><path clip-path=\"url(#clip340)\" d=\"M1937 242.092 L1927.63 254.707 L1937.49 268.018 L1932.47 268.018 L1924.92 257.832 L1917.37 268.018 L1912.35 268.018 L1922.42 254.453 L1913.21 242.092 L1918.23 242.092 L1925.1 251.328 L1931.98 242.092 L1937 242.092 Z\" fill=\"#000000\" fill-rule=\"nonzero\" fill-opacity=\"1\" /><path clip-path=\"url(#clip340)\" d=\"M1943.51 242.092 L1947.77 242.092 L1947.77 268.018 L1943.51 268.018 L1943.51 242.092 M1943.51 231.999 L1947.77 231.999 L1947.77 237.393 L1943.51 237.393 L1943.51 231.999 Z\" fill=\"#000000\" fill-rule=\"nonzero\" fill-opacity=\"1\" /><path clip-path=\"url(#clip340)\" d=\"M1976.86 247.069 Q1978.46 244.198 1980.68 242.833 Q1982.9 241.467 1985.91 241.467 Q1989.97 241.467 1992.16 244.314 Q1994.36 247.138 1994.36 252.369 L1994.36 268.018 L1990.08 268.018 L1990.08 252.508 Q1990.08 248.782 1988.76 246.976 Q1987.44 245.17 1984.73 245.17 Q1981.42 245.17 1979.5 247.37 Q1977.58 249.569 1977.58 253.365 L1977.58 268.018 L1973.3 268.018 L1973.3 252.508 Q1973.3 248.758 1971.98 246.976 Q1970.66 245.17 1967.91 245.17 Q1964.64 245.17 1962.72 247.393 Q1960.8 249.592 1960.8 253.365 L1960.8 268.018 L1956.52 268.018 L1956.52 242.092 L1960.8 242.092 L1960.8 246.12 Q1962.26 243.735 1964.29 242.601 Q1966.33 241.467 1969.13 241.467 Q1971.96 241.467 1973.92 242.902 Q1975.91 244.337 1976.86 247.069 Z\" fill=\"#000000\" fill-rule=\"nonzero\" fill-opacity=\"1\" /><path clip-path=\"url(#clip340)\" d=\"M2014.64 254.985 Q2009.48 254.985 2007.49 256.166 Q2005.5 257.346 2005.5 260.194 Q2005.5 262.462 2006.98 263.805 Q2008.48 265.124 2011.05 265.124 Q2014.59 265.124 2016.72 262.624 Q2018.88 260.101 2018.88 255.934 L2018.88 254.985 L2014.64 254.985 M2023.14 253.226 L2023.14 268.018 L2018.88 268.018 L2018.88 264.082 Q2017.42 266.443 2015.24 267.578 Q2013.07 268.689 2009.92 268.689 Q2005.94 268.689 2003.58 266.467 Q2001.24 264.221 2001.24 260.471 Q2001.24 256.096 2004.15 253.874 Q2007.09 251.652 2012.9 251.652 L2018.88 251.652 L2018.88 251.235 Q2018.88 248.295 2016.93 246.698 Q2015.01 245.078 2011.52 245.078 Q2009.29 245.078 2007.19 245.61 Q2005.08 246.143 2003.14 247.207 L2003.14 243.272 Q2005.47 242.37 2007.67 241.93 Q2009.87 241.467 2011.96 241.467 Q2017.58 241.467 2020.36 244.383 Q2023.14 247.3 2023.14 253.226 Z\" fill=\"#000000\" fill-rule=\"nonzero\" fill-opacity=\"1\" /><path clip-path=\"url(#clip340)\" d=\"M2036.12 234.731 L2036.12 242.092 L2044.9 242.092 L2044.9 245.402 L2036.12 245.402 L2036.12 259.476 Q2036.12 262.647 2036.98 263.55 Q2037.86 264.453 2040.52 264.453 L2044.9 264.453 L2044.9 268.018 L2040.52 268.018 Q2035.59 268.018 2033.71 266.189 Q2031.84 264.337 2031.84 259.476 L2031.84 245.402 L2028.71 245.402 L2028.71 242.092 L2031.84 242.092 L2031.84 234.731 L2036.12 234.731 Z\" fill=\"#000000\" fill-rule=\"nonzero\" fill-opacity=\"1\" /><path clip-path=\"url(#clip340)\" d=\"M2050.5 242.092 L2054.76 242.092 L2054.76 268.018 L2050.5 268.018 L2050.5 242.092 M2050.5 231.999 L2054.76 231.999 L2054.76 237.393 L2050.5 237.393 L2050.5 231.999 Z\" fill=\"#000000\" fill-rule=\"nonzero\" fill-opacity=\"1\" /><path clip-path=\"url(#clip340)\" d=\"M2073.71 245.078 Q2070.29 245.078 2068.3 247.763 Q2066.31 250.425 2066.31 255.078 Q2066.31 259.731 2068.27 262.416 Q2070.27 265.078 2073.71 265.078 Q2077.12 265.078 2079.11 262.393 Q2081.1 259.707 2081.1 255.078 Q2081.1 250.471 2079.11 247.786 Q2077.12 245.078 2073.71 245.078 M2073.71 241.467 Q2079.27 241.467 2082.44 245.078 Q2085.61 248.689 2085.61 255.078 Q2085.61 261.444 2082.44 265.078 Q2079.27 268.689 2073.71 268.689 Q2068.14 268.689 2064.96 265.078 Q2061.82 261.444 2061.82 255.078 Q2061.82 248.689 2064.96 245.078 Q2068.14 241.467 2073.71 241.467 Z\" fill=\"#000000\" fill-rule=\"nonzero\" fill-opacity=\"1\" /><path clip-path=\"url(#clip340)\" d=\"M2114.22 252.369 L2114.22 268.018 L2109.96 268.018 L2109.96 252.508 Q2109.96 248.828 2108.53 246.999 Q2107.09 245.17 2104.22 245.17 Q2100.77 245.17 2098.78 247.37 Q2096.79 249.569 2096.79 253.365 L2096.79 268.018 L2092.51 268.018 L2092.51 242.092 L2096.79 242.092 L2096.79 246.12 Q2098.32 243.782 2100.38 242.624 Q2102.46 241.467 2105.17 241.467 Q2109.64 241.467 2111.93 244.245 Q2114.22 246.999 2114.22 252.369 Z\" fill=\"#000000\" fill-rule=\"nonzero\" fill-opacity=\"1\" /><path clip-path=\"url(#clip340)\" d=\"M2154.36 251.814 Q2155.87 252.323 2157.28 253.99 Q2158.71 255.657 2160.15 258.573 L2164.89 268.018 L2159.87 268.018 L2155.45 259.152 Q2153.74 255.68 2152.12 254.545 Q2150.52 253.411 2147.74 253.411 L2142.65 253.411 L2142.65 268.018 L2137.97 268.018 L2137.97 233.458 L2148.53 233.458 Q2154.45 233.458 2157.37 235.934 Q2160.29 238.411 2160.29 243.411 Q2160.29 246.675 2158.76 248.828 Q2157.26 250.981 2154.36 251.814 M2142.65 237.3 L2142.65 249.569 L2148.53 249.569 Q2151.91 249.569 2153.62 248.018 Q2155.36 246.444 2155.36 243.411 Q2155.36 240.379 2153.62 238.851 Q2151.91 237.3 2148.53 237.3 L2142.65 237.3 Z\" fill=\"#000000\" fill-rule=\"nonzero\" fill-opacity=\"1\" /><path clip-path=\"url(#clip340)\" d=\"M2170.91 233.458 L2175.59 233.458 L2175.59 248.064 L2191.1 233.458 L2197.12 233.458 L2179.96 249.569 L2198.34 268.018 L2192.19 268.018 L2175.59 251.374 L2175.59 268.018 L2170.91 268.018 L2170.91 233.458 Z\" fill=\"#000000\" fill-rule=\"nonzero\" fill-opacity=\"1\" /><path clip-path=\"url(#clip340)\" d=\"M2206.45 264.082 L2222.76 264.082 L2222.76 268.018 L2200.82 268.018 L2200.82 264.082 Q2203.48 261.328 2208.07 256.698 Q2212.67 252.045 2213.85 250.703 Q2216.1 248.18 2216.98 246.444 Q2217.88 244.684 2217.88 242.995 Q2217.88 240.24 2215.94 238.504 Q2214.01 236.768 2210.91 236.768 Q2208.71 236.768 2206.26 237.532 Q2203.83 238.295 2201.05 239.846 L2201.05 235.124 Q2203.88 233.99 2206.33 233.411 Q2208.78 232.833 2210.82 232.833 Q2216.19 232.833 2219.39 235.518 Q2222.58 238.203 2222.58 242.694 Q2222.58 244.823 2221.77 246.745 Q2220.98 248.643 2218.88 251.235 Q2218.3 251.907 2215.2 255.124 Q2212.09 258.319 2206.45 264.082 Z\" fill=\"#000000\" fill-rule=\"nonzero\" fill-opacity=\"1\" /><polyline clip-path=\"url(#clip340)\" style=\"stroke:#c271d2; stroke-linecap:round; stroke-linejoin:round; stroke-width:4; stroke-opacity:1; fill:none\" points=\"1632.02,302.578 1778.43,302.578 \"/>\n",
       "<path clip-path=\"url(#clip340)\" d=\"M1802.84 285.298 L1822.7 285.298 L1822.7 289.233 L1807.51 289.233 L1807.51 299.418 L1821.22 299.418 L1821.22 303.353 L1807.51 303.353 L1807.51 319.858 L1802.84 319.858 L1802.84 285.298 Z\" fill=\"#000000\" fill-rule=\"nonzero\" fill-opacity=\"1\" /><path clip-path=\"url(#clip340)\" d=\"M1826.89 309.626 L1826.89 293.932 L1831.15 293.932 L1831.15 309.464 Q1831.15 313.145 1832.58 314.996 Q1834.02 316.825 1836.89 316.825 Q1840.34 316.825 1842.33 314.626 Q1844.34 312.427 1844.34 308.631 L1844.34 293.932 L1848.6 293.932 L1848.6 319.858 L1844.34 319.858 L1844.34 315.876 Q1842.79 318.237 1840.73 319.395 Q1838.69 320.529 1835.98 320.529 Q1831.52 320.529 1829.2 317.751 Q1826.89 314.973 1826.89 309.626 M1837.6 293.307 L1837.6 293.307 Z\" fill=\"#000000\" fill-rule=\"nonzero\" fill-opacity=\"1\" /><path clip-path=\"url(#clip340)\" d=\"M1878.92 304.209 L1878.92 319.858 L1874.66 319.858 L1874.66 304.348 Q1874.66 300.668 1873.23 298.839 Q1871.79 297.01 1868.92 297.01 Q1865.48 297.01 1863.48 299.21 Q1861.49 301.409 1861.49 305.205 L1861.49 319.858 L1857.21 319.858 L1857.21 293.932 L1861.49 293.932 L1861.49 297.96 Q1863.02 295.622 1865.08 294.464 Q1867.16 293.307 1869.87 293.307 Q1874.34 293.307 1876.63 296.085 Q1878.92 298.839 1878.92 304.209 Z\" fill=\"#000000\" fill-rule=\"nonzero\" fill-opacity=\"1\" /><path clip-path=\"url(#clip340)\" d=\"M1906.08 294.927 L1906.08 298.909 Q1904.27 297.913 1902.44 297.427 Q1900.64 296.918 1898.79 296.918 Q1894.64 296.918 1892.35 299.557 Q1890.06 302.172 1890.06 306.918 Q1890.06 311.663 1892.35 314.302 Q1894.64 316.918 1898.79 316.918 Q1900.64 316.918 1902.44 316.432 Q1904.27 315.922 1906.08 314.927 L1906.08 318.862 Q1904.29 319.696 1902.37 320.112 Q1900.47 320.529 1898.32 320.529 Q1892.47 320.529 1889.02 316.848 Q1885.57 313.168 1885.57 306.918 Q1885.57 300.575 1889.04 296.941 Q1892.54 293.307 1898.6 293.307 Q1900.57 293.307 1902.44 293.723 Q1904.32 294.117 1906.08 294.927 Z\" fill=\"#000000\" fill-rule=\"nonzero\" fill-opacity=\"1\" /><path clip-path=\"url(#clip340)\" d=\"M1917.7 286.571 L1917.7 293.932 L1926.47 293.932 L1926.47 297.242 L1917.7 297.242 L1917.7 311.316 Q1917.7 314.487 1918.55 315.39 Q1919.43 316.293 1922.1 316.293 L1926.47 316.293 L1926.47 319.858 L1922.1 319.858 Q1917.16 319.858 1915.29 318.029 Q1913.41 316.177 1913.41 311.316 L1913.41 297.242 L1910.29 297.242 L1910.29 293.932 L1913.41 293.932 L1913.41 286.571 L1917.7 286.571 Z\" fill=\"#000000\" fill-rule=\"nonzero\" fill-opacity=\"1\" /><path clip-path=\"url(#clip340)\" d=\"M1932.07 293.932 L1936.33 293.932 L1936.33 319.858 L1932.07 319.858 L1932.07 293.932 M1932.07 283.839 L1936.33 283.839 L1936.33 289.233 L1932.07 289.233 L1932.07 283.839 Z\" fill=\"#000000\" fill-rule=\"nonzero\" fill-opacity=\"1\" /><path clip-path=\"url(#clip340)\" d=\"M1955.29 296.918 Q1951.86 296.918 1949.87 299.603 Q1947.88 302.265 1947.88 306.918 Q1947.88 311.571 1949.85 314.256 Q1951.84 316.918 1955.29 316.918 Q1958.69 316.918 1960.68 314.233 Q1962.67 311.547 1962.67 306.918 Q1962.67 302.311 1960.68 299.626 Q1958.69 296.918 1955.29 296.918 M1955.29 293.307 Q1960.84 293.307 1964.02 296.918 Q1967.19 300.529 1967.19 306.918 Q1967.19 313.284 1964.02 316.918 Q1960.84 320.529 1955.29 320.529 Q1949.71 320.529 1946.54 316.918 Q1943.39 313.284 1943.39 306.918 Q1943.39 300.529 1946.54 296.918 Q1949.71 293.307 1955.29 293.307 Z\" fill=\"#000000\" fill-rule=\"nonzero\" fill-opacity=\"1\" /><path clip-path=\"url(#clip340)\" d=\"M1995.8 304.209 L1995.8 319.858 L1991.54 319.858 L1991.54 304.348 Q1991.54 300.668 1990.1 298.839 Q1988.67 297.01 1985.8 297.01 Q1982.35 297.01 1980.36 299.21 Q1978.37 301.409 1978.37 305.205 L1978.37 319.858 L1974.09 319.858 L1974.09 293.932 L1978.37 293.932 L1978.37 297.96 Q1979.9 295.622 1981.96 294.464 Q1984.04 293.307 1986.75 293.307 Q1991.22 293.307 1993.51 296.085 Q1995.8 298.839 1995.8 304.209 Z\" fill=\"#000000\" fill-rule=\"nonzero\" fill-opacity=\"1\" /></svg>\n"
      ]
     },
     "execution_count": 85,
     "metadata": {},
     "output_type": "execute_result"
    }
   ],
   "source": [
    "scatter(t_e,w_e,label = \"Aproximation Euler\")\n",
    "scatter!(t_RK4,w_RK4,label = \"Aproximation RK4\")\n",
    "scatter!(t_RK2,w_RK2,label = \"Aproximation RK2\")\n",
    "plot!(0:0.01:1,y, label = \"Function\")"
   ]
  },
  {
   "cell_type": "code",
   "execution_count": 87,
   "metadata": {},
   "outputs": [
    {
     "data": {
      "image/svg+xml": [
       "<?xml version=\"1.0\" encoding=\"utf-8\"?>\n",
       "<svg xmlns=\"http://www.w3.org/2000/svg\" xmlns:xlink=\"http://www.w3.org/1999/xlink\" width=\"600\" height=\"400\" viewBox=\"0 0 2400 1600\">\n",
       "<defs>\n",
       "  <clipPath id=\"clip420\">\n",
       "    <rect x=\"0\" y=\"0\" width=\"2400\" height=\"1600\"/>\n",
       "  </clipPath>\n",
       "</defs>\n",
       "<path clip-path=\"url(#clip420)\" d=\"M0 1600 L2400 1600 L2400 0 L0 0  Z\" fill=\"#ffffff\" fill-rule=\"evenodd\" fill-opacity=\"1\"/>\n",
       "<defs>\n",
       "  <clipPath id=\"clip421\">\n",
       "    <rect x=\"480\" y=\"0\" width=\"1681\" height=\"1600\"/>\n",
       "  </clipPath>\n",
       "</defs>\n",
       "<path clip-path=\"url(#clip420)\" d=\"M186.76 1486.45 L2352.76 1486.45 L2352.76 47.2441 L186.76 47.2441  Z\" fill=\"#ffffff\" fill-rule=\"evenodd\" fill-opacity=\"1\"/>\n",
       "<defs>\n",
       "  <clipPath id=\"clip422\">\n",
       "    <rect x=\"186\" y=\"47\" width=\"2167\" height=\"1440\"/>\n",
       "  </clipPath>\n",
       "</defs>\n",
       "<polyline clip-path=\"url(#clip422)\" style=\"stroke:#000000; stroke-linecap:round; stroke-linejoin:round; stroke-width:2; stroke-opacity:0.1; fill:none\" points=\"248.062,1486.45 248.062,47.2441 \"/>\n",
       "<polyline clip-path=\"url(#clip422)\" style=\"stroke:#000000; stroke-linecap:round; stroke-linejoin:round; stroke-width:2; stroke-opacity:0.1; fill:none\" points=\"678.25,1486.45 678.25,47.2441 \"/>\n",
       "<polyline clip-path=\"url(#clip422)\" style=\"stroke:#000000; stroke-linecap:round; stroke-linejoin:round; stroke-width:2; stroke-opacity:0.1; fill:none\" points=\"1108.44,1486.45 1108.44,47.2441 \"/>\n",
       "<polyline clip-path=\"url(#clip422)\" style=\"stroke:#000000; stroke-linecap:round; stroke-linejoin:round; stroke-width:2; stroke-opacity:0.1; fill:none\" points=\"1538.63,1486.45 1538.63,47.2441 \"/>\n",
       "<polyline clip-path=\"url(#clip422)\" style=\"stroke:#000000; stroke-linecap:round; stroke-linejoin:round; stroke-width:2; stroke-opacity:0.1; fill:none\" points=\"1968.81,1486.45 1968.81,47.2441 \"/>\n",
       "<polyline clip-path=\"url(#clip420)\" style=\"stroke:#000000; stroke-linecap:round; stroke-linejoin:round; stroke-width:4; stroke-opacity:1; fill:none\" points=\"186.76,1486.45 2352.76,1486.45 \"/>\n",
       "<polyline clip-path=\"url(#clip420)\" style=\"stroke:#000000; stroke-linecap:round; stroke-linejoin:round; stroke-width:4; stroke-opacity:1; fill:none\" points=\"248.062,1486.45 248.062,1467.55 \"/>\n",
       "<polyline clip-path=\"url(#clip420)\" style=\"stroke:#000000; stroke-linecap:round; stroke-linejoin:round; stroke-width:4; stroke-opacity:1; fill:none\" points=\"678.25,1486.45 678.25,1467.55 \"/>\n",
       "<polyline clip-path=\"url(#clip420)\" style=\"stroke:#000000; stroke-linecap:round; stroke-linejoin:round; stroke-width:4; stroke-opacity:1; fill:none\" points=\"1108.44,1486.45 1108.44,1467.55 \"/>\n",
       "<polyline clip-path=\"url(#clip420)\" style=\"stroke:#000000; stroke-linecap:round; stroke-linejoin:round; stroke-width:4; stroke-opacity:1; fill:none\" points=\"1538.63,1486.45 1538.63,1467.55 \"/>\n",
       "<polyline clip-path=\"url(#clip420)\" style=\"stroke:#000000; stroke-linecap:round; stroke-linejoin:round; stroke-width:4; stroke-opacity:1; fill:none\" points=\"1968.81,1486.45 1968.81,1467.55 \"/>\n",
       "<path clip-path=\"url(#clip420)\" d=\"M225.446 1517.37 Q221.835 1517.37 220.006 1520.93 Q218.201 1524.47 218.201 1531.6 Q218.201 1538.71 220.006 1542.27 Q221.835 1545.82 225.446 1545.82 Q229.08 1545.82 230.886 1542.27 Q232.715 1538.71 232.715 1531.6 Q232.715 1524.47 230.886 1520.93 Q229.08 1517.37 225.446 1517.37 M225.446 1513.66 Q231.256 1513.66 234.312 1518.27 Q237.391 1522.85 237.391 1531.6 Q237.391 1540.33 234.312 1544.94 Q231.256 1549.52 225.446 1549.52 Q219.636 1549.52 216.557 1544.94 Q213.502 1540.33 213.502 1531.6 Q213.502 1522.85 216.557 1518.27 Q219.636 1513.66 225.446 1513.66 Z\" fill=\"#000000\" fill-rule=\"nonzero\" fill-opacity=\"1\" /><path clip-path=\"url(#clip420)\" d=\"M245.608 1542.97 L250.492 1542.97 L250.492 1548.85 L245.608 1548.85 L245.608 1542.97 Z\" fill=\"#000000\" fill-rule=\"nonzero\" fill-opacity=\"1\" /><path clip-path=\"url(#clip420)\" d=\"M270.677 1517.37 Q267.066 1517.37 265.238 1520.93 Q263.432 1524.47 263.432 1531.6 Q263.432 1538.71 265.238 1542.27 Q267.066 1545.82 270.677 1545.82 Q274.312 1545.82 276.117 1542.27 Q277.946 1538.71 277.946 1531.6 Q277.946 1524.47 276.117 1520.93 Q274.312 1517.37 270.677 1517.37 M270.677 1513.66 Q276.488 1513.66 279.543 1518.27 Q282.622 1522.85 282.622 1531.6 Q282.622 1540.33 279.543 1544.94 Q276.488 1549.52 270.677 1549.52 Q264.867 1549.52 261.789 1544.94 Q258.733 1540.33 258.733 1531.6 Q258.733 1522.85 261.789 1518.27 Q264.867 1513.66 270.677 1513.66 Z\" fill=\"#000000\" fill-rule=\"nonzero\" fill-opacity=\"1\" /><path clip-path=\"url(#clip420)\" d=\"M656.433 1517.37 Q652.822 1517.37 650.993 1520.93 Q649.187 1524.47 649.187 1531.6 Q649.187 1538.71 650.993 1542.27 Q652.822 1545.82 656.433 1545.82 Q660.067 1545.82 661.872 1542.27 Q663.701 1538.71 663.701 1531.6 Q663.701 1524.47 661.872 1520.93 Q660.067 1517.37 656.433 1517.37 M656.433 1513.66 Q662.243 1513.66 665.298 1518.27 Q668.377 1522.85 668.377 1531.6 Q668.377 1540.33 665.298 1544.94 Q662.243 1549.52 656.433 1549.52 Q650.623 1549.52 647.544 1544.94 Q644.488 1540.33 644.488 1531.6 Q644.488 1522.85 647.544 1518.27 Q650.623 1513.66 656.433 1513.66 Z\" fill=\"#000000\" fill-rule=\"nonzero\" fill-opacity=\"1\" /><path clip-path=\"url(#clip420)\" d=\"M676.595 1542.97 L681.479 1542.97 L681.479 1548.85 L676.595 1548.85 L676.595 1542.97 Z\" fill=\"#000000\" fill-rule=\"nonzero\" fill-opacity=\"1\" /><path clip-path=\"url(#clip420)\" d=\"M695.692 1544.91 L712.011 1544.91 L712.011 1548.85 L690.067 1548.85 L690.067 1544.91 Q692.729 1542.16 697.312 1537.53 Q701.919 1532.88 703.099 1531.53 Q705.344 1529.01 706.224 1527.27 Q707.127 1525.51 707.127 1523.82 Q707.127 1521.07 705.182 1519.33 Q703.261 1517.6 700.159 1517.6 Q697.96 1517.6 695.507 1518.36 Q693.076 1519.13 690.298 1520.68 L690.298 1515.95 Q693.122 1514.82 695.576 1514.24 Q698.03 1513.66 700.067 1513.66 Q705.437 1513.66 708.632 1516.35 Q711.826 1519.03 711.826 1523.52 Q711.826 1525.65 711.016 1527.57 Q710.229 1529.47 708.122 1532.07 Q707.544 1532.74 704.442 1535.95 Q701.34 1539.15 695.692 1544.91 Z\" fill=\"#000000\" fill-rule=\"nonzero\" fill-opacity=\"1\" /><path clip-path=\"url(#clip420)\" d=\"M1085.58 1517.37 Q1081.97 1517.37 1080.14 1520.93 Q1078.33 1524.47 1078.33 1531.6 Q1078.33 1538.71 1080.14 1542.27 Q1081.97 1545.82 1085.58 1545.82 Q1089.21 1545.82 1091.02 1542.27 Q1092.85 1538.71 1092.85 1531.6 Q1092.85 1524.47 1091.02 1520.93 Q1089.21 1517.37 1085.58 1517.37 M1085.58 1513.66 Q1091.39 1513.66 1094.44 1518.27 Q1097.52 1522.85 1097.52 1531.6 Q1097.52 1540.33 1094.44 1544.94 Q1091.39 1549.52 1085.58 1549.52 Q1079.77 1549.52 1076.69 1544.94 Q1073.63 1540.33 1073.63 1531.6 Q1073.63 1522.85 1076.69 1518.27 Q1079.77 1513.66 1085.58 1513.66 Z\" fill=\"#000000\" fill-rule=\"nonzero\" fill-opacity=\"1\" /><path clip-path=\"url(#clip420)\" d=\"M1105.74 1542.97 L1110.63 1542.97 L1110.63 1548.85 L1105.74 1548.85 L1105.74 1542.97 Z\" fill=\"#000000\" fill-rule=\"nonzero\" fill-opacity=\"1\" /><path clip-path=\"url(#clip420)\" d=\"M1133.66 1518.36 L1121.85 1536.81 L1133.66 1536.81 L1133.66 1518.36 M1132.43 1514.29 L1138.31 1514.29 L1138.31 1536.81 L1143.24 1536.81 L1143.24 1540.7 L1138.31 1540.7 L1138.31 1548.85 L1133.66 1548.85 L1133.66 1540.7 L1118.06 1540.7 L1118.06 1536.19 L1132.43 1514.29 Z\" fill=\"#000000\" fill-rule=\"nonzero\" fill-opacity=\"1\" /><path clip-path=\"url(#clip420)\" d=\"M1515.93 1517.37 Q1512.32 1517.37 1510.49 1520.93 Q1508.68 1524.47 1508.68 1531.6 Q1508.68 1538.71 1510.49 1542.27 Q1512.32 1545.82 1515.93 1545.82 Q1519.56 1545.82 1521.37 1542.27 Q1523.2 1538.71 1523.2 1531.6 Q1523.2 1524.47 1521.37 1520.93 Q1519.56 1517.37 1515.93 1517.37 M1515.93 1513.66 Q1521.74 1513.66 1524.79 1518.27 Q1527.87 1522.85 1527.87 1531.6 Q1527.87 1540.33 1524.79 1544.94 Q1521.74 1549.52 1515.93 1549.52 Q1510.12 1549.52 1507.04 1544.94 Q1503.98 1540.33 1503.98 1531.6 Q1503.98 1522.85 1507.04 1518.27 Q1510.12 1513.66 1515.93 1513.66 Z\" fill=\"#000000\" fill-rule=\"nonzero\" fill-opacity=\"1\" /><path clip-path=\"url(#clip420)\" d=\"M1536.09 1542.97 L1540.97 1542.97 L1540.97 1548.85 L1536.09 1548.85 L1536.09 1542.97 Z\" fill=\"#000000\" fill-rule=\"nonzero\" fill-opacity=\"1\" /><path clip-path=\"url(#clip420)\" d=\"M1561.74 1529.7 Q1558.59 1529.7 1556.74 1531.86 Q1554.91 1534.01 1554.91 1537.76 Q1554.91 1541.49 1556.74 1543.66 Q1558.59 1545.82 1561.74 1545.82 Q1564.89 1545.82 1566.72 1543.66 Q1568.57 1541.49 1568.57 1537.76 Q1568.57 1534.01 1566.72 1531.86 Q1564.89 1529.7 1561.74 1529.7 M1571.02 1515.05 L1571.02 1519.31 Q1569.26 1518.48 1567.46 1518.04 Q1565.67 1517.6 1563.91 1517.6 Q1559.29 1517.6 1556.83 1520.72 Q1554.4 1523.85 1554.05 1530.17 Q1555.42 1528.15 1557.48 1527.09 Q1559.54 1526 1562.02 1526 Q1567.22 1526 1570.23 1529.17 Q1573.27 1532.32 1573.27 1537.76 Q1573.27 1543.08 1570.12 1546.3 Q1566.97 1549.52 1561.74 1549.52 Q1555.74 1549.52 1552.57 1544.94 Q1549.4 1540.33 1549.4 1531.6 Q1549.4 1523.41 1553.29 1518.55 Q1557.18 1513.66 1563.73 1513.66 Q1565.49 1513.66 1567.27 1514.01 Q1569.08 1514.36 1571.02 1515.05 Z\" fill=\"#000000\" fill-rule=\"nonzero\" fill-opacity=\"1\" /><path clip-path=\"url(#clip420)\" d=\"M1946.24 1517.37 Q1942.63 1517.37 1940.8 1520.93 Q1939 1524.47 1939 1531.6 Q1939 1538.71 1940.8 1542.27 Q1942.63 1545.82 1946.24 1545.82 Q1949.88 1545.82 1951.68 1542.27 Q1953.51 1538.71 1953.51 1531.6 Q1953.51 1524.47 1951.68 1520.93 Q1949.88 1517.37 1946.24 1517.37 M1946.24 1513.66 Q1952.05 1513.66 1955.11 1518.27 Q1958.19 1522.85 1958.19 1531.6 Q1958.19 1540.33 1955.11 1544.94 Q1952.05 1549.52 1946.24 1549.52 Q1940.43 1549.52 1937.36 1544.94 Q1934.3 1540.33 1934.3 1531.6 Q1934.3 1522.85 1937.36 1518.27 Q1940.43 1513.66 1946.24 1513.66 Z\" fill=\"#000000\" fill-rule=\"nonzero\" fill-opacity=\"1\" /><path clip-path=\"url(#clip420)\" d=\"M1966.41 1542.97 L1971.29 1542.97 L1971.29 1548.85 L1966.41 1548.85 L1966.41 1542.97 Z\" fill=\"#000000\" fill-rule=\"nonzero\" fill-opacity=\"1\" /><path clip-path=\"url(#clip420)\" d=\"M1991.48 1532.44 Q1988.14 1532.44 1986.22 1534.22 Q1984.32 1536 1984.32 1539.13 Q1984.32 1542.25 1986.22 1544.03 Q1988.14 1545.82 1991.48 1545.82 Q1994.81 1545.82 1996.73 1544.03 Q1998.65 1542.23 1998.65 1539.13 Q1998.65 1536 1996.73 1534.22 Q1994.83 1532.44 1991.48 1532.44 M1986.8 1530.45 Q1983.79 1529.7 1982.1 1527.64 Q1980.43 1525.58 1980.43 1522.62 Q1980.43 1518.48 1983.37 1516.07 Q1986.34 1513.66 1991.48 1513.66 Q1996.64 1513.66 1999.58 1516.07 Q2002.52 1518.48 2002.52 1522.62 Q2002.52 1525.58 2000.83 1527.64 Q1999.16 1529.7 1996.17 1530.45 Q1999.55 1531.23 2001.43 1533.52 Q2003.33 1535.82 2003.33 1539.13 Q2003.33 1544.15 2000.25 1546.83 Q1997.19 1549.52 1991.48 1549.52 Q1985.76 1549.52 1982.68 1546.83 Q1979.62 1544.15 1979.62 1539.13 Q1979.62 1535.82 1981.52 1533.52 Q1983.42 1531.23 1986.8 1530.45 M1985.09 1523.06 Q1985.09 1525.75 1986.75 1527.25 Q1988.44 1528.76 1991.48 1528.76 Q1994.48 1528.76 1996.17 1527.25 Q1997.89 1525.75 1997.89 1523.06 Q1997.89 1520.38 1996.17 1518.87 Q1994.48 1517.37 1991.48 1517.37 Q1988.44 1517.37 1986.75 1518.87 Q1985.09 1520.38 1985.09 1523.06 Z\" fill=\"#000000\" fill-rule=\"nonzero\" fill-opacity=\"1\" /><polyline clip-path=\"url(#clip422)\" style=\"stroke:#000000; stroke-linecap:round; stroke-linejoin:round; stroke-width:2; stroke-opacity:0.1; fill:none\" points=\"186.76,1445.72 2352.76,1445.72 \"/>\n",
       "<polyline clip-path=\"url(#clip422)\" style=\"stroke:#000000; stroke-linecap:round; stroke-linejoin:round; stroke-width:2; stroke-opacity:0.1; fill:none\" points=\"186.76,1220.82 2352.76,1220.82 \"/>\n",
       "<polyline clip-path=\"url(#clip422)\" style=\"stroke:#000000; stroke-linecap:round; stroke-linejoin:round; stroke-width:2; stroke-opacity:0.1; fill:none\" points=\"186.76,995.921 2352.76,995.921 \"/>\n",
       "<polyline clip-path=\"url(#clip422)\" style=\"stroke:#000000; stroke-linecap:round; stroke-linejoin:round; stroke-width:2; stroke-opacity:0.1; fill:none\" points=\"186.76,771.024 2352.76,771.024 \"/>\n",
       "<polyline clip-path=\"url(#clip422)\" style=\"stroke:#000000; stroke-linecap:round; stroke-linejoin:round; stroke-width:2; stroke-opacity:0.1; fill:none\" points=\"186.76,546.127 2352.76,546.127 \"/>\n",
       "<polyline clip-path=\"url(#clip422)\" style=\"stroke:#000000; stroke-linecap:round; stroke-linejoin:round; stroke-width:2; stroke-opacity:0.1; fill:none\" points=\"186.76,321.23 2352.76,321.23 \"/>\n",
       "<polyline clip-path=\"url(#clip422)\" style=\"stroke:#000000; stroke-linecap:round; stroke-linejoin:round; stroke-width:2; stroke-opacity:0.1; fill:none\" points=\"186.76,96.3327 2352.76,96.3327 \"/>\n",
       "<polyline clip-path=\"url(#clip420)\" style=\"stroke:#000000; stroke-linecap:round; stroke-linejoin:round; stroke-width:4; stroke-opacity:1; fill:none\" points=\"186.76,1486.45 186.76,47.2441 \"/>\n",
       "<polyline clip-path=\"url(#clip420)\" style=\"stroke:#000000; stroke-linecap:round; stroke-linejoin:round; stroke-width:4; stroke-opacity:1; fill:none\" points=\"186.76,1445.72 205.658,1445.72 \"/>\n",
       "<polyline clip-path=\"url(#clip420)\" style=\"stroke:#000000; stroke-linecap:round; stroke-linejoin:round; stroke-width:4; stroke-opacity:1; fill:none\" points=\"186.76,1220.82 205.658,1220.82 \"/>\n",
       "<polyline clip-path=\"url(#clip420)\" style=\"stroke:#000000; stroke-linecap:round; stroke-linejoin:round; stroke-width:4; stroke-opacity:1; fill:none\" points=\"186.76,995.921 205.658,995.921 \"/>\n",
       "<polyline clip-path=\"url(#clip420)\" style=\"stroke:#000000; stroke-linecap:round; stroke-linejoin:round; stroke-width:4; stroke-opacity:1; fill:none\" points=\"186.76,771.024 205.658,771.024 \"/>\n",
       "<polyline clip-path=\"url(#clip420)\" style=\"stroke:#000000; stroke-linecap:round; stroke-linejoin:round; stroke-width:4; stroke-opacity:1; fill:none\" points=\"186.76,546.127 205.658,546.127 \"/>\n",
       "<polyline clip-path=\"url(#clip420)\" style=\"stroke:#000000; stroke-linecap:round; stroke-linejoin:round; stroke-width:4; stroke-opacity:1; fill:none\" points=\"186.76,321.23 205.658,321.23 \"/>\n",
       "<polyline clip-path=\"url(#clip420)\" style=\"stroke:#000000; stroke-linecap:round; stroke-linejoin:round; stroke-width:4; stroke-opacity:1; fill:none\" points=\"186.76,96.3327 205.658,96.3327 \"/>\n",
       "<path clip-path=\"url(#clip420)\" d=\"M63.4226 1431.51 Q59.8115 1431.51 57.9828 1435.08 Q56.1773 1438.62 56.1773 1445.75 Q56.1773 1452.86 57.9828 1456.42 Q59.8115 1459.96 63.4226 1459.96 Q67.0569 1459.96 68.8624 1456.42 Q70.6911 1452.86 70.6911 1445.75 Q70.6911 1438.62 68.8624 1435.08 Q67.0569 1431.51 63.4226 1431.51 M63.4226 1427.81 Q69.2328 1427.81 72.2883 1432.42 Q75.367 1437 75.367 1445.75 Q75.367 1454.48 72.2883 1459.08 Q69.2328 1463.67 63.4226 1463.67 Q57.6125 1463.67 54.5338 1459.08 Q51.4782 1454.48 51.4782 1445.75 Q51.4782 1437 54.5338 1432.42 Q57.6125 1427.81 63.4226 1427.81 Z\" fill=\"#000000\" fill-rule=\"nonzero\" fill-opacity=\"1\" /><path clip-path=\"url(#clip420)\" d=\"M83.5845 1457.12 L88.4688 1457.12 L88.4688 1463 L83.5845 1463 L83.5845 1457.12 Z\" fill=\"#000000\" fill-rule=\"nonzero\" fill-opacity=\"1\" /><path clip-path=\"url(#clip420)\" d=\"M108.654 1431.51 Q105.043 1431.51 103.214 1435.08 Q101.409 1438.62 101.409 1445.75 Q101.409 1452.86 103.214 1456.42 Q105.043 1459.96 108.654 1459.96 Q112.288 1459.96 114.094 1456.42 Q115.922 1452.86 115.922 1445.75 Q115.922 1438.62 114.094 1435.08 Q112.288 1431.51 108.654 1431.51 M108.654 1427.81 Q114.464 1427.81 117.52 1432.42 Q120.598 1437 120.598 1445.75 Q120.598 1454.48 117.52 1459.08 Q114.464 1463.67 108.654 1463.67 Q102.844 1463.67 99.765 1459.08 Q96.7095 1454.48 96.7095 1445.75 Q96.7095 1437 99.765 1432.42 Q102.844 1427.81 108.654 1427.81 Z\" fill=\"#000000\" fill-rule=\"nonzero\" fill-opacity=\"1\" /><path clip-path=\"url(#clip420)\" d=\"M138.816 1431.51 Q135.205 1431.51 133.376 1435.08 Q131.57 1438.62 131.57 1445.75 Q131.57 1452.86 133.376 1456.42 Q135.205 1459.96 138.816 1459.96 Q142.45 1459.96 144.256 1456.42 Q146.084 1452.86 146.084 1445.75 Q146.084 1438.62 144.256 1435.08 Q142.45 1431.51 138.816 1431.51 M138.816 1427.81 Q144.626 1427.81 147.681 1432.42 Q150.76 1437 150.76 1445.75 Q150.76 1454.48 147.681 1459.08 Q144.626 1463.67 138.816 1463.67 Q133.006 1463.67 129.927 1459.08 Q126.871 1454.48 126.871 1445.75 Q126.871 1437 129.927 1432.42 Q133.006 1427.81 138.816 1427.81 Z\" fill=\"#000000\" fill-rule=\"nonzero\" fill-opacity=\"1\" /><path clip-path=\"url(#clip420)\" d=\"M64.6495 1206.62 Q61.0384 1206.62 59.2097 1210.18 Q57.4041 1213.72 57.4041 1220.85 Q57.4041 1227.96 59.2097 1231.52 Q61.0384 1235.07 64.6495 1235.07 Q68.2837 1235.07 70.0892 1231.52 Q71.9179 1227.96 71.9179 1220.85 Q71.9179 1213.72 70.0892 1210.18 Q68.2837 1206.62 64.6495 1206.62 M64.6495 1202.91 Q70.4596 1202.91 73.5152 1207.52 Q76.5938 1212.1 76.5938 1220.85 Q76.5938 1229.58 73.5152 1234.19 Q70.4596 1238.77 64.6495 1238.77 Q58.8393 1238.77 55.7606 1234.19 Q52.7051 1229.58 52.7051 1220.85 Q52.7051 1212.1 55.7606 1207.52 Q58.8393 1202.91 64.6495 1202.91 Z\" fill=\"#000000\" fill-rule=\"nonzero\" fill-opacity=\"1\" /><path clip-path=\"url(#clip420)\" d=\"M84.8114 1232.22 L89.6956 1232.22 L89.6956 1238.1 L84.8114 1238.1 L84.8114 1232.22 Z\" fill=\"#000000\" fill-rule=\"nonzero\" fill-opacity=\"1\" /><path clip-path=\"url(#clip420)\" d=\"M109.881 1206.62 Q106.27 1206.62 104.441 1210.18 Q102.635 1213.72 102.635 1220.85 Q102.635 1227.96 104.441 1231.52 Q106.27 1235.07 109.881 1235.07 Q113.515 1235.07 115.32 1231.52 Q117.149 1227.96 117.149 1220.85 Q117.149 1213.72 115.32 1210.18 Q113.515 1206.62 109.881 1206.62 M109.881 1202.91 Q115.691 1202.91 118.746 1207.52 Q121.825 1212.1 121.825 1220.85 Q121.825 1229.58 118.746 1234.19 Q115.691 1238.77 109.881 1238.77 Q104.071 1238.77 100.992 1234.19 Q97.9363 1229.58 97.9363 1220.85 Q97.9363 1212.1 100.992 1207.52 Q104.071 1202.91 109.881 1202.91 Z\" fill=\"#000000\" fill-rule=\"nonzero\" fill-opacity=\"1\" /><path clip-path=\"url(#clip420)\" d=\"M130.853 1234.16 L138.492 1234.16 L138.492 1207.8 L130.182 1209.46 L130.182 1205.21 L138.445 1203.54 L143.121 1203.54 L143.121 1234.16 L150.76 1234.16 L150.76 1238.1 L130.853 1238.1 L130.853 1234.16 Z\" fill=\"#000000\" fill-rule=\"nonzero\" fill-opacity=\"1\" /><path clip-path=\"url(#clip420)\" d=\"M65.0198 981.72 Q61.4087 981.72 59.58 985.285 Q57.7745 988.826 57.7745 995.956 Q57.7745 1003.06 59.58 1006.63 Q61.4087 1010.17 65.0198 1010.17 Q68.6541 1010.17 70.4596 1006.63 Q72.2883 1003.06 72.2883 995.956 Q72.2883 988.826 70.4596 985.285 Q68.6541 981.72 65.0198 981.72 M65.0198 978.016 Q70.83 978.016 73.8855 982.623 Q76.9642 987.206 76.9642 995.956 Q76.9642 1004.68 73.8855 1009.29 Q70.83 1013.87 65.0198 1013.87 Q59.2097 1013.87 56.131 1009.29 Q53.0754 1004.68 53.0754 995.956 Q53.0754 987.206 56.131 982.623 Q59.2097 978.016 65.0198 978.016 Z\" fill=\"#000000\" fill-rule=\"nonzero\" fill-opacity=\"1\" /><path clip-path=\"url(#clip420)\" d=\"M85.1818 1007.32 L90.066 1007.32 L90.066 1013.2 L85.1818 1013.2 L85.1818 1007.32 Z\" fill=\"#000000\" fill-rule=\"nonzero\" fill-opacity=\"1\" /><path clip-path=\"url(#clip420)\" d=\"M110.251 981.72 Q106.64 981.72 104.811 985.285 Q103.006 988.826 103.006 995.956 Q103.006 1003.06 104.811 1006.63 Q106.64 1010.17 110.251 1010.17 Q113.885 1010.17 115.691 1006.63 Q117.52 1003.06 117.52 995.956 Q117.52 988.826 115.691 985.285 Q113.885 981.72 110.251 981.72 M110.251 978.016 Q116.061 978.016 119.117 982.623 Q122.195 987.206 122.195 995.956 Q122.195 1004.68 119.117 1009.29 Q116.061 1013.87 110.251 1013.87 Q104.441 1013.87 101.362 1009.29 Q98.3067 1004.68 98.3067 995.956 Q98.3067 987.206 101.362 982.623 Q104.441 978.016 110.251 978.016 Z\" fill=\"#000000\" fill-rule=\"nonzero\" fill-opacity=\"1\" /><path clip-path=\"url(#clip420)\" d=\"M134.441 1009.27 L150.76 1009.27 L150.76 1013.2 L128.816 1013.2 L128.816 1009.27 Q131.478 1006.51 136.061 1001.88 Q140.668 997.229 141.848 995.887 Q144.093 993.363 144.973 991.627 Q145.876 989.868 145.876 988.178 Q145.876 985.424 143.931 983.688 Q142.01 981.952 138.908 981.952 Q136.709 981.952 134.256 982.715 Q131.825 983.479 129.047 985.03 L129.047 980.308 Q131.871 979.174 134.325 978.595 Q136.779 978.016 138.816 978.016 Q144.186 978.016 147.38 980.702 Q150.575 983.387 150.575 987.877 Q150.575 990.007 149.765 991.928 Q148.978 993.826 146.871 996.419 Q146.293 997.09 143.191 1000.31 Q140.089 1003.5 134.441 1009.27 Z\" fill=\"#000000\" fill-rule=\"nonzero\" fill-opacity=\"1\" /><path clip-path=\"url(#clip420)\" d=\"M64.0708 756.823 Q60.4597 756.823 58.631 760.388 Q56.8254 763.929 56.8254 771.059 Q56.8254 778.165 58.631 781.73 Q60.4597 785.272 64.0708 785.272 Q67.705 785.272 69.5105 781.73 Q71.3392 778.165 71.3392 771.059 Q71.3392 763.929 69.5105 760.388 Q67.705 756.823 64.0708 756.823 M64.0708 753.119 Q69.8809 753.119 72.9365 757.726 Q76.0151 762.309 76.0151 771.059 Q76.0151 779.786 72.9365 784.392 Q69.8809 788.975 64.0708 788.975 Q58.2606 788.975 55.1819 784.392 Q52.1264 779.786 52.1264 771.059 Q52.1264 762.309 55.1819 757.726 Q58.2606 753.119 64.0708 753.119 Z\" fill=\"#000000\" fill-rule=\"nonzero\" fill-opacity=\"1\" /><path clip-path=\"url(#clip420)\" d=\"M84.2327 782.425 L89.1169 782.425 L89.1169 788.304 L84.2327 788.304 L84.2327 782.425 Z\" fill=\"#000000\" fill-rule=\"nonzero\" fill-opacity=\"1\" /><path clip-path=\"url(#clip420)\" d=\"M109.302 756.823 Q105.691 756.823 103.862 760.388 Q102.057 763.929 102.057 771.059 Q102.057 778.165 103.862 781.73 Q105.691 785.272 109.302 785.272 Q112.936 785.272 114.742 781.73 Q116.57 778.165 116.57 771.059 Q116.57 763.929 114.742 760.388 Q112.936 756.823 109.302 756.823 M109.302 753.119 Q115.112 753.119 118.168 757.726 Q121.246 762.309 121.246 771.059 Q121.246 779.786 118.168 784.392 Q115.112 788.975 109.302 788.975 Q103.492 788.975 100.413 784.392 Q97.3576 779.786 97.3576 771.059 Q97.3576 762.309 100.413 757.726 Q103.492 753.119 109.302 753.119 Z\" fill=\"#000000\" fill-rule=\"nonzero\" fill-opacity=\"1\" /><path clip-path=\"url(#clip420)\" d=\"M143.631 769.67 Q146.987 770.388 148.862 772.656 Q150.76 774.925 150.76 778.258 Q150.76 783.374 147.242 786.175 Q143.723 788.975 137.242 788.975 Q135.066 788.975 132.751 788.536 Q130.459 788.119 128.006 787.263 L128.006 782.749 Q129.95 783.883 132.265 784.462 Q134.58 785.04 137.103 785.04 Q141.501 785.04 143.793 783.304 Q146.107 781.568 146.107 778.258 Q146.107 775.202 143.955 773.489 Q141.825 771.753 138.006 771.753 L133.978 771.753 L133.978 767.911 L138.191 767.911 Q141.64 767.911 143.468 766.545 Q145.297 765.156 145.297 762.564 Q145.297 759.902 143.399 758.49 Q141.524 757.054 138.006 757.054 Q136.084 757.054 133.885 757.471 Q131.686 757.888 129.047 758.767 L129.047 754.601 Q131.709 753.86 134.024 753.49 Q136.362 753.119 138.422 753.119 Q143.746 753.119 146.848 755.55 Q149.95 757.957 149.95 762.077 Q149.95 764.948 148.306 766.939 Q146.663 768.906 143.631 769.67 Z\" fill=\"#000000\" fill-rule=\"nonzero\" fill-opacity=\"1\" /><path clip-path=\"url(#clip420)\" d=\"M62.9365 531.926 Q59.3254 531.926 57.4967 535.49 Q55.6912 539.032 55.6912 546.162 Q55.6912 553.268 57.4967 556.833 Q59.3254 560.375 62.9365 560.375 Q66.5707 560.375 68.3763 556.833 Q70.205 553.268 70.205 546.162 Q70.205 539.032 68.3763 535.49 Q66.5707 531.926 62.9365 531.926 M62.9365 528.222 Q68.7467 528.222 71.8022 532.828 Q74.8809 537.412 74.8809 546.162 Q74.8809 554.889 71.8022 559.495 Q68.7467 564.078 62.9365 564.078 Q57.1264 564.078 54.0477 559.495 Q50.9921 554.889 50.9921 546.162 Q50.9921 537.412 54.0477 532.828 Q57.1264 528.222 62.9365 528.222 Z\" fill=\"#000000\" fill-rule=\"nonzero\" fill-opacity=\"1\" /><path clip-path=\"url(#clip420)\" d=\"M83.0984 557.527 L87.9827 557.527 L87.9827 563.407 L83.0984 563.407 L83.0984 557.527 Z\" fill=\"#000000\" fill-rule=\"nonzero\" fill-opacity=\"1\" /><path clip-path=\"url(#clip420)\" d=\"M108.168 531.926 Q104.557 531.926 102.728 535.49 Q100.922 539.032 100.922 546.162 Q100.922 553.268 102.728 556.833 Q104.557 560.375 108.168 560.375 Q111.802 560.375 113.608 556.833 Q115.436 553.268 115.436 546.162 Q115.436 539.032 113.608 535.49 Q111.802 531.926 108.168 531.926 M108.168 528.222 Q113.978 528.222 117.033 532.828 Q120.112 537.412 120.112 546.162 Q120.112 554.889 117.033 559.495 Q113.978 564.078 108.168 564.078 Q102.358 564.078 99.2789 559.495 Q96.2234 554.889 96.2234 546.162 Q96.2234 537.412 99.2789 532.828 Q102.358 528.222 108.168 528.222 Z\" fill=\"#000000\" fill-rule=\"nonzero\" fill-opacity=\"1\" /><path clip-path=\"url(#clip420)\" d=\"M141.177 532.921 L129.371 551.37 L141.177 551.37 L141.177 532.921 M139.95 528.847 L145.83 528.847 L145.83 551.37 L150.76 551.37 L150.76 555.259 L145.83 555.259 L145.83 563.407 L141.177 563.407 L141.177 555.259 L125.575 555.259 L125.575 550.745 L139.95 528.847 Z\" fill=\"#000000\" fill-rule=\"nonzero\" fill-opacity=\"1\" /><path clip-path=\"url(#clip420)\" d=\"M64.418 307.029 Q60.8069 307.029 58.9782 310.593 Q57.1726 314.135 57.1726 321.265 Q57.1726 328.371 58.9782 331.936 Q60.8069 335.477 64.418 335.477 Q68.0522 335.477 69.8578 331.936 Q71.6865 328.371 71.6865 321.265 Q71.6865 314.135 69.8578 310.593 Q68.0522 307.029 64.418 307.029 M64.418 303.325 Q70.2281 303.325 73.2837 307.931 Q76.3624 312.515 76.3624 321.265 Q76.3624 329.991 73.2837 334.598 Q70.2281 339.181 64.418 339.181 Q58.6078 339.181 55.5291 334.598 Q52.4736 329.991 52.4736 321.265 Q52.4736 312.515 55.5291 307.931 Q58.6078 303.325 64.418 303.325 Z\" fill=\"#000000\" fill-rule=\"nonzero\" fill-opacity=\"1\" /><path clip-path=\"url(#clip420)\" d=\"M84.5799 332.63 L89.4641 332.63 L89.4641 338.51 L84.5799 338.51 L84.5799 332.63 Z\" fill=\"#000000\" fill-rule=\"nonzero\" fill-opacity=\"1\" /><path clip-path=\"url(#clip420)\" d=\"M109.649 307.029 Q106.038 307.029 104.209 310.593 Q102.404 314.135 102.404 321.265 Q102.404 328.371 104.209 331.936 Q106.038 335.477 109.649 335.477 Q113.283 335.477 115.089 331.936 Q116.918 328.371 116.918 321.265 Q116.918 314.135 115.089 310.593 Q113.283 307.029 109.649 307.029 M109.649 303.325 Q115.459 303.325 118.515 307.931 Q121.594 312.515 121.594 321.265 Q121.594 329.991 118.515 334.598 Q115.459 339.181 109.649 339.181 Q103.839 339.181 100.76 334.598 Q97.7048 329.991 97.7048 321.265 Q97.7048 312.515 100.76 307.931 Q103.839 303.325 109.649 303.325 Z\" fill=\"#000000\" fill-rule=\"nonzero\" fill-opacity=\"1\" /><path clip-path=\"url(#clip420)\" d=\"M129.857 303.95 L148.214 303.95 L148.214 307.885 L134.14 307.885 L134.14 316.357 Q135.158 316.01 136.177 315.848 Q137.195 315.663 138.214 315.663 Q144.001 315.663 147.38 318.834 Q150.76 322.005 150.76 327.422 Q150.76 333.001 147.288 336.102 Q143.816 339.181 137.496 339.181 Q135.32 339.181 133.052 338.811 Q130.807 338.44 128.399 337.7 L128.399 333.001 Q130.482 334.135 132.705 334.69 Q134.927 335.246 137.404 335.246 Q141.408 335.246 143.746 333.139 Q146.084 331.033 146.084 327.422 Q146.084 323.811 143.746 321.704 Q141.408 319.598 137.404 319.598 Q135.529 319.598 133.654 320.015 Q131.802 320.431 129.857 321.311 L129.857 303.95 Z\" fill=\"#000000\" fill-rule=\"nonzero\" fill-opacity=\"1\" /><path clip-path=\"url(#clip420)\" d=\"M63.2606 82.1313 Q59.6495 82.1313 57.8208 85.6961 Q56.0152 89.2378 56.0152 96.3674 Q56.0152 103.474 57.8208 107.039 Q59.6495 110.58 63.2606 110.58 Q66.8948 110.58 68.7004 107.039 Q70.5291 103.474 70.5291 96.3674 Q70.5291 89.2378 68.7004 85.6961 Q66.8948 82.1313 63.2606 82.1313 M63.2606 78.4277 Q69.0707 78.4277 72.1263 83.0341 Q75.205 87.6174 75.205 96.3674 Q75.205 105.094 72.1263 109.701 Q69.0707 114.284 63.2606 114.284 Q57.4504 114.284 54.3717 109.701 Q51.3162 105.094 51.3162 96.3674 Q51.3162 87.6174 54.3717 83.0341 Q57.4504 78.4277 63.2606 78.4277 Z\" fill=\"#000000\" fill-rule=\"nonzero\" fill-opacity=\"1\" /><path clip-path=\"url(#clip420)\" d=\"M83.4225 107.733 L88.3067 107.733 L88.3067 113.613 L83.4225 113.613 L83.4225 107.733 Z\" fill=\"#000000\" fill-rule=\"nonzero\" fill-opacity=\"1\" /><path clip-path=\"url(#clip420)\" d=\"M108.492 82.1313 Q104.881 82.1313 103.052 85.6961 Q101.246 89.2378 101.246 96.3674 Q101.246 103.474 103.052 107.039 Q104.881 110.58 108.492 110.58 Q112.126 110.58 113.932 107.039 Q115.76 103.474 115.76 96.3674 Q115.76 89.2378 113.932 85.6961 Q112.126 82.1313 108.492 82.1313 M108.492 78.4277 Q114.302 78.4277 117.358 83.0341 Q120.436 87.6174 120.436 96.3674 Q120.436 105.094 117.358 109.701 Q114.302 114.284 108.492 114.284 Q102.682 114.284 99.603 109.701 Q96.5474 105.094 96.5474 96.3674 Q96.5474 87.6174 99.603 83.0341 Q102.682 78.4277 108.492 78.4277 Z\" fill=\"#000000\" fill-rule=\"nonzero\" fill-opacity=\"1\" /><path clip-path=\"url(#clip420)\" d=\"M139.232 94.4692 Q136.084 94.4692 134.232 96.622 Q132.404 98.7748 132.404 102.525 Q132.404 106.252 134.232 108.427 Q136.084 110.58 139.232 110.58 Q142.381 110.58 144.209 108.427 Q146.061 106.252 146.061 102.525 Q146.061 98.7748 144.209 96.622 Q142.381 94.4692 139.232 94.4692 M148.515 79.8165 L148.515 84.0758 Q146.756 83.2424 144.95 82.8026 Q143.168 82.3628 141.408 82.3628 Q136.779 82.3628 134.325 85.4878 Q131.894 88.6128 131.547 94.9322 Q132.913 92.9183 134.973 91.8535 Q137.033 90.7656 139.51 90.7656 Q144.718 90.7656 147.728 93.9368 Q150.76 97.085 150.76 102.525 Q150.76 107.849 147.612 111.066 Q144.464 114.284 139.232 114.284 Q133.237 114.284 130.066 109.701 Q126.894 105.094 126.894 96.3674 Q126.894 88.173 130.783 83.3119 Q134.672 78.4277 141.223 78.4277 Q142.982 78.4277 144.765 78.7749 Q146.57 79.1221 148.515 79.8165 Z\" fill=\"#000000\" fill-rule=\"nonzero\" fill-opacity=\"1\" /><circle clip-path=\"url(#clip422)\" cx=\"248.062\" cy=\"1445.72\" r=\"14.4\" fill=\"#009af9\" fill-rule=\"evenodd\" fill-opacity=\"1\" stroke=\"#000000\" stroke-opacity=\"1\" stroke-width=\"3.2\"/>\n",
       "<circle clip-path=\"url(#clip422)\" cx=\"355.609\" cy=\"1245.77\" r=\"14.4\" fill=\"#009af9\" fill-rule=\"evenodd\" fill-opacity=\"1\" stroke=\"#000000\" stroke-opacity=\"1\" stroke-width=\"3.2\"/>\n",
       "<circle clip-path=\"url(#clip422)\" cx=\"463.156\" cy=\"1079.56\" r=\"14.4\" fill=\"#009af9\" fill-rule=\"evenodd\" fill-opacity=\"1\" stroke=\"#000000\" stroke-opacity=\"1\" stroke-width=\"3.2\"/>\n",
       "<circle clip-path=\"url(#clip422)\" cx=\"570.703\" cy=\"959.585\" r=\"14.4\" fill=\"#009af9\" fill-rule=\"evenodd\" fill-opacity=\"1\" stroke=\"#000000\" stroke-opacity=\"1\" stroke-width=\"3.2\"/>\n",
       "<circle clip-path=\"url(#clip422)\" cx=\"678.25\" cy=\"894.173\" r=\"14.4\" fill=\"#009af9\" fill-rule=\"evenodd\" fill-opacity=\"1\" stroke=\"#000000\" stroke-opacity=\"1\" stroke-width=\"3.2\"/>\n",
       "<circle clip-path=\"url(#clip422)\" cx=\"785.797\" cy=\"886.619\" r=\"14.4\" fill=\"#009af9\" fill-rule=\"evenodd\" fill-opacity=\"1\" stroke=\"#000000\" stroke-opacity=\"1\" stroke-width=\"3.2\"/>\n",
       "<circle clip-path=\"url(#clip422)\" cx=\"893.344\" cy=\"934.842\" r=\"14.4\" fill=\"#009af9\" fill-rule=\"evenodd\" fill-opacity=\"1\" stroke=\"#000000\" stroke-opacity=\"1\" stroke-width=\"3.2\"/>\n",
       "<circle clip-path=\"url(#clip422)\" cx=\"1000.89\" cy=\"1031.57\" r=\"14.4\" fill=\"#009af9\" fill-rule=\"evenodd\" fill-opacity=\"1\" stroke=\"#000000\" stroke-opacity=\"1\" stroke-width=\"3.2\"/>\n",
       "<circle clip-path=\"url(#clip422)\" cx=\"1108.44\" cy=\"1165.04\" r=\"14.4\" fill=\"#009af9\" fill-rule=\"evenodd\" fill-opacity=\"1\" stroke=\"#000000\" stroke-opacity=\"1\" stroke-width=\"3.2\"/>\n",
       "<circle clip-path=\"url(#clip422)\" cx=\"1215.98\" cy=\"1320.12\" r=\"14.4\" fill=\"#009af9\" fill-rule=\"evenodd\" fill-opacity=\"1\" stroke=\"#000000\" stroke-opacity=\"1\" stroke-width=\"3.2\"/>\n",
       "<circle clip-path=\"url(#clip422)\" cx=\"1323.53\" cy=\"1411.67\" r=\"14.4\" fill=\"#009af9\" fill-rule=\"evenodd\" fill-opacity=\"1\" stroke=\"#000000\" stroke-opacity=\"1\" stroke-width=\"3.2\"/>\n",
       "<circle clip-path=\"url(#clip422)\" cx=\"1431.08\" cy=\"1264.75\" r=\"14.4\" fill=\"#009af9\" fill-rule=\"evenodd\" fill-opacity=\"1\" stroke=\"#000000\" stroke-opacity=\"1\" stroke-width=\"3.2\"/>\n",
       "<circle clip-path=\"url(#clip422)\" cx=\"1538.63\" cy=\"1146.4\" r=\"14.4\" fill=\"#009af9\" fill-rule=\"evenodd\" fill-opacity=\"1\" stroke=\"#000000\" stroke-opacity=\"1\" stroke-width=\"3.2\"/>\n",
       "<circle clip-path=\"url(#clip422)\" cx=\"1646.17\" cy=\"1069.51\" r=\"14.4\" fill=\"#009af9\" fill-rule=\"evenodd\" fill-opacity=\"1\" stroke=\"#000000\" stroke-opacity=\"1\" stroke-width=\"3.2\"/>\n",
       "<circle clip-path=\"url(#clip422)\" cx=\"1753.72\" cy=\"1042.77\" r=\"14.4\" fill=\"#009af9\" fill-rule=\"evenodd\" fill-opacity=\"1\" stroke=\"#000000\" stroke-opacity=\"1\" stroke-width=\"3.2\"/>\n",
       "<circle clip-path=\"url(#clip422)\" cx=\"1861.27\" cy=\"1069.8\" r=\"14.4\" fill=\"#009af9\" fill-rule=\"evenodd\" fill-opacity=\"1\" stroke=\"#000000\" stroke-opacity=\"1\" stroke-width=\"3.2\"/>\n",
       "<circle clip-path=\"url(#clip422)\" cx=\"1968.81\" cy=\"1148.83\" r=\"14.4\" fill=\"#009af9\" fill-rule=\"evenodd\" fill-opacity=\"1\" stroke=\"#000000\" stroke-opacity=\"1\" stroke-width=\"3.2\"/>\n",
       "<circle clip-path=\"url(#clip422)\" cx=\"2076.36\" cy=\"1272.87\" r=\"14.4\" fill=\"#009af9\" fill-rule=\"evenodd\" fill-opacity=\"1\" stroke=\"#000000\" stroke-opacity=\"1\" stroke-width=\"3.2\"/>\n",
       "<circle clip-path=\"url(#clip422)\" cx=\"2183.91\" cy=\"1430.44\" r=\"14.4\" fill=\"#009af9\" fill-rule=\"evenodd\" fill-opacity=\"1\" stroke=\"#000000\" stroke-opacity=\"1\" stroke-width=\"3.2\"/>\n",
       "<circle clip-path=\"url(#clip422)\" cx=\"2291.45\" cy=\"1284.79\" r=\"14.4\" fill=\"#009af9\" fill-rule=\"evenodd\" fill-opacity=\"1\" stroke=\"#000000\" stroke-opacity=\"1\" stroke-width=\"3.2\"/>\n",
       "<circle clip-path=\"url(#clip422)\" cx=\"248.062\" cy=\"1445.72\" r=\"14.4\" fill=\"#e26f46\" fill-rule=\"evenodd\" fill-opacity=\"1\" stroke=\"#000000\" stroke-opacity=\"1\" stroke-width=\"3.2\"/>\n",
       "<circle clip-path=\"url(#clip422)\" cx=\"355.609\" cy=\"1085.44\" r=\"14.4\" fill=\"#e26f46\" fill-rule=\"evenodd\" fill-opacity=\"1\" stroke=\"#000000\" stroke-opacity=\"1\" stroke-width=\"3.2\"/>\n",
       "<circle clip-path=\"url(#clip422)\" cx=\"463.156\" cy=\"828.318\" r=\"14.4\" fill=\"#e26f46\" fill-rule=\"evenodd\" fill-opacity=\"1\" stroke=\"#000000\" stroke-opacity=\"1\" stroke-width=\"3.2\"/>\n",
       "<circle clip-path=\"url(#clip422)\" cx=\"570.703\" cy=\"680.355\" r=\"14.4\" fill=\"#e26f46\" fill-rule=\"evenodd\" fill-opacity=\"1\" stroke=\"#000000\" stroke-opacity=\"1\" stroke-width=\"3.2\"/>\n",
       "<circle clip-path=\"url(#clip422)\" cx=\"678.25\" cy=\"622.457\" r=\"14.4\" fill=\"#e26f46\" fill-rule=\"evenodd\" fill-opacity=\"1\" stroke=\"#000000\" stroke-opacity=\"1\" stroke-width=\"3.2\"/>\n",
       "<circle clip-path=\"url(#clip422)\" cx=\"785.797\" cy=\"630.19\" r=\"14.4\" fill=\"#e26f46\" fill-rule=\"evenodd\" fill-opacity=\"1\" stroke=\"#000000\" stroke-opacity=\"1\" stroke-width=\"3.2\"/>\n",
       "<circle clip-path=\"url(#clip422)\" cx=\"893.344\" cy=\"687.922\" r=\"14.4\" fill=\"#e26f46\" fill-rule=\"evenodd\" fill-opacity=\"1\" stroke=\"#000000\" stroke-opacity=\"1\" stroke-width=\"3.2\"/>\n",
       "<circle clip-path=\"url(#clip422)\" cx=\"1000.89\" cy=\"792.42\" r=\"14.4\" fill=\"#e26f46\" fill-rule=\"evenodd\" fill-opacity=\"1\" stroke=\"#000000\" stroke-opacity=\"1\" stroke-width=\"3.2\"/>\n",
       "<circle clip-path=\"url(#clip422)\" cx=\"1108.44\" cy=\"948.417\" r=\"14.4\" fill=\"#e26f46\" fill-rule=\"evenodd\" fill-opacity=\"1\" stroke=\"#000000\" stroke-opacity=\"1\" stroke-width=\"3.2\"/>\n",
       "<circle clip-path=\"url(#clip422)\" cx=\"1215.98\" cy=\"1160.75\" r=\"14.4\" fill=\"#e26f46\" fill-rule=\"evenodd\" fill-opacity=\"1\" stroke=\"#000000\" stroke-opacity=\"1\" stroke-width=\"3.2\"/>\n",
       "<circle clip-path=\"url(#clip422)\" cx=\"1323.53\" cy=\"1426.8\" r=\"14.4\" fill=\"#e26f46\" fill-rule=\"evenodd\" fill-opacity=\"1\" stroke=\"#000000\" stroke-opacity=\"1\" stroke-width=\"3.2\"/>\n",
       "<circle clip-path=\"url(#clip422)\" cx=\"1431.08\" cy=\"1159.87\" r=\"14.4\" fill=\"#e26f46\" fill-rule=\"evenodd\" fill-opacity=\"1\" stroke=\"#000000\" stroke-opacity=\"1\" stroke-width=\"3.2\"/>\n",
       "<circle clip-path=\"url(#clip422)\" cx=\"1538.63\" cy=\"845.056\" r=\"14.4\" fill=\"#e26f46\" fill-rule=\"evenodd\" fill-opacity=\"1\" stroke=\"#000000\" stroke-opacity=\"1\" stroke-width=\"3.2\"/>\n",
       "<circle clip-path=\"url(#clip422)\" cx=\"1646.17\" cy=\"559.661\" r=\"14.4\" fill=\"#e26f46\" fill-rule=\"evenodd\" fill-opacity=\"1\" stroke=\"#000000\" stroke-opacity=\"1\" stroke-width=\"3.2\"/>\n",
       "<circle clip-path=\"url(#clip422)\" cx=\"1753.72\" cy=\"347.485\" r=\"14.4\" fill=\"#e26f46\" fill-rule=\"evenodd\" fill-opacity=\"1\" stroke=\"#000000\" stroke-opacity=\"1\" stroke-width=\"3.2\"/>\n",
       "<circle clip-path=\"url(#clip422)\" cx=\"1861.27\" cy=\"247.238\" r=\"14.4\" fill=\"#e26f46\" fill-rule=\"evenodd\" fill-opacity=\"1\" stroke=\"#000000\" stroke-opacity=\"1\" stroke-width=\"3.2\"/>\n",
       "<circle clip-path=\"url(#clip422)\" cx=\"1968.81\" cy=\"281.919\" r=\"14.4\" fill=\"#e26f46\" fill-rule=\"evenodd\" fill-opacity=\"1\" stroke=\"#000000\" stroke-opacity=\"1\" stroke-width=\"3.2\"/>\n",
       "<circle clip-path=\"url(#clip422)\" cx=\"2076.36\" cy=\"449.539\" r=\"14.4\" fill=\"#e26f46\" fill-rule=\"evenodd\" fill-opacity=\"1\" stroke=\"#000000\" stroke-opacity=\"1\" stroke-width=\"3.2\"/>\n",
       "<circle clip-path=\"url(#clip422)\" cx=\"2183.91\" cy=\"718.855\" r=\"14.4\" fill=\"#e26f46\" fill-rule=\"evenodd\" fill-opacity=\"1\" stroke=\"#000000\" stroke-opacity=\"1\" stroke-width=\"3.2\"/>\n",
       "<circle clip-path=\"url(#clip422)\" cx=\"2291.45\" cy=\"1034.26\" r=\"14.4\" fill=\"#e26f46\" fill-rule=\"evenodd\" fill-opacity=\"1\" stroke=\"#000000\" stroke-opacity=\"1\" stroke-width=\"3.2\"/>\n",
       "<circle clip-path=\"url(#clip422)\" cx=\"248.062\" cy=\"1445.72\" r=\"14.4\" fill=\"#3da44d\" fill-rule=\"evenodd\" fill-opacity=\"1\" stroke=\"#000000\" stroke-opacity=\"1\" stroke-width=\"3.2\"/>\n",
       "<circle clip-path=\"url(#clip422)\" cx=\"355.609\" cy=\"1100.14\" r=\"14.4\" fill=\"#3da44d\" fill-rule=\"evenodd\" fill-opacity=\"1\" stroke=\"#000000\" stroke-opacity=\"1\" stroke-width=\"3.2\"/>\n",
       "<circle clip-path=\"url(#clip422)\" cx=\"463.156\" cy=\"849.721\" r=\"14.4\" fill=\"#3da44d\" fill-rule=\"evenodd\" fill-opacity=\"1\" stroke=\"#000000\" stroke-opacity=\"1\" stroke-width=\"3.2\"/>\n",
       "<circle clip-path=\"url(#clip422)\" cx=\"570.703\" cy=\"702.922\" r=\"14.4\" fill=\"#3da44d\" fill-rule=\"evenodd\" fill-opacity=\"1\" stroke=\"#000000\" stroke-opacity=\"1\" stroke-width=\"3.2\"/>\n",
       "<circle clip-path=\"url(#clip422)\" cx=\"678.25\" cy=\"644.064\" r=\"14.4\" fill=\"#3da44d\" fill-rule=\"evenodd\" fill-opacity=\"1\" stroke=\"#000000\" stroke-opacity=\"1\" stroke-width=\"3.2\"/>\n",
       "<circle clip-path=\"url(#clip422)\" cx=\"785.797\" cy=\"650.632\" r=\"14.4\" fill=\"#3da44d\" fill-rule=\"evenodd\" fill-opacity=\"1\" stroke=\"#000000\" stroke-opacity=\"1\" stroke-width=\"3.2\"/>\n",
       "<circle clip-path=\"url(#clip422)\" cx=\"893.344\" cy=\"707.193\" r=\"14.4\" fill=\"#3da44d\" fill-rule=\"evenodd\" fill-opacity=\"1\" stroke=\"#000000\" stroke-opacity=\"1\" stroke-width=\"3.2\"/>\n",
       "<circle clip-path=\"url(#clip422)\" cx=\"1000.89\" cy=\"810.54\" r=\"14.4\" fill=\"#3da44d\" fill-rule=\"evenodd\" fill-opacity=\"1\" stroke=\"#000000\" stroke-opacity=\"1\" stroke-width=\"3.2\"/>\n",
       "<circle clip-path=\"url(#clip422)\" cx=\"1108.44\" cy=\"966.501\" r=\"14.4\" fill=\"#3da44d\" fill-rule=\"evenodd\" fill-opacity=\"1\" stroke=\"#000000\" stroke-opacity=\"1\" stroke-width=\"3.2\"/>\n",
       "<circle clip-path=\"url(#clip422)\" cx=\"1215.98\" cy=\"1182.14\" r=\"14.4\" fill=\"#3da44d\" fill-rule=\"evenodd\" fill-opacity=\"1\" stroke=\"#000000\" stroke-opacity=\"1\" stroke-width=\"3.2\"/>\n",
       "<circle clip-path=\"url(#clip422)\" cx=\"1323.53\" cy=\"1434.06\" r=\"14.4\" fill=\"#3da44d\" fill-rule=\"evenodd\" fill-opacity=\"1\" stroke=\"#000000\" stroke-opacity=\"1\" stroke-width=\"3.2\"/>\n",
       "<circle clip-path=\"url(#clip422)\" cx=\"1431.08\" cy=\"1112.48\" r=\"14.4\" fill=\"#3da44d\" fill-rule=\"evenodd\" fill-opacity=\"1\" stroke=\"#000000\" stroke-opacity=\"1\" stroke-width=\"3.2\"/>\n",
       "<circle clip-path=\"url(#clip422)\" cx=\"1538.63\" cy=\"773.212\" r=\"14.4\" fill=\"#3da44d\" fill-rule=\"evenodd\" fill-opacity=\"1\" stroke=\"#000000\" stroke-opacity=\"1\" stroke-width=\"3.2\"/>\n",
       "<circle clip-path=\"url(#clip422)\" cx=\"1646.17\" cy=\"458.009\" r=\"14.4\" fill=\"#3da44d\" fill-rule=\"evenodd\" fill-opacity=\"1\" stroke=\"#000000\" stroke-opacity=\"1\" stroke-width=\"3.2\"/>\n",
       "<circle clip-path=\"url(#clip422)\" cx=\"1753.72\" cy=\"214.997\" r=\"14.4\" fill=\"#3da44d\" fill-rule=\"evenodd\" fill-opacity=\"1\" stroke=\"#000000\" stroke-opacity=\"1\" stroke-width=\"3.2\"/>\n",
       "<circle clip-path=\"url(#clip422)\" cx=\"1861.27\" cy=\"87.9763\" r=\"14.4\" fill=\"#3da44d\" fill-rule=\"evenodd\" fill-opacity=\"1\" stroke=\"#000000\" stroke-opacity=\"1\" stroke-width=\"3.2\"/>\n",
       "<circle clip-path=\"url(#clip422)\" cx=\"1968.81\" cy=\"103.672\" r=\"14.4\" fill=\"#3da44d\" fill-rule=\"evenodd\" fill-opacity=\"1\" stroke=\"#000000\" stroke-opacity=\"1\" stroke-width=\"3.2\"/>\n",
       "<circle clip-path=\"url(#clip422)\" cx=\"2076.36\" cy=\"260.679\" r=\"14.4\" fill=\"#3da44d\" fill-rule=\"evenodd\" fill-opacity=\"1\" stroke=\"#000000\" stroke-opacity=\"1\" stroke-width=\"3.2\"/>\n",
       "<circle clip-path=\"url(#clip422)\" cx=\"2183.91\" cy=\"525.481\" r=\"14.4\" fill=\"#3da44d\" fill-rule=\"evenodd\" fill-opacity=\"1\" stroke=\"#000000\" stroke-opacity=\"1\" stroke-width=\"3.2\"/>\n",
       "<circle clip-path=\"url(#clip422)\" cx=\"2291.45\" cy=\"840.006\" r=\"14.4\" fill=\"#3da44d\" fill-rule=\"evenodd\" fill-opacity=\"1\" stroke=\"#000000\" stroke-opacity=\"1\" stroke-width=\"3.2\"/>\n",
       "<path clip-path=\"url(#clip420)\" d=\"M258.96 302.578 L723.359 302.578 L723.359 95.2176 L258.96 95.2176  Z\" fill=\"#ffffff\" fill-rule=\"evenodd\" fill-opacity=\"1\"/>\n",
       "<polyline clip-path=\"url(#clip420)\" style=\"stroke:#000000; stroke-linecap:round; stroke-linejoin:round; stroke-width:4; stroke-opacity:1; fill:none\" points=\"258.96,302.578 723.359,302.578 723.359,95.2176 258.96,95.2176 258.96,302.578 \"/>\n",
       "<circle clip-path=\"url(#clip420)\" cx=\"355.226\" cy=\"147.058\" r=\"20.48\" fill=\"#009af9\" fill-rule=\"evenodd\" fill-opacity=\"1\" stroke=\"#000000\" stroke-opacity=\"1\" stroke-width=\"4.55111\"/>\n",
       "<path clip-path=\"url(#clip420)\" d=\"M451.493 129.778 L473.345 129.778 L473.345 133.713 L456.169 133.713 L456.169 143.944 L472.627 143.944 L472.627 147.879 L456.169 147.879 L456.169 160.402 L473.761 160.402 L473.761 164.338 L451.493 164.338 L451.493 129.778 Z\" fill=\"#000000\" fill-rule=\"nonzero\" fill-opacity=\"1\" /><path clip-path=\"url(#clip420)\" d=\"M496.284 142.393 Q495.567 141.977 494.71 141.791 Q493.877 141.583 492.858 141.583 Q489.247 141.583 487.303 143.944 Q485.382 146.282 485.382 150.68 L485.382 164.338 L481.099 164.338 L481.099 138.412 L485.382 138.412 L485.382 142.44 Q486.724 140.078 488.877 138.944 Q491.03 137.787 494.108 137.787 Q494.548 137.787 495.081 137.856 Q495.613 137.903 496.261 138.018 L496.284 142.393 Z\" fill=\"#000000\" fill-rule=\"nonzero\" fill-opacity=\"1\" /><path clip-path=\"url(#clip420)\" d=\"M514.942 142.393 Q514.224 141.977 513.368 141.791 Q512.534 141.583 511.516 141.583 Q507.905 141.583 505.96 143.944 Q504.039 146.282 504.039 150.68 L504.039 164.338 L499.757 164.338 L499.757 138.412 L504.039 138.412 L504.039 142.44 Q505.382 140.078 507.534 138.944 Q509.687 137.787 512.766 137.787 Q513.206 137.787 513.738 137.856 Q514.27 137.903 514.919 138.018 L514.942 142.393 Z\" fill=\"#000000\" fill-rule=\"nonzero\" fill-opacity=\"1\" /><path clip-path=\"url(#clip420)\" d=\"M528.414 141.398 Q524.988 141.398 522.997 144.083 Q521.006 146.745 521.006 151.398 Q521.006 156.051 522.974 158.736 Q524.965 161.398 528.414 161.398 Q531.817 161.398 533.807 158.713 Q535.798 156.027 535.798 151.398 Q535.798 146.791 533.807 144.106 Q531.817 141.398 528.414 141.398 M528.414 137.787 Q533.969 137.787 537.141 141.398 Q540.312 145.009 540.312 151.398 Q540.312 157.764 537.141 161.398 Q533.969 165.009 528.414 165.009 Q522.835 165.009 519.664 161.398 Q516.516 157.764 516.516 151.398 Q516.516 145.009 519.664 141.398 Q522.835 137.787 528.414 137.787 Z\" fill=\"#000000\" fill-rule=\"nonzero\" fill-opacity=\"1\" /><path clip-path=\"url(#clip420)\" d=\"M562.395 142.393 Q561.678 141.977 560.821 141.791 Q559.988 141.583 558.969 141.583 Q555.358 141.583 553.414 143.944 Q551.492 146.282 551.492 150.68 L551.492 164.338 L547.21 164.338 L547.21 138.412 L551.492 138.412 L551.492 142.44 Q552.835 140.078 554.988 138.944 Q557.141 137.787 560.219 137.787 Q560.659 137.787 561.191 137.856 Q561.724 137.903 562.372 138.018 L562.395 142.393 Z\" fill=\"#000000\" fill-rule=\"nonzero\" fill-opacity=\"1\" /><path clip-path=\"url(#clip420)\" d=\"M582.117 129.778 L603.969 129.778 L603.969 133.713 L586.793 133.713 L586.793 143.944 L603.251 143.944 L603.251 147.879 L586.793 147.879 L586.793 160.402 L604.386 160.402 L604.386 164.338 L582.117 164.338 L582.117 129.778 Z\" fill=\"#000000\" fill-rule=\"nonzero\" fill-opacity=\"1\" /><path clip-path=\"url(#clip420)\" d=\"M611.446 154.106 L611.446 138.412 L615.705 138.412 L615.705 153.944 Q615.705 157.625 617.14 159.476 Q618.575 161.305 621.446 161.305 Q624.895 161.305 626.886 159.106 Q628.899 156.907 628.899 153.111 L628.899 138.412 L633.159 138.412 L633.159 164.338 L628.899 164.338 L628.899 160.356 Q627.348 162.717 625.288 163.875 Q623.251 165.009 620.543 165.009 Q616.075 165.009 613.761 162.231 Q611.446 159.453 611.446 154.106 M622.163 137.787 L622.163 137.787 Z\" fill=\"#000000\" fill-rule=\"nonzero\" fill-opacity=\"1\" /><path clip-path=\"url(#clip420)\" d=\"M641.932 128.319 L646.191 128.319 L646.191 164.338 L641.932 164.338 L641.932 128.319 Z\" fill=\"#000000\" fill-rule=\"nonzero\" fill-opacity=\"1\" /><path clip-path=\"url(#clip420)\" d=\"M677.279 150.31 L677.279 152.393 L657.696 152.393 Q657.973 156.791 660.334 159.106 Q662.719 161.398 666.955 161.398 Q669.408 161.398 671.7 160.796 Q674.015 160.194 676.283 158.99 L676.283 163.018 Q673.992 163.99 671.584 164.5 Q669.177 165.009 666.7 165.009 Q660.496 165.009 656.862 161.398 Q653.251 157.787 653.251 151.629 Q653.251 145.264 656.677 141.537 Q660.126 137.787 665.959 137.787 Q671.191 137.787 674.223 141.166 Q677.279 144.523 677.279 150.31 M673.02 149.06 Q672.973 145.565 671.052 143.481 Q669.154 141.398 666.006 141.398 Q662.441 141.398 660.288 143.412 Q658.158 145.426 657.834 149.083 L673.02 149.06 Z\" fill=\"#000000\" fill-rule=\"nonzero\" fill-opacity=\"1\" /><path clip-path=\"url(#clip420)\" d=\"M699.293 142.393 Q698.575 141.977 697.718 141.791 Q696.885 141.583 695.867 141.583 Q692.256 141.583 690.311 143.944 Q688.39 146.282 688.39 150.68 L688.39 164.338 L684.107 164.338 L684.107 138.412 L688.39 138.412 L688.39 142.44 Q689.732 140.078 691.885 138.944 Q694.038 137.787 697.117 137.787 Q697.556 137.787 698.089 137.856 Q698.621 137.903 699.269 138.018 L699.293 142.393 Z\" fill=\"#000000\" fill-rule=\"nonzero\" fill-opacity=\"1\" /><circle clip-path=\"url(#clip420)\" cx=\"355.226\" cy=\"198.898\" r=\"20.48\" fill=\"#e26f46\" fill-rule=\"evenodd\" fill-opacity=\"1\" stroke=\"#000000\" stroke-opacity=\"1\" stroke-width=\"4.55111\"/>\n",
       "<path clip-path=\"url(#clip420)\" d=\"M451.493 181.618 L473.345 181.618 L473.345 185.553 L456.169 185.553 L456.169 195.784 L472.627 195.784 L472.627 199.719 L456.169 199.719 L456.169 212.242 L473.761 212.242 L473.761 216.178 L451.493 216.178 L451.493 181.618 Z\" fill=\"#000000\" fill-rule=\"nonzero\" fill-opacity=\"1\" /><path clip-path=\"url(#clip420)\" d=\"M496.284 194.233 Q495.567 193.817 494.71 193.631 Q493.877 193.423 492.858 193.423 Q489.247 193.423 487.303 195.784 Q485.382 198.122 485.382 202.52 L485.382 216.178 L481.099 216.178 L481.099 190.252 L485.382 190.252 L485.382 194.28 Q486.724 191.918 488.877 190.784 Q491.03 189.627 494.108 189.627 Q494.548 189.627 495.081 189.696 Q495.613 189.743 496.261 189.858 L496.284 194.233 Z\" fill=\"#000000\" fill-rule=\"nonzero\" fill-opacity=\"1\" /><path clip-path=\"url(#clip420)\" d=\"M514.942 194.233 Q514.224 193.817 513.368 193.631 Q512.534 193.423 511.516 193.423 Q507.905 193.423 505.96 195.784 Q504.039 198.122 504.039 202.52 L504.039 216.178 L499.757 216.178 L499.757 190.252 L504.039 190.252 L504.039 194.28 Q505.382 191.918 507.534 190.784 Q509.687 189.627 512.766 189.627 Q513.206 189.627 513.738 189.696 Q514.27 189.743 514.919 189.858 L514.942 194.233 Z\" fill=\"#000000\" fill-rule=\"nonzero\" fill-opacity=\"1\" /><path clip-path=\"url(#clip420)\" d=\"M528.414 193.238 Q524.988 193.238 522.997 195.923 Q521.006 198.585 521.006 203.238 Q521.006 207.891 522.974 210.576 Q524.965 213.238 528.414 213.238 Q531.817 213.238 533.807 210.553 Q535.798 207.867 535.798 203.238 Q535.798 198.631 533.807 195.946 Q531.817 193.238 528.414 193.238 M528.414 189.627 Q533.969 189.627 537.141 193.238 Q540.312 196.849 540.312 203.238 Q540.312 209.604 537.141 213.238 Q533.969 216.849 528.414 216.849 Q522.835 216.849 519.664 213.238 Q516.516 209.604 516.516 203.238 Q516.516 196.849 519.664 193.238 Q522.835 189.627 528.414 189.627 Z\" fill=\"#000000\" fill-rule=\"nonzero\" fill-opacity=\"1\" /><path clip-path=\"url(#clip420)\" d=\"M562.395 194.233 Q561.678 193.817 560.821 193.631 Q559.988 193.423 558.969 193.423 Q555.358 193.423 553.414 195.784 Q551.492 198.122 551.492 202.52 L551.492 216.178 L547.21 216.178 L547.21 190.252 L551.492 190.252 L551.492 194.28 Q552.835 191.918 554.988 190.784 Q557.141 189.627 560.219 189.627 Q560.659 189.627 561.191 189.696 Q561.724 189.743 562.372 189.858 L562.395 194.233 Z\" fill=\"#000000\" fill-rule=\"nonzero\" fill-opacity=\"1\" /><path clip-path=\"url(#clip420)\" d=\"M598.506 199.974 Q600.011 200.483 601.423 202.15 Q602.858 203.817 604.293 206.733 L609.038 216.178 L604.015 216.178 L599.594 207.312 Q597.881 203.84 596.261 202.705 Q594.663 201.571 591.886 201.571 L586.793 201.571 L586.793 216.178 L582.117 216.178 L582.117 181.618 L592.673 181.618 Q598.599 181.618 601.515 184.094 Q604.432 186.571 604.432 191.571 Q604.432 194.835 602.904 196.988 Q601.4 199.141 598.506 199.974 M586.793 185.46 L586.793 197.729 L592.673 197.729 Q596.052 197.729 597.765 196.178 Q599.501 194.604 599.501 191.571 Q599.501 188.539 597.765 187.011 Q596.052 185.46 592.673 185.46 L586.793 185.46 Z\" fill=\"#000000\" fill-rule=\"nonzero\" fill-opacity=\"1\" /><path clip-path=\"url(#clip420)\" d=\"M615.057 181.618 L619.733 181.618 L619.733 196.224 L635.242 181.618 L641.26 181.618 L624.108 197.729 L642.487 216.178 L636.33 216.178 L619.733 199.534 L619.733 216.178 L615.057 216.178 L615.057 181.618 Z\" fill=\"#000000\" fill-rule=\"nonzero\" fill-opacity=\"1\" /><path clip-path=\"url(#clip420)\" d=\"M659.408 185.692 L647.603 204.141 L659.408 204.141 L659.408 185.692 M658.182 181.618 L664.061 181.618 L664.061 204.141 L668.992 204.141 L668.992 208.029 L664.061 208.029 L664.061 216.178 L659.408 216.178 L659.408 208.029 L643.807 208.029 L643.807 203.516 L658.182 181.618 Z\" fill=\"#000000\" fill-rule=\"nonzero\" fill-opacity=\"1\" /><circle clip-path=\"url(#clip420)\" cx=\"355.226\" cy=\"250.738\" r=\"20.48\" fill=\"#3da44d\" fill-rule=\"evenodd\" fill-opacity=\"1\" stroke=\"#000000\" stroke-opacity=\"1\" stroke-width=\"4.55111\"/>\n",
       "<path clip-path=\"url(#clip420)\" d=\"M451.493 233.458 L473.345 233.458 L473.345 237.393 L456.169 237.393 L456.169 247.624 L472.627 247.624 L472.627 251.559 L456.169 251.559 L456.169 264.082 L473.761 264.082 L473.761 268.018 L451.493 268.018 L451.493 233.458 Z\" fill=\"#000000\" fill-rule=\"nonzero\" fill-opacity=\"1\" /><path clip-path=\"url(#clip420)\" d=\"M496.284 246.073 Q495.567 245.657 494.71 245.471 Q493.877 245.263 492.858 245.263 Q489.247 245.263 487.303 247.624 Q485.382 249.962 485.382 254.36 L485.382 268.018 L481.099 268.018 L481.099 242.092 L485.382 242.092 L485.382 246.12 Q486.724 243.758 488.877 242.624 Q491.03 241.467 494.108 241.467 Q494.548 241.467 495.081 241.536 Q495.613 241.583 496.261 241.698 L496.284 246.073 Z\" fill=\"#000000\" fill-rule=\"nonzero\" fill-opacity=\"1\" /><path clip-path=\"url(#clip420)\" d=\"M514.942 246.073 Q514.224 245.657 513.368 245.471 Q512.534 245.263 511.516 245.263 Q507.905 245.263 505.96 247.624 Q504.039 249.962 504.039 254.36 L504.039 268.018 L499.757 268.018 L499.757 242.092 L504.039 242.092 L504.039 246.12 Q505.382 243.758 507.534 242.624 Q509.687 241.467 512.766 241.467 Q513.206 241.467 513.738 241.536 Q514.27 241.583 514.919 241.698 L514.942 246.073 Z\" fill=\"#000000\" fill-rule=\"nonzero\" fill-opacity=\"1\" /><path clip-path=\"url(#clip420)\" d=\"M528.414 245.078 Q524.988 245.078 522.997 247.763 Q521.006 250.425 521.006 255.078 Q521.006 259.731 522.974 262.416 Q524.965 265.078 528.414 265.078 Q531.817 265.078 533.807 262.393 Q535.798 259.707 535.798 255.078 Q535.798 250.471 533.807 247.786 Q531.817 245.078 528.414 245.078 M528.414 241.467 Q533.969 241.467 537.141 245.078 Q540.312 248.689 540.312 255.078 Q540.312 261.444 537.141 265.078 Q533.969 268.689 528.414 268.689 Q522.835 268.689 519.664 265.078 Q516.516 261.444 516.516 255.078 Q516.516 248.689 519.664 245.078 Q522.835 241.467 528.414 241.467 Z\" fill=\"#000000\" fill-rule=\"nonzero\" fill-opacity=\"1\" /><path clip-path=\"url(#clip420)\" d=\"M562.395 246.073 Q561.678 245.657 560.821 245.471 Q559.988 245.263 558.969 245.263 Q555.358 245.263 553.414 247.624 Q551.492 249.962 551.492 254.36 L551.492 268.018 L547.21 268.018 L547.21 242.092 L551.492 242.092 L551.492 246.12 Q552.835 243.758 554.988 242.624 Q557.141 241.467 560.219 241.467 Q560.659 241.467 561.191 241.536 Q561.724 241.583 562.372 241.698 L562.395 246.073 Z\" fill=\"#000000\" fill-rule=\"nonzero\" fill-opacity=\"1\" /><path clip-path=\"url(#clip420)\" d=\"M598.506 251.814 Q600.011 252.323 601.423 253.99 Q602.858 255.657 604.293 258.573 L609.038 268.018 L604.015 268.018 L599.594 259.152 Q597.881 255.68 596.261 254.545 Q594.663 253.411 591.886 253.411 L586.793 253.411 L586.793 268.018 L582.117 268.018 L582.117 233.458 L592.673 233.458 Q598.599 233.458 601.515 235.934 Q604.432 238.411 604.432 243.411 Q604.432 246.675 602.904 248.828 Q601.4 250.981 598.506 251.814 M586.793 237.3 L586.793 249.569 L592.673 249.569 Q596.052 249.569 597.765 248.018 Q599.501 246.444 599.501 243.411 Q599.501 240.379 597.765 238.851 Q596.052 237.3 592.673 237.3 L586.793 237.3 Z\" fill=\"#000000\" fill-rule=\"nonzero\" fill-opacity=\"1\" /><path clip-path=\"url(#clip420)\" d=\"M615.057 233.458 L619.733 233.458 L619.733 248.064 L635.242 233.458 L641.26 233.458 L624.108 249.569 L642.487 268.018 L636.33 268.018 L619.733 251.374 L619.733 268.018 L615.057 268.018 L615.057 233.458 Z\" fill=\"#000000\" fill-rule=\"nonzero\" fill-opacity=\"1\" /><path clip-path=\"url(#clip420)\" d=\"M650.589 264.082 L666.908 264.082 L666.908 268.018 L644.964 268.018 L644.964 264.082 Q647.626 261.328 652.209 256.698 Q656.816 252.045 657.996 250.703 Q660.242 248.18 661.121 246.444 Q662.024 244.684 662.024 242.995 Q662.024 240.24 660.08 238.504 Q658.158 236.768 655.057 236.768 Q652.858 236.768 650.404 237.532 Q647.973 238.295 645.196 239.846 L645.196 235.124 Q648.02 233.99 650.473 233.411 Q652.927 232.833 654.964 232.833 Q660.334 232.833 663.529 235.518 Q666.723 238.203 666.723 242.694 Q666.723 244.823 665.913 246.745 Q665.126 248.643 663.02 251.235 Q662.441 251.907 659.339 255.124 Q656.237 258.319 650.589 264.082 Z\" fill=\"#000000\" fill-rule=\"nonzero\" fill-opacity=\"1\" /></svg>\n"
      ]
     },
     "execution_count": 87,
     "metadata": {},
     "output_type": "execute_result"
    }
   ],
   "source": [
    "error_euler = abs.(w_e-y.(t_e))\n",
    "error_RK4 = abs.(w_RK4-y.(t_RK4))\n",
    "error_RK2 = abs.(w_RK2-y.(t_RK2))\n",
    "\n",
    "scatter(t_e,error_euler,label = \"Error Euler\")\n",
    "scatter!(t_RK4,error_RK4,label = \"Error RK4\")\n",
    "scatter!(t_RK2,error_RK2,label = \"Error RK2\")"
   ]
  },
  {
   "cell_type": "markdown",
   "metadata": {},
   "source": [
    "## Problema 3\n",
    "Considere el problema de valor inicial:\n",
    "$$\n",
    "\\frac{dy}{dt}(t) = \\sin{(y(t))},\\;\\;\\;\\;\\;\\; 0\\le t\\le 20.0, \\;\\;\\;\\;\\; y(0)=\\alpha\n",
    "$$\n",
    "Resuélvalo para los siguientes valores iniciales $\\alpha_1=0.5$, $\\alpha_2=2.0$, $\\alpha_3= \\pi$, $\\alpha_4=3.6$ $\\alpha_5=5.5$ y $\\alpha_6=2\\pi$, en todos los casos con $h=0.1$.\n",
    "Para este probolema, utilice sólo el método RK4.\n",
    "Luego grafique simultáneamente las seis curvas aproximadas a las soluciones de los seis problemas de valores iniciales (no olvide hacer un gráfico de calidad, completo). \n",
    "Analice."
   ]
  },
  {
   "cell_type": "code",
   "execution_count": null,
   "metadata": {},
   "outputs": [],
   "source": []
  },
  {
   "cell_type": "markdown",
   "metadata": {},
   "source": [
    "## Problema 4\n",
    "\n",
    "Siendo $g$ la acelaración de la gravedad, considere el problema de valores iniciales para la ecuación de la dinámica de un péndulo simple de longitud $l$\n",
    "\\begin{align}\n",
    "\\ddot{\\theta}(t) &=& - \\frac{g}{l} \\sin{(\\theta(t))}  \\hspace{5cm} (1)\n",
    "\\end{align}\n",
    "para $\\theta(0)=\\theta_0$, $\\dot{\\theta}(0)= \\dot{\\theta}_0$.\n",
    "Definiendo  $u= \\dot{\\theta}$ esta ecuación de segundo orden se puede escribir como un sistema de dos ecuaciones de primer orden\n",
    "\\begin{align}\n",
    "\\dot{\\theta}(t) &=& u(t) \\hspace{5cm} (2)\\\\\n",
    "\\dot{u}(t)      &=& - \\frac{g}{l} \\sin{(\\theta(t))}\n",
    "\\end{align}\n",
    "de condiciones iniciales $(\\theta(0),u(0))=(\\theta_0,\\dot{\\theta}_0)$.\n",
    "\n",
    "Analice numéricamente este sistema de ecuaciones diferenciales ordinarias acopladas para $g=10 m/s^2$ y $l=1 m$. Para ello:\n",
    "\n",
    "1. Implemente el método RK4 multidimensional.\n",
    "\n",
    "2. Usando el método anteriormente implementado y paso de integración $h=0.1$, calcule una solución numérica $\\theta(t)$ y $u(t)$ vs $t$ del sistema (2) para $0\\le t\\le 10$ y condiciones iniciales $\\theta(0)=0.25$ y $u(0)=0$.\n",
    "\n",
    "Note que $\\sin(\\theta) \\approx \\theta$ para ángulos pequeños. Luego, cuando $0<\\theta_0\\ll 1$, la ecución diferencial ordinaria (1) puede aproximarse por la del oscilador armónico\n",
    "\\begin{align}\n",
    "\\ddot{\\theta}(t) &=& - \\frac{g}{l} \\theta(t)  \\hspace{5cm} (3)\n",
    "\\end{align}\n",
    "la cual admite solución exacta $\\theta_e(t) = \\theta_0 \\cos(\\omega t)$ con $\\omega=\\sqrt{\\frac{g}{l}}$.\n",
    "\n",
    "3. Calcule una solución numérica aproximada $\\theta_a(t)$ y $u_a(t)$ vs $t$ de oscilador armónico usando las mismas condiciones iniciales que para el sistema (2).\n",
    "\n",
    "4. Calcule y grafique la diferencia $\\theta_e(t)-\\theta_a(t)$ vs $t$ para visualizar el error de la solución numérica del oscilador armónico. Que observa?\n",
    "\n",
    "5. Compare todas las soluciones graficando simultaneamente $\\theta(t)$, $u(t)$, $\\theta_a(t)$, $u_a(t)$, $\\theta_e(t)$ y $u_e(t)$ vs $t$.\n",
    "    \n",
    "6. Calcule y grafique simultaneamente la energía del sistema $E(t) = K(t) + U(t)$ utilizando:\n",
    "\n",
    "    a). La energía del sistema original con la solución numérica del sistema original.\n",
    "    \n",
    "    b). La energía del sistema original con la solución numérica del oscilador armónico.\n",
    "    \n",
    "    c). La energía del oscilador armónico con la solución numérica del oscilador armónico.\n",
    "    \n",
    "    d). La energía del oscilador armónico con la solución exacta del oscilador armónico.\n",
    "\n",
    "    Discuta lo observado.\n",
    "\n",
    "**Ayuda:** Note que $y,f(t,y)\\in \\mathbb{R}^2$ donde $y=(y_1,y_2)=(\\theta,u)$ y $f(t,y)=(f_1(t,y),f_2(t,y))$ con $f_1(t,y)=y_2$ y $f_2(t,y)=-\\frac{g}{l}\\sin(y_1)$."
   ]
  },
  {
   "cell_type": "code",
   "execution_count": null,
   "metadata": {},
   "outputs": [],
   "source": []
  },
  {
   "cell_type": "markdown",
   "metadata": {},
   "source": [
    "## Problema 5\n",
    "\n",
    "Considere el problema de estudiar la evolución de una epidemia, con el modelo **SIR**.\n",
    "Sea $S=$ población de individuos susceptibles, $I=$ población de individuos infectados y $R=$ población de individuos recuperados (que tienen inmunidad y no pueden volver a contagiarse).\n",
    "Entonces las ecuaciones diferenciales asociadas a la evolución temporal de dichas poblaciones son:\n",
    "\n",
    "\\begin{align}\n",
    "\\frac{d S}{d t}(t) &= -\\beta S(t) \\frac{I(t)}{N}\\\\\n",
    "\\frac{d I}{d t}(t) &= \\beta S(t) \\frac{I(t)}{N} - \\gamma I(t)\\\\\n",
    "\\frac{d R}{d t}(t) &= \\gamma I(t)\n",
    "\\end{align}\n",
    "\n",
    "donde $N=S(t)+I(t)+R(t)$ es la población total constante.\n",
    "\n",
    "1. Considere las condiciones iniciales: $N=1000$, $I_0=10$, $R_0=0$ y los parámetros $\\gamma = 0.1$ y  $\\beta = 0.5$.\n",
    " \n",
    "2. Utilice el método RK4 implementado en el **problema 4** para resolver este problema entre $t=0$ y $t=200$. \n",
    " \n",
    "3. Grafique la evolución temporal de las tres poblaciones, $S(t)$, $I(t)$ y $R(t)$ vs $t$ en el intervalo de $t$ calculado."
   ]
  },
  {
   "cell_type": "code",
   "execution_count": null,
   "metadata": {},
   "outputs": [],
   "source": []
  },
  {
   "cell_type": "markdown",
   "metadata": {},
   "source": [
    "# Problemas Complementarios"
   ]
  },
  {
   "cell_type": "markdown",
   "metadata": {},
   "source": [
    "## Problema C.1\n",
    "\n",
    "La llamada **ecuación logística**\n",
    "$$\n",
    "\\frac{dN}{dt}(t)= r\\,N(t) \\left(1-\\frac{N(t)}{K}\\right)\n",
    "$$\n",
    "describe el crecimiento autolimitado de una población dada (suponiendo que no\n",
    "interactúa con otras especies y que tiene fuentes limitadas de alimentos). Fue\n",
    "propuesta por Verhulst en 1838 y permite describir al menos cualitativamente\n",
    "varios fenómenos poblacionales observados en la naturaleza. En esta ecuación\n",
    "$N(t)$ es el número de individuos de la colonia al tiempo $t$ y $K$ es una\n",
    "constante positiva.\n",
    "\n",
    "Una solución $N^*$ se dice estacionaria si se satisface que $dN^*/dt=0$, y por\n",
    "ende no cambia en el tiempo. Para esta ecuación es fácil verificar que\n",
    "sólo existen dos soluciones estacionarias: $N_1^*=0$ y $N_2^*=K$.\n",
    "\n",
    "Determine cuál de las dos soluciones estacionarias es estable y cuál inestable\n",
    "resolviendo numéricamente la ecuación diferencial con el método\n",
    "Runge-Kutta de cuarto orden para $r=2$, $K=100$, en el intervalo $0\\le t \\le 50$\n",
    "con $h=0.1$ y considerando cinco condiciones iniciales diferentes: a) $N(0)= 0$,\n",
    "b) $N(0)=2$, c) $N(0)=50$, d) $N(0)= 120$ y d) $N(0)=200$.  Grafique\n",
    "simultáneamente las cinco soluciones $t$ vs.  $N(t)$ en el intevalo $0\\le t\\le\n",
    "50$ en un gráfico completo."
   ]
  },
  {
   "cell_type": "code",
   "execution_count": null,
   "metadata": {},
   "outputs": [],
   "source": []
  },
  {
   "cell_type": "markdown",
   "metadata": {},
   "source": [
    "## Problema C.2\n",
    "Use el método del disparo para resolver los siguientes problemas de \n",
    "frontera con una tolerancia de $10^{-5}$. Se da un valor tentativo inicial de $h$ \n",
    "y la solución exacta  para comparación.\n",
    " \n",
    "1. $1\\leq t\\leq 2$, comience con $h=0.5$\n",
    "$$\n",
    "\\ddot{x}(t)\\,=\\,-(\\dot{x}(t))^2 \\,,\\;\\;\\;x(1)=0\\;,\\;\\;x(2)=\\ln{(2)} \\,.\n",
    "$$\n",
    "Solución exacta $x(t)=\\ln{(t)}$.\n",
    "\n",
    "2. $-1\\leq t\\leq 0$, comience con $h=0.25$\n",
    "$$\n",
    "\\ddot{x}(t)\\,=\\,2 x^3(t)\\,,\\;\\;\\;x(-1)=\\frac{1}{2}\\;,\\;\\;x(0)=\\frac{1}{3} \\,.\n",
    "$$\n",
    "Solución exacta $x=1/(t+3)$.\n",
    "\n",
    "3. $1\\leq t\\leq 2$, comience con $h=0.05$\n",
    "$$\n",
    "\\ddot{x}(t)\\,=\\,\\frac{(t\\,\\dot{x}(t))^2\\,-9 x^2+4 t^6}{t^5},\\;\\;\\;x(1)=0\\;,\\;\\;x(2)=\\ln{(256)} \\,.\n",
    "$$\n",
    "Solución exacta $x(t)=t^3\\,\\ln{(t)}$.\n",
    "\n",
    "**Ayuda:** Considere las aproximaciones $x_a(t)$ con $x_a(t_0) = x_0$ y $\\dot{x}_a(t_0) = a$. Utilice el método de la bisección para encontrar la raíz de $F(a) := x_a(t_1) - x_1$."
   ]
  },
  {
   "cell_type": "code",
   "execution_count": null,
   "metadata": {},
   "outputs": [],
   "source": []
  },
  {
   "cell_type": "markdown",
   "metadata": {},
   "source": [
    "## Problema C.3\n",
    "**Método de Runge-Kutta de orden 4**\n",
    "\n",
    "Muestre que la elección dada en el teórico para los pesos $\\vec{b}$, los nodos $\\vec{c}$ y la matriz $A$ para el método RK4:\n",
    "\\begin{eqnarray}\n",
    "\\vec{b}&=&(1/6,1/3,1/3,1/6) \\\\\n",
    "\\vec{c}&=&(0,1/2,1/2,1) \\\\\n",
    "a_{2,1}&=&1/2 \\\\\n",
    "a_{3,2}&=&1/2 \\\\\n",
    "a_{4,3}&=&1\n",
    "\\end{eqnarray}\n",
    "conduce a las ecuaciones RK4 \"clásicas\" dadas en clase."
   ]
  },
  {
   "cell_type": "code",
   "execution_count": null,
   "metadata": {},
   "outputs": [],
   "source": []
  },
  {
   "cell_type": "markdown",
   "metadata": {},
   "source": [
    "## Problema C.4\n",
    "Considere la siguiente ecuación diferencial\n",
    "$$\n",
    "y^{\\prime \\prime} = \\frac{1}{8} \\left( 32 + 2 x^3 - y y' \\right)    \\qquad \\qquad \\mbox{para }\n",
    "1 \\le x \\le 3\n",
    "$$\n",
    "de solución $y:x\\to y(x)$.\n",
    "1. Utilice el método RK4 en el intervalo $1 \\le x\\le 3$ para resolver esta ecuación con las condiciones iniciales $y(1) = 17$, $y'(1) = 0$.\n",
    "Encuentre, además $y'(3)$.\n",
    "\n",
    "2. Repita el inciso anterior, pero con las condiciones iniciales $y(1) = 17$, $y'(1) = -40$.\n",
    "\n",
    "3. Resuelva la misma ecuación diferencial con las condiciones de borde $y(1) = 17$, $y' (3) = 0$ en $N=400$ puntos equiespaciados de $x\\in [1,3]$ usando el método de disparo. Para ello, combine el método de la bisección de tolerancia $10^{-10}$ con la información de los incisos anteriores. Grafique la solución $y$ y su derivada $y'$."
   ]
  },
  {
   "cell_type": "code",
   "execution_count": null,
   "metadata": {},
   "outputs": [],
   "source": []
  },
  {
   "cell_type": "markdown",
   "metadata": {},
   "source": [
    "## Problema C.5\n",
    "   \n",
    "El objeto de este problema es familiarizarse con el uso de una librería para resolver un sistema de ecuaciones diferenciales ordinarias multidimensionales. \n",
    "    Para ello les pedimos que reproduzca en su notebook el **ejemplo 2** de esta página: \n",
    "\n",
    "    https://docs.sciml.ai/DiffEqDocs/stable/getting_started/\n",
    "    \n",
    "Se trata del atractor de Lorenz, un sistema que excibe caos y que es una simplificación *extrema* de un problema de climatología. \n",
    "\n",
    "Luego de implementarlo, juegue cambiando las condiciones iniciales y/o parámetros. Cambie los métodos de integración. Esta librería tiene decenas de distintos métodos.\n",
    "\n",
    "**Nota:** Al comienzo tiene que poner: `using Plots, OrdinaryDiffEq`"
   ]
  },
  {
   "cell_type": "code",
   "execution_count": null,
   "metadata": {},
   "outputs": [],
   "source": [
    "# Para instalar el paquete \"OrdinaryDiffEq\" ejecute (demora un buen rato):\n",
    "import Pkg\n",
    "Pkg.add(\"OrdinaryDiffEq\")"
   ]
  },
  {
   "cell_type": "code",
   "execution_count": null,
   "metadata": {},
   "outputs": [],
   "source": [
    "using OrdinaryDiffEq"
   ]
  }
 ],
 "metadata": {
  "@webio": {
   "lastCommId": null,
   "lastKernelId": null
  },
  "kernelspec": {
   "display_name": "Julia 1.8.5",
   "language": "julia",
   "name": "julia-1.8"
  },
  "language_info": {
   "file_extension": ".jl",
   "mimetype": "application/julia",
   "name": "julia",
   "version": "1.8.5"
  }
 },
 "nbformat": 4,
 "nbformat_minor": 4
}
