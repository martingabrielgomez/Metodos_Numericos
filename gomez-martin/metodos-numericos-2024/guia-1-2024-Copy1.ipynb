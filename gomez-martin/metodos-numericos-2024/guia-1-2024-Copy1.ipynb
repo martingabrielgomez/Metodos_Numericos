{
 "cells": [
  {
   "cell_type": "markdown",
   "metadata": {},
   "source": [
    "# Métodos Numéricos 2024"
   ]
  },
  {
   "cell_type": "markdown",
   "metadata": {},
   "source": [
    "## Guía 1: 2024-03-12"
   ]
  },
  {
   "cell_type": "markdown",
   "metadata": {},
   "source": [
    "## Parte 1 : Uso de Linux, Julia y Notebooks"
   ]
  },
  {
   "cell_type": "markdown",
   "metadata": {},
   "source": [
    "### Ejercicio 1 : terminal de *bash*\n",
    "\n",
    "1. Abra una terminal de *bash* de linux. Ud. debería ver en la termina un *prompt* `user@host:~$` indicando el nombre del *usuario* logueado y del *host* (la computadora). En la práctica el nombre de user y host pueden cambiar dependiendo de quién es el usuario que está loguead y en que máquina lo haya hecho. Por otro lado, lo que está entre los dos puntos `:` y el signo pesos `$` indica el directorio de trabajo. En este caso, el símbolo es `~` lo cual representa una abreviación del directorio de trabajo de su usuario que, en este ejemplo, es `/home/user/`.\n",
    "\n",
    "2. El prompt le permite a Ud. ingresar comandos de *bash*. Con estos comandos, Ud. podrá crear y borrar directorios, copiar archivos, cambiar de directorio de trabajo, imprimir en pantalla la lista de directorios y archivos en su actual directorio de trabajo, etc. Además, podrá ejecutar programas."
   ]
  },
  {
   "cell_type": "markdown",
   "metadata": {},
   "source": [
    "### Ejercicio 2 : instalando *Julia*\n",
    "\n",
    "*Julia* es un lenguage de programación de [código abierto](https://es.wikipedia.org/wiki/C%C3%B3digo_abierto) (open source) específicamente desarrollado para el cálculo numérico y científico. Es el lenguaje de programación que utilizaremos en la comisión de Julia de los prácticos de Métodos Numéricos (2024).\n",
    "\n",
    "A continuación, Ud. deberá instalar Julia en la computadora en la que está trabajando. En algunos casos, puede que Julia ya esté instalado. Si ese es el caso, llame al profesor para que elimine la instalación así Ud. puede practicar la misma.\n",
    "\n",
    "Para instalar Julia:\n",
    "\n",
    "1. Ingrese a la página oficial de Julia\n",
    "\n",
    "* [https://julialang.org/](https://julialang.org/)\n",
    "        \n",
    "2. En la página de Julia, cliquee en el botón *Download*. Esto lo llevará a Ud. a la página\n",
    "\n",
    "* [https://julialang.org/downloads/](https://julialang.org/downloads/)\n",
    "        \n",
    "3. Luego, vaya hasta la sección *Official Binaries for Manual Download* y baje el archivo \n",
    "\n",
    "* [https://julialang-s3.julialang.org/bin/linux/x64/1.10/julia-1.10.2-linux-x86_64.tar.gz](https://julialang-s3.julialang.org/bin/linux/x64/1.10/julia-1.10.2-linux-x86_64.tar.gz)\n",
    "        \n",
    "    (o la versión equivalente) escondido en el link de nombre `glibc` correspondiente a la versión *Generic Linux on x86* de Linux.\n",
    "    \n",
    "4. Abra una terminal de bash y descomprima el archivo ejecutando el comando\n",
    "\n",
    "        tar -xf julia-1.10.2-linux-x86_64.tar.gz\n",
    "        \n",
    "    esto creará una carpeta llamada `julia-1.10.2` en donde podrá encontrar los archivos de Julia.\n",
    "    \n",
    "5. Para poder ejecutar julia desde cualquier directorio, hay que modificar el archivo de texto `.bashrc` agregandole al final la linea\n",
    "\n",
    "        export PATH=:$HOME/julia-1.10.2/bin:$PATH\n",
    "        \n",
    "   Para ello, puede utilizar el editor de texto `gedit` ingresando el comando\n",
    "   \n",
    "        gedit ~/.bashrc"
   ]
  },
  {
   "cell_type": "markdown",
   "metadata": {},
   "source": [
    "### Ejercicio 3 : instalando *paquetes* de Julia\n",
    "\n",
    "1. En una terminal de bash, inicie una terminal de Julia ingresando el comando `julia`. Con esto, le aparecerá el prompt `julia>` de la terminal de Julia en donde Ud. podrá ingresar comandos de Julia.\n",
    "\n",
    "2. Importe el administrador de paquetes de Julia llamado `Pkg` ingrese el comando \n",
    "\n",
    "        using Pkg \n",
    "   \n",
    "3. Para poder realizar graficos en Julia, instale el paquete `Plots` ingresando el comando \n",
    "\n",
    "        Pkg.add(\"Plots\")\n",
    "   \n",
    "4. Para poder utilizar *notebooks de Jupyter* en Julia, instale el paquete `IJulia` ingresando el comando\n",
    "\n",
    "        Pkg.add(\"IJulia\")\n",
    "   \n",
    "5. Para salir de la terminal de Julia ingrese el comando\n",
    "\n",
    "        exit()"
   ]
  },
  {
   "cell_type": "markdown",
   "metadata": {},
   "source": [
    "### Ejercicio 4 : Clonando el repositorio *git*\n",
    "\n",
    "1. En una terminal de bash, cree un directorio con el formato `apellido-nombre` ingresando el comando\n",
    "\n",
    "        mkdir apellido-nombre\n",
    "\n",
    "    Recuerde usar su primer appellido en vez de `apellido` y su primer nombre en vez de `nombre`. Evite utilizar espacios, acentos o la letra ñ.\n",
    "   \n",
    "2. Cambie de directorio de trabajo ingresando al directorio recientemente creado ingresando el comando\n",
    "\n",
    "        cd apellido-nombre\n",
    "\n",
    "3. Clone el repositorio ingresando el comando\n",
    "\n",
    "        git clone https://github.com/jipphysics/metodos-numericos-2024.git"
   ]
  },
  {
   "cell_type": "markdown",
   "metadata": {},
   "source": [
    "### Ejercicio 5 : Trabajando con *notebooks*\n",
    "\n",
    "1. En una terminal de bash, inicialize una terminal de Julia ingresando el comando\n",
    "\n",
    "        julia\n",
    "    \n",
    "2. En la terminal de Julia, inicialize el administrador de notebooks de *Jupyter* ingresando los comandos\n",
    "\n",
    "        using IJulia\n",
    "        notebook()\n",
    "   \n",
    "3. Desde el administrador de notebooks, vaya a la carpeta del repositior que anteriormente clonó y cree una copia o duplicado de la notebook \n",
    "\n",
    "        guia-1-2024.ipynb\n",
    "\n",
    "4. Abra la copia de la notebook y resuelva los ejercicios y problemas.\n",
    "\n",
    "**IMPORTANTE:** Trabaje siempre en la copia de las notebook del repositorio clonado. Nunca trabaje en la originale. Esto le permitirá en un futuro bajar facilmente el resto de las guías."
   ]
  },
  {
   "cell_type": "markdown",
   "metadata": {},
   "source": [
    "## Parte 2 : Ejercicios de programación en Julia"
   ]
  },
  {
   "cell_type": "markdown",
   "metadata": {},
   "source": [
    "### Ejercicio 6: strings\n",
    "\n",
    "En Julia, como en la mayoría de los lenguajes de programación, uno puede representar texto en el código utilizando cadenas de caracteres (strings). Para construir una cadena de caracteres, simplemente englobe el texto entre comillas\n",
    "\n",
    "        \"Hola mundo!\"\n",
    "        \n",
    "A continuación, construya una cadena de texto con su frase favorita."
   ]
  },
  {
   "cell_type": "code",
   "execution_count": 11,
   "metadata": {},
   "outputs": [
    {
     "data": {
      "text/plain": [
       "\"Los poetas, como los ciegos, pueden ver en la oscuridad.\""
      ]
     },
     "execution_count": 11,
     "metadata": {},
     "output_type": "execute_result"
    }
   ],
   "source": [
    "\"Los poetas, como los ciegos, pueden ver en la oscuridad.\""
   ]
  },
  {
   "cell_type": "markdown",
   "metadata": {},
   "source": [
    "### Ejercicio 7: unicode\n",
    "\n",
    "Escribir símbolos especiales en Julia es muy parecido a escribir símbolos especiales en LaTeX. Para ello, se utiliza el sistema unicode\n",
    "\n",
    "* [https://docs.julialang.org/en/v1/manual/unicode-input/](https://docs.julialang.org/en/v1/manual/unicode-input/)\n",
    "\n",
    "Por ejemplo, para ingresar:"
   ]
  },
  {
   "cell_type": "code",
   "execution_count": 12,
   "metadata": {},
   "outputs": [
    {
     "ename": "LoadError",
     "evalue": "UndefVarError: `α` not defined",
     "output_type": "error",
     "traceback": [
      "UndefVarError: `α` not defined",
      ""
     ]
    }
   ],
   "source": [
    "÷     # tiene que escribir \\div y luego presionar la tecla tab.\n",
    "\n",
    "α     # tiene que escribir \\alpha y luego presionar la tecla tab.\n",
    "\n",
    "⊗     # tiene que escribir \\otimes y luego presionar la tecla tab."
   ]
  },
  {
   "cell_type": "markdown",
   "metadata": {},
   "source": [
    "En una celda de código ingrese los símbolos unicode $\\pm$, $\\times$, $\\Delta$, $\\epsilon$, $\\backepsilon$, $\\subset$ y $x^3$."
   ]
  },
  {
   "cell_type": "code",
   "execution_count": 14,
   "metadata": {},
   "outputs": [
    {
     "ename": "LoadError",
     "evalue": "UndefVarError: `±` not defined",
     "output_type": "error",
     "traceback": [
      "UndefVarError: `±` not defined",
      ""
     ]
    }
   ],
   "source": [
    "∈\n",
    "∋\n",
    "∆\n",
    "±\n",
    "⊂\n",
    "𝑥^3"
   ]
  },
  {
   "cell_type": "markdown",
   "metadata": {},
   "source": [
    "### Ejercicio 8: números enteros\n",
    "\n",
    "En Julia, Ud. puede representar un número de entero en el código escribiendo el número de la manera usual. Note, sin embargo, que los números enteros que una computadora puede representar abarcan un rango finito de posibilidades, dependiendo del *tipo* de número de entero utilizado. \n",
    "\n",
    "En Julia, existen los tipos `UInt8`, `UInt16`, `UInt32`, `UInt64` y `UInt128` para representar enteros sin signo (Unsigned) de 8, 16, 32, 64 y 128 bits y los tipos `Int8`, `Int16`, `Int32`, `Int64` y `Int128` para representar enteros con signo de 8, 16, 32, 64 y 128 bits. Por defecto, Julia utiliza enteros con signo de 64 bits. Por ende, si Ud. escribe\n",
    "\n",
    "    42\n",
    "    \n",
    "Julia asumirá que dicho número es un número entero de tipo `Int64`. Si Ud. desea que dicho número sea de tipo entero sin signo y 16 bits, simplemente escriba\n",
    "\n",
    "    UInt16(42)\n",
    "\n",
    "Para más detalle, visite la ayuda correspondiente de la página de Julia:\n",
    "\n",
    "* [https://docs.julialang.org/en/v1/manual/integers-and-floating-point-numbers/#Integers](https://docs.julialang.org/en/v1/manual/integers-and-floating-point-numbers/#Integers)\n",
    "\n",
    "A contiuación, ingrese un número de cada tipo."
   ]
  },
  {
   "cell_type": "code",
   "execution_count": 2,
   "metadata": {},
   "outputs": [
    {
     "name": "stdout",
     "output_type": "stream",
     "text": [
      "15"
     ]
    }
   ],
   "source": [
    "a = UInt16(15)\n",
    "print(\"$(a)\")"
   ]
  },
  {
   "cell_type": "markdown",
   "metadata": {},
   "source": [
    "### Ejercicio 9: números flotantes\n",
    "\n",
    "De manera similar a lo que ocurre con los números enteros, Julia puede representar números flotantes de diferentes tipos de precisión. Por defecto, Julia asume que los números flotantes son de 64 bits. Por ejemplo, Julia traduce\n",
    "\n",
    "        1.0\n",
    "        \n",
    "al número `Float64(1.0)`. \n",
    "\n",
    "Ingrese números flotantes de 16, 32 y 64 bits."
   ]
  },
  {
   "cell_type": "code",
   "execution_count": 6,
   "metadata": {},
   "outputs": [
    {
     "name": "stdout",
     "output_type": "stream",
     "text": [
      "1.54\n",
      "1.3\n",
      "3.1\n"
     ]
    }
   ],
   "source": [
    "x = Float64(1.54)\n",
    "y = Float32(1.30)\n",
    "z = Float16(3.1)\n",
    "println(\"$(x)\\n$(y)\\n$(z)\")"
   ]
  },
  {
   "cell_type": "markdown",
   "metadata": {},
   "source": [
    "### Ejercicio 10: variables\n",
    "\n",
    "Las variables se usan para almacenar valores. Los valores pueden ser números, strings, arrays, etc. Por ejemplo, en Julia podemos asignar un valor a una variable `x` utilizando la siguiente sintaxis\n",
    "\n",
    "    x = 10.0\n",
    "    \n",
    "Cree diferentes variables asignandole diferentes valores. Modifique luego el valor de las variables."
   ]
  },
  {
   "cell_type": "code",
   "execution_count": 9,
   "metadata": {},
   "outputs": [
    {
     "name": "stdout",
     "output_type": "stream",
     "text": [
      "15.0\n"
     ]
    }
   ],
   "source": [
    "x = 10 \n",
    "y = x/2\n",
    "x = y+x\n",
    "if x<100\n",
    "    println(\"$(x)\")\n",
    "else \n",
    "    println(\"$(y)\")\n",
    "end"
   ]
  },
  {
   "cell_type": "markdown",
   "metadata": {},
   "source": [
    "### Ejercicio 11: print\n",
    "\n",
    "Las funciones `print` y `println` nos permiten imprimir cosas en pantalla. Por ejemplo\n",
    "\n",
    "    println(\"Hola mundo!\")\n",
    "    \n",
    "imprimirá\n",
    "\n",
    "    Hola mundo!\n",
    "\n",
    "Se puede usar el concepto de *interpolacion* imprimir el valor de variables. Por ejemplo\n",
    "\n",
    "    x = 10.0\n",
    "    \n",
    "    println(\"El valor de x es $(x)\")\n",
    "    \n",
    "Para más información, lea la documentación correspondiente en la página de Julia\n",
    "\n",
    "* [https://docs.julialang.org/en/v1/manual/strings/#string-interpolation](https://docs.julialang.org/en/v1/manual/strings/#string-interpolation)\n",
    "    \n",
    "Use interpolación para imprimir el valor de las variables definidas arriba.    "
   ]
  },
  {
   "cell_type": "code",
   "execution_count": 10,
   "metadata": {},
   "outputs": [
    {
     "name": "stdout",
     "output_type": "stream",
     "text": [
      "15.0\n"
     ]
    }
   ],
   "source": [
    "println(\"$(x)\")"
   ]
  },
  {
   "cell_type": "markdown",
   "metadata": {},
   "source": [
    "### Ejercicio 12: operadores aritméticos\n",
    "\n",
    "Los operadores aritméticos nos permiten realizar operaciones aritméticas sobre expressiones y/o variables con valores numéricos. Por ejemplo, podemos cambiar de signo, sumar, restar, multiplicar, divir y exponenciar enteros, escribiendo\n",
    "\n",
    "       -3\n",
    "        3 + 4\n",
    "        3 - 4\n",
    "        3 * 4\n",
    "        3 / 4   # División flotante de 3 sobre 4\n",
    "        3 \\ 4   # División flotante de 4 sobre 3\n",
    "        3 ÷ 4   # División entera de 3 sobre 4\n",
    "        3 % 4   # Resto de la división entera de 3 sobre 4\n",
    "        3 ^ 4   # Exponenciación\n",
    "    \n",
    "Para más información, visite la documentación de Julia al respecto\n",
    "\n",
    "* [https://docs.julialang.org/en/v1/manual/mathematical-operations/](https://docs.julialang.org/en/v1/manual/mathematical-operations/)\n",
    "    \n",
    "Pruebe evaluar estas expresiones Ud. mismo. Que ocurre en el caso de las divisiones? Repita las anteriores operaciones con números flotantes. Es posible sumar strings? Y multiplicarlas?"
   ]
  },
  {
   "cell_type": "code",
   "execution_count": 18,
   "metadata": {},
   "outputs": [
    {
     "data": {
      "text/plain": [
       "3"
      ]
     },
     "execution_count": 18,
     "metadata": {},
     "output_type": "execute_result"
    }
   ],
   "source": [
    "\n",
    "3%5"
   ]
  },
  {
   "cell_type": "markdown",
   "metadata": {},
   "source": [
    "### Ejercicio 13: operadores booleanos\n",
    "\n",
    "Los operadores booleanos permiten realizar operaciones lógicas con los valores booleanos `true` y `false` (verdadero y falso). Por ejemplo, si `x` e `y` representan variables (o constantes) de valores booleanos, podemos aplicar el operador unario de *negación* (cambiar de verdadero a falso y viceversa)\n",
    "\n",
    "        !x\n",
    "        \n",
    "o podemos aplicar los operadores binarios *and* y *or*\n",
    "\n",
    "        x && y\n",
    "        x || y\n",
    "        \n",
    "respectivamente.\n",
    "\n",
    "También existen los operadores de comparación, los cuales retornan un valor booleano. Por ejemplo, los operadores aritméticos `==`, `<`, `>`, `<=`, `>=` (igual, menor, mayor, menor o igual, mayor o igual).\n",
    "\n",
    "Para más información, visite la documentación de Julia al respecto\n",
    "\n",
    "* [https://docs.julialang.org/en/v1/manual/mathematical-operations/](https://docs.julialang.org/en/v1/manual/mathematical-operations/)\n",
    "\n",
    "Para todas las combinaciones posibles de los valores booleanos de las variables `x` e `y`, calcule los valores booleanos de las expresiones `!x`, `x && y` y `x || y`.\n",
    "\n",
    "Luego, asigne valores aritméticos a `x` e `y` y evalúe los operadores de comparación. \n",
    "\n",
    "Pueden compararse strings?"
   ]
  },
  {
   "cell_type": "code",
   "execution_count": 37,
   "metadata": {},
   "outputs": [
    {
     "name": "stdout",
     "output_type": "stream",
     "text": [
      "0.09881822539632276\n",
      "x no es entero\n"
     ]
    }
   ],
   "source": [
    "x = randn()\n",
    "println(\"$(x)\")\n",
    "if typeof(x) == Int\n",
    "    println(\"x es un entero\")\n",
    "else \n",
    "    println(\"x no es entero\") \n",
    "end\n",
    "        \n"
   ]
  },
  {
   "cell_type": "markdown",
   "metadata": {},
   "source": [
    "### Ejercicio 14: condicionales\n",
    "\n",
    "Existen diferentes formas de controlar el flujo de un programa. Las expresiones condicionales sirven para controlar el flujo de un programa. La más común de ellas es el comando `if`. Veamos un ejemplo\n",
    "\n",
    "        x = 1\n",
    "        if x > 0\n",
    "            println(\"Si\");\n",
    "        else\n",
    "            println(\"No\");        \n",
    "        end\n",
    "        \n",
    "Evalúe el ejemplo. Luego, intente combiar operadores del ejercicio 13 con el if."
   ]
  },
  {
   "cell_type": "code",
   "execution_count": 40,
   "metadata": {},
   "outputs": [
    {
     "name": "stdout",
     "output_type": "stream",
     "text": [
      "Si\n"
     ]
    }
   ],
   "source": [
    "x = 1\n",
    "if x >= 0 \n",
    "    println(\"Si\")\n",
    "else\n",
    "    println(\"No\")\n",
    "end"
   ]
  },
  {
   "cell_type": "markdown",
   "metadata": {},
   "source": [
    "### Ejercicio 13: loops\n",
    "\n",
    "Los loops proveen de otra forma de controlar el flujo de un programa. El fomando `for` provee la forma más común de implementar loops en Julia. Por ejemplo\n",
    "\n",
    "        for i in 1:10\n",
    "           println(\"$i\") \n",
    "        end\n",
    "        \n",
    "Para más información, puede leer la documentación de Julia al respecto\n",
    "\n",
    "* [https://docs.julialang.org/en/v1/base/base/#for](https://docs.julialang.org/en/v1/base/base/#for)\n",
    "        \n",
    "Pruebe el ejemplo anterior. Modifíquelo para que imprima los números 1,2,4,8,16,32,64,128,256.   "
   ]
  },
  {
   "cell_type": "code",
   "execution_count": 60,
   "metadata": {},
   "outputs": [
    {
     "name": "stdout",
     "output_type": "stream",
     "text": [
      "2\n",
      "4\n",
      "8\n",
      "16\n",
      "32\n",
      "64\n",
      "128\n",
      "256\n",
      "512\n",
      "1024\n"
     ]
    }
   ],
   "source": [
    "for x in 1:10\n",
    "    println(\"$(2^x)\")\n",
    "end\n"
   ]
  },
  {
   "cell_type": "markdown",
   "metadata": {},
   "source": [
    "### Ejercicio 15: funciones\n",
    "\n",
    "Las funciones proveen otra forma de controlar el flujo de un programa. En Julia, existen varias maneras de implementar una función. A continuación ejemplificamos las dos más simples. La primer forma se utiliza para definir funciones que puedan escribirse en una linea\n",
    "\n",
    "    f(x,y) = 2*x+y^3\n",
    "    f(3,4)\n",
    "    \n",
    "La segunda forma, sirve para definir funciones mas complejas    \n",
    "    \n",
    "    function g(i,n)\n",
    "        for j = 1:n\n",
    "            m=i^j\n",
    "            println(\"$m\")\n",
    "        end\n",
    "    end\n",
    "    g(2,5)\n",
    "    \n",
    "Implemente y pruebe ambas funciones. Luego, implemente y pruebe una función que retorne si un número es par o no. "
   ]
  },
  {
   "cell_type": "code",
   "execution_count": 103,
   "metadata": {},
   "outputs": [
    {
     "name": "stdout",
     "output_type": "stream",
     "text": [
      "4 es par\n"
     ]
    }
   ],
   "source": [
    "function g(j)\n",
    "    if iseven(j) \n",
    "        println(\"$(j) es par\")\n",
    "    else \n",
    "        println(\"$(j) es impar\")\n",
    "    end\n",
    "end\n",
    "g(4)"
   ]
  },
  {
   "cell_type": "markdown",
   "metadata": {},
   "source": [
    "### Ejercicio 16: arrays\n",
    "\n",
    "El uso de vectores, matrices y tensores en general es muy común en el cálculo numérico. Los arreglos o *arrays* constituyen la forma más común de representar estos objetos matemáticos en un programa. Por ejemplo, para definir un array 1D de 5 números enteros, podemos escribir\n",
    "\n",
    "    a = Array{Int64}(undef,5)\n",
    "    \n",
    "Luego, para acceder al í-esimo elemento del array escribimos `a[i]`. De esta manera, podemos asignar valores a los elementos del array escribiendo\n",
    "\n",
    "    for i in 1:length(a)\n",
    "       a[i] = 100\n",
    "    end\n",
    "\n",
    "y luego ver que, efectivamente las entradas del array valen 100. Por ejemplo, para ver el valor almacenado en la entrada 3 escribimos\n",
    "\n",
    "    a[3]\n",
    "    \n",
    "Para definir un array 2D de dimensiones 3x4 de números flotantes de 64 bits, escribimos\n",
    "\n",
    "    b = Array{Float64}(undef,(3,4))\n",
    "    \n",
    "y para acceder al elemento i,j-ésimo escribimos `b[i,j]`.\n",
    "\n",
    "Cree y asigne valores al array `a`. Repita lo anterior para el array `b`. Luego, fabrique un array de números flotantes de 3D."
   ]
  },
  {
   "cell_type": "code",
   "execution_count": 140,
   "metadata": {},
   "outputs": [
    {
     "data": {
      "text/plain": [
       "2×2×2 Array{Any, 3}:\n",
       "[:, :, 1] =\n",
       "  \"cos(x)\"   \"sen(x)\"\n",
       " 5          6\n",
       "\n",
       "[:, :, 2] =\n",
       "  \"tan(x)\"   \"e^x\"\n",
       " 8          7"
      ]
     },
     "execution_count": 140,
     "metadata": {},
     "output_type": "execute_result"
    }
   ],
   "source": [
    "a = Array{Any,3}(undef,(2,2,2))\n",
    "a[1,1,1] = \"cos(x)\"\n",
    "a[1,2,1] = \"sen(x)\"\n",
    "a[1,1,2] = \"tan(x)\"\n",
    "a[1,2,2] = \"e^x\"\n",
    "a[2,1,1] = 5\n",
    "a[2,2,1] = 6\n",
    "a[2,2,2] = 7\n",
    "a[2,1,2] = 8\n",
    "\n",
    "a\n",
    "\n"
   ]
  },
  {
   "cell_type": "markdown",
   "metadata": {},
   "source": [
    "### Ejercicio 17: gráficos\n",
    "\n",
    "Grafique la función seno en el intervalo $[0,2\\pi]$. Para ello, primero importe el paquete `Plots` escribiendo\n",
    "\n",
    "     using Plots\n",
    "    \n",
    "y luego realize el gráfico con el programa\n",
    "\n",
    "     plot(0:0.01:2*π,sin,xlabel=\"x\",ylabel=\"sen(x)\",label=\"\")\n",
    "     \n",
    "Luego, buscando la documentación del paquete `Plots` de Julia\n",
    "\n",
    "* [https://docs.juliaplots.org/stable/tutorial/#tutorial](https://docs.juliaplots.org/stable/tutorial/#tutorial)\n",
    "\n",
    "determine que es lo que indica cada argumento pasado a la función `plots` en el anterior programa."
   ]
  },
  {
   "cell_type": "code",
   "execution_count": 206,
   "metadata": {},
   "outputs": [
    {
     "data": {
      "image/png": "[encoded data removed]",
      "image/svg+xml": [
       "<?xml version=\"1.0\" encoding=\"utf-8\"?>\n",
       "<svg xmlns=\"http://www.w3.org/2000/svg\" xmlns:xlink=\"http://www.w3.org/1999/xlink\" width=\"600\" height=\"400\" viewBox=\"0 0 2400 1600\">\n",
       "<defs>\n",
       "  <clipPath id=\"clip150\">\n",
       "    <rect x=\"0\" y=\"0\" width=\"2400\" height=\"1600\"/>\n",
       "  </clipPath>\n",
       "</defs>\n",
       "<path clip-path=\"url(#clip150)\" d=\"M0 1600 L2400 1600 L2400 0 L0 0  Z\" fill=\"#ffffff\" fill-rule=\"evenodd\" fill-opacity=\"1\"/>\n",
       "<defs>\n",
       "  <clipPath id=\"clip151\">\n",
       "    <rect x=\"480\" y=\"0\" width=\"1681\" height=\"1600\"/>\n",
       "  </clipPath>\n",
       "</defs>\n",
       "<path clip-path=\"url(#clip150)\" d=\"M193.936 1486.45 L2352.76 1486.45 L2352.76 47.2441 L193.936 47.2441  Z\" fill=\"#ffffff\" fill-rule=\"evenodd\" fill-opacity=\"1\"/>\n",
       "<defs>\n",
       "  <clipPath id=\"clip152\">\n",
       "    <rect x=\"193\" y=\"47\" width=\"2160\" height=\"1440\"/>\n",
       "  </clipPath>\n",
       "</defs>\n",
       "<polyline clip-path=\"url(#clip152)\" style=\"stroke:#000000; stroke-linecap:round; stroke-linejoin:round; stroke-width:2; stroke-opacity:0.1; fill:none\" points=\"255.035,1486.45 255.035,47.2441 \"/>\n",
       "<polyline clip-path=\"url(#clip152)\" style=\"stroke:#000000; stroke-linecap:round; stroke-linejoin:round; stroke-width:2; stroke-opacity:0.1; fill:none\" points=\"764.19,1486.45 764.19,47.2441 \"/>\n",
       "<polyline clip-path=\"url(#clip152)\" style=\"stroke:#000000; stroke-linecap:round; stroke-linejoin:round; stroke-width:2; stroke-opacity:0.1; fill:none\" points=\"1273.35,1486.45 1273.35,47.2441 \"/>\n",
       "<polyline clip-path=\"url(#clip152)\" style=\"stroke:#000000; stroke-linecap:round; stroke-linejoin:round; stroke-width:2; stroke-opacity:0.1; fill:none\" points=\"1782.5,1486.45 1782.5,47.2441 \"/>\n",
       "<polyline clip-path=\"url(#clip152)\" style=\"stroke:#000000; stroke-linecap:round; stroke-linejoin:round; stroke-width:2; stroke-opacity:0.1; fill:none\" points=\"2291.66,1486.45 2291.66,47.2441 \"/>\n",
       "<polyline clip-path=\"url(#clip150)\" style=\"stroke:#000000; stroke-linecap:round; stroke-linejoin:round; stroke-width:4; stroke-opacity:1; fill:none\" points=\"193.936,1486.45 2352.76,1486.45 \"/>\n",
       "<polyline clip-path=\"url(#clip150)\" style=\"stroke:#000000; stroke-linecap:round; stroke-linejoin:round; stroke-width:4; stroke-opacity:1; fill:none\" points=\"255.035,1486.45 255.035,1467.55 \"/>\n",
       "<polyline clip-path=\"url(#clip150)\" style=\"stroke:#000000; stroke-linecap:round; stroke-linejoin:round; stroke-width:4; stroke-opacity:1; fill:none\" points=\"764.19,1486.45 764.19,1467.55 \"/>\n",
       "<polyline clip-path=\"url(#clip150)\" style=\"stroke:#000000; stroke-linecap:round; stroke-linejoin:round; stroke-width:4; stroke-opacity:1; fill:none\" points=\"1273.35,1486.45 1273.35,1467.55 \"/>\n",
       "<polyline clip-path=\"url(#clip150)\" style=\"stroke:#000000; stroke-linecap:round; stroke-linejoin:round; stroke-width:4; stroke-opacity:1; fill:none\" points=\"1782.5,1486.45 1782.5,1467.55 \"/>\n",
       "<polyline clip-path=\"url(#clip150)\" style=\"stroke:#000000; stroke-linecap:round; stroke-linejoin:round; stroke-width:4; stroke-opacity:1; fill:none\" points=\"2291.66,1486.45 2291.66,1467.55 \"/>\n",
       "<path clip-path=\"url(#clip150)\" d=\"M232.419 1517.37 Q228.808 1517.37 226.979 1520.93 Q225.174 1524.47 225.174 1531.6 Q225.174 1538.71 226.979 1542.27 Q228.808 1545.82 232.419 1545.82 Q236.053 1545.82 237.859 1542.27 Q239.688 1538.71 239.688 1531.6 Q239.688 1524.47 237.859 1520.93 Q236.053 1517.37 232.419 1517.37 M232.419 1513.66 Q238.229 1513.66 241.285 1518.27 Q244.363 1522.85 244.363 1531.6 Q244.363 1540.33 241.285 1544.94 Q238.229 1549.52 232.419 1549.52 Q226.609 1549.52 223.53 1544.94 Q220.475 1540.33 220.475 1531.6 Q220.475 1522.85 223.53 1518.27 Q226.609 1513.66 232.419 1513.66 Z\" fill=\"#000000\" fill-rule=\"nonzero\" fill-opacity=\"1\" /><path clip-path=\"url(#clip150)\" d=\"M252.581 1542.97 L257.465 1542.97 L257.465 1548.85 L252.581 1548.85 L252.581 1542.97 Z\" fill=\"#000000\" fill-rule=\"nonzero\" fill-opacity=\"1\" /><path clip-path=\"url(#clip150)\" d=\"M277.65 1517.37 Q274.039 1517.37 272.211 1520.93 Q270.405 1524.47 270.405 1531.6 Q270.405 1538.71 272.211 1542.27 Q274.039 1545.82 277.65 1545.82 Q281.285 1545.82 283.09 1542.27 Q284.919 1538.71 284.919 1531.6 Q284.919 1524.47 283.09 1520.93 Q281.285 1517.37 277.65 1517.37 M277.65 1513.66 Q283.46 1513.66 286.516 1518.27 Q289.595 1522.85 289.595 1531.6 Q289.595 1540.33 286.516 1544.94 Q283.46 1549.52 277.65 1549.52 Q271.84 1549.52 268.761 1544.94 Q265.706 1540.33 265.706 1531.6 Q265.706 1522.85 268.761 1518.27 Q271.84 1513.66 277.65 1513.66 Z\" fill=\"#000000\" fill-rule=\"nonzero\" fill-opacity=\"1\" /><path clip-path=\"url(#clip150)\" d=\"M735.927 1544.91 L752.246 1544.91 L752.246 1548.85 L730.302 1548.85 L730.302 1544.91 Q732.964 1542.16 737.547 1537.53 Q742.153 1532.88 743.334 1531.53 Q745.579 1529.01 746.459 1527.27 Q747.362 1525.51 747.362 1523.82 Q747.362 1521.07 745.417 1519.33 Q743.496 1517.6 740.394 1517.6 Q738.195 1517.6 735.741 1518.36 Q733.311 1519.13 730.533 1520.68 L730.533 1515.95 Q733.357 1514.82 735.811 1514.24 Q738.265 1513.66 740.302 1513.66 Q745.672 1513.66 748.866 1516.35 Q752.061 1519.03 752.061 1523.52 Q752.061 1525.65 751.251 1527.57 Q750.464 1529.47 748.357 1532.07 Q747.778 1532.74 744.677 1535.95 Q741.575 1539.15 735.927 1544.91 Z\" fill=\"#000000\" fill-rule=\"nonzero\" fill-opacity=\"1\" /><path clip-path=\"url(#clip150)\" d=\"M762.061 1542.97 L766.945 1542.97 L766.945 1548.85 L762.061 1548.85 L762.061 1542.97 Z\" fill=\"#000000\" fill-rule=\"nonzero\" fill-opacity=\"1\" /><path clip-path=\"url(#clip150)\" d=\"M777.176 1514.29 L795.533 1514.29 L795.533 1518.22 L781.459 1518.22 L781.459 1526.7 Q782.477 1526.35 783.496 1526.19 Q784.514 1526 785.533 1526 Q791.32 1526 794.699 1529.17 Q798.079 1532.34 798.079 1537.76 Q798.079 1543.34 794.607 1546.44 Q791.135 1549.52 784.815 1549.52 Q782.639 1549.52 780.371 1549.15 Q778.125 1548.78 775.718 1548.04 L775.718 1543.34 Q777.801 1544.47 780.024 1545.03 Q782.246 1545.58 784.723 1545.58 Q788.727 1545.58 791.065 1543.48 Q793.403 1541.37 793.403 1537.76 Q793.403 1534.15 791.065 1532.04 Q788.727 1529.94 784.723 1529.94 Q782.848 1529.94 780.973 1530.35 Q779.121 1530.77 777.176 1531.65 L777.176 1514.29 Z\" fill=\"#000000\" fill-rule=\"nonzero\" fill-opacity=\"1\" /><path clip-path=\"url(#clip150)\" d=\"M1240.51 1514.29 L1258.87 1514.29 L1258.87 1518.22 L1244.79 1518.22 L1244.79 1526.7 Q1245.81 1526.35 1246.83 1526.19 Q1247.85 1526 1248.87 1526 Q1254.65 1526 1258.03 1529.17 Q1261.41 1532.34 1261.41 1537.76 Q1261.41 1543.34 1257.94 1546.44 Q1254.47 1549.52 1248.15 1549.52 Q1245.97 1549.52 1243.7 1549.15 Q1241.46 1548.78 1239.05 1548.04 L1239.05 1543.34 Q1241.14 1544.47 1243.36 1545.03 Q1245.58 1545.58 1248.06 1545.58 Q1252.06 1545.58 1254.4 1543.48 Q1256.74 1541.37 1256.74 1537.76 Q1256.74 1534.15 1254.4 1532.04 Q1252.06 1529.94 1248.06 1529.94 Q1246.18 1529.94 1244.31 1530.35 Q1242.45 1530.77 1240.51 1531.65 L1240.51 1514.29 Z\" fill=\"#000000\" fill-rule=\"nonzero\" fill-opacity=\"1\" /><path clip-path=\"url(#clip150)\" d=\"M1270.63 1542.97 L1275.51 1542.97 L1275.51 1548.85 L1270.63 1548.85 L1270.63 1542.97 Z\" fill=\"#000000\" fill-rule=\"nonzero\" fill-opacity=\"1\" /><path clip-path=\"url(#clip150)\" d=\"M1295.7 1517.37 Q1292.08 1517.37 1290.26 1520.93 Q1288.45 1524.47 1288.45 1531.6 Q1288.45 1538.71 1290.26 1542.27 Q1292.08 1545.82 1295.7 1545.82 Q1299.33 1545.82 1301.14 1542.27 Q1302.96 1538.71 1302.96 1531.6 Q1302.96 1524.47 1301.14 1520.93 Q1299.33 1517.37 1295.7 1517.37 M1295.7 1513.66 Q1301.51 1513.66 1304.56 1518.27 Q1307.64 1522.85 1307.64 1531.6 Q1307.64 1540.33 1304.56 1544.94 Q1301.51 1549.52 1295.7 1549.52 Q1289.89 1549.52 1286.81 1544.94 Q1283.75 1540.33 1283.75 1531.6 Q1283.75 1522.85 1286.81 1518.27 Q1289.89 1513.66 1295.7 1513.66 Z\" fill=\"#000000\" fill-rule=\"nonzero\" fill-opacity=\"1\" /><path clip-path=\"url(#clip150)\" d=\"M1748.82 1514.29 L1771.04 1514.29 L1771.04 1516.28 L1758.5 1548.85 L1753.61 1548.85 L1765.42 1518.22 L1748.82 1518.22 L1748.82 1514.29 Z\" fill=\"#000000\" fill-rule=\"nonzero\" fill-opacity=\"1\" /><path clip-path=\"url(#clip150)\" d=\"M1780.16 1542.97 L1785.05 1542.97 L1785.05 1548.85 L1780.16 1548.85 L1780.16 1542.97 Z\" fill=\"#000000\" fill-rule=\"nonzero\" fill-opacity=\"1\" /><path clip-path=\"url(#clip150)\" d=\"M1795.28 1514.29 L1813.64 1514.29 L1813.64 1518.22 L1799.56 1518.22 L1799.56 1526.7 Q1800.58 1526.35 1801.6 1526.19 Q1802.62 1526 1803.64 1526 Q1809.42 1526 1812.8 1529.17 Q1816.18 1532.34 1816.18 1537.76 Q1816.18 1543.34 1812.71 1546.44 Q1809.24 1549.52 1802.92 1549.52 Q1800.74 1549.52 1798.47 1549.15 Q1796.23 1548.78 1793.82 1548.04 L1793.82 1543.34 Q1795.9 1544.47 1798.13 1545.03 Q1800.35 1545.58 1802.83 1545.58 Q1806.83 1545.58 1809.17 1543.48 Q1811.51 1541.37 1811.51 1537.76 Q1811.51 1534.15 1809.17 1532.04 Q1806.83 1529.94 1802.83 1529.94 Q1800.95 1529.94 1799.08 1530.35 Q1797.22 1530.77 1795.28 1531.65 L1795.28 1514.29 Z\" fill=\"#000000\" fill-rule=\"nonzero\" fill-opacity=\"1\" /><path clip-path=\"url(#clip150)\" d=\"M2243.73 1544.91 L2251.37 1544.91 L2251.37 1518.55 L2243.06 1520.21 L2243.06 1515.95 L2251.32 1514.29 L2256 1514.29 L2256 1544.91 L2263.64 1544.91 L2263.64 1548.85 L2243.73 1548.85 L2243.73 1544.91 Z\" fill=\"#000000\" fill-rule=\"nonzero\" fill-opacity=\"1\" /><path clip-path=\"url(#clip150)\" d=\"M2283.08 1517.37 Q2279.47 1517.37 2277.64 1520.93 Q2275.84 1524.47 2275.84 1531.6 Q2275.84 1538.71 2277.64 1542.27 Q2279.47 1545.82 2283.08 1545.82 Q2286.72 1545.82 2288.52 1542.27 Q2290.35 1538.71 2290.35 1531.6 Q2290.35 1524.47 2288.52 1520.93 Q2286.72 1517.37 2283.08 1517.37 M2283.08 1513.66 Q2288.89 1513.66 2291.95 1518.27 Q2295.03 1522.85 2295.03 1531.6 Q2295.03 1540.33 2291.95 1544.94 Q2288.89 1549.52 2283.08 1549.52 Q2277.27 1549.52 2274.19 1544.94 Q2271.14 1540.33 2271.14 1531.6 Q2271.14 1522.85 2274.19 1518.27 Q2277.27 1513.66 2283.08 1513.66 Z\" fill=\"#000000\" fill-rule=\"nonzero\" fill-opacity=\"1\" /><path clip-path=\"url(#clip150)\" d=\"M2303.24 1542.97 L2308.13 1542.97 L2308.13 1548.85 L2303.24 1548.85 L2303.24 1542.97 Z\" fill=\"#000000\" fill-rule=\"nonzero\" fill-opacity=\"1\" /><path clip-path=\"url(#clip150)\" d=\"M2328.31 1517.37 Q2324.7 1517.37 2322.87 1520.93 Q2321.07 1524.47 2321.07 1531.6 Q2321.07 1538.71 2322.87 1542.27 Q2324.7 1545.82 2328.31 1545.82 Q2331.95 1545.82 2333.75 1542.27 Q2335.58 1538.71 2335.58 1531.6 Q2335.58 1524.47 2333.75 1520.93 Q2331.95 1517.37 2328.31 1517.37 M2328.31 1513.66 Q2334.12 1513.66 2337.18 1518.27 Q2340.26 1522.85 2340.26 1531.6 Q2340.26 1540.33 2337.18 1544.94 Q2334.12 1549.52 2328.31 1549.52 Q2322.5 1549.52 2319.42 1544.94 Q2316.37 1540.33 2316.37 1531.6 Q2316.37 1522.85 2319.42 1518.27 Q2322.5 1513.66 2328.31 1513.66 Z\" fill=\"#000000\" fill-rule=\"nonzero\" fill-opacity=\"1\" /><polyline clip-path=\"url(#clip152)\" style=\"stroke:#000000; stroke-linecap:round; stroke-linejoin:round; stroke-width:2; stroke-opacity:0.1; fill:none\" points=\"193.936,1289.19 2352.76,1289.19 \"/>\n",
       "<polyline clip-path=\"url(#clip152)\" style=\"stroke:#000000; stroke-linecap:round; stroke-linejoin:round; stroke-width:2; stroke-opacity:0.1; fill:none\" points=\"193.936,1042.29 2352.76,1042.29 \"/>\n",
       "<polyline clip-path=\"url(#clip152)\" style=\"stroke:#000000; stroke-linecap:round; stroke-linejoin:round; stroke-width:2; stroke-opacity:0.1; fill:none\" points=\"193.936,795.395 2352.76,795.395 \"/>\n",
       "<polyline clip-path=\"url(#clip152)\" style=\"stroke:#000000; stroke-linecap:round; stroke-linejoin:round; stroke-width:2; stroke-opacity:0.1; fill:none\" points=\"193.936,548.499 2352.76,548.499 \"/>\n",
       "<polyline clip-path=\"url(#clip152)\" style=\"stroke:#000000; stroke-linecap:round; stroke-linejoin:round; stroke-width:2; stroke-opacity:0.1; fill:none\" points=\"193.936,301.603 2352.76,301.603 \"/>\n",
       "<polyline clip-path=\"url(#clip152)\" style=\"stroke:#000000; stroke-linecap:round; stroke-linejoin:round; stroke-width:2; stroke-opacity:0.1; fill:none\" points=\"193.936,54.7069 2352.76,54.7069 \"/>\n",
       "<polyline clip-path=\"url(#clip150)\" style=\"stroke:#000000; stroke-linecap:round; stroke-linejoin:round; stroke-width:4; stroke-opacity:1; fill:none\" points=\"193.936,1486.45 193.936,47.2441 \"/>\n",
       "<polyline clip-path=\"url(#clip150)\" style=\"stroke:#000000; stroke-linecap:round; stroke-linejoin:round; stroke-width:4; stroke-opacity:1; fill:none\" points=\"193.936,1289.19 212.834,1289.19 \"/>\n",
       "<polyline clip-path=\"url(#clip150)\" style=\"stroke:#000000; stroke-linecap:round; stroke-linejoin:round; stroke-width:4; stroke-opacity:1; fill:none\" points=\"193.936,1042.29 212.834,1042.29 \"/>\n",
       "<polyline clip-path=\"url(#clip150)\" style=\"stroke:#000000; stroke-linecap:round; stroke-linejoin:round; stroke-width:4; stroke-opacity:1; fill:none\" points=\"193.936,795.395 212.834,795.395 \"/>\n",
       "<polyline clip-path=\"url(#clip150)\" style=\"stroke:#000000; stroke-linecap:round; stroke-linejoin:round; stroke-width:4; stroke-opacity:1; fill:none\" points=\"193.936,548.499 212.834,548.499 \"/>\n",
       "<polyline clip-path=\"url(#clip150)\" style=\"stroke:#000000; stroke-linecap:round; stroke-linejoin:round; stroke-width:4; stroke-opacity:1; fill:none\" points=\"193.936,301.603 212.834,301.603 \"/>\n",
       "<polyline clip-path=\"url(#clip150)\" style=\"stroke:#000000; stroke-linecap:round; stroke-linejoin:round; stroke-width:4; stroke-opacity:1; fill:none\" points=\"193.936,54.7069 212.834,54.7069 \"/>\n",
       "<path clip-path=\"url(#clip150)\" d=\"M50.9921 1289.64 L80.6679 1289.64 L80.6679 1293.57 L50.9921 1293.57 L50.9921 1289.64 Z\" fill=\"#000000\" fill-rule=\"nonzero\" fill-opacity=\"1\" /><path clip-path=\"url(#clip150)\" d=\"M91.5706 1302.53 L99.2095 1302.53 L99.2095 1276.17 L90.8993 1277.83 L90.8993 1273.57 L99.1632 1271.91 L103.839 1271.91 L103.839 1302.53 L111.478 1302.53 L111.478 1306.47 L91.5706 1306.47 L91.5706 1302.53 Z\" fill=\"#000000\" fill-rule=\"nonzero\" fill-opacity=\"1\" /><path clip-path=\"url(#clip150)\" d=\"M120.922 1300.59 L125.807 1300.59 L125.807 1306.47 L120.922 1306.47 L120.922 1300.59 Z\" fill=\"#000000\" fill-rule=\"nonzero\" fill-opacity=\"1\" /><path clip-path=\"url(#clip150)\" d=\"M145.992 1274.99 Q142.381 1274.99 140.552 1278.55 Q138.746 1282.09 138.746 1289.22 Q138.746 1296.33 140.552 1299.89 Q142.381 1303.43 145.992 1303.43 Q149.626 1303.43 151.431 1299.89 Q153.26 1296.33 153.26 1289.22 Q153.26 1282.09 151.431 1278.55 Q149.626 1274.99 145.992 1274.99 M145.992 1271.28 Q151.802 1271.28 154.857 1275.89 Q157.936 1280.47 157.936 1289.22 Q157.936 1297.95 154.857 1302.55 Q151.802 1307.14 145.992 1307.14 Q140.181 1307.14 137.103 1302.55 Q134.047 1297.95 134.047 1289.22 Q134.047 1280.47 137.103 1275.89 Q140.181 1271.28 145.992 1271.28 Z\" fill=\"#000000\" fill-rule=\"nonzero\" fill-opacity=\"1\" /><path clip-path=\"url(#clip150)\" d=\"M51.9875 1042.74 L81.6633 1042.74 L81.6633 1046.68 L51.9875 1046.68 L51.9875 1042.74 Z\" fill=\"#000000\" fill-rule=\"nonzero\" fill-opacity=\"1\" /><path clip-path=\"url(#clip150)\" d=\"M101.756 1028.09 Q98.1447 1028.09 96.316 1031.65 Q94.5104 1035.2 94.5104 1042.33 Q94.5104 1049.43 96.316 1053 Q98.1447 1056.54 101.756 1056.54 Q105.39 1056.54 107.196 1053 Q109.024 1049.43 109.024 1042.33 Q109.024 1035.2 107.196 1031.65 Q105.39 1028.09 101.756 1028.09 M101.756 1024.39 Q107.566 1024.39 110.621 1028.99 Q113.7 1033.58 113.7 1042.33 Q113.7 1051.05 110.621 1055.66 Q107.566 1060.24 101.756 1060.24 Q95.9456 1060.24 92.8669 1055.66 Q89.8114 1051.05 89.8114 1042.33 Q89.8114 1033.58 92.8669 1028.99 Q95.9456 1024.39 101.756 1024.39 Z\" fill=\"#000000\" fill-rule=\"nonzero\" fill-opacity=\"1\" /><path clip-path=\"url(#clip150)\" d=\"M121.918 1053.69 L126.802 1053.69 L126.802 1059.57 L121.918 1059.57 L121.918 1053.69 Z\" fill=\"#000000\" fill-rule=\"nonzero\" fill-opacity=\"1\" /><path clip-path=\"url(#clip150)\" d=\"M137.033 1025.01 L155.39 1025.01 L155.39 1028.95 L141.316 1028.95 L141.316 1037.42 Q142.334 1037.07 143.353 1036.91 Q144.371 1036.72 145.39 1036.72 Q151.177 1036.72 154.556 1039.9 Q157.936 1043.07 157.936 1048.48 Q157.936 1054.06 154.464 1057.16 Q150.992 1060.24 144.672 1060.24 Q142.496 1060.24 140.228 1059.87 Q137.982 1059.5 135.575 1058.76 L135.575 1054.06 Q137.658 1055.2 139.881 1055.75 Q142.103 1056.31 144.58 1056.31 Q148.584 1056.31 150.922 1054.2 Q153.26 1052.09 153.26 1048.48 Q153.26 1044.87 150.922 1042.77 Q148.584 1040.66 144.58 1040.66 Q142.705 1040.66 140.83 1041.08 Q138.978 1041.49 137.033 1042.37 L137.033 1025.01 Z\" fill=\"#000000\" fill-rule=\"nonzero\" fill-opacity=\"1\" /><path clip-path=\"url(#clip150)\" d=\"M100.76 781.194 Q97.1493 781.194 95.3206 784.758 Q93.515 788.3 93.515 795.43 Q93.515 802.536 95.3206 806.101 Q97.1493 809.643 100.76 809.643 Q104.395 809.643 106.2 806.101 Q108.029 802.536 108.029 795.43 Q108.029 788.3 106.2 784.758 Q104.395 781.194 100.76 781.194 M100.76 777.49 Q106.571 777.49 109.626 782.096 Q112.705 786.68 112.705 795.43 Q112.705 804.156 109.626 808.763 Q106.571 813.346 100.76 813.346 Q94.9502 813.346 91.8715 808.763 Q88.816 804.156 88.816 795.43 Q88.816 786.68 91.8715 782.096 Q94.9502 777.49 100.76 777.49 Z\" fill=\"#000000\" fill-rule=\"nonzero\" fill-opacity=\"1\" /><path clip-path=\"url(#clip150)\" d=\"M120.922 806.795 L125.807 806.795 L125.807 812.675 L120.922 812.675 L120.922 806.795 Z\" fill=\"#000000\" fill-rule=\"nonzero\" fill-opacity=\"1\" /><path clip-path=\"url(#clip150)\" d=\"M145.992 781.194 Q142.381 781.194 140.552 784.758 Q138.746 788.3 138.746 795.43 Q138.746 802.536 140.552 806.101 Q142.381 809.643 145.992 809.643 Q149.626 809.643 151.431 806.101 Q153.26 802.536 153.26 795.43 Q153.26 788.3 151.431 784.758 Q149.626 781.194 145.992 781.194 M145.992 777.49 Q151.802 777.49 154.857 782.096 Q157.936 786.68 157.936 795.43 Q157.936 804.156 154.857 808.763 Q151.802 813.346 145.992 813.346 Q140.181 813.346 137.103 808.763 Q134.047 804.156 134.047 795.43 Q134.047 786.68 137.103 782.096 Q140.181 777.49 145.992 777.49 Z\" fill=\"#000000\" fill-rule=\"nonzero\" fill-opacity=\"1\" /><path clip-path=\"url(#clip150)\" d=\"M101.756 534.298 Q98.1447 534.298 96.316 537.862 Q94.5104 541.404 94.5104 548.534 Q94.5104 555.64 96.316 559.205 Q98.1447 562.747 101.756 562.747 Q105.39 562.747 107.196 559.205 Q109.024 555.64 109.024 548.534 Q109.024 541.404 107.196 537.862 Q105.39 534.298 101.756 534.298 M101.756 530.594 Q107.566 530.594 110.621 535.2 Q113.7 539.784 113.7 548.534 Q113.7 557.26 110.621 561.867 Q107.566 566.45 101.756 566.45 Q95.9456 566.45 92.8669 561.867 Q89.8114 557.26 89.8114 548.534 Q89.8114 539.784 92.8669 535.2 Q95.9456 530.594 101.756 530.594 Z\" fill=\"#000000\" fill-rule=\"nonzero\" fill-opacity=\"1\" /><path clip-path=\"url(#clip150)\" d=\"M121.918 559.899 L126.802 559.899 L126.802 565.779 L121.918 565.779 L121.918 559.899 Z\" fill=\"#000000\" fill-rule=\"nonzero\" fill-opacity=\"1\" /><path clip-path=\"url(#clip150)\" d=\"M137.033 531.219 L155.39 531.219 L155.39 535.154 L141.316 535.154 L141.316 543.626 Q142.334 543.279 143.353 543.117 Q144.371 542.932 145.39 542.932 Q151.177 542.932 154.556 546.103 Q157.936 549.274 157.936 554.691 Q157.936 560.27 154.464 563.372 Q150.992 566.45 144.672 566.45 Q142.496 566.45 140.228 566.08 Q137.982 565.709 135.575 564.969 L135.575 560.27 Q137.658 561.404 139.881 561.959 Q142.103 562.515 144.58 562.515 Q148.584 562.515 150.922 560.409 Q153.26 558.302 153.26 554.691 Q153.26 551.08 150.922 548.973 Q148.584 546.867 144.58 546.867 Q142.705 546.867 140.83 547.284 Q138.978 547.7 137.033 548.58 L137.033 531.219 Z\" fill=\"#000000\" fill-rule=\"nonzero\" fill-opacity=\"1\" /><path clip-path=\"url(#clip150)\" d=\"M91.5706 314.948 L99.2095 314.948 L99.2095 288.582 L90.8993 290.249 L90.8993 285.99 L99.1632 284.323 L103.839 284.323 L103.839 314.948 L111.478 314.948 L111.478 318.883 L91.5706 318.883 L91.5706 314.948 Z\" fill=\"#000000\" fill-rule=\"nonzero\" fill-opacity=\"1\" /><path clip-path=\"url(#clip150)\" d=\"M120.922 313.003 L125.807 313.003 L125.807 318.883 L120.922 318.883 L120.922 313.003 Z\" fill=\"#000000\" fill-rule=\"nonzero\" fill-opacity=\"1\" /><path clip-path=\"url(#clip150)\" d=\"M145.992 287.402 Q142.381 287.402 140.552 290.966 Q138.746 294.508 138.746 301.638 Q138.746 308.744 140.552 312.309 Q142.381 315.85 145.992 315.85 Q149.626 315.85 151.431 312.309 Q153.26 308.744 153.26 301.638 Q153.26 294.508 151.431 290.966 Q149.626 287.402 145.992 287.402 M145.992 283.698 Q151.802 283.698 154.857 288.304 Q157.936 292.888 157.936 301.638 Q157.936 310.364 154.857 314.971 Q151.802 319.554 145.992 319.554 Q140.181 319.554 137.103 314.971 Q134.047 310.364 134.047 301.638 Q134.047 292.888 137.103 288.304 Q140.181 283.698 145.992 283.698 Z\" fill=\"#000000\" fill-rule=\"nonzero\" fill-opacity=\"1\" /><path clip-path=\"url(#clip150)\" d=\"M92.566 68.0517 L100.205 68.0517 L100.205 41.6861 L91.8947 43.3528 L91.8947 39.0935 L100.159 37.4269 L104.834 37.4269 L104.834 68.0517 L112.473 68.0517 L112.473 71.9869 L92.566 71.9869 L92.566 68.0517 Z\" fill=\"#000000\" fill-rule=\"nonzero\" fill-opacity=\"1\" /><path clip-path=\"url(#clip150)\" d=\"M121.918 66.1073 L126.802 66.1073 L126.802 71.9869 L121.918 71.9869 L121.918 66.1073 Z\" fill=\"#000000\" fill-rule=\"nonzero\" fill-opacity=\"1\" /><path clip-path=\"url(#clip150)\" d=\"M137.033 37.4269 L155.39 37.4269 L155.39 41.362 L141.316 41.362 L141.316 49.8342 Q142.334 49.487 143.353 49.325 Q144.371 49.1398 145.39 49.1398 Q151.177 49.1398 154.556 52.311 Q157.936 55.4823 157.936 60.899 Q157.936 66.4776 154.464 69.5795 Q150.992 72.6582 144.672 72.6582 Q142.496 72.6582 140.228 72.2878 Q137.982 71.9174 135.575 71.1767 L135.575 66.4776 Q137.658 67.6119 139.881 68.1674 Q142.103 68.723 144.58 68.723 Q148.584 68.723 150.922 66.6165 Q153.26 64.5101 153.26 60.899 Q153.26 57.2879 150.922 55.1814 Q148.584 53.0749 144.58 53.0749 Q142.705 53.0749 140.83 53.4916 Q138.978 53.9083 137.033 54.7879 L137.033 37.4269 Z\" fill=\"#000000\" fill-rule=\"nonzero\" fill-opacity=\"1\" /><polyline clip-path=\"url(#clip152)\" style=\"stroke:#009af9; stroke-linecap:round; stroke-linejoin:round; stroke-width:4; stroke-opacity:1; fill:none\" points=\"255.035,795.395 275.607,745.602 296.179,696.316 316.751,648.041 337.322,601.267 357.894,556.473 378.466,514.114 399.038,474.623 419.61,438.402 440.182,405.82 460.754,377.21 481.326,352.862 501.898,333.026 522.47,317.904 543.042,307.65 563.614,302.367 584.186,302.111 604.758,306.883 625.33,316.636 645.902,331.269 666.474,350.634 687.046,374.532 707.617,402.722 728.189,434.914 748.761,470.781 769.333,509.957 789.905,552.043 810.477,596.61 831.049,643.204 851.621,691.349 872.193,740.554 892.765,790.319 913.337,840.136 933.909,889.496 954.481,937.897 975.053,984.845 995.625,1029.86 1016.2,1072.49 1036.77,1112.29 1057.34,1148.86 1077.91,1181.83 1098.48,1210.86 1119.06,1235.65 1139.63,1255.96 1160.2,1271.57 1180.77,1282.32 1201.34,1288.11 1221.92,1288.88 1242.49,1284.62 1263.06,1275.37 1283.63,1261.23 1304.2,1242.34 1324.78,1218.89 1345.35,1191.13 1365.92,1159.33 1386.49,1123.82 1407.06,1084.96 1427.64,1043.15 1448.21,998.815 1468.78,952.407 1489.35,904.398 1509.92,855.277 1530.5,805.546 1551.07,755.712 1571.64,706.282 1592.21,657.76 1612.78,610.642 1633.35,565.407 1653.93,522.517 1674.5,482.408 1695.07,445.491 1715.64,412.14 1736.21,382.696 1756.79,357.46 1777.36,336.688 1797.93,320.592 1818.5,309.336 1839.07,303.036 1859.65,301.755 1880.22,305.506 1900.79,314.251 1921.36,327.902 1941.93,346.318 1962.51,369.312 1983.08,396.65 2003.65,428.052 2024.22,463.2 2044.79,501.734 2065.37,543.262 2085.94,587.36 2106.51,633.579 2127.08,681.447 2147.65,730.478 2168.23,780.169 2188.8,830.017 2209.37,879.511 2229.94,928.148 2250.51,975.431 2271.09,1020.88 2291.66,1064.03 \"/>\n",
       "<circle clip-path=\"url(#clip152)\" cx=\"255.035\" cy=\"625.049\" r=\"14.4\" fill=\"#e26f46\" fill-rule=\"evenodd\" fill-opacity=\"1\" stroke=\"#000000\" stroke-opacity=\"1\" stroke-width=\"3.2\"/>\n",
       "<circle clip-path=\"url(#clip152)\" cx=\"275.607\" cy=\"708.564\" r=\"14.4\" fill=\"#e26f46\" fill-rule=\"evenodd\" fill-opacity=\"1\" stroke=\"#000000\" stroke-opacity=\"1\" stroke-width=\"3.2\"/>\n",
       "<circle clip-path=\"url(#clip152)\" cx=\"296.179\" cy=\"803.237\" r=\"14.4\" fill=\"#e26f46\" fill-rule=\"evenodd\" fill-opacity=\"1\" stroke=\"#000000\" stroke-opacity=\"1\" stroke-width=\"3.2\"/>\n",
       "<circle clip-path=\"url(#clip152)\" cx=\"316.751\" cy=\"618.293\" r=\"14.4\" fill=\"#e26f46\" fill-rule=\"evenodd\" fill-opacity=\"1\" stroke=\"#000000\" stroke-opacity=\"1\" stroke-width=\"3.2\"/>\n",
       "<circle clip-path=\"url(#clip152)\" cx=\"337.322\" cy=\"405.1\" r=\"14.4\" fill=\"#e26f46\" fill-rule=\"evenodd\" fill-opacity=\"1\" stroke=\"#000000\" stroke-opacity=\"1\" stroke-width=\"3.2\"/>\n",
       "<circle clip-path=\"url(#clip152)\" cx=\"357.894\" cy=\"274.552\" r=\"14.4\" fill=\"#e26f46\" fill-rule=\"evenodd\" fill-opacity=\"1\" stroke=\"#000000\" stroke-opacity=\"1\" stroke-width=\"3.2\"/>\n",
       "<circle clip-path=\"url(#clip152)\" cx=\"378.466\" cy=\"511.657\" r=\"14.4\" fill=\"#e26f46\" fill-rule=\"evenodd\" fill-opacity=\"1\" stroke=\"#000000\" stroke-opacity=\"1\" stroke-width=\"3.2\"/>\n",
       "<circle clip-path=\"url(#clip152)\" cx=\"399.038\" cy=\"586.388\" r=\"14.4\" fill=\"#e26f46\" fill-rule=\"evenodd\" fill-opacity=\"1\" stroke=\"#000000\" stroke-opacity=\"1\" stroke-width=\"3.2\"/>\n",
       "<circle clip-path=\"url(#clip152)\" cx=\"419.61\" cy=\"426.593\" r=\"14.4\" fill=\"#e26f46\" fill-rule=\"evenodd\" fill-opacity=\"1\" stroke=\"#000000\" stroke-opacity=\"1\" stroke-width=\"3.2\"/>\n",
       "<circle clip-path=\"url(#clip152)\" cx=\"440.182\" cy=\"305.64\" r=\"14.4\" fill=\"#e26f46\" fill-rule=\"evenodd\" fill-opacity=\"1\" stroke=\"#000000\" stroke-opacity=\"1\" stroke-width=\"3.2\"/>\n",
       "<circle clip-path=\"url(#clip152)\" cx=\"460.754\" cy=\"388.802\" r=\"14.4\" fill=\"#e26f46\" fill-rule=\"evenodd\" fill-opacity=\"1\" stroke=\"#000000\" stroke-opacity=\"1\" stroke-width=\"3.2\"/>\n",
       "<circle clip-path=\"url(#clip152)\" cx=\"481.326\" cy=\"424.728\" r=\"14.4\" fill=\"#e26f46\" fill-rule=\"evenodd\" fill-opacity=\"1\" stroke=\"#000000\" stroke-opacity=\"1\" stroke-width=\"3.2\"/>\n",
       "<circle clip-path=\"url(#clip152)\" cx=\"501.898\" cy=\"237.03\" r=\"14.4\" fill=\"#e26f46\" fill-rule=\"evenodd\" fill-opacity=\"1\" stroke=\"#000000\" stroke-opacity=\"1\" stroke-width=\"3.2\"/>\n",
       "<circle clip-path=\"url(#clip152)\" cx=\"522.47\" cy=\"378.222\" r=\"14.4\" fill=\"#e26f46\" fill-rule=\"evenodd\" fill-opacity=\"1\" stroke=\"#000000\" stroke-opacity=\"1\" stroke-width=\"3.2\"/>\n",
       "<circle clip-path=\"url(#clip152)\" cx=\"543.042\" cy=\"87.9763\" r=\"14.4\" fill=\"#e26f46\" fill-rule=\"evenodd\" fill-opacity=\"1\" stroke=\"#000000\" stroke-opacity=\"1\" stroke-width=\"3.2\"/>\n",
       "<circle clip-path=\"url(#clip152)\" cx=\"563.614\" cy=\"161.13\" r=\"14.4\" fill=\"#e26f46\" fill-rule=\"evenodd\" fill-opacity=\"1\" stroke=\"#000000\" stroke-opacity=\"1\" stroke-width=\"3.2\"/>\n",
       "<circle clip-path=\"url(#clip152)\" cx=\"584.186\" cy=\"236.056\" r=\"14.4\" fill=\"#e26f46\" fill-rule=\"evenodd\" fill-opacity=\"1\" stroke=\"#000000\" stroke-opacity=\"1\" stroke-width=\"3.2\"/>\n",
       "<circle clip-path=\"url(#clip152)\" cx=\"604.758\" cy=\"292.582\" r=\"14.4\" fill=\"#e26f46\" fill-rule=\"evenodd\" fill-opacity=\"1\" stroke=\"#000000\" stroke-opacity=\"1\" stroke-width=\"3.2\"/>\n",
       "<circle clip-path=\"url(#clip152)\" cx=\"625.33\" cy=\"385.881\" r=\"14.4\" fill=\"#e26f46\" fill-rule=\"evenodd\" fill-opacity=\"1\" stroke=\"#000000\" stroke-opacity=\"1\" stroke-width=\"3.2\"/>\n",
       "<circle clip-path=\"url(#clip152)\" cx=\"645.902\" cy=\"255.316\" r=\"14.4\" fill=\"#e26f46\" fill-rule=\"evenodd\" fill-opacity=\"1\" stroke=\"#000000\" stroke-opacity=\"1\" stroke-width=\"3.2\"/>\n",
       "<circle clip-path=\"url(#clip152)\" cx=\"666.474\" cy=\"184.117\" r=\"14.4\" fill=\"#e26f46\" fill-rule=\"evenodd\" fill-opacity=\"1\" stroke=\"#000000\" stroke-opacity=\"1\" stroke-width=\"3.2\"/>\n",
       "<circle clip-path=\"url(#clip152)\" cx=\"687.046\" cy=\"215.994\" r=\"14.4\" fill=\"#e26f46\" fill-rule=\"evenodd\" fill-opacity=\"1\" stroke=\"#000000\" stroke-opacity=\"1\" stroke-width=\"3.2\"/>\n",
       "<circle clip-path=\"url(#clip152)\" cx=\"707.617\" cy=\"615.041\" r=\"14.4\" fill=\"#e26f46\" fill-rule=\"evenodd\" fill-opacity=\"1\" stroke=\"#000000\" stroke-opacity=\"1\" stroke-width=\"3.2\"/>\n",
       "<circle clip-path=\"url(#clip152)\" cx=\"728.189\" cy=\"511.757\" r=\"14.4\" fill=\"#e26f46\" fill-rule=\"evenodd\" fill-opacity=\"1\" stroke=\"#000000\" stroke-opacity=\"1\" stroke-width=\"3.2\"/>\n",
       "<circle clip-path=\"url(#clip152)\" cx=\"748.761\" cy=\"506.919\" r=\"14.4\" fill=\"#e26f46\" fill-rule=\"evenodd\" fill-opacity=\"1\" stroke=\"#000000\" stroke-opacity=\"1\" stroke-width=\"3.2\"/>\n",
       "<circle clip-path=\"url(#clip152)\" cx=\"769.333\" cy=\"514.061\" r=\"14.4\" fill=\"#e26f46\" fill-rule=\"evenodd\" fill-opacity=\"1\" stroke=\"#000000\" stroke-opacity=\"1\" stroke-width=\"3.2\"/>\n",
       "<circle clip-path=\"url(#clip152)\" cx=\"789.905\" cy=\"547.981\" r=\"14.4\" fill=\"#e26f46\" fill-rule=\"evenodd\" fill-opacity=\"1\" stroke=\"#000000\" stroke-opacity=\"1\" stroke-width=\"3.2\"/>\n",
       "<circle clip-path=\"url(#clip152)\" cx=\"810.477\" cy=\"561.419\" r=\"14.4\" fill=\"#e26f46\" fill-rule=\"evenodd\" fill-opacity=\"1\" stroke=\"#000000\" stroke-opacity=\"1\" stroke-width=\"3.2\"/>\n",
       "<circle clip-path=\"url(#clip152)\" cx=\"831.049\" cy=\"676.976\" r=\"14.4\" fill=\"#e26f46\" fill-rule=\"evenodd\" fill-opacity=\"1\" stroke=\"#000000\" stroke-opacity=\"1\" stroke-width=\"3.2\"/>\n",
       "<circle clip-path=\"url(#clip152)\" cx=\"851.621\" cy=\"653.744\" r=\"14.4\" fill=\"#e26f46\" fill-rule=\"evenodd\" fill-opacity=\"1\" stroke=\"#000000\" stroke-opacity=\"1\" stroke-width=\"3.2\"/>\n",
       "<circle clip-path=\"url(#clip152)\" cx=\"872.193\" cy=\"632.902\" r=\"14.4\" fill=\"#e26f46\" fill-rule=\"evenodd\" fill-opacity=\"1\" stroke=\"#000000\" stroke-opacity=\"1\" stroke-width=\"3.2\"/>\n",
       "<circle clip-path=\"url(#clip152)\" cx=\"892.765\" cy=\"670.842\" r=\"14.4\" fill=\"#e26f46\" fill-rule=\"evenodd\" fill-opacity=\"1\" stroke=\"#000000\" stroke-opacity=\"1\" stroke-width=\"3.2\"/>\n",
       "<circle clip-path=\"url(#clip152)\" cx=\"913.337\" cy=\"1017.15\" r=\"14.4\" fill=\"#e26f46\" fill-rule=\"evenodd\" fill-opacity=\"1\" stroke=\"#000000\" stroke-opacity=\"1\" stroke-width=\"3.2\"/>\n",
       "<circle clip-path=\"url(#clip152)\" cx=\"933.909\" cy=\"786.467\" r=\"14.4\" fill=\"#e26f46\" fill-rule=\"evenodd\" fill-opacity=\"1\" stroke=\"#000000\" stroke-opacity=\"1\" stroke-width=\"3.2\"/>\n",
       "<circle clip-path=\"url(#clip152)\" cx=\"954.481\" cy=\"721.649\" r=\"14.4\" fill=\"#e26f46\" fill-rule=\"evenodd\" fill-opacity=\"1\" stroke=\"#000000\" stroke-opacity=\"1\" stroke-width=\"3.2\"/>\n",
       "<circle clip-path=\"url(#clip152)\" cx=\"975.053\" cy=\"918.223\" r=\"14.4\" fill=\"#e26f46\" fill-rule=\"evenodd\" fill-opacity=\"1\" stroke=\"#000000\" stroke-opacity=\"1\" stroke-width=\"3.2\"/>\n",
       "<circle clip-path=\"url(#clip152)\" cx=\"995.625\" cy=\"1081.59\" r=\"14.4\" fill=\"#e26f46\" fill-rule=\"evenodd\" fill-opacity=\"1\" stroke=\"#000000\" stroke-opacity=\"1\" stroke-width=\"3.2\"/>\n",
       "<circle clip-path=\"url(#clip152)\" cx=\"1016.2\" cy=\"1180.46\" r=\"14.4\" fill=\"#e26f46\" fill-rule=\"evenodd\" fill-opacity=\"1\" stroke=\"#000000\" stroke-opacity=\"1\" stroke-width=\"3.2\"/>\n",
       "<circle clip-path=\"url(#clip152)\" cx=\"1036.77\" cy=\"1077.03\" r=\"14.4\" fill=\"#e26f46\" fill-rule=\"evenodd\" fill-opacity=\"1\" stroke=\"#000000\" stroke-opacity=\"1\" stroke-width=\"3.2\"/>\n",
       "<circle clip-path=\"url(#clip152)\" cx=\"1057.34\" cy=\"1139.68\" r=\"14.4\" fill=\"#e26f46\" fill-rule=\"evenodd\" fill-opacity=\"1\" stroke=\"#000000\" stroke-opacity=\"1\" stroke-width=\"3.2\"/>\n",
       "<circle clip-path=\"url(#clip152)\" cx=\"1077.91\" cy=\"1090.65\" r=\"14.4\" fill=\"#e26f46\" fill-rule=\"evenodd\" fill-opacity=\"1\" stroke=\"#000000\" stroke-opacity=\"1\" stroke-width=\"3.2\"/>\n",
       "<circle clip-path=\"url(#clip152)\" cx=\"1098.48\" cy=\"1016.77\" r=\"14.4\" fill=\"#e26f46\" fill-rule=\"evenodd\" fill-opacity=\"1\" stroke=\"#000000\" stroke-opacity=\"1\" stroke-width=\"3.2\"/>\n",
       "<circle clip-path=\"url(#clip152)\" cx=\"1119.06\" cy=\"1354\" r=\"14.4\" fill=\"#e26f46\" fill-rule=\"evenodd\" fill-opacity=\"1\" stroke=\"#000000\" stroke-opacity=\"1\" stroke-width=\"3.2\"/>\n",
       "<circle clip-path=\"url(#clip152)\" cx=\"1139.63\" cy=\"1416.11\" r=\"14.4\" fill=\"#e26f46\" fill-rule=\"evenodd\" fill-opacity=\"1\" stroke=\"#000000\" stroke-opacity=\"1\" stroke-width=\"3.2\"/>\n",
       "<circle clip-path=\"url(#clip152)\" cx=\"1160.2\" cy=\"1385.45\" r=\"14.4\" fill=\"#e26f46\" fill-rule=\"evenodd\" fill-opacity=\"1\" stroke=\"#000000\" stroke-opacity=\"1\" stroke-width=\"3.2\"/>\n",
       "<circle clip-path=\"url(#clip152)\" cx=\"1180.77\" cy=\"1244.62\" r=\"14.4\" fill=\"#e26f46\" fill-rule=\"evenodd\" fill-opacity=\"1\" stroke=\"#000000\" stroke-opacity=\"1\" stroke-width=\"3.2\"/>\n",
       "<circle clip-path=\"url(#clip152)\" cx=\"1201.34\" cy=\"1332.82\" r=\"14.4\" fill=\"#e26f46\" fill-rule=\"evenodd\" fill-opacity=\"1\" stroke=\"#000000\" stroke-opacity=\"1\" stroke-width=\"3.2\"/>\n",
       "<circle clip-path=\"url(#clip152)\" cx=\"1221.92\" cy=\"1442.73\" r=\"14.4\" fill=\"#e26f46\" fill-rule=\"evenodd\" fill-opacity=\"1\" stroke=\"#000000\" stroke-opacity=\"1\" stroke-width=\"3.2\"/>\n",
       "<circle clip-path=\"url(#clip152)\" cx=\"1242.49\" cy=\"1445.72\" r=\"14.4\" fill=\"#e26f46\" fill-rule=\"evenodd\" fill-opacity=\"1\" stroke=\"#000000\" stroke-opacity=\"1\" stroke-width=\"3.2\"/>\n",
       "<circle clip-path=\"url(#clip152)\" cx=\"1263.06\" cy=\"1309.18\" r=\"14.4\" fill=\"#e26f46\" fill-rule=\"evenodd\" fill-opacity=\"1\" stroke=\"#000000\" stroke-opacity=\"1\" stroke-width=\"3.2\"/>\n",
       "<circle clip-path=\"url(#clip152)\" cx=\"1283.63\" cy=\"1176.21\" r=\"14.4\" fill=\"#e26f46\" fill-rule=\"evenodd\" fill-opacity=\"1\" stroke=\"#000000\" stroke-opacity=\"1\" stroke-width=\"3.2\"/>\n",
       "<circle clip-path=\"url(#clip152)\" cx=\"1304.2\" cy=\"1286.69\" r=\"14.4\" fill=\"#e26f46\" fill-rule=\"evenodd\" fill-opacity=\"1\" stroke=\"#000000\" stroke-opacity=\"1\" stroke-width=\"3.2\"/>\n",
       "<circle clip-path=\"url(#clip152)\" cx=\"1324.78\" cy=\"1197.77\" r=\"14.4\" fill=\"#e26f46\" fill-rule=\"evenodd\" fill-opacity=\"1\" stroke=\"#000000\" stroke-opacity=\"1\" stroke-width=\"3.2\"/>\n",
       "<circle clip-path=\"url(#clip152)\" cx=\"1345.35\" cy=\"1055.66\" r=\"14.4\" fill=\"#e26f46\" fill-rule=\"evenodd\" fill-opacity=\"1\" stroke=\"#000000\" stroke-opacity=\"1\" stroke-width=\"3.2\"/>\n",
       "<circle clip-path=\"url(#clip152)\" cx=\"1365.92\" cy=\"1198.79\" r=\"14.4\" fill=\"#e26f46\" fill-rule=\"evenodd\" fill-opacity=\"1\" stroke=\"#000000\" stroke-opacity=\"1\" stroke-width=\"3.2\"/>\n",
       "<circle clip-path=\"url(#clip152)\" cx=\"1386.49\" cy=\"1037.11\" r=\"14.4\" fill=\"#e26f46\" fill-rule=\"evenodd\" fill-opacity=\"1\" stroke=\"#000000\" stroke-opacity=\"1\" stroke-width=\"3.2\"/>\n",
       "<circle clip-path=\"url(#clip152)\" cx=\"1407.06\" cy=\"1144.23\" r=\"14.4\" fill=\"#e26f46\" fill-rule=\"evenodd\" fill-opacity=\"1\" stroke=\"#000000\" stroke-opacity=\"1\" stroke-width=\"3.2\"/>\n",
       "<circle clip-path=\"url(#clip152)\" cx=\"1427.64\" cy=\"1096.79\" r=\"14.4\" fill=\"#e26f46\" fill-rule=\"evenodd\" fill-opacity=\"1\" stroke=\"#000000\" stroke-opacity=\"1\" stroke-width=\"3.2\"/>\n",
       "<circle clip-path=\"url(#clip152)\" cx=\"1448.21\" cy=\"1017.03\" r=\"14.4\" fill=\"#e26f46\" fill-rule=\"evenodd\" fill-opacity=\"1\" stroke=\"#000000\" stroke-opacity=\"1\" stroke-width=\"3.2\"/>\n",
       "<circle clip-path=\"url(#clip152)\" cx=\"1468.78\" cy=\"815.733\" r=\"14.4\" fill=\"#e26f46\" fill-rule=\"evenodd\" fill-opacity=\"1\" stroke=\"#000000\" stroke-opacity=\"1\" stroke-width=\"3.2\"/>\n",
       "<circle clip-path=\"url(#clip152)\" cx=\"1489.35\" cy=\"786.074\" r=\"14.4\" fill=\"#e26f46\" fill-rule=\"evenodd\" fill-opacity=\"1\" stroke=\"#000000\" stroke-opacity=\"1\" stroke-width=\"3.2\"/>\n",
       "<circle clip-path=\"url(#clip152)\" cx=\"1509.92\" cy=\"829.381\" r=\"14.4\" fill=\"#e26f46\" fill-rule=\"evenodd\" fill-opacity=\"1\" stroke=\"#000000\" stroke-opacity=\"1\" stroke-width=\"3.2\"/>\n",
       "<circle clip-path=\"url(#clip152)\" cx=\"1530.5\" cy=\"765.813\" r=\"14.4\" fill=\"#e26f46\" fill-rule=\"evenodd\" fill-opacity=\"1\" stroke=\"#000000\" stroke-opacity=\"1\" stroke-width=\"3.2\"/>\n",
       "<circle clip-path=\"url(#clip152)\" cx=\"1551.07\" cy=\"718.668\" r=\"14.4\" fill=\"#e26f46\" fill-rule=\"evenodd\" fill-opacity=\"1\" stroke=\"#000000\" stroke-opacity=\"1\" stroke-width=\"3.2\"/>\n",
       "<circle clip-path=\"url(#clip152)\" cx=\"1571.64\" cy=\"940.819\" r=\"14.4\" fill=\"#e26f46\" fill-rule=\"evenodd\" fill-opacity=\"1\" stroke=\"#000000\" stroke-opacity=\"1\" stroke-width=\"3.2\"/>\n",
       "<circle clip-path=\"url(#clip152)\" cx=\"1592.21\" cy=\"809.918\" r=\"14.4\" fill=\"#e26f46\" fill-rule=\"evenodd\" fill-opacity=\"1\" stroke=\"#000000\" stroke-opacity=\"1\" stroke-width=\"3.2\"/>\n",
       "<circle clip-path=\"url(#clip152)\" cx=\"1612.78\" cy=\"771.186\" r=\"14.4\" fill=\"#e26f46\" fill-rule=\"evenodd\" fill-opacity=\"1\" stroke=\"#000000\" stroke-opacity=\"1\" stroke-width=\"3.2\"/>\n",
       "<circle clip-path=\"url(#clip152)\" cx=\"1633.35\" cy=\"585.709\" r=\"14.4\" fill=\"#e26f46\" fill-rule=\"evenodd\" fill-opacity=\"1\" stroke=\"#000000\" stroke-opacity=\"1\" stroke-width=\"3.2\"/>\n",
       "<circle clip-path=\"url(#clip152)\" cx=\"1653.93\" cy=\"505.888\" r=\"14.4\" fill=\"#e26f46\" fill-rule=\"evenodd\" fill-opacity=\"1\" stroke=\"#000000\" stroke-opacity=\"1\" stroke-width=\"3.2\"/>\n",
       "<circle clip-path=\"url(#clip152)\" cx=\"1674.5\" cy=\"512.603\" r=\"14.4\" fill=\"#e26f46\" fill-rule=\"evenodd\" fill-opacity=\"1\" stroke=\"#000000\" stroke-opacity=\"1\" stroke-width=\"3.2\"/>\n",
       "<circle clip-path=\"url(#clip152)\" cx=\"1695.07\" cy=\"500.5\" r=\"14.4\" fill=\"#e26f46\" fill-rule=\"evenodd\" fill-opacity=\"1\" stroke=\"#000000\" stroke-opacity=\"1\" stroke-width=\"3.2\"/>\n",
       "<circle clip-path=\"url(#clip152)\" cx=\"1715.64\" cy=\"361.221\" r=\"14.4\" fill=\"#e26f46\" fill-rule=\"evenodd\" fill-opacity=\"1\" stroke=\"#000000\" stroke-opacity=\"1\" stroke-width=\"3.2\"/>\n",
       "<circle clip-path=\"url(#clip152)\" cx=\"1736.21\" cy=\"410.544\" r=\"14.4\" fill=\"#e26f46\" fill-rule=\"evenodd\" fill-opacity=\"1\" stroke=\"#000000\" stroke-opacity=\"1\" stroke-width=\"3.2\"/>\n",
       "<circle clip-path=\"url(#clip152)\" cx=\"1756.79\" cy=\"287.62\" r=\"14.4\" fill=\"#e26f46\" fill-rule=\"evenodd\" fill-opacity=\"1\" stroke=\"#000000\" stroke-opacity=\"1\" stroke-width=\"3.2\"/>\n",
       "<circle clip-path=\"url(#clip152)\" cx=\"1777.36\" cy=\"447.617\" r=\"14.4\" fill=\"#e26f46\" fill-rule=\"evenodd\" fill-opacity=\"1\" stroke=\"#000000\" stroke-opacity=\"1\" stroke-width=\"3.2\"/>\n",
       "<circle clip-path=\"url(#clip152)\" cx=\"1797.93\" cy=\"308.574\" r=\"14.4\" fill=\"#e26f46\" fill-rule=\"evenodd\" fill-opacity=\"1\" stroke=\"#000000\" stroke-opacity=\"1\" stroke-width=\"3.2\"/>\n",
       "<circle clip-path=\"url(#clip152)\" cx=\"1818.5\" cy=\"314.113\" r=\"14.4\" fill=\"#e26f46\" fill-rule=\"evenodd\" fill-opacity=\"1\" stroke=\"#000000\" stroke-opacity=\"1\" stroke-width=\"3.2\"/>\n",
       "<circle clip-path=\"url(#clip152)\" cx=\"1839.07\" cy=\"396.393\" r=\"14.4\" fill=\"#e26f46\" fill-rule=\"evenodd\" fill-opacity=\"1\" stroke=\"#000000\" stroke-opacity=\"1\" stroke-width=\"3.2\"/>\n",
       "<circle clip-path=\"url(#clip152)\" cx=\"1859.65\" cy=\"266.607\" r=\"14.4\" fill=\"#e26f46\" fill-rule=\"evenodd\" fill-opacity=\"1\" stroke=\"#000000\" stroke-opacity=\"1\" stroke-width=\"3.2\"/>\n",
       "<circle clip-path=\"url(#clip152)\" cx=\"1880.22\" cy=\"331.604\" r=\"14.4\" fill=\"#e26f46\" fill-rule=\"evenodd\" fill-opacity=\"1\" stroke=\"#000000\" stroke-opacity=\"1\" stroke-width=\"3.2\"/>\n",
       "<circle clip-path=\"url(#clip152)\" cx=\"1900.79\" cy=\"353.842\" r=\"14.4\" fill=\"#e26f46\" fill-rule=\"evenodd\" fill-opacity=\"1\" stroke=\"#000000\" stroke-opacity=\"1\" stroke-width=\"3.2\"/>\n",
       "<circle clip-path=\"url(#clip152)\" cx=\"1921.36\" cy=\"279.088\" r=\"14.4\" fill=\"#e26f46\" fill-rule=\"evenodd\" fill-opacity=\"1\" stroke=\"#000000\" stroke-opacity=\"1\" stroke-width=\"3.2\"/>\n",
       "<circle clip-path=\"url(#clip152)\" cx=\"1941.93\" cy=\"485.502\" r=\"14.4\" fill=\"#e26f46\" fill-rule=\"evenodd\" fill-opacity=\"1\" stroke=\"#000000\" stroke-opacity=\"1\" stroke-width=\"3.2\"/>\n",
       "<circle clip-path=\"url(#clip152)\" cx=\"1962.51\" cy=\"238.517\" r=\"14.4\" fill=\"#e26f46\" fill-rule=\"evenodd\" fill-opacity=\"1\" stroke=\"#000000\" stroke-opacity=\"1\" stroke-width=\"3.2\"/>\n",
       "<circle clip-path=\"url(#clip152)\" cx=\"1983.08\" cy=\"294.73\" r=\"14.4\" fill=\"#e26f46\" fill-rule=\"evenodd\" fill-opacity=\"1\" stroke=\"#000000\" stroke-opacity=\"1\" stroke-width=\"3.2\"/>\n",
       "<circle clip-path=\"url(#clip152)\" cx=\"2003.65\" cy=\"485.257\" r=\"14.4\" fill=\"#e26f46\" fill-rule=\"evenodd\" fill-opacity=\"1\" stroke=\"#000000\" stroke-opacity=\"1\" stroke-width=\"3.2\"/>\n",
       "<circle clip-path=\"url(#clip152)\" cx=\"2024.22\" cy=\"493.339\" r=\"14.4\" fill=\"#e26f46\" fill-rule=\"evenodd\" fill-opacity=\"1\" stroke=\"#000000\" stroke-opacity=\"1\" stroke-width=\"3.2\"/>\n",
       "<circle clip-path=\"url(#clip152)\" cx=\"2044.79\" cy=\"384.992\" r=\"14.4\" fill=\"#e26f46\" fill-rule=\"evenodd\" fill-opacity=\"1\" stroke=\"#000000\" stroke-opacity=\"1\" stroke-width=\"3.2\"/>\n",
       "<circle clip-path=\"url(#clip152)\" cx=\"2065.37\" cy=\"503.194\" r=\"14.4\" fill=\"#e26f46\" fill-rule=\"evenodd\" fill-opacity=\"1\" stroke=\"#000000\" stroke-opacity=\"1\" stroke-width=\"3.2\"/>\n",
       "<circle clip-path=\"url(#clip152)\" cx=\"2085.94\" cy=\"542.738\" r=\"14.4\" fill=\"#e26f46\" fill-rule=\"evenodd\" fill-opacity=\"1\" stroke=\"#000000\" stroke-opacity=\"1\" stroke-width=\"3.2\"/>\n",
       "<circle clip-path=\"url(#clip152)\" cx=\"2106.51\" cy=\"584.953\" r=\"14.4\" fill=\"#e26f46\" fill-rule=\"evenodd\" fill-opacity=\"1\" stroke=\"#000000\" stroke-opacity=\"1\" stroke-width=\"3.2\"/>\n",
       "<circle clip-path=\"url(#clip152)\" cx=\"2127.08\" cy=\"597.967\" r=\"14.4\" fill=\"#e26f46\" fill-rule=\"evenodd\" fill-opacity=\"1\" stroke=\"#000000\" stroke-opacity=\"1\" stroke-width=\"3.2\"/>\n",
       "<circle clip-path=\"url(#clip152)\" cx=\"2147.65\" cy=\"757.804\" r=\"14.4\" fill=\"#e26f46\" fill-rule=\"evenodd\" fill-opacity=\"1\" stroke=\"#000000\" stroke-opacity=\"1\" stroke-width=\"3.2\"/>\n",
       "<circle clip-path=\"url(#clip152)\" cx=\"2168.23\" cy=\"721.122\" r=\"14.4\" fill=\"#e26f46\" fill-rule=\"evenodd\" fill-opacity=\"1\" stroke=\"#000000\" stroke-opacity=\"1\" stroke-width=\"3.2\"/>\n",
       "<circle clip-path=\"url(#clip152)\" cx=\"2188.8\" cy=\"546.405\" r=\"14.4\" fill=\"#e26f46\" fill-rule=\"evenodd\" fill-opacity=\"1\" stroke=\"#000000\" stroke-opacity=\"1\" stroke-width=\"3.2\"/>\n",
       "<circle clip-path=\"url(#clip152)\" cx=\"2209.37\" cy=\"697.717\" r=\"14.4\" fill=\"#e26f46\" fill-rule=\"evenodd\" fill-opacity=\"1\" stroke=\"#000000\" stroke-opacity=\"1\" stroke-width=\"3.2\"/>\n",
       "<circle clip-path=\"url(#clip152)\" cx=\"2229.94\" cy=\"905.664\" r=\"14.4\" fill=\"#e26f46\" fill-rule=\"evenodd\" fill-opacity=\"1\" stroke=\"#000000\" stroke-opacity=\"1\" stroke-width=\"3.2\"/>\n",
       "<circle clip-path=\"url(#clip152)\" cx=\"2250.51\" cy=\"892.184\" r=\"14.4\" fill=\"#e26f46\" fill-rule=\"evenodd\" fill-opacity=\"1\" stroke=\"#000000\" stroke-opacity=\"1\" stroke-width=\"3.2\"/>\n",
       "<circle clip-path=\"url(#clip152)\" cx=\"2271.09\" cy=\"1109.12\" r=\"14.4\" fill=\"#e26f46\" fill-rule=\"evenodd\" fill-opacity=\"1\" stroke=\"#000000\" stroke-opacity=\"1\" stroke-width=\"3.2\"/>\n",
       "<circle clip-path=\"url(#clip152)\" cx=\"2291.66\" cy=\"1004.74\" r=\"14.4\" fill=\"#e26f46\" fill-rule=\"evenodd\" fill-opacity=\"1\" stroke=\"#000000\" stroke-opacity=\"1\" stroke-width=\"3.2\"/>\n",
       "<path clip-path=\"url(#clip150)\" d=\"M1938.59 1438.47 L2280.8 1438.47 L2280.8 1282.95 L1938.59 1282.95  Z\" fill=\"#ffffff\" fill-rule=\"evenodd\" fill-opacity=\"1\"/>\n",
       "<polyline clip-path=\"url(#clip150)\" style=\"stroke:#000000; stroke-linecap:round; stroke-linejoin:round; stroke-width:4; stroke-opacity:1; fill:none\" points=\"1938.59,1438.47 2280.8,1438.47 2280.8,1282.95 1938.59,1282.95 1938.59,1438.47 \"/>\n",
       "<polyline clip-path=\"url(#clip150)\" style=\"stroke:#009af9; stroke-linecap:round; stroke-linejoin:round; stroke-width:4; stroke-opacity:1; fill:none\" points=\"1962.58,1334.79 2106.5,1334.79 \"/>\n",
       "<path clip-path=\"url(#clip150)\" d=\"M2148.92 1326.91 L2148.92 1330.94 Q2147.11 1330.01 2145.17 1329.55 Q2143.22 1329.09 2141.14 1329.09 Q2137.97 1329.09 2136.37 1330.06 Q2134.8 1331.03 2134.8 1332.98 Q2134.8 1334.46 2135.93 1335.32 Q2137.06 1336.15 2140.49 1336.91 L2141.95 1337.24 Q2146.48 1338.21 2148.38 1339.99 Q2150.3 1341.75 2150.3 1344.92 Q2150.3 1348.53 2147.43 1350.64 Q2144.59 1352.75 2139.59 1352.75 Q2137.5 1352.75 2135.23 1352.33 Q2132.99 1351.94 2130.49 1351.13 L2130.49 1346.73 Q2132.85 1347.95 2135.14 1348.58 Q2137.43 1349.18 2139.68 1349.18 Q2142.69 1349.18 2144.31 1348.16 Q2145.93 1347.12 2145.93 1345.25 Q2145.93 1343.51 2144.75 1342.58 Q2143.59 1341.66 2139.63 1340.8 L2138.15 1340.45 Q2134.19 1339.62 2132.43 1337.91 Q2130.67 1336.17 2130.67 1333.16 Q2130.67 1329.51 2133.27 1327.51 Q2135.86 1325.52 2140.63 1325.52 Q2142.99 1325.52 2145.07 1325.87 Q2147.16 1326.22 2148.92 1326.91 Z\" fill=\"#000000\" fill-rule=\"nonzero\" fill-opacity=\"1\" /><path clip-path=\"url(#clip150)\" d=\"M2157.09 1326.15 L2161.35 1326.15 L2161.35 1352.07 L2157.09 1352.07 L2157.09 1326.15 M2157.09 1316.06 L2161.35 1316.06 L2161.35 1321.45 L2157.09 1321.45 L2157.09 1316.06 Z\" fill=\"#000000\" fill-rule=\"nonzero\" fill-opacity=\"1\" /><path clip-path=\"url(#clip150)\" d=\"M2191.81 1336.43 L2191.81 1352.07 L2187.55 1352.07 L2187.55 1336.57 Q2187.55 1332.88 2186.11 1331.06 Q2184.68 1329.23 2181.81 1329.23 Q2178.36 1329.23 2176.37 1331.43 Q2174.38 1333.63 2174.38 1337.42 L2174.38 1352.07 L2170.1 1352.07 L2170.1 1326.15 L2174.38 1326.15 L2174.38 1330.18 Q2175.91 1327.84 2177.97 1326.68 Q2180.05 1325.52 2182.76 1325.52 Q2187.23 1325.52 2189.52 1328.3 Q2191.81 1331.06 2191.81 1336.43 Z\" fill=\"#000000\" fill-rule=\"nonzero\" fill-opacity=\"1\" /><path clip-path=\"url(#clip150)\" d=\"M2210.54 1316.1 Q2207.43 1321.43 2205.93 1326.63 Q2204.42 1331.84 2204.42 1337.19 Q2204.42 1342.54 2205.93 1347.79 Q2207.46 1353.02 2210.54 1358.32 L2206.83 1358.32 Q2203.36 1352.88 2201.62 1347.63 Q2199.91 1342.38 2199.91 1337.19 Q2199.91 1332.03 2201.62 1326.8 Q2203.34 1321.57 2206.83 1316.1 L2210.54 1316.1 Z\" fill=\"#000000\" fill-rule=\"nonzero\" fill-opacity=\"1\" /><path clip-path=\"url(#clip150)\" d=\"M2240.35 1326.15 L2230.98 1338.76 L2240.84 1352.07 L2235.81 1352.07 L2228.27 1341.89 L2220.72 1352.07 L2215.7 1352.07 L2225.77 1338.51 L2216.55 1326.15 L2221.58 1326.15 L2228.45 1335.38 L2235.33 1326.15 L2240.35 1326.15 Z\" fill=\"#000000\" fill-rule=\"nonzero\" fill-opacity=\"1\" /><path clip-path=\"url(#clip150)\" d=\"M2246.18 1316.1 L2249.89 1316.1 Q2253.36 1321.57 2255.07 1326.8 Q2256.81 1332.03 2256.81 1337.19 Q2256.81 1342.38 2255.07 1347.63 Q2253.36 1352.88 2249.89 1358.32 L2246.18 1358.32 Q2249.26 1353.02 2250.77 1347.79 Q2252.29 1342.54 2252.29 1337.19 Q2252.29 1331.84 2250.77 1326.63 Q2249.26 1321.43 2246.18 1316.1 Z\" fill=\"#000000\" fill-rule=\"nonzero\" fill-opacity=\"1\" /><circle clip-path=\"url(#clip150)\" cx=\"2034.54\" cy=\"1386.63\" r=\"20.48\" fill=\"#e26f46\" fill-rule=\"evenodd\" fill-opacity=\"1\" stroke=\"#000000\" stroke-opacity=\"1\" stroke-width=\"4.55111\"/>\n",
       "<path clip-path=\"url(#clip150)\" d=\"M2149.4 1381.92 L2149.4 1367.9 L2153.66 1367.9 L2153.66 1403.91 L2149.4 1403.91 L2149.4 1400.03 Q2148.06 1402.34 2146 1403.47 Q2143.96 1404.59 2141.09 1404.59 Q2136.39 1404.59 2133.43 1400.84 Q2130.49 1397.09 2130.49 1390.97 Q2130.49 1384.86 2133.43 1381.11 Q2136.39 1377.36 2141.09 1377.36 Q2143.96 1377.36 2146 1378.5 Q2148.06 1379.61 2149.4 1381.92 M2134.89 1390.97 Q2134.89 1395.67 2136.81 1398.36 Q2138.75 1401.02 2142.13 1401.02 Q2145.51 1401.02 2147.46 1398.36 Q2149.4 1395.67 2149.4 1390.97 Q2149.4 1386.28 2147.46 1383.61 Q2145.51 1380.93 2142.13 1380.93 Q2138.75 1380.93 2136.81 1383.61 Q2134.89 1386.28 2134.89 1390.97 Z\" fill=\"#000000\" fill-rule=\"nonzero\" fill-opacity=\"1\" /><path clip-path=\"url(#clip150)\" d=\"M2174.22 1390.88 Q2169.05 1390.88 2167.06 1392.06 Q2165.07 1393.24 2165.07 1396.09 Q2165.07 1398.36 2166.55 1399.7 Q2168.06 1401.02 2170.63 1401.02 Q2174.17 1401.02 2176.3 1398.52 Q2178.45 1396 2178.45 1391.83 L2178.45 1390.88 L2174.22 1390.88 M2182.71 1389.12 L2182.71 1403.91 L2178.45 1403.91 L2178.45 1399.98 Q2176.99 1402.34 2174.82 1403.47 Q2172.64 1404.59 2169.49 1404.59 Q2165.51 1404.59 2163.15 1402.36 Q2160.81 1400.12 2160.81 1396.37 Q2160.81 1391.99 2163.73 1389.77 Q2166.67 1387.55 2172.48 1387.55 L2178.45 1387.55 L2178.45 1387.13 Q2178.45 1384.19 2176.51 1382.6 Q2174.59 1380.97 2171.09 1380.97 Q2168.87 1380.97 2166.76 1381.51 Q2164.66 1382.04 2162.71 1383.1 L2162.71 1379.17 Q2165.05 1378.27 2167.25 1377.83 Q2169.45 1377.36 2171.53 1377.36 Q2177.16 1377.36 2179.93 1380.28 Q2182.71 1383.2 2182.71 1389.12 Z\" fill=\"#000000\" fill-rule=\"nonzero\" fill-opacity=\"1\" /><path clip-path=\"url(#clip150)\" d=\"M2195.7 1370.63 L2195.7 1377.99 L2204.47 1377.99 L2204.47 1381.3 L2195.7 1381.3 L2195.7 1395.37 Q2195.7 1398.54 2196.55 1399.45 Q2197.43 1400.35 2200.1 1400.35 L2204.47 1400.35 L2204.47 1403.91 L2200.1 1403.91 Q2195.17 1403.91 2193.29 1402.09 Q2191.42 1400.23 2191.42 1395.37 L2191.42 1381.3 L2188.29 1381.3 L2188.29 1377.99 L2191.42 1377.99 L2191.42 1370.63 L2195.7 1370.63 Z\" fill=\"#000000\" fill-rule=\"nonzero\" fill-opacity=\"1\" /><path clip-path=\"url(#clip150)\" d=\"M2221.85 1390.88 Q2216.69 1390.88 2214.7 1392.06 Q2212.71 1393.24 2212.71 1396.09 Q2212.71 1398.36 2214.19 1399.7 Q2215.7 1401.02 2218.27 1401.02 Q2221.81 1401.02 2223.94 1398.52 Q2226.09 1396 2226.09 1391.83 L2226.09 1390.88 L2221.85 1390.88 M2230.35 1389.12 L2230.35 1403.91 L2226.09 1403.91 L2226.09 1399.98 Q2224.63 1402.34 2222.46 1403.47 Q2220.28 1404.59 2217.13 1404.59 Q2213.15 1404.59 2210.79 1402.36 Q2208.45 1400.12 2208.45 1396.37 Q2208.45 1391.99 2211.37 1389.77 Q2214.31 1387.55 2220.12 1387.55 L2226.09 1387.55 L2226.09 1387.13 Q2226.09 1384.19 2224.15 1382.6 Q2222.23 1380.97 2218.73 1380.97 Q2216.51 1380.97 2214.4 1381.51 Q2212.29 1382.04 2210.35 1383.1 L2210.35 1379.17 Q2212.69 1378.27 2214.89 1377.83 Q2217.09 1377.36 2219.17 1377.36 Q2224.79 1377.36 2227.57 1380.28 Q2230.35 1383.2 2230.35 1389.12 Z\" fill=\"#000000\" fill-rule=\"nonzero\" fill-opacity=\"1\" /></svg>\n"
      ],
      "text/html": [
       "<?xml version=\"1.0\" encoding=\"utf-8\"?>\n",
       "<svg xmlns=\"http://www.w3.org/2000/svg\" xmlns:xlink=\"http://www.w3.org/1999/xlink\" width=\"600\" height=\"400\" viewBox=\"0 0 2400 1600\">\n",
       "<defs>\n",
       "  <clipPath id=\"clip200\">\n",
       "    <rect x=\"0\" y=\"0\" width=\"2400\" height=\"1600\"/>\n",
       "  </clipPath>\n",
       "</defs>\n",
       "<path clip-path=\"url(#clip200)\" d=\"M0 1600 L2400 1600 L2400 0 L0 0  Z\" fill=\"#ffffff\" fill-rule=\"evenodd\" fill-opacity=\"1\"/>\n",
       "<defs>\n",
       "  <clipPath id=\"clip201\">\n",
       "    <rect x=\"480\" y=\"0\" width=\"1681\" height=\"1600\"/>\n",
       "  </clipPath>\n",
       "</defs>\n",
       "<path clip-path=\"url(#clip200)\" d=\"M193.936 1486.45 L2352.76 1486.45 L2352.76 47.2441 L193.936 47.2441  Z\" fill=\"#ffffff\" fill-rule=\"evenodd\" fill-opacity=\"1\"/>\n",
       "<defs>\n",
       "  <clipPath id=\"clip202\">\n",
       "    <rect x=\"193\" y=\"47\" width=\"2160\" height=\"1440\"/>\n",
       "  </clipPath>\n",
       "</defs>\n",
       "<polyline clip-path=\"url(#clip202)\" style=\"stroke:#000000; stroke-linecap:round; stroke-linejoin:round; stroke-width:2; stroke-opacity:0.1; fill:none\" points=\"255.035,1486.45 255.035,47.2441 \"/>\n",
       "<polyline clip-path=\"url(#clip202)\" style=\"stroke:#000000; stroke-linecap:round; stroke-linejoin:round; stroke-width:2; stroke-opacity:0.1; fill:none\" points=\"764.19,1486.45 764.19,47.2441 \"/>\n",
       "<polyline clip-path=\"url(#clip202)\" style=\"stroke:#000000; stroke-linecap:round; stroke-linejoin:round; stroke-width:2; stroke-opacity:0.1; fill:none\" points=\"1273.35,1486.45 1273.35,47.2441 \"/>\n",
       "<polyline clip-path=\"url(#clip202)\" style=\"stroke:#000000; stroke-linecap:round; stroke-linejoin:round; stroke-width:2; stroke-opacity:0.1; fill:none\" points=\"1782.5,1486.45 1782.5,47.2441 \"/>\n",
       "<polyline clip-path=\"url(#clip202)\" style=\"stroke:#000000; stroke-linecap:round; stroke-linejoin:round; stroke-width:2; stroke-opacity:0.1; fill:none\" points=\"2291.66,1486.45 2291.66,47.2441 \"/>\n",
       "<polyline clip-path=\"url(#clip200)\" style=\"stroke:#000000; stroke-linecap:round; stroke-linejoin:round; stroke-width:4; stroke-opacity:1; fill:none\" points=\"193.936,1486.45 2352.76,1486.45 \"/>\n",
       "<polyline clip-path=\"url(#clip200)\" style=\"stroke:#000000; stroke-linecap:round; stroke-linejoin:round; stroke-width:4; stroke-opacity:1; fill:none\" points=\"255.035,1486.45 255.035,1467.55 \"/>\n",
       "<polyline clip-path=\"url(#clip200)\" style=\"stroke:#000000; stroke-linecap:round; stroke-linejoin:round; stroke-width:4; stroke-opacity:1; fill:none\" points=\"764.19,1486.45 764.19,1467.55 \"/>\n",
       "<polyline clip-path=\"url(#clip200)\" style=\"stroke:#000000; stroke-linecap:round; stroke-linejoin:round; stroke-width:4; stroke-opacity:1; fill:none\" points=\"1273.35,1486.45 1273.35,1467.55 \"/>\n",
       "<polyline clip-path=\"url(#clip200)\" style=\"stroke:#000000; stroke-linecap:round; stroke-linejoin:round; stroke-width:4; stroke-opacity:1; fill:none\" points=\"1782.5,1486.45 1782.5,1467.55 \"/>\n",
       "<polyline clip-path=\"url(#clip200)\" style=\"stroke:#000000; stroke-linecap:round; stroke-linejoin:round; stroke-width:4; stroke-opacity:1; fill:none\" points=\"2291.66,1486.45 2291.66,1467.55 \"/>\n",
       "<path clip-path=\"url(#clip200)\" d=\"M232.419 1517.37 Q228.808 1517.37 226.979 1520.93 Q225.174 1524.47 225.174 1531.6 Q225.174 1538.71 226.979 1542.27 Q228.808 1545.82 232.419 1545.82 Q236.053 1545.82 237.859 1542.27 Q239.688 1538.71 239.688 1531.6 Q239.688 1524.47 237.859 1520.93 Q236.053 1517.37 232.419 1517.37 M232.419 1513.66 Q238.229 1513.66 241.285 1518.27 Q244.363 1522.85 244.363 1531.6 Q244.363 1540.33 241.285 1544.94 Q238.229 1549.52 232.419 1549.52 Q226.609 1549.52 223.53 1544.94 Q220.475 1540.33 220.475 1531.6 Q220.475 1522.85 223.53 1518.27 Q226.609 1513.66 232.419 1513.66 Z\" fill=\"#000000\" fill-rule=\"nonzero\" fill-opacity=\"1\" /><path clip-path=\"url(#clip200)\" d=\"M252.581 1542.97 L257.465 1542.97 L257.465 1548.85 L252.581 1548.85 L252.581 1542.97 Z\" fill=\"#000000\" fill-rule=\"nonzero\" fill-opacity=\"1\" /><path clip-path=\"url(#clip200)\" d=\"M277.65 1517.37 Q274.039 1517.37 272.211 1520.93 Q270.405 1524.47 270.405 1531.6 Q270.405 1538.71 272.211 1542.27 Q274.039 1545.82 277.65 1545.82 Q281.285 1545.82 283.09 1542.27 Q284.919 1538.71 284.919 1531.6 Q284.919 1524.47 283.09 1520.93 Q281.285 1517.37 277.65 1517.37 M277.65 1513.66 Q283.46 1513.66 286.516 1518.27 Q289.595 1522.85 289.595 1531.6 Q289.595 1540.33 286.516 1544.94 Q283.46 1549.52 277.65 1549.52 Q271.84 1549.52 268.761 1544.94 Q265.706 1540.33 265.706 1531.6 Q265.706 1522.85 268.761 1518.27 Q271.84 1513.66 277.65 1513.66 Z\" fill=\"#000000\" fill-rule=\"nonzero\" fill-opacity=\"1\" /><path clip-path=\"url(#clip200)\" d=\"M735.927 1544.91 L752.246 1544.91 L752.246 1548.85 L730.302 1548.85 L730.302 1544.91 Q732.964 1542.16 737.547 1537.53 Q742.153 1532.88 743.334 1531.53 Q745.579 1529.01 746.459 1527.27 Q747.362 1525.51 747.362 1523.82 Q747.362 1521.07 745.417 1519.33 Q743.496 1517.6 740.394 1517.6 Q738.195 1517.6 735.741 1518.36 Q733.311 1519.13 730.533 1520.68 L730.533 1515.95 Q733.357 1514.82 735.811 1514.24 Q738.265 1513.66 740.302 1513.66 Q745.672 1513.66 748.866 1516.35 Q752.061 1519.03 752.061 1523.52 Q752.061 1525.65 751.251 1527.57 Q750.464 1529.47 748.357 1532.07 Q747.778 1532.74 744.677 1535.95 Q741.575 1539.15 735.927 1544.91 Z\" fill=\"#000000\" fill-rule=\"nonzero\" fill-opacity=\"1\" /><path clip-path=\"url(#clip200)\" d=\"M762.061 1542.97 L766.945 1542.97 L766.945 1548.85 L762.061 1548.85 L762.061 1542.97 Z\" fill=\"#000000\" fill-rule=\"nonzero\" fill-opacity=\"1\" /><path clip-path=\"url(#clip200)\" d=\"M777.176 1514.29 L795.533 1514.29 L795.533 1518.22 L781.459 1518.22 L781.459 1526.7 Q782.477 1526.35 783.496 1526.19 Q784.514 1526 785.533 1526 Q791.32 1526 794.699 1529.17 Q798.079 1532.34 798.079 1537.76 Q798.079 1543.34 794.607 1546.44 Q791.135 1549.52 784.815 1549.52 Q782.639 1549.52 780.371 1549.15 Q778.125 1548.78 775.718 1548.04 L775.718 1543.34 Q777.801 1544.47 780.024 1545.03 Q782.246 1545.58 784.723 1545.58 Q788.727 1545.58 791.065 1543.48 Q793.403 1541.37 793.403 1537.76 Q793.403 1534.15 791.065 1532.04 Q788.727 1529.94 784.723 1529.94 Q782.848 1529.94 780.973 1530.35 Q779.121 1530.77 777.176 1531.65 L777.176 1514.29 Z\" fill=\"#000000\" fill-rule=\"nonzero\" fill-opacity=\"1\" /><path clip-path=\"url(#clip200)\" d=\"M1240.51 1514.29 L1258.87 1514.29 L1258.87 1518.22 L1244.79 1518.22 L1244.79 1526.7 Q1245.81 1526.35 1246.83 1526.19 Q1247.85 1526 1248.87 1526 Q1254.65 1526 1258.03 1529.17 Q1261.41 1532.34 1261.41 1537.76 Q1261.41 1543.34 1257.94 1546.44 Q1254.47 1549.52 1248.15 1549.52 Q1245.97 1549.52 1243.7 1549.15 Q1241.46 1548.78 1239.05 1548.04 L1239.05 1543.34 Q1241.14 1544.47 1243.36 1545.03 Q1245.58 1545.58 1248.06 1545.58 Q1252.06 1545.58 1254.4 1543.48 Q1256.74 1541.37 1256.74 1537.76 Q1256.74 1534.15 1254.4 1532.04 Q1252.06 1529.94 1248.06 1529.94 Q1246.18 1529.94 1244.31 1530.35 Q1242.45 1530.77 1240.51 1531.65 L1240.51 1514.29 Z\" fill=\"#000000\" fill-rule=\"nonzero\" fill-opacity=\"1\" /><path clip-path=\"url(#clip200)\" d=\"M1270.63 1542.97 L1275.51 1542.97 L1275.51 1548.85 L1270.63 1548.85 L1270.63 1542.97 Z\" fill=\"#000000\" fill-rule=\"nonzero\" fill-opacity=\"1\" /><path clip-path=\"url(#clip200)\" d=\"M1295.7 1517.37 Q1292.08 1517.37 1290.26 1520.93 Q1288.45 1524.47 1288.45 1531.6 Q1288.45 1538.71 1290.26 1542.27 Q1292.08 1545.82 1295.7 1545.82 Q1299.33 1545.82 1301.14 1542.27 Q1302.96 1538.71 1302.96 1531.6 Q1302.96 1524.47 1301.14 1520.93 Q1299.33 1517.37 1295.7 1517.37 M1295.7 1513.66 Q1301.51 1513.66 1304.56 1518.27 Q1307.64 1522.85 1307.64 1531.6 Q1307.64 1540.33 1304.56 1544.94 Q1301.51 1549.52 1295.7 1549.52 Q1289.89 1549.52 1286.81 1544.94 Q1283.75 1540.33 1283.75 1531.6 Q1283.75 1522.85 1286.81 1518.27 Q1289.89 1513.66 1295.7 1513.66 Z\" fill=\"#000000\" fill-rule=\"nonzero\" fill-opacity=\"1\" /><path clip-path=\"url(#clip200)\" d=\"M1748.82 1514.29 L1771.04 1514.29 L1771.04 1516.28 L1758.5 1548.85 L1753.61 1548.85 L1765.42 1518.22 L1748.82 1518.22 L1748.82 1514.29 Z\" fill=\"#000000\" fill-rule=\"nonzero\" fill-opacity=\"1\" /><path clip-path=\"url(#clip200)\" d=\"M1780.16 1542.97 L1785.05 1542.97 L1785.05 1548.85 L1780.16 1548.85 L1780.16 1542.97 Z\" fill=\"#000000\" fill-rule=\"nonzero\" fill-opacity=\"1\" /><path clip-path=\"url(#clip200)\" d=\"M1795.28 1514.29 L1813.64 1514.29 L1813.64 1518.22 L1799.56 1518.22 L1799.56 1526.7 Q1800.58 1526.35 1801.6 1526.19 Q1802.62 1526 1803.64 1526 Q1809.42 1526 1812.8 1529.17 Q1816.18 1532.34 1816.18 1537.76 Q1816.18 1543.34 1812.71 1546.44 Q1809.24 1549.52 1802.92 1549.52 Q1800.74 1549.52 1798.47 1549.15 Q1796.23 1548.78 1793.82 1548.04 L1793.82 1543.34 Q1795.9 1544.47 1798.13 1545.03 Q1800.35 1545.58 1802.83 1545.58 Q1806.83 1545.58 1809.17 1543.48 Q1811.51 1541.37 1811.51 1537.76 Q1811.51 1534.15 1809.17 1532.04 Q1806.83 1529.94 1802.83 1529.94 Q1800.95 1529.94 1799.08 1530.35 Q1797.22 1530.77 1795.28 1531.65 L1795.28 1514.29 Z\" fill=\"#000000\" fill-rule=\"nonzero\" fill-opacity=\"1\" /><path clip-path=\"url(#clip200)\" d=\"M2243.73 1544.91 L2251.37 1544.91 L2251.37 1518.55 L2243.06 1520.21 L2243.06 1515.95 L2251.32 1514.29 L2256 1514.29 L2256 1544.91 L2263.64 1544.91 L2263.64 1548.85 L2243.73 1548.85 L2243.73 1544.91 Z\" fill=\"#000000\" fill-rule=\"nonzero\" fill-opacity=\"1\" /><path clip-path=\"url(#clip200)\" d=\"M2283.08 1517.37 Q2279.47 1517.37 2277.64 1520.93 Q2275.84 1524.47 2275.84 1531.6 Q2275.84 1538.71 2277.64 1542.27 Q2279.47 1545.82 2283.08 1545.82 Q2286.72 1545.82 2288.52 1542.27 Q2290.35 1538.71 2290.35 1531.6 Q2290.35 1524.47 2288.52 1520.93 Q2286.72 1517.37 2283.08 1517.37 M2283.08 1513.66 Q2288.89 1513.66 2291.95 1518.27 Q2295.03 1522.85 2295.03 1531.6 Q2295.03 1540.33 2291.95 1544.94 Q2288.89 1549.52 2283.08 1549.52 Q2277.27 1549.52 2274.19 1544.94 Q2271.14 1540.33 2271.14 1531.6 Q2271.14 1522.85 2274.19 1518.27 Q2277.27 1513.66 2283.08 1513.66 Z\" fill=\"#000000\" fill-rule=\"nonzero\" fill-opacity=\"1\" /><path clip-path=\"url(#clip200)\" d=\"M2303.24 1542.97 L2308.13 1542.97 L2308.13 1548.85 L2303.24 1548.85 L2303.24 1542.97 Z\" fill=\"#000000\" fill-rule=\"nonzero\" fill-opacity=\"1\" /><path clip-path=\"url(#clip200)\" d=\"M2328.31 1517.37 Q2324.7 1517.37 2322.87 1520.93 Q2321.07 1524.47 2321.07 1531.6 Q2321.07 1538.71 2322.87 1542.27 Q2324.7 1545.82 2328.31 1545.82 Q2331.95 1545.82 2333.75 1542.27 Q2335.58 1538.71 2335.58 1531.6 Q2335.58 1524.47 2333.75 1520.93 Q2331.95 1517.37 2328.31 1517.37 M2328.31 1513.66 Q2334.12 1513.66 2337.18 1518.27 Q2340.26 1522.85 2340.26 1531.6 Q2340.26 1540.33 2337.18 1544.94 Q2334.12 1549.52 2328.31 1549.52 Q2322.5 1549.52 2319.42 1544.94 Q2316.37 1540.33 2316.37 1531.6 Q2316.37 1522.85 2319.42 1518.27 Q2322.5 1513.66 2328.31 1513.66 Z\" fill=\"#000000\" fill-rule=\"nonzero\" fill-opacity=\"1\" /><polyline clip-path=\"url(#clip202)\" style=\"stroke:#000000; stroke-linecap:round; stroke-linejoin:round; stroke-width:2; stroke-opacity:0.1; fill:none\" points=\"193.936,1289.19 2352.76,1289.19 \"/>\n",
       "<polyline clip-path=\"url(#clip202)\" style=\"stroke:#000000; stroke-linecap:round; stroke-linejoin:round; stroke-width:2; stroke-opacity:0.1; fill:none\" points=\"193.936,1042.29 2352.76,1042.29 \"/>\n",
       "<polyline clip-path=\"url(#clip202)\" style=\"stroke:#000000; stroke-linecap:round; stroke-linejoin:round; stroke-width:2; stroke-opacity:0.1; fill:none\" points=\"193.936,795.395 2352.76,795.395 \"/>\n",
       "<polyline clip-path=\"url(#clip202)\" style=\"stroke:#000000; stroke-linecap:round; stroke-linejoin:round; stroke-width:2; stroke-opacity:0.1; fill:none\" points=\"193.936,548.499 2352.76,548.499 \"/>\n",
       "<polyline clip-path=\"url(#clip202)\" style=\"stroke:#000000; stroke-linecap:round; stroke-linejoin:round; stroke-width:2; stroke-opacity:0.1; fill:none\" points=\"193.936,301.603 2352.76,301.603 \"/>\n",
       "<polyline clip-path=\"url(#clip202)\" style=\"stroke:#000000; stroke-linecap:round; stroke-linejoin:round; stroke-width:2; stroke-opacity:0.1; fill:none\" points=\"193.936,54.7069 2352.76,54.7069 \"/>\n",
       "<polyline clip-path=\"url(#clip200)\" style=\"stroke:#000000; stroke-linecap:round; stroke-linejoin:round; stroke-width:4; stroke-opacity:1; fill:none\" points=\"193.936,1486.45 193.936,47.2441 \"/>\n",
       "<polyline clip-path=\"url(#clip200)\" style=\"stroke:#000000; stroke-linecap:round; stroke-linejoin:round; stroke-width:4; stroke-opacity:1; fill:none\" points=\"193.936,1289.19 212.834,1289.19 \"/>\n",
       "<polyline clip-path=\"url(#clip200)\" style=\"stroke:#000000; stroke-linecap:round; stroke-linejoin:round; stroke-width:4; stroke-opacity:1; fill:none\" points=\"193.936,1042.29 212.834,1042.29 \"/>\n",
       "<polyline clip-path=\"url(#clip200)\" style=\"stroke:#000000; stroke-linecap:round; stroke-linejoin:round; stroke-width:4; stroke-opacity:1; fill:none\" points=\"193.936,795.395 212.834,795.395 \"/>\n",
       "<polyline clip-path=\"url(#clip200)\" style=\"stroke:#000000; stroke-linecap:round; stroke-linejoin:round; stroke-width:4; stroke-opacity:1; fill:none\" points=\"193.936,548.499 212.834,548.499 \"/>\n",
       "<polyline clip-path=\"url(#clip200)\" style=\"stroke:#000000; stroke-linecap:round; stroke-linejoin:round; stroke-width:4; stroke-opacity:1; fill:none\" points=\"193.936,301.603 212.834,301.603 \"/>\n",
       "<polyline clip-path=\"url(#clip200)\" style=\"stroke:#000000; stroke-linecap:round; stroke-linejoin:round; stroke-width:4; stroke-opacity:1; fill:none\" points=\"193.936,54.7069 212.834,54.7069 \"/>\n",
       "<path clip-path=\"url(#clip200)\" d=\"M50.9921 1289.64 L80.6679 1289.64 L80.6679 1293.57 L50.9921 1293.57 L50.9921 1289.64 Z\" fill=\"#000000\" fill-rule=\"nonzero\" fill-opacity=\"1\" /><path clip-path=\"url(#clip200)\" d=\"M91.5706 1302.53 L99.2095 1302.53 L99.2095 1276.17 L90.8993 1277.83 L90.8993 1273.57 L99.1632 1271.91 L103.839 1271.91 L103.839 1302.53 L111.478 1302.53 L111.478 1306.47 L91.5706 1306.47 L91.5706 1302.53 Z\" fill=\"#000000\" fill-rule=\"nonzero\" fill-opacity=\"1\" /><path clip-path=\"url(#clip200)\" d=\"M120.922 1300.59 L125.807 1300.59 L125.807 1306.47 L120.922 1306.47 L120.922 1300.59 Z\" fill=\"#000000\" fill-rule=\"nonzero\" fill-opacity=\"1\" /><path clip-path=\"url(#clip200)\" d=\"M145.992 1274.99 Q142.381 1274.99 140.552 1278.55 Q138.746 1282.09 138.746 1289.22 Q138.746 1296.33 140.552 1299.89 Q142.381 1303.43 145.992 1303.43 Q149.626 1303.43 151.431 1299.89 Q153.26 1296.33 153.26 1289.22 Q153.26 1282.09 151.431 1278.55 Q149.626 1274.99 145.992 1274.99 M145.992 1271.28 Q151.802 1271.28 154.857 1275.89 Q157.936 1280.47 157.936 1289.22 Q157.936 1297.95 154.857 1302.55 Q151.802 1307.14 145.992 1307.14 Q140.181 1307.14 137.103 1302.55 Q134.047 1297.95 134.047 1289.22 Q134.047 1280.47 137.103 1275.89 Q140.181 1271.28 145.992 1271.28 Z\" fill=\"#000000\" fill-rule=\"nonzero\" fill-opacity=\"1\" /><path clip-path=\"url(#clip200)\" d=\"M51.9875 1042.74 L81.6633 1042.74 L81.6633 1046.68 L51.9875 1046.68 L51.9875 1042.74 Z\" fill=\"#000000\" fill-rule=\"nonzero\" fill-opacity=\"1\" /><path clip-path=\"url(#clip200)\" d=\"M101.756 1028.09 Q98.1447 1028.09 96.316 1031.65 Q94.5104 1035.2 94.5104 1042.33 Q94.5104 1049.43 96.316 1053 Q98.1447 1056.54 101.756 1056.54 Q105.39 1056.54 107.196 1053 Q109.024 1049.43 109.024 1042.33 Q109.024 1035.2 107.196 1031.65 Q105.39 1028.09 101.756 1028.09 M101.756 1024.39 Q107.566 1024.39 110.621 1028.99 Q113.7 1033.58 113.7 1042.33 Q113.7 1051.05 110.621 1055.66 Q107.566 1060.24 101.756 1060.24 Q95.9456 1060.24 92.8669 1055.66 Q89.8114 1051.05 89.8114 1042.33 Q89.8114 1033.58 92.8669 1028.99 Q95.9456 1024.39 101.756 1024.39 Z\" fill=\"#000000\" fill-rule=\"nonzero\" fill-opacity=\"1\" /><path clip-path=\"url(#clip200)\" d=\"M121.918 1053.69 L126.802 1053.69 L126.802 1059.57 L121.918 1059.57 L121.918 1053.69 Z\" fill=\"#000000\" fill-rule=\"nonzero\" fill-opacity=\"1\" /><path clip-path=\"url(#clip200)\" d=\"M137.033 1025.01 L155.39 1025.01 L155.39 1028.95 L141.316 1028.95 L141.316 1037.42 Q142.334 1037.07 143.353 1036.91 Q144.371 1036.72 145.39 1036.72 Q151.177 1036.72 154.556 1039.9 Q157.936 1043.07 157.936 1048.48 Q157.936 1054.06 154.464 1057.16 Q150.992 1060.24 144.672 1060.24 Q142.496 1060.24 140.228 1059.87 Q137.982 1059.5 135.575 1058.76 L135.575 1054.06 Q137.658 1055.2 139.881 1055.75 Q142.103 1056.31 144.58 1056.31 Q148.584 1056.31 150.922 1054.2 Q153.26 1052.09 153.26 1048.48 Q153.26 1044.87 150.922 1042.77 Q148.584 1040.66 144.58 1040.66 Q142.705 1040.66 140.83 1041.08 Q138.978 1041.49 137.033 1042.37 L137.033 1025.01 Z\" fill=\"#000000\" fill-rule=\"nonzero\" fill-opacity=\"1\" /><path clip-path=\"url(#clip200)\" d=\"M100.76 781.194 Q97.1493 781.194 95.3206 784.758 Q93.515 788.3 93.515 795.43 Q93.515 802.536 95.3206 806.101 Q97.1493 809.643 100.76 809.643 Q104.395 809.643 106.2 806.101 Q108.029 802.536 108.029 795.43 Q108.029 788.3 106.2 784.758 Q104.395 781.194 100.76 781.194 M100.76 777.49 Q106.571 777.49 109.626 782.096 Q112.705 786.68 112.705 795.43 Q112.705 804.156 109.626 808.763 Q106.571 813.346 100.76 813.346 Q94.9502 813.346 91.8715 808.763 Q88.816 804.156 88.816 795.43 Q88.816 786.68 91.8715 782.096 Q94.9502 777.49 100.76 777.49 Z\" fill=\"#000000\" fill-rule=\"nonzero\" fill-opacity=\"1\" /><path clip-path=\"url(#clip200)\" d=\"M120.922 806.795 L125.807 806.795 L125.807 812.675 L120.922 812.675 L120.922 806.795 Z\" fill=\"#000000\" fill-rule=\"nonzero\" fill-opacity=\"1\" /><path clip-path=\"url(#clip200)\" d=\"M145.992 781.194 Q142.381 781.194 140.552 784.758 Q138.746 788.3 138.746 795.43 Q138.746 802.536 140.552 806.101 Q142.381 809.643 145.992 809.643 Q149.626 809.643 151.431 806.101 Q153.26 802.536 153.26 795.43 Q153.26 788.3 151.431 784.758 Q149.626 781.194 145.992 781.194 M145.992 777.49 Q151.802 777.49 154.857 782.096 Q157.936 786.68 157.936 795.43 Q157.936 804.156 154.857 808.763 Q151.802 813.346 145.992 813.346 Q140.181 813.346 137.103 808.763 Q134.047 804.156 134.047 795.43 Q134.047 786.68 137.103 782.096 Q140.181 777.49 145.992 777.49 Z\" fill=\"#000000\" fill-rule=\"nonzero\" fill-opacity=\"1\" /><path clip-path=\"url(#clip200)\" d=\"M101.756 534.298 Q98.1447 534.298 96.316 537.862 Q94.5104 541.404 94.5104 548.534 Q94.5104 555.64 96.316 559.205 Q98.1447 562.747 101.756 562.747 Q105.39 562.747 107.196 559.205 Q109.024 555.64 109.024 548.534 Q109.024 541.404 107.196 537.862 Q105.39 534.298 101.756 534.298 M101.756 530.594 Q107.566 530.594 110.621 535.2 Q113.7 539.784 113.7 548.534 Q113.7 557.26 110.621 561.867 Q107.566 566.45 101.756 566.45 Q95.9456 566.45 92.8669 561.867 Q89.8114 557.26 89.8114 548.534 Q89.8114 539.784 92.8669 535.2 Q95.9456 530.594 101.756 530.594 Z\" fill=\"#000000\" fill-rule=\"nonzero\" fill-opacity=\"1\" /><path clip-path=\"url(#clip200)\" d=\"M121.918 559.899 L126.802 559.899 L126.802 565.779 L121.918 565.779 L121.918 559.899 Z\" fill=\"#000000\" fill-rule=\"nonzero\" fill-opacity=\"1\" /><path clip-path=\"url(#clip200)\" d=\"M137.033 531.219 L155.39 531.219 L155.39 535.154 L141.316 535.154 L141.316 543.626 Q142.334 543.279 143.353 543.117 Q144.371 542.932 145.39 542.932 Q151.177 542.932 154.556 546.103 Q157.936 549.274 157.936 554.691 Q157.936 560.27 154.464 563.372 Q150.992 566.45 144.672 566.45 Q142.496 566.45 140.228 566.08 Q137.982 565.709 135.575 564.969 L135.575 560.27 Q137.658 561.404 139.881 561.959 Q142.103 562.515 144.58 562.515 Q148.584 562.515 150.922 560.409 Q153.26 558.302 153.26 554.691 Q153.26 551.08 150.922 548.973 Q148.584 546.867 144.58 546.867 Q142.705 546.867 140.83 547.284 Q138.978 547.7 137.033 548.58 L137.033 531.219 Z\" fill=\"#000000\" fill-rule=\"nonzero\" fill-opacity=\"1\" /><path clip-path=\"url(#clip200)\" d=\"M91.5706 314.948 L99.2095 314.948 L99.2095 288.582 L90.8993 290.249 L90.8993 285.99 L99.1632 284.323 L103.839 284.323 L103.839 314.948 L111.478 314.948 L111.478 318.883 L91.5706 318.883 L91.5706 314.948 Z\" fill=\"#000000\" fill-rule=\"nonzero\" fill-opacity=\"1\" /><path clip-path=\"url(#clip200)\" d=\"M120.922 313.003 L125.807 313.003 L125.807 318.883 L120.922 318.883 L120.922 313.003 Z\" fill=\"#000000\" fill-rule=\"nonzero\" fill-opacity=\"1\" /><path clip-path=\"url(#clip200)\" d=\"M145.992 287.402 Q142.381 287.402 140.552 290.966 Q138.746 294.508 138.746 301.638 Q138.746 308.744 140.552 312.309 Q142.381 315.85 145.992 315.85 Q149.626 315.85 151.431 312.309 Q153.26 308.744 153.26 301.638 Q153.26 294.508 151.431 290.966 Q149.626 287.402 145.992 287.402 M145.992 283.698 Q151.802 283.698 154.857 288.304 Q157.936 292.888 157.936 301.638 Q157.936 310.364 154.857 314.971 Q151.802 319.554 145.992 319.554 Q140.181 319.554 137.103 314.971 Q134.047 310.364 134.047 301.638 Q134.047 292.888 137.103 288.304 Q140.181 283.698 145.992 283.698 Z\" fill=\"#000000\" fill-rule=\"nonzero\" fill-opacity=\"1\" /><path clip-path=\"url(#clip200)\" d=\"M92.566 68.0517 L100.205 68.0517 L100.205 41.6861 L91.8947 43.3528 L91.8947 39.0935 L100.159 37.4269 L104.834 37.4269 L104.834 68.0517 L112.473 68.0517 L112.473 71.9869 L92.566 71.9869 L92.566 68.0517 Z\" fill=\"#000000\" fill-rule=\"nonzero\" fill-opacity=\"1\" /><path clip-path=\"url(#clip200)\" d=\"M121.918 66.1073 L126.802 66.1073 L126.802 71.9869 L121.918 71.9869 L121.918 66.1073 Z\" fill=\"#000000\" fill-rule=\"nonzero\" fill-opacity=\"1\" /><path clip-path=\"url(#clip200)\" d=\"M137.033 37.4269 L155.39 37.4269 L155.39 41.362 L141.316 41.362 L141.316 49.8342 Q142.334 49.487 143.353 49.325 Q144.371 49.1398 145.39 49.1398 Q151.177 49.1398 154.556 52.311 Q157.936 55.4823 157.936 60.899 Q157.936 66.4776 154.464 69.5795 Q150.992 72.6582 144.672 72.6582 Q142.496 72.6582 140.228 72.2878 Q137.982 71.9174 135.575 71.1767 L135.575 66.4776 Q137.658 67.6119 139.881 68.1674 Q142.103 68.723 144.58 68.723 Q148.584 68.723 150.922 66.6165 Q153.26 64.5101 153.26 60.899 Q153.26 57.2879 150.922 55.1814 Q148.584 53.0749 144.58 53.0749 Q142.705 53.0749 140.83 53.4916 Q138.978 53.9083 137.033 54.7879 L137.033 37.4269 Z\" fill=\"#000000\" fill-rule=\"nonzero\" fill-opacity=\"1\" /><polyline clip-path=\"url(#clip202)\" style=\"stroke:#009af9; stroke-linecap:round; stroke-linejoin:round; stroke-width:4; stroke-opacity:1; fill:none\" points=\"255.035,795.395 275.607,745.602 296.179,696.316 316.751,648.041 337.322,601.267 357.894,556.473 378.466,514.114 399.038,474.623 419.61,438.402 440.182,405.82 460.754,377.21 481.326,352.862 501.898,333.026 522.47,317.904 543.042,307.65 563.614,302.367 584.186,302.111 604.758,306.883 625.33,316.636 645.902,331.269 666.474,350.634 687.046,374.532 707.617,402.722 728.189,434.914 748.761,470.781 769.333,509.957 789.905,552.043 810.477,596.61 831.049,643.204 851.621,691.349 872.193,740.554 892.765,790.319 913.337,840.136 933.909,889.496 954.481,937.897 975.053,984.845 995.625,1029.86 1016.2,1072.49 1036.77,1112.29 1057.34,1148.86 1077.91,1181.83 1098.48,1210.86 1119.06,1235.65 1139.63,1255.96 1160.2,1271.57 1180.77,1282.32 1201.34,1288.11 1221.92,1288.88 1242.49,1284.62 1263.06,1275.37 1283.63,1261.23 1304.2,1242.34 1324.78,1218.89 1345.35,1191.13 1365.92,1159.33 1386.49,1123.82 1407.06,1084.96 1427.64,1043.15 1448.21,998.815 1468.78,952.407 1489.35,904.398 1509.92,855.277 1530.5,805.546 1551.07,755.712 1571.64,706.282 1592.21,657.76 1612.78,610.642 1633.35,565.407 1653.93,522.517 1674.5,482.408 1695.07,445.491 1715.64,412.14 1736.21,382.696 1756.79,357.46 1777.36,336.688 1797.93,320.592 1818.5,309.336 1839.07,303.036 1859.65,301.755 1880.22,305.506 1900.79,314.251 1921.36,327.902 1941.93,346.318 1962.51,369.312 1983.08,396.65 2003.65,428.052 2024.22,463.2 2044.79,501.734 2065.37,543.262 2085.94,587.36 2106.51,633.579 2127.08,681.447 2147.65,730.478 2168.23,780.169 2188.8,830.017 2209.37,879.511 2229.94,928.148 2250.51,975.431 2271.09,1020.88 2291.66,1064.03 \"/>\n",
       "<circle clip-path=\"url(#clip202)\" cx=\"255.035\" cy=\"625.049\" r=\"14.4\" fill=\"#e26f46\" fill-rule=\"evenodd\" fill-opacity=\"1\" stroke=\"#000000\" stroke-opacity=\"1\" stroke-width=\"3.2\"/>\n",
       "<circle clip-path=\"url(#clip202)\" cx=\"275.607\" cy=\"708.564\" r=\"14.4\" fill=\"#e26f46\" fill-rule=\"evenodd\" fill-opacity=\"1\" stroke=\"#000000\" stroke-opacity=\"1\" stroke-width=\"3.2\"/>\n",
       "<circle clip-path=\"url(#clip202)\" cx=\"296.179\" cy=\"803.237\" r=\"14.4\" fill=\"#e26f46\" fill-rule=\"evenodd\" fill-opacity=\"1\" stroke=\"#000000\" stroke-opacity=\"1\" stroke-width=\"3.2\"/>\n",
       "<circle clip-path=\"url(#clip202)\" cx=\"316.751\" cy=\"618.293\" r=\"14.4\" fill=\"#e26f46\" fill-rule=\"evenodd\" fill-opacity=\"1\" stroke=\"#000000\" stroke-opacity=\"1\" stroke-width=\"3.2\"/>\n",
       "<circle clip-path=\"url(#clip202)\" cx=\"337.322\" cy=\"405.1\" r=\"14.4\" fill=\"#e26f46\" fill-rule=\"evenodd\" fill-opacity=\"1\" stroke=\"#000000\" stroke-opacity=\"1\" stroke-width=\"3.2\"/>\n",
       "<circle clip-path=\"url(#clip202)\" cx=\"357.894\" cy=\"274.552\" r=\"14.4\" fill=\"#e26f46\" fill-rule=\"evenodd\" fill-opacity=\"1\" stroke=\"#000000\" stroke-opacity=\"1\" stroke-width=\"3.2\"/>\n",
       "<circle clip-path=\"url(#clip202)\" cx=\"378.466\" cy=\"511.657\" r=\"14.4\" fill=\"#e26f46\" fill-rule=\"evenodd\" fill-opacity=\"1\" stroke=\"#000000\" stroke-opacity=\"1\" stroke-width=\"3.2\"/>\n",
       "<circle clip-path=\"url(#clip202)\" cx=\"399.038\" cy=\"586.388\" r=\"14.4\" fill=\"#e26f46\" fill-rule=\"evenodd\" fill-opacity=\"1\" stroke=\"#000000\" stroke-opacity=\"1\" stroke-width=\"3.2\"/>\n",
       "<circle clip-path=\"url(#clip202)\" cx=\"419.61\" cy=\"426.593\" r=\"14.4\" fill=\"#e26f46\" fill-rule=\"evenodd\" fill-opacity=\"1\" stroke=\"#000000\" stroke-opacity=\"1\" stroke-width=\"3.2\"/>\n",
       "<circle clip-path=\"url(#clip202)\" cx=\"440.182\" cy=\"305.64\" r=\"14.4\" fill=\"#e26f46\" fill-rule=\"evenodd\" fill-opacity=\"1\" stroke=\"#000000\" stroke-opacity=\"1\" stroke-width=\"3.2\"/>\n",
       "<circle clip-path=\"url(#clip202)\" cx=\"460.754\" cy=\"388.802\" r=\"14.4\" fill=\"#e26f46\" fill-rule=\"evenodd\" fill-opacity=\"1\" stroke=\"#000000\" stroke-opacity=\"1\" stroke-width=\"3.2\"/>\n",
       "<circle clip-path=\"url(#clip202)\" cx=\"481.326\" cy=\"424.728\" r=\"14.4\" fill=\"#e26f46\" fill-rule=\"evenodd\" fill-opacity=\"1\" stroke=\"#000000\" stroke-opacity=\"1\" stroke-width=\"3.2\"/>\n",
       "<circle clip-path=\"url(#clip202)\" cx=\"501.898\" cy=\"237.03\" r=\"14.4\" fill=\"#e26f46\" fill-rule=\"evenodd\" fill-opacity=\"1\" stroke=\"#000000\" stroke-opacity=\"1\" stroke-width=\"3.2\"/>\n",
       "<circle clip-path=\"url(#clip202)\" cx=\"522.47\" cy=\"378.222\" r=\"14.4\" fill=\"#e26f46\" fill-rule=\"evenodd\" fill-opacity=\"1\" stroke=\"#000000\" stroke-opacity=\"1\" stroke-width=\"3.2\"/>\n",
       "<circle clip-path=\"url(#clip202)\" cx=\"543.042\" cy=\"87.9763\" r=\"14.4\" fill=\"#e26f46\" fill-rule=\"evenodd\" fill-opacity=\"1\" stroke=\"#000000\" stroke-opacity=\"1\" stroke-width=\"3.2\"/>\n",
       "<circle clip-path=\"url(#clip202)\" cx=\"563.614\" cy=\"161.13\" r=\"14.4\" fill=\"#e26f46\" fill-rule=\"evenodd\" fill-opacity=\"1\" stroke=\"#000000\" stroke-opacity=\"1\" stroke-width=\"3.2\"/>\n",
       "<circle clip-path=\"url(#clip202)\" cx=\"584.186\" cy=\"236.056\" r=\"14.4\" fill=\"#e26f46\" fill-rule=\"evenodd\" fill-opacity=\"1\" stroke=\"#000000\" stroke-opacity=\"1\" stroke-width=\"3.2\"/>\n",
       "<circle clip-path=\"url(#clip202)\" cx=\"604.758\" cy=\"292.582\" r=\"14.4\" fill=\"#e26f46\" fill-rule=\"evenodd\" fill-opacity=\"1\" stroke=\"#000000\" stroke-opacity=\"1\" stroke-width=\"3.2\"/>\n",
       "<circle clip-path=\"url(#clip202)\" cx=\"625.33\" cy=\"385.881\" r=\"14.4\" fill=\"#e26f46\" fill-rule=\"evenodd\" fill-opacity=\"1\" stroke=\"#000000\" stroke-opacity=\"1\" stroke-width=\"3.2\"/>\n",
       "<circle clip-path=\"url(#clip202)\" cx=\"645.902\" cy=\"255.316\" r=\"14.4\" fill=\"#e26f46\" fill-rule=\"evenodd\" fill-opacity=\"1\" stroke=\"#000000\" stroke-opacity=\"1\" stroke-width=\"3.2\"/>\n",
       "<circle clip-path=\"url(#clip202)\" cx=\"666.474\" cy=\"184.117\" r=\"14.4\" fill=\"#e26f46\" fill-rule=\"evenodd\" fill-opacity=\"1\" stroke=\"#000000\" stroke-opacity=\"1\" stroke-width=\"3.2\"/>\n",
       "<circle clip-path=\"url(#clip202)\" cx=\"687.046\" cy=\"215.994\" r=\"14.4\" fill=\"#e26f46\" fill-rule=\"evenodd\" fill-opacity=\"1\" stroke=\"#000000\" stroke-opacity=\"1\" stroke-width=\"3.2\"/>\n",
       "<circle clip-path=\"url(#clip202)\" cx=\"707.617\" cy=\"615.041\" r=\"14.4\" fill=\"#e26f46\" fill-rule=\"evenodd\" fill-opacity=\"1\" stroke=\"#000000\" stroke-opacity=\"1\" stroke-width=\"3.2\"/>\n",
       "<circle clip-path=\"url(#clip202)\" cx=\"728.189\" cy=\"511.757\" r=\"14.4\" fill=\"#e26f46\" fill-rule=\"evenodd\" fill-opacity=\"1\" stroke=\"#000000\" stroke-opacity=\"1\" stroke-width=\"3.2\"/>\n",
       "<circle clip-path=\"url(#clip202)\" cx=\"748.761\" cy=\"506.919\" r=\"14.4\" fill=\"#e26f46\" fill-rule=\"evenodd\" fill-opacity=\"1\" stroke=\"#000000\" stroke-opacity=\"1\" stroke-width=\"3.2\"/>\n",
       "<circle clip-path=\"url(#clip202)\" cx=\"769.333\" cy=\"514.061\" r=\"14.4\" fill=\"#e26f46\" fill-rule=\"evenodd\" fill-opacity=\"1\" stroke=\"#000000\" stroke-opacity=\"1\" stroke-width=\"3.2\"/>\n",
       "<circle clip-path=\"url(#clip202)\" cx=\"789.905\" cy=\"547.981\" r=\"14.4\" fill=\"#e26f46\" fill-rule=\"evenodd\" fill-opacity=\"1\" stroke=\"#000000\" stroke-opacity=\"1\" stroke-width=\"3.2\"/>\n",
       "<circle clip-path=\"url(#clip202)\" cx=\"810.477\" cy=\"561.419\" r=\"14.4\" fill=\"#e26f46\" fill-rule=\"evenodd\" fill-opacity=\"1\" stroke=\"#000000\" stroke-opacity=\"1\" stroke-width=\"3.2\"/>\n",
       "<circle clip-path=\"url(#clip202)\" cx=\"831.049\" cy=\"676.976\" r=\"14.4\" fill=\"#e26f46\" fill-rule=\"evenodd\" fill-opacity=\"1\" stroke=\"#000000\" stroke-opacity=\"1\" stroke-width=\"3.2\"/>\n",
       "<circle clip-path=\"url(#clip202)\" cx=\"851.621\" cy=\"653.744\" r=\"14.4\" fill=\"#e26f46\" fill-rule=\"evenodd\" fill-opacity=\"1\" stroke=\"#000000\" stroke-opacity=\"1\" stroke-width=\"3.2\"/>\n",
       "<circle clip-path=\"url(#clip202)\" cx=\"872.193\" cy=\"632.902\" r=\"14.4\" fill=\"#e26f46\" fill-rule=\"evenodd\" fill-opacity=\"1\" stroke=\"#000000\" stroke-opacity=\"1\" stroke-width=\"3.2\"/>\n",
       "<circle clip-path=\"url(#clip202)\" cx=\"892.765\" cy=\"670.842\" r=\"14.4\" fill=\"#e26f46\" fill-rule=\"evenodd\" fill-opacity=\"1\" stroke=\"#000000\" stroke-opacity=\"1\" stroke-width=\"3.2\"/>\n",
       "<circle clip-path=\"url(#clip202)\" cx=\"913.337\" cy=\"1017.15\" r=\"14.4\" fill=\"#e26f46\" fill-rule=\"evenodd\" fill-opacity=\"1\" stroke=\"#000000\" stroke-opacity=\"1\" stroke-width=\"3.2\"/>\n",
       "<circle clip-path=\"url(#clip202)\" cx=\"933.909\" cy=\"786.467\" r=\"14.4\" fill=\"#e26f46\" fill-rule=\"evenodd\" fill-opacity=\"1\" stroke=\"#000000\" stroke-opacity=\"1\" stroke-width=\"3.2\"/>\n",
       "<circle clip-path=\"url(#clip202)\" cx=\"954.481\" cy=\"721.649\" r=\"14.4\" fill=\"#e26f46\" fill-rule=\"evenodd\" fill-opacity=\"1\" stroke=\"#000000\" stroke-opacity=\"1\" stroke-width=\"3.2\"/>\n",
       "<circle clip-path=\"url(#clip202)\" cx=\"975.053\" cy=\"918.223\" r=\"14.4\" fill=\"#e26f46\" fill-rule=\"evenodd\" fill-opacity=\"1\" stroke=\"#000000\" stroke-opacity=\"1\" stroke-width=\"3.2\"/>\n",
       "<circle clip-path=\"url(#clip202)\" cx=\"995.625\" cy=\"1081.59\" r=\"14.4\" fill=\"#e26f46\" fill-rule=\"evenodd\" fill-opacity=\"1\" stroke=\"#000000\" stroke-opacity=\"1\" stroke-width=\"3.2\"/>\n",
       "<circle clip-path=\"url(#clip202)\" cx=\"1016.2\" cy=\"1180.46\" r=\"14.4\" fill=\"#e26f46\" fill-rule=\"evenodd\" fill-opacity=\"1\" stroke=\"#000000\" stroke-opacity=\"1\" stroke-width=\"3.2\"/>\n",
       "<circle clip-path=\"url(#clip202)\" cx=\"1036.77\" cy=\"1077.03\" r=\"14.4\" fill=\"#e26f46\" fill-rule=\"evenodd\" fill-opacity=\"1\" stroke=\"#000000\" stroke-opacity=\"1\" stroke-width=\"3.2\"/>\n",
       "<circle clip-path=\"url(#clip202)\" cx=\"1057.34\" cy=\"1139.68\" r=\"14.4\" fill=\"#e26f46\" fill-rule=\"evenodd\" fill-opacity=\"1\" stroke=\"#000000\" stroke-opacity=\"1\" stroke-width=\"3.2\"/>\n",
       "<circle clip-path=\"url(#clip202)\" cx=\"1077.91\" cy=\"1090.65\" r=\"14.4\" fill=\"#e26f46\" fill-rule=\"evenodd\" fill-opacity=\"1\" stroke=\"#000000\" stroke-opacity=\"1\" stroke-width=\"3.2\"/>\n",
       "<circle clip-path=\"url(#clip202)\" cx=\"1098.48\" cy=\"1016.77\" r=\"14.4\" fill=\"#e26f46\" fill-rule=\"evenodd\" fill-opacity=\"1\" stroke=\"#000000\" stroke-opacity=\"1\" stroke-width=\"3.2\"/>\n",
       "<circle clip-path=\"url(#clip202)\" cx=\"1119.06\" cy=\"1354\" r=\"14.4\" fill=\"#e26f46\" fill-rule=\"evenodd\" fill-opacity=\"1\" stroke=\"#000000\" stroke-opacity=\"1\" stroke-width=\"3.2\"/>\n",
       "<circle clip-path=\"url(#clip202)\" cx=\"1139.63\" cy=\"1416.11\" r=\"14.4\" fill=\"#e26f46\" fill-rule=\"evenodd\" fill-opacity=\"1\" stroke=\"#000000\" stroke-opacity=\"1\" stroke-width=\"3.2\"/>\n",
       "<circle clip-path=\"url(#clip202)\" cx=\"1160.2\" cy=\"1385.45\" r=\"14.4\" fill=\"#e26f46\" fill-rule=\"evenodd\" fill-opacity=\"1\" stroke=\"#000000\" stroke-opacity=\"1\" stroke-width=\"3.2\"/>\n",
       "<circle clip-path=\"url(#clip202)\" cx=\"1180.77\" cy=\"1244.62\" r=\"14.4\" fill=\"#e26f46\" fill-rule=\"evenodd\" fill-opacity=\"1\" stroke=\"#000000\" stroke-opacity=\"1\" stroke-width=\"3.2\"/>\n",
       "<circle clip-path=\"url(#clip202)\" cx=\"1201.34\" cy=\"1332.82\" r=\"14.4\" fill=\"#e26f46\" fill-rule=\"evenodd\" fill-opacity=\"1\" stroke=\"#000000\" stroke-opacity=\"1\" stroke-width=\"3.2\"/>\n",
       "<circle clip-path=\"url(#clip202)\" cx=\"1221.92\" cy=\"1442.73\" r=\"14.4\" fill=\"#e26f46\" fill-rule=\"evenodd\" fill-opacity=\"1\" stroke=\"#000000\" stroke-opacity=\"1\" stroke-width=\"3.2\"/>\n",
       "<circle clip-path=\"url(#clip202)\" cx=\"1242.49\" cy=\"1445.72\" r=\"14.4\" fill=\"#e26f46\" fill-rule=\"evenodd\" fill-opacity=\"1\" stroke=\"#000000\" stroke-opacity=\"1\" stroke-width=\"3.2\"/>\n",
       "<circle clip-path=\"url(#clip202)\" cx=\"1263.06\" cy=\"1309.18\" r=\"14.4\" fill=\"#e26f46\" fill-rule=\"evenodd\" fill-opacity=\"1\" stroke=\"#000000\" stroke-opacity=\"1\" stroke-width=\"3.2\"/>\n",
       "<circle clip-path=\"url(#clip202)\" cx=\"1283.63\" cy=\"1176.21\" r=\"14.4\" fill=\"#e26f46\" fill-rule=\"evenodd\" fill-opacity=\"1\" stroke=\"#000000\" stroke-opacity=\"1\" stroke-width=\"3.2\"/>\n",
       "<circle clip-path=\"url(#clip202)\" cx=\"1304.2\" cy=\"1286.69\" r=\"14.4\" fill=\"#e26f46\" fill-rule=\"evenodd\" fill-opacity=\"1\" stroke=\"#000000\" stroke-opacity=\"1\" stroke-width=\"3.2\"/>\n",
       "<circle clip-path=\"url(#clip202)\" cx=\"1324.78\" cy=\"1197.77\" r=\"14.4\" fill=\"#e26f46\" fill-rule=\"evenodd\" fill-opacity=\"1\" stroke=\"#000000\" stroke-opacity=\"1\" stroke-width=\"3.2\"/>\n",
       "<circle clip-path=\"url(#clip202)\" cx=\"1345.35\" cy=\"1055.66\" r=\"14.4\" fill=\"#e26f46\" fill-rule=\"evenodd\" fill-opacity=\"1\" stroke=\"#000000\" stroke-opacity=\"1\" stroke-width=\"3.2\"/>\n",
       "<circle clip-path=\"url(#clip202)\" cx=\"1365.92\" cy=\"1198.79\" r=\"14.4\" fill=\"#e26f46\" fill-rule=\"evenodd\" fill-opacity=\"1\" stroke=\"#000000\" stroke-opacity=\"1\" stroke-width=\"3.2\"/>\n",
       "<circle clip-path=\"url(#clip202)\" cx=\"1386.49\" cy=\"1037.11\" r=\"14.4\" fill=\"#e26f46\" fill-rule=\"evenodd\" fill-opacity=\"1\" stroke=\"#000000\" stroke-opacity=\"1\" stroke-width=\"3.2\"/>\n",
       "<circle clip-path=\"url(#clip202)\" cx=\"1407.06\" cy=\"1144.23\" r=\"14.4\" fill=\"#e26f46\" fill-rule=\"evenodd\" fill-opacity=\"1\" stroke=\"#000000\" stroke-opacity=\"1\" stroke-width=\"3.2\"/>\n",
       "<circle clip-path=\"url(#clip202)\" cx=\"1427.64\" cy=\"1096.79\" r=\"14.4\" fill=\"#e26f46\" fill-rule=\"evenodd\" fill-opacity=\"1\" stroke=\"#000000\" stroke-opacity=\"1\" stroke-width=\"3.2\"/>\n",
       "<circle clip-path=\"url(#clip202)\" cx=\"1448.21\" cy=\"1017.03\" r=\"14.4\" fill=\"#e26f46\" fill-rule=\"evenodd\" fill-opacity=\"1\" stroke=\"#000000\" stroke-opacity=\"1\" stroke-width=\"3.2\"/>\n",
       "<circle clip-path=\"url(#clip202)\" cx=\"1468.78\" cy=\"815.733\" r=\"14.4\" fill=\"#e26f46\" fill-rule=\"evenodd\" fill-opacity=\"1\" stroke=\"#000000\" stroke-opacity=\"1\" stroke-width=\"3.2\"/>\n",
       "<circle clip-path=\"url(#clip202)\" cx=\"1489.35\" cy=\"786.074\" r=\"14.4\" fill=\"#e26f46\" fill-rule=\"evenodd\" fill-opacity=\"1\" stroke=\"#000000\" stroke-opacity=\"1\" stroke-width=\"3.2\"/>\n",
       "<circle clip-path=\"url(#clip202)\" cx=\"1509.92\" cy=\"829.381\" r=\"14.4\" fill=\"#e26f46\" fill-rule=\"evenodd\" fill-opacity=\"1\" stroke=\"#000000\" stroke-opacity=\"1\" stroke-width=\"3.2\"/>\n",
       "<circle clip-path=\"url(#clip202)\" cx=\"1530.5\" cy=\"765.813\" r=\"14.4\" fill=\"#e26f46\" fill-rule=\"evenodd\" fill-opacity=\"1\" stroke=\"#000000\" stroke-opacity=\"1\" stroke-width=\"3.2\"/>\n",
       "<circle clip-path=\"url(#clip202)\" cx=\"1551.07\" cy=\"718.668\" r=\"14.4\" fill=\"#e26f46\" fill-rule=\"evenodd\" fill-opacity=\"1\" stroke=\"#000000\" stroke-opacity=\"1\" stroke-width=\"3.2\"/>\n",
       "<circle clip-path=\"url(#clip202)\" cx=\"1571.64\" cy=\"940.819\" r=\"14.4\" fill=\"#e26f46\" fill-rule=\"evenodd\" fill-opacity=\"1\" stroke=\"#000000\" stroke-opacity=\"1\" stroke-width=\"3.2\"/>\n",
       "<circle clip-path=\"url(#clip202)\" cx=\"1592.21\" cy=\"809.918\" r=\"14.4\" fill=\"#e26f46\" fill-rule=\"evenodd\" fill-opacity=\"1\" stroke=\"#000000\" stroke-opacity=\"1\" stroke-width=\"3.2\"/>\n",
       "<circle clip-path=\"url(#clip202)\" cx=\"1612.78\" cy=\"771.186\" r=\"14.4\" fill=\"#e26f46\" fill-rule=\"evenodd\" fill-opacity=\"1\" stroke=\"#000000\" stroke-opacity=\"1\" stroke-width=\"3.2\"/>\n",
       "<circle clip-path=\"url(#clip202)\" cx=\"1633.35\" cy=\"585.709\" r=\"14.4\" fill=\"#e26f46\" fill-rule=\"evenodd\" fill-opacity=\"1\" stroke=\"#000000\" stroke-opacity=\"1\" stroke-width=\"3.2\"/>\n",
       "<circle clip-path=\"url(#clip202)\" cx=\"1653.93\" cy=\"505.888\" r=\"14.4\" fill=\"#e26f46\" fill-rule=\"evenodd\" fill-opacity=\"1\" stroke=\"#000000\" stroke-opacity=\"1\" stroke-width=\"3.2\"/>\n",
       "<circle clip-path=\"url(#clip202)\" cx=\"1674.5\" cy=\"512.603\" r=\"14.4\" fill=\"#e26f46\" fill-rule=\"evenodd\" fill-opacity=\"1\" stroke=\"#000000\" stroke-opacity=\"1\" stroke-width=\"3.2\"/>\n",
       "<circle clip-path=\"url(#clip202)\" cx=\"1695.07\" cy=\"500.5\" r=\"14.4\" fill=\"#e26f46\" fill-rule=\"evenodd\" fill-opacity=\"1\" stroke=\"#000000\" stroke-opacity=\"1\" stroke-width=\"3.2\"/>\n",
       "<circle clip-path=\"url(#clip202)\" cx=\"1715.64\" cy=\"361.221\" r=\"14.4\" fill=\"#e26f46\" fill-rule=\"evenodd\" fill-opacity=\"1\" stroke=\"#000000\" stroke-opacity=\"1\" stroke-width=\"3.2\"/>\n",
       "<circle clip-path=\"url(#clip202)\" cx=\"1736.21\" cy=\"410.544\" r=\"14.4\" fill=\"#e26f46\" fill-rule=\"evenodd\" fill-opacity=\"1\" stroke=\"#000000\" stroke-opacity=\"1\" stroke-width=\"3.2\"/>\n",
       "<circle clip-path=\"url(#clip202)\" cx=\"1756.79\" cy=\"287.62\" r=\"14.4\" fill=\"#e26f46\" fill-rule=\"evenodd\" fill-opacity=\"1\" stroke=\"#000000\" stroke-opacity=\"1\" stroke-width=\"3.2\"/>\n",
       "<circle clip-path=\"url(#clip202)\" cx=\"1777.36\" cy=\"447.617\" r=\"14.4\" fill=\"#e26f46\" fill-rule=\"evenodd\" fill-opacity=\"1\" stroke=\"#000000\" stroke-opacity=\"1\" stroke-width=\"3.2\"/>\n",
       "<circle clip-path=\"url(#clip202)\" cx=\"1797.93\" cy=\"308.574\" r=\"14.4\" fill=\"#e26f46\" fill-rule=\"evenodd\" fill-opacity=\"1\" stroke=\"#000000\" stroke-opacity=\"1\" stroke-width=\"3.2\"/>\n",
       "<circle clip-path=\"url(#clip202)\" cx=\"1818.5\" cy=\"314.113\" r=\"14.4\" fill=\"#e26f46\" fill-rule=\"evenodd\" fill-opacity=\"1\" stroke=\"#000000\" stroke-opacity=\"1\" stroke-width=\"3.2\"/>\n",
       "<circle clip-path=\"url(#clip202)\" cx=\"1839.07\" cy=\"396.393\" r=\"14.4\" fill=\"#e26f46\" fill-rule=\"evenodd\" fill-opacity=\"1\" stroke=\"#000000\" stroke-opacity=\"1\" stroke-width=\"3.2\"/>\n",
       "<circle clip-path=\"url(#clip202)\" cx=\"1859.65\" cy=\"266.607\" r=\"14.4\" fill=\"#e26f46\" fill-rule=\"evenodd\" fill-opacity=\"1\" stroke=\"#000000\" stroke-opacity=\"1\" stroke-width=\"3.2\"/>\n",
       "<circle clip-path=\"url(#clip202)\" cx=\"1880.22\" cy=\"331.604\" r=\"14.4\" fill=\"#e26f46\" fill-rule=\"evenodd\" fill-opacity=\"1\" stroke=\"#000000\" stroke-opacity=\"1\" stroke-width=\"3.2\"/>\n",
       "<circle clip-path=\"url(#clip202)\" cx=\"1900.79\" cy=\"353.842\" r=\"14.4\" fill=\"#e26f46\" fill-rule=\"evenodd\" fill-opacity=\"1\" stroke=\"#000000\" stroke-opacity=\"1\" stroke-width=\"3.2\"/>\n",
       "<circle clip-path=\"url(#clip202)\" cx=\"1921.36\" cy=\"279.088\" r=\"14.4\" fill=\"#e26f46\" fill-rule=\"evenodd\" fill-opacity=\"1\" stroke=\"#000000\" stroke-opacity=\"1\" stroke-width=\"3.2\"/>\n",
       "<circle clip-path=\"url(#clip202)\" cx=\"1941.93\" cy=\"485.502\" r=\"14.4\" fill=\"#e26f46\" fill-rule=\"evenodd\" fill-opacity=\"1\" stroke=\"#000000\" stroke-opacity=\"1\" stroke-width=\"3.2\"/>\n",
       "<circle clip-path=\"url(#clip202)\" cx=\"1962.51\" cy=\"238.517\" r=\"14.4\" fill=\"#e26f46\" fill-rule=\"evenodd\" fill-opacity=\"1\" stroke=\"#000000\" stroke-opacity=\"1\" stroke-width=\"3.2\"/>\n",
       "<circle clip-path=\"url(#clip202)\" cx=\"1983.08\" cy=\"294.73\" r=\"14.4\" fill=\"#e26f46\" fill-rule=\"evenodd\" fill-opacity=\"1\" stroke=\"#000000\" stroke-opacity=\"1\" stroke-width=\"3.2\"/>\n",
       "<circle clip-path=\"url(#clip202)\" cx=\"2003.65\" cy=\"485.257\" r=\"14.4\" fill=\"#e26f46\" fill-rule=\"evenodd\" fill-opacity=\"1\" stroke=\"#000000\" stroke-opacity=\"1\" stroke-width=\"3.2\"/>\n",
       "<circle clip-path=\"url(#clip202)\" cx=\"2024.22\" cy=\"493.339\" r=\"14.4\" fill=\"#e26f46\" fill-rule=\"evenodd\" fill-opacity=\"1\" stroke=\"#000000\" stroke-opacity=\"1\" stroke-width=\"3.2\"/>\n",
       "<circle clip-path=\"url(#clip202)\" cx=\"2044.79\" cy=\"384.992\" r=\"14.4\" fill=\"#e26f46\" fill-rule=\"evenodd\" fill-opacity=\"1\" stroke=\"#000000\" stroke-opacity=\"1\" stroke-width=\"3.2\"/>\n",
       "<circle clip-path=\"url(#clip202)\" cx=\"2065.37\" cy=\"503.194\" r=\"14.4\" fill=\"#e26f46\" fill-rule=\"evenodd\" fill-opacity=\"1\" stroke=\"#000000\" stroke-opacity=\"1\" stroke-width=\"3.2\"/>\n",
       "<circle clip-path=\"url(#clip202)\" cx=\"2085.94\" cy=\"542.738\" r=\"14.4\" fill=\"#e26f46\" fill-rule=\"evenodd\" fill-opacity=\"1\" stroke=\"#000000\" stroke-opacity=\"1\" stroke-width=\"3.2\"/>\n",
       "<circle clip-path=\"url(#clip202)\" cx=\"2106.51\" cy=\"584.953\" r=\"14.4\" fill=\"#e26f46\" fill-rule=\"evenodd\" fill-opacity=\"1\" stroke=\"#000000\" stroke-opacity=\"1\" stroke-width=\"3.2\"/>\n",
       "<circle clip-path=\"url(#clip202)\" cx=\"2127.08\" cy=\"597.967\" r=\"14.4\" fill=\"#e26f46\" fill-rule=\"evenodd\" fill-opacity=\"1\" stroke=\"#000000\" stroke-opacity=\"1\" stroke-width=\"3.2\"/>\n",
       "<circle clip-path=\"url(#clip202)\" cx=\"2147.65\" cy=\"757.804\" r=\"14.4\" fill=\"#e26f46\" fill-rule=\"evenodd\" fill-opacity=\"1\" stroke=\"#000000\" stroke-opacity=\"1\" stroke-width=\"3.2\"/>\n",
       "<circle clip-path=\"url(#clip202)\" cx=\"2168.23\" cy=\"721.122\" r=\"14.4\" fill=\"#e26f46\" fill-rule=\"evenodd\" fill-opacity=\"1\" stroke=\"#000000\" stroke-opacity=\"1\" stroke-width=\"3.2\"/>\n",
       "<circle clip-path=\"url(#clip202)\" cx=\"2188.8\" cy=\"546.405\" r=\"14.4\" fill=\"#e26f46\" fill-rule=\"evenodd\" fill-opacity=\"1\" stroke=\"#000000\" stroke-opacity=\"1\" stroke-width=\"3.2\"/>\n",
       "<circle clip-path=\"url(#clip202)\" cx=\"2209.37\" cy=\"697.717\" r=\"14.4\" fill=\"#e26f46\" fill-rule=\"evenodd\" fill-opacity=\"1\" stroke=\"#000000\" stroke-opacity=\"1\" stroke-width=\"3.2\"/>\n",
       "<circle clip-path=\"url(#clip202)\" cx=\"2229.94\" cy=\"905.664\" r=\"14.4\" fill=\"#e26f46\" fill-rule=\"evenodd\" fill-opacity=\"1\" stroke=\"#000000\" stroke-opacity=\"1\" stroke-width=\"3.2\"/>\n",
       "<circle clip-path=\"url(#clip202)\" cx=\"2250.51\" cy=\"892.184\" r=\"14.4\" fill=\"#e26f46\" fill-rule=\"evenodd\" fill-opacity=\"1\" stroke=\"#000000\" stroke-opacity=\"1\" stroke-width=\"3.2\"/>\n",
       "<circle clip-path=\"url(#clip202)\" cx=\"2271.09\" cy=\"1109.12\" r=\"14.4\" fill=\"#e26f46\" fill-rule=\"evenodd\" fill-opacity=\"1\" stroke=\"#000000\" stroke-opacity=\"1\" stroke-width=\"3.2\"/>\n",
       "<circle clip-path=\"url(#clip202)\" cx=\"2291.66\" cy=\"1004.74\" r=\"14.4\" fill=\"#e26f46\" fill-rule=\"evenodd\" fill-opacity=\"1\" stroke=\"#000000\" stroke-opacity=\"1\" stroke-width=\"3.2\"/>\n",
       "<path clip-path=\"url(#clip200)\" d=\"M1938.59 1438.47 L2280.8 1438.47 L2280.8 1282.95 L1938.59 1282.95  Z\" fill=\"#ffffff\" fill-rule=\"evenodd\" fill-opacity=\"1\"/>\n",
       "<polyline clip-path=\"url(#clip200)\" style=\"stroke:#000000; stroke-linecap:round; stroke-linejoin:round; stroke-width:4; stroke-opacity:1; fill:none\" points=\"1938.59,1438.47 2280.8,1438.47 2280.8,1282.95 1938.59,1282.95 1938.59,1438.47 \"/>\n",
       "<polyline clip-path=\"url(#clip200)\" style=\"stroke:#009af9; stroke-linecap:round; stroke-linejoin:round; stroke-width:4; stroke-opacity:1; fill:none\" points=\"1962.58,1334.79 2106.5,1334.79 \"/>\n",
       "<path clip-path=\"url(#clip200)\" d=\"M2148.92 1326.91 L2148.92 1330.94 Q2147.11 1330.01 2145.17 1329.55 Q2143.22 1329.09 2141.14 1329.09 Q2137.97 1329.09 2136.37 1330.06 Q2134.8 1331.03 2134.8 1332.98 Q2134.8 1334.46 2135.93 1335.32 Q2137.06 1336.15 2140.49 1336.91 L2141.95 1337.24 Q2146.48 1338.21 2148.38 1339.99 Q2150.3 1341.75 2150.3 1344.92 Q2150.3 1348.53 2147.43 1350.64 Q2144.59 1352.75 2139.59 1352.75 Q2137.5 1352.75 2135.23 1352.33 Q2132.99 1351.94 2130.49 1351.13 L2130.49 1346.73 Q2132.85 1347.95 2135.14 1348.58 Q2137.43 1349.18 2139.68 1349.18 Q2142.69 1349.18 2144.31 1348.16 Q2145.93 1347.12 2145.93 1345.25 Q2145.93 1343.51 2144.75 1342.58 Q2143.59 1341.66 2139.63 1340.8 L2138.15 1340.45 Q2134.19 1339.62 2132.43 1337.91 Q2130.67 1336.17 2130.67 1333.16 Q2130.67 1329.51 2133.27 1327.51 Q2135.86 1325.52 2140.63 1325.52 Q2142.99 1325.52 2145.07 1325.87 Q2147.16 1326.22 2148.92 1326.91 Z\" fill=\"#000000\" fill-rule=\"nonzero\" fill-opacity=\"1\" /><path clip-path=\"url(#clip200)\" d=\"M2157.09 1326.15 L2161.35 1326.15 L2161.35 1352.07 L2157.09 1352.07 L2157.09 1326.15 M2157.09 1316.06 L2161.35 1316.06 L2161.35 1321.45 L2157.09 1321.45 L2157.09 1316.06 Z\" fill=\"#000000\" fill-rule=\"nonzero\" fill-opacity=\"1\" /><path clip-path=\"url(#clip200)\" d=\"M2191.81 1336.43 L2191.81 1352.07 L2187.55 1352.07 L2187.55 1336.57 Q2187.55 1332.88 2186.11 1331.06 Q2184.68 1329.23 2181.81 1329.23 Q2178.36 1329.23 2176.37 1331.43 Q2174.38 1333.63 2174.38 1337.42 L2174.38 1352.07 L2170.1 1352.07 L2170.1 1326.15 L2174.38 1326.15 L2174.38 1330.18 Q2175.91 1327.84 2177.97 1326.68 Q2180.05 1325.52 2182.76 1325.52 Q2187.23 1325.52 2189.52 1328.3 Q2191.81 1331.06 2191.81 1336.43 Z\" fill=\"#000000\" fill-rule=\"nonzero\" fill-opacity=\"1\" /><path clip-path=\"url(#clip200)\" d=\"M2210.54 1316.1 Q2207.43 1321.43 2205.93 1326.63 Q2204.42 1331.84 2204.42 1337.19 Q2204.42 1342.54 2205.93 1347.79 Q2207.46 1353.02 2210.54 1358.32 L2206.83 1358.32 Q2203.36 1352.88 2201.62 1347.63 Q2199.91 1342.38 2199.91 1337.19 Q2199.91 1332.03 2201.62 1326.8 Q2203.34 1321.57 2206.83 1316.1 L2210.54 1316.1 Z\" fill=\"#000000\" fill-rule=\"nonzero\" fill-opacity=\"1\" /><path clip-path=\"url(#clip200)\" d=\"M2240.35 1326.15 L2230.98 1338.76 L2240.84 1352.07 L2235.81 1352.07 L2228.27 1341.89 L2220.72 1352.07 L2215.7 1352.07 L2225.77 1338.51 L2216.55 1326.15 L2221.58 1326.15 L2228.45 1335.38 L2235.33 1326.15 L2240.35 1326.15 Z\" fill=\"#000000\" fill-rule=\"nonzero\" fill-opacity=\"1\" /><path clip-path=\"url(#clip200)\" d=\"M2246.18 1316.1 L2249.89 1316.1 Q2253.36 1321.57 2255.07 1326.8 Q2256.81 1332.03 2256.81 1337.19 Q2256.81 1342.38 2255.07 1347.63 Q2253.36 1352.88 2249.89 1358.32 L2246.18 1358.32 Q2249.26 1353.02 2250.77 1347.79 Q2252.29 1342.54 2252.29 1337.19 Q2252.29 1331.84 2250.77 1326.63 Q2249.26 1321.43 2246.18 1316.1 Z\" fill=\"#000000\" fill-rule=\"nonzero\" fill-opacity=\"1\" /><circle clip-path=\"url(#clip200)\" cx=\"2034.54\" cy=\"1386.63\" r=\"20.48\" fill=\"#e26f46\" fill-rule=\"evenodd\" fill-opacity=\"1\" stroke=\"#000000\" stroke-opacity=\"1\" stroke-width=\"4.55111\"/>\n",
       "<path clip-path=\"url(#clip200)\" d=\"M2149.4 1381.92 L2149.4 1367.9 L2153.66 1367.9 L2153.66 1403.91 L2149.4 1403.91 L2149.4 1400.03 Q2148.06 1402.34 2146 1403.47 Q2143.96 1404.59 2141.09 1404.59 Q2136.39 1404.59 2133.43 1400.84 Q2130.49 1397.09 2130.49 1390.97 Q2130.49 1384.86 2133.43 1381.11 Q2136.39 1377.36 2141.09 1377.36 Q2143.96 1377.36 2146 1378.5 Q2148.06 1379.61 2149.4 1381.92 M2134.89 1390.97 Q2134.89 1395.67 2136.81 1398.36 Q2138.75 1401.02 2142.13 1401.02 Q2145.51 1401.02 2147.46 1398.36 Q2149.4 1395.67 2149.4 1390.97 Q2149.4 1386.28 2147.46 1383.61 Q2145.51 1380.93 2142.13 1380.93 Q2138.75 1380.93 2136.81 1383.61 Q2134.89 1386.28 2134.89 1390.97 Z\" fill=\"#000000\" fill-rule=\"nonzero\" fill-opacity=\"1\" /><path clip-path=\"url(#clip200)\" d=\"M2174.22 1390.88 Q2169.05 1390.88 2167.06 1392.06 Q2165.07 1393.24 2165.07 1396.09 Q2165.07 1398.36 2166.55 1399.7 Q2168.06 1401.02 2170.63 1401.02 Q2174.17 1401.02 2176.3 1398.52 Q2178.45 1396 2178.45 1391.83 L2178.45 1390.88 L2174.22 1390.88 M2182.71 1389.12 L2182.71 1403.91 L2178.45 1403.91 L2178.45 1399.98 Q2176.99 1402.34 2174.82 1403.47 Q2172.64 1404.59 2169.49 1404.59 Q2165.51 1404.59 2163.15 1402.36 Q2160.81 1400.12 2160.81 1396.37 Q2160.81 1391.99 2163.73 1389.77 Q2166.67 1387.55 2172.48 1387.55 L2178.45 1387.55 L2178.45 1387.13 Q2178.45 1384.19 2176.51 1382.6 Q2174.59 1380.97 2171.09 1380.97 Q2168.87 1380.97 2166.76 1381.51 Q2164.66 1382.04 2162.71 1383.1 L2162.71 1379.17 Q2165.05 1378.27 2167.25 1377.83 Q2169.45 1377.36 2171.53 1377.36 Q2177.16 1377.36 2179.93 1380.28 Q2182.71 1383.2 2182.71 1389.12 Z\" fill=\"#000000\" fill-rule=\"nonzero\" fill-opacity=\"1\" /><path clip-path=\"url(#clip200)\" d=\"M2195.7 1370.63 L2195.7 1377.99 L2204.47 1377.99 L2204.47 1381.3 L2195.7 1381.3 L2195.7 1395.37 Q2195.7 1398.54 2196.55 1399.45 Q2197.43 1400.35 2200.1 1400.35 L2204.47 1400.35 L2204.47 1403.91 L2200.1 1403.91 Q2195.17 1403.91 2193.29 1402.09 Q2191.42 1400.23 2191.42 1395.37 L2191.42 1381.3 L2188.29 1381.3 L2188.29 1377.99 L2191.42 1377.99 L2191.42 1370.63 L2195.7 1370.63 Z\" fill=\"#000000\" fill-rule=\"nonzero\" fill-opacity=\"1\" /><path clip-path=\"url(#clip200)\" d=\"M2221.85 1390.88 Q2216.69 1390.88 2214.7 1392.06 Q2212.71 1393.24 2212.71 1396.09 Q2212.71 1398.36 2214.19 1399.7 Q2215.7 1401.02 2218.27 1401.02 Q2221.81 1401.02 2223.94 1398.52 Q2226.09 1396 2226.09 1391.83 L2226.09 1390.88 L2221.85 1390.88 M2230.35 1389.12 L2230.35 1403.91 L2226.09 1403.91 L2226.09 1399.98 Q2224.63 1402.34 2222.46 1403.47 Q2220.28 1404.59 2217.13 1404.59 Q2213.15 1404.59 2210.79 1402.36 Q2208.45 1400.12 2208.45 1396.37 Q2208.45 1391.99 2211.37 1389.77 Q2214.31 1387.55 2220.12 1387.55 L2226.09 1387.55 L2226.09 1387.13 Q2226.09 1384.19 2224.15 1382.6 Q2222.23 1380.97 2218.73 1380.97 Q2216.51 1380.97 2214.4 1381.51 Q2212.29 1382.04 2210.35 1383.1 L2210.35 1379.17 Q2212.69 1378.27 2214.89 1377.83 Q2217.09 1377.36 2219.17 1377.36 Q2224.79 1377.36 2227.57 1380.28 Q2230.35 1383.2 2230.35 1389.12 Z\" fill=\"#000000\" fill-rule=\"nonzero\" fill-opacity=\"1\" /></svg>\n"
      ]
     },
     "execution_count": 206,
     "metadata": {},
     "output_type": "execute_result"
    }
   ],
   "source": [
    "using Plots\n",
    "x = range(0, 10, length=100)\n",
    "y = sin.(x)\n",
    "y_noisy = @. sin(x) + 0.2*randn()\n",
    "\n",
    "plot(x, y, label=\"sin(x)\")\n",
    "plot!(x, y_noisy, seriestype=:scatter, label=\"data\")\n"
   ]
  },
  {
   "cell_type": "markdown",
   "metadata": {},
   "source": [
    "## Parte 3 : Errores numéricos"
   ]
  },
  {
   "cell_type": "markdown",
   "metadata": {},
   "source": [
    "### Problema 1\n",
    "\n",
    "Evaluar las siguientes operaciones matemáticas, una por celda. Tenga en cuenta que, en Julia, la división entera se representa por el símbolo ÷.\n",
    "\n",
    "    A = 5 ÷ 2 + 20 ÷ 6\n",
    "    B = 4 * 6 ÷ 2 - 15 ÷ 2\n",
    "    C = 5 * 15 ÷ 2 ÷ (4 - 2)\n",
    "    D = 1 + 1 ÷ 4\n",
    "    E = 1. + 1 ÷ 4\n",
    "    F = 1 + 1. / 4\n",
    "    G = 1. + 1. / 4.\n",
    "    \n",
    "En que se diferencian los casos, D, E, F y G?"
   ]
  },
  {
   "cell_type": "code",
   "execution_count": null,
   "metadata": {},
   "outputs": [],
   "source": []
  },
  {
   "cell_type": "markdown",
   "metadata": {},
   "source": [
    "### Problema 2\n",
    "\n",
    "Implemente una función que pida dos numeros reales y retorne el mayor de ellos, ó retorne el string `\"iguales\"` si son iguales. Pruebe la función para los casos\n",
    "\n",
    "    f(1,2)\n",
    "    f(2,1)\n",
    "    f(0.0,0.0)\n",
    "    f(0.0,10.0^(-500))\n",
    "    \n",
    "Explique que ocurre en el último caso.    "
   ]
  },
  {
   "cell_type": "code",
   "execution_count": 5,
   "metadata": {},
   "outputs": [
    {
     "name": "stdout",
     "output_type": "stream",
     "text": [
      "Son Iguales\n"
     ]
    }
   ],
   "source": [
    "function f(x,y)\n",
    "    if x>y\n",
    "        println(\"$(x)\")\n",
    "    elseif x<y\n",
    "        println(\"$(y)\")\n",
    "    else\n",
    "        println(\"Son Iguales\")\n",
    "    end\n",
    "end\n",
    "f(0.0,10.0^(-500))"
   ]
  },
  {
   "cell_type": "markdown",
   "metadata": {},
   "source": [
    "### Problema 3\n",
    "\n",
    "Implemente una función que pida un número entero y retorne un booleano determinando si es multiplo de 2 y de 5.\n",
    "Testee la función con ejemplos."
   ]
  },
  {
   "cell_type": "code",
   "execution_count": 20,
   "metadata": {},
   "outputs": [
    {
     "name": "stdout",
     "output_type": "stream",
     "text": [
      "True\n"
     ]
    }
   ],
   "source": [
    "function g(i)\n",
    "    x = i%2\n",
    "    y = i%5\n",
    "    if x == 0 && y == 0\n",
    "        println(\"True\")\n",
    "    else \n",
    "        println(\"False\")\n",
    "    end\n",
    "end\n",
    "g(20)"
   ]
  },
  {
   "cell_type": "markdown",
   "metadata": {},
   "source": [
    "### Problema 6\n",
    "\n",
    "Implemente una función que pida los coeficientes $A$, $B$ y $C$ de un polinomio real de segundo grado ($A x^2 + B x + C$), calcule e imprima en pantalla las dos raíces del polinomio en formato complejo $a + i b$, sin\n",
    "utilizar algebra compleja.\n",
    "Testee la función con ejemplos."
   ]
  },
  {
   "cell_type": "markdown",
   "metadata": {},
   "source": [
    "**Teoría**\n",
    "\n",
    "Dados\n",
    "$$\n",
    "a = -\\frac{B}{2A}\\in \\mathbb{R}\n",
    "\\;\\;\\;\\;\n",
    "\\mbox{y}\n",
    "\\;\\;\\;\\;\n",
    "b = \\frac{\\sqrt{\\left|B^2-4AC\\right|}}{2A}\\in \\mathbb{R}\n",
    "$$ \n",
    "luego, las soluciones de \n",
    "$$\n",
    "A x^2 + B x + C=0\n",
    "$$\n",
    "son\n",
    "$$\n",
    "x_{\\pm} = a\\pm b\n",
    "$$\n",
    "si el discriminante satisface\n",
    "$$\n",
    "B^2-4AC \\geq 0\n",
    "$$\n",
    "ó son\n",
    "$$\n",
    "x_{\\pm} = a\\pm ib\n",
    "$$\n",
    "en caso contrario."
   ]
  },
  {
   "cell_type": "code",
   "execution_count": 47,
   "metadata": {},
   "outputs": [
    {
     "name": "stdout",
     "output_type": "stream",
     "text": [
      "1.0\n"
     ]
    }
   ],
   "source": [
    "function f(A,B,C)\n",
    "    a = (-B)/2*A\n",
    "    d = (B^2)-(4*A*C)\n",
    "    b = sqrt(abs(d))/2*A\n",
    "    if A == 0 && B == 0\n",
    "        println(\"error: A o B tienen que ser distintos a O\")\n",
    "    elseif A == 0\n",
    "        println(\"$((-C)/B)\")\n",
    "    else\n",
    "        if d >= 0\n",
    "            println(\"$(a+b)\\n$(a-b)\")\n",
    "        else\n",
    "            println(\"$(a)+i($(b))\\n$(a)-i($(b))\")\n",
    "        end\n",
    "    end\n",
    "end\n",
    "f(0,1,-1)"
   ]
  },
  {
   "cell_type": "markdown",
   "metadata": {},
   "source": [
    "### Problema 7\n",
    "\n",
    "Implemente una función que compute la suma en precisión simple (float de 32 bits)\n",
    "$$\n",
    "\\sum_{n=1}^{10\\,000\\,000} \\frac{1}{n}\n",
    "$$\n",
    "en el orden usual.\n",
    "Luego, implemente otra que compute la suma en el orden opuesto, también en precisión simple.\n",
    "Luego, repita todo el proceso para precisión doble (float de 64 bits).\n",
    "Ejecute todas funciones, observe los resultados y describa las diferencias obtenidas.\n",
    "En particular, indique cuál función es más precisa y explique porqué."
   ]
  },
  {
   "cell_type": "code",
   "execution_count": 98,
   "metadata": {},
   "outputs": [
    {
     "data": {
      "text/plain": [
       "7.5"
      ]
     },
     "execution_count": 98,
     "metadata": {},
     "output_type": "execute_result"
    }
   ],
   "source": [
    "# No salio je"
   ]
  },
  {
   "cell_type": "markdown",
   "metadata": {},
   "source": [
    "Bla bla ..."
   ]
  },
  {
   "cell_type": "markdown",
   "metadata": {},
   "source": [
    "### Problema 8\n",
    "\n",
    "Diseñar una función que calcule la potencia enésima de un número, es decir que devuelva $x^n$ para $x$ real y $n$ entero. Realice un programa que utilice la función e imprima en pantalla las primeras 5 potencias naturales de un número ingresado."
   ]
  },
  {
   "cell_type": "code",
   "execution_count": 118,
   "metadata": {},
   "outputs": [
    {
     "name": "stdin",
     "output_type": "stream",
     "text": [
      "stdin>  5\n"
     ]
    },
    {
     "name": "stdout",
     "output_type": "stream",
     "text": [
      "5.0\n",
      "25.0\n",
      "125.0\n",
      "625.0\n",
      "3125.0\n"
     ]
    }
   ],
   "source": [
    "function p(x,n)\n",
    "    a = x^n\n",
    "end\n",
    "c = parse(Float64, readline())\n",
    "for i in 1:5\n",
    "    println(\"$(p(c,i))\")\n",
    "end"
   ]
  },
  {
   "cell_type": "markdown",
   "metadata": {},
   "source": [
    "### Problema 9\n",
    "\n",
    "Implemente una función que tome una matriz $A$ de dimensión $M\\times N$ y un vector $v$ de dimensión $N$ y retorne un vector de dimensión $M$ igual al producto matricial $Av$.\n",
    "\n",
    "Ralice varias pruebas de la función.\n",
    "\n",
    "**Ayuda:** Lea [https://docs.julialang.org/en/v1/base/arrays/](https://docs.julialang.org/en/v1/base/arrays/)."
   ]
  },
  {
   "cell_type": "code",
   "execution_count": 222,
   "metadata": {},
   "outputs": [
    {
     "data": {
      "text/plain": [
       "2-element Vector{Float64}:\n",
       " 0.0\n",
       " 0.0"
      ]
     },
     "execution_count": 222,
     "metadata": {},
     "output_type": "execute_result"
    }
   ],
   "source": [
    "using LinearAlgebra\n",
    "m = 2\n",
    "n = 2\n",
    "function h()\n",
    "    A = Array{Float64}(undef,m,n)\n",
    "    B = Array{Float64}(undef,m)\n",
    "    C = A*B\n",
    "    return C\n",
    "end\n",
    "h()"
   ]
  },
  {
   "cell_type": "markdown",
   "metadata": {},
   "source": [
    "### Problema 10\n",
    "\n",
    "Se determinaron 9 mediciones de concentraciones de fósforo en un campo y los datos obtenidos fueron:\n",
    "\n",
    "    479.80 \n",
    "    499.10 \n",
    "    510.20 \n",
    "    508.60\n",
    "    503.30\n",
    "    501.20\n",
    "    507.30\n",
    "    499.90\n",
    "    468.60\n",
    "    \n",
    "* Cargue los datos en un array.\n",
    "\n",
    "* Escriba un programa que calcule el promedio y la [estimación de la desviación estandard no sesgada](https://es.wikipedia.org/wiki/Estimaci%C3%B3n_de_la_desviaci%C3%B3n_est%C3%A1ndar_no_sesgada) del array de datos.\n",
    "\n",
    "**Ayudas:**\n",
    "\n",
    "* Puede crear el vector a mano, o puede intentar usando las funciones [split](https://docs.julialang.org/en/v1/base/strings/#Base.split) y [parse](https://docs.julialang.org/en/v1/base/numbers/#Base.parse), o puede intentar usar usar los paquetes [CSV](https://csv.juliadata.org/stable/) y [DataFrames](https://dataframes.juliadata.org/stable/).\n",
    "\n",
    "* El *promedio* de una serie de mediciones $x_1, x_2, ..., x_n$ se defined como\n",
    "\n",
    "    $$\n",
    "    \\overline{x} = \\frac{1}{n} \\sum_{i=1}^n x_i\n",
    "    $$\n",
    "\n",
    "    y la *estimación de la desviación estandard no sesgada* como\n",
    "    \n",
    "    $$\n",
    "    s_x = \\sqrt{\\frac{1}{n-1}\\sum_{i=1}^n (x_i-\\overline{x})^2}\n",
    "    $$"
   ]
  },
  {
   "cell_type": "code",
   "execution_count": 232,
   "metadata": {},
   "outputs": [
    {
     "data": {
      "text/plain": [
       "497.55555555555566"
      ]
     },
     "execution_count": 232,
     "metadata": {},
     "output_type": "execute_result"
    }
   ],
   "source": [
    "A = [479.80, 499.10, 510.20, 508.60, 503.30, 501.20, 507.30, 499.90, 468.60]\n",
    "function prom()\n",
    "    x = (1/length(A))*Base.sum(A)\n",
    "    return x\n",
    "end\n",
    "function desv()\n",
    "    y = 0\n",
    "    s = 0\n",
    "    for i in 1:length(A)\n",
    "        y = (A[i]-prom())^2 + y\n",
    "        s = sqrt(1/(length(A)-1)*y)\n",
    "    end\n",
    "    return s\n",
    "end\n",
    "desv()\n",
    "prom()"
   ]
  },
  {
   "cell_type": "markdown",
   "metadata": {},
   "source": [
    "### Problema 11\n",
    "\n",
    "Escriba una funcion que retorne el *string* de la representación en base $b \\leq 16$ de un número natural $n$. Por ejemplo, para $n=42$, la función tiene que retornar `\"101010\"` si $b=2$ (representación binaria), y tiene que retornar `\"2A\"` si $b=16$ (representación hexadecimal).\n",
    "\n",
    "**Ayuda:** Utilice las operaciones división entera `÷` y resto `%`, la concatenación de *string* s (i.e. el operador ` *`) y utilice una *string* `\"0123456789ABCDEF\"` con todos los dígitos necesarios."
   ]
  },
  {
   "cell_type": "code",
   "execution_count": 316,
   "metadata": {},
   "outputs": [
    {
     "name": "stdout",
     "output_type": "stream",
     "text": [
      "Resultado: 4D2\n"
     ]
    }
   ],
   "source": [
    "function Converter(n,base)\n",
    "    decimal = n # Guardo un numero decimal\n",
    "     baseN = \"\"# En esta variable almaceno el valor en otra base con letras\n",
    "    while decimal != 0\n",
    "        # Cambia los digitos por los de la otra base\n",
    "        resto = decimal % base\n",
    "        rem = CambiarDigitos(resto)\n",
    "        # Da a la varibale \"en la nueva base\" con los nuevos valores\n",
    "        baseN = string(rem) * baseN\n",
    "        decimal = decimal ÷ base\n",
    "    end\n",
    "    println(\"Resultado: $(baseN)\") # Muestra el resultado\n",
    "end\n",
    "\n",
    "function CambiarDigitos(digitos) # Traduce los digitos a hexadecimales\n",
    "    decimales = [10 , 11 , 12 , 13 , 14 , 15 ]\n",
    "    hexadecimal = [\"A\", \"B\", \"C\", \"D\", \"E\", \"F\"]\n",
    "    for i in 1:length(6)\n",
    "        if digitos == decimales[i]\n",
    "            digitos = hexadecimal[i]\n",
    "        elseif digitos == decimales[i+1]\n",
    "            digitos = hexadecimal[i+1]\n",
    "        elseif digitos == decimales[i+2]\n",
    "            digitos = hexadecimal[i+2]\n",
    "        elseif digitos == decimales[i+3]\n",
    "            digitos = hexadecimal[i+3]\n",
    "        elseif digitos == decimales[i+4]\n",
    "            digitos = hexadecimal[i+4]\n",
    "        elseif digitos == decimales[i+5]\n",
    "            digitos = hexadecimal[i+5]\n",
    "        end\n",
    "    end\n",
    "    return digitos\n",
    "end\n",
    "    \n",
    "# Tengo un error en el for que solo funciona cunado c=1 y sino me larga el numero segun decimales[c] y no segun hexadecimal[c], lo arregle con muchos elseif\n",
    "Converter(1234,16)"
   ]
  },
  {
   "cell_type": "markdown",
   "metadata": {},
   "source": [
    "### Problema 12\n",
    "\n",
    "Efectúe con un programa en Julia en simple precisión los siguientes cálculos matemáticamente equivalentes,\n",
    "\n",
    "**a)** $1\\,000\\,000 \\times 0.1$\n",
    "\n",
    "**b)** $\\sum_{n=1}^{1\\,000\\,000} 0.1$\n",
    "\n",
    "**c)** $\\sum_{n=1}^{1\\,000} \\left( \\sum_{m=1}^{1\\,000} 0.1\\right)$\n",
    "\n",
    "1. Vaya guardando en vectores los errores parciales cada 1000 iteraciones en el caso **b)**, y en todas las iteraciones de la suma externa en **c)**, de manera que cada suma parcial comprenda 1000 términos de la suma total.\n",
    "\n",
    "2. Grafique de manera comparativa dichos errores en función de los correspondientes valores de $n$. Incluya en el gráfico nombres adecuados en los ejes y con leyendas adecuadas. \n",
    "\n",
    "3. Repita el gráfico utilizando escala logarítmica en el eje $y$.\n",
    "\n",
    "4. Utilce los resultados anteriores para explicar las diferencias obtenidas entre resultados finales de **a)**, **b)** y **c)** y muestre que el error relativo en **b)** es del orden del $1\\%$, pero es mucho menor en **c)**."
   ]
  },
  {
   "cell_type": "code",
   "execution_count": 364,
   "metadata": {},
   "outputs": [
    {
     "name": "stdout",
     "output_type": "stream",
     "text": [
      "100000.00000133288\n",
      "100000.0\n"
     ]
    }
   ],
   "source": [
    "x = 0\n",
    "y = 0\n",
    "for j in 1:1000\n",
    "    y += x\n",
    "    for i in 1:1000\n",
    "        x += 0.1\n",
    "    end\n",
    "end\n",
    "println(\"$(x)\")\n",
    "println(\"$(Float32(1000000)*Float32(0.1))\")\n"
   ]
  },
  {
   "cell_type": "markdown",
   "metadata": {},
   "source": [
    "### Problema 13\n",
    "\n",
    "**Serie de Taylor, aproximaciones y errores**\n",
    "\n",
    "La siguiente fórmula permite expresar, usando la serie de Taylor a partir del punto $x=0$, la función *seno* como suma (infinita) de potencias:\n",
    "\n",
    "$$\n",
    "\\sin(x) = \\sum_{j=0}^{\\infty} \\frac{(-1)^j}{(2j+1)!}x^{2j+1}\n",
    "$$\n",
    "\n",
    "Podemos approximar esta expresión en la computadora truncando la serie en algún valor finito de $n$.\n",
    "\n",
    "1. Defina una función, `sin_n(x,n)` que tome como argumentos un valor de la variable `x` y un valor de `n` y devuelva el valor de la suma hasta dicho $n$. \n",
    "    \n",
    "2. Grafique en el intervalo $[0, 2π]$ dicha función para los distintos valores de $n=6,7,8$ y agregue en el mismo gráfico la función `sin(x)` que viene pre-definida en Julia.\n",
    "    \n",
    "3. En otro gráfico grafique el *error* entre la aproximación con $n=8$ y la función estandard de Julia. \n",
    "    \n",
    "4. Defina una nueva función, `sin_n_inv(x,n)` idéntica a al anterior pero donde la suma se haga en orden inverso.\n",
    "    \n",
    "5. Compare los errores obtenidos con `sin_n(x,n)` y `sin_n_inv(x,n)` para `n=8` en el rango $[0,1]$.\n",
    "\n",
    "6. Repita la comparación anterior utilizando precisión simple (i.e. numero flotante de 32 bits). \n",
    "\n",
    "7. Explique las diferencias observadas entre 5. y 6.\n",
    "\n",
    "**Ayudas:** \n",
    "\n",
    "* Para calcular el factorial de un número entero use la función `factorial`.\n",
    "\n",
    "* `Float32(x)` retorna el valor de `x` en precisión simple.\n",
    "\n",
    "* Las expresiones `zero(x)` y `one(x)` retornan 0 y 1, respectivamente, en la misma precisión que la variable `x`."
   ]
  },
  {
   "cell_type": "code",
   "execution_count": null,
   "metadata": {},
   "outputs": [],
   "source": []
  },
  {
   "cell_type": "markdown",
   "metadata": {},
   "source": [
    "### Problema 14\n",
    "\n",
    "1. Escriba un programa que calcule la posición y la velocidad en función del tiempo para un problema de tiro oblicuo. El programa debe asumiendo que el proyectil parte del origen, y debe tomar como datos de entrada el ángulo $\\theta$ (en grados) y la rapidéz inicial $v_0$ (en m/seg.) del proyectil.\n",
    "\n",
    "2. Calcule la trayectoria para $\\theta=°30$ y $v_0=50\\, m/s$. Elija el incremento temporal ($\\Delta t$) de manera que eventualmente pueda graficar una trajectoria con 600 puntos en el intervalo entre el disparo y el instante $T$ en que el proyectil vuelve a tener altura 0. \n",
    "\n",
    "3. En una figura grafique $x(t)$, $y(t)$ y $v_y(t)$ en función de $t$. \n",
    "\n",
    "4. En otra figura grafique la trayectoria del proyectil.\n",
    "\n",
    "**Ayuda:** para plotear puntos o curvas, lea [https://docs.juliaplots.org/latest/tutorial/](https://docs.juliaplots.org/latest/tutorial/)."
   ]
  },
  {
   "cell_type": "code",
   "execution_count": null,
   "metadata": {},
   "outputs": [],
   "source": []
  },
  {
   "cell_type": "markdown",
   "metadata": {},
   "source": [
    "### Problema 15\n",
    "\n",
    "Escriba un programa para calcular un valor aproximado de $\\pi$ utilizando los siguientes métodos.\n",
    "\n",
    "1. La fórmula recurrente de Arquímedes, que  acota $\\pi$ entre $p_n$ y $P_n$, con $p_n < \\pi < P_n$, siendo $p_n$ y $P_n$ los perímetros de los polígonos regulares de $n$ lados inscriptos y circunscriptos, respectivamente, en la circunsferencia de radio $1/2$. \n",
    "\n",
    "    La fórmula de recurrencia que encontró Arquímides es la siguiente:\n",
    "    \n",
    "    $$\n",
    "    \\begin{align}\n",
    "    P_{2n} &= \\frac{2 p_n P_n}{p_n + P_n} \\\\\n",
    "    p_{2n} &= \\sqrt{P_{2n} p_n} \n",
    "    \\end{align}\n",
    "    $$\n",
    "    \n",
    "    Usando los valores $P_6=2\\sqrt{3}$ y $p_6 = 3$, correspondientes al hexágono, escriba un programa que realice 20 iteraciones recorriendo $k=0,1,..., 20$, y escriba los resultados en pantalla de $k$, $n=6\\times 2^k$, $p_n$, $P_n$, la aproximación $\\pi_n = (p_n+P_n)/2$ y el error $|\\pi_n-\\pi|$.\n",
    "\n",
    "2. La productoria de Wallis\n",
    "\n",
    "    $$\n",
    "    \\frac{\\pi}{2} = \\prod_{n=1}^\\infty \\frac{(2n)^2}{(2n)^2-1} = \\frac43\\frac{16}{15}\\frac{36}{35}\\frac{64}{63}\\dots \n",
    "    $$\n",
    "    \n",
    "    truncando la productoria a $10^6$ factores."
   ]
  },
  {
   "cell_type": "code",
   "execution_count": null,
   "metadata": {},
   "outputs": [],
   "source": []
  },
  {
   "cell_type": "markdown",
   "metadata": {},
   "source": [
    "### Problema 16\n",
    "\n",
    "La fórmula cuadrática nos dice que las raíces de $ax^2 + bx + c = 0$ son\n",
    "\n",
    "$$\n",
    "x_1 = \\frac{-b+\\sqrt{b^2-4ac}}{2a},\n",
    "\\;\\;\\;\\;\n",
    "x_2 = \\frac{-b-\\sqrt{b^2-4ac}}{2a}\n",
    "$$\n",
    "\n",
    "Si $b^2 \\gg 4ac$, cálculo de $x_1$ involucra en el numerador la sustracción de dos números casi iguales cuando $b>0$, y ocurre para el cálculo de $x_2$ cuando $b<0$.\n",
    "La división por números gigantes suele generar errores numéricos severos.\n",
    "Para solucionar este problema, conviene *racionalizar los numeradores* en cuestión.\n",
    "Más precisamente, conviene calcular la raíz $x_1$ usando la expresión\n",
    "\n",
    "$$\n",
    "x_1 = \\frac{-b+\\sqrt{b^2-4ac}}{2a} \\frac{-b-\\sqrt{b^2-4ac}}{-b-\\sqrt{b^2-4ac}} = \\frac{-2c}{b+\\sqrt{b^2-4ac}}\n",
    "$$\n",
    "\n",
    "cuando $b>0$, y conviene calcular la raíz $x_2$ usando la expresión\n",
    "\n",
    "$$\n",
    "x_2 = \\frac{-b-\\sqrt{b^2-4ac}}{2a} \\frac{-b+\\sqrt{b^2-4ac}}{-b+\\sqrt{b^2-4ac}} = \\frac{2c}{-b+\\sqrt{b^2-4ac}}\n",
    "$$\n",
    "\n",
    "cuando $b<0$.\n",
    "\n",
    "1. Implemente una función que utilice las fórmulas usuales para calcular las raices $x_1$ y $x_2$.\n",
    "\n",
    "2. Implemente otra función que utilice las fórmulas *racionalizadas* para calcular las raíces $x_1$ y $x_2$.\n",
    "\n",
    "3. Implemente una función que calcule las raíces $x_1$ y $x_2$ evaluando la condición $b>0$ para decidir que fórmula utilizar en cada caso.\n",
    "\n",
    "4. Utilice las funciones de los incisos anteriores para encontrar aproximaciones numéricas a las raíces de las ecuaciónes\n",
    "\n",
    "   a) $x^2 + 6210x + 1 = 0$\n",
    "\n",
    "   b) $x^2 - 6210x + 1 = 0$\n",
    "\n",
    "5. Repita el inciso anterior para precisión simple.\n",
    "\n",
    "6. Describa lo observado."
   ]
  },
  {
   "cell_type": "code",
   "execution_count": null,
   "metadata": {},
   "outputs": [],
   "source": []
  },
  {
   "cell_type": "markdown",
   "metadata": {},
   "source": [
    "**6.**\n",
    "Bla bla bla..."
   ]
  }
 ],
 "metadata": {
  "@webio": {
   "lastCommId": null,
   "lastKernelId": null
  },
  "kernelspec": {
   "display_name": "Julia 1.10.2",
   "language": "julia",
   "name": "julia-1.10"
  },
  "language_info": {
   "file_extension": ".jl",
   "mimetype": "application/julia",
   "name": "julia",
   "version": "1.10.2"
  }
 },
 "nbformat": 4,
 "nbformat_minor": 4
}
