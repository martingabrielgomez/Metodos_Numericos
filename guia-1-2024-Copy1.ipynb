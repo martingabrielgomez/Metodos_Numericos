{
 "cells": [
  {
   "cell_type": "markdown",
   "metadata": {},
   "source": [
    "# Métodos Numéricos 2024"
   ]
  },
  {
   "cell_type": "markdown",
   "metadata": {},
   "source": [
    "## Guía 1: 2024-03-12"
   ]
  },
  {
   "cell_type": "markdown",
   "metadata": {},
   "source": [
    "## Parte 1 : Uso de Linux, Julia y Notebooks"
   ]
  },
  {
   "cell_type": "markdown",
   "metadata": {},
   "source": [
    "### Ejercicio 1 : terminal de *bash*\n",
    "\n",
    "1. Abra una terminal de *bash* de linux. Ud. debería ver en la termina un *prompt* `user@host:~$` indicando el nombre del *usuario* logueado y del *host* (la computadora). En la práctica el nombre de user y host pueden cambiar dependiendo de quién es el usuario que está loguead y en que máquina lo haya hecho. Por otro lado, lo que está entre los dos puntos `:` y el signo pesos `$` indica el directorio de trabajo. En este caso, el símbolo es `~` lo cual representa una abreviación del directorio de trabajo de su usuario que, en este ejemplo, es `/home/user/`.\n",
    "\n",
    "2. El prompt le permite a Ud. ingresar comandos de *bash*. Con estos comandos, Ud. podrá crear y borrar directorios, copiar archivos, cambiar de directorio de trabajo, imprimir en pantalla la lista de directorios y archivos en su actual directorio de trabajo, etc. Además, podrá ejecutar programas."
   ]
  },
  {
   "cell_type": "markdown",
   "metadata": {},
   "source": [
    "### Ejercicio 2 : instalando *Julia*\n",
    "\n",
    "*Julia* es un lenguage de programación de [código abierto](https://es.wikipedia.org/wiki/C%C3%B3digo_abierto) (open source) específicamente desarrollado para el cálculo numérico y científico. Es el lenguaje de programación que utilizaremos en la comisión de Julia de los prácticos de Métodos Numéricos (2024).\n",
    "\n",
    "A continuación, Ud. deberá instalar Julia en la computadora en la que está trabajando. En algunos casos, puede que Julia ya esté instalado. Si ese es el caso, llame al profesor para que elimine la instalación así Ud. puede practicar la misma.\n",
    "\n",
    "Para instalar Julia:\n",
    "\n",
    "1. Ingrese a la página oficial de Julia\n",
    "\n",
    "* [https://julialang.org/](https://julialang.org/)\n",
    "        \n",
    "2. En la página de Julia, cliquee en el botón *Download*. Esto lo llevará a Ud. a la página\n",
    "\n",
    "* [https://julialang.org/downloads/](https://julialang.org/downloads/)\n",
    "        \n",
    "3. Luego, vaya hasta la sección *Official Binaries for Manual Download* y baje el archivo \n",
    "\n",
    "* [https://julialang-s3.julialang.org/bin/linux/x64/1.10/julia-1.10.2-linux-x86_64.tar.gz](https://julialang-s3.julialang.org/bin/linux/x64/1.10/julia-1.10.2-linux-x86_64.tar.gz)\n",
    "        \n",
    "    (o la versión equivalente) escondido en el link de nombre `glibc` correspondiente a la versión *Generic Linux on x86* de Linux.\n",
    "    \n",
    "4. Abra una terminal de bash y descomprima el archivo ejecutando el comando\n",
    "\n",
    "        tar -xf julia-1.10.2-linux-x86_64.tar.gz\n",
    "        \n",
    "    esto creará una carpeta llamada `julia-1.10.2` en donde podrá encontrar los archivos de Julia.\n",
    "    \n",
    "5. Para poder ejecutar julia desde cualquier directorio, hay que modificar el archivo de texto `.bashrc` agregandole al final la linea\n",
    "\n",
    "        export PATH=:$HOME/julia-1.10.2/bin:$PATH\n",
    "        \n",
    "   Para ello, puede utilizar el editor de texto `gedit` ingresando el comando\n",
    "   \n",
    "        gedit ~/.bashrc"
   ]
  },
  {
   "cell_type": "markdown",
   "metadata": {},
   "source": [
    "### Ejercicio 3 : instalando *paquetes* de Julia\n",
    "\n",
    "1. En una terminal de bash, inicie una terminal de Julia ingresando el comando `julia`. Con esto, le aparecerá el prompt `julia>` de la terminal de Julia en donde Ud. podrá ingresar comandos de Julia.\n",
    "\n",
    "2. Importe el administrador de paquetes de Julia llamado `Pkg` ingrese el comando \n",
    "\n",
    "        using Pkg \n",
    "   \n",
    "3. Para poder realizar graficos en Julia, instale el paquete `Plots` ingresando el comando \n",
    "\n",
    "        Pkg.add(\"Plots\")\n",
    "   \n",
    "4. Para poder utilizar *notebooks de Jupyter* en Julia, instale el paquete `IJulia` ingresando el comando\n",
    "\n",
    "        Pkg.add(\"IJulia\")\n",
    "   \n",
    "5. Para salir de la terminal de Julia ingrese el comando\n",
    "\n",
    "        exit()"
   ]
  },
  {
   "cell_type": "markdown",
   "metadata": {},
   "source": [
    "### Ejercicio 4 : Clonando el repositorio *git*\n",
    "\n",
    "1. En una terminal de bash, cree un directorio con el formato `apellido-nombre` ingresando el comando\n",
    "\n",
    "        mkdir apellido-nombre\n",
    "\n",
    "    Recuerde usar su primer appellido en vez de `apellido` y su primer nombre en vez de `nombre`. Evite utilizar espacios, acentos o la letra ñ.\n",
    "   \n",
    "2. Cambie de directorio de trabajo ingresando al directorio recientemente creado ingresando el comando\n",
    "\n",
    "        cd apellido-nombre\n",
    "\n",
    "3. Clone el repositorio ingresando el comando\n",
    "\n",
    "        git clone https://github.com/jipphysics/metodos-numericos-2024.git"
   ]
  },
  {
   "cell_type": "markdown",
   "metadata": {},
   "source": [
    "### Ejercicio 5 : Trabajando con *notebooks*\n",
    "\n",
    "1. En una terminal de bash, inicialize una terminal de Julia ingresando el comando\n",
    "\n",
    "        julia\n",
    "    \n",
    "2. En la terminal de Julia, inicialize el administrador de notebooks de *Jupyter* ingresando los comandos\n",
    "\n",
    "        using IJulia\n",
    "        notebook()\n",
    "   \n",
    "3. Desde el administrador de notebooks, vaya a la carpeta del repositior que anteriormente clonó y cree una copia o duplicado de la notebook \n",
    "\n",
    "        guia-1-2024.ipynb\n",
    "\n",
    "4. Abra la copia de la notebook y resuelva los ejercicios y problemas.\n",
    "\n",
    "**IMPORTANTE:** Trabaje siempre en la copia de las notebook del repositorio clonado. Nunca trabaje en la originale. Esto le permitirá en un futuro bajar facilmente el resto de las guías."
   ]
  },
  {
   "cell_type": "markdown",
   "metadata": {},
   "source": [
    "## Parte 2 : Ejercicios de programación en Julia"
   ]
  },
  {
   "cell_type": "markdown",
   "metadata": {},
   "source": [
    "### Ejercicio 6: strings\n",
    "\n",
    "En Julia, como en la mayoría de los lenguajes de programación, uno puede representar texto en el código utilizando cadenas de caracteres (strings). Para construir una cadena de caracteres, simplemente englobe el texto entre comillas\n",
    "\n",
    "        \"Hola mundo!\"\n",
    "        \n",
    "A continuación, construya una cadena de texto con su frase favorita."
   ]
  },
  {
   "cell_type": "code",
   "execution_count": 11,
   "metadata": {},
   "outputs": [
    {
     "data": {
      "text/plain": [
       "\"Los poetas, como los ciegos, pueden ver en la oscuridad.\""
      ]
     },
     "execution_count": 11,
     "metadata": {},
     "output_type": "execute_result"
    }
   ],
   "source": [
    "\"Los poetas, como los ciegos, pueden ver en la oscuridad.\""
   ]
  },
  {
   "cell_type": "code",
   "execution_count": 23,
   "metadata": {},
   "outputs": [
    {
     "data": {
      "text/plain": [
       "0.0015926529164868282"
      ]
     },
     "execution_count": 23,
     "metadata": {},
     "output_type": "execute_result"
    }
   ],
   "source": [
    "\n"
   ]
  },
  {
   "cell_type": "markdown",
   "metadata": {},
   "source": [
    "### Ejercicio 7: unicode\n",
    "\n",
    "Escribir símbolos especiales en Julia es muy parecido a escribir símbolos especiales en LaTeX. Para ello, se utiliza el sistema unicode\n",
    "\n",
    "* [https://docs.julialang.org/en/v1/manual/unicode-input/](https://docs.julialang.org/en/v1/manual/unicode-input/)\n",
    "\n",
    "Por ejemplo, para ingresar:"
   ]
  },
  {
   "cell_type": "code",
   "execution_count": 12,
   "metadata": {},
   "outputs": [
    {
     "ename": "LoadError",
     "evalue": "UndefVarError: `α` not defined",
     "output_type": "error",
     "traceback": [
      "UndefVarError: `α` not defined",
      ""
     ]
    }
   ],
   "source": [
    "÷     # tiene que escribir \\div y luego presionar la tecla tab.\n",
    "\n",
    "α     # tiene que escribir \\alpha y luego presionar la tecla tab.\n",
    "\n",
    "⊗     # tiene que escribir \\otimes y luego presionar la tecla tab."
   ]
  },
  {
   "cell_type": "markdown",
   "metadata": {},
   "source": [
    "En una celda de código ingrese los símbolos unicode $\\pm$, $\\times$, $\\Delta$, $\\epsilon$, $\\backepsilon$, $\\subset$ y $x^3$."
   ]
  },
  {
   "cell_type": "code",
   "execution_count": 14,
   "metadata": {},
   "outputs": [
    {
     "ename": "LoadError",
     "evalue": "UndefVarError: `±` not defined",
     "output_type": "error",
     "traceback": [
      "UndefVarError: `±` not defined",
      ""
     ]
    }
   ],
   "source": [
    "∈\n",
    "∋\n",
    "∆\n",
    "±\n",
    "⊂\n",
    "𝑥^3"
   ]
  },
  {
   "cell_type": "markdown",
   "metadata": {},
   "source": [
    "### Ejercicio 8: números enteros\n",
    "\n",
    "En Julia, Ud. puede representar un número de entero en el código escribiendo el número de la manera usual. Note, sin embargo, que los números enteros que una computadora puede representar abarcan un rango finito de posibilidades, dependiendo del *tipo* de número de entero utilizado. \n",
    "\n",
    "En Julia, existen los tipos `UInt8`, `UInt16`, `UInt32`, `UInt64` y `UInt128` para representar enteros sin signo (Unsigned) de 8, 16, 32, 64 y 128 bits y los tipos `Int8`, `Int16`, `Int32`, `Int64` y `Int128` para representar enteros con signo de 8, 16, 32, 64 y 128 bits. Por defecto, Julia utiliza enteros con signo de 64 bits. Por ende, si Ud. escribe\n",
    "\n",
    "    42\n",
    "    \n",
    "Julia asumirá que dicho número es un número entero de tipo `Int64`. Si Ud. desea que dicho número sea de tipo entero sin signo y 16 bits, simplemente escriba\n",
    "\n",
    "    UInt16(42)\n",
    "\n",
    "Para más detalle, visite la ayuda correspondiente de la página de Julia:\n",
    "\n",
    "* [https://docs.julialang.org/en/v1/manual/integers-and-floating-point-numbers/#Integers](https://docs.julialang.org/en/v1/manual/integers-and-floating-point-numbers/#Integers)\n",
    "\n",
    "A contiuación, ingrese un número de cada tipo."
   ]
  },
  {
   "cell_type": "code",
   "execution_count": 2,
   "metadata": {},
   "outputs": [
    {
     "name": "stdout",
     "output_type": "stream",
     "text": [
      "15"
     ]
    }
   ],
   "source": [
    "a = UInt16(15)\n",
    "print(\"$(a)\")"
   ]
  },
  {
   "cell_type": "markdown",
   "metadata": {},
   "source": [
    "### Ejercicio 9: números flotantes\n",
    "\n",
    "De manera similar a lo que ocurre con los números enteros, Julia puede representar números flotantes de diferentes tipos de precisión. Por defecto, Julia asume que los números flotantes son de 64 bits. Por ejemplo, Julia traduce\n",
    "\n",
    "        1.0\n",
    "        \n",
    "al número `Float64(1.0)`. \n",
    "\n",
    "Ingrese números flotantes de 16, 32 y 64 bits."
   ]
  },
  {
   "cell_type": "code",
   "execution_count": 6,
   "metadata": {},
   "outputs": [
    {
     "name": "stdout",
     "output_type": "stream",
     "text": [
      "1.54\n",
      "1.3\n",
      "3.1\n"
     ]
    }
   ],
   "source": [
    "x = Float64(1.54)\n",
    "y = Float32(1.30)\n",
    "z = Float16(3.1)\n",
    "println(\"$(x)\\n$(y)\\n$(z)\")"
   ]
  },
  {
   "cell_type": "markdown",
   "metadata": {},
   "source": [
    "### Ejercicio 10: variables\n",
    "\n",
    "Las variables se usan para almacenar valores. Los valores pueden ser números, strings, arrays, etc. Por ejemplo, en Julia podemos asignar un valor a una variable `x` utilizando la siguiente sintaxis\n",
    "\n",
    "    x = 10.0\n",
    "    \n",
    "Cree diferentes variables asignandole diferentes valores. Modifique luego el valor de las variables."
   ]
  },
  {
   "cell_type": "code",
   "execution_count": 9,
   "metadata": {},
   "outputs": [
    {
     "name": "stdout",
     "output_type": "stream",
     "text": [
      "15.0\n"
     ]
    }
   ],
   "source": [
    "x = 10 \n",
    "y = x/2\n",
    "x = y+x\n",
    "if x<100\n",
    "    println(\"$(x)\")\n",
    "else \n",
    "    println(\"$(y)\")\n",
    "end"
   ]
  },
  {
   "cell_type": "markdown",
   "metadata": {},
   "source": [
    "### Ejercicio 11: print\n",
    "\n",
    "Las funciones `print` y `println` nos permiten imprimir cosas en pantalla. Por ejemplo\n",
    "\n",
    "    println(\"Hola mundo!\")\n",
    "    \n",
    "imprimirá\n",
    "\n",
    "    Hola mundo!\n",
    "\n",
    "Se puede usar el concepto de *interpolacion* imprimir el valor de variables. Por ejemplo\n",
    "\n",
    "    x = 10.0\n",
    "    \n",
    "    println(\"El valor de x es $(x)\")\n",
    "    \n",
    "Para más información, lea la documentación correspondiente en la página de Julia\n",
    "\n",
    "* [https://docs.julialang.org/en/v1/manual/strings/#string-interpolation](https://docs.julialang.org/en/v1/manual/strings/#string-interpolation)\n",
    "    \n",
    "Use interpolación para imprimir el valor de las variables definidas arriba.    "
   ]
  },
  {
   "cell_type": "code",
   "execution_count": 10,
   "metadata": {},
   "outputs": [
    {
     "name": "stdout",
     "output_type": "stream",
     "text": [
      "15.0\n"
     ]
    }
   ],
   "source": [
    "println(\"$(x)\")"
   ]
  },
  {
   "cell_type": "markdown",
   "metadata": {},
   "source": [
    "### Ejercicio 12: operadores aritméticos\n",
    "\n",
    "Los operadores aritméticos nos permiten realizar operaciones aritméticas sobre expressiones y/o variables con valores numéricos. Por ejemplo, podemos cambiar de signo, sumar, restar, multiplicar, divir y exponenciar enteros, escribiendo\n",
    "\n",
    "       -3\n",
    "        3 + 4\n",
    "        3 - 4\n",
    "        3 * 4\n",
    "        3 / 4   # División flotante de 3 sobre 4\n",
    "        3 \\ 4   # División flotante de 4 sobre 3\n",
    "        3 ÷ 4   # División entera de 3 sobre 4\n",
    "        3 % 4   # Resto de la división entera de 3 sobre 4\n",
    "        3 ^ 4   # Exponenciación\n",
    "    \n",
    "Para más información, visite la documentación de Julia al respecto\n",
    "\n",
    "* [https://docs.julialang.org/en/v1/manual/mathematical-operations/](https://docs.julialang.org/en/v1/manual/mathematical-operations/)\n",
    "    \n",
    "Pruebe evaluar estas expresiones Ud. mismo. Que ocurre en el caso de las divisiones? Repita las anteriores operaciones con números flotantes. Es posible sumar strings? Y multiplicarlas?"
   ]
  },
  {
   "cell_type": "code",
   "execution_count": 18,
   "metadata": {},
   "outputs": [
    {
     "data": {
      "text/plain": [
       "3"
      ]
     },
     "execution_count": 18,
     "metadata": {},
     "output_type": "execute_result"
    }
   ],
   "source": [
    "\n",
    "3%5"
   ]
  },
  {
   "cell_type": "markdown",
   "metadata": {},
   "source": [
    "### Ejercicio 13: operadores booleanos\n",
    "\n",
    "Los operadores booleanos permiten realizar operaciones lógicas con los valores booleanos `true` y `false` (verdadero y falso). Por ejemplo, si `x` e `y` representan variables (o constantes) de valores booleanos, podemos aplicar el operador unario de *negación* (cambiar de verdadero a falso y viceversa)\n",
    "\n",
    "        !x\n",
    "        \n",
    "o podemos aplicar los operadores binarios *and* y *or*\n",
    "\n",
    "        x && y\n",
    "        x || y\n",
    "        \n",
    "respectivamente.\n",
    "\n",
    "También existen los operadores de comparación, los cuales retornan un valor booleano. Por ejemplo, los operadores aritméticos `==`, `<`, `>`, `<=`, `>=` (igual, menor, mayor, menor o igual, mayor o igual).\n",
    "\n",
    "Para más información, visite la documentación de Julia al respecto\n",
    "\n",
    "* [https://docs.julialang.org/en/v1/manual/mathematical-operations/](https://docs.julialang.org/en/v1/manual/mathematical-operations/)\n",
    "\n",
    "Para todas las combinaciones posibles de los valores booleanos de las variables `x` e `y`, calcule los valores booleanos de las expresiones `!x`, `x && y` y `x || y`.\n",
    "\n",
    "Luego, asigne valores aritméticos a `x` e `y` y evalúe los operadores de comparación. \n",
    "\n",
    "Pueden compararse strings?"
   ]
  },
  {
   "cell_type": "code",
   "execution_count": 59,
   "metadata": {},
   "outputs": [
    {
     "name": "stdout",
     "output_type": "stream",
     "text": [
      "-0.08972117576750137\n",
      "x no es entero\n"
     ]
    }
   ],
   "source": [
    "x = randn()\n",
    "println(\"$(x)\")\n",
    "if typeof(x) == Int\n",
    "    println(\"x es un entero\")\n",
    "else \n",
    "    println(\"x no es entero\") \n",
    "end\n",
    "        \n"
   ]
  },
  {
   "cell_type": "markdown",
   "metadata": {},
   "source": [
    "### Ejercicio 14: condicionales\n",
    "\n",
    "Existen diferentes formas de controlar el flujo de un programa. Las expresiones condicionales sirven para controlar el flujo de un programa. La más común de ellas es el comando `if`. Veamos un ejemplo\n",
    "\n",
    "        x = 1\n",
    "        if x > 0\n",
    "            println(\"Si\");\n",
    "        else\n",
    "            println(\"No\");        \n",
    "        end\n",
    "        \n",
    "Evalúe el ejemplo. Luego, intente combiar operadores del ejercicio 13 con el if."
   ]
  },
  {
   "cell_type": "code",
   "execution_count": 40,
   "metadata": {},
   "outputs": [
    {
     "name": "stdout",
     "output_type": "stream",
     "text": [
      "Si\n"
     ]
    }
   ],
   "source": [
    "x = 1\n",
    "if x >= 0 \n",
    "    println(\"Si\")\n",
    "else\n",
    "    println(\"No\")\n",
    "end"
   ]
  },
  {
   "cell_type": "markdown",
   "metadata": {},
   "source": [
    "### Ejercicio 13: loops\n",
    "\n",
    "Los loops proveen de otra forma de controlar el flujo de un programa. El fomando `for` provee la forma más común de implementar loops en Julia. Por ejemplo\n",
    "\n",
    "        for i in 1:10\n",
    "           println(\"$i\") \n",
    "        end\n",
    "        \n",
    "Para más información, puede leer la documentación de Julia al respecto\n",
    "\n",
    "* [https://docs.julialang.org/en/v1/base/base/#for](https://docs.julialang.org/en/v1/base/base/#for)\n",
    "        \n",
    "Pruebe el ejemplo anterior. Modifíquelo para que imprima los números 1,2,4,8,16,32,64,128,256.   "
   ]
  },
  {
   "cell_type": "code",
   "execution_count": 60,
   "metadata": {},
   "outputs": [
    {
     "name": "stdout",
     "output_type": "stream",
     "text": [
      "2\n",
      "4\n",
      "8\n",
      "16\n",
      "32\n",
      "64\n",
      "128\n",
      "256\n",
      "512\n",
      "1024\n"
     ]
    }
   ],
   "source": [
    "for x in 1:10\n",
    "    println(\"$(2^x)\")\n",
    "end\n"
   ]
  },
  {
   "cell_type": "markdown",
   "metadata": {},
   "source": [
    "### Ejercicio 15: funciones\n",
    "\n",
    "Las funciones proveen otra forma de controlar el flujo de un programa. En Julia, existen varias maneras de implementar una función. A continuación ejemplificamos las dos más simples. La primer forma se utiliza para definir funciones que puedan escribirse en una linea\n",
    "\n",
    "    f(x,y) = 2*x+y^3\n",
    "    f(3,4)\n",
    "    \n",
    "La segunda forma, sirve para definir funciones mas complejas    \n",
    "    \n",
    "    function g(i,n)\n",
    "        for j = 1:n\n",
    "            m=i^j\n",
    "            println(\"$m\")\n",
    "        end\n",
    "    end\n",
    "    g(2,5)\n",
    "    \n",
    "Implemente y pruebe ambas funciones. Luego, implemente y pruebe una función que retorne si un número es par o no. "
   ]
  },
  {
   "cell_type": "code",
   "execution_count": 103,
   "metadata": {},
   "outputs": [
    {
     "name": "stdout",
     "output_type": "stream",
     "text": [
      "4 es par\n"
     ]
    }
   ],
   "source": [
    "function g(j)\n",
    "    if iseven(j) \n",
    "        println(\"$(j) es par\")\n",
    "    else \n",
    "        println(\"$(j) es impar\")\n",
    "    end\n",
    "end\n",
    "g(4)"
   ]
  },
  {
   "cell_type": "markdown",
   "metadata": {},
   "source": [
    "### Ejercicio 16: arrays\n",
    "\n",
    "El uso de vectores, matrices y tensores en general es muy común en el cálculo numérico. Los arreglos o *arrays* constituyen la forma más común de representar estos objetos matemáticos en un programa. Por ejemplo, para definir un array 1D de 5 números enteros, podemos escribir\n",
    "\n",
    "    a = Array{Int64}(undef,5)\n",
    "    \n",
    "Luego, para acceder al í-esimo elemento del array escribimos `a[i]`. De esta manera, podemos asignar valores a los elementos del array escribiendo\n",
    "\n",
    "    for i in 1:length(a)\n",
    "       a[i] = 100\n",
    "    end\n",
    "\n",
    "y luego ver que, efectivamente las entradas del array valen 100. Por ejemplo, para ver el valor almacenado en la entrada 3 escribimos\n",
    "\n",
    "    a[3]\n",
    "    \n",
    "Para definir un array 2D de dimensiones 3x4 de números flotantes de 64 bits, escribimos\n",
    "\n",
    "    b = Array{Float64}(undef,(3,4))\n",
    "    \n",
    "y para acceder al elemento i,j-ésimo escribimos `b[i,j]`.\n",
    "\n",
    "Cree y asigne valores al array `a`. Repita lo anterior para el array `b`. Luego, fabrique un array de números flotantes de 3D."
   ]
  },
  {
   "cell_type": "code",
   "execution_count": 140,
   "metadata": {},
   "outputs": [
    {
     "data": {
      "text/plain": [
       "2×2×2 Array{Any, 3}:\n",
       "[:, :, 1] =\n",
       "  \"cos(x)\"   \"sen(x)\"\n",
       " 5          6\n",
       "\n",
       "[:, :, 2] =\n",
       "  \"tan(x)\"   \"e^x\"\n",
       " 8          7"
      ]
     },
     "execution_count": 140,
     "metadata": {},
     "output_type": "execute_result"
    }
   ],
   "source": [
    "a = Array{Any,3}(undef,(2,2,2))\n",
    "a[1,1,1] = \"cos(x)\"\n",
    "a[1,2,1] = \"sen(x)\"\n",
    "a[1,1,2] = \"tan(x)\"\n",
    "a[1,2,2] = \"e^x\"\n",
    "a[2,1,1] = 5\n",
    "a[2,2,1] = 6\n",
    "a[2,2,2] = 7\n",
    "a[2,1,2] = 8\n",
    "\n",
    "a\n",
    "\n"
   ]
  },
  {
   "cell_type": "markdown",
   "metadata": {},
   "source": [
    "### Ejercicio 17: gráficos\n",
    "\n",
    "Grafique la función seno en el intervalo $[0,2\\pi]$. Para ello, primero importe el paquete `Plots` escribiendo\n",
    "\n",
    "     using Plots\n",
    "    \n",
    "y luego realize el gráfico con el programa\n",
    "\n",
    "     plot(0:0.01:2*π,sin,xlabel=\"x\",ylabel=\"sen(x)\",label=\"\")\n",
    "     \n",
    "Luego, buscando la documentación del paquete `Plots` de Julia\n",
    "\n",
    "* [https://docs.juliaplots.org/stable/tutorial/#tutorial](https://docs.juliaplots.org/stable/tutorial/#tutorial)\n",
    "\n",
    "determine que es lo que indica cada argumento pasado a la función `plots` en el anterior programa."
   ]
  },
  {
   "cell_type": "code",
   "execution_count": 61,
   "metadata": {},
   "outputs": [
    {
     "ename": "LoadError",
     "evalue": "ArgumentError: Package Plots not found in current path.\n- Run `import Pkg; Pkg.add(\"Plots\")` to install the Plots package.",
     "output_type": "error",
     "traceback": [
      "ArgumentError: Package Plots not found in current path.\n- Run `import Pkg; Pkg.add(\"Plots\")` to install the Plots package.",
      "",
      "Stacktrace:",
      " [1] macro expansion",
      "   @ ./loading.jl:1163 [inlined]",
      " [2] macro expansion",
      "   @ ./lock.jl:223 [inlined]",
      " [3] require(into::Module, mod::Symbol)",
      "   @ Base ./loading.jl:1144"
     ]
    }
   ],
   "source": [
    "using Plots\n",
    "x = range(0, 10, length=100)\n",
    "y = sin.(x)\n",
    "y_noisy = @. sin(x) + 0.2*randn()\n",
    "\n",
    "plot(x, y, label=\"sin(x)\")\n",
    "plot!(x, y_noisy, seriestype=:scatter, label=\"data\")\n"
   ]
  },
  {
   "cell_type": "markdown",
   "metadata": {},
   "source": [
    "## Parte 3 : Errores numéricos"
   ]
  },
  {
   "cell_type": "markdown",
   "metadata": {},
   "source": [
    "### Problema 1\n",
    "\n",
    "Evaluar las siguientes operaciones matemáticas, una por celda. Tenga en cuenta que, en Julia, la división entera se representa por el símbolo ÷.\n",
    "\n",
    "    A = 5 ÷ 2 + 20 ÷ 6\n",
    "    B = 4 * 6 ÷ 2 - 15 ÷ 2\n",
    "    C = 5 * 15 ÷ 2 ÷ (4 - 2)\n",
    "    D = 1 + 1 ÷ 4\n",
    "    E = 1. + 1 ÷ 4\n",
    "    F = 1 + 1. / 4\n",
    "    G = 1. + 1. / 4.\n",
    "    \n",
    "En que se diferencian los casos, D, E, F y G?"
   ]
  },
  {
   "cell_type": "code",
   "execution_count": null,
   "metadata": {},
   "outputs": [],
   "source": []
  },
  {
   "cell_type": "markdown",
   "metadata": {},
   "source": [
    "### Problema 2\n",
    "\n",
    "Implemente una función que pida dos numeros reales y retorne el mayor de ellos, ó retorne el string `\"iguales\"` si son iguales. Pruebe la función para los casos\n",
    "\n",
    "    f(1,2)\n",
    "    f(2,1)\n",
    "    f(0.0,0.0)\n",
    "    f(0.0,10.0^(-500))\n",
    "    \n",
    "Explique que ocurre en el último caso.    "
   ]
  },
  {
   "cell_type": "code",
   "execution_count": 5,
   "metadata": {},
   "outputs": [
    {
     "name": "stdout",
     "output_type": "stream",
     "text": [
      "Son Iguales\n"
     ]
    }
   ],
   "source": [
    "function f(x,y)\n",
    "    if x>y\n",
    "        println(\"$(x)\")\n",
    "    elseif x<y\n",
    "        println(\"$(y)\")\n",
    "    else\n",
    "        println(\"Son Iguales\")\n",
    "    end\n",
    "end\n",
    "f(0.0,10.0^(-500))"
   ]
  },
  {
   "cell_type": "markdown",
   "metadata": {},
   "source": [
    "### Problema 3\n",
    "\n",
    "Implemente una función que pida un número entero y retorne un booleano determinando si es multiplo de 2 y de 5.\n",
    "Testee la función con ejemplos."
   ]
  },
  {
   "cell_type": "code",
   "execution_count": 20,
   "metadata": {},
   "outputs": [
    {
     "name": "stdout",
     "output_type": "stream",
     "text": [
      "True\n"
     ]
    }
   ],
   "source": [
    "function g(i)\n",
    "    x = i%2\n",
    "    y = i%5\n",
    "    if x == 0 && y == 0\n",
    "        println(\"True\")\n",
    "    else \n",
    "        println(\"False\")\n",
    "    end\n",
    "end\n",
    "g(20)"
   ]
  },
  {
   "cell_type": "markdown",
   "metadata": {},
   "source": [
    "### Problema 6\n",
    "\n",
    "Implemente una función que pida los coeficientes $A$, $B$ y $C$ de un polinomio real de segundo grado ($A x^2 + B x + C$), calcule e imprima en pantalla las dos raíces del polinomio en formato complejo $a + i b$, sin\n",
    "utilizar algebra compleja.\n",
    "Testee la función con ejemplos."
   ]
  },
  {
   "cell_type": "markdown",
   "metadata": {},
   "source": [
    "**Teoría**\n",
    "\n",
    "Dados\n",
    "$$\n",
    "a = -\\frac{B}{2A}\\in \\mathbb{R}\n",
    "\\;\\;\\;\\;\n",
    "\\mbox{y}\n",
    "\\;\\;\\;\\;\n",
    "b = \\frac{\\sqrt{\\left|B^2-4AC\\right|}}{2A}\\in \\mathbb{R}\n",
    "$$ \n",
    "luego, las soluciones de \n",
    "$$\n",
    "A x^2 + B x + C=0\n",
    "$$\n",
    "son\n",
    "$$\n",
    "x_{\\pm} = a\\pm b\n",
    "$$\n",
    "si el discriminante satisface\n",
    "$$\n",
    "B^2-4AC \\geq 0\n",
    "$$\n",
    "ó son\n",
    "$$\n",
    "x_{\\pm} = a\\pm ib\n",
    "$$\n",
    "en caso contrario."
   ]
  },
  {
   "cell_type": "code",
   "execution_count": 47,
   "metadata": {},
   "outputs": [
    {
     "name": "stdout",
     "output_type": "stream",
     "text": [
      "1.0\n"
     ]
    }
   ],
   "source": [
    "function f(A,B,C)\n",
    "    a = (-B)/2*A\n",
    "    d = (B^2)-(4*A*C)\n",
    "    b = sqrt(abs(d))/2*A\n",
    "    if A == 0 && B == 0\n",
    "        println(\"error: A o B tienen que ser distintos a O\")\n",
    "    elseif A == 0\n",
    "        println(\"$((-C)/B)\")\n",
    "    else\n",
    "        if d >= 0\n",
    "            println(\"$(a+b)\\n$(a-b)\")\n",
    "        else\n",
    "            println(\"$(a)+i($(b))\\n$(a)-i($(b))\")\n",
    "        end\n",
    "    end\n",
    "end\n",
    "f(0,1,-1)"
   ]
  },
  {
   "cell_type": "markdown",
   "metadata": {},
   "source": [
    "### Problema 7\n",
    "\n",
    "Implemente una función que compute la suma en precisión simple (float de 32 bits)\n",
    "$$\n",
    "\\sum_{n=1}^{10\\,000\\,000} \\frac{1}{n}\n",
    "$$\n",
    "en el orden usual.\n",
    "Luego, implemente otra que compute la suma en el orden opuesto, también en precisión simple.\n",
    "Luego, repita todo el proceso para precisión doble (float de 64 bits).\n",
    "Ejecute todas funciones, observe los resultados y describa las diferencias obtenidas.\n",
    "En particular, indique cuál función es más precisa y explique porqué."
   ]
  },
  {
   "cell_type": "code",
   "execution_count": 26,
   "metadata": {},
   "outputs": [
    {
     "name": "stdout",
     "output_type": "stream",
     "text": [
      "32 o 64?\n",
      "stdin> 32\n"
     ]
    },
    {
     "data": {
      "text/plain": [
       "14.357358f0"
      ]
     },
     "execution_count": 26,
     "metadata": {},
     "output_type": "execute_result"
    }
   ],
   "source": [
    "function f()\n",
    "x = 0\n",
    "    println(\"32 o 64?\")\n",
    "y = parse(Int32,readline())\n",
    "    if y == 32\n",
    "        for n in 1:1000000\n",
    "            x += Float32(1/n)\n",
    "        end\n",
    "        return x\n",
    "    elseif y == 64\n",
    "        for n in 1:1000000\n",
    "            x += Float64(1/n)\n",
    "        end\n",
    "        return x\n",
    "    end\n",
    "    \n",
    "end\n",
    "f()"
   ]
  },
  {
   "cell_type": "markdown",
   "metadata": {},
   "source": [
    "Bla bla ..."
   ]
  },
  {
   "cell_type": "markdown",
   "metadata": {},
   "source": [
    "### Problema 8\n",
    "\n",
    "Diseñar una función que calcule la potencia enésima de un número, es decir que devuelva $x^n$ para $x$ real y $n$ entero. Realice un programa que utilice la función e imprima en pantalla las primeras 5 potencias naturales de un número ingresado."
   ]
  },
  {
   "cell_type": "code",
   "execution_count": 19,
   "metadata": {},
   "outputs": [
    {
     "name": "stdout",
     "output_type": "stream",
     "text": [
      "stdin> 2\n",
      "2.0\n",
      "4.0\n",
      "8.0\n",
      "16.0\n",
      "32.0\n"
     ]
    }
   ],
   "source": [
    "function p(x,n)\n",
    "    a = x^n\n",
    "end\n",
    "c = parse(Float64, readline())\n",
    "for i in 1:5\n",
    "    println(\"$(p(c,i))\")\n",
    "end"
   ]
  },
  {
   "cell_type": "markdown",
   "metadata": {},
   "source": [
    "### Problema 9\n",
    "\n",
    "Implemente una función que tome una matriz $A$ de dimensión $M\\times N$ y un vector $v$ de dimensión $N$ y retorne un vector de dimensión $M$ igual al producto matricial $Av$.\n",
    "\n",
    "Ralice varias pruebas de la función.\n",
    "\n",
    "**Ayuda:** Lea [https://docs.julialang.org/en/v1/base/arrays/](https://docs.julialang.org/en/v1/base/arrays/)."
   ]
  },
  {
   "cell_type": "code",
   "execution_count": 30,
   "metadata": {},
   "outputs": [
    {
     "data": {
      "text/plain": [
       "2-element Vector{Int64}:\n",
       " 16\n",
       " 11"
      ]
     },
     "execution_count": 30,
     "metadata": {},
     "output_type": "execute_result"
    }
   ],
   "source": [
    "using LinearAlgebra\n",
    "m = 0\n",
    "n = 0\n",
    "function h()\n",
    "    C = A*B \n",
    "    return C\n",
    "end\n",
    "A = [1 3 ; 1 2]\n",
    "B = [1 ; 5]\n",
    "h()"
   ]
  },
  {
   "cell_type": "markdown",
   "metadata": {},
   "source": [
    "### Problema 10\n",
    "\n",
    "Se determinaron 9 mediciones de concentraciones de fósforo en un campo y los datos obtenidos fueron:\n",
    "\n",
    "    479.80 \n",
    "    499.10 \n",
    "    510.20 \n",
    "    508.60\n",
    "    503.30\n",
    "    501.20\n",
    "    507.30\n",
    "    499.90\n",
    "    468.60\n",
    "    \n",
    "* Cargue los datos en un array.\n",
    "\n",
    "* Escriba un programa que calcule el promedio y la [estimación de la desviación estandard no sesgada](https://es.wikipedia.org/wiki/Estimaci%C3%B3n_de_la_desviaci%C3%B3n_est%C3%A1ndar_no_sesgada) del array de datos.\n",
    "\n",
    "**Ayudas:**\n",
    "\n",
    "* Puede crear el vector a mano, o puede intentar usando las funciones [split](https://docs.julialang.org/en/v1/base/strings/#Base.split) y [parse](https://docs.julialang.org/en/v1/base/numbers/#Base.parse), o puede intentar usar usar los paquetes [CSV](https://csv.juliadata.org/stable/) y [DataFrames](https://dataframes.juliadata.org/stable/).\n",
    "\n",
    "* El *promedio* de una serie de mediciones $x_1, x_2, ..., x_n$ se defined como\n",
    "\n",
    "    $$\n",
    "    \\overline{x} = \\frac{1}{n} \\sum_{i=1}^n x_i\n",
    "    $$\n",
    "\n",
    "    y la *estimación de la desviación estandard no sesgada* como\n",
    "    \n",
    "    $$\n",
    "    s_x = \\sqrt{\\frac{1}{n-1}\\sum_{i=1}^n (x_i-\\overline{x})^2}\n",
    "    $$"
   ]
  },
  {
   "cell_type": "code",
   "execution_count": 232,
   "metadata": {},
   "outputs": [
    {
     "data": {
      "text/plain": [
       "497.55555555555566"
      ]
     },
     "execution_count": 232,
     "metadata": {},
     "output_type": "execute_result"
    }
   ],
   "source": [
    "A = [479.80, 499.10, 510.20, 508.60, 503.30, 501.20, 507.30, 499.90, 468.60]\n",
    "function prom()\n",
    "    x = (1/length(A))*Base.sum(A)\n",
    "    return x\n",
    "end\n",
    "function desv()\n",
    "    y = 0\n",
    "    s = 0\n",
    "    for i in 1:length(A)\n",
    "        y = (A[i]-prom())^2 + y\n",
    "        s = sqrt(1/(length(A)-1)*y)\n",
    "    end\n",
    "    return s\n",
    "end\n",
    "desv()\n",
    "prom()"
   ]
  },
  {
   "cell_type": "markdown",
   "metadata": {},
   "source": [
    "### Problema 11\n",
    "\n",
    "Escriba una funcion que retorne el *string* de la representación en base $b \\leq 16$ de un número natural $n$. Por ejemplo, para $n=42$, la función tiene que retornar `\"101010\"` si $b=2$ (representación binaria), y tiene que retornar `\"2A\"` si $b=16$ (representación hexadecimal).\n",
    "\n",
    "**Ayuda:** Utilice las operaciones división entera `÷` y resto `%`, la concatenación de *string* s (i.e. el operador ` *`) y utilice una *string* `\"0123456789ABCDEF\"` con todos los dígitos necesarios."
   ]
  },
  {
   "cell_type": "code",
   "execution_count": 33,
   "metadata": {},
   "outputs": [
    {
     "name": "stdout",
     "output_type": "stream",
     "text": [
      "Resultado: 302E\n"
     ]
    }
   ],
   "source": [
    "function Converter(n,base)\n",
    "    decimal = n # Guardo un numero decimal\n",
    "     baseN = \"\"# En esta variable almaceno el valor en otra base con letras\n",
    "    while decimal != 0\n",
    "        # Cambia los digitos por los de la otra base\n",
    "        resto = decimal % base\n",
    "        rem = CambiarDigitos(resto)\n",
    "        # Da a la varibale \"en la nueva base\" con los nuevos valores\n",
    "        baseN = string(rem) * baseN\n",
    "        decimal = decimal ÷ base\n",
    "    end\n",
    "    println(\"Resultado: $(baseN)\") # Muestra el resultado\n",
    "end\n",
    "\n",
    "function CambiarDigitos(digitos) # Traduce los digitos a hexadecimales\n",
    "    decimales = [10 , 11 , 12 , 13 , 14 , 15 ]\n",
    "    hexadecimal = [\"A\", \"B\", \"C\", \"D\", \"E\", \"F\"]\n",
    "    for i in 1:length(decimales)\n",
    "        if digitos == decimales[i]\n",
    "            digitos = hexadecimal[i]\n",
    "        end\n",
    "    end\n",
    "    return digitos\n",
    "end\n",
    "Converter(12334,16)"
   ]
  },
  {
   "cell_type": "code",
   "execution_count": 31,
   "metadata": {},
   "outputs": [
    {
     "data": {
      "text/plain": [
       "1"
      ]
     },
     "execution_count": 31,
     "metadata": {},
     "output_type": "execute_result"
    }
   ],
   "source": [
    "length(6)"
   ]
  },
  {
   "cell_type": "markdown",
   "metadata": {},
   "source": [
    "### Problema 12\n",
    "\n",
    "Efectúe con un programa en Julia en simple precisión los siguientes cálculos matemáticamente equivalentes,\n",
    "\n",
    "**a)** $1\\,000\\,000 \\times 0.1$\n",
    "\n",
    "**b)** $\\sum_{n=1}^{1\\,000\\,000} 0.1$\n",
    "\n",
    "**c)** $\\sum_{n=1}^{1\\,000} \\left( \\sum_{m=1}^{1\\,000} 0.1\\right)$\n",
    "\n",
    "1. Vaya guardando en vectores los errores parciales cada 1000 iteraciones en el caso **b)**, y en todas las iteraciones de la suma externa en **c)**, de manera que cada suma parcial comprenda 1000 términos de la suma total.\n",
    "\n",
    "2. Grafique de manera comparativa dichos errores en función de los correspondientes valores de $n$. Incluya en el gráfico nombres adecuados en los ejes y con leyendas adecuadas. \n",
    "\n",
    "3. Repita el gráfico utilizando escala logarítmica en el eje $y$.\n",
    "\n",
    "4. Utilce los resultados anteriores para explicar las diferencias obtenidas entre resultados finales de **a)**, **b)** y **c)** y muestre que el error relativo en **b)** es del orden del $1\\%$, pero es mucho menor en **c)**."
   ]
  },
  {
   "cell_type": "code",
   "execution_count": 18,
   "metadata": {},
   "outputs": [
    {
     "data": {
      "text/plain": [
       "0"
      ]
     },
     "execution_count": 18,
     "metadata": {},
     "output_type": "execute_result"
    }
   ],
   "source": [
    "# no salio\n"
   ]
  },
  {
   "cell_type": "markdown",
   "metadata": {},
   "source": [
    "### Problema 13\n",
    "\n",
    "**Serie de Taylor, aproximaciones y errores**\n",
    "\n",
    "La siguiente fórmula permite expresar, usando la serie de Taylor a partir del punto $x=0$, la función *seno* como suma (infinita) de potencias:\n",
    "\n",
    "$$\n",
    "\\sin(x) = \\sum_{j=0}^{\\infty} \\frac{(-1)^j}{(2j+1)!}x^{2j+1}\n",
    "$$\n",
    "\n",
    "Podemos approximar esta expresión en la computadora truncando la serie en algún valor finito de $n$.\n",
    "\n",
    "1. Defina una función, `sin_n(x,n)` que tome como argumentos un valor de la variable `x` y un valor de `n` y devuelva el valor de la suma hasta dicho $n$. \n",
    "    \n",
    "2. Grafique en el intervalo $[0, 2π]$ dicha función para los distintos valores de $n=6,7,8$ y agregue en el mismo gráfico la función `sin(x)` que viene pre-definida en Julia.\n",
    "    \n",
    "3. En otro gráfico grafique el *error* entre la aproximación con $n=8$ y la función estandard de Julia. \n",
    "    \n",
    "4. Defina una nueva función, `sin_n_inv(x,n)` idéntica a al anterior pero donde la suma se haga en orden inverso.\n",
    "    \n",
    "5. Compare los errores obtenidos con `sin_n(x,n)` y `sin_n_inv(x,n)` para `n=8` en el rango $[0,1]$.\n",
    "\n",
    "6. Repita la comparación anterior utilizando precisión simple (i.e. numero flotante de 32 bits). \n",
    "\n",
    "7. Explique las diferencias observadas entre 5. y 6.\n",
    "\n",
    "**Ayudas:** \n",
    "\n",
    "* Para calcular el factorial de un número entero use la función `factorial`.\n",
    "\n",
    "* `Float32(x)` retorna el valor de `x` en precisión simple.\n",
    "\n",
    "* Las expresiones `zero(x)` y `one(x)` retornan 0 y 1, respectivamente, en la misma precisión que la variable `x`."
   ]
  },
  {
   "cell_type": "code",
   "execution_count": 64,
   "metadata": {},
   "outputs": [
    {
     "data": {
      "image/svg+xml": [
       "<?xml version=\"1.0\" encoding=\"utf-8\"?>\n",
       "<svg xmlns=\"http://www.w3.org/2000/svg\" xmlns:xlink=\"http://www.w3.org/1999/xlink\" width=\"600\" height=\"400\" viewBox=\"0 0 2400 1600\">\n",
       "<defs>\n",
       "  <clipPath id=\"clip120\">\n",
       "    <rect x=\"0\" y=\"0\" width=\"2400\" height=\"1600\"/>\n",
       "  </clipPath>\n",
       "</defs>\n",
       "<path clip-path=\"url(#clip120)\" d=\"M0 1600 L2400 1600 L2400 0 L0 0  Z\" fill=\"#ffffff\" fill-rule=\"evenodd\" fill-opacity=\"1\"/>\n",
       "<defs>\n",
       "  <clipPath id=\"clip121\">\n",
       "    <rect x=\"480\" y=\"0\" width=\"1681\" height=\"1600\"/>\n",
       "  </clipPath>\n",
       "</defs>\n",
       "<path clip-path=\"url(#clip120)\" d=\"M211.325 1423.18 L2352.76 1423.18 L2352.76 47.2441 L211.325 47.2441  Z\" fill=\"#ffffff\" fill-rule=\"evenodd\" fill-opacity=\"1\"/>\n",
       "<defs>\n",
       "  <clipPath id=\"clip122\">\n",
       "    <rect x=\"211\" y=\"47\" width=\"2142\" height=\"1377\"/>\n",
       "  </clipPath>\n",
       "</defs>\n",
       "<polyline clip-path=\"url(#clip122)\" style=\"stroke:#000000; stroke-linecap:round; stroke-linejoin:round; stroke-width:2; stroke-opacity:0.1; fill:none\" points=\"271.931,1423.18 271.931,47.2441 \"/>\n",
       "<polyline clip-path=\"url(#clip122)\" style=\"stroke:#000000; stroke-linecap:round; stroke-linejoin:round; stroke-width:2; stroke-opacity:0.1; fill:none\" points=\"593.622,1423.18 593.622,47.2441 \"/>\n",
       "<polyline clip-path=\"url(#clip122)\" style=\"stroke:#000000; stroke-linecap:round; stroke-linejoin:round; stroke-width:2; stroke-opacity:0.1; fill:none\" points=\"915.313,1423.18 915.313,47.2441 \"/>\n",
       "<polyline clip-path=\"url(#clip122)\" style=\"stroke:#000000; stroke-linecap:round; stroke-linejoin:round; stroke-width:2; stroke-opacity:0.1; fill:none\" points=\"1237,1423.18 1237,47.2441 \"/>\n",
       "<polyline clip-path=\"url(#clip122)\" style=\"stroke:#000000; stroke-linecap:round; stroke-linejoin:round; stroke-width:2; stroke-opacity:0.1; fill:none\" points=\"1558.69,1423.18 1558.69,47.2441 \"/>\n",
       "<polyline clip-path=\"url(#clip122)\" style=\"stroke:#000000; stroke-linecap:round; stroke-linejoin:round; stroke-width:2; stroke-opacity:0.1; fill:none\" points=\"1880.39,1423.18 1880.39,47.2441 \"/>\n",
       "<polyline clip-path=\"url(#clip122)\" style=\"stroke:#000000; stroke-linecap:round; stroke-linejoin:round; stroke-width:2; stroke-opacity:0.1; fill:none\" points=\"2202.08,1423.18 2202.08,47.2441 \"/>\n",
       "<polyline clip-path=\"url(#clip120)\" style=\"stroke:#000000; stroke-linecap:round; stroke-linejoin:round; stroke-width:4; stroke-opacity:1; fill:none\" points=\"211.325,1423.18 2352.76,1423.18 \"/>\n",
       "<polyline clip-path=\"url(#clip120)\" style=\"stroke:#000000; stroke-linecap:round; stroke-linejoin:round; stroke-width:4; stroke-opacity:1; fill:none\" points=\"271.931,1423.18 271.931,1404.28 \"/>\n",
       "<polyline clip-path=\"url(#clip120)\" style=\"stroke:#000000; stroke-linecap:round; stroke-linejoin:round; stroke-width:4; stroke-opacity:1; fill:none\" points=\"593.622,1423.18 593.622,1404.28 \"/>\n",
       "<polyline clip-path=\"url(#clip120)\" style=\"stroke:#000000; stroke-linecap:round; stroke-linejoin:round; stroke-width:4; stroke-opacity:1; fill:none\" points=\"915.313,1423.18 915.313,1404.28 \"/>\n",
       "<polyline clip-path=\"url(#clip120)\" style=\"stroke:#000000; stroke-linecap:round; stroke-linejoin:round; stroke-width:4; stroke-opacity:1; fill:none\" points=\"1237,1423.18 1237,1404.28 \"/>\n",
       "<polyline clip-path=\"url(#clip120)\" style=\"stroke:#000000; stroke-linecap:round; stroke-linejoin:round; stroke-width:4; stroke-opacity:1; fill:none\" points=\"1558.69,1423.18 1558.69,1404.28 \"/>\n",
       "<polyline clip-path=\"url(#clip120)\" style=\"stroke:#000000; stroke-linecap:round; stroke-linejoin:round; stroke-width:4; stroke-opacity:1; fill:none\" points=\"1880.39,1423.18 1880.39,1404.28 \"/>\n",
       "<polyline clip-path=\"url(#clip120)\" style=\"stroke:#000000; stroke-linecap:round; stroke-linejoin:round; stroke-width:4; stroke-opacity:1; fill:none\" points=\"2202.08,1423.18 2202.08,1404.28 \"/>\n",
       "<path clip-path=\"url(#clip120)\" d=\"M271.931 1454.1 Q268.32 1454.1 266.491 1457.66 Q264.686 1461.2 264.686 1468.33 Q264.686 1475.44 266.491 1479.01 Q268.32 1482.55 271.931 1482.55 Q275.565 1482.55 277.371 1479.01 Q279.2 1475.44 279.2 1468.33 Q279.2 1461.2 277.371 1457.66 Q275.565 1454.1 271.931 1454.1 M271.931 1450.39 Q277.741 1450.39 280.797 1455 Q283.876 1459.58 283.876 1468.33 Q283.876 1477.06 280.797 1481.67 Q277.741 1486.25 271.931 1486.25 Q266.121 1486.25 263.042 1481.67 Q259.987 1477.06 259.987 1468.33 Q259.987 1459.58 263.042 1455 Q266.121 1450.39 271.931 1450.39 Z\" fill=\"#000000\" fill-rule=\"nonzero\" fill-opacity=\"1\" /><path clip-path=\"url(#clip120)\" d=\"M584.004 1481.64 L591.643 1481.64 L591.643 1455.28 L583.333 1456.95 L583.333 1452.69 L591.597 1451.02 L596.272 1451.02 L596.272 1481.64 L603.911 1481.64 L603.911 1485.58 L584.004 1485.58 L584.004 1481.64 Z\" fill=\"#000000\" fill-rule=\"nonzero\" fill-opacity=\"1\" /><path clip-path=\"url(#clip120)\" d=\"M909.966 1481.64 L926.285 1481.64 L926.285 1485.58 L904.341 1485.58 L904.341 1481.64 Q907.003 1478.89 911.586 1474.26 Q916.192 1469.61 917.373 1468.27 Q919.618 1465.74 920.498 1464.01 Q921.401 1462.25 921.401 1460.56 Q921.401 1457.8 919.456 1456.07 Q917.535 1454.33 914.433 1454.33 Q912.234 1454.33 909.78 1455.09 Q907.35 1455.86 904.572 1457.41 L904.572 1452.69 Q907.396 1451.55 909.85 1450.97 Q912.304 1450.39 914.341 1450.39 Q919.711 1450.39 922.905 1453.08 Q926.1 1455.77 926.1 1460.26 Q926.1 1462.39 925.29 1464.31 Q924.503 1466.2 922.396 1468.8 Q921.817 1469.47 918.716 1472.69 Q915.614 1475.88 909.966 1481.64 Z\" fill=\"#000000\" fill-rule=\"nonzero\" fill-opacity=\"1\" /><path clip-path=\"url(#clip120)\" d=\"M1241.25 1466.95 Q1244.61 1467.66 1246.48 1469.93 Q1248.38 1472.2 1248.38 1475.53 Q1248.38 1480.65 1244.86 1483.45 Q1241.34 1486.25 1234.86 1486.25 Q1232.69 1486.25 1230.37 1485.81 Q1228.08 1485.39 1225.63 1484.54 L1225.63 1480.02 Q1227.57 1481.16 1229.89 1481.74 Q1232.2 1482.32 1234.72 1482.32 Q1239.12 1482.32 1241.41 1480.58 Q1243.73 1478.84 1243.73 1475.53 Q1243.73 1472.48 1241.58 1470.77 Q1239.45 1469.03 1235.63 1469.03 L1231.6 1469.03 L1231.6 1465.19 L1235.81 1465.19 Q1239.26 1465.19 1241.09 1463.82 Q1242.92 1462.43 1242.92 1459.84 Q1242.92 1457.18 1241.02 1455.77 Q1239.14 1454.33 1235.63 1454.33 Q1233.7 1454.33 1231.51 1454.75 Q1229.31 1455.16 1226.67 1456.04 L1226.67 1451.88 Q1229.33 1451.14 1231.64 1450.77 Q1233.98 1450.39 1236.04 1450.39 Q1241.37 1450.39 1244.47 1452.83 Q1247.57 1455.23 1247.57 1459.35 Q1247.57 1462.22 1245.93 1464.21 Q1244.28 1466.18 1241.25 1466.95 Z\" fill=\"#000000\" fill-rule=\"nonzero\" fill-opacity=\"1\" /><path clip-path=\"url(#clip120)\" d=\"M1561.7 1455.09 L1549.9 1473.54 L1561.7 1473.54 L1561.7 1455.09 M1560.48 1451.02 L1566.36 1451.02 L1566.36 1473.54 L1571.29 1473.54 L1571.29 1477.43 L1566.36 1477.43 L1566.36 1485.58 L1561.7 1485.58 L1561.7 1477.43 L1546.1 1477.43 L1546.1 1472.92 L1560.48 1451.02 Z\" fill=\"#000000\" fill-rule=\"nonzero\" fill-opacity=\"1\" /><path clip-path=\"url(#clip120)\" d=\"M1870.66 1451.02 L1889.02 1451.02 L1889.02 1454.96 L1874.95 1454.96 L1874.95 1463.43 Q1875.96 1463.08 1876.98 1462.92 Q1878 1462.73 1879.02 1462.73 Q1884.81 1462.73 1888.19 1465.9 Q1891.57 1469.08 1891.57 1474.49 Q1891.57 1480.07 1888.09 1483.17 Q1884.62 1486.25 1878.3 1486.25 Q1876.13 1486.25 1873.86 1485.88 Q1871.61 1485.51 1869.2 1484.77 L1869.2 1480.07 Q1871.29 1481.2 1873.51 1481.76 Q1875.73 1482.32 1878.21 1482.32 Q1882.21 1482.32 1884.55 1480.21 Q1886.89 1478.1 1886.89 1474.49 Q1886.89 1470.88 1884.55 1468.77 Q1882.21 1466.67 1878.21 1466.67 Q1876.33 1466.67 1874.46 1467.08 Q1872.61 1467.5 1870.66 1468.38 L1870.66 1451.02 Z\" fill=\"#000000\" fill-rule=\"nonzero\" fill-opacity=\"1\" /><path clip-path=\"url(#clip120)\" d=\"M2202.48 1466.44 Q2199.33 1466.44 2197.48 1468.59 Q2195.65 1470.74 2195.65 1474.49 Q2195.65 1478.22 2197.48 1480.39 Q2199.33 1482.55 2202.48 1482.55 Q2205.63 1482.55 2207.46 1480.39 Q2209.31 1478.22 2209.31 1474.49 Q2209.31 1470.74 2207.46 1468.59 Q2205.63 1466.44 2202.48 1466.44 M2211.76 1451.78 L2211.76 1456.04 Q2210 1455.21 2208.2 1454.77 Q2206.42 1454.33 2204.66 1454.33 Q2200.03 1454.33 2197.57 1457.45 Q2195.14 1460.58 2194.8 1466.9 Q2196.16 1464.89 2198.22 1463.82 Q2200.28 1462.73 2202.76 1462.73 Q2207.97 1462.73 2210.98 1465.9 Q2214.01 1469.05 2214.01 1474.49 Q2214.01 1479.82 2210.86 1483.03 Q2207.71 1486.25 2202.48 1486.25 Q2196.49 1486.25 2193.31 1481.67 Q2190.14 1477.06 2190.14 1468.33 Q2190.14 1460.14 2194.03 1455.28 Q2197.92 1450.39 2204.47 1450.39 Q2206.23 1450.39 2208.01 1450.74 Q2209.82 1451.09 2211.76 1451.78 Z\" fill=\"#000000\" fill-rule=\"nonzero\" fill-opacity=\"1\" /><path clip-path=\"url(#clip120)\" d=\"M1298.65 1532.4 L1285.76 1549.74 L1299.32 1568.04 L1292.42 1568.04 L1282.04 1554.04 L1271.66 1568.04 L1264.76 1568.04 L1278.6 1549.39 L1265.94 1532.4 L1272.84 1532.4 L1282.29 1545.1 L1291.75 1532.4 L1298.65 1532.4 Z\" fill=\"#000000\" fill-rule=\"nonzero\" fill-opacity=\"1\" /><polyline clip-path=\"url(#clip122)\" style=\"stroke:#000000; stroke-linecap:round; stroke-linejoin:round; stroke-width:2; stroke-opacity:0.1; fill:none\" points=\"211.325,1328.99 2352.76,1328.99 \"/>\n",
       "<polyline clip-path=\"url(#clip122)\" style=\"stroke:#000000; stroke-linecap:round; stroke-linejoin:round; stroke-width:2; stroke-opacity:0.1; fill:none\" points=\"211.325,1018.29 2352.76,1018.29 \"/>\n",
       "<polyline clip-path=\"url(#clip122)\" style=\"stroke:#000000; stroke-linecap:round; stroke-linejoin:round; stroke-width:2; stroke-opacity:0.1; fill:none\" points=\"211.325,707.588 2352.76,707.588 \"/>\n",
       "<polyline clip-path=\"url(#clip122)\" style=\"stroke:#000000; stroke-linecap:round; stroke-linejoin:round; stroke-width:2; stroke-opacity:0.1; fill:none\" points=\"211.325,396.887 2352.76,396.887 \"/>\n",
       "<polyline clip-path=\"url(#clip122)\" style=\"stroke:#000000; stroke-linecap:round; stroke-linejoin:round; stroke-width:2; stroke-opacity:0.1; fill:none\" points=\"211.325,86.1856 2352.76,86.1856 \"/>\n",
       "<polyline clip-path=\"url(#clip120)\" style=\"stroke:#000000; stroke-linecap:round; stroke-linejoin:round; stroke-width:4; stroke-opacity:1; fill:none\" points=\"211.325,1423.18 211.325,47.2441 \"/>\n",
       "<polyline clip-path=\"url(#clip120)\" style=\"stroke:#000000; stroke-linecap:round; stroke-linejoin:round; stroke-width:4; stroke-opacity:1; fill:none\" points=\"211.325,1328.99 230.222,1328.99 \"/>\n",
       "<polyline clip-path=\"url(#clip120)\" style=\"stroke:#000000; stroke-linecap:round; stroke-linejoin:round; stroke-width:4; stroke-opacity:1; fill:none\" points=\"211.325,1018.29 230.222,1018.29 \"/>\n",
       "<polyline clip-path=\"url(#clip120)\" style=\"stroke:#000000; stroke-linecap:round; stroke-linejoin:round; stroke-width:4; stroke-opacity:1; fill:none\" points=\"211.325,707.588 230.222,707.588 \"/>\n",
       "<polyline clip-path=\"url(#clip120)\" style=\"stroke:#000000; stroke-linecap:round; stroke-linejoin:round; stroke-width:4; stroke-opacity:1; fill:none\" points=\"211.325,396.887 230.222,396.887 \"/>\n",
       "<polyline clip-path=\"url(#clip120)\" style=\"stroke:#000000; stroke-linecap:round; stroke-linejoin:round; stroke-width:4; stroke-opacity:1; fill:none\" points=\"211.325,86.1856 230.222,86.1856 \"/>\n",
       "<path clip-path=\"url(#clip120)\" d=\"M114.26 1329.44 L143.936 1329.44 L143.936 1333.38 L114.26 1333.38 L114.26 1329.44 Z\" fill=\"#000000\" fill-rule=\"nonzero\" fill-opacity=\"1\" /><path clip-path=\"url(#clip120)\" d=\"M168.195 1327.64 Q171.552 1328.35 173.427 1330.62 Q175.325 1332.89 175.325 1336.23 Q175.325 1341.34 171.806 1344.14 Q168.288 1346.94 161.806 1346.94 Q159.63 1346.94 157.315 1346.5 Q155.024 1346.09 152.57 1345.23 L152.57 1340.72 Q154.515 1341.85 156.829 1342.43 Q159.144 1343.01 161.667 1343.01 Q166.065 1343.01 168.357 1341.27 Q170.672 1339.54 170.672 1336.23 Q170.672 1333.17 168.519 1331.46 Q166.39 1329.72 162.57 1329.72 L158.542 1329.72 L158.542 1325.88 L162.755 1325.88 Q166.204 1325.88 168.033 1324.51 Q169.862 1323.12 169.862 1320.53 Q169.862 1317.87 167.964 1316.46 Q166.089 1315.02 162.57 1315.02 Q160.649 1315.02 158.45 1315.44 Q156.251 1315.85 153.612 1316.73 L153.612 1312.57 Q156.274 1311.83 158.589 1311.46 Q160.927 1311.09 162.987 1311.09 Q168.311 1311.09 171.413 1313.52 Q174.514 1315.92 174.514 1320.04 Q174.514 1322.91 172.871 1324.91 Q171.227 1326.87 168.195 1327.64 Z\" fill=\"#000000\" fill-rule=\"nonzero\" fill-opacity=\"1\" /><path clip-path=\"url(#clip120)\" d=\"M115.209 1018.74 L144.885 1018.74 L144.885 1022.68 L115.209 1022.68 L115.209 1018.74 Z\" fill=\"#000000\" fill-rule=\"nonzero\" fill-opacity=\"1\" /><path clip-path=\"url(#clip120)\" d=\"M159.005 1031.63 L175.325 1031.63 L175.325 1035.57 L153.38 1035.57 L153.38 1031.63 Q156.042 1028.88 160.626 1024.25 Q165.232 1019.6 166.413 1018.26 Q168.658 1015.73 169.538 1014 Q170.44 1012.24 170.44 1010.55 Q170.44 1007.79 168.496 1006.06 Q166.575 1004.32 163.473 1004.32 Q161.274 1004.32 158.82 1005.08 Q156.39 1005.85 153.612 1007.4 L153.612 1002.68 Q156.436 1001.54 158.89 1000.96 Q161.343 1000.38 163.38 1000.38 Q168.751 1000.38 171.945 1003.07 Q175.139 1005.76 175.139 1010.25 Q175.139 1012.38 174.329 1014.3 Q173.542 1016.19 171.436 1018.79 Q170.857 1019.46 167.755 1022.68 Q164.653 1025.87 159.005 1031.63 Z\" fill=\"#000000\" fill-rule=\"nonzero\" fill-opacity=\"1\" /><path clip-path=\"url(#clip120)\" d=\"M114.839 708.04 L144.515 708.04 L144.515 711.975 L114.839 711.975 L114.839 708.04 Z\" fill=\"#000000\" fill-rule=\"nonzero\" fill-opacity=\"1\" /><path clip-path=\"url(#clip120)\" d=\"M155.417 720.933 L163.056 720.933 L163.056 694.568 L154.746 696.234 L154.746 691.975 L163.01 690.308 L167.686 690.308 L167.686 720.933 L175.325 720.933 L175.325 724.868 L155.417 724.868 L155.417 720.933 Z\" fill=\"#000000\" fill-rule=\"nonzero\" fill-opacity=\"1\" /><path clip-path=\"url(#clip120)\" d=\"M163.38 382.686 Q159.769 382.686 157.94 386.25 Q156.135 389.792 156.135 396.922 Q156.135 404.028 157.94 407.593 Q159.769 411.135 163.38 411.135 Q167.015 411.135 168.82 407.593 Q170.649 404.028 170.649 396.922 Q170.649 389.792 168.82 386.25 Q167.015 382.686 163.38 382.686 M163.38 378.982 Q169.19 378.982 172.246 383.588 Q175.325 388.172 175.325 396.922 Q175.325 405.649 172.246 410.255 Q169.19 414.838 163.38 414.838 Q157.57 414.838 154.491 410.255 Q151.436 405.649 151.436 396.922 Q151.436 388.172 154.491 383.588 Q157.57 378.982 163.38 378.982 Z\" fill=\"#000000\" fill-rule=\"nonzero\" fill-opacity=\"1\" /><path clip-path=\"url(#clip120)\" d=\"M155.417 99.5304 L163.056 99.5304 L163.056 73.1648 L154.746 74.8315 L154.746 70.5722 L163.01 68.9056 L167.686 68.9056 L167.686 99.5304 L175.325 99.5304 L175.325 103.466 L155.417 103.466 L155.417 99.5304 Z\" fill=\"#000000\" fill-rule=\"nonzero\" fill-opacity=\"1\" /><path clip-path=\"url(#clip120)\" d=\"M29.4065 807.717 L34.9447 807.717 Q33.6716 810.2 33.035 812.874 Q32.3984 815.547 32.3984 818.412 Q32.3984 822.772 33.7352 824.968 Q35.072 827.133 37.7456 827.133 Q39.7826 827.133 40.9603 825.573 Q42.1061 824.014 43.1565 819.303 L43.6021 817.298 Q44.9389 811.059 47.3897 808.449 Q49.8086 805.808 54.1691 805.808 Q59.1344 805.808 62.0308 809.754 Q64.9272 813.669 64.9272 820.544 Q64.9272 823.409 64.3543 826.528 Q63.8132 829.615 62.6992 833.053 L56.6518 833.053 Q58.3387 829.806 59.198 826.655 Q60.0256 823.504 60.0256 820.417 Q60.0256 816.279 58.6251 814.051 Q57.1929 811.823 54.6147 811.823 Q52.2276 811.823 50.9545 813.447 Q49.6813 815.038 48.5037 820.481 L48.0262 822.518 Q46.8804 827.96 44.5251 830.379 Q42.138 832.798 38.0002 832.798 Q32.9713 832.798 30.2341 829.233 Q27.4968 825.669 27.4968 819.112 Q27.4968 815.865 27.9743 813.001 Q28.4517 810.136 29.4065 807.717 Z\" fill=\"#000000\" fill-rule=\"nonzero\" fill-opacity=\"1\" /><path clip-path=\"url(#clip120)\" d=\"M44.7161 765.99 L47.5806 765.99 L47.5806 792.917 Q53.6281 792.535 56.8109 789.289 Q59.9619 786.01 59.9619 780.186 Q59.9619 776.812 59.1344 773.661 Q58.3069 770.478 56.6518 767.359 L62.1899 767.359 Q63.5267 770.51 64.227 773.82 Q64.9272 777.13 64.9272 780.536 Q64.9272 789.066 59.9619 794.063 Q54.9967 799.028 46.5303 799.028 Q37.7774 799.028 32.6531 794.318 Q27.4968 789.575 27.4968 781.554 Q27.4968 774.361 32.1438 770.192 Q36.7589 765.99 44.7161 765.99 M42.9973 771.847 Q38.1912 771.91 35.3266 774.552 Q32.4621 777.162 32.4621 781.491 Q32.4621 786.392 35.2312 789.352 Q38.0002 792.281 43.0292 792.726 L42.9973 771.847 Z\" fill=\"#000000\" fill-rule=\"nonzero\" fill-opacity=\"1\" /><path clip-path=\"url(#clip120)\" d=\"M42.4881 726.746 L64.0042 726.746 L64.0042 732.602 L42.679 732.602 Q37.6183 732.602 35.1038 734.575 Q32.5894 736.549 32.5894 740.496 Q32.5894 745.238 35.6131 747.975 Q38.6368 750.712 43.8567 750.712 L64.0042 750.712 L64.0042 756.601 L28.3562 756.601 L28.3562 750.712 L33.8944 750.712 Q30.6797 748.612 29.0883 745.779 Q27.4968 742.914 27.4968 739.191 Q27.4968 733.048 31.3163 729.897 Q35.1038 726.746 42.4881 726.746 Z\" fill=\"#000000\" fill-rule=\"nonzero\" fill-opacity=\"1\" /><path clip-path=\"url(#clip120)\" d=\"M14.5426 700.996 Q21.8632 705.261 29.0246 707.33 Q36.186 709.399 43.5384 709.399 Q50.8908 709.399 58.1159 707.33 Q65.3091 705.229 72.5979 700.996 L72.5979 706.089 Q65.1182 710.863 57.8931 713.25 Q50.668 715.606 43.5384 715.606 Q36.4406 715.606 29.2474 713.25 Q22.0542 710.895 14.5426 706.089 L14.5426 700.996 Z\" fill=\"#000000\" fill-rule=\"nonzero\" fill-opacity=\"1\" /><path clip-path=\"url(#clip120)\" d=\"M28.3562 660.001 L45.7028 672.892 L64.0042 659.333 L64.0042 666.24 L49.9996 676.616 L64.0042 686.992 L64.0042 693.899 L45.3526 680.053 L28.3562 692.721 L28.3562 685.814 L41.0558 676.361 L28.3562 666.908 L28.3562 660.001 Z\" fill=\"#000000\" fill-rule=\"nonzero\" fill-opacity=\"1\" /><path clip-path=\"url(#clip120)\" d=\"M14.5426 651.98 L14.5426 646.888 Q22.0542 642.114 29.2474 639.758 Q36.4406 637.371 43.5384 637.371 Q50.668 637.371 57.8931 639.758 Q65.1182 642.114 72.5979 646.888 L72.5979 651.98 Q65.3091 647.747 58.1159 645.678 Q50.8908 643.578 43.5384 643.578 Q36.186 643.578 29.0246 645.678 Q21.8632 647.747 14.5426 651.98 Z\" fill=\"#000000\" fill-rule=\"nonzero\" fill-opacity=\"1\" /><polyline clip-path=\"url(#clip122)\" style=\"stroke:#009af9; stroke-linecap:round; stroke-linejoin:round; stroke-width:4; stroke-opacity:1; fill:none\" points=\"271.931,396.887 275.148,393.78 278.365,390.673 281.582,387.567 284.799,384.462 288.016,381.358 291.233,378.256 294.45,375.156 297.666,372.057 300.883,368.962 304.1,365.869 307.317,362.779 310.534,359.692 313.751,356.609 316.968,353.531 320.185,350.456 323.402,347.387 326.619,344.322 329.836,341.262 333.052,338.208 336.269,335.16 339.486,332.118 342.703,329.083 345.92,326.054 349.137,323.032 352.354,320.018 355.571,317.012 358.788,314.013 362.005,311.023 365.222,308.041 368.438,305.068 371.655,302.105 374.872,299.151 378.089,296.206 381.306,293.272 384.523,290.348 387.74,287.435 390.957,284.533 394.174,281.641 397.391,278.762 400.608,275.894 403.824,273.039 407.041,270.195 410.258,267.365 413.475,264.547 416.692,261.743 419.909,258.952 423.126,256.175 426.343,253.412 429.56,250.663 432.777,247.929 435.993,245.21 439.21,242.506 442.427,239.817 445.644,237.144 448.861,234.487 452.078,231.847 455.295,229.223 458.512,226.615 461.729,224.025 464.946,221.452 468.163,218.896 471.379,216.359 474.596,213.839 477.813,211.338 481.03,208.855 484.247,206.391 487.464,203.946 490.681,201.52 493.898,199.114 497.115,196.728 500.332,194.361 503.549,192.015 506.765,189.69 509.982,187.385 513.199,185.101 516.416,182.838 519.633,180.597 522.85,178.377 526.067,176.179 529.284,174.003 532.501,171.85 535.718,169.719 538.935,167.611 542.151,165.525 545.368,163.463 548.585,161.424 551.802,159.409 555.019,157.417 558.236,155.45 561.453,153.506 564.67,151.587 567.887,149.692 571.104,147.823 574.321,145.978 577.537,144.158 580.754,142.363 583.971,140.594 587.188,138.85 590.405,137.133 593.622,135.441 596.839,133.775 600.056,132.136 603.273,130.523 606.49,128.937 609.707,127.377 612.923,125.845 616.14,124.34 619.357,122.861 622.574,121.411 625.791,119.988 629.008,118.592 632.225,117.225 635.442,115.885 638.659,114.573 641.876,113.29 645.093,112.035 648.309,110.808 651.526,109.611 654.743,108.441 657.96,107.301 661.177,106.19 664.394,105.107 667.611,104.054 670.828,103.031 674.045,102.036 677.262,101.071 680.478,100.136 683.695,99.2301 686.912,98.3542 690.129,97.5081 693.346,96.692 696.563,95.9058 699.78,95.1498 702.997,94.424 706.214,93.7284 709.431,93.0631 712.648,92.4282 715.864,91.8237 719.081,91.2498 722.298,90.7064 725.515,90.1936 728.732,89.7115 731.949,89.2601 735.166,88.8395 738.383,88.4497 741.6,88.0907 744.817,87.7626 748.034,87.4654 751.25,87.1992 754.467,86.9639 757.684,86.7596 760.901,86.5863 764.118,86.4441 767.335,86.3329 770.552,86.2528 773.769,86.2037 776.986,86.1857 780.203,86.1988 783.42,86.2429 786.636,86.3181 789.853,86.4243 793.07,86.5616 796.287,86.73 799.504,86.9293 802.721,87.1596 805.938,87.421 809.155,87.7132 812.372,88.0364 815.589,88.3905 818.806,88.7754 822.022,89.1911 825.239,89.6376 828.456,90.1148 831.673,90.6227 834.89,91.1612 838.107,91.7303 841.324,92.3299 844.541,92.96 847.758,93.6205 850.975,94.3113 854.192,95.0323 857.408,95.7835 860.625,96.5649 863.842,97.3762 867.059,98.2176 870.276,99.0888 873.493,99.9897 876.71,100.92 879.927,101.881 883.144,102.87 886.361,103.89 889.578,104.938 892.794,106.016 896.011,107.122 899.228,108.258 902.445,109.423 905.662,110.616 908.879,111.838 912.096,113.089 915.313,114.367 918.53,115.674 921.747,117.01 924.963,118.373 928.18,119.764 931.397,121.183 934.614,122.629 937.831,124.103 941.048,125.604 944.265,127.132 947.482,128.687 950.699,130.269 953.916,131.878 957.133,133.513 960.349,135.175 963.566,136.862 966.783,138.576 970,140.316 973.217,142.081 976.434,143.871 979.651,145.687 982.868,147.528 986.085,149.395 989.302,151.285 992.519,153.201 995.735,155.14 998.952,157.104 1002.17,159.092 1005.39,161.104 1008.6,163.139 1011.82,165.198 1015.04,167.28 1018.25,169.384 1021.47,171.512 1024.69,173.662 1027.9,175.834 1031.12,178.029 1034.34,180.245 1037.56,182.484 1040.77,184.743 1043.99,187.024 1047.21,189.326 1050.42,191.648 1053.64,193.991 1056.86,196.355 1060.07,198.738 1063.29,201.141 1066.51,203.564 1069.72,206.007 1072.94,208.468 1076.16,210.948 1079.38,213.447 1082.59,215.964 1085.81,218.499 1089.03,221.052 1092.24,223.623 1095.46,226.211 1098.68,228.816 1101.89,231.438 1105.11,234.077 1108.33,236.732 1111.54,239.403 1114.76,242.09 1117.98,244.792 1121.19,247.509 1124.41,250.242 1127.63,252.989 1130.85,255.75 1134.06,258.526 1137.28,261.316 1140.5,264.119 1143.71,266.936 1146.93,269.765 1150.15,272.607 1153.36,275.462 1156.58,278.329 1159.8,281.208 1163.01,284.099 1166.23,287 1169.45,289.913 1172.67,292.837 1175.88,295.771 1179.1,298.715 1182.32,301.67 1185.53,304.633 1188.75,307.606 1191.97,310.589 1195.18,313.579 1198.4,316.579 1201.62,319.586 1204.83,322.601 1208.05,325.624 1211.27,328.654 1214.49,331.691 1217.7,334.734 1220.92,337.784 1224.14,340.84 1227.35,343.901 1230.57,346.968 1233.79,350.04 1237,353.117 1240.22,356.198 1243.44,359.284 1246.65,362.374 1249.87,365.467 1253.09,368.563 1256.31,371.663 1259.52,374.765 1262.74,377.869 1265.96,380.976 1269.17,384.084 1272.39,387.194 1275.61,390.305 1278.82,393.417 1282.04,396.53 1285.26,399.642 1288.47,402.755 1291.69,405.867 1294.91,408.979 1298.12,412.09 1301.34,415.199 1304.56,418.307 1307.78,421.413 1310.99,424.517 1314.21,427.619 1317.43,430.718 1320.64,433.813 1323.86,436.906 1327.08,439.994 1330.29,443.079 1333.51,446.16 1336.73,449.236 1339.94,452.307 1343.16,455.373 1346.38,458.434 1349.6,461.489 1352.81,464.537 1356.03,467.58 1359.25,470.616 1362.46,473.645 1365.68,476.667 1368.9,479.682 1372.11,482.689 1375.33,485.688 1378.55,488.679 1381.76,491.661 1384.98,494.634 1388.2,497.598 1391.42,500.553 1394.63,503.498 1397.85,506.433 1401.07,509.358 1404.28,512.272 1407.5,515.176 1410.72,518.069 1413.93,520.95 1417.15,523.82 1420.37,526.679 1423.58,529.525 1426.8,532.358 1430.02,535.18 1433.23,537.988 1436.45,540.784 1439.67,543.566 1442.89,546.334 1446.1,549.089 1449.32,551.83 1452.54,554.556 1455.75,557.268 1458.97,559.965 1462.19,562.648 1465.4,565.315 1468.62,567.967 1471.84,570.603 1475.05,573.223 1478.27,575.827 1481.49,578.415 1484.71,580.986 1487.92,583.541 1491.14,586.078 1494.36,588.599 1497.57,591.102 1500.79,593.588 1504.01,596.056 1507.22,598.506 1510.44,600.938 1513.66,603.352 1516.87,605.747 1520.09,608.124 1523.31,610.482 1526.53,612.821 1529.74,615.141 1532.96,617.442 1536.18,619.723 1539.39,621.984 1542.61,624.226 1545.83,626.448 1549.04,628.65 1552.26,630.832 1555.48,632.993 1558.69,635.134 1561.91,637.255 1565.13,639.354 1568.35,641.433 1571.56,643.491 1574.78,645.529 1578,647.544 1581.21,649.539 1584.43,651.513 1587.65,653.464 1590.86,655.395 1594.08,657.304 1597.3,659.191 1600.51,661.057 1603.73,662.901 1606.95,664.723 1610.16,666.523 1613.38,668.301 1616.6,670.057 1619.82,671.791 1623.03,673.503 1626.25,675.193 1629.47,676.861 1632.68,678.507 1635.9,680.131 1639.12,681.732 1642.33,683.312 1645.55,684.869 1648.77,686.404 1651.98,687.917 1655.2,689.408 1658.42,690.877 1661.64,692.324 1664.85,693.75 1668.07,695.153 1671.29,696.534 1674.5,697.894 1677.72,699.232 1680.94,700.548 1684.15,701.843 1687.37,703.117 1690.59,704.369 1693.8,705.6 1697.02,706.81 1700.24,707.999 1703.46,709.167 1706.67,710.315 1709.89,711.442 1713.11,712.548 1716.32,713.635 1719.54,714.701 1722.76,715.747 1725.97,716.774 1729.19,717.782 1732.41,718.77 1735.62,719.739 1738.84,720.689 1742.06,721.621 1745.28,722.534 1748.49,723.429 1751.71,724.307 1754.93,725.166 1758.14,726.009 1761.36,726.835 1764.58,727.643 1767.79,728.436 1771.01,729.213 1774.23,729.973 1777.44,730.719 1780.66,731.449 1783.88,732.165 1787.09,732.866 1790.31,733.554 1793.53,734.228 1796.75,734.889 1799.96,735.537 1803.18,736.173 1806.4,736.797 1809.61,737.41 1812.83,738.012 1816.05,738.604 1819.26,739.186 1822.48,739.758 1825.7,740.321 1828.91,740.876 1832.13,741.423 1835.35,741.963 1838.57,742.497 1841.78,743.024 1845,743.545 1848.22,744.062 1851.43,744.574 1854.65,745.083 1857.87,745.589 1861.08,746.092 1864.3,746.594 1867.52,747.095 1870.73,747.596 1873.95,748.097 1877.17,748.599 1880.39,749.104 1883.6,749.611 1886.82,750.121 1890.04,750.637 1893.25,751.157 1896.47,751.683 1899.69,752.217 1902.9,752.758 1906.12,753.308 1909.34,753.867 1912.55,754.437 1915.77,755.019 1918.99,755.613 1922.2,756.22 1925.42,756.842 1928.64,757.48 1931.86,758.134 1935.07,758.805 1938.29,759.496 1941.51,760.206 1944.72,760.937 1947.94,761.69 1951.16,762.467 1954.37,763.268 1957.59,764.094 1960.81,764.948 1964.02,765.83 1967.24,766.741 1970.46,767.683 1973.68,768.657 1976.89,769.665 1980.11,770.707 1983.33,771.786 1986.54,772.903 1989.76,774.059 1992.98,775.255 1996.19,776.494 1999.41,777.776 2002.63,779.103 2005.84,780.478 2009.06,781.901 2012.28,783.374 2015.5,784.898 2018.71,786.477 2021.93,788.11 2025.15,789.8 2028.36,791.55 2031.58,793.36 2034.8,795.232 2038.01,797.169 2041.23,799.172 2044.45,801.243 2047.66,803.384 2050.88,805.598 2054.1,807.885 2057.32,810.249 2060.53,812.692 2063.75,815.215 2066.97,817.821 2070.18,820.512 2073.4,823.291 2076.62,826.158 2079.83,829.118 2083.05,832.172 2086.27,835.323 2089.48,838.573 2092.7,841.924 2095.92,845.38 2099.13,848.942 2102.35,852.614 2105.57,856.397 2108.79,860.296 2112,864.312 2115.22,868.447 2118.44,872.706 2121.65,877.091 2124.87,881.605 2128.09,886.25 2131.3,891.031 2134.52,895.949 2137.74,901.007 2140.95,906.21 2144.17,911.561 2147.39,917.062 2150.61,922.716 2153.82,928.528 2157.04,934.501 2160.26,940.637 2163.47,946.941 2166.69,953.416 2169.91,960.066 2173.12,966.895 2176.34,973.905 2179.56,981.101 2182.77,988.488 2185.99,996.067 2189.21,1003.84 2192.43,1011.82 2195.64,1020.01 2198.86,1028.4 2202.08,1037.01 2205.29,1045.84 2208.51,1054.89 2211.73,1064.17 2214.94,1073.68 2218.16,1083.42 2221.38,1093.41 2224.59,1103.64 2227.81,1114.12 2231.03,1124.85 2234.25,1135.85 2237.46,1147.11 2240.68,1158.64 2243.9,1170.45 2247.11,1182.53 2250.33,1194.9 2253.55,1207.57 2256.76,1220.52 2259.98,1233.78 2263.2,1247.35 2266.41,1261.23 2269.63,1275.43 2272.85,1289.95 2276.06,1304.8 2279.28,1319.99 2282.5,1335.53 2285.72,1351.41 2288.93,1367.64 2292.15,1384.24 \"/>\n",
       "<polyline clip-path=\"url(#clip122)\" style=\"stroke:#e26f46; stroke-linecap:round; stroke-linejoin:round; stroke-width:4; stroke-opacity:1; fill:none\" points=\"271.931,396.887 275.148,393.78 278.365,390.673 281.582,387.567 284.799,384.462 288.016,381.358 291.233,378.256 294.45,375.156 297.666,372.057 300.883,368.962 304.1,365.869 307.317,362.779 310.534,359.692 313.751,356.609 316.968,353.531 320.185,350.456 323.402,347.387 326.619,344.322 329.836,341.262 333.052,338.208 336.269,335.16 339.486,332.118 342.703,329.083 345.92,326.054 349.137,323.032 352.354,320.018 355.571,317.012 358.788,314.013 362.005,311.023 365.222,308.041 368.438,305.068 371.655,302.105 374.872,299.151 378.089,296.206 381.306,293.272 384.523,290.348 387.74,287.435 390.957,284.533 394.174,281.641 397.391,278.762 400.608,275.894 403.824,273.039 407.041,270.195 410.258,267.365 413.475,264.547 416.692,261.743 419.909,258.952 423.126,256.175 426.343,253.412 429.56,250.663 432.777,247.929 435.993,245.21 439.21,242.506 442.427,239.817 445.644,237.144 448.861,234.487 452.078,231.847 455.295,229.223 458.512,226.615 461.729,224.025 464.946,221.452 468.163,218.896 471.379,216.359 474.596,213.839 477.813,211.338 481.03,208.855 484.247,206.391 487.464,203.946 490.681,201.52 493.898,199.114 497.115,196.728 500.332,194.361 503.549,192.015 506.765,189.69 509.982,187.385 513.199,185.101 516.416,182.838 519.633,180.597 522.85,178.377 526.067,176.179 529.284,174.003 532.501,171.85 535.718,169.719 538.935,167.611 542.151,165.525 545.368,163.463 548.585,161.424 551.802,159.409 555.019,157.417 558.236,155.45 561.453,153.506 564.67,151.587 567.887,149.692 571.104,147.823 574.321,145.978 577.537,144.158 580.754,142.363 583.971,140.594 587.188,138.85 590.405,137.133 593.622,135.441 596.839,133.775 600.056,132.136 603.273,130.523 606.49,128.937 609.707,127.377 612.923,125.845 616.14,124.34 619.357,122.861 622.574,121.411 625.791,119.988 629.008,118.592 632.225,117.225 635.442,115.885 638.659,114.573 641.876,113.29 645.093,112.035 648.309,110.808 651.526,109.611 654.743,108.441 657.96,107.301 661.177,106.19 664.394,105.107 667.611,104.054 670.828,103.031 674.045,102.036 677.262,101.071 680.478,100.136 683.695,99.2301 686.912,98.3542 690.129,97.5081 693.346,96.692 696.563,95.9058 699.78,95.1498 702.997,94.424 706.214,93.7284 709.431,93.0631 712.648,92.4282 715.864,91.8237 719.081,91.2498 722.298,90.7064 725.515,90.1936 728.732,89.7115 731.949,89.2601 735.166,88.8395 738.383,88.4497 741.6,88.0907 744.817,87.7626 748.034,87.4654 751.25,87.1992 754.467,86.9639 757.684,86.7596 760.901,86.5863 764.118,86.4441 767.335,86.3329 770.552,86.2528 773.769,86.2037 776.986,86.1857 780.203,86.1987 783.42,86.2429 786.636,86.3181 789.853,86.4243 793.07,86.5616 796.287,86.7299 799.504,86.9293 802.721,87.1596 805.938,87.4209 809.155,87.7132 812.372,88.0364 815.589,88.3904 818.806,88.7753 822.022,89.191 825.239,89.6375 828.456,90.1148 831.673,90.6226 834.89,91.1612 838.107,91.7303 841.324,92.3299 844.541,92.9599 847.758,93.6204 850.975,94.3112 854.192,95.0322 857.408,95.7834 860.625,96.5647 863.842,97.3761 867.059,98.2174 870.276,99.0886 873.493,99.9896 876.71,100.92 879.927,101.88 883.144,102.87 886.361,103.889 889.578,104.938 892.794,106.015 896.011,107.122 899.228,108.258 902.445,109.422 905.662,110.616 908.879,111.838 912.096,113.088 915.313,114.367 918.53,115.674 921.747,117.009 924.963,118.372 928.18,119.763 931.397,121.182 934.614,122.629 937.831,124.102 941.048,125.603 944.265,127.131 947.482,128.687 950.699,130.269 953.916,131.877 957.133,133.512 960.349,135.174 963.566,136.861 966.783,138.575 970,140.314 973.217,142.08 976.434,143.87 979.651,145.686 982.868,147.527 986.085,149.393 989.302,151.284 992.519,153.199 995.735,155.139 998.952,157.102 1002.17,159.09 1005.39,161.102 1008.6,163.137 1011.82,165.195 1015.04,167.277 1018.25,169.382 1021.47,171.509 1024.69,173.659 1027.9,175.831 1031.12,178.026 1034.34,180.242 1037.56,182.48 1040.77,184.739 1043.99,187.02 1047.21,189.321 1050.42,191.643 1053.64,193.986 1056.86,196.349 1060.07,198.733 1063.29,201.136 1066.51,203.558 1069.72,206 1072.94,208.461 1076.16,210.941 1079.38,213.439 1082.59,215.956 1085.81,218.491 1089.03,221.044 1092.24,223.614 1095.46,226.201 1098.68,228.806 1101.89,231.428 1105.11,234.066 1108.33,236.72 1111.54,239.39 1114.76,242.076 1117.98,244.778 1121.19,247.495 1124.41,250.226 1127.63,252.973 1130.85,255.734 1134.06,258.508 1137.28,261.297 1140.5,264.099 1143.71,266.915 1146.93,269.744 1150.15,272.585 1153.36,275.439 1156.58,278.304 1159.8,281.182 1163.01,284.071 1166.23,286.972 1169.45,289.883 1172.67,292.806 1175.88,295.738 1179.1,298.681 1182.32,301.634 1185.53,304.596 1188.75,307.567 1191.97,310.547 1195.18,313.536 1198.4,316.534 1201.62,319.539 1204.83,322.552 1208.05,325.572 1211.27,328.6 1214.49,331.634 1217.7,334.675 1220.92,337.722 1224.14,340.776 1227.35,343.834 1230.57,346.898 1233.79,349.967 1237,353.041 1240.22,356.119 1243.44,359.201 1246.65,362.287 1249.87,365.376 1253.09,368.469 1256.31,371.564 1259.52,374.662 1262.74,377.762 1265.96,380.864 1269.17,383.968 1272.39,387.073 1275.61,390.179 1278.82,393.285 1282.04,396.392 1285.26,399.499 1288.47,402.606 1291.69,405.712 1294.91,408.818 1298.12,411.922 1301.34,415.024 1304.56,418.125 1307.78,421.224 1310.99,424.32 1314.21,427.413 1317.43,430.504 1320.64,433.591 1323.86,436.674 1327.08,439.754 1330.29,442.829 1333.51,445.899 1336.73,448.965 1339.94,452.025 1343.16,455.08 1346.38,458.129 1349.6,461.172 1352.81,464.209 1356.03,467.239 1359.25,470.262 1362.46,473.277 1365.68,476.285 1368.9,479.285 1372.11,482.276 1375.33,485.26 1378.55,488.234 1381.76,491.199 1384.98,494.155 1388.2,497.101 1391.42,500.037 1394.63,502.962 1397.85,505.877 1401.07,508.782 1404.28,511.674 1407.5,514.556 1410.72,517.426 1413.93,520.283 1417.15,523.129 1420.37,525.961 1423.58,528.781 1426.8,531.588 1430.02,534.381 1433.23,537.161 1436.45,539.926 1439.67,542.677 1442.89,545.414 1446.1,548.135 1449.32,550.842 1452.54,553.533 1455.75,556.209 1458.97,558.868 1462.19,561.512 1465.4,564.139 1468.62,566.749 1471.84,569.342 1475.05,571.918 1478.27,574.477 1481.49,577.018 1484.71,579.54 1487.92,582.045 1491.14,584.531 1494.36,586.998 1497.57,589.446 1500.79,591.875 1504.01,594.285 1507.22,596.675 1510.44,599.045 1513.66,601.394 1516.87,603.724 1520.09,606.032 1523.31,608.32 1526.53,610.586 1529.74,612.831 1532.96,615.055 1536.18,617.257 1539.39,619.437 1542.61,621.594 1545.83,623.729 1549.04,625.842 1552.26,627.931 1555.48,629.998 1558.69,632.041 1561.91,634.061 1565.13,636.057 1568.35,638.029 1571.56,639.977 1574.78,641.901 1578,643.8 1581.21,645.675 1584.43,647.524 1587.65,649.349 1590.86,651.149 1594.08,652.923 1597.3,654.671 1600.51,656.394 1603.73,658.091 1606.95,659.762 1610.16,661.407 1613.38,663.025 1616.6,664.617 1619.82,666.181 1623.03,667.72 1626.25,669.231 1629.47,670.714 1632.68,672.171 1635.9,673.6 1639.12,675.001 1642.33,676.375 1645.55,677.721 1648.77,679.039 1651.98,680.328 1655.2,681.59 1658.42,682.823 1661.64,684.027 1664.85,685.203 1668.07,686.35 1671.29,687.468 1674.5,688.558 1677.72,689.618 1680.94,690.649 1684.15,691.651 1687.37,692.623 1690.59,693.566 1693.8,694.479 1697.02,695.363 1700.24,696.217 1703.46,697.041 1706.67,697.835 1709.89,698.599 1713.11,699.334 1716.32,700.038 1719.54,700.712 1722.76,701.356 1725.97,701.969 1729.19,702.552 1732.41,703.105 1735.62,703.627 1738.84,704.119 1742.06,704.58 1745.28,705.011 1748.49,705.411 1751.71,705.78 1754.93,706.119 1758.14,706.427 1761.36,706.704 1764.58,706.951 1767.79,707.166 1771.01,707.351 1774.23,707.505 1777.44,707.629 1780.66,707.721 1783.88,707.783 1787.09,707.814 1790.31,707.814 1793.53,707.784 1796.75,707.722 1799.96,707.63 1803.18,707.507 1806.4,707.353 1809.61,707.169 1812.83,706.954 1816.05,706.708 1819.26,706.432 1822.48,706.126 1825.7,705.788 1828.91,705.421 1832.13,705.022 1835.35,704.594 1838.57,704.135 1841.78,703.646 1845,703.127 1848.22,702.578 1851.43,701.998 1854.65,701.389 1857.87,700.75 1861.08,700.081 1864.3,699.382 1867.52,698.654 1870.73,697.896 1873.95,697.109 1877.17,696.292 1880.39,695.447 1883.6,694.572 1886.82,693.668 1890.04,692.735 1893.25,691.773 1896.47,690.783 1899.69,689.764 1902.9,688.716 1906.12,687.641 1909.34,686.537 1912.55,685.405 1915.77,684.246 1918.99,683.058 1922.2,681.843 1925.42,680.601 1928.64,679.331 1931.86,678.034 1935.07,676.711 1938.29,675.36 1941.51,673.983 1944.72,672.579 1947.94,671.15 1951.16,669.694 1954.37,668.212 1957.59,666.704 1960.81,665.171 1964.02,663.613 1967.24,662.029 1970.46,660.421 1973.68,658.788 1976.89,657.13 1980.11,655.448 1983.33,653.742 1986.54,652.012 1989.76,650.259 1992.98,648.482 1996.19,646.682 1999.41,644.859 2002.63,643.014 2005.84,641.146 2009.06,639.255 2012.28,637.343 2015.5,635.409 2018.71,633.454 2021.93,631.478 2025.15,629.48 2028.36,627.463 2031.58,625.424 2034.8,623.366 2038.01,621.288 2041.23,619.19 2044.45,617.073 2047.66,614.938 2050.88,612.783 2054.1,610.611 2057.32,608.42 2060.53,606.212 2063.75,603.986 2066.97,601.743 2070.18,599.484 2073.4,597.208 2076.62,594.916 2079.83,592.609 2083.05,590.286 2086.27,587.948 2089.48,585.595 2092.7,583.228 2095.92,580.847 2099.13,578.452 2102.35,576.044 2105.57,573.623 2108.79,571.19 2112,568.745 2115.22,566.288 2118.44,563.819 2121.65,561.34 2124.87,558.85 2128.09,556.35 2131.3,553.84 2134.52,551.321 2137.74,548.793 2140.95,546.256 2144.17,543.712 2147.39,541.159 2150.61,538.6 2153.82,536.034 2157.04,533.462 2160.26,530.884 2163.47,528.3 2166.69,525.712 2169.91,523.119 2173.12,520.522 2176.34,517.922 2179.56,515.319 2182.77,512.713 2185.99,510.105 2189.21,507.496 2192.43,504.886 2195.64,502.276 2198.86,499.665 2202.08,497.056 2205.29,494.447 2208.51,491.84 2211.73,489.235 2214.94,486.634 2218.16,484.035 2221.38,481.441 2224.59,478.85 2227.81,476.266 2231.03,473.686 2234.25,471.113 2237.46,468.547 2240.68,465.989 2243.9,463.438 2247.11,460.897 2250.33,458.364 2253.55,455.842 2256.76,453.33 2259.98,450.83 2263.2,448.342 2266.41,445.866 2269.63,443.404 2272.85,440.956 2276.06,438.523 2279.28,436.105 2282.5,433.703 2285.72,431.318 2288.93,428.951 2292.15,426.603 \"/>\n",
       "<polyline clip-path=\"url(#clip122)\" style=\"stroke:#3da44d; stroke-linecap:round; stroke-linejoin:round; stroke-width:4; stroke-opacity:1; fill:none\" points=\"271.931,396.887 275.148,393.78 278.365,390.673 281.582,387.567 284.799,384.462 288.016,381.358 291.233,378.256 294.45,375.156 297.666,372.057 300.883,368.962 304.1,365.869 307.317,362.779 310.534,359.692 313.751,356.609 316.968,353.531 320.185,350.456 323.402,347.387 326.619,344.322 329.836,341.262 333.052,338.208 336.269,335.16 339.486,332.118 342.703,329.083 345.92,326.054 349.137,323.032 352.354,320.018 355.571,317.012 358.788,314.013 362.005,311.023 365.222,308.041 368.438,305.068 371.655,302.105 374.872,299.151 378.089,296.206 381.306,293.272 384.523,290.348 387.74,287.435 390.957,284.533 394.174,281.641 397.391,278.762 400.608,275.894 403.824,273.039 407.041,270.195 410.258,267.365 413.475,264.547 416.692,261.743 419.909,258.952 423.126,256.175 426.343,253.412 429.56,250.663 432.777,247.929 435.993,245.21 439.21,242.506 442.427,239.817 445.644,237.144 448.861,234.487 452.078,231.847 455.295,229.223 458.512,226.615 461.729,224.025 464.946,221.452 468.163,218.896 471.379,216.359 474.596,213.839 477.813,211.338 481.03,208.855 484.247,206.391 487.464,203.946 490.681,201.52 493.898,199.114 497.115,196.728 500.332,194.361 503.549,192.015 506.765,189.69 509.982,187.385 513.199,185.101 516.416,182.838 519.633,180.597 522.85,178.377 526.067,176.179 529.284,174.003 532.501,171.85 535.718,169.719 538.935,167.611 542.151,165.525 545.368,163.463 548.585,161.424 551.802,159.409 555.019,157.417 558.236,155.45 561.453,153.506 564.67,151.587 567.887,149.692 571.104,147.823 574.321,145.978 577.537,144.158 580.754,142.363 583.971,140.594 587.188,138.85 590.405,137.133 593.622,135.441 596.839,133.775 600.056,132.136 603.273,130.523 606.49,128.937 609.707,127.377 612.923,125.845 616.14,124.34 619.357,122.861 622.574,121.411 625.791,119.988 629.008,118.592 632.225,117.225 635.442,115.885 638.659,114.573 641.876,113.29 645.093,112.035 648.309,110.808 651.526,109.611 654.743,108.441 657.96,107.301 661.177,106.19 664.394,105.107 667.611,104.054 670.828,103.031 674.045,102.036 677.262,101.071 680.478,100.136 683.695,99.2301 686.912,98.3542 690.129,97.5081 693.346,96.692 696.563,95.9058 699.78,95.1498 702.997,94.424 706.214,93.7284 709.431,93.0631 712.648,92.4282 715.864,91.8237 719.081,91.2498 722.298,90.7064 725.515,90.1936 728.732,89.7115 731.949,89.2601 735.166,88.8395 738.383,88.4497 741.6,88.0907 744.817,87.7626 748.034,87.4654 751.25,87.1992 754.467,86.9639 757.684,86.7596 760.901,86.5863 764.118,86.4441 767.335,86.3329 770.552,86.2528 773.769,86.2037 776.986,86.1857 780.203,86.1987 783.42,86.2429 786.636,86.3181 789.853,86.4243 793.07,86.5616 796.287,86.7299 799.504,86.9293 802.721,87.1596 805.938,87.4209 809.155,87.7132 812.372,88.0364 815.589,88.3904 818.806,88.7753 822.022,89.191 825.239,89.6375 828.456,90.1148 831.673,90.6226 834.89,91.1612 838.107,91.7303 841.324,92.3299 844.541,92.9599 847.758,93.6204 850.975,94.3112 854.192,95.0322 857.408,95.7834 860.625,96.5647 863.842,97.3761 867.059,98.2174 870.276,99.0886 873.493,99.9896 876.71,100.92 879.927,101.88 883.144,102.87 886.361,103.889 889.578,104.938 892.794,106.015 896.011,107.122 899.228,108.258 902.445,109.422 905.662,110.616 908.879,111.838 912.096,113.088 915.313,114.367 918.53,115.674 921.747,117.009 924.963,118.372 928.18,119.763 931.397,121.182 934.614,122.629 937.831,124.102 941.048,125.603 944.265,127.131 947.482,128.687 950.699,130.269 953.916,131.877 957.133,133.512 960.349,135.174 963.566,136.861 966.783,138.575 970,140.314 973.217,142.08 976.434,143.87 979.651,145.686 982.868,147.527 986.085,149.393 989.302,151.284 992.519,153.199 995.735,155.139 998.952,157.102 1002.17,159.09 1005.39,161.102 1008.6,163.137 1011.82,165.195 1015.04,167.277 1018.25,169.382 1021.47,171.509 1024.69,173.659 1027.9,175.831 1031.12,178.026 1034.34,180.242 1037.56,182.48 1040.77,184.739 1043.99,187.02 1047.21,189.321 1050.42,191.643 1053.64,193.986 1056.86,196.349 1060.07,198.733 1063.29,201.136 1066.51,203.558 1069.72,206 1072.94,208.461 1076.16,210.941 1079.38,213.439 1082.59,215.956 1085.81,218.491 1089.03,221.044 1092.24,223.614 1095.46,226.201 1098.68,228.806 1101.89,231.428 1105.11,234.066 1108.33,236.72 1111.54,239.39 1114.76,242.076 1117.98,244.778 1121.19,247.495 1124.41,250.226 1127.63,252.973 1130.85,255.734 1134.06,258.508 1137.28,261.297 1140.5,264.099 1143.71,266.915 1146.93,269.744 1150.15,272.585 1153.36,275.439 1156.58,278.304 1159.8,281.182 1163.01,284.071 1166.23,286.972 1169.45,289.883 1172.67,292.806 1175.88,295.738 1179.1,298.681 1182.32,301.634 1185.53,304.596 1188.75,307.567 1191.97,310.547 1195.18,313.536 1198.4,316.534 1201.62,319.539 1204.83,322.552 1208.05,325.572 1211.27,328.6 1214.49,331.634 1217.7,334.675 1220.92,337.722 1224.14,340.775 1227.35,343.834 1230.57,346.898 1233.79,349.967 1237,353.041 1240.22,356.119 1243.44,359.201 1246.65,362.287 1249.87,365.376 1253.09,368.469 1256.31,371.564 1259.52,374.662 1262.74,377.762 1265.96,380.864 1269.17,383.968 1272.39,387.073 1275.61,390.179 1278.82,393.285 1282.04,396.392 1285.26,399.499 1288.47,402.606 1291.69,405.712 1294.91,408.817 1298.12,411.921 1301.34,415.024 1304.56,418.125 1307.78,421.223 1310.99,424.32 1314.21,427.413 1317.43,430.503 1320.64,433.59 1323.86,436.674 1327.08,439.753 1330.29,442.828 1333.51,445.899 1336.73,448.964 1339.94,452.025 1343.16,455.08 1346.38,458.129 1349.6,461.172 1352.81,464.208 1356.03,467.238 1359.25,470.261 1362.46,473.276 1365.68,476.284 1368.9,479.284 1372.11,482.275 1375.33,485.258 1378.55,488.233 1381.76,491.198 1384.98,494.153 1388.2,497.099 1391.42,500.035 1394.63,502.961 1397.85,505.876 1401.07,508.78 1404.28,511.673 1407.5,514.554 1410.72,517.424 1413.93,520.281 1417.15,523.127 1420.37,525.959 1423.58,528.779 1426.8,531.586 1430.02,534.379 1433.23,537.158 1436.45,539.923 1439.67,542.674 1442.89,545.411 1446.1,548.132 1449.32,550.839 1452.54,553.53 1455.75,556.205 1458.97,558.864 1462.19,561.508 1465.4,564.134 1468.62,566.745 1471.84,569.338 1475.05,571.913 1478.27,574.472 1481.49,577.012 1484.71,579.535 1487.92,582.039 1491.14,584.525 1494.36,586.992 1497.57,589.44 1500.79,591.869 1504.01,594.278 1507.22,596.667 1510.44,599.037 1513.66,601.386 1516.87,603.715 1520.09,606.023 1523.31,608.31 1526.53,610.577 1529.74,612.821 1532.96,615.044 1536.18,617.246 1539.39,619.425 1542.61,621.582 1545.83,623.717 1549.04,625.828 1552.26,627.917 1555.48,629.983 1558.69,632.026 1561.91,634.045 1565.13,636.04 1568.35,638.012 1571.56,639.959 1574.78,641.882 1578,643.781 1581.21,645.654 1584.43,647.503 1587.65,649.327 1590.86,651.126 1594.08,652.899 1597.3,654.647 1600.51,656.368 1603.73,658.064 1606.95,659.734 1610.16,661.377 1613.38,662.994 1616.6,664.585 1619.82,666.148 1623.03,667.685 1626.25,669.195 1629.47,670.677 1632.68,672.132 1635.9,673.56 1639.12,674.959 1642.33,676.331 1645.55,677.675 1648.77,678.991 1651.98,680.279 1655.2,681.538 1658.42,682.769 1661.64,683.972 1664.85,685.145 1668.07,686.29 1671.29,687.406 1674.5,688.493 1677.72,689.55 1680.94,690.579 1684.15,691.578 1687.37,692.547 1690.59,693.487 1693.8,694.397 1697.02,695.278 1700.24,696.128 1703.46,696.949 1706.67,697.74 1709.89,698.5 1713.11,699.231 1716.32,699.931 1719.54,700.601 1722.76,701.24 1725.97,701.849 1729.19,702.428 1732.41,702.976 1735.62,703.493 1738.84,703.98 1742.06,704.436 1745.28,704.861 1748.49,705.255 1751.71,705.619 1754.93,705.951 1758.14,706.253 1761.36,706.524 1764.58,706.764 1767.79,706.972 1771.01,707.15 1774.23,707.297 1777.44,707.412 1780.66,707.497 1783.88,707.55 1787.09,707.573 1790.31,707.564 1793.53,707.524 1796.75,707.453 1799.96,707.351 1803.18,707.218 1806.4,707.054 1809.61,706.859 1812.83,706.633 1816.05,706.376 1819.26,706.087 1822.48,705.768 1825.7,705.418 1828.91,705.037 1832.13,704.625 1835.35,704.183 1838.57,703.709 1841.78,703.205 1845,702.67 1848.22,702.105 1851.43,701.509 1854.65,700.883 1857.87,700.226 1861.08,699.538 1864.3,698.821 1867.52,698.073 1870.73,697.295 1873.95,696.487 1877.17,695.648 1880.39,694.78 1883.6,693.882 1886.82,692.954 1890.04,691.997 1893.25,691.01 1896.47,689.993 1899.69,688.948 1902.9,687.872 1906.12,686.768 1909.34,685.635 1912.55,684.472 1915.77,683.281 1918.99,682.061 1922.2,680.812 1925.42,679.535 1928.64,678.23 1931.86,676.896 1935.07,675.534 1938.29,674.144 1941.51,672.727 1944.72,671.281 1947.94,669.808 1951.16,668.308 1954.37,666.78 1957.59,665.225 1960.81,663.644 1964.02,662.035 1967.24,660.4 1970.46,658.738 1973.68,657.05 1976.89,655.336 1980.11,653.595 1983.33,651.829 1986.54,650.037 1989.76,648.22 1992.98,646.377 1996.19,644.509 1999.41,642.616 2002.63,640.699 2005.84,638.756 2009.06,636.79 2012.28,634.799 2015.5,632.784 2018.71,630.745 2021.93,628.682 2025.15,626.596 2028.36,624.487 2031.58,622.355 2034.8,620.2 2038.01,618.022 2041.23,615.822 2044.45,613.599 2047.66,611.355 2050.88,609.088 2054.1,606.801 2057.32,604.491 2060.53,602.161 2063.75,599.81 2066.97,597.438 2070.18,595.045 2073.4,592.632 2076.62,590.2 2079.83,587.747 2083.05,585.275 2086.27,582.783 2089.48,580.273 2092.7,577.743 2095.92,575.195 2099.13,572.628 2102.35,570.044 2105.57,567.441 2108.79,564.821 2112,562.183 2115.22,559.528 2118.44,556.856 2121.65,554.168 2124.87,551.463 2128.09,548.742 2131.3,546.005 2134.52,543.252 2137.74,540.484 2140.95,537.7 2144.17,534.902 2147.39,532.089 2150.61,529.261 2153.82,526.42 2157.04,523.564 2160.26,520.695 2163.47,517.812 2166.69,514.916 2169.91,512.008 2173.12,509.086 2176.34,506.153 2179.56,503.207 2182.77,500.249 2185.99,497.28 2189.21,494.3 2192.43,491.308 2195.64,488.306 2198.86,485.293 2202.08,482.27 2205.29,479.237 2208.51,476.194 2211.73,473.141 2214.94,470.08 2218.16,467.009 2221.38,463.93 2224.59,460.842 2227.81,457.746 2231.03,454.642 2234.25,451.53 2237.46,448.411 2240.68,445.285 2243.9,442.152 2247.11,439.012 2250.33,435.866 2253.55,432.713 2256.76,429.555 2259.98,426.391 2263.2,423.222 2266.41,420.048 2269.63,416.868 2272.85,413.684 2276.06,410.496 2279.28,407.303 2282.5,404.107 2285.72,400.907 2288.93,397.703 2292.15,394.497 \"/>\n",
       "<polyline clip-path=\"url(#clip122)\" style=\"stroke:#c271d2; stroke-linecap:round; stroke-linejoin:round; stroke-width:4; stroke-opacity:1; fill:none\" points=\"271.931,396.887 275.148,393.78 278.365,390.673 281.582,387.567 284.799,384.462 288.016,381.358 291.233,378.256 294.45,375.156 297.666,372.057 300.883,368.962 304.1,365.869 307.317,362.779 310.534,359.692 313.751,356.609 316.968,353.531 320.185,350.456 323.402,347.387 326.619,344.322 329.836,341.262 333.052,338.208 336.269,335.16 339.486,332.118 342.703,329.083 345.92,326.054 349.137,323.032 352.354,320.018 355.571,317.012 358.788,314.013 362.005,311.023 365.222,308.041 368.438,305.068 371.655,302.105 374.872,299.151 378.089,296.206 381.306,293.272 384.523,290.348 387.74,287.435 390.957,284.533 394.174,281.641 397.391,278.762 400.608,275.894 403.824,273.039 407.041,270.195 410.258,267.365 413.475,264.547 416.692,261.743 419.909,258.952 423.126,256.175 426.343,253.412 429.56,250.663 432.777,247.929 435.993,245.21 439.21,242.506 442.427,239.817 445.644,237.144 448.861,234.487 452.078,231.847 455.295,229.223 458.512,226.615 461.729,224.025 464.946,221.452 468.163,218.896 471.379,216.359 474.596,213.839 477.813,211.338 481.03,208.855 484.247,206.391 487.464,203.946 490.681,201.52 493.898,199.114 497.115,196.728 500.332,194.361 503.549,192.015 506.765,189.69 509.982,187.385 513.199,185.101 516.416,182.838 519.633,180.597 522.85,178.377 526.067,176.179 529.284,174.003 532.501,171.85 535.718,169.719 538.935,167.611 542.151,165.525 545.368,163.463 548.585,161.424 551.802,159.409 555.019,157.417 558.236,155.45 561.453,153.506 564.67,151.587 567.887,149.692 571.104,147.823 574.321,145.978 577.537,144.158 580.754,142.363 583.971,140.594 587.188,138.85 590.405,137.133 593.622,135.441 596.839,133.775 600.056,132.136 603.273,130.523 606.49,128.937 609.707,127.377 612.923,125.845 616.14,124.34 619.357,122.861 622.574,121.411 625.791,119.988 629.008,118.592 632.225,117.225 635.442,115.885 638.659,114.573 641.876,113.29 645.093,112.035 648.309,110.808 651.526,109.611 654.743,108.441 657.96,107.301 661.177,106.19 664.394,105.107 667.611,104.054 670.828,103.031 674.045,102.036 677.262,101.071 680.478,100.136 683.695,99.2301 686.912,98.3542 690.129,97.5081 693.346,96.692 696.563,95.9058 699.78,95.1498 702.997,94.424 706.214,93.7284 709.431,93.0631 712.648,92.4282 715.864,91.8237 719.081,91.2498 722.298,90.7064 725.515,90.1936 728.732,89.7115 731.949,89.2601 735.166,88.8395 738.383,88.4497 741.6,88.0907 744.817,87.7626 748.034,87.4654 751.25,87.1992 754.467,86.9639 757.684,86.7596 760.901,86.5863 764.118,86.4441 767.335,86.3329 770.552,86.2528 773.769,86.2037 776.986,86.1857 780.203,86.1987 783.42,86.2429 786.636,86.3181 789.853,86.4243 793.07,86.5616 796.287,86.7299 799.504,86.9293 802.721,87.1596 805.938,87.4209 809.155,87.7132 812.372,88.0364 815.589,88.3904 818.806,88.7753 822.022,89.191 825.239,89.6375 828.456,90.1148 831.673,90.6226 834.89,91.1612 838.107,91.7303 841.324,92.3299 844.541,92.9599 847.758,93.6204 850.975,94.3112 854.192,95.0322 857.408,95.7834 860.625,96.5647 863.842,97.3761 867.059,98.2174 870.276,99.0886 873.493,99.9896 876.71,100.92 879.927,101.88 883.144,102.87 886.361,103.889 889.578,104.938 892.794,106.015 896.011,107.122 899.228,108.258 902.445,109.422 905.662,110.616 908.879,111.838 912.096,113.088 915.313,114.367 918.53,115.674 921.747,117.009 924.963,118.372 928.18,119.763 931.397,121.182 934.614,122.629 937.831,124.102 941.048,125.603 944.265,127.131 947.482,128.687 950.699,130.269 953.916,131.877 957.133,133.512 960.349,135.174 963.566,136.861 966.783,138.575 970,140.314 973.217,142.08 976.434,143.87 979.651,145.686 982.868,147.527 986.085,149.393 989.302,151.284 992.519,153.199 995.735,155.139 998.952,157.102 1002.17,159.09 1005.39,161.102 1008.6,163.137 1011.82,165.195 1015.04,167.277 1018.25,169.382 1021.47,171.509 1024.69,173.659 1027.9,175.831 1031.12,178.026 1034.34,180.242 1037.56,182.48 1040.77,184.739 1043.99,187.02 1047.21,189.321 1050.42,191.643 1053.64,193.986 1056.86,196.349 1060.07,198.733 1063.29,201.136 1066.51,203.558 1069.72,206 1072.94,208.461 1076.16,210.941 1079.38,213.439 1082.59,215.956 1085.81,218.491 1089.03,221.044 1092.24,223.614 1095.46,226.201 1098.68,228.806 1101.89,231.428 1105.11,234.066 1108.33,236.72 1111.54,239.39 1114.76,242.076 1117.98,244.778 1121.19,247.495 1124.41,250.226 1127.63,252.973 1130.85,255.734 1134.06,258.508 1137.28,261.297 1140.5,264.099 1143.71,266.915 1146.93,269.744 1150.15,272.585 1153.36,275.439 1156.58,278.304 1159.8,281.182 1163.01,284.071 1166.23,286.972 1169.45,289.883 1172.67,292.806 1175.88,295.738 1179.1,298.681 1182.32,301.634 1185.53,304.596 1188.75,307.567 1191.97,310.547 1195.18,313.536 1198.4,316.534 1201.62,319.539 1204.83,322.552 1208.05,325.572 1211.27,328.6 1214.49,331.634 1217.7,334.675 1220.92,337.722 1224.14,340.775 1227.35,343.834 1230.57,346.898 1233.79,349.967 1237,353.041 1240.22,356.119 1243.44,359.201 1246.65,362.287 1249.87,365.376 1253.09,368.469 1256.31,371.564 1259.52,374.662 1262.74,377.762 1265.96,380.864 1269.17,383.968 1272.39,387.073 1275.61,390.179 1278.82,393.285 1282.04,396.392 1285.26,399.499 1288.47,402.606 1291.69,405.712 1294.91,408.817 1298.12,411.921 1301.34,415.024 1304.56,418.125 1307.78,421.223 1310.99,424.32 1314.21,427.413 1317.43,430.503 1320.64,433.59 1323.86,436.674 1327.08,439.753 1330.29,442.828 1333.51,445.899 1336.73,448.964 1339.94,452.025 1343.16,455.08 1346.38,458.129 1349.6,461.172 1352.81,464.208 1356.03,467.238 1359.25,470.261 1362.46,473.276 1365.68,476.284 1368.9,479.284 1372.11,482.275 1375.33,485.258 1378.55,488.233 1381.76,491.198 1384.98,494.153 1388.2,497.099 1391.42,500.035 1394.63,502.961 1397.85,505.876 1401.07,508.78 1404.28,511.673 1407.5,514.554 1410.72,517.424 1413.93,520.281 1417.15,523.127 1420.37,525.959 1423.58,528.779 1426.8,531.586 1430.02,534.379 1433.23,537.158 1436.45,539.923 1439.67,542.674 1442.89,545.411 1446.1,548.132 1449.32,550.839 1452.54,553.53 1455.75,556.205 1458.97,558.865 1462.19,561.508 1465.4,564.135 1468.62,566.745 1471.84,569.338 1475.05,571.914 1478.27,574.472 1481.49,577.012 1484.71,579.535 1487.92,582.039 1491.14,584.525 1494.36,586.992 1497.57,589.44 1500.79,591.869 1504.01,594.278 1507.22,596.668 1510.44,599.037 1513.66,601.386 1516.87,603.715 1520.09,606.024 1523.31,608.311 1526.53,610.577 1529.74,612.822 1532.96,615.045 1536.18,617.246 1539.39,619.426 1542.61,621.583 1545.83,623.717 1549.04,625.829 1552.26,627.918 1555.48,629.984 1558.69,632.027 1561.91,634.046 1565.13,636.041 1568.35,638.013 1571.56,639.96 1574.78,641.883 1578,643.781 1581.21,645.655 1584.43,647.504 1587.65,649.328 1590.86,651.127 1594.08,652.9 1597.3,654.648 1600.51,656.37 1603.73,658.066 1606.95,659.735 1610.16,661.379 1613.38,662.996 1616.6,664.586 1619.82,666.15 1623.03,667.687 1626.25,669.197 1629.47,670.679 1632.68,672.134 1635.9,673.562 1639.12,674.961 1642.33,676.334 1645.55,677.678 1648.77,678.994 1651.98,680.282 1655.2,681.541 1658.42,682.772 1661.64,683.975 1664.85,685.148 1668.07,686.293 1671.29,687.409 1674.5,688.496 1677.72,689.554 1680.94,690.582 1684.15,691.581 1687.37,692.551 1690.59,693.491 1693.8,694.402 1697.02,695.282 1700.24,696.133 1703.46,696.954 1706.67,697.745 1709.89,698.506 1713.11,699.236 1716.32,699.937 1719.54,700.607 1722.76,701.247 1725.97,701.856 1729.19,702.435 1732.41,702.983 1735.62,703.501 1738.84,703.988 1742.06,704.444 1745.28,704.87 1748.49,705.264 1751.71,705.628 1754.93,705.961 1758.14,706.263 1761.36,706.535 1764.58,706.775 1767.79,706.984 1771.01,707.162 1774.23,707.309 1777.44,707.425 1780.66,707.511 1783.88,707.565 1787.09,707.588 1790.31,707.579 1793.53,707.54 1796.75,707.47 1799.96,707.369 1803.18,707.236 1806.4,707.073 1809.61,706.879 1812.83,706.653 1816.05,706.397 1819.26,706.109 1822.48,705.791 1825.7,705.442 1828.91,705.062 1832.13,704.651 1835.35,704.21 1838.57,703.737 1841.78,703.234 1845,702.701 1848.22,702.136 1851.43,701.542 1854.65,700.916 1857.87,700.261 1861.08,699.575 1864.3,698.859 1867.52,698.112 1870.73,697.336 1873.95,696.529 1877.17,695.693 1880.39,694.826 1883.6,693.93 1886.82,693.004 1890.04,692.048 1893.25,691.063 1896.47,690.049 1899.69,689.005 1902.9,687.932 1906.12,686.83 1909.34,685.699 1912.55,684.539 1915.77,683.35 1918.99,682.133 1922.2,680.887 1925.42,679.613 1928.64,678.31 1931.86,676.979 1935.07,675.621 1938.29,674.234 1941.51,672.82 1944.72,671.378 1947.94,669.908 1951.16,668.412 1954.37,666.888 1957.59,665.337 1960.81,663.759 1964.02,662.155 1967.24,660.524 1970.46,658.867 1973.68,657.183 1976.89,655.474 1980.11,653.738 1983.33,651.977 1986.54,650.191 1989.76,648.379 1992.98,646.542 1996.19,644.68 1999.41,642.793 2002.63,640.882 2005.84,638.946 2009.06,636.986 2012.28,635.002 2015.5,632.994 2018.71,630.963 2021.93,628.908 2025.15,626.83 2028.36,624.729 2031.58,622.605 2034.8,620.459 2038.01,618.29 2041.23,616.099 2044.45,613.887 2047.66,611.652 2050.88,609.396 2054.1,607.119 2057.32,604.821 2060.53,602.502 2063.75,600.162 2066.97,597.802 2070.18,595.422 2073.4,593.022 2076.62,590.603 2079.83,588.164 2083.05,585.706 2086.27,583.229 2089.48,580.734 2092.7,578.22 2095.92,575.688 2099.13,573.138 2102.35,570.571 2105.57,567.986 2108.79,565.384 2112,562.765 2115.22,560.13 2118.44,557.478 2121.65,554.81 2124.87,552.126 2128.09,549.427 2131.3,546.713 2134.52,543.984 2137.74,541.24 2140.95,538.481 2144.17,535.708 2147.39,532.922 2150.61,530.122 2153.82,527.308 2157.04,524.482 2160.26,521.643 2163.47,518.791 2166.69,515.927 2169.91,513.051 2173.12,510.164 2176.34,507.265 2179.56,504.355 2182.77,501.434 2185.99,498.503 2189.21,495.562 2192.43,492.611 2195.64,489.651 2198.86,486.681 2202.08,483.702 2205.29,480.714 2208.51,477.718 2211.73,474.714 2214.94,471.702 2218.16,468.683 2221.38,465.657 2224.59,462.623 2227.81,459.583 2231.03,456.537 2234.25,453.485 2237.46,450.427 2240.68,447.364 2243.9,444.296 2247.11,441.223 2250.33,438.146 2253.55,435.064 2256.76,431.979 2259.98,428.89 2263.2,425.798 2266.41,422.703 2269.63,419.605 2272.85,416.506 2276.06,413.404 2279.28,410.301 2282.5,407.196 2285.72,404.09 2288.93,400.984 2292.15,397.877 \"/>\n",
       "<path clip-path=\"url(#clip120)\" d=\"M1970.31 352.309 L2281.37 352.309 L2281.37 93.1086 L1970.31 93.1086  Z\" fill=\"#ffffff\" fill-rule=\"evenodd\" fill-opacity=\"1\"/>\n",
       "<polyline clip-path=\"url(#clip120)\" style=\"stroke:#000000; stroke-linecap:round; stroke-linejoin:round; stroke-width:4; stroke-opacity:1; fill:none\" points=\"1970.31,352.309 2281.37,352.309 2281.37,93.1086 1970.31,93.1086 1970.31,352.309 \"/>\n",
       "<polyline clip-path=\"url(#clip120)\" style=\"stroke:#009af9; stroke-linecap:round; stroke-linejoin:round; stroke-width:4; stroke-opacity:1; fill:none\" points=\"1994.1,144.949 2136.87,144.949 \"/>\n",
       "<path clip-path=\"url(#clip120)\" d=\"M2179.09 137.067 L2179.09 141.094 Q2177.28 140.169 2175.34 139.706 Q2173.39 139.243 2171.31 139.243 Q2168.14 139.243 2166.54 140.215 Q2164.97 141.187 2164.97 143.131 Q2164.97 144.613 2166.1 145.469 Q2167.23 146.303 2170.66 147.067 L2172.12 147.391 Q2176.66 148.363 2178.55 150.145 Q2180.48 151.905 2180.48 155.076 Q2180.48 158.687 2177.6 160.793 Q2174.76 162.9 2169.76 162.9 Q2167.67 162.9 2165.41 162.483 Q2163.16 162.09 2160.66 161.28 L2160.66 156.881 Q2163.02 158.108 2165.31 158.733 Q2167.6 159.335 2169.85 159.335 Q2172.86 159.335 2174.48 158.317 Q2176.1 157.275 2176.1 155.4 Q2176.1 153.664 2174.92 152.738 Q2173.76 151.812 2169.8 150.956 L2168.32 150.608 Q2164.36 149.775 2162.6 148.062 Q2160.85 146.326 2160.85 143.317 Q2160.85 139.659 2163.44 137.669 Q2166.03 135.678 2170.8 135.678 Q2173.16 135.678 2175.24 136.025 Q2177.33 136.372 2179.09 137.067 Z\" fill=\"#000000\" fill-rule=\"nonzero\" fill-opacity=\"1\" /><path clip-path=\"url(#clip120)\" d=\"M2187.26 136.303 L2191.52 136.303 L2191.52 162.229 L2187.26 162.229 L2187.26 136.303 M2187.26 126.21 L2191.52 126.21 L2191.52 131.604 L2187.26 131.604 L2187.26 126.21 Z\" fill=\"#000000\" fill-rule=\"nonzero\" fill-opacity=\"1\" /><path clip-path=\"url(#clip120)\" d=\"M2221.98 146.581 L2221.98 162.229 L2217.72 162.229 L2217.72 146.719 Q2217.72 143.039 2216.29 141.21 Q2214.85 139.382 2211.98 139.382 Q2208.53 139.382 2206.54 141.581 Q2204.55 143.78 2204.55 147.576 L2204.55 162.229 L2200.27 162.229 L2200.27 136.303 L2204.55 136.303 L2204.55 140.331 Q2206.08 137.993 2208.14 136.835 Q2210.22 135.678 2212.93 135.678 Q2217.4 135.678 2219.69 138.456 Q2221.98 141.21 2221.98 146.581 Z\" fill=\"#000000\" fill-rule=\"nonzero\" fill-opacity=\"1\" /><path clip-path=\"url(#clip120)\" d=\"M2241.66 143.085 Q2238.51 143.085 2236.66 145.238 Q2234.83 147.391 2234.83 151.141 Q2234.83 154.868 2236.66 157.043 Q2238.51 159.196 2241.66 159.196 Q2244.8 159.196 2246.63 157.043 Q2248.48 154.868 2248.48 151.141 Q2248.48 147.391 2246.63 145.238 Q2244.8 143.085 2241.66 143.085 M2250.94 128.433 L2250.94 132.692 Q2249.18 131.858 2247.37 131.419 Q2245.59 130.979 2243.83 130.979 Q2239.2 130.979 2236.75 134.104 Q2234.32 137.229 2233.97 143.548 Q2235.34 141.534 2237.4 140.469 Q2239.46 139.382 2241.93 139.382 Q2247.14 139.382 2250.15 142.553 Q2253.18 145.701 2253.18 151.141 Q2253.18 156.465 2250.03 159.682 Q2246.89 162.9 2241.66 162.9 Q2235.66 162.9 2232.49 158.317 Q2229.32 153.71 2229.32 144.983 Q2229.32 136.789 2233.21 131.928 Q2237.1 127.044 2243.65 127.044 Q2245.41 127.044 2247.19 127.391 Q2248.99 127.738 2250.94 128.433 Z\" fill=\"#000000\" fill-rule=\"nonzero\" fill-opacity=\"1\" /><polyline clip-path=\"url(#clip120)\" style=\"stroke:#e26f46; stroke-linecap:round; stroke-linejoin:round; stroke-width:4; stroke-opacity:1; fill:none\" points=\"1994.1,196.789 2136.87,196.789 \"/>\n",
       "<path clip-path=\"url(#clip120)\" d=\"M2179.09 188.907 L2179.09 192.934 Q2177.28 192.009 2175.34 191.546 Q2173.39 191.083 2171.31 191.083 Q2168.14 191.083 2166.54 192.055 Q2164.97 193.027 2164.97 194.971 Q2164.97 196.453 2166.1 197.309 Q2167.23 198.143 2170.66 198.907 L2172.12 199.231 Q2176.66 200.203 2178.55 201.985 Q2180.48 203.745 2180.48 206.916 Q2180.48 210.527 2177.6 212.633 Q2174.76 214.74 2169.76 214.74 Q2167.67 214.74 2165.41 214.323 Q2163.16 213.93 2160.66 213.12 L2160.66 208.721 Q2163.02 209.948 2165.31 210.573 Q2167.6 211.175 2169.85 211.175 Q2172.86 211.175 2174.48 210.157 Q2176.1 209.115 2176.1 207.24 Q2176.1 205.504 2174.92 204.578 Q2173.76 203.652 2169.8 202.796 L2168.32 202.448 Q2164.36 201.615 2162.6 199.902 Q2160.85 198.166 2160.85 195.157 Q2160.85 191.499 2163.44 189.509 Q2166.03 187.518 2170.8 187.518 Q2173.16 187.518 2175.24 187.865 Q2177.33 188.212 2179.09 188.907 Z\" fill=\"#000000\" fill-rule=\"nonzero\" fill-opacity=\"1\" /><path clip-path=\"url(#clip120)\" d=\"M2187.26 188.143 L2191.52 188.143 L2191.52 214.069 L2187.26 214.069 L2187.26 188.143 M2187.26 178.05 L2191.52 178.05 L2191.52 183.444 L2187.26 183.444 L2187.26 178.05 Z\" fill=\"#000000\" fill-rule=\"nonzero\" fill-opacity=\"1\" /><path clip-path=\"url(#clip120)\" d=\"M2221.98 198.421 L2221.98 214.069 L2217.72 214.069 L2217.72 198.559 Q2217.72 194.879 2216.29 193.05 Q2214.85 191.222 2211.98 191.222 Q2208.53 191.222 2206.54 193.421 Q2204.55 195.62 2204.55 199.416 L2204.55 214.069 L2200.27 214.069 L2200.27 188.143 L2204.55 188.143 L2204.55 192.171 Q2206.08 189.833 2208.14 188.675 Q2210.22 187.518 2212.93 187.518 Q2217.4 187.518 2219.69 190.296 Q2221.98 193.05 2221.98 198.421 Z\" fill=\"#000000\" fill-rule=\"nonzero\" fill-opacity=\"1\" /><path clip-path=\"url(#clip120)\" d=\"M2229.9 179.509 L2252.12 179.509 L2252.12 181.499 L2239.57 214.069 L2234.69 214.069 L2246.49 183.444 L2229.9 183.444 L2229.9 179.509 Z\" fill=\"#000000\" fill-rule=\"nonzero\" fill-opacity=\"1\" /><polyline clip-path=\"url(#clip120)\" style=\"stroke:#3da44d; stroke-linecap:round; stroke-linejoin:round; stroke-width:4; stroke-opacity:1; fill:none\" points=\"1994.1,248.629 2136.87,248.629 \"/>\n",
       "<path clip-path=\"url(#clip120)\" d=\"M2179.09 240.747 L2179.09 244.774 Q2177.28 243.849 2175.34 243.386 Q2173.39 242.923 2171.31 242.923 Q2168.14 242.923 2166.54 243.895 Q2164.97 244.867 2164.97 246.811 Q2164.97 248.293 2166.1 249.149 Q2167.23 249.983 2170.66 250.747 L2172.12 251.071 Q2176.66 252.043 2178.55 253.825 Q2180.48 255.585 2180.48 258.756 Q2180.48 262.367 2177.6 264.473 Q2174.76 266.58 2169.76 266.58 Q2167.67 266.58 2165.41 266.163 Q2163.16 265.77 2160.66 264.96 L2160.66 260.561 Q2163.02 261.788 2165.31 262.413 Q2167.6 263.015 2169.85 263.015 Q2172.86 263.015 2174.48 261.997 Q2176.1 260.955 2176.1 259.08 Q2176.1 257.344 2174.92 256.418 Q2173.76 255.492 2169.8 254.636 L2168.32 254.288 Q2164.36 253.455 2162.6 251.742 Q2160.85 250.006 2160.85 246.997 Q2160.85 243.339 2163.44 241.349 Q2166.03 239.358 2170.8 239.358 Q2173.16 239.358 2175.24 239.705 Q2177.33 240.052 2179.09 240.747 Z\" fill=\"#000000\" fill-rule=\"nonzero\" fill-opacity=\"1\" /><path clip-path=\"url(#clip120)\" d=\"M2187.26 239.983 L2191.52 239.983 L2191.52 265.909 L2187.26 265.909 L2187.26 239.983 M2187.26 229.89 L2191.52 229.89 L2191.52 235.284 L2187.26 235.284 L2187.26 229.89 Z\" fill=\"#000000\" fill-rule=\"nonzero\" fill-opacity=\"1\" /><path clip-path=\"url(#clip120)\" d=\"M2221.98 250.261 L2221.98 265.909 L2217.72 265.909 L2217.72 250.399 Q2217.72 246.719 2216.29 244.89 Q2214.85 243.062 2211.98 243.062 Q2208.53 243.062 2206.54 245.261 Q2204.55 247.46 2204.55 251.256 L2204.55 265.909 L2200.27 265.909 L2200.27 239.983 L2204.55 239.983 L2204.55 244.011 Q2206.08 241.673 2208.14 240.515 Q2210.22 239.358 2212.93 239.358 Q2217.4 239.358 2219.69 242.136 Q2221.98 244.89 2221.98 250.261 Z\" fill=\"#000000\" fill-rule=\"nonzero\" fill-opacity=\"1\" /><path clip-path=\"url(#clip120)\" d=\"M2241.08 249.497 Q2237.74 249.497 2235.82 251.279 Q2233.92 253.061 2233.92 256.186 Q2233.92 259.311 2235.82 261.094 Q2237.74 262.876 2241.08 262.876 Q2244.41 262.876 2246.33 261.094 Q2248.25 259.288 2248.25 256.186 Q2248.25 253.061 2246.33 251.279 Q2244.43 249.497 2241.08 249.497 M2236.4 247.506 Q2233.39 246.765 2231.7 244.705 Q2230.04 242.645 2230.04 239.682 Q2230.04 235.538 2232.97 233.131 Q2235.94 230.724 2241.08 230.724 Q2246.24 230.724 2249.18 233.131 Q2252.12 235.538 2252.12 239.682 Q2252.12 242.645 2250.43 244.705 Q2248.76 246.765 2245.78 247.506 Q2249.16 248.293 2251.03 250.585 Q2252.93 252.876 2252.93 256.186 Q2252.93 261.21 2249.85 263.895 Q2246.79 266.58 2241.08 266.58 Q2235.36 266.58 2232.28 263.895 Q2229.22 261.21 2229.22 256.186 Q2229.22 252.876 2231.12 250.585 Q2233.02 248.293 2236.4 247.506 M2234.69 240.122 Q2234.69 242.807 2236.35 244.312 Q2238.04 245.816 2241.08 245.816 Q2244.09 245.816 2245.78 244.312 Q2247.49 242.807 2247.49 240.122 Q2247.49 237.437 2245.78 235.932 Q2244.09 234.427 2241.08 234.427 Q2238.04 234.427 2236.35 235.932 Q2234.69 237.437 2234.69 240.122 Z\" fill=\"#000000\" fill-rule=\"nonzero\" fill-opacity=\"1\" /><polyline clip-path=\"url(#clip120)\" style=\"stroke:#c271d2; stroke-linecap:round; stroke-linejoin:round; stroke-width:4; stroke-opacity:1; fill:none\" points=\"1994.1,300.469 2136.87,300.469 \"/>\n",
       "<path clip-path=\"url(#clip120)\" d=\"M2179.09 292.587 L2179.09 296.614 Q2177.28 295.689 2175.34 295.226 Q2173.39 294.763 2171.31 294.763 Q2168.14 294.763 2166.54 295.735 Q2164.97 296.707 2164.97 298.651 Q2164.97 300.133 2166.1 300.989 Q2167.23 301.823 2170.66 302.587 L2172.12 302.911 Q2176.66 303.883 2178.55 305.665 Q2180.48 307.425 2180.48 310.596 Q2180.48 314.207 2177.6 316.313 Q2174.76 318.42 2169.76 318.42 Q2167.67 318.42 2165.41 318.003 Q2163.16 317.61 2160.66 316.8 L2160.66 312.401 Q2163.02 313.628 2165.31 314.253 Q2167.6 314.855 2169.85 314.855 Q2172.86 314.855 2174.48 313.837 Q2176.1 312.795 2176.1 310.92 Q2176.1 309.184 2174.92 308.258 Q2173.76 307.332 2169.8 306.476 L2168.32 306.128 Q2164.36 305.295 2162.6 303.582 Q2160.85 301.846 2160.85 298.837 Q2160.85 295.179 2163.44 293.189 Q2166.03 291.198 2170.8 291.198 Q2173.16 291.198 2175.24 291.545 Q2177.33 291.892 2179.09 292.587 Z\" fill=\"#000000\" fill-rule=\"nonzero\" fill-opacity=\"1\" /><path clip-path=\"url(#clip120)\" d=\"M2187.26 291.823 L2191.52 291.823 L2191.52 317.749 L2187.26 317.749 L2187.26 291.823 M2187.26 281.73 L2191.52 281.73 L2191.52 287.124 L2187.26 287.124 L2187.26 281.73 Z\" fill=\"#000000\" fill-rule=\"nonzero\" fill-opacity=\"1\" /><path clip-path=\"url(#clip120)\" d=\"M2221.98 302.101 L2221.98 317.749 L2217.72 317.749 L2217.72 302.239 Q2217.72 298.559 2216.29 296.73 Q2214.85 294.902 2211.98 294.902 Q2208.53 294.902 2206.54 297.101 Q2204.55 299.3 2204.55 303.096 L2204.55 317.749 L2200.27 317.749 L2200.27 291.823 L2204.55 291.823 L2204.55 295.851 Q2206.08 293.513 2208.14 292.355 Q2210.22 291.198 2212.93 291.198 Q2217.4 291.198 2219.69 293.976 Q2221.98 296.73 2221.98 302.101 Z\" fill=\"#000000\" fill-rule=\"nonzero\" fill-opacity=\"1\" /><path clip-path=\"url(#clip120)\" d=\"M2247.05 301.545 Q2248.55 302.054 2249.97 303.721 Q2251.4 305.388 2252.84 308.304 L2257.58 317.749 L2252.56 317.749 L2248.14 308.883 Q2246.42 305.411 2244.8 304.276 Q2243.21 303.142 2240.43 303.142 L2235.34 303.142 L2235.34 317.749 L2230.66 317.749 L2230.66 283.189 L2241.22 283.189 Q2247.14 283.189 2250.06 285.665 Q2252.97 288.142 2252.97 293.142 Q2252.97 296.406 2251.45 298.559 Q2249.94 300.712 2247.05 301.545 M2235.34 287.031 L2235.34 299.3 L2241.22 299.3 Q2244.6 299.3 2246.31 297.749 Q2248.04 296.175 2248.04 293.142 Q2248.04 290.11 2246.31 288.582 Q2244.6 287.031 2241.22 287.031 L2235.34 287.031 Z\" fill=\"#000000\" fill-rule=\"nonzero\" fill-opacity=\"1\" /></svg>\n"
      ]
     },
     "execution_count": 64,
     "metadata": {},
     "output_type": "execute_result"
    }
   ],
   "source": [
    "using Plots\n",
    "n=0\n",
    "function sen_n(x, n)\n",
    "    sn = x\n",
    "    for i in 1:n\n",
    "        sn += (((-1)^i)/(factorial(2*i+1)))*x^(2i+1)\n",
    "    end\n",
    "    return sn \n",
    "end\n",
    "j = 5\n",
    "f(x) = sen_n(x,j)\n",
    "\n",
    "x = 0:0.01:2*π\n",
    "y = f.(x)\n",
    "\n",
    "plot(x,y,xlabel=\"x\",ylabel=\"sen(x)\",label=\"sin6\")\n",
    "\n",
    "j = 7\n",
    "g(x) = sen_n(x,j)\n",
    "z = 0:0.01:2*π\n",
    "v = f.(z)\n",
    "\n",
    "plot!(z,v,xlabel=\"x\",ylabel=\"sen(x)\",label=\"sin7\")\n",
    "\n",
    "j = 8\n",
    "h(x) = sen_n(x,j)\n",
    "c = 0:0.01:2*π\n",
    "d = f.(c)\n",
    "\n",
    "plot!(c,d,xlabel=\"x\",ylabel=\"sen(x)\",label=\"sin8\")\n",
    "\n",
    "plot!(x,sin,xlabel=\"x\",ylabel=\"sen(x)\",label=\"sinR\")"
   ]
  },
  {
   "cell_type": "code",
   "execution_count": 45,
   "metadata": {},
   "outputs": [
    {
     "name": "stdout",
     "output_type": "stream",
     "text": [
      "0.0:0.03173325912716963:3.141592653589793\n"
     ]
    }
   ],
   "source": [
    "#plot(sin(x),(x,0.,1.))\n",
    "x = range(0,π,length=100)\n",
    "y = sin.(x)\n",
    "plot(x,y)\n",
    "println(x)"
   ]
  },
  {
   "cell_type": "markdown",
   "metadata": {},
   "source": [
    "### Problema 14\n",
    "\n",
    "1. Escriba un programa que calcule la posición y la velocidad en función del tiempo para un problema de tiro oblicuo. El programa debe asumiendo que el proyectil parte del origen, y debe tomar como datos de entrada el ángulo $\\theta$ (en grados) y la rapidéz inicial $v_0$ (en m/seg.) del proyectil.\n",
    "\n",
    "2. Calcule la trayectoria para $\\theta=°30$ y $v_0=50\\, m/s$. Elija el incremento temporal ($\\Delta t$) de manera que eventualmente pueda graficar una trajectoria con 600 puntos en el intervalo entre el disparo y el instante $T$ en que el proyectil vuelve a tener altura 0. \n",
    "\n",
    "3. En una figura grafique $x(t)$, $y(t)$ y $v_y(t)$ en función de $t$. \n",
    "\n",
    "4. En otra figura grafique la trayectoria del proyectil.\n",
    "\n",
    "**Ayuda:** para plotear puntos o curvas, lea [https://docs.juliaplots.org/latest/tutorial/](https://docs.juliaplots.org/latest/tutorial/)."
   ]
  },
  {
   "cell_type": "code",
   "execution_count": null,
   "metadata": {},
   "outputs": [],
   "source": []
  },
  {
   "cell_type": "markdown",
   "metadata": {},
   "source": [
    "### Problema 15\n",
    "\n",
    "Escriba un programa para calcular un valor aproximado de $\\pi$ utilizando los siguientes métodos.\n",
    "\n",
    "1. La fórmula recurrente de Arquímedes, que  acota $\\pi$ entre $p_n$ y $P_n$, con $p_n < \\pi < P_n$, siendo $p_n$ y $P_n$ los perímetros de los polígonos regulares de $n$ lados inscriptos y circunscriptos, respectivamente, en la circunsferencia de radio $1/2$. \n",
    "\n",
    "    La fórmula de recurrencia que encontró Arquímides es la siguiente:\n",
    "    \n",
    "    $$\n",
    "    \\begin{align}\n",
    "    P_{2n} &= \\frac{2 p_n P_n}{p_n + P_n} \\\\\n",
    "    p_{2n} &= \\sqrt{P_{2n} p_n} \n",
    "    \\end{align}\n",
    "    $$\n",
    "    \n",
    "    Usando los valores $P_6=2\\sqrt{3}$ y $p_6 = 3$, correspondientes al hexágono, escriba un programa que realice 20 iteraciones recorriendo $k=0,1,..., 20$, y escriba los resultados en pantalla de $k$, $n=6\\times 2^k$, $p_n$, $P_n$, la aproximación $\\pi_n = (p_n+P_n)/2$ y el error $|\\pi_n-\\pi|$.\n",
    "\n",
    "2. La productoria de Wallis\n",
    "\n",
    "    $$\n",
    "    \\frac{\\pi}{2} = \\prod_{n=1}^\\infty \\frac{(2n)^2}{(2n)^2-1} = \\frac43\\frac{16}{15}\\frac{36}{35}\\frac{64}{63}\\dots \n",
    "    $$\n",
    "    \n",
    "    truncando la productoria a $10^6$ factores."
   ]
  },
  {
   "cell_type": "code",
   "execution_count": null,
   "metadata": {},
   "outputs": [],
   "source": []
  },
  {
   "cell_type": "markdown",
   "metadata": {},
   "source": [
    "### Problema 16\n",
    "\n",
    "La fórmula cuadrática nos dice que las raíces de $ax^2 + bx + c = 0$ son\n",
    "\n",
    "$$\n",
    "x_1 = \\frac{-b+\\sqrt{b^2-4ac}}{2a},\n",
    "\\;\\;\\;\\;\n",
    "x_2 = \\frac{-b-\\sqrt{b^2-4ac}}{2a}\n",
    "$$\n",
    "\n",
    "Si $b^2 \\gg 4ac$, cálculo de $x_1$ involucra en el numerador la sustracción de dos números casi iguales cuando $b>0$, y ocurre para el cálculo de $x_2$ cuando $b<0$.\n",
    "La división por números gigantes suele generar errores numéricos severos.\n",
    "Para solucionar este problema, conviene *racionalizar los numeradores* en cuestión.\n",
    "Más precisamente, conviene calcular la raíz $x_1$ usando la expresión\n",
    "\n",
    "$$\n",
    "x_1 = \\frac{-b+\\sqrt{b^2-4ac}}{2a} \\frac{-b-\\sqrt{b^2-4ac}}{-b-\\sqrt{b^2-4ac}} = \\frac{-2c}{b+\\sqrt{b^2-4ac}}\n",
    "$$\n",
    "\n",
    "cuando $b>0$, y conviene calcular la raíz $x_2$ usando la expresión\n",
    "\n",
    "$$\n",
    "x_2 = \\frac{-b-\\sqrt{b^2-4ac}}{2a} \\frac{-b+\\sqrt{b^2-4ac}}{-b+\\sqrt{b^2-4ac}} = \\frac{2c}{-b+\\sqrt{b^2-4ac}}\n",
    "$$\n",
    "\n",
    "cuando $b<0$.\n",
    "\n",
    "1. Implemente una función que utilice las fórmulas usuales para calcular las raices $x_1$ y $x_2$.\n",
    "\n",
    "2. Implemente otra función que utilice las fórmulas *racionalizadas* para calcular las raíces $x_1$ y $x_2$.\n",
    "\n",
    "3. Implemente una función que calcule las raíces $x_1$ y $x_2$ evaluando la condición $b>0$ para decidir que fórmula utilizar en cada caso.\n",
    "\n",
    "4. Utilice las funciones de los incisos anteriores para encontrar aproximaciones numéricas a las raíces de las ecuaciónes\n",
    "\n",
    "   a) $x^2 + 6210x + 1 = 0$\n",
    "\n",
    "   b) $x^2 - 6210x + 1 = 0$\n",
    "\n",
    "5. Repita el inciso anterior para precisión simple.\n",
    "\n",
    "6. Describa lo observado."
   ]
  },
  {
   "cell_type": "code",
   "execution_count": null,
   "metadata": {},
   "outputs": [],
   "source": []
  },
  {
   "cell_type": "markdown",
   "metadata": {},
   "source": [
    "**6.**\n",
    "Bla bla bla..."
   ]
  }
 ],
 "metadata": {
  "@webio": {
   "lastCommId": null,
   "lastKernelId": null
  },
  "kernelspec": {
   "display_name": "Julia 1.8.5",
   "language": "julia",
   "name": "julia-1.8"
  },
  "language_info": {
   "file_extension": ".jl",
   "mimetype": "application/julia",
   "name": "julia",
   "version": "1.8.5"
  }
 },
 "nbformat": 4,
 "nbformat_minor": 4
}
