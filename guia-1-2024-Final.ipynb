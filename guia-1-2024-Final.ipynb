{
 "cells": [
  {
   "cell_type": "markdown",
   "metadata": {},
   "source": [
    "# Métodos Numéricos 2024"
   ]
  },
  {
   "cell_type": "markdown",
   "metadata": {},
   "source": [
    "## Guía 1: 2024-03-12"
   ]
  },
  {
   "cell_type": "markdown",
   "metadata": {},
   "source": [
    "## Parte 1 : Uso de Linux, Julia y Notebooks"
   ]
  },
  {
   "cell_type": "markdown",
   "metadata": {},
   "source": [
    "### Ejercicio 1 : terminal de *bash*\n",
    "\n",
    "1. Abra una terminal de *bash* de linux. Ud. debería ver en la termina un *prompt* `user@host:~$` indicando el nombre del *usuario* logueado y del *host* (la computadora). En la práctica el nombre de user y host pueden cambiar dependiendo de quién es el usuario que está loguead y en que máquina lo haya hecho. Por otro lado, lo que está entre los dos puntos `:` y el signo pesos `$` indica el directorio de trabajo. En este caso, el símbolo es `~` lo cual representa una abreviación del directorio de trabajo de su usuario que, en este ejemplo, es `/home/user/`.\n",
    "\n",
    "2. El prompt le permite a Ud. ingresar comandos de *bash*. Con estos comandos, Ud. podrá crear y borrar directorios, copiar archivos, cambiar de directorio de trabajo, imprimir en pantalla la lista de directorios y archivos en su actual directorio de trabajo, etc. Además, podrá ejecutar programas."
   ]
  },
  {
   "cell_type": "markdown",
   "metadata": {},
   "source": [
    "### Ejercicio 2 : instalando *Julia*\n",
    "\n",
    "*Julia* es un lenguage de programación de [código abierto](https://es.wikipedia.org/wiki/C%C3%B3digo_abierto) (open source) específicamente desarrollado para el cálculo numérico y científico. Es el lenguaje de programación que utilizaremos en la comisión de Julia de los prácticos de Métodos Numéricos (2024).\n",
    "\n",
    "A continuación, Ud. deberá instalar Julia en la computadora en la que está trabajando. En algunos casos, puede que Julia ya esté instalado. Si ese es el caso, llame al profesor para que elimine la instalación así Ud. puede practicar la misma.\n",
    "\n",
    "Para instalar Julia:\n",
    "\n",
    "1. Ingrese a la página oficial de Julia\n",
    "\n",
    "* [https://julialang.org/](https://julialang.org/)\n",
    "        \n",
    "2. En la página de Julia, cliquee en el botón *Download*. Esto lo llevará a Ud. a la página\n",
    "\n",
    "* [https://julialang.org/downloads/](https://julialang.org/downloads/)\n",
    "        \n",
    "3. Luego, vaya hasta la sección *Official Binaries for Manual Download* y baje el archivo \n",
    "\n",
    "* [https://julialang-s3.julialang.org/bin/linux/x64/1.10/julia-1.10.2-linux-x86_64.tar.gz](https://julialang-s3.julialang.org/bin/linux/x64/1.10/julia-1.10.2-linux-x86_64.tar.gz)\n",
    "        \n",
    "    (o la versión equivalente) escondido en el link de nombre `glibc` correspondiente a la versión *Generic Linux on x86* de Linux.\n",
    "    \n",
    "4. Abra una terminal de bash y descomprima el archivo ejecutando el comando\n",
    "\n",
    "        tar -xf julia-1.10.2-linux-x86_64.tar.gz\n",
    "        \n",
    "    esto creará una carpeta llamada `julia-1.10.2` en donde podrá encontrar los archivos de Julia.\n",
    "    \n",
    "5. Para poder ejecutar julia desde cualquier directorio, hay que modificar el archivo de texto `.bashrc` agregandole al final la linea\n",
    "\n",
    "        export PATH=:$HOME/julia-1.10.2/bin:$PATH\n",
    "        \n",
    "   Para ello, puede utilizar el editor de texto `gedit` ingresando el comando\n",
    "   \n",
    "        gedit ~/.bashrc"
   ]
  },
  {
   "cell_type": "markdown",
   "metadata": {},
   "source": [
    "### Ejercicio 3 : instalando *paquetes* de Julia\n",
    "\n",
    "1. En una terminal de bash, inicie una terminal de Julia ingresando el comando `julia`. Con esto, le aparecerá el prompt `julia>` de la terminal de Julia en donde Ud. podrá ingresar comandos de Julia.\n",
    "\n",
    "2. Importe el administrador de paquetes de Julia llamado `Pkg` ingrese el comando \n",
    "\n",
    "        using Pkg \n",
    "   \n",
    "3. Para poder realizar graficos en Julia, instale el paquete `Plots` ingresando el comando \n",
    "\n",
    "        Pkg.add(\"Plots\")\n",
    "   \n",
    "4. Para poder utilizar *notebooks de Jupyter* en Julia, instale el paquete `IJulia` ingresando el comando\n",
    "\n",
    "        Pkg.add(\"IJulia\")\n",
    "   \n",
    "5. Para salir de la terminal de Julia ingrese el comando\n",
    "\n",
    "        exit()"
   ]
  },
  {
   "cell_type": "markdown",
   "metadata": {},
   "source": [
    "### Ejercicio 4 : Clonando el repositorio *git*\n",
    "\n",
    "1. En una terminal de bash, cree un directorio con el formato `apellido-nombre` ingresando el comando\n",
    "\n",
    "        mkdir apellido-nombre\n",
    "\n",
    "    Recuerde usar su primer appellido en vez de `apellido` y su primer nombre en vez de `nombre`. Evite utilizar espacios, acentos o la letra ñ.\n",
    "   \n",
    "2. Cambie de directorio de trabajo ingresando al directorio recientemente creado ingresando el comando\n",
    "\n",
    "        cd apellido-nombre\n",
    "\n",
    "3. Clone el repositorio ingresando el comando\n",
    "\n",
    "        git clone https://github.com/jipphysics/metodos-numericos-2024.git"
   ]
  },
  {
   "cell_type": "markdown",
   "metadata": {},
   "source": [
    "### Ejercicio 5 : Trabajando con *notebooks*\n",
    "\n",
    "1. En una terminal de bash, inicialize una terminal de Julia ingresando el comando\n",
    "\n",
    "        julia\n",
    "    \n",
    "2. En la terminal de Julia, inicialize el administrador de notebooks de *Jupyter* ingresando los comandos\n",
    "\n",
    "        using IJulia\n",
    "        notebook()\n",
    "   \n",
    "3. Desde el administrador de notebooks, vaya a la carpeta del repositior que anteriormente clonó y cree una copia o duplicado de la notebook \n",
    "\n",
    "        guia-1-2024.ipynb\n",
    "\n",
    "4. Abra la copia de la notebook y resuelva los ejercicios y problemas.\n",
    "\n",
    "**IMPORTANTE:** Trabaje siempre en la copia de las notebook del repositorio clonado. Nunca trabaje en la originale. Esto le permitirá en un futuro bajar facilmente el resto de las guías."
   ]
  },
  {
   "cell_type": "markdown",
   "metadata": {},
   "source": [
    "## Parte 2 : Ejercicios de programación en Julia"
   ]
  },
  {
   "cell_type": "markdown",
   "metadata": {},
   "source": [
    "### Ejercicio 6: strings\n",
    "\n",
    "En Julia, como en la mayoría de los lenguajes de programación, uno puede representar texto en el código utilizando cadenas de caracteres (strings). Para construir una cadena de caracteres, simplemente englobe el texto entre comillas\n",
    "\n",
    "        \"Hola mundo!\"\n",
    "        \n",
    "A continuación, construya una cadena de texto con su frase favorita."
   ]
  },
  {
   "cell_type": "code",
   "execution_count": null,
   "metadata": {},
   "outputs": [],
   "source": [
    "\"Los poetas, como los ciegos, pueden ver en la oscuridad.\""
   ]
  },
  {
   "cell_type": "code",
   "execution_count": null,
   "metadata": {},
   "outputs": [],
   "source": [
    "\n"
   ]
  },
  {
   "cell_type": "markdown",
   "metadata": {},
   "source": [
    "### Ejercicio 7: unicode\n",
    "\n",
    "Escribir símbolos especiales en Julia es muy parecido a escribir símbolos especiales en LaTeX. Para ello, se utiliza el sistema unicode\n",
    "\n",
    "* [https://docs.julialang.org/en/v1/manual/unicode-input/](https://docs.julialang.org/en/v1/manual/unicode-input/)\n",
    "\n",
    "Por ejemplo, para ingresar:"
   ]
  },
  {
   "cell_type": "code",
   "execution_count": null,
   "metadata": {},
   "outputs": [],
   "source": [
    "÷     # tiene que escribir \\div y luego presionar la tecla tab.\n",
    "\n",
    "α     # tiene que escribir \\alpha y luego presionar la tecla tab.\n",
    "\n",
    "⊗     # tiene que escribir \\otimes y luego presionar la tecla tab."
   ]
  },
  {
   "cell_type": "markdown",
   "metadata": {},
   "source": [
    "En una celda de código ingrese los símbolos unicode $\\pm$, $\\times$, $\\Delta$, $\\epsilon$, $\\backepsilon$, $\\subset$ y $x^3$."
   ]
  },
  {
   "cell_type": "code",
   "execution_count": null,
   "metadata": {},
   "outputs": [],
   "source": [
    "∈\n",
    "∋\n",
    "∆\n",
    "±\n",
    "⊂\n",
    "𝑥^3"
   ]
  },
  {
   "cell_type": "markdown",
   "metadata": {},
   "source": [
    "### Ejercicio 8: números enteros\n",
    "\n",
    "En Julia, Ud. puede representar un número de entero en el código escribiendo el número de la manera usual. Note, sin embargo, que los números enteros que una computadora puede representar abarcan un rango finito de posibilidades, dependiendo del *tipo* de número de entero utilizado. \n",
    "\n",
    "En Julia, existen los tipos `UInt8`, `UInt16`, `UInt32`, `UInt64` y `UInt128` para representar enteros sin signo (Unsigned) de 8, 16, 32, 64 y 128 bits y los tipos `Int8`, `Int16`, `Int32`, `Int64` y `Int128` para representar enteros con signo de 8, 16, 32, 64 y 128 bits. Por defecto, Julia utiliza enteros con signo de 64 bits. Por ende, si Ud. escribe\n",
    "\n",
    "    42\n",
    "    \n",
    "Julia asumirá que dicho número es un número entero de tipo `Int64`. Si Ud. desea que dicho número sea de tipo entero sin signo y 16 bits, simplemente escriba\n",
    "\n",
    "    UInt16(42)\n",
    "\n",
    "Para más detalle, visite la ayuda correspondiente de la página de Julia:\n",
    "\n",
    "* [https://docs.julialang.org/en/v1/manual/integers-and-floating-point-numbers/#Integers](https://docs.julialang.org/en/v1/manual/integers-and-floating-point-numbers/#Integers)\n",
    "\n",
    "A contiuación, ingrese un número de cada tipo."
   ]
  },
  {
   "cell_type": "code",
   "execution_count": null,
   "metadata": {},
   "outputs": [],
   "source": [
    "a = UInt16(15)\n",
    "print(\"$(a)\")"
   ]
  },
  {
   "cell_type": "markdown",
   "metadata": {},
   "source": [
    "### Ejercicio 9: números flotantes\n",
    "\n",
    "De manera similar a lo que ocurre con los números enteros, Julia puede representar números flotantes de diferentes tipos de precisión. Por defecto, Julia asume que los números flotantes son de 64 bits. Por ejemplo, Julia traduce\n",
    "\n",
    "        1.0\n",
    "        \n",
    "al número `Float64(1.0)`. \n",
    "\n",
    "Ingrese números flotantes de 16, 32 y 64 bits."
   ]
  },
  {
   "cell_type": "code",
   "execution_count": null,
   "metadata": {},
   "outputs": [],
   "source": [
    "x = Float64(1.54)\n",
    "y = Float32(1.30)\n",
    "z = Float16(3.1)\n",
    "println(\"$(x)\\n$(y)\\n$(z)\")"
   ]
  },
  {
   "cell_type": "markdown",
   "metadata": {},
   "source": [
    "### Ejercicio 10: variables\n",
    "\n",
    "Las variables se usan para almacenar valores. Los valores pueden ser números, strings, arrays, etc. Por ejemplo, en Julia podemos asignar un valor a una variable `x` utilizando la siguiente sintaxis\n",
    "\n",
    "    x = 10.0\n",
    "    \n",
    "Cree diferentes variables asignandole diferentes valores. Modifique luego el valor de las variables."
   ]
  },
  {
   "cell_type": "code",
   "execution_count": null,
   "metadata": {},
   "outputs": [],
   "source": [
    "x = 10 \n",
    "y = x/2\n",
    "x = y+x\n",
    "if x<100\n",
    "    println(\"$(x)\")\n",
    "else \n",
    "    println(\"$(y)\")\n",
    "end"
   ]
  },
  {
   "cell_type": "markdown",
   "metadata": {},
   "source": [
    "### Ejercicio 11: print\n",
    "\n",
    "Las funciones `print` y `println` nos permiten imprimir cosas en pantalla. Por ejemplo\n",
    "\n",
    "    println(\"Hola mundo!\")\n",
    "    \n",
    "imprimirá\n",
    "\n",
    "    Hola mundo!\n",
    "\n",
    "Se puede usar el concepto de *interpolacion* imprimir el valor de variables. Por ejemplo\n",
    "\n",
    "    x = 10.0\n",
    "    \n",
    "    println(\"El valor de x es $(x)\")\n",
    "    \n",
    "Para más información, lea la documentación correspondiente en la página de Julia\n",
    "\n",
    "* [https://docs.julialang.org/en/v1/manual/strings/#string-interpolation](https://docs.julialang.org/en/v1/manual/strings/#string-interpolation)\n",
    "    \n",
    "Use interpolación para imprimir el valor de las variables definidas arriba.    "
   ]
  },
  {
   "cell_type": "code",
   "execution_count": null,
   "metadata": {},
   "outputs": [],
   "source": [
    "println(\"$(x)\")"
   ]
  },
  {
   "cell_type": "markdown",
   "metadata": {},
   "source": [
    "### Ejercicio 12: operadores aritméticos\n",
    "\n",
    "Los operadores aritméticos nos permiten realizar operaciones aritméticas sobre expressiones y/o variables con valores numéricos. Por ejemplo, podemos cambiar de signo, sumar, restar, multiplicar, divir y exponenciar enteros, escribiendo\n",
    "\n",
    "       -3\n",
    "        3 + 4\n",
    "        3 - 4\n",
    "        3 * 4\n",
    "        3 / 4   # División flotante de 3 sobre 4\n",
    "        3 \\ 4   # División flotante de 4 sobre 3\n",
    "        3 ÷ 4   # División entera de 3 sobre 4\n",
    "        3 % 4   # Resto de la división entera de 3 sobre 4\n",
    "        3 ^ 4   # Exponenciación\n",
    "    \n",
    "Para más información, visite la documentación de Julia al respecto\n",
    "\n",
    "* [https://docs.julialang.org/en/v1/manual/mathematical-operations/](https://docs.julialang.org/en/v1/manual/mathematical-operations/)\n",
    "    \n",
    "Pruebe evaluar estas expresiones Ud. mismo. Que ocurre en el caso de las divisiones? Repita las anteriores operaciones con números flotantes. Es posible sumar strings? Y multiplicarlas?"
   ]
  },
  {
   "cell_type": "code",
   "execution_count": null,
   "metadata": {},
   "outputs": [],
   "source": [
    "\n",
    "3%5"
   ]
  },
  {
   "cell_type": "markdown",
   "metadata": {},
   "source": [
    "### Ejercicio 13: operadores booleanos\n",
    "\n",
    "Los operadores booleanos permiten realizar operaciones lógicas con los valores booleanos `true` y `false` (verdadero y falso). Por ejemplo, si `x` e `y` representan variables (o constantes) de valores booleanos, podemos aplicar el operador unario de *negación* (cambiar de verdadero a falso y viceversa)\n",
    "\n",
    "        !x\n",
    "        \n",
    "o podemos aplicar los operadores binarios *and* y *or*\n",
    "\n",
    "        x && y\n",
    "        x || y\n",
    "        \n",
    "respectivamente.\n",
    "\n",
    "También existen los operadores de comparación, los cuales retornan un valor booleano. Por ejemplo, los operadores aritméticos `==`, `<`, `>`, `<=`, `>=` (igual, menor, mayor, menor o igual, mayor o igual).\n",
    "\n",
    "Para más información, visite la documentación de Julia al respecto\n",
    "\n",
    "* [https://docs.julialang.org/en/v1/manual/mathematical-operations/](https://docs.julialang.org/en/v1/manual/mathematical-operations/)\n",
    "\n",
    "Para todas las combinaciones posibles de los valores booleanos de las variables `x` e `y`, calcule los valores booleanos de las expresiones `!x`, `x && y` y `x || y`.\n",
    "\n",
    "Luego, asigne valores aritméticos a `x` e `y` y evalúe los operadores de comparación. \n",
    "\n",
    "Pueden compararse strings?"
   ]
  },
  {
   "cell_type": "code",
   "execution_count": null,
   "metadata": {},
   "outputs": [],
   "source": [
    "x = randn()\n",
    "println(\"$(x)\")\n",
    "if typeof(x) == Int\n",
    "    println(\"x es un entero\")\n",
    "else \n",
    "    println(\"x no es entero\") \n",
    "end\n",
    "        \n"
   ]
  },
  {
   "cell_type": "markdown",
   "metadata": {},
   "source": [
    "### Ejercicio 14: condicionales\n",
    "\n",
    "Existen diferentes formas de controlar el flujo de un programa. Las expresiones condicionales sirven para controlar el flujo de un programa. La más común de ellas es el comando `if`. Veamos un ejemplo\n",
    "\n",
    "        x = 1\n",
    "        if x > 0\n",
    "            println(\"Si\");\n",
    "        else\n",
    "            println(\"No\");        \n",
    "        end\n",
    "        \n",
    "Evalúe el ejemplo. Luego, intente combiar operadores del ejercicio 13 con el if."
   ]
  },
  {
   "cell_type": "code",
   "execution_count": null,
   "metadata": {},
   "outputs": [],
   "source": [
    "x = 1\n",
    "if x >= 0 \n",
    "    println(\"Si\")\n",
    "else\n",
    "    println(\"No\")\n",
    "end"
   ]
  },
  {
   "cell_type": "markdown",
   "metadata": {},
   "source": [
    "### Ejercicio 13: loops\n",
    "\n",
    "Los loops proveen de otra forma de controlar el flujo de un programa. El fomando `for` provee la forma más común de implementar loops en Julia. Por ejemplo\n",
    "\n",
    "        for i in 1:10\n",
    "           println(\"$i\") \n",
    "        end\n",
    "        \n",
    "Para más información, puede leer la documentación de Julia al respecto\n",
    "\n",
    "* [https://docs.julialang.org/en/v1/base/base/#for](https://docs.julialang.org/en/v1/base/base/#for)\n",
    "        \n",
    "Pruebe el ejemplo anterior. Modifíquelo para que imprima los números 1,2,4,8,16,32,64,128,256.   "
   ]
  },
  {
   "cell_type": "code",
   "execution_count": null,
   "metadata": {},
   "outputs": [],
   "source": [
    "for x in 1:10\n",
    "    println(\"$(2^x)\")\n",
    "end\n"
   ]
  },
  {
   "cell_type": "markdown",
   "metadata": {},
   "source": [
    "### Ejercicio 15: funciones\n",
    "\n",
    "Las funciones proveen otra forma de controlar el flujo de un programa. En Julia, existen varias maneras de implementar una función. A continuación ejemplificamos las dos más simples. La primer forma se utiliza para definir funciones que puedan escribirse en una linea\n",
    "\n",
    "    f(x,y) = 2*x+y^3\n",
    "    f(3,4)\n",
    "    \n",
    "La segunda forma, sirve para definir funciones mas complejas    \n",
    "    \n",
    "    function g(i,n)\n",
    "        for j = 1:n\n",
    "            m=i^j\n",
    "            println(\"$m\")\n",
    "        end\n",
    "    end\n",
    "    g(2,5)\n",
    "    \n",
    "Implemente y pruebe ambas funciones. Luego, implemente y pruebe una función que retorne si un número es par o no. "
   ]
  },
  {
   "cell_type": "code",
   "execution_count": null,
   "metadata": {},
   "outputs": [],
   "source": [
    "function g(j)\n",
    "    if iseven(j) \n",
    "        println(\"$(j) es par\")\n",
    "    else \n",
    "        println(\"$(j) es impar\")\n",
    "    end\n",
    "end\n",
    "g(4)"
   ]
  },
  {
   "cell_type": "markdown",
   "metadata": {},
   "source": [
    "### Ejercicio 16: arrays\n",
    "\n",
    "El uso de vectores, matrices y tensores en general es muy común en el cálculo numérico. Los arreglos o *arrays* constituyen la forma más común de representar estos objetos matemáticos en un programa. Por ejemplo, para definir un array 1D de 5 números enteros, podemos escribir\n",
    "\n",
    "    a = Array{Int64}(undef,5)\n",
    "    \n",
    "Luego, para acceder al í-esimo elemento del array escribimos `a[i]`. De esta manera, podemos asignar valores a los elementos del array escribiendo\n",
    "\n",
    "    for i in 1:length(a)\n",
    "       a[i] = 100\n",
    "    end\n",
    "\n",
    "y luego ver que, efectivamente las entradas del array valen 100. Por ejemplo, para ver el valor almacenado en la entrada 3 escribimos\n",
    "\n",
    "    a[3]\n",
    "    \n",
    "Para definir un array 2D de dimensiones 3x4 de números flotantes de 64 bits, escribimos\n",
    "\n",
    "    b = Array{Float64}(undef,(3,4))\n",
    "    \n",
    "y para acceder al elemento i,j-ésimo escribimos `b[i,j]`.\n",
    "\n",
    "Cree y asigne valores al array `a`. Repita lo anterior para el array `b`. Luego, fabrique un array de números flotantes de 3D."
   ]
  },
  {
   "cell_type": "code",
   "execution_count": null,
   "metadata": {},
   "outputs": [],
   "source": [
    "a = Array{Any,3}(undef,(2,2,2))\n",
    "a[1,1,1] = \"cos(x)\"\n",
    "a[1,2,1] = \"sen(x)\"\n",
    "a[1,1,2] = \"tan(x)\"\n",
    "a[1,2,2] = \"e^x\"\n",
    "a[2,1,1] = 5\n",
    "a[2,2,1] = 6\n",
    "a[2,2,2] = 7\n",
    "a[2,1,2] = 8\n",
    "\n",
    "a\n",
    "\n"
   ]
  },
  {
   "cell_type": "markdown",
   "metadata": {},
   "source": [
    "### Ejercicio 17: gráficos\n",
    "\n",
    "Grafique la función seno en el intervalo $[0,2\\pi]$. Para ello, primero importe el paquete `Plots` escribiendo\n",
    "\n",
    "     using Plots\n",
    "    \n",
    "y luego realize el gráfico con el programa\n",
    "\n",
    "     plot(0:0.01:2*π,sin,xlabel=\"x\",ylabel=\"sen(x)\",label=\"\")\n",
    "     \n",
    "Luego, buscando la documentación del paquete `Plots` de Julia\n",
    "\n",
    "* [https://docs.juliaplots.org/stable/tutorial/#tutorial](https://docs.juliaplots.org/stable/tutorial/#tutorial)\n",
    "\n",
    "determine que es lo que indica cada argumento pasado a la función `plots` en el anterior programa."
   ]
  },
  {
   "cell_type": "code",
   "execution_count": null,
   "metadata": {},
   "outputs": [],
   "source": [
    "using Plots\n",
    "x = range(0, 10, length=100)\n",
    "y = sin.(x)\n",
    "y_noisy = @. sin(x) + 0.2*randn()\n",
    "\n",
    "plot(x, y, label=\"sin(x)\")\n",
    "plot!(x, y_noisy, seriestype=:scatter, label=\"data\")\n"
   ]
  },
  {
   "cell_type": "markdown",
   "metadata": {},
   "source": [
    "## Parte 3 : Errores numéricos"
   ]
  },
  {
   "cell_type": "markdown",
   "metadata": {},
   "source": [
    "### Problema 1\n",
    "\n",
    "Evaluar las siguientes operaciones matemáticas, una por celda. Tenga en cuenta que, en Julia, la división entera se representa por el símbolo ÷.\n",
    "\n",
    "    A = 5 ÷ 2 + 20 ÷ 6\n",
    "    B = 4 * 6 ÷ 2 - 15 ÷ 2\n",
    "    C = 5 * 15 ÷ 2 ÷ (4 - 2)\n",
    "    D = 1 + 1 ÷ 4\n",
    "    E = 1. + 1 ÷ 4\n",
    "    F = 1 + 1. / 4\n",
    "    G = 1. + 1. / 4.\n",
    "    \n",
    "En que se diferencian los casos, D, E, F y G?"
   ]
  },
  {
   "cell_type": "code",
   "execution_count": null,
   "metadata": {},
   "outputs": [],
   "source": []
  },
  {
   "cell_type": "markdown",
   "metadata": {},
   "source": [
    "### Problema 2\n",
    "\n",
    "Implemente una función que pida dos numeros reales y retorne el mayor de ellos, ó retorne el string `\"iguales\"` si son iguales. Pruebe la función para los casos\n",
    "\n",
    "    f(1,2)\n",
    "    f(2,1)\n",
    "    f(0.0,0.0)\n",
    "    f(0.0,10.0^(-500))\n",
    "    \n",
    "Explique que ocurre en el último caso.    "
   ]
  },
  {
   "cell_type": "code",
   "execution_count": null,
   "metadata": {},
   "outputs": [],
   "source": [
    "function f(x,y)\n",
    "    if x>y\n",
    "        println(\"$(x)\")\n",
    "    elseif x<y\n",
    "        println(\"$(y)\")\n",
    "    else\n",
    "        println(\"Son Iguales\")\n",
    "    end\n",
    "end\n",
    "f(0.0,10.0^(-500))"
   ]
  },
  {
   "cell_type": "code",
   "execution_count": null,
   "metadata": {},
   "outputs": [],
   "source": [
    "println(\"$(f(1,4))\")"
   ]
  },
  {
   "cell_type": "markdown",
   "metadata": {},
   "source": [
    "### Problema 3\n",
    "\n",
    "Implemente una función que pida un número entero y retorne un booleano determinando si es multiplo de 2 y de 5.\n",
    "Testee la función con ejemplos."
   ]
  },
  {
   "cell_type": "code",
   "execution_count": null,
   "metadata": {},
   "outputs": [],
   "source": [
    "function g(i)\n",
    "    x = i%2\n",
    "    y = i%5\n",
    "    if x == 0 && y == 0\n",
    "        println(\"True\")\n",
    "    else \n",
    "        println(\"False\")\n",
    "    end\n",
    "end\n",
    "g(2)"
   ]
  },
  {
   "cell_type": "markdown",
   "metadata": {},
   "source": [
    "### Problema 6\n",
    "\n",
    "Implemente una función que pida los coeficientes $A$, $B$ y $C$ de un polinomio real de segundo grado ($A x^2 + B x + C$), calcule e imprima en pantalla las dos raíces del polinomio en formato complejo $a + i b$, sin\n",
    "utilizar algebra compleja.\n",
    "Testee la función con ejemplos."
   ]
  },
  {
   "cell_type": "markdown",
   "metadata": {},
   "source": [
    "**Teoría**\n",
    "\n",
    "Dados\n",
    "$$\n",
    "a = -\\frac{B}{2A}\\in \\mathbb{R}\n",
    "\\;\\;\\;\\;\n",
    "\\mbox{y}\n",
    "\\;\\;\\;\\;\n",
    "b = \\frac{\\sqrt{\\left|B^2-4AC\\right|}}{2A}\\in \\mathbb{R}\n",
    "$$ \n",
    "luego, las soluciones de \n",
    "$$\n",
    "A x^2 + B x + C=0\n",
    "$$\n",
    "son\n",
    "$$\n",
    "x_{\\pm} = a\\pm b\n",
    "$$\n",
    "si el discriminante satisface\n",
    "$$\n",
    "B^2-4AC \\geq 0\n",
    "$$\n",
    "ó son\n",
    "$$\n",
    "x_{\\pm} = a\\pm ib\n",
    "$$\n",
    "en caso contrario."
   ]
  },
  {
   "cell_type": "code",
   "execution_count": 3,
   "metadata": {},
   "outputs": [
    {
     "name": "stdout",
     "output_type": "stream",
     "text": [
      "1.0\n"
     ]
    }
   ],
   "source": [
    "function f(A,B,C)\n",
    "    a = (-B)/2*A\n",
    "    d = (B^2)-(4*A*C)\n",
    "    b = sqrt(abs(d))/2*A\n",
    "    if A == 0 && B == 0\n",
    "        println(\"error: A o B tienen que ser distintos a O\")\n",
    "    elseif A == 0\n",
    "        println(\"$((-C)/B)\")\n",
    "    else\n",
    "        if d >= 0\n",
    "            println(\"$(a+b)\\n$(a-b)\")\n",
    "        else\n",
    "            println(\"$(a)+i($(b))\\n$(a)-i($(b))\")\n",
    "        end\n",
    "    end\n",
    "end\n",
    "f(0,1,-1)"
   ]
  },
  {
   "cell_type": "markdown",
   "metadata": {},
   "source": [
    "### Problema 7\n",
    "\n",
    "Implemente una función que compute la suma en precisión simple (float de 32 bits)\n",
    "$$\n",
    "\\sum_{n=1}^{10\\,000\\,000} \\frac{1}{n}\n",
    "$$\n",
    "en el orden usual.\n",
    "Luego, implemente otra que compute la suma en el orden opuesto, también en precisión simple.\n",
    "Luego, repita todo el proceso para precisión doble (float de 64 bits).\n",
    "Ejecute todas funciones, observe los resultados y describa las diferencias obtenidas.\n",
    "En particular, indique cuál función es más precisa y explique porqué."
   ]
  },
  {
   "cell_type": "code",
   "execution_count": null,
   "metadata": {},
   "outputs": [],
   "source": [
    "function f()\n",
    "x = 0\n",
    "    println(\"32 o 64?\")\n",
    "y = parse(Int32,readline())\n",
    "    if y == 32\n",
    "        for n in 1:1000000\n",
    "            x += Float32(1/n)\n",
    "        end\n",
    "        return x\n",
    "    elseif y == 64\n",
    "        for n in 1:1000000\n",
    "            x += Float64(1/n)\n",
    "        end\n",
    "        return x\n",
    "    end\n",
    "    \n",
    "end\n",
    "f()"
   ]
  },
  {
   "cell_type": "markdown",
   "metadata": {},
   "source": [
    "Bla bla ..."
   ]
  },
  {
   "cell_type": "markdown",
   "metadata": {},
   "source": [
    "### Problema 8\n",
    "\n",
    "Diseñar una función que calcule la potencia enésima de un número, es decir que devuelva $x^n$ para $x$ real y $n$ entero. Realice un programa que utilice la función e imprima en pantalla las primeras 5 potencias naturales de un número ingresado."
   ]
  },
  {
   "cell_type": "code",
   "execution_count": null,
   "metadata": {},
   "outputs": [],
   "source": [
    "function p(x,n)\n",
    "    a = x^n\n",
    "end\n",
    "c = parse(Float64, readline())\n",
    "for i in 1:5\n",
    "    println(\"$(p(c,i))\")\n",
    "end"
   ]
  },
  {
   "cell_type": "markdown",
   "metadata": {},
   "source": [
    "### Problema 9\n",
    "\n",
    "Implemente una función que tome una matriz $A$ de dimensión $M\\times N$ y un vector $v$ de dimensión $N$ y retorne un vector de dimensión $M$ igual al producto matricial $Av$.\n",
    "\n",
    "Ralice varias pruebas de la función.\n",
    "\n",
    "**Ayuda:** Lea [https://docs.julialang.org/en/v1/base/arrays/](https://docs.julialang.org/en/v1/base/arrays/)."
   ]
  },
  {
   "cell_type": "code",
   "execution_count": null,
   "metadata": {},
   "outputs": [],
   "source": [
    "using LinearAlgebra\n",
    "m = 0\n",
    "n = 0\n",
    "function h()\n",
    "    C = A*B \n",
    "    return C\n",
    "end\n",
    "A = [1 3 ; 1 2]\n",
    "B = [1 ; 5]\n",
    "h()"
   ]
  },
  {
   "cell_type": "markdown",
   "metadata": {},
   "source": [
    "### Problema 10\n",
    "\n",
    "Se determinaron 9 mediciones de concentraciones de fósforo en un campo y los datos obtenidos fueron:\n",
    "\n",
    "    479.80 \n",
    "    499.10 \n",
    "    510.20 \n",
    "    508.60\n",
    "    503.30\n",
    "    501.20\n",
    "    507.30\n",
    "    499.90\n",
    "    468.60\n",
    "    \n",
    "* Cargue los datos en un array.\n",
    "\n",
    "* Escriba un programa que calcule el promedio y la [estimación de la desviación estandard no sesgada](https://es.wikipedia.org/wiki/Estimaci%C3%B3n_de_la_desviaci%C3%B3n_est%C3%A1ndar_no_sesgada) del array de datos.\n",
    "\n",
    "**Ayudas:**\n",
    "\n",
    "* Puede crear el vector a mano, o puede intentar usando las funciones [split](https://docs.julialang.org/en/v1/base/strings/#Base.split) y [parse](https://docs.julialang.org/en/v1/base/numbers/#Base.parse), o puede intentar usar usar los paquetes [CSV](https://csv.juliadata.org/stable/) y [DataFrames](https://dataframes.juliadata.org/stable/).\n",
    "\n",
    "* El *promedio* de una serie de mediciones $x_1, x_2, ..., x_n$ se defined como\n",
    "\n",
    "    $$\n",
    "    \\overline{x} = \\frac{1}{n} \\sum_{i=1}^n x_i\n",
    "    $$\n",
    "\n",
    "    y la *estimación de la desviación estandard no sesgada* como\n",
    "    \n",
    "    $$\n",
    "    s_x = \\sqrt{\\frac{1}{n-1}\\sum_{i=1}^n (x_i-\\overline{x})^2}\n",
    "    $$"
   ]
  },
  {
   "cell_type": "code",
   "execution_count": 44,
   "metadata": {},
   "outputs": [
    {
     "data": {
      "text/plain": [
       "14.074188352362548"
      ]
     },
     "execution_count": 44,
     "metadata": {},
     "output_type": "execute_result"
    }
   ],
   "source": [
    "A = [479.80, 499.10, 510.20, 508.60, 503.30, 501.20, 507.30, 499.90, 468.60]\n",
    "function prom()\n",
    "    x = (1/length(A))*Base.sum(A)\n",
    "    return x\n",
    "end\n",
    "function desv()\n",
    "    y = 0\n",
    "    s = 0\n",
    "    for i in 1:length(A)\n",
    "        y += (A[i]-prom())^2\n",
    "        s = sqrt(1/(length(A)-1)*y)\n",
    "    end\n",
    "    return s\n",
    "end\n",
    "desv()\n",
    "#prom()"
   ]
  },
  {
   "cell_type": "markdown",
   "metadata": {},
   "source": [
    "### Problema 11\n",
    "\n",
    "Escriba una funcion que retorne el *string* de la representación en base $b \\leq 16$ de un número natural $n$. Por ejemplo, para $n=42$, la función tiene que retornar `\"101010\"` si $b=2$ (representación binaria), y tiene que retornar `\"2A\"` si $b=16$ (representación hexadecimal).\n",
    "\n",
    "**Ayuda:** Utilice las operaciones división entera `÷` y resto `%`, la concatenación de *string* s (i.e. el operador ` *`) y utilice una *string* `\"0123456789ABCDEF\"` con todos los dígitos necesarios."
   ]
  },
  {
   "cell_type": "code",
   "execution_count": null,
   "metadata": {},
   "outputs": [],
   "source": [
    "function Converter(n,base)\n",
    "    decimal = n # Guardo un numero decimal\n",
    "     baseN = \"\"# En esta variable almaceno el valor en otra base con letras\n",
    "    while decimal != 0\n",
    "        # Cambia los digitos por los de la otra base\n",
    "        resto = decimal % base\n",
    "        rem = CambiarDigitos(resto)\n",
    "        # Da a la varibale \"en la nueva base\" con los nuevos valores\n",
    "        baseN = string(rem) * baseN\n",
    "        decimal = decimal ÷ base\n",
    "    end\n",
    "    println(\"Resultado: $(baseN)\") # Muestra el resultado\n",
    "end\n",
    "\n",
    "function CambiarDigitos(digitos) # Traduce los digitos a hexadecimales\n",
    "    decimales = [10 , 11 , 12 , 13 , 14 , 15 ]\n",
    "    hexadecimal = [\"A\", \"B\", \"C\", \"D\", \"E\", \"F\"]\n",
    "    for i in 1:length(decimales)\n",
    "        if digitos == decimales[i]\n",
    "            digitos = hexadecimal[i]\n",
    "        end\n",
    "    end\n",
    "    return digitos\n",
    "end\n",
    "Converter(12334,16)"
   ]
  },
  {
   "cell_type": "code",
   "execution_count": null,
   "metadata": {},
   "outputs": [],
   "source": [
    "length(6)"
   ]
  },
  {
   "cell_type": "markdown",
   "metadata": {},
   "source": [
    "### Problema 12\n",
    "\n",
    "Efectúe con un programa en Julia en simple precisión los siguientes cálculos matemáticamente equivalentes,\n",
    "\n",
    "**a)** $1\\,000\\,000 \\times 0.1$\n",
    "\n",
    "**b)** $\\sum_{n=1}^{1\\,000\\,000} 0.1$\n",
    "\n",
    "**c)** $\\sum_{n=1}^{1\\,000} \\left( \\sum_{m=1}^{1\\,000} 0.1\\right)$\n",
    "\n",
    "1. Vaya guardando en vectores los errores parciales cada 1000 iteraciones en el caso **b)**, y en todas las iteraciones de la suma externa en **c)**, de manera que cada suma parcial comprenda 1000 términos de la suma total.\n",
    "\n",
    "2. Grafique de manera comparativa dichos errores en función de los correspondientes valores de $n$. Incluya en el gráfico nombres adecuados en los ejes y con leyendas adecuadas. \n",
    "\n",
    "3. Repita el gráfico utilizando escala logarítmica en el eje $y$.\n",
    "\n",
    "4. Utilce los resultados anteriores para explicar las diferencias obtenidas entre resultados finales de **a)**, **b)** y **c)** y muestre que el error relativo en **b)** es del orden del $1\\%$, pero es mucho menor en **c)**."
   ]
  },
  {
   "cell_type": "code",
   "execution_count": null,
   "metadata": {},
   "outputs": [],
   "source": [
    "# no salio\n"
   ]
  },
  {
   "cell_type": "markdown",
   "metadata": {},
   "source": [
    "### Problema 13\n",
    "\n",
    "**Serie de Taylor, aproximaciones y errores**\n",
    "\n",
    "La siguiente fórmula permite expresar, usando la serie de Taylor a partir del punto $x=0$, la función *seno* como suma (infinita) de potencias:\n",
    "\n",
    "$$\n",
    "\\sin(x) = \\sum_{j=0}^{\\infty} \\frac{(-1)^j}{(2j+1)!}x^{2j+1}\n",
    "$$\n",
    "\n",
    "Podemos approximar esta expresión en la computadora truncando la serie en algún valor finito de $n$.\n",
    "\n",
    "1. Defina una función, `sin_n(x,n)` que tome como argumentos un valor de la variable `x` y un valor de `n` y devuelva el valor de la suma hasta dicho $n$. \n",
    "    \n",
    "2. Grafique en el intervalo $[0, 2π]$ dicha función para los distintos valores de $n=6,7,8$ y agregue en el mismo gráfico la función `sin(x)` que viene pre-definida en Julia.\n",
    "    \n",
    "3. En otro gráfico grafique el *error* entre la aproximación con $n=8$ y la función estandard de Julia. \n",
    "    \n",
    "4. Defina una nueva función, `sin_n_inv(x,n)` idéntica a al anterior pero donde la suma se haga en orden inverso.\n",
    "    \n",
    "5. Compare los errores obtenidos con `sin_n(x,n)` y `sin_n_inv(x,n)` para `n=8` en el rango $[0,1]$.\n",
    "\n",
    "6. Repita la comparación anterior utilizando precisión simple (i.e. numero flotante de 32 bits). \n",
    "\n",
    "7. Explique las diferencias observadas entre 5. y 6.\n",
    "\n",
    "**Ayudas:** \n",
    "\n",
    "* Para calcular el factorial de un número entero use la función `factorial`.\n",
    "\n",
    "* `Float32(x)` retorna el valor de `x` en precisión simple.\n",
    "\n",
    "* Las expresiones `zero(x)` y `one(x)` retornan 0 y 1, respectivamente, en la misma precisión que la variable `x`."
   ]
  },
  {
   "cell_type": "code",
   "execution_count": 4,
   "metadata": {},
   "outputs": [
    {
     "data": {
      "image/svg+xml": [
       "<?xml version=\"1.0\" encoding=\"utf-8\"?>\n",
       "<svg xmlns=\"http://www.w3.org/2000/svg\" xmlns:xlink=\"http://www.w3.org/1999/xlink\" width=\"600\" height=\"400\" viewBox=\"0 0 2400 1600\">\n",
       "<defs>\n",
       "  <clipPath id=\"clip120\">\n",
       "    <rect x=\"0\" y=\"0\" width=\"2400\" height=\"1600\"/>\n",
       "  </clipPath>\n",
       "</defs>\n",
       "<path clip-path=\"url(#clip120)\" d=\"M0 1600 L2400 1600 L2400 0 L0 0  Z\" fill=\"#ffffff\" fill-rule=\"evenodd\" fill-opacity=\"1\"/>\n",
       "<defs>\n",
       "  <clipPath id=\"clip121\">\n",
       "    <rect x=\"480\" y=\"0\" width=\"1681\" height=\"1600\"/>\n",
       "  </clipPath>\n",
       "</defs>\n",
       "<path clip-path=\"url(#clip120)\" d=\"M257.204 1423.18 L2352.76 1423.18 L2352.76 47.2441 L257.204 47.2441  Z\" fill=\"#ffffff\" fill-rule=\"evenodd\" fill-opacity=\"1\"/>\n",
       "<defs>\n",
       "  <clipPath id=\"clip122\">\n",
       "    <rect x=\"257\" y=\"47\" width=\"2097\" height=\"1377\"/>\n",
       "  </clipPath>\n",
       "</defs>\n",
       "<polyline clip-path=\"url(#clip122)\" style=\"stroke:#000000; stroke-linecap:round; stroke-linejoin:round; stroke-width:2; stroke-opacity:0.1; fill:none\" points=\"316.512,1423.18 316.512,47.2441 \"/>\n",
       "<polyline clip-path=\"url(#clip122)\" style=\"stroke:#000000; stroke-linecap:round; stroke-linejoin:round; stroke-width:2; stroke-opacity:0.1; fill:none\" points=\"631.311,1423.18 631.311,47.2441 \"/>\n",
       "<polyline clip-path=\"url(#clip122)\" style=\"stroke:#000000; stroke-linecap:round; stroke-linejoin:round; stroke-width:2; stroke-opacity:0.1; fill:none\" points=\"946.109,1423.18 946.109,47.2441 \"/>\n",
       "<polyline clip-path=\"url(#clip122)\" style=\"stroke:#000000; stroke-linecap:round; stroke-linejoin:round; stroke-width:2; stroke-opacity:0.1; fill:none\" points=\"1260.91,1423.18 1260.91,47.2441 \"/>\n",
       "<polyline clip-path=\"url(#clip122)\" style=\"stroke:#000000; stroke-linecap:round; stroke-linejoin:round; stroke-width:2; stroke-opacity:0.1; fill:none\" points=\"1575.71,1423.18 1575.71,47.2441 \"/>\n",
       "<polyline clip-path=\"url(#clip122)\" style=\"stroke:#000000; stroke-linecap:round; stroke-linejoin:round; stroke-width:2; stroke-opacity:0.1; fill:none\" points=\"1890.51,1423.18 1890.51,47.2441 \"/>\n",
       "<polyline clip-path=\"url(#clip122)\" style=\"stroke:#000000; stroke-linecap:round; stroke-linejoin:round; stroke-width:2; stroke-opacity:0.1; fill:none\" points=\"2205.3,1423.18 2205.3,47.2441 \"/>\n",
       "<polyline clip-path=\"url(#clip120)\" style=\"stroke:#000000; stroke-linecap:round; stroke-linejoin:round; stroke-width:4; stroke-opacity:1; fill:none\" points=\"257.204,1423.18 2352.76,1423.18 \"/>\n",
       "<polyline clip-path=\"url(#clip120)\" style=\"stroke:#000000; stroke-linecap:round; stroke-linejoin:round; stroke-width:4; stroke-opacity:1; fill:none\" points=\"316.512,1423.18 316.512,1404.28 \"/>\n",
       "<polyline clip-path=\"url(#clip120)\" style=\"stroke:#000000; stroke-linecap:round; stroke-linejoin:round; stroke-width:4; stroke-opacity:1; fill:none\" points=\"631.311,1423.18 631.311,1404.28 \"/>\n",
       "<polyline clip-path=\"url(#clip120)\" style=\"stroke:#000000; stroke-linecap:round; stroke-linejoin:round; stroke-width:4; stroke-opacity:1; fill:none\" points=\"946.109,1423.18 946.109,1404.28 \"/>\n",
       "<polyline clip-path=\"url(#clip120)\" style=\"stroke:#000000; stroke-linecap:round; stroke-linejoin:round; stroke-width:4; stroke-opacity:1; fill:none\" points=\"1260.91,1423.18 1260.91,1404.28 \"/>\n",
       "<polyline clip-path=\"url(#clip120)\" style=\"stroke:#000000; stroke-linecap:round; stroke-linejoin:round; stroke-width:4; stroke-opacity:1; fill:none\" points=\"1575.71,1423.18 1575.71,1404.28 \"/>\n",
       "<polyline clip-path=\"url(#clip120)\" style=\"stroke:#000000; stroke-linecap:round; stroke-linejoin:round; stroke-width:4; stroke-opacity:1; fill:none\" points=\"1890.51,1423.18 1890.51,1404.28 \"/>\n",
       "<polyline clip-path=\"url(#clip120)\" style=\"stroke:#000000; stroke-linecap:round; stroke-linejoin:round; stroke-width:4; stroke-opacity:1; fill:none\" points=\"2205.3,1423.18 2205.3,1404.28 \"/>\n",
       "<path clip-path=\"url(#clip120)\" d=\"M316.512 1454.1 Q312.901 1454.1 311.072 1457.66 Q309.267 1461.2 309.267 1468.33 Q309.267 1475.44 311.072 1479.01 Q312.901 1482.55 316.512 1482.55 Q320.146 1482.55 321.952 1479.01 Q323.781 1475.44 323.781 1468.33 Q323.781 1461.2 321.952 1457.66 Q320.146 1454.1 316.512 1454.1 M316.512 1450.39 Q322.322 1450.39 325.378 1455 Q328.456 1459.58 328.456 1468.33 Q328.456 1477.06 325.378 1481.67 Q322.322 1486.25 316.512 1486.25 Q310.702 1486.25 307.623 1481.67 Q304.568 1477.06 304.568 1468.33 Q304.568 1459.58 307.623 1455 Q310.702 1450.39 316.512 1450.39 Z\" fill=\"#000000\" fill-rule=\"nonzero\" fill-opacity=\"1\" /><path clip-path=\"url(#clip120)\" d=\"M621.693 1481.64 L629.332 1481.64 L629.332 1455.28 L621.021 1456.95 L621.021 1452.69 L629.285 1451.02 L633.961 1451.02 L633.961 1481.64 L641.6 1481.64 L641.6 1485.58 L621.693 1485.58 L621.693 1481.64 Z\" fill=\"#000000\" fill-rule=\"nonzero\" fill-opacity=\"1\" /><path clip-path=\"url(#clip120)\" d=\"M940.762 1481.64 L957.082 1481.64 L957.082 1485.58 L935.137 1485.58 L935.137 1481.64 Q937.799 1478.89 942.383 1474.26 Q946.989 1469.61 948.17 1468.27 Q950.415 1465.74 951.295 1464.01 Q952.197 1462.25 952.197 1460.56 Q952.197 1457.8 950.253 1456.07 Q948.332 1454.33 945.23 1454.33 Q943.031 1454.33 940.577 1455.09 Q938.147 1455.86 935.369 1457.41 L935.369 1452.69 Q938.193 1451.55 940.647 1450.97 Q943.1 1450.39 945.137 1450.39 Q950.508 1450.39 953.702 1453.08 Q956.896 1455.77 956.896 1460.26 Q956.896 1462.39 956.086 1464.31 Q955.299 1466.2 953.193 1468.8 Q952.614 1469.47 949.512 1472.69 Q946.41 1475.88 940.762 1481.64 Z\" fill=\"#000000\" fill-rule=\"nonzero\" fill-opacity=\"1\" /><path clip-path=\"url(#clip120)\" d=\"M1265.16 1466.95 Q1268.51 1467.66 1270.39 1469.93 Q1272.29 1472.2 1272.29 1475.53 Q1272.29 1480.65 1268.77 1483.45 Q1265.25 1486.25 1258.77 1486.25 Q1256.59 1486.25 1254.28 1485.81 Q1251.98 1485.39 1249.53 1484.54 L1249.53 1480.02 Q1251.48 1481.16 1253.79 1481.74 Q1256.1 1482.32 1258.63 1482.32 Q1263.03 1482.32 1265.32 1480.58 Q1267.63 1478.84 1267.63 1475.53 Q1267.63 1472.48 1265.48 1470.77 Q1263.35 1469.03 1259.53 1469.03 L1255.5 1469.03 L1255.5 1465.19 L1259.72 1465.19 Q1263.17 1465.19 1264.99 1463.82 Q1266.82 1462.43 1266.82 1459.84 Q1266.82 1457.18 1264.92 1455.77 Q1263.05 1454.33 1259.53 1454.33 Q1257.61 1454.33 1255.41 1454.75 Q1253.21 1455.16 1250.57 1456.04 L1250.57 1451.88 Q1253.23 1451.14 1255.55 1450.77 Q1257.89 1450.39 1259.95 1450.39 Q1265.27 1450.39 1268.37 1452.83 Q1271.48 1455.23 1271.48 1459.35 Q1271.48 1462.22 1269.83 1464.21 Q1268.19 1466.18 1265.16 1466.95 Z\" fill=\"#000000\" fill-rule=\"nonzero\" fill-opacity=\"1\" /><path clip-path=\"url(#clip120)\" d=\"M1578.72 1455.09 L1566.91 1473.54 L1578.72 1473.54 L1578.72 1455.09 M1577.49 1451.02 L1583.37 1451.02 L1583.37 1473.54 L1588.3 1473.54 L1588.3 1477.43 L1583.37 1477.43 L1583.37 1485.58 L1578.72 1485.58 L1578.72 1477.43 L1563.11 1477.43 L1563.11 1472.92 L1577.49 1451.02 Z\" fill=\"#000000\" fill-rule=\"nonzero\" fill-opacity=\"1\" /><path clip-path=\"url(#clip120)\" d=\"M1880.78 1451.02 L1899.14 1451.02 L1899.14 1454.96 L1885.07 1454.96 L1885.07 1463.43 Q1886.08 1463.08 1887.1 1462.92 Q1888.12 1462.73 1889.14 1462.73 Q1894.93 1462.73 1898.31 1465.9 Q1901.69 1469.08 1901.69 1474.49 Q1901.69 1480.07 1898.21 1483.17 Q1894.74 1486.25 1888.42 1486.25 Q1886.25 1486.25 1883.98 1485.88 Q1881.73 1485.51 1879.33 1484.77 L1879.33 1480.07 Q1881.41 1481.2 1883.63 1481.76 Q1885.85 1482.32 1888.33 1482.32 Q1892.33 1482.32 1894.67 1480.21 Q1897.01 1478.1 1897.01 1474.49 Q1897.01 1470.88 1894.67 1468.77 Q1892.33 1466.67 1888.33 1466.67 Q1886.45 1466.67 1884.58 1467.08 Q1882.73 1467.5 1880.78 1468.38 L1880.78 1451.02 Z\" fill=\"#000000\" fill-rule=\"nonzero\" fill-opacity=\"1\" /><path clip-path=\"url(#clip120)\" d=\"M2205.71 1466.44 Q2202.56 1466.44 2200.71 1468.59 Q2198.88 1470.74 2198.88 1474.49 Q2198.88 1478.22 2200.71 1480.39 Q2202.56 1482.55 2205.71 1482.55 Q2208.86 1482.55 2210.69 1480.39 Q2212.54 1478.22 2212.54 1474.49 Q2212.54 1470.74 2210.69 1468.59 Q2208.86 1466.44 2205.71 1466.44 M2214.99 1451.78 L2214.99 1456.04 Q2213.23 1455.21 2211.43 1454.77 Q2209.64 1454.33 2207.89 1454.33 Q2203.26 1454.33 2200.8 1457.45 Q2198.37 1460.58 2198.02 1466.9 Q2199.39 1464.89 2201.45 1463.82 Q2203.51 1462.73 2205.99 1462.73 Q2211.2 1462.73 2214.2 1465.9 Q2217.24 1469.05 2217.24 1474.49 Q2217.24 1479.82 2214.09 1483.03 Q2210.94 1486.25 2205.71 1486.25 Q2199.71 1486.25 2196.54 1481.67 Q2193.37 1477.06 2193.37 1468.33 Q2193.37 1460.14 2197.26 1455.28 Q2201.15 1450.39 2207.7 1450.39 Q2209.46 1450.39 2211.24 1450.74 Q2213.05 1451.09 2214.99 1451.78 Z\" fill=\"#000000\" fill-rule=\"nonzero\" fill-opacity=\"1\" /><path clip-path=\"url(#clip120)\" d=\"M1321.59 1532.4 L1308.7 1549.74 L1322.26 1568.04 L1315.36 1568.04 L1304.98 1554.04 L1294.6 1568.04 L1287.7 1568.04 L1301.54 1549.39 L1288.87 1532.4 L1295.78 1532.4 L1305.23 1545.1 L1314.69 1532.4 L1321.59 1532.4 Z\" fill=\"#000000\" fill-rule=\"nonzero\" fill-opacity=\"1\" /><polyline clip-path=\"url(#clip122)\" style=\"stroke:#000000; stroke-linecap:round; stroke-linejoin:round; stroke-width:2; stroke-opacity:0.1; fill:none\" points=\"257.204,1383.77 2352.76,1383.77 \"/>\n",
       "<polyline clip-path=\"url(#clip122)\" style=\"stroke:#000000; stroke-linecap:round; stroke-linejoin:round; stroke-width:2; stroke-opacity:0.1; fill:none\" points=\"257.204,1059.37 2352.76,1059.37 \"/>\n",
       "<polyline clip-path=\"url(#clip122)\" style=\"stroke:#000000; stroke-linecap:round; stroke-linejoin:round; stroke-width:2; stroke-opacity:0.1; fill:none\" points=\"257.204,734.976 2352.76,734.976 \"/>\n",
       "<polyline clip-path=\"url(#clip122)\" style=\"stroke:#000000; stroke-linecap:round; stroke-linejoin:round; stroke-width:2; stroke-opacity:0.1; fill:none\" points=\"257.204,410.581 2352.76,410.581 \"/>\n",
       "<polyline clip-path=\"url(#clip122)\" style=\"stroke:#000000; stroke-linecap:round; stroke-linejoin:round; stroke-width:2; stroke-opacity:0.1; fill:none\" points=\"257.204,86.1855 2352.76,86.1855 \"/>\n",
       "<polyline clip-path=\"url(#clip120)\" style=\"stroke:#000000; stroke-linecap:round; stroke-linejoin:round; stroke-width:4; stroke-opacity:1; fill:none\" points=\"257.204,1423.18 257.204,47.2441 \"/>\n",
       "<polyline clip-path=\"url(#clip120)\" style=\"stroke:#000000; stroke-linecap:round; stroke-linejoin:round; stroke-width:4; stroke-opacity:1; fill:none\" points=\"257.204,1383.77 276.102,1383.77 \"/>\n",
       "<polyline clip-path=\"url(#clip120)\" style=\"stroke:#000000; stroke-linecap:round; stroke-linejoin:round; stroke-width:4; stroke-opacity:1; fill:none\" points=\"257.204,1059.37 276.102,1059.37 \"/>\n",
       "<polyline clip-path=\"url(#clip120)\" style=\"stroke:#000000; stroke-linecap:round; stroke-linejoin:round; stroke-width:4; stroke-opacity:1; fill:none\" points=\"257.204,734.976 276.102,734.976 \"/>\n",
       "<polyline clip-path=\"url(#clip120)\" style=\"stroke:#000000; stroke-linecap:round; stroke-linejoin:round; stroke-width:4; stroke-opacity:1; fill:none\" points=\"257.204,410.581 276.102,410.581 \"/>\n",
       "<polyline clip-path=\"url(#clip120)\" style=\"stroke:#000000; stroke-linecap:round; stroke-linejoin:round; stroke-width:4; stroke-opacity:1; fill:none\" points=\"257.204,86.1855 276.102,86.1855 \"/>\n",
       "<path clip-path=\"url(#clip120)\" d=\"M114.26 1384.22 L143.936 1384.22 L143.936 1388.15 L114.26 1388.15 L114.26 1384.22 Z\" fill=\"#000000\" fill-rule=\"nonzero\" fill-opacity=\"1\" /><path clip-path=\"url(#clip120)\" d=\"M154.839 1397.11 L162.477 1397.11 L162.477 1370.75 L154.167 1372.41 L154.167 1368.15 L162.431 1366.49 L167.107 1366.49 L167.107 1397.11 L174.746 1397.11 L174.746 1401.05 L154.839 1401.05 L154.839 1397.11 Z\" fill=\"#000000\" fill-rule=\"nonzero\" fill-opacity=\"1\" /><path clip-path=\"url(#clip120)\" d=\"M184.19 1395.17 L189.075 1395.17 L189.075 1401.05 L184.19 1401.05 L184.19 1395.17 Z\" fill=\"#000000\" fill-rule=\"nonzero\" fill-opacity=\"1\" /><path clip-path=\"url(#clip120)\" d=\"M209.26 1369.57 Q205.649 1369.57 203.82 1373.13 Q202.014 1376.67 202.014 1383.8 Q202.014 1390.91 203.82 1394.47 Q205.649 1398.01 209.26 1398.01 Q212.894 1398.01 214.699 1394.47 Q216.528 1390.91 216.528 1383.8 Q216.528 1376.67 214.699 1373.13 Q212.894 1369.57 209.26 1369.57 M209.26 1365.86 Q215.07 1365.86 218.125 1370.47 Q221.204 1375.05 221.204 1383.8 Q221.204 1392.53 218.125 1397.13 Q215.07 1401.72 209.26 1401.72 Q203.449 1401.72 200.371 1397.13 Q197.315 1392.53 197.315 1383.8 Q197.315 1375.05 200.371 1370.47 Q203.449 1365.86 209.26 1365.86 Z\" fill=\"#000000\" fill-rule=\"nonzero\" fill-opacity=\"1\" /><path clip-path=\"url(#clip120)\" d=\"M115.256 1059.82 L144.931 1059.82 L144.931 1063.76 L115.256 1063.76 L115.256 1059.82 Z\" fill=\"#000000\" fill-rule=\"nonzero\" fill-opacity=\"1\" /><path clip-path=\"url(#clip120)\" d=\"M165.024 1045.17 Q161.413 1045.17 159.584 1048.74 Q157.778 1052.28 157.778 1059.41 Q157.778 1066.51 159.584 1070.08 Q161.413 1073.62 165.024 1073.62 Q168.658 1073.62 170.464 1070.08 Q172.292 1066.51 172.292 1059.41 Q172.292 1052.28 170.464 1048.74 Q168.658 1045.17 165.024 1045.17 M165.024 1041.47 Q170.834 1041.47 173.889 1046.07 Q176.968 1050.66 176.968 1059.41 Q176.968 1068.13 173.889 1072.74 Q170.834 1077.32 165.024 1077.32 Q159.214 1077.32 156.135 1072.74 Q153.079 1068.13 153.079 1059.41 Q153.079 1050.66 156.135 1046.07 Q159.214 1041.47 165.024 1041.47 Z\" fill=\"#000000\" fill-rule=\"nonzero\" fill-opacity=\"1\" /><path clip-path=\"url(#clip120)\" d=\"M185.186 1070.77 L190.07 1070.77 L190.07 1076.65 L185.186 1076.65 L185.186 1070.77 Z\" fill=\"#000000\" fill-rule=\"nonzero\" fill-opacity=\"1\" /><path clip-path=\"url(#clip120)\" d=\"M200.301 1042.09 L218.658 1042.09 L218.658 1046.03 L204.584 1046.03 L204.584 1054.5 Q205.602 1054.15 206.621 1053.99 Q207.639 1053.8 208.658 1053.8 Q214.445 1053.8 217.824 1056.98 Q221.204 1060.15 221.204 1065.56 Q221.204 1071.14 217.732 1074.24 Q214.26 1077.32 207.94 1077.32 Q205.764 1077.32 203.496 1076.95 Q201.25 1076.58 198.843 1075.84 L198.843 1071.14 Q200.926 1072.28 203.149 1072.83 Q205.371 1073.39 207.848 1073.39 Q211.852 1073.39 214.19 1071.28 Q216.528 1069.17 216.528 1065.56 Q216.528 1061.95 214.19 1059.85 Q211.852 1057.74 207.848 1057.74 Q205.973 1057.74 204.098 1058.16 Q202.246 1058.57 200.301 1059.45 L200.301 1042.09 Z\" fill=\"#000000\" fill-rule=\"nonzero\" fill-opacity=\"1\" /><path clip-path=\"url(#clip120)\" d=\"M164.028 720.775 Q160.417 720.775 158.589 724.34 Q156.783 727.881 156.783 735.011 Q156.783 742.117 158.589 745.682 Q160.417 749.224 164.028 749.224 Q167.663 749.224 169.468 745.682 Q171.297 742.117 171.297 735.011 Q171.297 727.881 169.468 724.34 Q167.663 720.775 164.028 720.775 M164.028 717.071 Q169.839 717.071 172.894 721.678 Q175.973 726.261 175.973 735.011 Q175.973 743.738 172.894 748.344 Q169.839 752.927 164.028 752.927 Q158.218 752.927 155.14 748.344 Q152.084 743.738 152.084 735.011 Q152.084 726.261 155.14 721.678 Q158.218 717.071 164.028 717.071 Z\" fill=\"#000000\" fill-rule=\"nonzero\" fill-opacity=\"1\" /><path clip-path=\"url(#clip120)\" d=\"M184.19 746.377 L189.075 746.377 L189.075 752.256 L184.19 752.256 L184.19 746.377 Z\" fill=\"#000000\" fill-rule=\"nonzero\" fill-opacity=\"1\" /><path clip-path=\"url(#clip120)\" d=\"M209.26 720.775 Q205.649 720.775 203.82 724.34 Q202.014 727.881 202.014 735.011 Q202.014 742.117 203.82 745.682 Q205.649 749.224 209.26 749.224 Q212.894 749.224 214.699 745.682 Q216.528 742.117 216.528 735.011 Q216.528 727.881 214.699 724.34 Q212.894 720.775 209.26 720.775 M209.26 717.071 Q215.07 717.071 218.125 721.678 Q221.204 726.261 221.204 735.011 Q221.204 743.738 218.125 748.344 Q215.07 752.927 209.26 752.927 Q203.449 752.927 200.371 748.344 Q197.315 743.738 197.315 735.011 Q197.315 726.261 200.371 721.678 Q203.449 717.071 209.26 717.071 Z\" fill=\"#000000\" fill-rule=\"nonzero\" fill-opacity=\"1\" /><path clip-path=\"url(#clip120)\" d=\"M165.024 396.38 Q161.413 396.38 159.584 399.944 Q157.778 403.486 157.778 410.616 Q157.778 417.722 159.584 421.287 Q161.413 424.828 165.024 424.828 Q168.658 424.828 170.464 421.287 Q172.292 417.722 172.292 410.616 Q172.292 403.486 170.464 399.944 Q168.658 396.38 165.024 396.38 M165.024 392.676 Q170.834 392.676 173.889 397.282 Q176.968 401.866 176.968 410.616 Q176.968 419.342 173.889 423.949 Q170.834 428.532 165.024 428.532 Q159.214 428.532 156.135 423.949 Q153.079 419.342 153.079 410.616 Q153.079 401.866 156.135 397.282 Q159.214 392.676 165.024 392.676 Z\" fill=\"#000000\" fill-rule=\"nonzero\" fill-opacity=\"1\" /><path clip-path=\"url(#clip120)\" d=\"M185.186 421.981 L190.07 421.981 L190.07 427.861 L185.186 427.861 L185.186 421.981 Z\" fill=\"#000000\" fill-rule=\"nonzero\" fill-opacity=\"1\" /><path clip-path=\"url(#clip120)\" d=\"M200.301 393.301 L218.658 393.301 L218.658 397.236 L204.584 397.236 L204.584 405.708 Q205.602 405.361 206.621 405.199 Q207.639 405.014 208.658 405.014 Q214.445 405.014 217.824 408.185 Q221.204 411.356 221.204 416.773 Q221.204 422.352 217.732 425.453 Q214.26 428.532 207.94 428.532 Q205.764 428.532 203.496 428.162 Q201.25 427.791 198.843 427.051 L198.843 422.352 Q200.926 423.486 203.149 424.041 Q205.371 424.597 207.848 424.597 Q211.852 424.597 214.19 422.49 Q216.528 420.384 216.528 416.773 Q216.528 413.162 214.19 411.055 Q211.852 408.949 207.848 408.949 Q205.973 408.949 204.098 409.366 Q202.246 409.782 200.301 410.662 L200.301 393.301 Z\" fill=\"#000000\" fill-rule=\"nonzero\" fill-opacity=\"1\" /><path clip-path=\"url(#clip120)\" d=\"M154.839 99.5303 L162.477 99.5303 L162.477 73.1647 L154.167 74.8314 L154.167 70.5721 L162.431 68.9055 L167.107 68.9055 L167.107 99.5303 L174.746 99.5303 L174.746 103.465 L154.839 103.465 L154.839 99.5303 Z\" fill=\"#000000\" fill-rule=\"nonzero\" fill-opacity=\"1\" /><path clip-path=\"url(#clip120)\" d=\"M184.19 97.5859 L189.075 97.5859 L189.075 103.465 L184.19 103.465 L184.19 97.5859 Z\" fill=\"#000000\" fill-rule=\"nonzero\" fill-opacity=\"1\" /><path clip-path=\"url(#clip120)\" d=\"M209.26 71.9842 Q205.649 71.9842 203.82 75.5489 Q202.014 79.0906 202.014 86.2202 Q202.014 93.3266 203.82 96.8914 Q205.649 100.433 209.26 100.433 Q212.894 100.433 214.699 96.8914 Q216.528 93.3266 216.528 86.2202 Q216.528 79.0906 214.699 75.5489 Q212.894 71.9842 209.26 71.9842 M209.26 68.2805 Q215.07 68.2805 218.125 72.8869 Q221.204 77.4702 221.204 86.2202 Q221.204 94.947 218.125 99.5535 Q215.07 104.137 209.26 104.137 Q203.449 104.137 200.371 99.5535 Q197.315 94.947 197.315 86.2202 Q197.315 77.4702 200.371 72.8869 Q203.449 68.2805 209.26 68.2805 Z\" fill=\"#000000\" fill-rule=\"nonzero\" fill-opacity=\"1\" /><path clip-path=\"url(#clip120)\" d=\"M29.4065 807.717 L34.9447 807.717 Q33.6716 810.2 33.035 812.874 Q32.3984 815.547 32.3984 818.412 Q32.3984 822.772 33.7352 824.968 Q35.072 827.133 37.7456 827.133 Q39.7826 827.133 40.9603 825.573 Q42.1061 824.014 43.1565 819.303 L43.6021 817.298 Q44.9389 811.059 47.3897 808.449 Q49.8086 805.808 54.1691 805.808 Q59.1344 805.808 62.0308 809.754 Q64.9272 813.669 64.9272 820.544 Q64.9272 823.409 64.3543 826.528 Q63.8132 829.615 62.6992 833.053 L56.6518 833.053 Q58.3387 829.806 59.198 826.655 Q60.0256 823.504 60.0256 820.417 Q60.0256 816.279 58.6251 814.051 Q57.1929 811.823 54.6147 811.823 Q52.2276 811.823 50.9545 813.447 Q49.6813 815.038 48.5037 820.481 L48.0262 822.518 Q46.8804 827.96 44.5251 830.379 Q42.138 832.798 38.0002 832.798 Q32.9713 832.798 30.2341 829.233 Q27.4968 825.669 27.4968 819.112 Q27.4968 815.865 27.9743 813.001 Q28.4517 810.136 29.4065 807.717 Z\" fill=\"#000000\" fill-rule=\"nonzero\" fill-opacity=\"1\" /><path clip-path=\"url(#clip120)\" d=\"M44.7161 765.99 L47.5806 765.99 L47.5806 792.917 Q53.6281 792.535 56.8109 789.289 Q59.9619 786.01 59.9619 780.186 Q59.9619 776.812 59.1344 773.661 Q58.3069 770.478 56.6518 767.359 L62.1899 767.359 Q63.5267 770.51 64.227 773.82 Q64.9272 777.13 64.9272 780.536 Q64.9272 789.066 59.9619 794.063 Q54.9967 799.028 46.5303 799.028 Q37.7774 799.028 32.6531 794.318 Q27.4968 789.575 27.4968 781.554 Q27.4968 774.361 32.1438 770.192 Q36.7589 765.99 44.7161 765.99 M42.9973 771.847 Q38.1912 771.91 35.3266 774.552 Q32.4621 777.162 32.4621 781.491 Q32.4621 786.392 35.2312 789.352 Q38.0002 792.281 43.0292 792.726 L42.9973 771.847 Z\" fill=\"#000000\" fill-rule=\"nonzero\" fill-opacity=\"1\" /><path clip-path=\"url(#clip120)\" d=\"M42.4881 726.746 L64.0042 726.746 L64.0042 732.602 L42.679 732.602 Q37.6183 732.602 35.1038 734.575 Q32.5894 736.549 32.5894 740.496 Q32.5894 745.238 35.6131 747.975 Q38.6368 750.712 43.8567 750.712 L64.0042 750.712 L64.0042 756.601 L28.3562 756.601 L28.3562 750.712 L33.8944 750.712 Q30.6797 748.612 29.0883 745.779 Q27.4968 742.914 27.4968 739.191 Q27.4968 733.048 31.3163 729.897 Q35.1038 726.746 42.4881 726.746 Z\" fill=\"#000000\" fill-rule=\"nonzero\" fill-opacity=\"1\" /><path clip-path=\"url(#clip120)\" d=\"M14.5426 700.996 Q21.8632 705.261 29.0246 707.33 Q36.186 709.399 43.5384 709.399 Q50.8908 709.399 58.1159 707.33 Q65.3091 705.229 72.5979 700.996 L72.5979 706.089 Q65.1182 710.863 57.8931 713.25 Q50.668 715.606 43.5384 715.606 Q36.4406 715.606 29.2474 713.25 Q22.0542 710.895 14.5426 706.089 L14.5426 700.996 Z\" fill=\"#000000\" fill-rule=\"nonzero\" fill-opacity=\"1\" /><path clip-path=\"url(#clip120)\" d=\"M28.3562 660.001 L45.7028 672.892 L64.0042 659.333 L64.0042 666.24 L49.9996 676.616 L64.0042 686.992 L64.0042 693.899 L45.3526 680.053 L28.3562 692.721 L28.3562 685.814 L41.0558 676.361 L28.3562 666.908 L28.3562 660.001 Z\" fill=\"#000000\" fill-rule=\"nonzero\" fill-opacity=\"1\" /><path clip-path=\"url(#clip120)\" d=\"M14.5426 651.98 L14.5426 646.888 Q22.0542 642.114 29.2474 639.758 Q36.4406 637.371 43.5384 637.371 Q50.668 637.371 57.8931 639.758 Q65.1182 642.114 72.5979 646.888 L72.5979 651.98 Q65.3091 647.747 58.1159 645.678 Q50.8908 643.578 43.5384 643.578 Q36.186 643.578 29.0246 645.678 Q21.8632 647.747 14.5426 651.98 Z\" fill=\"#000000\" fill-rule=\"nonzero\" fill-opacity=\"1\" /><polyline clip-path=\"url(#clip122)\" style=\"stroke:#009af9; stroke-linecap:round; stroke-linejoin:round; stroke-width:4; stroke-opacity:1; fill:none\" points=\"316.512,734.976 319.66,728.488 322.808,722.001 325.956,715.515 329.104,709.031 332.252,702.55 335.4,696.072 338.548,689.598 341.696,683.128 344.844,676.664 347.992,670.205 351.14,663.753 354.288,657.308 357.436,650.871 360.584,644.442 363.732,638.022 366.88,631.612 370.028,625.212 373.176,618.823 376.324,612.446 379.472,606.081 382.62,599.729 385.768,593.391 388.916,587.066 392.064,580.757 395.212,574.463 398.36,568.185 401.508,561.923 404.656,555.679 407.804,549.453 410.952,543.245 414.1,537.057 417.248,530.888 420.396,524.74 423.544,518.613 426.692,512.507 429.84,506.424 432.988,500.363 436.136,494.326 439.284,488.313 442.432,482.325 445.58,476.362 448.728,470.425 451.876,464.514 455.024,458.631 458.172,452.775 461.319,446.947 464.467,441.148 467.615,435.378 470.763,429.638 473.911,423.929 477.059,418.251 480.207,412.605 483.355,406.991 486.503,401.41 489.651,395.862 492.799,390.348 495.947,384.868 499.095,379.423 502.243,374.014 505.391,368.641 508.539,363.305 511.687,358.006 514.835,352.745 517.983,347.521 521.131,342.337 524.279,337.192 527.427,332.086 530.575,327.021 533.723,321.997 536.871,317.014 540.019,312.072 543.167,307.174 546.315,302.317 549.463,297.504 552.611,292.735 555.759,288.01 558.907,283.33 562.055,278.695 565.203,274.106 568.351,269.562 571.499,265.065 574.647,260.616 577.795,256.213 580.943,251.859 584.091,247.552 587.239,243.295 590.387,239.087 593.535,234.928 596.683,230.819 599.831,226.761 602.979,222.753 606.127,218.797 609.275,214.893 612.423,211.04 615.571,207.24 618.719,203.492 621.867,199.798 625.015,196.157 628.163,192.57 631.311,189.038 634.459,185.56 637.607,182.136 640.755,178.769 643.903,175.456 647.051,172.2 650.199,169 653.347,165.857 656.495,162.77 659.643,159.741 662.791,156.769 665.939,153.855 669.087,150.999 672.235,148.202 675.383,145.463 678.531,142.783 681.679,140.163 684.827,137.602 687.975,135.1 691.123,132.659 694.271,130.278 697.419,127.957 700.566,125.697 703.714,123.498 706.862,121.36 710.01,119.284 713.158,117.269 716.306,115.316 719.454,113.424 722.602,111.595 725.75,109.829 728.898,108.124 732.046,106.483 735.194,104.904 738.342,103.388 741.49,101.936 744.638,100.547 747.786,99.2209 750.934,97.9587 754.082,96.7602 757.23,95.6255 760.378,94.5548 763.526,93.5481 766.674,92.6055 769.822,91.7272 772.97,90.9132 776.118,90.1636 779.266,89.4785 782.414,88.8579 785.562,88.302 788.71,87.8107 791.858,87.3841 795.006,87.0223 798.154,86.7253 801.302,86.4931 804.45,86.3258 807.598,86.2233 810.746,86.1857 813.894,86.2129 817.042,86.3051 820.19,86.4621 823.338,86.684 826.486,86.9707 829.634,87.3222 832.782,87.7384 835.93,88.2194 839.078,88.7651 842.226,89.3753 845.374,90.0502 848.522,90.7895 851.67,91.5933 854.818,92.4613 857.966,93.3937 861.114,94.3902 864.262,95.4507 867.41,96.5752 870.558,97.7636 873.706,99.0156 876.854,100.331 880.002,101.71 883.15,103.153 886.298,104.659 889.446,106.227 892.594,107.859 895.742,109.553 898.89,111.31 902.038,113.129 905.186,115.01 908.334,116.954 911.482,118.959 914.63,121.025 917.778,123.154 920.926,125.343 924.074,127.593 927.222,129.904 930.37,132.276 933.518,134.708 936.666,137.199 939.813,139.751 942.961,142.362 946.109,145.032 949.257,147.762 952.405,150.55 955.553,153.396 958.701,156.301 961.849,159.264 964.997,162.284 968.145,165.361 971.293,168.496 974.441,171.687 977.589,174.934 980.737,178.237 983.885,181.596 987.033,185.011 990.181,188.48 993.329,192.004 996.477,195.582 999.625,199.214 1002.77,202.9 1005.92,206.639 1009.07,210.431 1012.22,214.275 1015.37,218.172 1018.51,222.12 1021.66,226.119 1024.81,230.169 1027.96,234.27 1031.11,238.421 1034.25,242.621 1037.4,246.871 1040.55,251.169 1043.7,255.516 1046.85,259.911 1049.99,264.353 1053.14,268.843 1056.29,273.379 1059.44,277.961 1062.58,282.589 1065.73,287.262 1068.88,291.98 1072.03,296.742 1075.18,301.548 1078.32,306.397 1081.47,311.289 1084.62,316.224 1087.77,321.2 1090.92,326.218 1094.06,331.276 1097.21,336.375 1100.36,341.514 1103.51,346.693 1106.66,351.91 1109.8,357.165 1112.95,362.458 1116.1,367.788 1119.25,373.156 1122.4,378.559 1125.54,383.998 1128.69,389.472 1131.84,394.98 1134.99,400.523 1138.14,406.099 1141.28,411.708 1144.43,417.349 1147.58,423.022 1150.73,428.726 1153.88,434.461 1157.02,440.226 1160.17,446.02 1163.32,451.843 1166.47,457.695 1169.62,463.574 1172.76,469.48 1175.91,475.413 1179.06,481.372 1182.21,487.356 1185.36,493.365 1188.5,499.398 1191.65,505.455 1194.8,511.535 1197.95,517.637 1201.1,523.76 1204.24,529.905 1207.39,536.07 1210.54,542.255 1213.69,548.46 1216.84,554.683 1219.98,560.924 1223.13,567.183 1226.28,573.458 1229.43,579.749 1232.58,586.056 1235.72,592.378 1238.87,598.714 1242.02,605.064 1245.17,611.426 1248.32,617.801 1251.46,624.188 1254.61,630.586 1257.76,636.994 1260.91,643.412 1264.06,649.839 1267.2,656.275 1270.35,662.718 1273.5,669.169 1276.65,675.626 1279.8,682.089 1282.94,688.557 1286.09,695.03 1289.24,701.507 1292.39,707.988 1295.54,714.471 1298.68,720.956 1301.83,727.442 1304.98,733.929 1308.13,740.416 1311.28,746.903 1314.42,753.388 1317.57,759.872 1320.72,766.353 1323.87,772.831 1327.02,779.305 1330.16,785.774 1333.31,792.239 1336.46,798.697 1339.61,805.149 1342.76,811.595 1345.9,818.032 1349.05,824.461 1352.2,830.881 1355.35,837.292 1358.5,843.692 1361.64,850.081 1364.79,856.459 1367.94,862.824 1371.09,869.176 1374.24,875.516 1377.38,881.841 1380.53,888.151 1383.68,894.445 1386.83,900.724 1389.98,906.986 1393.12,913.231 1396.27,919.458 1399.42,925.666 1402.57,931.856 1405.72,938.025 1408.86,944.174 1412.01,950.302 1415.16,956.408 1418.31,962.492 1421.46,968.554 1424.6,974.591 1427.75,980.605 1430.9,986.594 1434.05,992.557 1437.2,998.495 1440.34,1004.41 1443.49,1010.29 1446.64,1016.15 1449.79,1021.97 1452.94,1027.77 1456.08,1033.54 1459.23,1039.28 1462.38,1044.99 1465.53,1050.67 1468.68,1056.32 1471.82,1061.93 1474.97,1067.51 1478.12,1073.06 1481.27,1078.57 1484.42,1084.05 1487.56,1089.49 1490.71,1094.9 1493.86,1100.27 1497.01,1105.61 1500.16,1110.9 1503.3,1116.16 1506.45,1121.39 1509.6,1126.57 1512.75,1131.71 1515.9,1136.81 1519.04,1141.87 1522.19,1146.89 1525.34,1151.87 1528.49,1156.81 1531.64,1161.71 1534.78,1166.56 1537.93,1171.36 1541.08,1176.13 1544.23,1180.85 1547.37,1185.52 1550.52,1190.15 1553.67,1194.73 1556.82,1199.27 1559.97,1203.76 1563.11,1208.2 1566.26,1212.59 1569.41,1216.94 1572.56,1221.23 1575.71,1225.48 1578.85,1229.68 1582,1233.82 1585.15,1237.92 1588.3,1241.97 1591.45,1245.96 1594.59,1249.9 1597.74,1253.79 1600.89,1257.63 1604.04,1261.41 1607.19,1265.14 1610.33,1268.82 1613.48,1272.44 1616.63,1276.01 1619.78,1279.52 1622.93,1282.97 1626.07,1286.37 1629.22,1289.72 1632.37,1293 1635.52,1296.23 1638.67,1299.41 1641.81,1302.52 1644.96,1305.58 1648.11,1308.58 1651.26,1311.52 1654.41,1314.4 1657.55,1317.22 1660.7,1319.98 1663.85,1322.68 1667,1325.32 1670.15,1327.9 1673.29,1330.42 1676.44,1332.88 1679.59,1335.27 1682.74,1337.61 1685.89,1339.88 1689.03,1342.09 1692.18,1344.23 1695.33,1346.32 1698.48,1348.34 1701.63,1350.29 1704.77,1352.18 1707.92,1354.01 1711.07,1355.77 1714.22,1357.47 1717.37,1359.11 1720.51,1360.67 1723.66,1362.18 1726.81,1363.61 1729.96,1364.99 1733.11,1366.29 1736.25,1367.53 1739.4,1368.7 1742.55,1369.81 1745.7,1370.84 1748.85,1371.82 1751.99,1372.72 1755.14,1373.56 1758.29,1374.32 1761.44,1375.02 1764.59,1375.66 1767.73,1376.22 1770.88,1376.72 1774.03,1377.14 1777.18,1377.5 1780.33,1377.79 1783.47,1378.01 1786.62,1378.16 1789.77,1378.24 1792.92,1378.25 1796.07,1378.19 1799.21,1378.06 1802.36,1377.86 1805.51,1377.59 1808.66,1377.25 1811.81,1376.84 1814.95,1376.36 1818.1,1375.81 1821.25,1375.18 1824.4,1374.49 1827.55,1373.72 1830.69,1372.88 1833.84,1371.98 1836.99,1371 1840.14,1369.94 1843.29,1368.82 1846.43,1367.63 1849.58,1366.36 1852.73,1365.02 1855.88,1363.61 1859.03,1362.12 1862.17,1360.56 1865.32,1358.93 1868.47,1357.23 1871.62,1355.46 1874.77,1353.61 1877.91,1351.69 1881.06,1349.69 1884.21,1347.63 1887.36,1345.49 1890.51,1343.27 1893.65,1340.98 1896.8,1338.62 1899.95,1336.19 1903.1,1333.68 1906.25,1331.1 1909.39,1328.44 1912.54,1325.71 1915.69,1322.9 1918.84,1320.02 1921.99,1317.07 1925.13,1314.04 1928.28,1310.93 1931.43,1307.76 1934.58,1304.5 1937.73,1301.17 1940.87,1297.77 1944.02,1294.29 1947.17,1290.73 1950.32,1287.1 1953.47,1283.39 1956.61,1279.61 1959.76,1275.75 1962.91,1271.82 1966.06,1267.81 1969.21,1263.72 1972.35,1259.55 1975.5,1255.31 1978.65,1250.99 1981.8,1246.59 1984.95,1242.12 1988.09,1237.56 1991.24,1232.93 1994.39,1228.22 1997.54,1223.44 2000.69,1218.57 2003.83,1213.62 2006.98,1208.6 2010.13,1203.5 2013.28,1198.31 2016.42,1193.05 2019.57,1187.7 2022.72,1182.28 2025.87,1176.77 2029.02,1171.18 2032.16,1165.51 2035.31,1159.76 2038.46,1153.93 2041.61,1148.01 2044.76,1142.01 2047.9,1135.93 2051.05,1129.76 2054.2,1123.51 2057.35,1117.17 2060.5,1110.75 2063.64,1104.25 2066.79,1097.65 2069.94,1090.97 2073.09,1084.2 2076.24,1077.35 2079.38,1070.4 2082.53,1063.37 2085.68,1056.24 2088.83,1049.03 2091.98,1041.73 2095.12,1034.33 2098.27,1026.84 2101.42,1019.26 2104.57,1011.59 2107.72,1003.82 2110.86,995.952 2114.01,987.992 2117.16,979.935 2120.31,971.78 2123.46,963.527 2126.6,955.174 2129.75,946.722 2132.9,938.168 2136.05,929.511 2139.2,920.752 2142.34,911.888 2145.49,902.919 2148.64,893.844 2151.79,884.661 2154.94,875.37 2158.08,865.969 2161.23,856.457 2164.38,846.832 2167.53,837.094 2170.68,827.241 2173.82,817.272 2176.97,807.186 2180.12,796.98 2183.27,786.654 2186.42,776.206 2189.56,765.634 2192.71,754.937 2195.86,744.113 2199.01,733.161 2202.16,722.079 2205.3,710.865 2208.45,699.518 2211.6,688.034 2214.75,676.414 2217.9,664.654 2221.04,652.753 2224.19,640.708 2227.34,628.518 2230.49,616.18 2233.64,603.693 2236.78,591.053 2239.93,578.26 2243.08,565.309 2246.23,552.2 2249.38,538.929 2252.52,525.494 2255.67,511.892 2258.82,498.121 2261.97,484.178 2265.12,470.06 2268.26,455.765 2271.41,441.289 2274.56,426.63 2277.71,411.784 2280.86,396.748 2284,381.52 2287.15,366.096 2290.3,350.473 2293.45,334.646 \"/>\n",
       "<polyline clip-path=\"url(#clip122)\" style=\"stroke:#e26f46; stroke-linecap:round; stroke-linejoin:round; stroke-width:4; stroke-opacity:1; fill:none\" points=\"316.512,734.976 319.66,728.488 322.808,722.001 325.956,715.515 329.104,709.031 332.252,702.55 335.4,696.072 338.548,689.598 341.696,683.128 344.844,676.664 347.992,670.205 351.14,663.753 354.288,657.308 357.436,650.871 360.584,644.442 363.732,638.022 366.88,631.612 370.028,625.212 373.176,618.823 376.324,612.446 379.472,606.081 382.62,599.729 385.768,593.391 388.916,587.066 392.064,580.757 395.212,574.463 398.36,568.185 401.508,561.923 404.656,555.679 407.804,549.453 410.952,543.245 414.1,537.057 417.248,530.888 420.396,524.74 423.544,518.613 426.692,512.507 429.84,506.424 432.988,500.363 436.136,494.326 439.284,488.313 442.432,482.325 445.58,476.362 448.728,470.425 451.876,464.514 455.024,458.631 458.172,452.775 461.319,446.947 464.467,441.148 467.615,435.378 470.763,429.638 473.911,423.929 477.059,418.251 480.207,412.605 483.355,406.991 486.503,401.41 489.651,395.862 492.799,390.348 495.947,384.868 499.095,379.423 502.243,374.014 505.391,368.641 508.539,363.305 511.687,358.006 514.835,352.745 517.983,347.521 521.131,342.337 524.279,337.192 527.427,332.086 530.575,327.021 533.723,321.997 536.871,317.014 540.019,312.072 543.167,307.174 546.315,302.317 549.463,297.504 552.611,292.735 555.759,288.01 558.907,283.33 562.055,278.695 565.203,274.106 568.351,269.562 571.499,265.065 574.647,260.616 577.795,256.213 580.943,251.859 584.091,247.552 587.239,243.295 590.387,239.087 593.535,234.928 596.683,230.819 599.831,226.761 602.979,222.753 606.127,218.797 609.275,214.893 612.423,211.04 615.571,207.24 618.719,203.492 621.867,199.798 625.015,196.157 628.163,192.57 631.311,189.038 634.459,185.56 637.607,182.136 640.755,178.769 643.903,175.456 647.051,172.2 650.199,169 653.347,165.857 656.495,162.77 659.643,159.741 662.791,156.769 665.939,153.855 669.087,150.999 672.235,148.202 675.383,145.463 678.531,142.783 681.679,140.163 684.827,137.602 687.975,135.1 691.123,132.659 694.271,130.278 697.419,127.957 700.566,125.697 703.714,123.498 706.862,121.36 710.01,119.284 713.158,117.269 716.306,115.316 719.454,113.424 722.602,111.595 725.75,109.829 728.898,108.124 732.046,106.483 735.194,104.904 738.342,103.388 741.49,101.936 744.638,100.547 747.786,99.2209 750.934,97.9587 754.082,96.7602 757.23,95.6255 760.378,94.5548 763.526,93.5481 766.674,92.6055 769.822,91.7272 772.97,90.9132 776.118,90.1636 779.266,89.4785 782.414,88.8579 785.562,88.302 788.71,87.8107 791.858,87.3841 795.006,87.0223 798.154,86.7253 801.302,86.4931 804.45,86.3258 807.598,86.2233 810.746,86.1857 813.894,86.2129 817.042,86.3051 820.19,86.4621 823.338,86.684 826.486,86.9707 829.634,87.3222 832.782,87.7384 835.93,88.2194 839.078,88.7651 842.226,89.3753 845.374,90.0502 848.522,90.7895 851.67,91.5933 854.818,92.4613 857.966,93.3937 861.114,94.3902 864.262,95.4507 867.41,96.5752 870.558,97.7636 873.706,99.0156 876.854,100.331 880.002,101.71 883.15,103.153 886.298,104.659 889.446,106.227 892.594,107.859 895.742,109.553 898.89,111.31 902.038,113.129 905.186,115.01 908.334,116.954 911.482,118.959 914.63,121.025 917.778,123.154 920.926,125.343 924.074,127.593 927.222,129.904 930.37,132.276 933.518,134.708 936.666,137.199 939.813,139.751 942.961,142.362 946.109,145.032 949.257,147.762 952.405,150.55 955.553,153.396 958.701,156.301 961.849,159.264 964.997,162.284 968.145,165.361 971.293,168.496 974.441,171.687 977.589,174.934 980.737,178.237 983.885,181.596 987.033,185.011 990.181,188.48 993.329,192.004 996.477,195.582 999.625,199.215 1002.77,202.9 1005.92,206.639 1009.07,210.431 1012.22,214.276 1015.37,218.172 1018.51,222.12 1021.66,226.119 1024.81,230.17 1027.96,234.27 1031.11,238.421 1034.25,242.621 1037.4,246.871 1040.55,251.17 1043.7,255.516 1046.85,259.911 1049.99,264.354 1053.14,268.843 1056.29,273.379 1059.44,277.961 1062.58,282.589 1065.73,287.262 1068.88,291.98 1072.03,296.742 1075.18,301.548 1078.32,306.397 1081.47,311.289 1084.62,316.224 1087.77,321.2 1090.92,326.218 1094.06,331.277 1097.21,336.376 1100.36,341.515 1103.51,346.693 1106.66,351.91 1109.8,357.165 1112.95,362.459 1116.1,367.789 1119.25,373.156 1122.4,378.559 1125.54,383.998 1128.69,389.472 1131.84,394.981 1134.99,400.524 1138.14,406.1 1141.28,411.709 1144.43,417.35 1147.58,423.023 1150.73,428.727 1153.88,434.462 1157.02,440.227 1160.17,446.021 1163.32,451.845 1166.47,457.696 1169.62,463.575 1172.76,469.482 1175.91,475.415 1179.06,481.374 1182.21,487.358 1185.36,493.367 1188.5,499.4 1191.65,505.457 1194.8,511.537 1197.95,517.639 1201.1,523.763 1204.24,529.908 1207.39,536.073 1210.54,542.259 1213.69,548.463 1216.84,554.686 1219.98,560.928 1223.13,567.186 1226.28,573.462 1229.43,579.754 1232.58,586.061 1235.72,592.383 1238.87,598.719 1242.02,605.069 1245.17,611.432 1248.32,617.807 1251.46,624.194 1254.61,630.592 1257.76,637.001 1260.91,643.419 1264.06,649.847 1267.2,656.283 1270.35,662.726 1273.5,669.177 1276.65,675.635 1279.8,682.099 1282.94,688.568 1286.09,695.041 1289.24,701.519 1292.39,707.999 1295.54,714.483 1298.68,720.969 1301.83,727.456 1304.98,733.943 1308.13,740.431 1311.28,746.919 1314.42,753.405 1317.57,759.889 1320.72,766.371 1323.87,772.849 1327.02,779.324 1330.16,785.795 1333.31,792.26 1336.46,798.72 1339.61,805.173 1342.76,811.619 1345.9,818.058 1349.05,824.488 1352.2,830.91 1355.35,837.321 1358.5,843.723 1361.64,850.113 1364.79,856.493 1367.94,862.86 1371.09,869.214 1374.24,875.555 1377.38,881.881 1380.53,888.193 1383.68,894.49 1386.83,900.771 1389.98,907.035 1393.12,913.282 1396.27,919.511 1399.42,925.722 1402.57,931.914 1405.72,938.086 1408.86,944.237 1412.01,950.368 1415.16,956.477 1418.31,962.564 1421.46,968.629 1424.6,974.669 1427.75,980.686 1430.9,986.679 1434.05,992.646 1437.2,998.588 1440.34,1004.5 1443.49,1010.39 1446.64,1016.25 1449.79,1022.08 1452.94,1027.89 1456.08,1033.66 1459.23,1039.41 1462.38,1045.12 1465.53,1050.81 1468.68,1056.46 1471.82,1062.08 1474.97,1067.66 1478.12,1073.22 1481.27,1078.74 1484.42,1084.22 1487.56,1089.67 1490.71,1095.09 1493.86,1100.47 1497.01,1105.81 1500.16,1111.12 1503.3,1116.38 1506.45,1121.61 1509.6,1126.8 1512.75,1131.96 1515.9,1137.07 1519.04,1142.14 1522.19,1147.17 1525.34,1152.16 1528.49,1157.11 1531.64,1162.02 1534.78,1166.88 1537.93,1171.7 1541.08,1176.48 1544.23,1181.21 1547.37,1185.9 1550.52,1190.54 1553.67,1195.14 1556.82,1199.69 1559.97,1204.2 1563.11,1208.66 1566.26,1213.07 1569.41,1217.43 1572.56,1221.75 1575.71,1226.01 1578.85,1230.23 1582,1234.4 1585.15,1238.52 1588.3,1242.58 1591.45,1246.6 1594.59,1250.57 1597.74,1254.48 1600.89,1258.34 1604.04,1262.15 1607.19,1265.91 1610.33,1269.62 1613.48,1273.27 1616.63,1276.87 1619.78,1280.41 1622.93,1283.9 1626.07,1287.33 1629.22,1290.71 1632.37,1294.04 1635.52,1297.3 1638.67,1300.51 1641.81,1303.67 1644.96,1306.77 1648.11,1309.81 1651.26,1312.79 1654.41,1315.72 1657.55,1318.59 1660.7,1321.4 1663.85,1324.15 1667,1326.84 1670.15,1329.48 1673.29,1332.05 1676.44,1334.57 1679.59,1337.02 1682.74,1339.42 1685.89,1341.75 1689.03,1344.03 1692.18,1346.24 1695.33,1348.39 1698.48,1350.49 1701.63,1352.52 1704.77,1354.49 1707.92,1356.39 1711.07,1358.24 1714.22,1360.02 1717.37,1361.74 1720.51,1363.4 1723.66,1365 1726.81,1366.53 1729.96,1368 1733.11,1369.41 1736.25,1370.75 1739.4,1372.03 1742.55,1373.25 1745.7,1374.4 1748.85,1375.5 1751.99,1376.52 1755.14,1377.49 1758.29,1378.38 1761.44,1379.22 1764.59,1379.99 1767.73,1380.7 1770.88,1381.34 1774.03,1381.92 1777.18,1382.44 1780.33,1382.89 1783.47,1383.27 1786.62,1383.59 1789.77,1383.85 1792.92,1384.04 1796.07,1384.17 1799.21,1384.24 1802.36,1384.24 1805.51,1384.17 1808.66,1384.05 1811.81,1383.85 1814.95,1383.6 1818.1,1383.28 1821.25,1382.89 1824.4,1382.44 1827.55,1381.93 1830.69,1381.35 1833.84,1380.71 1836.99,1380.01 1840.14,1379.24 1843.29,1378.41 1846.43,1377.51 1849.58,1376.56 1852.73,1375.54 1855.88,1374.45 1859.03,1373.3 1862.17,1372.09 1865.32,1370.82 1868.47,1369.49 1871.62,1368.09 1874.77,1366.63 1877.91,1365.11 1881.06,1363.53 1884.21,1361.88 1887.36,1360.18 1890.51,1358.41 1893.65,1356.59 1896.8,1354.7 1899.95,1352.75 1903.1,1350.74 1906.25,1348.67 1909.39,1346.55 1912.54,1344.36 1915.69,1342.11 1918.84,1339.81 1921.99,1337.45 1925.13,1335.02 1928.28,1332.54 1931.43,1330.01 1934.58,1327.41 1937.73,1324.76 1940.87,1322.05 1944.02,1319.29 1947.17,1316.47 1950.32,1313.59 1953.47,1310.66 1956.61,1307.68 1959.76,1304.64 1962.91,1301.54 1966.06,1298.39 1969.21,1295.19 1972.35,1291.94 1975.5,1288.63 1978.65,1285.27 1981.8,1281.86 1984.95,1278.4 1988.09,1274.89 1991.24,1271.33 1994.39,1267.72 1997.54,1264.05 2000.69,1260.34 2003.83,1256.59 2006.98,1252.78 2010.13,1248.93 2013.28,1245.02 2016.42,1241.08 2019.57,1237.08 2022.72,1233.05 2025.87,1228.96 2029.02,1224.84 2032.16,1220.67 2035.31,1216.45 2038.46,1212.2 2041.61,1207.9 2044.76,1203.56 2047.9,1199.18 2051.05,1194.76 2054.2,1190.3 2057.35,1185.8 2060.5,1181.26 2063.64,1176.69 2066.79,1172.08 2069.94,1167.43 2073.09,1162.75 2076.24,1158.03 2079.38,1153.28 2082.53,1148.49 2085.68,1143.67 2088.83,1138.82 2091.98,1133.94 2095.12,1129.03 2098.27,1124.08 2101.42,1119.11 2104.57,1114.11 2107.72,1109.08 2110.86,1104.03 2114.01,1098.95 2117.16,1093.84 2120.31,1088.71 2123.46,1083.56 2126.6,1078.38 2129.75,1073.18 2132.9,1067.96 2136.05,1062.72 2139.2,1057.46 2142.34,1052.18 2145.49,1046.88 2148.64,1041.57 2151.79,1036.24 2154.94,1030.89 2158.08,1025.54 2161.23,1020.16 2164.38,1014.78 2167.53,1009.39 2170.68,1003.98 2173.82,998.567 2176.97,993.145 2180.12,987.715 2183.27,982.279 2186.42,976.838 2189.56,971.393 2192.71,965.945 2195.86,960.495 2199.01,955.044 2202.16,949.593 2205.3,944.143 2208.45,938.696 2211.6,933.252 2214.75,927.813 2217.9,922.38 2221.04,916.954 2224.19,911.537 2227.34,906.128 2230.49,900.73 2233.64,895.344 2236.78,889.972 2239.93,884.613 2243.08,879.271 2246.23,873.945 2249.38,868.638 2252.52,863.35 2255.67,858.083 2258.82,852.838 2261.97,847.617 2265.12,842.422 2268.26,837.252 2271.41,832.111 2274.56,826.999 2277.71,821.918 2280.86,816.869 2284,811.854 2287.15,806.874 2290.3,801.931 2293.45,797.027 \"/>\n",
       "<polyline clip-path=\"url(#clip122)\" style=\"stroke:#3da44d; stroke-linecap:round; stroke-linejoin:round; stroke-width:4; stroke-opacity:1; fill:none\" points=\"316.512,734.976 319.66,728.488 322.808,722.001 325.956,715.515 329.104,709.031 332.252,702.55 335.4,696.072 338.548,689.598 341.696,683.128 344.844,676.664 347.992,670.205 351.14,663.753 354.288,657.308 357.436,650.871 360.584,644.442 363.732,638.022 366.88,631.612 370.028,625.212 373.176,618.823 376.324,612.446 379.472,606.081 382.62,599.729 385.768,593.391 388.916,587.066 392.064,580.757 395.212,574.463 398.36,568.185 401.508,561.923 404.656,555.679 407.804,549.453 410.952,543.245 414.1,537.057 417.248,530.888 420.396,524.74 423.544,518.613 426.692,512.507 429.84,506.424 432.988,500.363 436.136,494.326 439.284,488.313 442.432,482.325 445.58,476.362 448.728,470.425 451.876,464.514 455.024,458.631 458.172,452.775 461.319,446.947 464.467,441.148 467.615,435.378 470.763,429.638 473.911,423.929 477.059,418.251 480.207,412.605 483.355,406.991 486.503,401.41 489.651,395.862 492.799,390.348 495.947,384.868 499.095,379.423 502.243,374.014 505.391,368.641 508.539,363.305 511.687,358.006 514.835,352.745 517.983,347.521 521.131,342.337 524.279,337.192 527.427,332.086 530.575,327.021 533.723,321.997 536.871,317.014 540.019,312.072 543.167,307.174 546.315,302.317 549.463,297.504 552.611,292.735 555.759,288.01 558.907,283.33 562.055,278.695 565.203,274.106 568.351,269.562 571.499,265.065 574.647,260.616 577.795,256.213 580.943,251.859 584.091,247.552 587.239,243.295 590.387,239.087 593.535,234.928 596.683,230.819 599.831,226.761 602.979,222.753 606.127,218.797 609.275,214.893 612.423,211.04 615.571,207.24 618.719,203.492 621.867,199.798 625.015,196.157 628.163,192.57 631.311,189.038 634.459,185.56 637.607,182.136 640.755,178.769 643.903,175.456 647.051,172.2 650.199,169 653.347,165.857 656.495,162.77 659.643,159.741 662.791,156.769 665.939,153.855 669.087,150.999 672.235,148.202 675.383,145.463 678.531,142.783 681.679,140.163 684.827,137.602 687.975,135.1 691.123,132.659 694.271,130.278 697.419,127.957 700.566,125.697 703.714,123.498 706.862,121.36 710.01,119.284 713.158,117.269 716.306,115.316 719.454,113.424 722.602,111.595 725.75,109.829 728.898,108.124 732.046,106.483 735.194,104.904 738.342,103.388 741.49,101.936 744.638,100.547 747.786,99.2209 750.934,97.9587 754.082,96.7602 757.23,95.6255 760.378,94.5548 763.526,93.5481 766.674,92.6055 769.822,91.7272 772.97,90.9132 776.118,90.1636 779.266,89.4785 782.414,88.8579 785.562,88.302 788.71,87.8107 791.858,87.3841 795.006,87.0223 798.154,86.7253 801.302,86.4931 804.45,86.3258 807.598,86.2233 810.746,86.1857 813.894,86.2129 817.042,86.3051 820.19,86.4621 823.338,86.684 826.486,86.9707 829.634,87.3222 832.782,87.7384 835.93,88.2194 839.078,88.7651 842.226,89.3753 845.374,90.0502 848.522,90.7895 851.67,91.5933 854.818,92.4613 857.966,93.3937 861.114,94.3902 864.262,95.4507 867.41,96.5752 870.558,97.7636 873.706,99.0156 876.854,100.331 880.002,101.71 883.15,103.153 886.298,104.659 889.446,106.227 892.594,107.859 895.742,109.553 898.89,111.31 902.038,113.129 905.186,115.01 908.334,116.954 911.482,118.959 914.63,121.025 917.778,123.154 920.926,125.343 924.074,127.593 927.222,129.904 930.37,132.276 933.518,134.708 936.666,137.199 939.813,139.751 942.961,142.362 946.109,145.032 949.257,147.762 952.405,150.55 955.553,153.396 958.701,156.301 961.849,159.264 964.997,162.284 968.145,165.361 971.293,168.496 974.441,171.687 977.589,174.934 980.737,178.237 983.885,181.596 987.033,185.011 990.181,188.48 993.329,192.004 996.477,195.582 999.625,199.215 1002.77,202.9 1005.92,206.639 1009.07,210.431 1012.22,214.276 1015.37,218.172 1018.51,222.12 1021.66,226.119 1024.81,230.17 1027.96,234.27 1031.11,238.421 1034.25,242.621 1037.4,246.871 1040.55,251.17 1043.7,255.516 1046.85,259.911 1049.99,264.354 1053.14,268.843 1056.29,273.379 1059.44,277.961 1062.58,282.589 1065.73,287.262 1068.88,291.98 1072.03,296.742 1075.18,301.548 1078.32,306.397 1081.47,311.289 1084.62,316.224 1087.77,321.2 1090.92,326.218 1094.06,331.277 1097.21,336.376 1100.36,341.515 1103.51,346.693 1106.66,351.91 1109.8,357.165 1112.95,362.459 1116.1,367.789 1119.25,373.156 1122.4,378.559 1125.54,383.998 1128.69,389.472 1131.84,394.981 1134.99,400.524 1138.14,406.1 1141.28,411.709 1144.43,417.35 1147.58,423.023 1150.73,428.727 1153.88,434.462 1157.02,440.227 1160.17,446.021 1163.32,451.845 1166.47,457.696 1169.62,463.575 1172.76,469.482 1175.91,475.415 1179.06,481.374 1182.21,487.358 1185.36,493.367 1188.5,499.4 1191.65,505.457 1194.8,511.537 1197.95,517.639 1201.1,523.763 1204.24,529.908 1207.39,536.073 1210.54,542.259 1213.69,548.463 1216.84,554.686 1219.98,560.928 1223.13,567.186 1226.28,573.462 1229.43,579.753 1232.58,586.061 1235.72,592.383 1238.87,598.719 1242.02,605.069 1245.17,611.432 1248.32,617.807 1251.46,624.194 1254.61,630.592 1257.76,637.001 1260.91,643.419 1264.06,649.846 1267.2,656.282 1270.35,662.726 1273.5,669.177 1276.65,675.635 1279.8,682.098 1282.94,688.567 1286.09,695.041 1289.24,701.518 1292.39,707.999 1295.54,714.483 1298.68,720.968 1301.83,727.455 1304.98,733.943 1308.13,740.431 1311.28,746.918 1314.42,753.404 1317.57,759.888 1320.72,766.37 1323.87,772.849 1327.02,779.324 1330.16,785.794 1333.31,792.259 1336.46,798.719 1339.61,805.172 1342.76,811.618 1345.9,818.057 1349.05,824.487 1352.2,830.908 1355.35,837.32 1358.5,843.722 1361.64,850.112 1364.79,856.491 1367.94,862.858 1371.09,869.212 1374.24,875.553 1377.38,881.88 1380.53,888.192 1383.68,894.488 1386.83,900.769 1389.98,907.033 1393.12,913.28 1396.27,919.509 1399.42,925.719 1402.57,931.911 1405.72,938.083 1408.86,944.234 1412.01,950.365 1415.16,956.474 1418.31,962.561 1421.46,968.625 1424.6,974.666 1427.75,980.683 1430.9,986.675 1434.05,992.642 1437.2,998.583 1440.34,1004.5 1443.49,1010.39 1446.64,1016.25 1449.79,1022.08 1452.94,1027.88 1456.08,1033.66 1459.23,1039.4 1462.38,1045.12 1465.53,1050.8 1468.68,1056.45 1471.82,1062.07 1474.97,1067.66 1478.12,1073.21 1481.27,1078.73 1484.42,1084.21 1487.56,1089.66 1490.71,1095.08 1493.86,1100.46 1497.01,1105.8 1500.16,1111.1 1503.3,1116.37 1506.45,1121.6 1509.6,1126.79 1512.75,1131.94 1515.9,1137.06 1519.04,1142.13 1522.19,1147.16 1525.34,1152.15 1528.49,1157.1 1531.64,1162 1534.78,1166.86 1537.93,1171.68 1541.08,1176.46 1544.23,1181.19 1547.37,1185.88 1550.52,1190.52 1553.67,1195.12 1556.82,1199.67 1559.97,1204.17 1563.11,1208.63 1566.26,1213.04 1569.41,1217.4 1572.56,1221.72 1575.71,1225.98 1578.85,1230.2 1582,1234.36 1585.15,1238.48 1588.3,1242.55 1591.45,1246.56 1594.59,1250.53 1597.74,1254.44 1600.89,1258.3 1604.04,1262.11 1607.19,1265.86 1610.33,1269.57 1613.48,1273.22 1616.63,1276.81 1619.78,1280.35 1622.93,1283.84 1626.07,1287.27 1629.22,1290.65 1632.37,1293.97 1635.52,1297.23 1638.67,1300.44 1641.81,1303.6 1644.96,1306.69 1648.11,1309.73 1651.26,1312.71 1654.41,1315.63 1657.55,1318.5 1660.7,1321.3 1663.85,1324.05 1667,1326.74 1670.15,1329.37 1673.29,1331.94 1676.44,1334.45 1679.59,1336.9 1682.74,1339.29 1685.89,1341.62 1689.03,1343.89 1692.18,1346.1 1695.33,1348.25 1698.48,1350.33 1701.63,1352.36 1704.77,1354.32 1707.92,1356.22 1711.07,1358.06 1714.22,1359.84 1717.37,1361.55 1720.51,1363.2 1723.66,1364.79 1726.81,1366.31 1729.96,1367.78 1733.11,1369.18 1736.25,1370.51 1739.4,1371.78 1742.55,1372.99 1745.7,1374.13 1748.85,1375.22 1751.99,1376.23 1755.14,1377.18 1758.29,1378.07 1761.44,1378.89 1764.59,1379.65 1767.73,1380.35 1770.88,1380.98 1774.03,1381.54 1777.18,1382.04 1780.33,1382.48 1783.47,1382.85 1786.62,1383.16 1789.77,1383.4 1792.92,1383.58 1796.07,1383.69 1799.21,1383.73 1802.36,1383.72 1805.51,1383.63 1808.66,1383.48 1811.81,1383.27 1814.95,1382.99 1818.1,1382.65 1821.25,1382.24 1824.4,1381.77 1827.55,1381.23 1830.69,1380.63 1833.84,1379.97 1836.99,1379.23 1840.14,1378.44 1843.29,1377.58 1846.43,1376.66 1849.58,1375.67 1852.73,1374.61 1855.88,1373.5 1859.03,1372.32 1862.17,1371.07 1865.32,1369.76 1868.47,1368.39 1871.62,1366.96 1874.77,1365.46 1877.91,1363.9 1881.06,1362.27 1884.21,1360.58 1887.36,1358.83 1890.51,1357.02 1893.65,1355.15 1896.8,1353.21 1899.95,1351.21 1903.1,1349.15 1906.25,1347.03 1909.39,1344.84 1912.54,1342.6 1915.69,1340.29 1918.84,1337.92 1921.99,1335.5 1925.13,1333.01 1928.28,1330.46 1931.43,1327.85 1934.58,1325.19 1937.73,1322.46 1940.87,1319.68 1944.02,1316.83 1947.17,1313.93 1950.32,1310.97 1953.47,1307.95 1956.61,1304.88 1959.76,1301.74 1962.91,1298.55 1966.06,1295.31 1969.21,1292 1972.35,1288.64 1975.5,1285.23 1978.65,1281.76 1981.8,1278.24 1984.95,1274.66 1988.09,1271.02 1991.24,1267.33 1994.39,1263.59 1997.54,1259.8 2000.69,1255.95 2003.83,1252.05 2006.98,1248.1 2010.13,1244.09 2013.28,1240.04 2016.42,1235.93 2019.57,1231.77 2022.72,1227.56 2025.87,1223.31 2029.02,1219 2032.16,1214.64 2035.31,1210.24 2038.46,1205.79 2041.61,1201.29 2044.76,1196.74 2047.9,1192.14 2051.05,1187.5 2054.2,1182.82 2057.35,1178.08 2060.5,1173.31 2063.64,1168.48 2066.79,1163.62 2069.94,1158.71 2073.09,1153.76 2076.24,1148.76 2079.38,1143.72 2082.53,1138.64 2085.68,1133.52 2088.83,1128.36 2091.98,1123.16 2095.12,1117.91 2098.27,1112.63 2101.42,1107.31 2104.57,1101.95 2107.72,1096.55 2110.86,1091.12 2114.01,1085.65 2117.16,1080.14 2120.31,1074.6 2123.46,1069.02 2126.6,1063.4 2129.75,1057.75 2132.9,1052.07 2136.05,1046.36 2139.2,1040.61 2142.34,1034.83 2145.49,1029.01 2148.64,1023.17 2151.79,1017.3 2154.94,1011.39 2158.08,1005.46 2161.23,999.497 2164.38,993.505 2167.53,987.486 2170.68,981.439 2173.82,975.365 2176.97,969.265 2180.12,963.139 2183.27,956.988 2186.42,950.812 2189.56,944.612 2192.71,938.389 2195.86,932.142 2199.01,925.872 2202.16,919.581 2205.3,913.268 2208.45,906.935 2211.6,900.58 2214.75,894.206 2217.9,887.813 2221.04,881.401 2224.19,874.971 2227.34,868.523 2230.49,862.058 2233.64,855.577 2236.78,849.079 2239.93,842.566 2243.08,836.038 2246.23,829.496 2249.38,822.939 2252.52,816.37 2255.67,809.787 2258.82,803.192 2261.97,796.586 2265.12,789.968 2268.26,783.339 2271.41,776.7 2274.56,770.052 2277.71,763.394 2280.86,756.727 2284,750.053 2287.15,743.37 2290.3,736.681 2293.45,729.985 \"/>\n",
       "<polyline clip-path=\"url(#clip122)\" style=\"stroke:#c271d2; stroke-linecap:round; stroke-linejoin:round; stroke-width:4; stroke-opacity:1; fill:none\" points=\"316.512,734.976 319.66,728.488 322.808,722.001 325.956,715.515 329.104,709.031 332.252,702.55 335.4,696.072 338.548,689.598 341.696,683.128 344.844,676.664 347.992,670.205 351.14,663.753 354.288,657.308 357.436,650.871 360.584,644.442 363.732,638.022 366.88,631.612 370.028,625.212 373.176,618.823 376.324,612.446 379.472,606.081 382.62,599.729 385.768,593.391 388.916,587.066 392.064,580.757 395.212,574.463 398.36,568.185 401.508,561.923 404.656,555.679 407.804,549.453 410.952,543.245 414.1,537.057 417.248,530.888 420.396,524.74 423.544,518.613 426.692,512.507 429.84,506.424 432.988,500.363 436.136,494.326 439.284,488.313 442.432,482.325 445.58,476.362 448.728,470.425 451.876,464.514 455.024,458.631 458.172,452.775 461.319,446.947 464.467,441.148 467.615,435.378 470.763,429.638 473.911,423.929 477.059,418.251 480.207,412.605 483.355,406.991 486.503,401.41 489.651,395.862 492.799,390.348 495.947,384.868 499.095,379.423 502.243,374.014 505.391,368.641 508.539,363.305 511.687,358.006 514.835,352.745 517.983,347.521 521.131,342.337 524.279,337.192 527.427,332.086 530.575,327.021 533.723,321.997 536.871,317.014 540.019,312.072 543.167,307.174 546.315,302.317 549.463,297.504 552.611,292.735 555.759,288.01 558.907,283.33 562.055,278.695 565.203,274.106 568.351,269.562 571.499,265.065 574.647,260.616 577.795,256.213 580.943,251.859 584.091,247.552 587.239,243.295 590.387,239.087 593.535,234.928 596.683,230.819 599.831,226.761 602.979,222.753 606.127,218.797 609.275,214.893 612.423,211.04 615.571,207.24 618.719,203.492 621.867,199.798 625.015,196.157 628.163,192.57 631.311,189.038 634.459,185.56 637.607,182.136 640.755,178.769 643.903,175.456 647.051,172.2 650.199,169 653.347,165.857 656.495,162.77 659.643,159.741 662.791,156.769 665.939,153.855 669.087,150.999 672.235,148.202 675.383,145.463 678.531,142.783 681.679,140.163 684.827,137.602 687.975,135.1 691.123,132.659 694.271,130.278 697.419,127.957 700.566,125.697 703.714,123.498 706.862,121.36 710.01,119.284 713.158,117.269 716.306,115.316 719.454,113.424 722.602,111.595 725.75,109.829 728.898,108.124 732.046,106.483 735.194,104.904 738.342,103.388 741.49,101.936 744.638,100.547 747.786,99.2209 750.934,97.9587 754.082,96.7602 757.23,95.6255 760.378,94.5548 763.526,93.5481 766.674,92.6055 769.822,91.7272 772.97,90.9132 776.118,90.1636 779.266,89.4785 782.414,88.8579 785.562,88.302 788.71,87.8107 791.858,87.3841 795.006,87.0223 798.154,86.7253 801.302,86.4931 804.45,86.3258 807.598,86.2233 810.746,86.1857 813.894,86.2129 817.042,86.3051 820.19,86.4621 823.338,86.684 826.486,86.9707 829.634,87.3222 832.782,87.7384 835.93,88.2194 839.078,88.7651 842.226,89.3753 845.374,90.0502 848.522,90.7895 851.67,91.5933 854.818,92.4613 857.966,93.3937 861.114,94.3902 864.262,95.4507 867.41,96.5752 870.558,97.7636 873.706,99.0156 876.854,100.331 880.002,101.71 883.15,103.153 886.298,104.659 889.446,106.227 892.594,107.859 895.742,109.553 898.89,111.31 902.038,113.129 905.186,115.01 908.334,116.954 911.482,118.959 914.63,121.025 917.778,123.154 920.926,125.343 924.074,127.593 927.222,129.904 930.37,132.276 933.518,134.708 936.666,137.199 939.813,139.751 942.961,142.362 946.109,145.032 949.257,147.762 952.405,150.55 955.553,153.396 958.701,156.301 961.849,159.264 964.997,162.284 968.145,165.361 971.293,168.496 974.441,171.687 977.589,174.934 980.737,178.237 983.885,181.596 987.033,185.011 990.181,188.48 993.329,192.004 996.477,195.582 999.625,199.215 1002.77,202.9 1005.92,206.639 1009.07,210.431 1012.22,214.276 1015.37,218.172 1018.51,222.12 1021.66,226.119 1024.81,230.17 1027.96,234.27 1031.11,238.421 1034.25,242.621 1037.4,246.871 1040.55,251.17 1043.7,255.516 1046.85,259.911 1049.99,264.354 1053.14,268.843 1056.29,273.379 1059.44,277.961 1062.58,282.589 1065.73,287.262 1068.88,291.98 1072.03,296.742 1075.18,301.548 1078.32,306.397 1081.47,311.289 1084.62,316.224 1087.77,321.2 1090.92,326.218 1094.06,331.277 1097.21,336.376 1100.36,341.515 1103.51,346.693 1106.66,351.91 1109.8,357.165 1112.95,362.459 1116.1,367.789 1119.25,373.156 1122.4,378.559 1125.54,383.998 1128.69,389.472 1131.84,394.981 1134.99,400.524 1138.14,406.1 1141.28,411.709 1144.43,417.35 1147.58,423.023 1150.73,428.727 1153.88,434.462 1157.02,440.227 1160.17,446.021 1163.32,451.845 1166.47,457.696 1169.62,463.575 1172.76,469.482 1175.91,475.415 1179.06,481.374 1182.21,487.358 1185.36,493.367 1188.5,499.4 1191.65,505.457 1194.8,511.537 1197.95,517.639 1201.1,523.763 1204.24,529.908 1207.39,536.073 1210.54,542.259 1213.69,548.463 1216.84,554.686 1219.98,560.928 1223.13,567.186 1226.28,573.462 1229.43,579.753 1232.58,586.061 1235.72,592.383 1238.87,598.719 1242.02,605.069 1245.17,611.432 1248.32,617.807 1251.46,624.194 1254.61,630.592 1257.76,637.001 1260.91,643.419 1264.06,649.846 1267.2,656.282 1270.35,662.726 1273.5,669.177 1276.65,675.635 1279.8,682.098 1282.94,688.567 1286.09,695.041 1289.24,701.518 1292.39,707.999 1295.54,714.483 1298.68,720.968 1301.83,727.455 1304.98,733.943 1308.13,740.431 1311.28,746.918 1314.42,753.404 1317.57,759.888 1320.72,766.37 1323.87,772.849 1327.02,779.324 1330.16,785.794 1333.31,792.259 1336.46,798.719 1339.61,805.172 1342.76,811.618 1345.9,818.057 1349.05,824.487 1352.2,830.908 1355.35,837.32 1358.5,843.722 1361.64,850.112 1364.79,856.491 1367.94,862.858 1371.09,869.212 1374.24,875.553 1377.38,881.88 1380.53,888.192 1383.68,894.488 1386.83,900.769 1389.98,907.033 1393.12,913.28 1396.27,919.509 1399.42,925.72 1402.57,931.911 1405.72,938.083 1408.86,944.234 1412.01,950.365 1415.16,956.474 1418.31,962.561 1421.46,968.625 1424.6,974.666 1427.75,980.683 1430.9,986.675 1434.05,992.642 1437.2,998.584 1440.34,1004.5 1443.49,1010.39 1446.64,1016.25 1449.79,1022.08 1452.94,1027.88 1456.08,1033.66 1459.23,1039.4 1462.38,1045.12 1465.53,1050.8 1468.68,1056.45 1471.82,1062.07 1474.97,1067.66 1478.12,1073.21 1481.27,1078.73 1484.42,1084.21 1487.56,1089.66 1490.71,1095.08 1493.86,1100.46 1497.01,1105.8 1500.16,1111.1 1503.3,1116.37 1506.45,1121.6 1509.6,1126.79 1512.75,1131.94 1515.9,1137.06 1519.04,1142.13 1522.19,1147.16 1525.34,1152.15 1528.49,1157.1 1531.64,1162 1534.78,1166.86 1537.93,1171.68 1541.08,1176.46 1544.23,1181.19 1547.37,1185.88 1550.52,1190.52 1553.67,1195.12 1556.82,1199.67 1559.97,1204.17 1563.11,1208.63 1566.26,1213.04 1569.41,1217.4 1572.56,1221.72 1575.71,1225.98 1578.85,1230.2 1582,1234.37 1585.15,1238.48 1588.3,1242.55 1591.45,1246.56 1594.59,1250.53 1597.74,1254.44 1600.89,1258.3 1604.04,1262.11 1607.19,1265.87 1610.33,1269.57 1613.48,1273.22 1616.63,1276.81 1619.78,1280.36 1622.93,1283.84 1626.07,1287.27 1629.22,1290.65 1632.37,1293.97 1635.52,1297.24 1638.67,1300.45 1641.81,1303.6 1644.96,1306.69 1648.11,1309.73 1651.26,1312.71 1654.41,1315.64 1657.55,1318.5 1660.7,1321.31 1663.85,1324.06 1667,1326.75 1670.15,1329.38 1673.29,1331.95 1676.44,1334.46 1679.59,1336.91 1682.74,1339.3 1685.89,1341.63 1689.03,1343.9 1692.18,1346.11 1695.33,1348.26 1698.48,1350.34 1701.63,1352.37 1704.77,1354.33 1707.92,1356.23 1711.07,1358.07 1714.22,1359.85 1717.37,1361.56 1720.51,1363.21 1723.66,1364.8 1726.81,1366.33 1729.96,1367.79 1733.11,1369.19 1736.25,1370.52 1739.4,1371.8 1742.55,1373.01 1745.7,1374.15 1748.85,1375.23 1751.99,1376.25 1755.14,1377.2 1758.29,1378.09 1761.44,1378.91 1764.59,1379.67 1767.73,1380.37 1770.88,1381 1774.03,1381.57 1777.18,1382.07 1780.33,1382.5 1783.47,1382.88 1786.62,1383.18 1789.77,1383.43 1792.92,1383.6 1796.07,1383.72 1799.21,1383.77 1802.36,1383.75 1805.51,1383.67 1808.66,1383.52 1811.81,1383.31 1814.95,1383.03 1818.1,1382.69 1821.25,1382.28 1824.4,1381.81 1827.55,1381.28 1830.69,1380.68 1833.84,1380.01 1836.99,1379.28 1840.14,1378.49 1843.29,1377.63 1846.43,1376.71 1849.58,1375.73 1852.73,1374.67 1855.88,1373.56 1859.03,1372.38 1862.17,1371.14 1865.32,1369.83 1868.47,1368.47 1871.62,1367.03 1874.77,1365.54 1877.91,1363.98 1881.06,1362.36 1884.21,1360.67 1887.36,1358.93 1890.51,1357.12 1893.65,1355.25 1896.8,1353.31 1899.95,1351.32 1903.1,1349.26 1906.25,1347.14 1909.39,1344.96 1912.54,1342.72 1915.69,1340.42 1918.84,1338.06 1921.99,1335.64 1925.13,1333.15 1928.28,1330.61 1931.43,1328.01 1934.58,1325.35 1937.73,1322.63 1940.87,1319.85 1944.02,1317.01 1947.17,1314.12 1950.32,1311.16 1953.47,1308.15 1956.61,1305.09 1959.76,1301.96 1962.91,1298.78 1966.06,1295.54 1969.21,1292.24 1972.35,1288.89 1975.5,1285.49 1978.65,1282.03 1981.8,1278.51 1984.95,1274.94 1988.09,1271.32 1991.24,1267.64 1994.39,1263.91 1997.54,1260.13 2000.69,1256.29 2003.83,1252.4 2006.98,1248.46 2010.13,1244.47 2013.28,1240.43 2016.42,1236.34 2019.57,1232.2 2022.72,1228 2025.87,1223.76 2029.02,1219.47 2032.16,1215.13 2035.31,1210.74 2038.46,1206.31 2041.61,1201.83 2044.76,1197.3 2047.9,1192.72 2051.05,1188.1 2054.2,1183.44 2057.35,1178.73 2060.5,1173.97 2063.64,1169.17 2066.79,1164.33 2069.94,1159.44 2073.09,1154.52 2076.24,1149.55 2079.38,1144.54 2082.53,1139.48 2085.68,1134.39 2088.83,1129.26 2091.98,1124.09 2095.12,1118.88 2098.27,1113.63 2101.42,1108.34 2104.57,1103.01 2107.72,1097.65 2110.86,1092.26 2114.01,1086.82 2117.16,1081.35 2120.31,1075.85 2123.46,1070.31 2126.6,1064.74 2129.75,1059.14 2132.9,1053.5 2136.05,1047.84 2139.2,1042.14 2142.34,1036.41 2145.49,1030.65 2148.64,1024.86 2151.79,1019.04 2154.94,1013.19 2158.08,1007.32 2161.23,1001.41 2164.38,995.484 2167.53,989.529 2170.68,983.549 2173.82,977.544 2176.97,971.514 2180.12,965.461 2183.27,959.385 2186.42,953.287 2189.56,947.166 2192.71,941.025 2195.86,934.862 2199.01,928.68 2202.16,922.479 2205.3,916.258 2208.45,910.02 2211.6,903.764 2214.75,897.491 2217.9,891.202 2221.04,884.897 2224.19,878.578 2227.34,872.244 2230.49,865.896 2233.64,859.535 2236.78,853.162 2239.93,846.776 2243.08,840.38 2246.23,833.973 2249.38,827.556 2252.52,821.13 2255.67,814.696 2258.82,808.253 2261.97,801.803 2265.12,795.346 2268.26,788.884 2271.41,782.416 2274.56,775.943 2277.71,769.466 2280.86,762.986 2284,756.503 2287.15,750.017 2290.3,743.53 2293.45,737.043 \"/>\n",
       "<path clip-path=\"url(#clip120)\" d=\"M327.056 1377.32 L702.42 1377.32 L702.42 1118.12 L327.056 1118.12  Z\" fill=\"#ffffff\" fill-rule=\"evenodd\" fill-opacity=\"1\"/>\n",
       "<polyline clip-path=\"url(#clip120)\" style=\"stroke:#000000; stroke-linecap:round; stroke-linejoin:round; stroke-width:4; stroke-opacity:1; fill:none\" points=\"327.056,1377.32 702.42,1377.32 702.42,1118.12 327.056,1118.12 327.056,1377.32 \"/>\n",
       "<polyline clip-path=\"url(#clip120)\" style=\"stroke:#009af9; stroke-linecap:round; stroke-linejoin:round; stroke-width:4; stroke-opacity:1; fill:none\" points=\"350.34,1169.96 490.043,1169.96 \"/>\n",
       "<path clip-path=\"url(#clip120)\" d=\"M531.753 1162.07 L531.753 1166.1 Q529.947 1165.18 528.003 1164.71 Q526.058 1164.25 523.975 1164.25 Q520.804 1164.25 519.207 1165.22 Q517.633 1166.19 517.633 1168.14 Q517.633 1169.62 518.767 1170.48 Q519.901 1171.31 523.327 1172.07 L524.785 1172.4 Q529.322 1173.37 531.22 1175.15 Q533.142 1176.91 533.142 1180.08 Q533.142 1183.69 530.271 1185.8 Q527.424 1187.91 522.424 1187.91 Q520.341 1187.91 518.072 1187.49 Q515.827 1187.1 513.327 1186.29 L513.327 1181.89 Q515.688 1183.11 517.98 1183.74 Q520.271 1184.34 522.517 1184.34 Q525.526 1184.34 527.146 1183.32 Q528.767 1182.28 528.767 1180.41 Q528.767 1178.67 527.586 1177.74 Q526.429 1176.82 522.471 1175.96 L520.989 1175.62 Q517.031 1174.78 515.271 1173.07 Q513.512 1171.33 513.512 1168.32 Q513.512 1164.67 516.105 1162.68 Q518.697 1160.68 523.466 1160.68 Q525.827 1160.68 527.91 1161.03 Q529.994 1161.38 531.753 1162.07 Z\" fill=\"#000000\" fill-rule=\"nonzero\" fill-opacity=\"1\" /><path clip-path=\"url(#clip120)\" d=\"M539.924 1161.31 L544.183 1161.31 L544.183 1187.24 L539.924 1187.24 L539.924 1161.31 M539.924 1151.22 L544.183 1151.22 L544.183 1156.61 L539.924 1156.61 L539.924 1151.22 Z\" fill=\"#000000\" fill-rule=\"nonzero\" fill-opacity=\"1\" /><path clip-path=\"url(#clip120)\" d=\"M574.646 1171.59 L574.646 1187.24 L570.387 1187.24 L570.387 1171.73 Q570.387 1168.05 568.952 1166.22 Q567.517 1164.39 564.646 1164.39 Q561.197 1164.39 559.206 1166.59 Q557.216 1168.79 557.216 1172.58 L557.216 1187.24 L552.933 1187.24 L552.933 1161.31 L557.216 1161.31 L557.216 1165.34 Q558.743 1163 560.804 1161.84 Q562.887 1160.68 565.595 1160.68 Q570.063 1160.68 572.354 1163.46 Q574.646 1166.22 574.646 1171.59 Z\" fill=\"#000000\" fill-rule=\"nonzero\" fill-opacity=\"1\" /><path clip-path=\"url(#clip120)\" d=\"M609.391 1168.09 Q606.243 1168.09 604.391 1170.24 Q602.563 1172.4 602.563 1176.15 Q602.563 1179.87 604.391 1182.05 Q606.243 1184.2 609.391 1184.2 Q612.539 1184.2 614.368 1182.05 Q616.22 1179.87 616.22 1176.15 Q616.22 1172.4 614.368 1170.24 Q612.539 1168.09 609.391 1168.09 M618.674 1153.44 L618.674 1157.7 Q616.914 1156.87 615.109 1156.43 Q613.327 1155.99 611.567 1155.99 Q606.938 1155.99 604.484 1159.11 Q602.053 1162.24 601.706 1168.55 Q603.072 1166.54 605.132 1165.48 Q607.192 1164.39 609.669 1164.39 Q614.877 1164.39 617.887 1167.56 Q620.919 1170.71 620.919 1176.15 Q620.919 1181.47 617.771 1184.69 Q614.623 1187.91 609.391 1187.91 Q603.396 1187.91 600.225 1183.32 Q597.053 1178.72 597.053 1169.99 Q597.053 1161.8 600.942 1156.93 Q604.831 1152.05 611.382 1152.05 Q613.141 1152.05 614.924 1152.4 Q616.729 1152.74 618.674 1153.44 Z\" fill=\"#000000\" fill-rule=\"nonzero\" fill-opacity=\"1\" /><polyline clip-path=\"url(#clip120)\" style=\"stroke:#e26f46; stroke-linecap:round; stroke-linejoin:round; stroke-width:4; stroke-opacity:1; fill:none\" points=\"350.34,1221.8 490.043,1221.8 \"/>\n",
       "<path clip-path=\"url(#clip120)\" d=\"M531.753 1213.91 L531.753 1217.94 Q529.947 1217.02 528.003 1216.55 Q526.058 1216.09 523.975 1216.09 Q520.804 1216.09 519.207 1217.06 Q517.633 1218.03 517.633 1219.98 Q517.633 1221.46 518.767 1222.32 Q519.901 1223.15 523.327 1223.91 L524.785 1224.24 Q529.322 1225.21 531.22 1226.99 Q533.142 1228.75 533.142 1231.92 Q533.142 1235.53 530.271 1237.64 Q527.424 1239.75 522.424 1239.75 Q520.341 1239.75 518.072 1239.33 Q515.827 1238.94 513.327 1238.13 L513.327 1233.73 Q515.688 1234.95 517.98 1235.58 Q520.271 1236.18 522.517 1236.18 Q525.526 1236.18 527.146 1235.16 Q528.767 1234.12 528.767 1232.25 Q528.767 1230.51 527.586 1229.58 Q526.429 1228.66 522.471 1227.8 L520.989 1227.46 Q517.031 1226.62 515.271 1224.91 Q513.512 1223.17 513.512 1220.16 Q513.512 1216.51 516.105 1214.52 Q518.697 1212.52 523.466 1212.52 Q525.827 1212.52 527.91 1212.87 Q529.994 1213.22 531.753 1213.91 Z\" fill=\"#000000\" fill-rule=\"nonzero\" fill-opacity=\"1\" /><path clip-path=\"url(#clip120)\" d=\"M539.924 1213.15 L544.183 1213.15 L544.183 1239.08 L539.924 1239.08 L539.924 1213.15 M539.924 1203.06 L544.183 1203.06 L544.183 1208.45 L539.924 1208.45 L539.924 1203.06 Z\" fill=\"#000000\" fill-rule=\"nonzero\" fill-opacity=\"1\" /><path clip-path=\"url(#clip120)\" d=\"M574.646 1223.43 L574.646 1239.08 L570.387 1239.08 L570.387 1223.57 Q570.387 1219.89 568.952 1218.06 Q567.517 1216.23 564.646 1216.23 Q561.197 1216.23 559.206 1218.43 Q557.216 1220.63 557.216 1224.42 L557.216 1239.08 L552.933 1239.08 L552.933 1213.15 L557.216 1213.15 L557.216 1217.18 Q558.743 1214.84 560.804 1213.68 Q562.887 1212.52 565.595 1212.52 Q570.063 1212.52 572.354 1215.3 Q574.646 1218.06 574.646 1223.43 Z\" fill=\"#000000\" fill-rule=\"nonzero\" fill-opacity=\"1\" /><path clip-path=\"url(#clip120)\" d=\"M597.632 1204.52 L619.854 1204.52 L619.854 1206.51 L607.308 1239.08 L602.424 1239.08 L614.229 1208.45 L597.632 1208.45 L597.632 1204.52 Z\" fill=\"#000000\" fill-rule=\"nonzero\" fill-opacity=\"1\" /><polyline clip-path=\"url(#clip120)\" style=\"stroke:#3da44d; stroke-linecap:round; stroke-linejoin:round; stroke-width:4; stroke-opacity:1; fill:none\" points=\"350.34,1273.64 490.043,1273.64 \"/>\n",
       "<path clip-path=\"url(#clip120)\" d=\"M531.753 1265.75 L531.753 1269.78 Q529.947 1268.86 528.003 1268.39 Q526.058 1267.93 523.975 1267.93 Q520.804 1267.93 519.207 1268.9 Q517.633 1269.87 517.633 1271.82 Q517.633 1273.3 518.767 1274.16 Q519.901 1274.99 523.327 1275.75 L524.785 1276.08 Q529.322 1277.05 531.22 1278.83 Q533.142 1280.59 533.142 1283.76 Q533.142 1287.37 530.271 1289.48 Q527.424 1291.59 522.424 1291.59 Q520.341 1291.59 518.072 1291.17 Q515.827 1290.78 513.327 1289.97 L513.327 1285.57 Q515.688 1286.79 517.98 1287.42 Q520.271 1288.02 522.517 1288.02 Q525.526 1288.02 527.146 1287 Q528.767 1285.96 528.767 1284.09 Q528.767 1282.35 527.586 1281.42 Q526.429 1280.5 522.471 1279.64 L520.989 1279.3 Q517.031 1278.46 515.271 1276.75 Q513.512 1275.01 513.512 1272 Q513.512 1268.35 516.105 1266.36 Q518.697 1264.36 523.466 1264.36 Q525.827 1264.36 527.91 1264.71 Q529.994 1265.06 531.753 1265.75 Z\" fill=\"#000000\" fill-rule=\"nonzero\" fill-opacity=\"1\" /><path clip-path=\"url(#clip120)\" d=\"M539.924 1264.99 L544.183 1264.99 L544.183 1290.92 L539.924 1290.92 L539.924 1264.99 M539.924 1254.9 L544.183 1254.9 L544.183 1260.29 L539.924 1260.29 L539.924 1254.9 Z\" fill=\"#000000\" fill-rule=\"nonzero\" fill-opacity=\"1\" /><path clip-path=\"url(#clip120)\" d=\"M574.646 1275.27 L574.646 1290.92 L570.387 1290.92 L570.387 1275.41 Q570.387 1271.73 568.952 1269.9 Q567.517 1268.07 564.646 1268.07 Q561.197 1268.07 559.206 1270.27 Q557.216 1272.47 557.216 1276.26 L557.216 1290.92 L552.933 1290.92 L552.933 1264.99 L557.216 1264.99 L557.216 1269.02 Q558.743 1266.68 560.804 1265.52 Q562.887 1264.36 565.595 1264.36 Q570.063 1264.36 572.354 1267.14 Q574.646 1269.9 574.646 1275.27 Z\" fill=\"#000000\" fill-rule=\"nonzero\" fill-opacity=\"1\" /><path clip-path=\"url(#clip120)\" d=\"M608.813 1274.5 Q605.479 1274.5 603.558 1276.29 Q601.66 1278.07 601.66 1281.19 Q601.66 1284.32 603.558 1286.1 Q605.479 1287.88 608.813 1287.88 Q612.146 1287.88 614.067 1286.1 Q615.989 1284.29 615.989 1281.19 Q615.989 1278.07 614.067 1276.29 Q612.169 1274.5 608.813 1274.5 M604.137 1272.51 Q601.127 1271.77 599.438 1269.71 Q597.771 1267.65 597.771 1264.69 Q597.771 1260.55 600.711 1258.14 Q603.674 1255.73 608.813 1255.73 Q613.975 1255.73 616.914 1258.14 Q619.854 1260.55 619.854 1264.69 Q619.854 1267.65 618.164 1269.71 Q616.498 1271.77 613.512 1272.51 Q616.891 1273.3 618.766 1275.59 Q620.664 1277.88 620.664 1281.19 Q620.664 1286.22 617.586 1288.9 Q614.53 1291.59 608.813 1291.59 Q603.095 1291.59 600.016 1288.9 Q596.961 1286.22 596.961 1281.19 Q596.961 1277.88 598.859 1275.59 Q600.757 1273.3 604.137 1272.51 M602.424 1265.13 Q602.424 1267.81 604.09 1269.32 Q605.78 1270.82 608.813 1270.82 Q611.822 1270.82 613.512 1269.32 Q615.225 1267.81 615.225 1265.13 Q615.225 1262.44 613.512 1260.94 Q611.822 1259.43 608.813 1259.43 Q605.78 1259.43 604.09 1260.94 Q602.424 1262.44 602.424 1265.13 Z\" fill=\"#000000\" fill-rule=\"nonzero\" fill-opacity=\"1\" /><polyline clip-path=\"url(#clip120)\" style=\"stroke:#c271d2; stroke-linecap:round; stroke-linejoin:round; stroke-width:4; stroke-opacity:1; fill:none\" points=\"350.34,1325.48 490.043,1325.48 \"/>\n",
       "<path clip-path=\"url(#clip120)\" d=\"M531.753 1317.59 L531.753 1321.62 Q529.947 1320.7 528.003 1320.23 Q526.058 1319.77 523.975 1319.77 Q520.804 1319.77 519.207 1320.74 Q517.633 1321.71 517.633 1323.66 Q517.633 1325.14 518.767 1326 Q519.901 1326.83 523.327 1327.59 L524.785 1327.92 Q529.322 1328.89 531.22 1330.67 Q533.142 1332.43 533.142 1335.6 Q533.142 1339.21 530.271 1341.32 Q527.424 1343.43 522.424 1343.43 Q520.341 1343.43 518.072 1343.01 Q515.827 1342.62 513.327 1341.81 L513.327 1337.41 Q515.688 1338.63 517.98 1339.26 Q520.271 1339.86 522.517 1339.86 Q525.526 1339.86 527.146 1338.84 Q528.767 1337.8 528.767 1335.93 Q528.767 1334.19 527.586 1333.26 Q526.429 1332.34 522.471 1331.48 L520.989 1331.14 Q517.031 1330.3 515.271 1328.59 Q513.512 1326.85 513.512 1323.84 Q513.512 1320.19 516.105 1318.2 Q518.697 1316.2 523.466 1316.2 Q525.827 1316.2 527.91 1316.55 Q529.994 1316.9 531.753 1317.59 Z\" fill=\"#000000\" fill-rule=\"nonzero\" fill-opacity=\"1\" /><path clip-path=\"url(#clip120)\" d=\"M539.924 1316.83 L544.183 1316.83 L544.183 1342.76 L539.924 1342.76 L539.924 1316.83 M539.924 1306.74 L544.183 1306.74 L544.183 1312.13 L539.924 1312.13 L539.924 1306.74 Z\" fill=\"#000000\" fill-rule=\"nonzero\" fill-opacity=\"1\" /><path clip-path=\"url(#clip120)\" d=\"M574.646 1327.11 L574.646 1342.76 L570.387 1342.76 L570.387 1327.25 Q570.387 1323.57 568.952 1321.74 Q567.517 1319.91 564.646 1319.91 Q561.197 1319.91 559.206 1322.11 Q557.216 1324.31 557.216 1328.1 L557.216 1342.76 L552.933 1342.76 L552.933 1316.83 L557.216 1316.83 L557.216 1320.86 Q558.743 1318.52 560.804 1317.36 Q562.887 1316.2 565.595 1316.2 Q570.063 1316.2 572.354 1318.98 Q574.646 1321.74 574.646 1327.11 Z\" fill=\"#000000\" fill-rule=\"nonzero\" fill-opacity=\"1\" /><path clip-path=\"url(#clip120)\" d=\"M613.234 1320.81 Q612.516 1320.39 611.66 1320.21 Q610.827 1320 609.808 1320 Q606.197 1320 604.252 1322.36 Q602.331 1324.7 602.331 1329.1 L602.331 1342.76 L598.049 1342.76 L598.049 1316.83 L602.331 1316.83 L602.331 1320.86 Q603.674 1318.5 605.827 1317.36 Q607.979 1316.2 611.058 1316.2 Q611.498 1316.2 612.03 1316.27 Q612.563 1316.32 613.211 1316.44 L613.234 1320.81 Z\" fill=\"#000000\" fill-rule=\"nonzero\" fill-opacity=\"1\" /><path clip-path=\"url(#clip120)\" d=\"M638.836 1328.73 L638.836 1330.81 L619.252 1330.81 Q619.53 1335.21 621.891 1337.52 Q624.276 1339.82 628.512 1339.82 Q630.965 1339.82 633.257 1339.21 Q635.572 1338.61 637.84 1337.41 L637.84 1341.44 Q635.549 1342.41 633.141 1342.92 Q630.734 1343.43 628.257 1343.43 Q622.053 1343.43 618.419 1339.82 Q614.808 1336.2 614.808 1330.05 Q614.808 1323.68 618.234 1319.95 Q621.683 1316.2 627.516 1316.2 Q632.748 1316.2 635.78 1319.58 Q638.836 1322.94 638.836 1328.73 M634.576 1327.48 Q634.53 1323.98 632.609 1321.9 Q630.711 1319.82 627.563 1319.82 Q623.998 1319.82 621.845 1321.83 Q619.715 1323.84 619.391 1327.5 L634.576 1327.48 Z\" fill=\"#000000\" fill-rule=\"nonzero\" fill-opacity=\"1\" /><path clip-path=\"url(#clip120)\" d=\"M657.609 1329.72 Q652.447 1329.72 650.456 1330.9 Q648.465 1332.08 648.465 1334.93 Q648.465 1337.2 649.947 1338.54 Q651.451 1339.86 654.021 1339.86 Q657.562 1339.86 659.692 1337.36 Q661.845 1334.84 661.845 1330.67 L661.845 1329.72 L657.609 1329.72 M666.104 1327.96 L666.104 1342.76 L661.845 1342.76 L661.845 1338.82 Q660.386 1341.18 658.211 1342.32 Q656.035 1343.43 652.886 1343.43 Q648.905 1343.43 646.544 1341.2 Q644.206 1338.96 644.206 1335.21 Q644.206 1330.83 647.123 1328.61 Q650.062 1326.39 655.873 1326.39 L661.845 1326.39 L661.845 1325.97 Q661.845 1323.03 659.9 1321.44 Q657.979 1319.82 654.484 1319.82 Q652.261 1319.82 650.155 1320.35 Q648.049 1320.88 646.104 1321.95 L646.104 1318.01 Q648.442 1317.11 650.641 1316.67 Q652.84 1316.2 654.923 1316.2 Q660.548 1316.2 663.326 1319.12 Q666.104 1322.04 666.104 1327.96 Z\" fill=\"#000000\" fill-rule=\"nonzero\" fill-opacity=\"1\" /><path clip-path=\"url(#clip120)\" d=\"M674.877 1306.74 L679.136 1306.74 L679.136 1342.76 L674.877 1342.76 L674.877 1306.74 Z\" fill=\"#000000\" fill-rule=\"nonzero\" fill-opacity=\"1\" /></svg>\n"
      ]
     },
     "execution_count": 4,
     "metadata": {},
     "output_type": "execute_result"
    }
   ],
   "source": [
    "#Esto es 1,2 \n",
    "using Plots\n",
    "using BenchmarkTools\n",
    "n=0\n",
    "function sin_n(x, n)\n",
    "    taylor = x\n",
    "    for i in 1:n\n",
    "        taylor += Float64(((-1)^i)/(factorial(2*i+1)))*x^(2i+1)\n",
    "    end\n",
    "    return taylor\n",
    "end\n",
    "j = 6\n",
    "f(x) = sin_n(x,j)\n",
    "\n",
    "range1 = 0:0.01:2*π\n",
    "Taylor1 = f.(range1)\n",
    "\n",
    "plot(range1,Taylor1,xlabel=\"x\",ylabel=\"sen(x)\",label=\"sin 6\")\n",
    "\n",
    "j = 7\n",
    "Taylor2 = f.(range1)\n",
    "\n",
    "plot!(range1,Taylor2,xlabel=\"x\",ylabel=\"sen(x)\",label=\"sin 7\")\n",
    "\n",
    "j = 8\n",
    "Taylor3 = f.(range1)\n",
    "\n",
    "plot!(range1,Taylor3,xlabel=\"x\",ylabel=\"sen(x)\",label=\"sin 8\")\n",
    "\n",
    "plot!(range1,sin,xlabel=\"x\",ylabel=\"sen(x)\",label=\"sin real\")\n",
    "\n",
    "\n"
   ]
  },
  {
   "cell_type": "code",
   "execution_count": 5,
   "metadata": {},
   "outputs": [
    {
     "data": {
      "image/svg+xml": [
       "<?xml version=\"1.0\" encoding=\"utf-8\"?>\n",
       "<svg xmlns=\"http://www.w3.org/2000/svg\" xmlns:xlink=\"http://www.w3.org/1999/xlink\" width=\"600\" height=\"400\" viewBox=\"0 0 2400 1600\">\n",
       "<defs>\n",
       "  <clipPath id=\"clip160\">\n",
       "    <rect x=\"0\" y=\"0\" width=\"2400\" height=\"1600\"/>\n",
       "  </clipPath>\n",
       "</defs>\n",
       "<path clip-path=\"url(#clip160)\" d=\"M0 1600 L2400 1600 L2400 0 L0 0  Z\" fill=\"#ffffff\" fill-rule=\"evenodd\" fill-opacity=\"1\"/>\n",
       "<defs>\n",
       "  <clipPath id=\"clip161\">\n",
       "    <rect x=\"480\" y=\"0\" width=\"1681\" height=\"1600\"/>\n",
       "  </clipPath>\n",
       "</defs>\n",
       "<path clip-path=\"url(#clip160)\" d=\"M462.191 1423.18 L2352.76 1423.18 L2352.76 47.2441 L462.191 47.2441  Z\" fill=\"#ffffff\" fill-rule=\"evenodd\" fill-opacity=\"1\"/>\n",
       "<defs>\n",
       "  <clipPath id=\"clip162\">\n",
       "    <rect x=\"462\" y=\"47\" width=\"1892\" height=\"1377\"/>\n",
       "  </clipPath>\n",
       "</defs>\n",
       "<polyline clip-path=\"url(#clip162)\" style=\"stroke:#000000; stroke-linecap:round; stroke-linejoin:round; stroke-width:2; stroke-opacity:0.1; fill:none\" points=\"515.698,1423.18 515.698,47.2441 \"/>\n",
       "<polyline clip-path=\"url(#clip162)\" style=\"stroke:#000000; stroke-linecap:round; stroke-linejoin:round; stroke-width:2; stroke-opacity:0.1; fill:none\" points=\"961.586,1423.18 961.586,47.2441 \"/>\n",
       "<polyline clip-path=\"url(#clip162)\" style=\"stroke:#000000; stroke-linecap:round; stroke-linejoin:round; stroke-width:2; stroke-opacity:0.1; fill:none\" points=\"1407.47,1423.18 1407.47,47.2441 \"/>\n",
       "<polyline clip-path=\"url(#clip162)\" style=\"stroke:#000000; stroke-linecap:round; stroke-linejoin:round; stroke-width:2; stroke-opacity:0.1; fill:none\" points=\"1853.36,1423.18 1853.36,47.2441 \"/>\n",
       "<polyline clip-path=\"url(#clip162)\" style=\"stroke:#000000; stroke-linecap:round; stroke-linejoin:round; stroke-width:2; stroke-opacity:0.1; fill:none\" points=\"2299.25,1423.18 2299.25,47.2441 \"/>\n",
       "<polyline clip-path=\"url(#clip160)\" style=\"stroke:#000000; stroke-linecap:round; stroke-linejoin:round; stroke-width:4; stroke-opacity:1; fill:none\" points=\"462.191,1423.18 2352.76,1423.18 \"/>\n",
       "<polyline clip-path=\"url(#clip160)\" style=\"stroke:#000000; stroke-linecap:round; stroke-linejoin:round; stroke-width:4; stroke-opacity:1; fill:none\" points=\"515.698,1423.18 515.698,1404.28 \"/>\n",
       "<polyline clip-path=\"url(#clip160)\" style=\"stroke:#000000; stroke-linecap:round; stroke-linejoin:round; stroke-width:4; stroke-opacity:1; fill:none\" points=\"961.586,1423.18 961.586,1404.28 \"/>\n",
       "<polyline clip-path=\"url(#clip160)\" style=\"stroke:#000000; stroke-linecap:round; stroke-linejoin:round; stroke-width:4; stroke-opacity:1; fill:none\" points=\"1407.47,1423.18 1407.47,1404.28 \"/>\n",
       "<polyline clip-path=\"url(#clip160)\" style=\"stroke:#000000; stroke-linecap:round; stroke-linejoin:round; stroke-width:4; stroke-opacity:1; fill:none\" points=\"1853.36,1423.18 1853.36,1404.28 \"/>\n",
       "<polyline clip-path=\"url(#clip160)\" style=\"stroke:#000000; stroke-linecap:round; stroke-linejoin:round; stroke-width:4; stroke-opacity:1; fill:none\" points=\"2299.25,1423.18 2299.25,1404.28 \"/>\n",
       "<path clip-path=\"url(#clip160)\" d=\"M478.001 1454.1 Q474.39 1454.1 472.562 1457.66 Q470.756 1461.2 470.756 1468.33 Q470.756 1475.44 472.562 1479.01 Q474.39 1482.55 478.001 1482.55 Q481.636 1482.55 483.441 1479.01 Q485.27 1475.44 485.27 1468.33 Q485.27 1461.2 483.441 1457.66 Q481.636 1454.1 478.001 1454.1 M478.001 1450.39 Q483.811 1450.39 486.867 1455 Q489.946 1459.58 489.946 1468.33 Q489.946 1477.06 486.867 1481.67 Q483.811 1486.25 478.001 1486.25 Q472.191 1486.25 469.113 1481.67 Q466.057 1477.06 466.057 1468.33 Q466.057 1459.58 469.113 1455 Q472.191 1450.39 478.001 1450.39 Z\" fill=\"#000000\" fill-rule=\"nonzero\" fill-opacity=\"1\" /><path clip-path=\"url(#clip160)\" d=\"M498.163 1479.7 L503.048 1479.7 L503.048 1485.58 L498.163 1485.58 L498.163 1479.7 Z\" fill=\"#000000\" fill-rule=\"nonzero\" fill-opacity=\"1\" /><path clip-path=\"url(#clip160)\" d=\"M523.233 1454.1 Q519.621 1454.1 517.793 1457.66 Q515.987 1461.2 515.987 1468.33 Q515.987 1475.44 517.793 1479.01 Q519.621 1482.55 523.233 1482.55 Q526.867 1482.55 528.672 1479.01 Q530.501 1475.44 530.501 1468.33 Q530.501 1461.2 528.672 1457.66 Q526.867 1454.1 523.233 1454.1 M523.233 1450.39 Q529.043 1450.39 532.098 1455 Q535.177 1459.58 535.177 1468.33 Q535.177 1477.06 532.098 1481.67 Q529.043 1486.25 523.233 1486.25 Q517.422 1486.25 514.344 1481.67 Q511.288 1477.06 511.288 1468.33 Q511.288 1459.58 514.344 1455 Q517.422 1450.39 523.233 1450.39 Z\" fill=\"#000000\" fill-rule=\"nonzero\" fill-opacity=\"1\" /><path clip-path=\"url(#clip160)\" d=\"M553.394 1454.1 Q549.783 1454.1 547.955 1457.66 Q546.149 1461.2 546.149 1468.33 Q546.149 1475.44 547.955 1479.01 Q549.783 1482.55 553.394 1482.55 Q557.029 1482.55 558.834 1479.01 Q560.663 1475.44 560.663 1468.33 Q560.663 1461.2 558.834 1457.66 Q557.029 1454.1 553.394 1454.1 M553.394 1450.39 Q559.205 1450.39 562.26 1455 Q565.339 1459.58 565.339 1468.33 Q565.339 1477.06 562.26 1481.67 Q559.205 1486.25 553.394 1486.25 Q547.584 1486.25 544.506 1481.67 Q541.45 1477.06 541.45 1468.33 Q541.45 1459.58 544.506 1455 Q547.584 1450.39 553.394 1450.39 Z\" fill=\"#000000\" fill-rule=\"nonzero\" fill-opacity=\"1\" /><path clip-path=\"url(#clip160)\" d=\"M924.387 1454.1 Q920.776 1454.1 918.947 1457.66 Q917.142 1461.2 917.142 1468.33 Q917.142 1475.44 918.947 1479.01 Q920.776 1482.55 924.387 1482.55 Q928.021 1482.55 929.827 1479.01 Q931.655 1475.44 931.655 1468.33 Q931.655 1461.2 929.827 1457.66 Q928.021 1454.1 924.387 1454.1 M924.387 1450.39 Q930.197 1450.39 933.253 1455 Q936.331 1459.58 936.331 1468.33 Q936.331 1477.06 933.253 1481.67 Q930.197 1486.25 924.387 1486.25 Q918.577 1486.25 915.498 1481.67 Q912.443 1477.06 912.443 1468.33 Q912.443 1459.58 915.498 1455 Q918.577 1450.39 924.387 1450.39 Z\" fill=\"#000000\" fill-rule=\"nonzero\" fill-opacity=\"1\" /><path clip-path=\"url(#clip160)\" d=\"M944.549 1479.7 L949.433 1479.7 L949.433 1485.58 L944.549 1485.58 L944.549 1479.7 Z\" fill=\"#000000\" fill-rule=\"nonzero\" fill-opacity=\"1\" /><path clip-path=\"url(#clip160)\" d=\"M963.646 1481.64 L979.965 1481.64 L979.965 1485.58 L958.021 1485.58 L958.021 1481.64 Q960.683 1478.89 965.266 1474.26 Q969.873 1469.61 971.053 1468.27 Q973.299 1465.74 974.178 1464.01 Q975.081 1462.25 975.081 1460.56 Q975.081 1457.8 973.137 1456.07 Q971.215 1454.33 968.114 1454.33 Q965.914 1454.33 963.461 1455.09 Q961.03 1455.86 958.252 1457.41 L958.252 1452.69 Q961.077 1451.55 963.53 1450.97 Q965.984 1450.39 968.021 1450.39 Q973.391 1450.39 976.586 1453.08 Q979.78 1455.77 979.78 1460.26 Q979.78 1462.39 978.97 1464.31 Q978.183 1466.2 976.076 1468.8 Q975.498 1469.47 972.396 1472.69 Q969.294 1475.88 963.646 1481.64 Z\" fill=\"#000000\" fill-rule=\"nonzero\" fill-opacity=\"1\" /><path clip-path=\"url(#clip160)\" d=\"M989.826 1451.02 L1008.18 1451.02 L1008.18 1454.96 L994.109 1454.96 L994.109 1463.43 Q995.127 1463.08 996.146 1462.92 Q997.164 1462.73 998.183 1462.73 Q1003.97 1462.73 1007.35 1465.9 Q1010.73 1469.08 1010.73 1474.49 Q1010.73 1480.07 1007.26 1483.17 Q1003.78 1486.25 997.465 1486.25 Q995.289 1486.25 993.021 1485.88 Q990.775 1485.51 988.368 1484.77 L988.368 1480.07 Q990.451 1481.2 992.674 1481.76 Q994.896 1482.32 997.373 1482.32 Q1001.38 1482.32 1003.72 1480.21 Q1006.05 1478.1 1006.05 1474.49 Q1006.05 1470.88 1003.72 1468.77 Q1001.38 1466.67 997.373 1466.67 Q995.498 1466.67 993.623 1467.08 Q991.771 1467.5 989.826 1468.38 L989.826 1451.02 Z\" fill=\"#000000\" fill-rule=\"nonzero\" fill-opacity=\"1\" /><path clip-path=\"url(#clip160)\" d=\"M1369.78 1454.1 Q1366.17 1454.1 1364.34 1457.66 Q1362.53 1461.2 1362.53 1468.33 Q1362.53 1475.44 1364.34 1479.01 Q1366.17 1482.55 1369.78 1482.55 Q1373.41 1482.55 1375.22 1479.01 Q1377.05 1475.44 1377.05 1468.33 Q1377.05 1461.2 1375.22 1457.66 Q1373.41 1454.1 1369.78 1454.1 M1369.78 1450.39 Q1375.59 1450.39 1378.64 1455 Q1381.72 1459.58 1381.72 1468.33 Q1381.72 1477.06 1378.64 1481.67 Q1375.59 1486.25 1369.78 1486.25 Q1363.97 1486.25 1360.89 1481.67 Q1357.83 1477.06 1357.83 1468.33 Q1357.83 1459.58 1360.89 1455 Q1363.97 1450.39 1369.78 1450.39 Z\" fill=\"#000000\" fill-rule=\"nonzero\" fill-opacity=\"1\" /><path clip-path=\"url(#clip160)\" d=\"M1389.94 1479.7 L1394.82 1479.7 L1394.82 1485.58 L1389.94 1485.58 L1389.94 1479.7 Z\" fill=\"#000000\" fill-rule=\"nonzero\" fill-opacity=\"1\" /><path clip-path=\"url(#clip160)\" d=\"M1405.05 1451.02 L1423.41 1451.02 L1423.41 1454.96 L1409.34 1454.96 L1409.34 1463.43 Q1410.36 1463.08 1411.37 1462.92 Q1412.39 1462.73 1413.41 1462.73 Q1419.2 1462.73 1422.58 1465.9 Q1425.96 1469.08 1425.96 1474.49 Q1425.96 1480.07 1422.49 1483.17 Q1419.01 1486.25 1412.69 1486.25 Q1410.52 1486.25 1408.25 1485.88 Q1406 1485.51 1403.6 1484.77 L1403.6 1480.07 Q1405.68 1481.2 1407.9 1481.76 Q1410.12 1482.32 1412.6 1482.32 Q1416.61 1482.32 1418.94 1480.21 Q1421.28 1478.1 1421.28 1474.49 Q1421.28 1470.88 1418.94 1468.77 Q1416.61 1466.67 1412.6 1466.67 Q1410.73 1466.67 1408.85 1467.08 Q1407 1467.5 1405.05 1468.38 L1405.05 1451.02 Z\" fill=\"#000000\" fill-rule=\"nonzero\" fill-opacity=\"1\" /><path clip-path=\"url(#clip160)\" d=\"M1445.17 1454.1 Q1441.56 1454.1 1439.73 1457.66 Q1437.92 1461.2 1437.92 1468.33 Q1437.92 1475.44 1439.73 1479.01 Q1441.56 1482.55 1445.17 1482.55 Q1448.8 1482.55 1450.61 1479.01 Q1452.44 1475.44 1452.44 1468.33 Q1452.44 1461.2 1450.61 1457.66 Q1448.8 1454.1 1445.17 1454.1 M1445.17 1450.39 Q1450.98 1450.39 1454.04 1455 Q1457.11 1459.58 1457.11 1468.33 Q1457.11 1477.06 1454.04 1481.67 Q1450.98 1486.25 1445.17 1486.25 Q1439.36 1486.25 1436.28 1481.67 Q1433.23 1477.06 1433.23 1468.33 Q1433.23 1459.58 1436.28 1455 Q1439.36 1450.39 1445.17 1450.39 Z\" fill=\"#000000\" fill-rule=\"nonzero\" fill-opacity=\"1\" /><path clip-path=\"url(#clip160)\" d=\"M1816.16 1454.1 Q1812.55 1454.1 1810.72 1457.66 Q1808.92 1461.2 1808.92 1468.33 Q1808.92 1475.44 1810.72 1479.01 Q1812.55 1482.55 1816.16 1482.55 Q1819.8 1482.55 1821.6 1479.01 Q1823.43 1475.44 1823.43 1468.33 Q1823.43 1461.2 1821.6 1457.66 Q1819.8 1454.1 1816.16 1454.1 M1816.16 1450.39 Q1821.97 1450.39 1825.03 1455 Q1828.11 1459.58 1828.11 1468.33 Q1828.11 1477.06 1825.03 1481.67 Q1821.97 1486.25 1816.16 1486.25 Q1810.35 1486.25 1807.27 1481.67 Q1804.22 1477.06 1804.22 1468.33 Q1804.22 1459.58 1807.27 1455 Q1810.35 1450.39 1816.16 1450.39 Z\" fill=\"#000000\" fill-rule=\"nonzero\" fill-opacity=\"1\" /><path clip-path=\"url(#clip160)\" d=\"M1836.32 1479.7 L1841.21 1479.7 L1841.21 1485.58 L1836.32 1485.58 L1836.32 1479.7 Z\" fill=\"#000000\" fill-rule=\"nonzero\" fill-opacity=\"1\" /><path clip-path=\"url(#clip160)\" d=\"M1850.21 1451.02 L1872.44 1451.02 L1872.44 1453.01 L1859.89 1485.58 L1855.01 1485.58 L1866.81 1454.96 L1850.21 1454.96 L1850.21 1451.02 Z\" fill=\"#000000\" fill-rule=\"nonzero\" fill-opacity=\"1\" /><path clip-path=\"url(#clip160)\" d=\"M1881.6 1451.02 L1899.96 1451.02 L1899.96 1454.96 L1885.88 1454.96 L1885.88 1463.43 Q1886.9 1463.08 1887.92 1462.92 Q1888.94 1462.73 1889.96 1462.73 Q1895.75 1462.73 1899.13 1465.9 Q1902.5 1469.08 1902.5 1474.49 Q1902.5 1480.07 1899.03 1483.17 Q1895.56 1486.25 1889.24 1486.25 Q1887.07 1486.25 1884.8 1485.88 Q1882.55 1485.51 1880.14 1484.77 L1880.14 1480.07 Q1882.23 1481.2 1884.45 1481.76 Q1886.67 1482.32 1889.15 1482.32 Q1893.15 1482.32 1895.49 1480.21 Q1897.83 1478.1 1897.83 1474.49 Q1897.83 1470.88 1895.49 1468.77 Q1893.15 1466.67 1889.15 1466.67 Q1887.27 1466.67 1885.4 1467.08 Q1883.55 1467.5 1881.6 1468.38 L1881.6 1451.02 Z\" fill=\"#000000\" fill-rule=\"nonzero\" fill-opacity=\"1\" /><path clip-path=\"url(#clip160)\" d=\"M2251.32 1481.64 L2258.96 1481.64 L2258.96 1455.28 L2250.65 1456.95 L2250.65 1452.69 L2258.91 1451.02 L2263.59 1451.02 L2263.59 1481.64 L2271.23 1481.64 L2271.23 1485.58 L2251.32 1485.58 L2251.32 1481.64 Z\" fill=\"#000000\" fill-rule=\"nonzero\" fill-opacity=\"1\" /><path clip-path=\"url(#clip160)\" d=\"M2280.67 1479.7 L2285.56 1479.7 L2285.56 1485.58 L2280.67 1485.58 L2280.67 1479.7 Z\" fill=\"#000000\" fill-rule=\"nonzero\" fill-opacity=\"1\" /><path clip-path=\"url(#clip160)\" d=\"M2305.74 1454.1 Q2302.13 1454.1 2300.3 1457.66 Q2298.5 1461.2 2298.5 1468.33 Q2298.5 1475.44 2300.3 1479.01 Q2302.13 1482.55 2305.74 1482.55 Q2309.38 1482.55 2311.18 1479.01 Q2313.01 1475.44 2313.01 1468.33 Q2313.01 1461.2 2311.18 1457.66 Q2309.38 1454.1 2305.74 1454.1 M2305.74 1450.39 Q2311.55 1450.39 2314.61 1455 Q2317.69 1459.58 2317.69 1468.33 Q2317.69 1477.06 2314.61 1481.67 Q2311.55 1486.25 2305.74 1486.25 Q2299.93 1486.25 2296.85 1481.67 Q2293.8 1477.06 2293.8 1468.33 Q2293.8 1459.58 2296.85 1455 Q2299.93 1450.39 2305.74 1450.39 Z\" fill=\"#000000\" fill-rule=\"nonzero\" fill-opacity=\"1\" /><path clip-path=\"url(#clip160)\" d=\"M2335.9 1454.1 Q2332.29 1454.1 2330.46 1457.66 Q2328.66 1461.2 2328.66 1468.33 Q2328.66 1475.44 2330.46 1479.01 Q2332.29 1482.55 2335.9 1482.55 Q2339.54 1482.55 2341.34 1479.01 Q2343.17 1475.44 2343.17 1468.33 Q2343.17 1461.2 2341.34 1457.66 Q2339.54 1454.1 2335.9 1454.1 M2335.9 1450.39 Q2341.71 1450.39 2344.77 1455 Q2347.85 1459.58 2347.85 1468.33 Q2347.85 1477.06 2344.77 1481.67 Q2341.71 1486.25 2335.9 1486.25 Q2330.09 1486.25 2327.02 1481.67 Q2323.96 1477.06 2323.96 1468.33 Q2323.96 1459.58 2327.02 1455 Q2330.09 1450.39 2335.9 1450.39 Z\" fill=\"#000000\" fill-rule=\"nonzero\" fill-opacity=\"1\" /><path clip-path=\"url(#clip160)\" d=\"M1424.09 1532.4 L1411.2 1549.74 L1424.76 1568.04 L1417.85 1568.04 L1407.47 1554.04 L1397.1 1568.04 L1390.19 1568.04 L1404.04 1549.39 L1391.37 1532.4 L1398.28 1532.4 L1407.73 1545.1 L1417.18 1532.4 L1424.09 1532.4 Z\" fill=\"#000000\" fill-rule=\"nonzero\" fill-opacity=\"1\" /><polyline clip-path=\"url(#clip162)\" style=\"stroke:#000000; stroke-linecap:round; stroke-linejoin:round; stroke-width:2; stroke-opacity:0.1; fill:none\" points=\"462.191,9504.08 2352.76,9504.08 \"/>\n",
       "<polyline clip-path=\"url(#clip162)\" style=\"stroke:#000000; stroke-linecap:round; stroke-linejoin:round; stroke-width:2; stroke-opacity:0.1; fill:none\" points=\"462.191,6581.12 2352.76,6581.12 \"/>\n",
       "<polyline clip-path=\"url(#clip162)\" style=\"stroke:#000000; stroke-linecap:round; stroke-linejoin:round; stroke-width:2; stroke-opacity:0.1; fill:none\" points=\"462.191,3658.17 2352.76,3658.17 \"/>\n",
       "<polyline clip-path=\"url(#clip162)\" style=\"stroke:#000000; stroke-linecap:round; stroke-linejoin:round; stroke-width:2; stroke-opacity:0.1; fill:none\" points=\"462.191,735.212 2352.76,735.212 \"/>\n",
       "<polyline clip-path=\"url(#clip162)\" style=\"stroke:#000000; stroke-linecap:round; stroke-linejoin:round; stroke-width:2; stroke-opacity:0.1; fill:none\" points=\"462.191,-2187.74 2352.76,-2187.74 \"/>\n",
       "<polyline clip-path=\"url(#clip160)\" style=\"stroke:#000000; stroke-linecap:round; stroke-linejoin:round; stroke-width:4; stroke-opacity:1; fill:none\" points=\"462.191,1423.18 462.191,47.2441 \"/>\n",
       "<polyline clip-path=\"url(#clip160)\" style=\"stroke:#000000; stroke-linecap:round; stroke-linejoin:round; stroke-width:4; stroke-opacity:1; fill:none\" points=\"462.191,9504.08 481.089,9504.08 \"/>\n",
       "<polyline clip-path=\"url(#clip160)\" style=\"stroke:#000000; stroke-linecap:round; stroke-linejoin:round; stroke-width:4; stroke-opacity:1; fill:none\" points=\"462.191,6581.12 481.089,6581.12 \"/>\n",
       "<polyline clip-path=\"url(#clip160)\" style=\"stroke:#000000; stroke-linecap:round; stroke-linejoin:round; stroke-width:4; stroke-opacity:1; fill:none\" points=\"462.191,3658.17 481.089,3658.17 \"/>\n",
       "<polyline clip-path=\"url(#clip160)\" style=\"stroke:#000000; stroke-linecap:round; stroke-linejoin:round; stroke-width:4; stroke-opacity:1; fill:none\" points=\"462.191,735.212 481.089,735.212 \"/>\n",
       "<polyline clip-path=\"url(#clip160)\" style=\"stroke:#000000; stroke-linecap:round; stroke-linejoin:round; stroke-width:4; stroke-opacity:1; fill:none\" points=\"462.191,-2187.74 481.089,-2187.74 \"/>\n",
       "<path clip-path=\"url(#clip160)\" d=\"M115.201 9510.97 L144.876 9510.97 L144.876 9514.91 L115.201 9514.91 L115.201 9510.97 Z\" fill=\"#000000\" fill-rule=\"nonzero\" fill-opacity=\"1\" /><path clip-path=\"url(#clip160)\" d=\"M155.779 9523.87 L163.418 9523.87 L163.418 9497.5 L155.108 9499.17 L155.108 9494.91 L163.372 9493.24 L168.047 9493.24 L168.047 9523.87 L175.686 9523.87 L175.686 9527.8 L155.779 9527.8 L155.779 9523.87 Z\" fill=\"#000000\" fill-rule=\"nonzero\" fill-opacity=\"1\" /><path clip-path=\"url(#clip160)\" d=\"M185.131 9521.92 L190.015 9521.92 L190.015 9527.8 L185.131 9527.8 L185.131 9521.92 Z\" fill=\"#000000\" fill-rule=\"nonzero\" fill-opacity=\"1\" /><path clip-path=\"url(#clip160)\" d=\"M200.246 9493.24 L218.603 9493.24 L218.603 9497.18 L204.529 9497.18 L204.529 9505.65 Q205.547 9505.3 206.566 9505.14 Q207.584 9504.96 208.603 9504.96 Q214.39 9504.96 217.769 9508.13 Q221.149 9511.3 221.149 9516.72 Q221.149 9522.29 217.677 9525.4 Q214.205 9528.47 207.885 9528.47 Q205.709 9528.47 203.441 9528.1 Q201.195 9527.73 198.788 9526.99 L198.788 9522.29 Q200.871 9523.43 203.094 9523.98 Q205.316 9524.54 207.793 9524.54 Q211.797 9524.54 214.135 9522.43 Q216.473 9520.33 216.473 9516.72 Q216.473 9513.1 214.135 9511 Q211.797 9508.89 207.793 9508.89 Q205.918 9508.89 204.043 9509.31 Q202.191 9509.72 200.246 9510.6 L200.246 9493.24 Z\" fill=\"#000000\" fill-rule=\"nonzero\" fill-opacity=\"1\" /><path clip-path=\"url(#clip160)\" d=\"M240.362 9496.32 Q236.751 9496.32 234.922 9499.89 Q233.117 9503.43 233.117 9510.56 Q233.117 9517.66 234.922 9521.23 Q236.751 9524.77 240.362 9524.77 Q243.996 9524.77 245.802 9521.23 Q247.63 9517.66 247.63 9510.56 Q247.63 9503.43 245.802 9499.89 Q243.996 9496.32 240.362 9496.32 M240.362 9492.62 Q246.172 9492.62 249.228 9497.22 Q252.306 9501.81 252.306 9510.56 Q252.306 9519.28 249.228 9523.89 Q246.172 9528.47 240.362 9528.47 Q234.552 9528.47 231.473 9523.89 Q228.418 9519.28 228.418 9510.56 Q228.418 9501.81 231.473 9497.22 Q234.552 9492.62 240.362 9492.62 Z\" fill=\"#000000\" fill-rule=\"nonzero\" fill-opacity=\"1\" /><path clip-path=\"url(#clip160)\" d=\"M288.695 9502.34 L278.116 9512.97 L288.695 9523.54 L285.94 9526.35 L275.315 9515.72 L264.69 9526.35 L261.959 9523.54 L272.515 9512.97 L261.959 9502.34 L264.69 9499.54 L275.315 9510.16 L285.94 9499.54 L288.695 9502.34 Z\" fill=\"#000000\" fill-rule=\"nonzero\" fill-opacity=\"1\" /><path clip-path=\"url(#clip160)\" d=\"M301.056 9523.87 L308.695 9523.87 L308.695 9497.5 L300.385 9499.17 L300.385 9494.91 L308.649 9493.24 L313.324 9493.24 L313.324 9523.87 L320.963 9523.87 L320.963 9527.8 L301.056 9527.8 L301.056 9523.87 Z\" fill=\"#000000\" fill-rule=\"nonzero\" fill-opacity=\"1\" /><path clip-path=\"url(#clip160)\" d=\"M340.408 9496.32 Q336.797 9496.32 334.968 9499.89 Q333.162 9503.43 333.162 9510.56 Q333.162 9517.66 334.968 9521.23 Q336.797 9524.77 340.408 9524.77 Q344.042 9524.77 345.847 9521.23 Q347.676 9517.66 347.676 9510.56 Q347.676 9503.43 345.847 9499.89 Q344.042 9496.32 340.408 9496.32 M340.408 9492.62 Q346.218 9492.62 349.273 9497.22 Q352.352 9501.81 352.352 9510.56 Q352.352 9519.28 349.273 9523.89 Q346.218 9528.47 340.408 9528.47 Q334.598 9528.47 331.519 9523.89 Q328.463 9519.28 328.463 9510.56 Q328.463 9501.81 331.519 9497.22 Q334.598 9492.62 340.408 9492.62 Z\" fill=\"#000000\" fill-rule=\"nonzero\" fill-opacity=\"1\" /><path clip-path=\"url(#clip160)\" d=\"M352.352 9486.72 L376.464 9486.72 L376.464 9489.92 L352.352 9489.92 L352.352 9486.72 Z\" fill=\"#000000\" fill-rule=\"nonzero\" fill-opacity=\"1\" /><path clip-path=\"url(#clip160)\" d=\"M385.322 9497.2 L391.529 9497.2 L391.529 9475.77 L384.777 9477.13 L384.777 9473.67 L391.491 9472.31 L395.29 9472.31 L395.29 9497.2 L401.497 9497.2 L401.497 9500.39 L385.322 9500.39 L385.322 9497.2 Z\" fill=\"#000000\" fill-rule=\"nonzero\" fill-opacity=\"1\" /><path clip-path=\"url(#clip160)\" d=\"M409.208 9472.31 L424.123 9472.31 L424.123 9475.51 L412.687 9475.51 L412.687 9482.39 Q413.515 9482.11 414.342 9481.98 Q415.17 9481.83 415.998 9481.83 Q420.699 9481.83 423.445 9484.41 Q426.191 9486.98 426.191 9491.38 Q426.191 9495.92 423.37 9498.44 Q420.549 9500.94 415.415 9500.94 Q413.647 9500.94 411.803 9500.64 Q409.979 9500.34 408.023 9499.73 L408.023 9495.92 Q409.716 9496.84 411.521 9497.29 Q413.327 9497.74 415.339 9497.74 Q418.593 9497.74 420.493 9496.03 Q422.392 9494.32 422.392 9491.38 Q422.392 9488.45 420.493 9486.74 Q418.593 9485.03 415.339 9485.03 Q413.816 9485.03 412.292 9485.37 Q410.788 9485.7 409.208 9486.42 L409.208 9472.31 Z\" fill=\"#000000\" fill-rule=\"nonzero\" fill-opacity=\"1\" /><path clip-path=\"url(#clip160)\" d=\"M115.201 6588.02 L144.876 6588.02 L144.876 6591.96 L115.201 6591.96 L115.201 6588.02 Z\" fill=\"#000000\" fill-rule=\"nonzero\" fill-opacity=\"1\" /><path clip-path=\"url(#clip160)\" d=\"M155.779 6600.91 L163.418 6600.91 L163.418 6574.55 L155.108 6576.21 L155.108 6571.96 L163.372 6570.29 L168.047 6570.29 L168.047 6600.91 L175.686 6600.91 L175.686 6604.85 L155.779 6604.85 L155.779 6600.91 Z\" fill=\"#000000\" fill-rule=\"nonzero\" fill-opacity=\"1\" /><path clip-path=\"url(#clip160)\" d=\"M185.131 6598.97 L190.015 6598.97 L190.015 6604.85 L185.131 6604.85 L185.131 6598.97 Z\" fill=\"#000000\" fill-rule=\"nonzero\" fill-opacity=\"1\" /><path clip-path=\"url(#clip160)\" d=\"M210.2 6573.37 Q206.589 6573.37 204.76 6576.93 Q202.955 6580.47 202.955 6587.6 Q202.955 6594.71 204.76 6598.27 Q206.589 6601.82 210.2 6601.82 Q213.834 6601.82 215.64 6598.27 Q217.469 6594.71 217.469 6587.6 Q217.469 6580.47 215.64 6576.93 Q213.834 6573.37 210.2 6573.37 M210.2 6569.66 Q216.01 6569.66 219.066 6574.27 Q222.144 6578.85 222.144 6587.6 Q222.144 6596.33 219.066 6600.94 Q216.01 6605.52 210.2 6605.52 Q204.39 6605.52 201.311 6600.94 Q198.256 6596.33 198.256 6587.6 Q198.256 6578.85 201.311 6574.27 Q204.39 6569.66 210.2 6569.66 Z\" fill=\"#000000\" fill-rule=\"nonzero\" fill-opacity=\"1\" /><path clip-path=\"url(#clip160)\" d=\"M240.362 6573.37 Q236.751 6573.37 234.922 6576.93 Q233.117 6580.47 233.117 6587.6 Q233.117 6594.71 234.922 6598.27 Q236.751 6601.82 240.362 6601.82 Q243.996 6601.82 245.802 6598.27 Q247.63 6594.71 247.63 6587.6 Q247.63 6580.47 245.802 6576.93 Q243.996 6573.37 240.362 6573.37 M240.362 6569.66 Q246.172 6569.66 249.228 6574.27 Q252.306 6578.85 252.306 6587.6 Q252.306 6596.33 249.228 6600.94 Q246.172 6605.52 240.362 6605.52 Q234.552 6605.52 231.473 6600.94 Q228.418 6596.33 228.418 6587.6 Q228.418 6578.85 231.473 6574.27 Q234.552 6569.66 240.362 6569.66 Z\" fill=\"#000000\" fill-rule=\"nonzero\" fill-opacity=\"1\" /><path clip-path=\"url(#clip160)\" d=\"M288.695 6579.39 L278.116 6590.01 L288.695 6600.59 L285.94 6603.39 L275.315 6592.77 L264.69 6603.39 L261.959 6600.59 L272.515 6590.01 L261.959 6579.39 L264.69 6576.59 L275.315 6587.21 L285.94 6576.59 L288.695 6579.39 Z\" fill=\"#000000\" fill-rule=\"nonzero\" fill-opacity=\"1\" /><path clip-path=\"url(#clip160)\" d=\"M301.056 6600.91 L308.695 6600.91 L308.695 6574.55 L300.385 6576.21 L300.385 6571.96 L308.649 6570.29 L313.324 6570.29 L313.324 6600.91 L320.963 6600.91 L320.963 6604.85 L301.056 6604.85 L301.056 6600.91 Z\" fill=\"#000000\" fill-rule=\"nonzero\" fill-opacity=\"1\" /><path clip-path=\"url(#clip160)\" d=\"M340.408 6573.37 Q336.797 6573.37 334.968 6576.93 Q333.162 6580.47 333.162 6587.6 Q333.162 6594.71 334.968 6598.27 Q336.797 6601.82 340.408 6601.82 Q344.042 6601.82 345.847 6598.27 Q347.676 6594.71 347.676 6587.6 Q347.676 6580.47 345.847 6576.93 Q344.042 6573.37 340.408 6573.37 M340.408 6569.66 Q346.218 6569.66 349.273 6574.27 Q352.352 6578.85 352.352 6587.6 Q352.352 6596.33 349.273 6600.94 Q346.218 6605.52 340.408 6605.52 Q334.598 6605.52 331.519 6600.94 Q328.463 6596.33 328.463 6587.6 Q328.463 6578.85 331.519 6574.27 Q334.598 6569.66 340.408 6569.66 Z\" fill=\"#000000\" fill-rule=\"nonzero\" fill-opacity=\"1\" /><path clip-path=\"url(#clip160)\" d=\"M352.352 6563.77 L376.464 6563.77 L376.464 6566.96 L352.352 6566.96 L352.352 6563.77 Z\" fill=\"#000000\" fill-rule=\"nonzero\" fill-opacity=\"1\" /><path clip-path=\"url(#clip160)\" d=\"M385.322 6574.24 L391.529 6574.24 L391.529 6552.82 L384.777 6554.17 L384.777 6550.71 L391.491 6549.36 L395.29 6549.36 L395.29 6574.24 L401.497 6574.24 L401.497 6577.44 L385.322 6577.44 L385.322 6574.24 Z\" fill=\"#000000\" fill-rule=\"nonzero\" fill-opacity=\"1\" /><path clip-path=\"url(#clip160)\" d=\"M409.208 6549.36 L424.123 6549.36 L424.123 6552.56 L412.687 6552.56 L412.687 6559.44 Q413.515 6559.16 414.342 6559.03 Q415.17 6558.88 415.998 6558.88 Q420.699 6558.88 423.445 6561.45 Q426.191 6564.03 426.191 6568.43 Q426.191 6572.96 423.37 6575.48 Q420.549 6577.98 415.415 6577.98 Q413.647 6577.98 411.803 6577.68 Q409.979 6577.38 408.023 6576.78 L408.023 6572.96 Q409.716 6573.88 411.521 6574.34 Q413.327 6574.79 415.339 6574.79 Q418.593 6574.79 420.493 6573.07 Q422.392 6571.36 422.392 6568.43 Q422.392 6565.5 420.493 6563.78 Q418.593 6562.07 415.339 6562.07 Q413.816 6562.07 412.292 6562.41 Q410.788 6562.75 409.208 6563.46 L409.208 6549.36 Z\" fill=\"#000000\" fill-rule=\"nonzero\" fill-opacity=\"1\" /><path clip-path=\"url(#clip160)\" d=\"M114.26 3665.07 L143.936 3665.07 L143.936 3669 L114.26 3669 L114.26 3665.07 Z\" fill=\"#000000\" fill-rule=\"nonzero\" fill-opacity=\"1\" /><path clip-path=\"url(#clip160)\" d=\"M154.075 3647.33 L172.431 3647.33 L172.431 3651.27 L158.357 3651.27 L158.357 3659.74 Q159.376 3659.39 160.394 3659.23 Q161.413 3659.05 162.431 3659.05 Q168.218 3659.05 171.598 3662.22 Q174.977 3665.39 174.977 3670.81 Q174.977 3676.38 171.505 3679.49 Q168.033 3682.57 161.714 3682.57 Q159.538 3682.57 157.269 3682.2 Q155.024 3681.82 152.616 3681.08 L152.616 3676.38 Q154.7 3677.52 156.922 3678.07 Q159.144 3678.63 161.621 3678.63 Q165.626 3678.63 167.964 3676.52 Q170.302 3674.42 170.302 3670.81 Q170.302 3667.2 167.964 3665.09 Q165.626 3662.98 161.621 3662.98 Q159.746 3662.98 157.871 3663.4 Q156.019 3663.82 154.075 3664.7 L154.075 3647.33 Z\" fill=\"#000000\" fill-rule=\"nonzero\" fill-opacity=\"1\" /><path clip-path=\"url(#clip160)\" d=\"M184.19 3676.01 L189.075 3676.01 L189.075 3681.89 L184.19 3681.89 L184.19 3676.01 Z\" fill=\"#000000\" fill-rule=\"nonzero\" fill-opacity=\"1\" /><path clip-path=\"url(#clip160)\" d=\"M209.26 3650.41 Q205.649 3650.41 203.82 3653.98 Q202.014 3657.52 202.014 3664.65 Q202.014 3671.76 203.82 3675.32 Q205.649 3678.86 209.26 3678.86 Q212.894 3678.86 214.699 3675.32 Q216.528 3671.76 216.528 3664.65 Q216.528 3657.52 214.699 3653.98 Q212.894 3650.41 209.26 3650.41 M209.26 3646.71 Q215.07 3646.71 218.125 3651.32 Q221.204 3655.9 221.204 3664.65 Q221.204 3673.38 218.125 3677.98 Q215.07 3682.57 209.26 3682.57 Q203.449 3682.57 200.371 3677.98 Q197.315 3673.38 197.315 3664.65 Q197.315 3655.9 200.371 3651.32 Q203.449 3646.71 209.26 3646.71 Z\" fill=\"#000000\" fill-rule=\"nonzero\" fill-opacity=\"1\" /><path clip-path=\"url(#clip160)\" d=\"M239.422 3650.41 Q235.81 3650.41 233.982 3653.98 Q232.176 3657.52 232.176 3664.65 Q232.176 3671.76 233.982 3675.32 Q235.81 3678.86 239.422 3678.86 Q243.056 3678.86 244.861 3675.32 Q246.69 3671.76 246.69 3664.65 Q246.69 3657.52 244.861 3653.98 Q243.056 3650.41 239.422 3650.41 M239.422 3646.71 Q245.232 3646.71 248.287 3651.32 Q251.366 3655.9 251.366 3664.65 Q251.366 3673.38 248.287 3677.98 Q245.232 3682.57 239.422 3682.57 Q233.611 3682.57 230.533 3677.98 Q227.477 3673.38 227.477 3664.65 Q227.477 3655.9 230.533 3651.32 Q233.611 3646.71 239.422 3646.71 Z\" fill=\"#000000\" fill-rule=\"nonzero\" fill-opacity=\"1\" /><path clip-path=\"url(#clip160)\" d=\"M287.755 3656.43 L277.176 3667.06 L287.755 3677.63 L285 3680.44 L274.375 3669.81 L263.75 3680.44 L261.019 3677.63 L271.574 3667.06 L261.019 3656.43 L263.75 3653.63 L274.375 3664.26 L285 3653.63 L287.755 3656.43 Z\" fill=\"#000000\" fill-rule=\"nonzero\" fill-opacity=\"1\" /><path clip-path=\"url(#clip160)\" d=\"M300.116 3677.96 L307.754 3677.96 L307.754 3651.59 L299.444 3653.26 L299.444 3649 L307.708 3647.33 L312.384 3647.33 L312.384 3677.96 L320.023 3677.96 L320.023 3681.89 L300.116 3681.89 L300.116 3677.96 Z\" fill=\"#000000\" fill-rule=\"nonzero\" fill-opacity=\"1\" /><path clip-path=\"url(#clip160)\" d=\"M339.467 3650.41 Q335.856 3650.41 334.027 3653.98 Q332.222 3657.52 332.222 3664.65 Q332.222 3671.76 334.027 3675.32 Q335.856 3678.86 339.467 3678.86 Q343.102 3678.86 344.907 3675.32 Q346.736 3671.76 346.736 3664.65 Q346.736 3657.52 344.907 3653.98 Q343.102 3650.41 339.467 3650.41 M339.467 3646.71 Q345.277 3646.71 348.333 3651.32 Q351.412 3655.9 351.412 3664.65 Q351.412 3673.38 348.333 3677.98 Q345.277 3682.57 339.467 3682.57 Q333.657 3682.57 330.578 3677.98 Q327.523 3673.38 327.523 3664.65 Q327.523 3655.9 330.578 3651.32 Q333.657 3646.71 339.467 3646.71 Z\" fill=\"#000000\" fill-rule=\"nonzero\" fill-opacity=\"1\" /><path clip-path=\"url(#clip160)\" d=\"M351.412 3640.81 L375.523 3640.81 L375.523 3644.01 L351.412 3644.01 L351.412 3640.81 Z\" fill=\"#000000\" fill-rule=\"nonzero\" fill-opacity=\"1\" /><path clip-path=\"url(#clip160)\" d=\"M384.382 3651.29 L390.588 3651.29 L390.588 3629.86 L383.836 3631.22 L383.836 3627.76 L390.551 3626.4 L394.35 3626.4 L394.35 3651.29 L400.556 3651.29 L400.556 3654.48 L384.382 3654.48 L384.382 3651.29 Z\" fill=\"#000000\" fill-rule=\"nonzero\" fill-opacity=\"1\" /><path clip-path=\"url(#clip160)\" d=\"M416.825 3638.93 Q414.267 3638.93 412.763 3640.68 Q411.277 3642.43 411.277 3645.47 Q411.277 3648.5 412.763 3650.27 Q414.267 3652.02 416.825 3652.02 Q419.383 3652.02 420.869 3650.27 Q422.373 3648.5 422.373 3645.47 Q422.373 3642.43 420.869 3640.68 Q419.383 3638.93 416.825 3638.93 M424.367 3627.02 L424.367 3630.49 Q422.938 3629.81 421.471 3629.45 Q420.022 3629.09 418.593 3629.09 Q414.831 3629.09 412.838 3631.63 Q410.863 3634.17 410.581 3639.31 Q411.691 3637.67 413.364 3636.8 Q415.038 3635.92 417.051 3635.92 Q421.283 3635.92 423.728 3638.5 Q426.191 3641.06 426.191 3645.47 Q426.191 3649.8 423.633 3652.41 Q421.076 3655.03 416.825 3655.03 Q411.954 3655.03 409.377 3651.31 Q406.801 3647.56 406.801 3640.47 Q406.801 3633.81 409.96 3629.86 Q413.12 3625.9 418.443 3625.9 Q419.872 3625.9 421.32 3626.18 Q422.787 3626.46 424.367 3627.02 Z\" fill=\"#000000\" fill-rule=\"nonzero\" fill-opacity=\"1\" /><path clip-path=\"url(#clip160)\" d=\"M414.247 721.011 Q410.636 721.011 408.807 724.575 Q407.002 728.117 407.002 735.247 Q407.002 742.353 408.807 745.918 Q410.636 749.46 414.247 749.46 Q417.881 749.46 419.687 745.918 Q421.515 742.353 421.515 735.247 Q421.515 728.117 419.687 724.575 Q417.881 721.011 414.247 721.011 M414.247 717.307 Q420.057 717.307 423.113 721.913 Q426.191 726.497 426.191 735.247 Q426.191 743.973 423.113 748.58 Q420.057 753.163 414.247 753.163 Q408.437 753.163 405.358 748.58 Q402.303 743.973 402.303 735.247 Q402.303 726.497 405.358 721.913 Q408.437 717.307 414.247 717.307 Z\" fill=\"#000000\" fill-rule=\"nonzero\" fill-opacity=\"1\" /><path clip-path=\"url(#clip160)\" d=\"M154.075 -2198.58 L172.431 -2198.58 L172.431 -2194.64 L158.357 -2194.64 L158.357 -2186.17 Q159.376 -2186.51 160.394 -2186.68 Q161.413 -2186.86 162.431 -2186.86 Q168.218 -2186.86 171.598 -2183.69 Q174.977 -2180.52 174.977 -2175.1 Q174.977 -2169.52 171.505 -2166.42 Q168.033 -2163.34 161.714 -2163.34 Q159.538 -2163.34 157.269 -2163.71 Q155.024 -2164.08 152.616 -2164.83 L152.616 -2169.52 Q154.7 -2168.39 156.922 -2167.83 Q159.144 -2167.28 161.621 -2167.28 Q165.626 -2167.28 167.964 -2169.39 Q170.302 -2171.49 170.302 -2175.1 Q170.302 -2178.71 167.964 -2180.82 Q165.626 -2182.93 161.621 -2182.93 Q159.746 -2182.93 157.871 -2182.51 Q156.019 -2182.09 154.075 -2181.21 L154.075 -2198.58 Z\" fill=\"#000000\" fill-rule=\"nonzero\" fill-opacity=\"1\" /><path clip-path=\"url(#clip160)\" d=\"M184.19 -2169.89 L189.075 -2169.89 L189.075 -2164.02 L184.19 -2164.02 L184.19 -2169.89 Z\" fill=\"#000000\" fill-rule=\"nonzero\" fill-opacity=\"1\" /><path clip-path=\"url(#clip160)\" d=\"M209.26 -2195.5 Q205.649 -2195.5 203.82 -2191.93 Q202.014 -2188.39 202.014 -2181.26 Q202.014 -2174.15 203.82 -2170.59 Q205.649 -2167.05 209.26 -2167.05 Q212.894 -2167.05 214.699 -2170.59 Q216.528 -2174.15 216.528 -2181.26 Q216.528 -2188.39 214.699 -2191.93 Q212.894 -2195.5 209.26 -2195.5 M209.26 -2199.2 Q215.07 -2199.2 218.125 -2194.59 Q221.204 -2190.01 221.204 -2181.26 Q221.204 -2172.53 218.125 -2167.93 Q215.07 -2163.34 209.26 -2163.34 Q203.449 -2163.34 200.371 -2167.93 Q197.315 -2172.53 197.315 -2181.26 Q197.315 -2190.01 200.371 -2194.59 Q203.449 -2199.2 209.26 -2199.2 Z\" fill=\"#000000\" fill-rule=\"nonzero\" fill-opacity=\"1\" /><path clip-path=\"url(#clip160)\" d=\"M239.422 -2195.5 Q235.81 -2195.5 233.982 -2191.93 Q232.176 -2188.39 232.176 -2181.26 Q232.176 -2174.15 233.982 -2170.59 Q235.81 -2167.05 239.422 -2167.05 Q243.056 -2167.05 244.861 -2170.59 Q246.69 -2174.15 246.69 -2181.26 Q246.69 -2188.39 244.861 -2191.93 Q243.056 -2195.5 239.422 -2195.5 M239.422 -2199.2 Q245.232 -2199.2 248.287 -2194.59 Q251.366 -2190.01 251.366 -2181.26 Q251.366 -2172.53 248.287 -2167.93 Q245.232 -2163.34 239.422 -2163.34 Q233.611 -2163.34 230.533 -2167.93 Q227.477 -2172.53 227.477 -2181.26 Q227.477 -2190.01 230.533 -2194.59 Q233.611 -2199.2 239.422 -2199.2 Z\" fill=\"#000000\" fill-rule=\"nonzero\" fill-opacity=\"1\" /><path clip-path=\"url(#clip160)\" d=\"M287.755 -2189.48 L277.176 -2178.85 L287.755 -2168.27 L285 -2165.47 L274.375 -2176.1 L263.75 -2165.47 L261.019 -2168.27 L271.574 -2178.85 L261.019 -2189.48 L263.75 -2192.28 L274.375 -2181.65 L285 -2192.28 L287.755 -2189.48 Z\" fill=\"#000000\" fill-rule=\"nonzero\" fill-opacity=\"1\" /><path clip-path=\"url(#clip160)\" d=\"M300.116 -2167.95 L307.754 -2167.95 L307.754 -2194.32 L299.444 -2192.65 L299.444 -2196.91 L307.708 -2198.58 L312.384 -2198.58 L312.384 -2167.95 L320.023 -2167.95 L320.023 -2164.02 L300.116 -2164.02 L300.116 -2167.95 Z\" fill=\"#000000\" fill-rule=\"nonzero\" fill-opacity=\"1\" /><path clip-path=\"url(#clip160)\" d=\"M339.467 -2195.5 Q335.856 -2195.5 334.027 -2191.93 Q332.222 -2188.39 332.222 -2181.26 Q332.222 -2174.15 334.027 -2170.59 Q335.856 -2167.05 339.467 -2167.05 Q343.102 -2167.05 344.907 -2170.59 Q346.736 -2174.15 346.736 -2181.26 Q346.736 -2188.39 344.907 -2191.93 Q343.102 -2195.5 339.467 -2195.5 M339.467 -2199.2 Q345.277 -2199.2 348.333 -2194.59 Q351.412 -2190.01 351.412 -2181.26 Q351.412 -2172.53 348.333 -2167.93 Q345.277 -2163.34 339.467 -2163.34 Q333.657 -2163.34 330.578 -2167.93 Q327.523 -2172.53 327.523 -2181.26 Q327.523 -2190.01 330.578 -2194.59 Q333.657 -2199.2 339.467 -2199.2 Z\" fill=\"#000000\" fill-rule=\"nonzero\" fill-opacity=\"1\" /><path clip-path=\"url(#clip160)\" d=\"M351.412 -2205.1 L375.523 -2205.1 L375.523 -2201.9 L351.412 -2201.9 L351.412 -2205.1 Z\" fill=\"#000000\" fill-rule=\"nonzero\" fill-opacity=\"1\" /><path clip-path=\"url(#clip160)\" d=\"M384.382 -2194.62 L390.588 -2194.62 L390.588 -2216.04 L383.836 -2214.69 L383.836 -2218.15 L390.551 -2219.51 L394.35 -2219.51 L394.35 -2194.62 L400.556 -2194.62 L400.556 -2191.43 L384.382 -2191.43 L384.382 -2194.62 Z\" fill=\"#000000\" fill-rule=\"nonzero\" fill-opacity=\"1\" /><path clip-path=\"url(#clip160)\" d=\"M416.825 -2206.98 Q414.267 -2206.98 412.763 -2205.23 Q411.277 -2203.48 411.277 -2200.43 Q411.277 -2197.41 412.763 -2195.64 Q414.267 -2193.89 416.825 -2193.89 Q419.383 -2193.89 420.869 -2195.64 Q422.373 -2197.41 422.373 -2200.43 Q422.373 -2203.48 420.869 -2205.23 Q419.383 -2206.98 416.825 -2206.98 M424.367 -2218.88 L424.367 -2215.42 Q422.938 -2216.1 421.471 -2216.46 Q420.022 -2216.82 418.593 -2216.82 Q414.831 -2216.82 412.838 -2214.28 Q410.863 -2211.74 410.581 -2206.6 Q411.691 -2208.24 413.364 -2209.1 Q415.038 -2209.99 417.051 -2209.99 Q421.283 -2209.99 423.728 -2207.41 Q426.191 -2204.85 426.191 -2200.43 Q426.191 -2196.11 423.633 -2193.49 Q421.076 -2190.88 416.825 -2190.88 Q411.954 -2190.88 409.377 -2194.6 Q406.801 -2198.35 406.801 -2205.44 Q406.801 -2212.1 409.96 -2216.04 Q413.12 -2220.01 418.443 -2220.01 Q419.872 -2220.01 421.32 -2219.73 Q422.787 -2219.45 424.367 -2218.88 Z\" fill=\"#000000\" fill-rule=\"nonzero\" fill-opacity=\"1\" /><path clip-path=\"url(#clip160)\" d=\"M33.7671 921.934 L14.479 921.934 L14.479 916.078 L64.0042 916.078 L64.0042 921.934 L58.657 921.934 Q61.8398 923.78 63.3994 926.613 Q64.9272 929.414 64.9272 933.361 Q64.9272 939.822 59.771 943.896 Q54.6147 947.938 46.212 947.938 Q37.8093 947.938 32.6531 943.896 Q27.4968 939.822 27.4968 933.361 Q27.4968 929.414 29.0564 926.613 Q30.5842 923.78 33.7671 921.934 M46.212 941.891 Q52.6732 941.891 56.3653 939.249 Q60.0256 936.575 60.0256 931.928 Q60.0256 927.281 56.3653 924.608 Q52.6732 921.934 46.212 921.934 Q39.7508 921.934 36.0905 924.608 Q32.3984 927.281 32.3984 931.928 Q32.3984 936.575 36.0905 939.249 Q39.7508 941.891 46.212 941.891 Z\" fill=\"#000000\" fill-rule=\"nonzero\" fill-opacity=\"1\" /><path clip-path=\"url(#clip160)\" d=\"M44.7161 873.523 L47.5806 873.523 L47.5806 900.45 Q53.6281 900.068 56.8109 896.821 Q59.9619 893.543 59.9619 887.718 Q59.9619 884.345 59.1344 881.194 Q58.3069 878.011 56.6518 874.891 L62.1899 874.891 Q63.5267 878.043 64.227 881.353 Q64.9272 884.663 64.9272 888.068 Q64.9272 896.599 59.9619 901.596 Q54.9967 906.561 46.5303 906.561 Q37.7774 906.561 32.6531 901.85 Q27.4968 897.108 27.4968 889.087 Q27.4968 881.894 32.1438 877.724 Q36.7589 873.523 44.7161 873.523 M42.9973 879.379 Q38.1912 879.443 35.3266 882.085 Q32.4621 884.695 32.4621 889.023 Q32.4621 893.925 35.2312 896.885 Q38.0002 899.813 43.0292 900.259 L42.9973 879.379 Z\" fill=\"#000000\" fill-rule=\"nonzero\" fill-opacity=\"1\" /><path clip-path=\"url(#clip160)\" d=\"M14.479 845.864 L19.3487 845.864 L19.3487 851.466 Q19.3487 854.617 20.6219 855.858 Q21.895 857.068 25.2052 857.068 L28.3562 857.068 L28.3562 847.423 L32.9077 847.423 L32.9077 857.068 L64.0042 857.068 L64.0042 862.956 L32.9077 862.956 L32.9077 868.558 L28.3562 868.558 L28.3562 862.956 L25.8736 862.956 Q19.9216 862.956 17.2162 860.187 Q14.479 857.418 14.479 851.402 L14.479 845.864 Z\" fill=\"#000000\" fill-rule=\"nonzero\" fill-opacity=\"1\" /><path clip-path=\"url(#clip160)\" d=\"M44.7161 810.471 L47.5806 810.471 L47.5806 837.397 Q53.6281 837.016 56.8109 833.769 Q59.9619 830.491 59.9619 824.666 Q59.9619 821.292 59.1344 818.141 Q58.3069 814.958 56.6518 811.839 L62.1899 811.839 Q63.5267 814.99 64.227 818.3 Q64.9272 821.611 64.9272 825.016 Q64.9272 833.546 59.9619 838.543 Q54.9967 843.509 46.5303 843.509 Q37.7774 843.509 32.6531 838.798 Q27.4968 834.055 27.4968 826.035 Q27.4968 818.841 32.1438 814.672 Q36.7589 810.471 44.7161 810.471 M42.9973 816.327 Q38.1912 816.391 35.3266 819.032 Q32.4621 821.642 32.4621 825.971 Q32.4621 830.873 35.2312 833.833 Q38.0002 836.761 43.0292 837.207 L42.9973 816.327 Z\" fill=\"#000000\" fill-rule=\"nonzero\" fill-opacity=\"1\" /><path clip-path=\"url(#clip160)\" d=\"M33.8307 780.202 Q33.2578 781.188 33.0032 782.366 Q32.7167 783.512 32.7167 784.912 Q32.7167 789.877 35.9632 792.551 Q39.1779 795.193 45.2253 795.193 L64.0042 795.193 L64.0042 801.081 L28.3562 801.081 L28.3562 795.193 L33.8944 795.193 Q30.6479 793.347 29.0883 790.387 Q27.4968 787.427 27.4968 783.193 Q27.4968 782.589 27.5923 781.857 Q27.656 781.125 27.8151 780.233 L33.8307 780.202 Z\" fill=\"#000000\" fill-rule=\"nonzero\" fill-opacity=\"1\" /><path clip-path=\"url(#clip160)\" d=\"M44.7161 744.999 L47.5806 744.999 L47.5806 771.926 Q53.6281 771.544 56.8109 768.298 Q59.9619 765.019 59.9619 759.195 Q59.9619 755.821 59.1344 752.67 Q58.3069 749.487 56.6518 746.368 L62.1899 746.368 Q63.5267 749.519 64.227 752.829 Q64.9272 756.139 64.9272 759.545 Q64.9272 768.075 59.9619 773.072 Q54.9967 778.037 46.5303 778.037 Q37.7774 778.037 32.6531 773.327 Q27.4968 768.584 27.4968 760.563 Q27.4968 753.37 32.1438 749.201 Q36.7589 744.999 44.7161 744.999 M42.9973 750.856 Q38.1912 750.919 35.3266 753.561 Q32.4621 756.171 32.4621 760.5 Q32.4621 765.401 35.2312 768.361 Q38.0002 771.29 43.0292 771.735 L42.9973 750.856 Z\" fill=\"#000000\" fill-rule=\"nonzero\" fill-opacity=\"1\" /><path clip-path=\"url(#clip160)\" d=\"M42.4881 705.755 L64.0042 705.755 L64.0042 711.611 L42.679 711.611 Q37.6183 711.611 35.1038 713.584 Q32.5894 715.558 32.5894 719.505 Q32.5894 724.247 35.6131 726.984 Q38.6368 729.722 43.8567 729.722 L64.0042 729.722 L64.0042 735.61 L28.3562 735.61 L28.3562 729.722 L33.8944 729.722 Q30.6797 727.621 29.0883 724.788 Q27.4968 721.924 27.4968 718.2 Q27.4968 712.057 31.3163 708.906 Q35.1038 705.755 42.4881 705.755 Z\" fill=\"#000000\" fill-rule=\"nonzero\" fill-opacity=\"1\" /><path clip-path=\"url(#clip160)\" d=\"M29.7248 668.42 L35.1993 668.42 Q33.8307 670.902 33.1623 673.417 Q32.4621 675.899 32.4621 678.446 Q32.4621 684.143 36.0905 687.294 Q39.6872 690.445 46.212 690.445 Q52.7369 690.445 56.3653 687.294 Q59.9619 684.143 59.9619 678.446 Q59.9619 675.899 59.2935 673.417 Q58.5933 670.902 57.2247 668.42 L62.6355 668.42 Q63.7814 670.871 64.3543 673.512 Q64.9272 676.122 64.9272 679.082 Q64.9272 687.135 59.8664 691.877 Q54.8057 696.62 46.212 696.62 Q37.491 696.62 32.4939 691.846 Q27.4968 687.039 27.4968 678.7 Q27.4968 675.995 28.0697 673.417 Q28.6108 670.839 29.7248 668.42 Z\" fill=\"#000000\" fill-rule=\"nonzero\" fill-opacity=\"1\" /><path clip-path=\"url(#clip160)\" d=\"M28.3562 658.235 L28.3562 652.378 L64.0042 652.378 L64.0042 658.235 L28.3562 658.235 M14.479 658.235 L14.479 652.378 L21.895 652.378 L21.895 658.235 L14.479 658.235 Z\" fill=\"#000000\" fill-rule=\"nonzero\" fill-opacity=\"1\" /><path clip-path=\"url(#clip160)\" d=\"M46.0847 623.924 Q46.0847 631.021 47.7079 633.759 Q49.3312 636.496 53.2461 636.496 Q56.3653 636.496 58.2114 634.459 Q60.0256 632.39 60.0256 628.857 Q60.0256 623.987 56.5881 621.059 Q53.1188 618.099 47.3897 618.099 L46.0847 618.099 L46.0847 623.924 M43.6657 612.242 L64.0042 612.242 L64.0042 618.099 L58.5933 618.099 Q61.8398 620.104 63.3994 623.096 Q64.9272 626.088 64.9272 630.417 Q64.9272 635.891 61.8716 639.138 Q58.7843 642.352 53.6281 642.352 Q47.6125 642.352 44.5569 638.342 Q41.5014 634.3 41.5014 626.311 L41.5014 618.099 L40.9285 618.099 Q36.8862 618.099 34.6901 620.772 Q32.4621 623.414 32.4621 628.22 Q32.4621 631.276 33.1941 634.172 Q33.9262 637.069 35.3903 639.742 L29.9795 639.742 Q28.7381 636.528 28.1334 633.504 Q27.4968 630.48 27.4968 627.616 Q27.4968 619.881 31.5072 616.062 Q35.5176 612.242 43.6657 612.242 Z\" fill=\"#000000\" fill-rule=\"nonzero\" fill-opacity=\"1\" /><path clip-path=\"url(#clip160)\" d=\"M14.5426 586.111 Q21.8632 590.376 29.0246 592.445 Q36.186 594.514 43.5384 594.514 Q50.8908 594.514 58.1159 592.445 Q65.3091 590.344 72.5979 586.111 L72.5979 591.204 Q65.1182 595.978 57.8931 598.365 Q50.668 600.721 43.5384 600.721 Q36.4406 600.721 29.2474 598.365 Q22.0542 596.01 14.5426 591.204 L14.5426 586.111 Z\" fill=\"#000000\" fill-rule=\"nonzero\" fill-opacity=\"1\" /><path clip-path=\"url(#clip160)\" d=\"M28.3562 545.116 L45.7028 558.007 L64.0042 544.448 L64.0042 551.354 L49.9996 561.731 L64.0042 572.107 L64.0042 579.013 L45.3526 565.168 L28.3562 577.836 L28.3562 570.929 L41.0558 561.476 L28.3562 552.023 L28.3562 545.116 Z\" fill=\"#000000\" fill-rule=\"nonzero\" fill-opacity=\"1\" /><path clip-path=\"url(#clip160)\" d=\"M14.5426 537.095 L14.5426 532.003 Q22.0542 527.228 29.2474 524.873 Q36.4406 522.486 43.5384 522.486 Q50.668 522.486 57.8931 524.873 Q65.1182 527.228 72.5979 532.003 L72.5979 537.095 Q65.3091 532.862 58.1159 530.793 Q50.8908 528.693 43.5384 528.693 Q36.186 528.693 29.0246 530.793 Q21.8632 532.862 14.5426 537.095 Z\" fill=\"#000000\" fill-rule=\"nonzero\" fill-opacity=\"1\" /><polyline clip-path=\"url(#clip162)\" style=\"stroke:#009af9; stroke-linecap:round; stroke-linejoin:round; stroke-width:4; stroke-opacity:1; fill:none\" points=\"515.698,735.212 533.533,735.212 551.369,735.212 569.204,735.212 587.04,735.212 604.875,735.212 622.711,735.212 640.547,735.212 658.382,735.212 676.218,735.212 694.053,735.212 711.889,735.212 729.724,735.212 747.56,735.212 765.395,735.212 783.231,735.212 801.066,735.212 818.902,735.212 836.737,735.212 854.573,735.212 872.408,735.212 890.244,735.212 908.079,735.212 925.915,735.212 943.75,735.212 961.586,735.212 979.421,735.212 997.257,735.212 1015.09,735.212 1032.93,735.212 1050.76,735.212 1068.6,735.212 1086.43,735.212 1104.27,735.212 1122.11,735.212 1139.94,735.212 1157.78,735.212 1175.61,735.212 1193.45,735.212 1211.28,735.212 1229.12,735.212 1246.95,735.212 1264.79,1059.73 1282.63,735.212 1300.46,735.212 1318.3,735.212 1336.13,735.212 1353.97,735.212 1371.8,735.212 1389.64,735.212 1407.47,410.699 1425.31,735.212 1443.14,86.1857 1460.98,735.212 1478.82,735.212 1496.65,735.212 1514.49,735.212 1532.32,735.212 1550.16,735.212 1567.99,735.212 1585.83,735.212 1603.66,735.212 1621.5,86.1857 1639.34,1384.24 1657.17,735.212 1675.01,735.212 1692.84,735.212 1710.68,735.212 1728.51,735.212 1746.35,735.212 1764.18,735.212 1782.02,735.212 1799.85,735.212 1817.69,735.212 1835.53,735.212 1853.36,735.212 1871.2,735.212 1889.03,735.212 1906.87,735.212 1924.7,735.212 1942.54,735.212 1960.37,735.212 1978.21,735.212 1996.05,735.212 2013.88,735.212 2031.72,735.212 2049.55,735.212 2067.39,735.212 2085.22,735.212 2103.06,86.1857 2120.89,735.212 2138.73,735.212 2156.57,735.212 2174.4,735.212 2192.24,1384.24 2210.07,735.212 2227.91,735.212 2245.74,735.212 2263.58,735.212 2281.41,735.212 2299.25,86.1857 \"/>\n",
       "<path clip-path=\"url(#clip160)\" d=\"M525.21 300.469 L1130.01 300.469 L1130.01 93.1086 L525.21 93.1086  Z\" fill=\"#ffffff\" fill-rule=\"evenodd\" fill-opacity=\"1\"/>\n",
       "<polyline clip-path=\"url(#clip160)\" style=\"stroke:#000000; stroke-linecap:round; stroke-linejoin:round; stroke-width:4; stroke-opacity:1; fill:none\" points=\"525.21,300.469 1130.01,300.469 1130.01,93.1086 525.21,93.1086 525.21,300.469 \"/>\n",
       "<polyline clip-path=\"url(#clip160)\" style=\"stroke:#009af9; stroke-linecap:round; stroke-linejoin:round; stroke-width:4; stroke-opacity:1; fill:none\" points=\"546.216,196.789 672.254,196.789 \"/>\n",
       "<path clip-path=\"url(#clip160)\" d=\"M697.936 157.431 L697.936 184.306 L703.584 184.306 Q710.737 184.306 714.047 181.065 Q717.381 177.825 717.381 170.834 Q717.381 163.889 714.047 160.672 Q710.737 157.431 703.584 157.431 L697.936 157.431 M693.26 153.589 L702.867 153.589 Q712.913 153.589 717.612 157.778 Q722.311 161.945 722.311 170.834 Q722.311 179.769 717.589 183.959 Q712.867 188.149 702.867 188.149 L693.26 188.149 L693.26 153.589 Z\" fill=\"#000000\" fill-rule=\"nonzero\" fill-opacity=\"1\" /><path clip-path=\"url(#clip160)\" d=\"M729.58 162.223 L733.839 162.223 L733.839 188.149 L729.58 188.149 L729.58 162.223 M729.58 152.13 L733.839 152.13 L733.839 157.524 L729.58 157.524 L729.58 152.13 Z\" fill=\"#000000\" fill-rule=\"nonzero\" fill-opacity=\"1\" /><path clip-path=\"url(#clip160)\" d=\"M755.876 152.13 L755.876 155.672 L751.802 155.672 Q749.51 155.672 748.607 156.598 Q747.728 157.524 747.728 159.931 L747.728 162.223 L754.742 162.223 L754.742 165.533 L747.728 165.533 L747.728 188.149 L743.445 188.149 L743.445 165.533 L739.371 165.533 L739.371 162.223 L743.445 162.223 L743.445 160.417 Q743.445 156.089 745.459 154.121 Q747.473 152.13 751.848 152.13 L755.876 152.13 Z\" fill=\"#000000\" fill-rule=\"nonzero\" fill-opacity=\"1\" /><path clip-path=\"url(#clip160)\" d=\"M781.616 174.121 L781.616 176.204 L762.033 176.204 Q762.311 180.602 764.672 182.917 Q767.056 185.209 771.292 185.209 Q773.746 185.209 776.038 184.607 Q778.352 184.005 780.621 182.801 L780.621 186.829 Q778.329 187.801 775.922 188.311 Q773.515 188.82 771.038 188.82 Q764.834 188.82 761.2 185.209 Q757.589 181.598 757.589 175.44 Q757.589 169.075 761.015 165.348 Q764.464 161.598 770.297 161.598 Q775.528 161.598 778.561 164.977 Q781.616 168.334 781.616 174.121 M777.357 172.871 Q777.311 169.376 775.39 167.292 Q773.491 165.209 770.343 165.209 Q766.778 165.209 764.626 167.223 Q762.496 169.237 762.172 172.894 L777.357 172.871 Z\" fill=\"#000000\" fill-rule=\"nonzero\" fill-opacity=\"1\" /><path clip-path=\"url(#clip160)\" d=\"M803.63 166.204 Q802.913 165.788 802.056 165.602 Q801.223 165.394 800.204 165.394 Q796.593 165.394 794.649 167.755 Q792.727 170.093 792.727 174.491 L792.727 188.149 L788.445 188.149 L788.445 162.223 L792.727 162.223 L792.727 166.251 Q794.07 163.889 796.223 162.755 Q798.376 161.598 801.454 161.598 Q801.894 161.598 802.426 161.667 Q802.959 161.714 803.607 161.829 L803.63 166.204 Z\" fill=\"#000000\" fill-rule=\"nonzero\" fill-opacity=\"1\" /><path clip-path=\"url(#clip160)\" d=\"M829.232 174.121 L829.232 176.204 L809.649 176.204 Q809.926 180.602 812.287 182.917 Q814.672 185.209 818.908 185.209 Q821.362 185.209 823.653 184.607 Q825.968 184.005 828.236 182.801 L828.236 186.829 Q825.945 187.801 823.537 188.311 Q821.13 188.82 818.653 188.82 Q812.45 188.82 808.815 185.209 Q805.204 181.598 805.204 175.44 Q805.204 169.075 808.63 165.348 Q812.079 161.598 817.912 161.598 Q823.144 161.598 826.176 164.977 Q829.232 168.334 829.232 174.121 M824.973 172.871 Q824.926 169.376 823.005 167.292 Q821.107 165.209 817.959 165.209 Q814.394 165.209 812.241 167.223 Q810.112 169.237 809.788 172.894 L824.973 172.871 Z\" fill=\"#000000\" fill-rule=\"nonzero\" fill-opacity=\"1\" /><path clip-path=\"url(#clip160)\" d=\"M857.773 172.501 L857.773 188.149 L853.514 188.149 L853.514 172.639 Q853.514 168.959 852.079 167.13 Q850.644 165.302 847.773 165.302 Q844.324 165.302 842.334 167.501 Q840.343 169.7 840.343 173.496 L840.343 188.149 L836.061 188.149 L836.061 162.223 L840.343 162.223 L840.343 166.251 Q841.871 163.913 843.931 162.755 Q846.014 161.598 848.722 161.598 Q853.19 161.598 855.482 164.376 Q857.773 167.13 857.773 172.501 Z\" fill=\"#000000\" fill-rule=\"nonzero\" fill-opacity=\"1\" /><path clip-path=\"url(#clip160)\" d=\"M884.926 163.218 L884.926 167.2 Q883.12 166.204 881.292 165.718 Q879.486 165.209 877.634 165.209 Q873.491 165.209 871.199 167.848 Q868.908 170.464 868.908 175.209 Q868.908 179.954 871.199 182.593 Q873.491 185.209 877.634 185.209 Q879.486 185.209 881.292 184.723 Q883.12 184.213 884.926 183.218 L884.926 187.153 Q883.144 187.987 881.222 188.403 Q879.324 188.82 877.171 188.82 Q871.315 188.82 867.866 185.139 Q864.417 181.459 864.417 175.209 Q864.417 168.866 867.889 165.232 Q871.384 161.598 877.449 161.598 Q879.417 161.598 881.292 162.015 Q883.167 162.408 884.926 163.218 Z\" fill=\"#000000\" fill-rule=\"nonzero\" fill-opacity=\"1\" /><path clip-path=\"url(#clip160)\" d=\"M892.333 162.223 L896.593 162.223 L896.593 188.149 L892.333 188.149 L892.333 162.223 M892.333 152.13 L896.593 152.13 L896.593 157.524 L892.333 157.524 L892.333 152.13 Z\" fill=\"#000000\" fill-rule=\"nonzero\" fill-opacity=\"1\" /><path clip-path=\"url(#clip160)\" d=\"M917.287 175.116 Q912.125 175.116 910.134 176.297 Q908.143 177.477 908.143 180.325 Q908.143 182.593 909.625 183.936 Q911.13 185.255 913.699 185.255 Q917.241 185.255 919.37 182.755 Q921.523 180.232 921.523 176.065 L921.523 175.116 L917.287 175.116 M925.782 173.357 L925.782 188.149 L921.523 188.149 L921.523 184.213 Q920.065 186.575 917.889 187.709 Q915.713 188.82 912.565 188.82 Q908.583 188.82 906.222 186.598 Q903.884 184.352 903.884 180.602 Q903.884 176.227 906.801 174.005 Q909.741 171.783 915.551 171.783 L921.523 171.783 L921.523 171.366 Q921.523 168.427 919.579 166.829 Q917.657 165.209 914.162 165.209 Q911.94 165.209 909.833 165.741 Q907.727 166.274 905.782 167.339 L905.782 163.403 Q908.12 162.501 910.319 162.061 Q912.518 161.598 914.602 161.598 Q920.227 161.598 923.004 164.514 Q925.782 167.431 925.782 173.357 Z\" fill=\"#000000\" fill-rule=\"nonzero\" fill-opacity=\"1\" /><path clip-path=\"url(#clip160)\" d=\"M971.801 174.121 L971.801 176.204 L952.217 176.204 Q952.495 180.602 954.856 182.917 Q957.24 185.209 961.477 185.209 Q963.93 185.209 966.222 184.607 Q968.537 184.005 970.805 182.801 L970.805 186.829 Q968.514 187.801 966.106 188.311 Q963.699 188.82 961.222 188.82 Q955.018 188.82 951.384 185.209 Q947.773 181.598 947.773 175.44 Q947.773 169.075 951.199 165.348 Q954.648 161.598 960.481 161.598 Q965.713 161.598 968.745 164.977 Q971.801 168.334 971.801 174.121 M967.541 172.871 Q967.495 169.376 965.574 167.292 Q963.676 165.209 960.527 165.209 Q956.963 165.209 954.81 167.223 Q952.68 169.237 952.356 172.894 L967.541 172.871 Z\" fill=\"#000000\" fill-rule=\"nonzero\" fill-opacity=\"1\" /><path clip-path=\"url(#clip160)\" d=\"M1000.34 172.501 L1000.34 188.149 L996.083 188.149 L996.083 172.639 Q996.083 168.959 994.648 167.13 Q993.212 165.302 990.342 165.302 Q986.893 165.302 984.902 167.501 Q982.912 169.7 982.912 173.496 L982.912 188.149 L978.629 188.149 L978.629 162.223 L982.912 162.223 L982.912 166.251 Q984.439 163.913 986.5 162.755 Q988.583 161.598 991.291 161.598 Q995.759 161.598 998.05 164.376 Q1000.34 167.13 1000.34 172.501 Z\" fill=\"#000000\" fill-rule=\"nonzero\" fill-opacity=\"1\" /><path clip-path=\"url(#clip160)\" d=\"M1013.05 154.862 L1013.05 162.223 L1021.82 162.223 L1021.82 165.533 L1013.05 165.533 L1013.05 179.607 Q1013.05 182.778 1013.91 183.681 Q1014.79 184.584 1017.45 184.584 L1021.82 184.584 L1021.82 188.149 L1017.45 188.149 Q1012.52 188.149 1010.64 186.32 Q1008.77 184.468 1008.77 179.607 L1008.77 165.533 L1005.64 165.533 L1005.64 162.223 L1008.77 162.223 L1008.77 154.862 L1013.05 154.862 Z\" fill=\"#000000\" fill-rule=\"nonzero\" fill-opacity=\"1\" /><path clip-path=\"url(#clip160)\" d=\"M1042.45 166.204 Q1041.73 165.788 1040.87 165.602 Q1040.04 165.394 1039.02 165.394 Q1035.41 165.394 1033.47 167.755 Q1031.55 170.093 1031.55 174.491 L1031.55 188.149 L1027.26 188.149 L1027.26 162.223 L1031.55 162.223 L1031.55 166.251 Q1032.89 163.889 1035.04 162.755 Q1037.19 161.598 1040.27 161.598 Q1040.71 161.598 1041.24 161.667 Q1041.78 161.714 1042.43 161.829 L1042.45 166.204 Z\" fill=\"#000000\" fill-rule=\"nonzero\" fill-opacity=\"1\" /><path clip-path=\"url(#clip160)\" d=\"M1068.05 174.121 L1068.05 176.204 L1048.47 176.204 Q1048.74 180.602 1051.11 182.917 Q1053.49 185.209 1057.73 185.209 Q1060.18 185.209 1062.47 184.607 Q1064.79 184.005 1067.05 182.801 L1067.05 186.829 Q1064.76 187.801 1062.36 188.311 Q1059.95 188.82 1057.47 188.82 Q1051.27 188.82 1047.63 185.209 Q1044.02 181.598 1044.02 175.44 Q1044.02 169.075 1047.45 165.348 Q1050.9 161.598 1056.73 161.598 Q1061.96 161.598 1064.99 164.977 Q1068.05 168.334 1068.05 174.121 M1063.79 172.871 Q1063.74 169.376 1061.82 167.292 Q1059.93 165.209 1056.78 165.209 Q1053.21 165.209 1051.06 167.223 Q1048.93 169.237 1048.61 172.894 L1063.79 172.871 Z\" fill=\"#000000\" fill-rule=\"nonzero\" fill-opacity=\"1\" /><path clip-path=\"url(#clip160)\" d=\"M693.26 205.429 L699.557 205.429 L714.881 234.341 L714.881 205.429 L719.418 205.429 L719.418 239.989 L713.121 239.989 L697.797 211.077 L697.797 239.989 L693.26 239.989 L693.26 205.429 Z\" fill=\"#000000\" fill-rule=\"nonzero\" fill-opacity=\"1\" /><path clip-path=\"url(#clip160)\" d=\"M738.584 217.049 Q735.158 217.049 733.168 219.734 Q731.177 222.396 731.177 227.049 Q731.177 231.702 733.144 234.387 Q735.135 237.049 738.584 237.049 Q741.987 237.049 743.978 234.364 Q745.968 231.678 745.968 227.049 Q745.968 222.442 743.978 219.757 Q741.987 217.049 738.584 217.049 M738.584 213.438 Q744.14 213.438 747.311 217.049 Q750.482 220.66 750.482 227.049 Q750.482 233.415 747.311 237.049 Q744.14 240.66 738.584 240.66 Q733.006 240.66 729.834 237.049 Q726.686 233.415 726.686 227.049 Q726.686 220.66 729.834 217.049 Q733.006 213.438 738.584 213.438 Z\" fill=\"#000000\" fill-rule=\"nonzero\" fill-opacity=\"1\" /><path clip-path=\"url(#clip160)\" d=\"M772.565 218.044 Q771.848 217.628 770.991 217.442 Q770.158 217.234 769.14 217.234 Q765.528 217.234 763.584 219.595 Q761.663 221.933 761.663 226.331 L761.663 239.989 L757.38 239.989 L757.38 214.063 L761.663 214.063 L761.663 218.091 Q763.005 215.729 765.158 214.595 Q767.311 213.438 770.39 213.438 Q770.829 213.438 771.362 213.507 Q771.894 213.554 772.542 213.669 L772.565 218.044 Z\" fill=\"#000000\" fill-rule=\"nonzero\" fill-opacity=\"1\" /><path clip-path=\"url(#clip160)\" d=\"M796.385 219.04 Q797.982 216.169 800.204 214.804 Q802.426 213.438 805.436 213.438 Q809.487 213.438 811.686 216.285 Q813.885 219.109 813.885 224.341 L813.885 239.989 L809.602 239.989 L809.602 224.479 Q809.602 220.753 808.283 218.947 Q806.963 217.142 804.255 217.142 Q800.945 217.142 799.024 219.341 Q797.102 221.54 797.102 225.336 L797.102 239.989 L792.82 239.989 L792.82 224.479 Q792.82 220.729 791.501 218.947 Q790.181 217.142 787.427 217.142 Q784.163 217.142 782.241 219.364 Q780.32 221.563 780.32 225.336 L780.32 239.989 L776.038 239.989 L776.038 214.063 L780.32 214.063 L780.32 218.091 Q781.778 215.706 783.815 214.572 Q785.852 213.438 788.653 213.438 Q791.477 213.438 793.445 214.873 Q795.436 216.308 796.385 219.04 Z\" fill=\"#000000\" fill-rule=\"nonzero\" fill-opacity=\"1\" /><path clip-path=\"url(#clip160)\" d=\"M834.162 226.956 Q829 226.956 827.01 228.137 Q825.019 229.317 825.019 232.165 Q825.019 234.433 826.5 235.776 Q828.005 237.095 830.574 237.095 Q834.116 237.095 836.246 234.595 Q838.398 232.072 838.398 227.905 L838.398 226.956 L834.162 226.956 M842.658 225.197 L842.658 239.989 L838.398 239.989 L838.398 236.053 Q836.94 238.415 834.764 239.549 Q832.588 240.66 829.44 240.66 Q825.459 240.66 823.098 238.438 Q820.76 236.192 820.76 232.442 Q820.76 228.067 823.676 225.845 Q826.616 223.623 832.426 223.623 L838.398 223.623 L838.398 223.206 Q838.398 220.267 836.454 218.669 Q834.533 217.049 831.037 217.049 Q828.815 217.049 826.709 217.581 Q824.602 218.114 822.658 219.179 L822.658 215.243 Q824.996 214.341 827.195 213.901 Q829.394 213.438 831.477 213.438 Q837.102 213.438 839.88 216.354 Q842.658 219.271 842.658 225.197 Z\" fill=\"#000000\" fill-rule=\"nonzero\" fill-opacity=\"1\" /><path clip-path=\"url(#clip160)\" d=\"M851.431 203.97 L855.69 203.97 L855.69 239.989 L851.431 239.989 L851.431 203.97 Z\" fill=\"#000000\" fill-rule=\"nonzero\" fill-opacity=\"1\" /><path clip-path=\"url(#clip160)\" d=\"M901.847 225.961 L901.847 228.044 L882.264 228.044 Q882.542 232.442 884.903 234.757 Q887.287 237.049 891.523 237.049 Q893.977 237.049 896.269 236.447 Q898.583 235.845 900.852 234.641 L900.852 238.669 Q898.56 239.641 896.153 240.151 Q893.745 240.66 891.269 240.66 Q885.065 240.66 881.431 237.049 Q877.82 233.438 877.82 227.28 Q877.82 220.915 881.245 217.188 Q884.695 213.438 890.528 213.438 Q895.759 213.438 898.792 216.817 Q901.847 220.174 901.847 225.961 M897.588 224.711 Q897.542 221.216 895.62 219.132 Q893.722 217.049 890.574 217.049 Q887.009 217.049 884.857 219.063 Q882.727 221.077 882.403 224.734 L897.588 224.711 Z\" fill=\"#000000\" fill-rule=\"nonzero\" fill-opacity=\"1\" /><path clip-path=\"url(#clip160)\" d=\"M924.092 205.429 L928.768 205.429 L928.768 239.989 L924.092 239.989 L924.092 205.429 Z\" fill=\"#000000\" fill-rule=\"nonzero\" fill-opacity=\"1\" /><path clip-path=\"url(#clip160)\" d=\"M959.439 224.341 L959.439 239.989 L955.18 239.989 L955.18 224.479 Q955.18 220.799 953.745 218.97 Q952.31 217.142 949.44 217.142 Q945.99 217.142 944 219.341 Q942.009 221.54 942.009 225.336 L942.009 239.989 L937.727 239.989 L937.727 214.063 L942.009 214.063 L942.009 218.091 Q943.537 215.753 945.597 214.595 Q947.68 213.438 950.389 213.438 Q954.856 213.438 957.148 216.216 Q959.439 218.97 959.439 224.341 Z\" fill=\"#000000\" fill-rule=\"nonzero\" fill-opacity=\"1\" /><path clip-path=\"url(#clip160)\" d=\"M964.879 214.063 L969.393 214.063 L977.495 235.822 L985.597 214.063 L990.111 214.063 L980.388 239.989 L974.601 239.989 L964.879 214.063 Z\" fill=\"#000000\" fill-rule=\"nonzero\" fill-opacity=\"1\" /><path clip-path=\"url(#clip160)\" d=\"M1018.17 225.961 L1018.17 228.044 L998.583 228.044 Q998.861 232.442 1001.22 234.757 Q1003.61 237.049 1007.84 237.049 Q1010.3 237.049 1012.59 236.447 Q1014.9 235.845 1017.17 234.641 L1017.17 238.669 Q1014.88 239.641 1012.47 240.151 Q1010.06 240.66 1007.59 240.66 Q1001.38 240.66 997.749 237.049 Q994.138 233.438 994.138 227.28 Q994.138 220.915 997.564 217.188 Q1001.01 213.438 1006.85 213.438 Q1012.08 213.438 1015.11 216.817 Q1018.17 220.174 1018.17 225.961 M1013.91 224.711 Q1013.86 221.216 1011.94 219.132 Q1010.04 217.049 1006.89 217.049 Q1003.33 217.049 1001.18 219.063 Q999.046 221.077 998.722 224.734 L1013.91 224.711 Z\" fill=\"#000000\" fill-rule=\"nonzero\" fill-opacity=\"1\" /><path clip-path=\"url(#clip160)\" d=\"M1040.18 218.044 Q1039.46 217.628 1038.61 217.442 Q1037.77 217.234 1036.75 217.234 Q1033.14 217.234 1031.2 219.595 Q1029.28 221.933 1029.28 226.331 L1029.28 239.989 L1024.99 239.989 L1024.99 214.063 L1029.28 214.063 L1029.28 218.091 Q1030.62 215.729 1032.77 214.595 Q1034.93 213.438 1038 213.438 Q1038.44 213.438 1038.98 213.507 Q1039.51 213.554 1040.16 213.669 L1040.18 218.044 Z\" fill=\"#000000\" fill-rule=\"nonzero\" fill-opacity=\"1\" /><path clip-path=\"url(#clip160)\" d=\"M1061.18 214.827 L1061.18 218.854 Q1059.37 217.929 1057.43 217.466 Q1055.48 217.003 1053.4 217.003 Q1050.23 217.003 1048.63 217.975 Q1047.05 218.947 1047.05 220.891 Q1047.05 222.373 1048.19 223.229 Q1049.32 224.063 1052.75 224.827 L1054.21 225.151 Q1058.74 226.123 1060.64 227.905 Q1062.56 229.665 1062.56 232.836 Q1062.56 236.447 1059.69 238.553 Q1056.85 240.66 1051.85 240.66 Q1049.76 240.66 1047.49 240.243 Q1045.25 239.85 1042.75 239.04 L1042.75 234.641 Q1045.11 235.868 1047.4 236.493 Q1049.69 237.095 1051.94 237.095 Q1054.95 237.095 1056.57 236.077 Q1058.19 235.035 1058.19 233.16 Q1058.19 231.424 1057.01 230.498 Q1055.85 229.572 1051.89 228.716 L1050.41 228.368 Q1046.45 227.535 1044.69 225.822 Q1042.93 224.086 1042.93 221.077 Q1042.93 217.419 1045.53 215.429 Q1048.12 213.438 1052.89 213.438 Q1055.25 213.438 1057.33 213.785 Q1059.42 214.132 1061.18 214.827 Z\" fill=\"#000000\" fill-rule=\"nonzero\" fill-opacity=\"1\" /><path clip-path=\"url(#clip160)\" d=\"M1081.13 226.956 Q1075.97 226.956 1073.98 228.137 Q1071.99 229.317 1071.99 232.165 Q1071.99 234.433 1073.47 235.776 Q1074.97 237.095 1077.54 237.095 Q1081.08 237.095 1083.21 234.595 Q1085.36 232.072 1085.36 227.905 L1085.36 226.956 L1081.13 226.956 M1089.62 225.197 L1089.62 239.989 L1085.36 239.989 L1085.36 236.053 Q1083.91 238.415 1081.73 239.549 Q1079.55 240.66 1076.41 240.66 Q1072.42 240.66 1070.06 238.438 Q1067.73 236.192 1067.73 232.442 Q1067.73 228.067 1070.64 225.845 Q1073.58 223.623 1079.39 223.623 L1085.36 223.623 L1085.36 223.206 Q1085.36 220.267 1083.42 218.669 Q1081.5 217.049 1078 217.049 Q1075.78 217.049 1073.67 217.581 Q1071.57 218.114 1069.62 219.179 L1069.62 215.243 Q1071.96 214.341 1074.16 213.901 Q1076.36 213.438 1078.44 213.438 Q1084.07 213.438 1086.85 216.354 Q1089.62 219.271 1089.62 225.197 Z\" fill=\"#000000\" fill-rule=\"nonzero\" fill-opacity=\"1\" /></svg>\n"
      ]
     },
     "execution_count": 5,
     "metadata": {},
     "output_type": "execute_result"
    },
    {
     "name": "stderr",
     "output_type": "stream",
     "text": [
      "\u001b[33m\u001b[1m┌ \u001b[22m\u001b[39m\u001b[33m\u001b[1mWarning: \u001b[22m\u001b[39mNo strict ticks found\n",
      "\u001b[33m\u001b[1m└ \u001b[22m\u001b[39m\u001b[90m@ PlotUtils /opt/julia/global-depot/packages/PlotUtils/8mrSm/src/ticks.jl:194\u001b[39m\n",
      "\u001b[33m\u001b[1m┌ \u001b[22m\u001b[39m\u001b[33m\u001b[1mWarning: \u001b[22m\u001b[39mNo strict ticks found\n",
      "\u001b[33m\u001b[1m└ \u001b[22m\u001b[39m\u001b[90m@ PlotUtils /opt/julia/global-depot/packages/PlotUtils/8mrSm/src/ticks.jl:194\u001b[39m\n"
     ]
    }
   ],
   "source": [
    "#Este es el ejercicio 3\n",
    "function wrong(y,j)\n",
    "    error = 0\n",
    "    for i in 1:j\n",
    "        error = f(y)-sin(y)\n",
    "    end\n",
    "    return error\n",
    "end\n",
    "error1 = wrong.(range1,j)\n",
    "\n",
    "plot(range1,error1,xlabel=\"x\",ylabel=\"errpr(x)\",label=\"Error Taylor\")\n",
    "\n",
    "#Este es el ejercicio 4\n",
    "\n",
    "function sin_n_inv(x, n)\n",
    "    taylor_inv = x\n",
    "    for i in n:-1:1\n",
    "        taylor_inv += Float64((((-1)^i)/(factorial(2*i+1)))*x^(2i+1))\n",
    "    end\n",
    "    return taylor_inv\n",
    "end\n",
    "j = 8\n",
    "g(x) = sin_n_inv(x,j)\n",
    "\n",
    "function wrong_inv(y,j)\n",
    "    error = 0\n",
    "    for i in j:-1:1\n",
    "        error = g(y)-sin(y)\n",
    "    end\n",
    "    return error\n",
    "end\n",
    "error2 = wrong_inv.(range1,j)\n",
    "\n",
    "plot(range1,error2,xlabel=\"x\",ylabel=\"error(x)\",label=\"Error Taylor Inversa\")\n",
    "\n",
    "function dif(y,j)\n",
    "    error = 0\n",
    "        for i in 1:j\n",
    "            error = Float64(g(y)-f(y))\n",
    "        end\n",
    "        return error\n",
    "end\n",
    "range4 = 0:0.01:1\n",
    "error3 = dif.(range4,j)\n",
    "\n",
    "plot(range4,error3,xlabel=\"x\",ylabel=\"deferencia(x)\",label=\"Diferencia entre \\nNormal e Inversa \")\n",
    "\n",
    "# ylims=(i,j) sirve para modificar escala y rnago de el ejer y, si cambio y por x,z funciona tmb\n"
   ]
  },
  {
   "cell_type": "markdown",
   "metadata": {},
   "source": [
    "### Problema 14\n",
    "\n",
    "1. Escriba un programa que calcule la posición y la velocidad en función del tiempo para un problema de tiro oblicuo. El programa debe asumiendo que el proyectil parte del origen, y debe tomar como datos de entrada el ángulo $\\theta$ (en grados) y la rapidéz inicial $v_0$ (en m/seg.) del proyectil.\n",
    "\n",
    "2. Calcule la trayectoria para $\\theta=°30$ y $v_0=50\\, m/s$. Elija el incremento temporal ($\\Delta t$) de manera que eventualmente pueda graficar una trajectoria con 600 puntos en el intervalo entre el disparo y el instante $T$ en que el proyectil vuelve a tener altura 0. \n",
    "\n",
    "3. En una figura grafique $x(t)$, $y(t)$ y $v_y(t)$ en función de $t$. \n",
    "\n",
    "4. En otra figura grafique la trayectoria del proyectil.\n",
    "\n",
    "**Ayuda:** para plotear puntos o curvas, lea [https://docs.juliaplots.org/latest/tutorial/](https://docs.juliaplots.org/latest/tutorial/)."
   ]
  },
  {
   "cell_type": "code",
   "execution_count": 6,
   "metadata": {},
   "outputs": [
    {
     "name": "stdout",
     "output_type": "stream",
     "text": [
      "Escriba el valor del angulo de salida\n",
      "stdin> 30\n",
      "Escriba el valor de la velocidad incial\n",
      "stdin> 50\n"
     ]
    },
    {
     "data": {
      "image/svg+xml": [
       "<?xml version=\"1.0\" encoding=\"utf-8\"?>\n",
       "<svg xmlns=\"http://www.w3.org/2000/svg\" xmlns:xlink=\"http://www.w3.org/1999/xlink\" width=\"600\" height=\"400\" viewBox=\"0 0 2400 1600\">\n",
       "<defs>\n",
       "  <clipPath id=\"clip200\">\n",
       "    <rect x=\"0\" y=\"0\" width=\"2400\" height=\"1600\"/>\n",
       "  </clipPath>\n",
       "</defs>\n",
       "<path clip-path=\"url(#clip200)\" d=\"M0 1600 L2400 1600 L2400 0 L0 0  Z\" fill=\"#ffffff\" fill-rule=\"evenodd\" fill-opacity=\"1\"/>\n",
       "<defs>\n",
       "  <clipPath id=\"clip201\">\n",
       "    <rect x=\"480\" y=\"0\" width=\"1681\" height=\"1600\"/>\n",
       "  </clipPath>\n",
       "</defs>\n",
       "<path clip-path=\"url(#clip200)\" d=\"M170.857 1423.18 L1136.2 1423.18 L1136.2 47.2441 L170.857 47.2441  Z\" fill=\"#ffffff\" fill-rule=\"evenodd\" fill-opacity=\"1\"/>\n",
       "<defs>\n",
       "  <clipPath id=\"clip202\">\n",
       "    <rect x=\"170\" y=\"47\" width=\"966\" height=\"1377\"/>\n",
       "  </clipPath>\n",
       "</defs>\n",
       "<polyline clip-path=\"url(#clip202)\" style=\"stroke:#000000; stroke-linecap:round; stroke-linejoin:round; stroke-width:2; stroke-opacity:0.1; fill:none\" points=\"198.179,1423.18 198.179,47.2441 \"/>\n",
       "<polyline clip-path=\"url(#clip202)\" style=\"stroke:#000000; stroke-linecap:round; stroke-linejoin:round; stroke-width:2; stroke-opacity:0.1; fill:none\" points=\"376.676,1423.18 376.676,47.2441 \"/>\n",
       "<polyline clip-path=\"url(#clip202)\" style=\"stroke:#000000; stroke-linecap:round; stroke-linejoin:round; stroke-width:2; stroke-opacity:0.1; fill:none\" points=\"555.174,1423.18 555.174,47.2441 \"/>\n",
       "<polyline clip-path=\"url(#clip202)\" style=\"stroke:#000000; stroke-linecap:round; stroke-linejoin:round; stroke-width:2; stroke-opacity:0.1; fill:none\" points=\"733.672,1423.18 733.672,47.2441 \"/>\n",
       "<polyline clip-path=\"url(#clip202)\" style=\"stroke:#000000; stroke-linecap:round; stroke-linejoin:round; stroke-width:2; stroke-opacity:0.1; fill:none\" points=\"912.17,1423.18 912.17,47.2441 \"/>\n",
       "<polyline clip-path=\"url(#clip202)\" style=\"stroke:#000000; stroke-linecap:round; stroke-linejoin:round; stroke-width:2; stroke-opacity:0.1; fill:none\" points=\"1090.67,1423.18 1090.67,47.2441 \"/>\n",
       "<polyline clip-path=\"url(#clip200)\" style=\"stroke:#000000; stroke-linecap:round; stroke-linejoin:round; stroke-width:4; stroke-opacity:1; fill:none\" points=\"170.857,1423.18 1136.2,1423.18 \"/>\n",
       "<polyline clip-path=\"url(#clip200)\" style=\"stroke:#000000; stroke-linecap:round; stroke-linejoin:round; stroke-width:4; stroke-opacity:1; fill:none\" points=\"198.179,1423.18 198.179,1404.28 \"/>\n",
       "<polyline clip-path=\"url(#clip200)\" style=\"stroke:#000000; stroke-linecap:round; stroke-linejoin:round; stroke-width:4; stroke-opacity:1; fill:none\" points=\"376.676,1423.18 376.676,1404.28 \"/>\n",
       "<polyline clip-path=\"url(#clip200)\" style=\"stroke:#000000; stroke-linecap:round; stroke-linejoin:round; stroke-width:4; stroke-opacity:1; fill:none\" points=\"555.174,1423.18 555.174,1404.28 \"/>\n",
       "<polyline clip-path=\"url(#clip200)\" style=\"stroke:#000000; stroke-linecap:round; stroke-linejoin:round; stroke-width:4; stroke-opacity:1; fill:none\" points=\"733.672,1423.18 733.672,1404.28 \"/>\n",
       "<polyline clip-path=\"url(#clip200)\" style=\"stroke:#000000; stroke-linecap:round; stroke-linejoin:round; stroke-width:4; stroke-opacity:1; fill:none\" points=\"912.17,1423.18 912.17,1404.28 \"/>\n",
       "<polyline clip-path=\"url(#clip200)\" style=\"stroke:#000000; stroke-linecap:round; stroke-linejoin:round; stroke-width:4; stroke-opacity:1; fill:none\" points=\"1090.67,1423.18 1090.67,1404.28 \"/>\n",
       "<path clip-path=\"url(#clip200)\" d=\"M198.179 1454.1 Q194.567 1454.1 192.739 1457.66 Q190.933 1461.2 190.933 1468.33 Q190.933 1475.44 192.739 1479.01 Q194.567 1482.55 198.179 1482.55 Q201.813 1482.55 203.618 1479.01 Q205.447 1475.44 205.447 1468.33 Q205.447 1461.2 203.618 1457.66 Q201.813 1454.1 198.179 1454.1 M198.179 1450.39 Q203.989 1450.39 207.044 1455 Q210.123 1459.58 210.123 1468.33 Q210.123 1477.06 207.044 1481.67 Q203.989 1486.25 198.179 1486.25 Q192.368 1486.25 189.29 1481.67 Q186.234 1477.06 186.234 1468.33 Q186.234 1459.58 189.29 1455 Q192.368 1450.39 198.179 1450.39 Z\" fill=\"#000000\" fill-rule=\"nonzero\" fill-opacity=\"1\" /><path clip-path=\"url(#clip200)\" d=\"M367.058 1481.64 L374.697 1481.64 L374.697 1455.28 L366.387 1456.95 L366.387 1452.69 L374.651 1451.02 L379.327 1451.02 L379.327 1481.64 L386.966 1481.64 L386.966 1485.58 L367.058 1485.58 L367.058 1481.64 Z\" fill=\"#000000\" fill-rule=\"nonzero\" fill-opacity=\"1\" /><path clip-path=\"url(#clip200)\" d=\"M549.827 1481.64 L566.146 1481.64 L566.146 1485.58 L544.202 1485.58 L544.202 1481.64 Q546.864 1478.89 551.447 1474.26 Q556.054 1469.61 557.234 1468.27 Q559.48 1465.74 560.359 1464.01 Q561.262 1462.25 561.262 1460.56 Q561.262 1457.8 559.318 1456.07 Q557.396 1454.33 554.295 1454.33 Q552.095 1454.33 549.642 1455.09 Q547.211 1455.86 544.433 1457.41 L544.433 1452.69 Q547.258 1451.55 549.711 1450.97 Q552.165 1450.39 554.202 1450.39 Q559.572 1450.39 562.767 1453.08 Q565.961 1455.77 565.961 1460.26 Q565.961 1462.39 565.151 1464.31 Q564.364 1466.2 562.257 1468.8 Q561.679 1469.47 558.577 1472.69 Q555.475 1475.88 549.827 1481.64 Z\" fill=\"#000000\" fill-rule=\"nonzero\" fill-opacity=\"1\" /><path clip-path=\"url(#clip200)\" d=\"M737.92 1466.95 Q741.276 1467.66 743.151 1469.93 Q745.049 1472.2 745.049 1475.53 Q745.049 1480.65 741.531 1483.45 Q738.012 1486.25 731.531 1486.25 Q729.355 1486.25 727.04 1485.81 Q724.748 1485.39 722.295 1484.54 L722.295 1480.02 Q724.239 1481.16 726.554 1481.74 Q728.869 1482.32 731.392 1482.32 Q735.79 1482.32 738.082 1480.58 Q740.397 1478.84 740.397 1475.53 Q740.397 1472.48 738.244 1470.77 Q736.114 1469.03 732.295 1469.03 L728.267 1469.03 L728.267 1465.19 L732.48 1465.19 Q735.929 1465.19 737.758 1463.82 Q739.586 1462.43 739.586 1459.84 Q739.586 1457.18 737.688 1455.77 Q735.813 1454.33 732.295 1454.33 Q730.373 1454.33 728.174 1454.75 Q725.975 1455.16 723.336 1456.04 L723.336 1451.88 Q725.998 1451.14 728.313 1450.77 Q730.651 1450.39 732.711 1450.39 Q738.035 1450.39 741.137 1452.83 Q744.239 1455.23 744.239 1459.35 Q744.239 1462.22 742.596 1464.21 Q740.952 1466.18 737.92 1466.95 Z\" fill=\"#000000\" fill-rule=\"nonzero\" fill-opacity=\"1\" /><path clip-path=\"url(#clip200)\" d=\"M915.179 1455.09 L903.374 1473.54 L915.179 1473.54 L915.179 1455.09 M913.952 1451.02 L919.832 1451.02 L919.832 1473.54 L924.762 1473.54 L924.762 1477.43 L919.832 1477.43 L919.832 1485.58 L915.179 1485.58 L915.179 1477.43 L899.577 1477.43 L899.577 1472.92 L913.952 1451.02 Z\" fill=\"#000000\" fill-rule=\"nonzero\" fill-opacity=\"1\" /><path clip-path=\"url(#clip200)\" d=\"M1080.95 1451.02 L1099.3 1451.02 L1099.3 1454.96 L1085.23 1454.96 L1085.23 1463.43 Q1086.25 1463.08 1087.26 1462.92 Q1088.28 1462.73 1089.3 1462.73 Q1095.09 1462.73 1098.47 1465.9 Q1101.85 1469.08 1101.85 1474.49 Q1101.85 1480.07 1098.38 1483.17 Q1094.9 1486.25 1088.58 1486.25 Q1086.41 1486.25 1084.14 1485.88 Q1081.89 1485.51 1079.49 1484.77 L1079.49 1480.07 Q1081.57 1481.2 1083.79 1481.76 Q1086.01 1482.32 1088.49 1482.32 Q1092.5 1482.32 1094.83 1480.21 Q1097.17 1478.1 1097.17 1474.49 Q1097.17 1470.88 1094.83 1468.77 Q1092.5 1466.67 1088.49 1466.67 Q1086.62 1466.67 1084.74 1467.08 Q1082.89 1467.5 1080.95 1468.38 L1080.95 1451.02 Z\" fill=\"#000000\" fill-rule=\"nonzero\" fill-opacity=\"1\" /><path clip-path=\"url(#clip200)\" d=\"M652.591 1522.27 L652.591 1532.4 L664.654 1532.4 L664.654 1536.95 L652.591 1536.95 L652.591 1556.3 Q652.591 1560.66 653.769 1561.9 Q654.978 1563.14 658.639 1563.14 L664.654 1563.14 L664.654 1568.04 L658.639 1568.04 Q651.859 1568.04 649.281 1565.53 Q646.703 1562.98 646.703 1556.3 L646.703 1536.95 L642.406 1536.95 L642.406 1532.4 L646.703 1532.4 L646.703 1522.27 L652.591 1522.27 Z\" fill=\"#000000\" fill-rule=\"nonzero\" fill-opacity=\"1\" /><polyline clip-path=\"url(#clip202)\" style=\"stroke:#000000; stroke-linecap:round; stroke-linejoin:round; stroke-width:2; stroke-opacity:0.1; fill:none\" points=\"170.857,1252.28 1136.2,1252.28 \"/>\n",
       "<polyline clip-path=\"url(#clip202)\" style=\"stroke:#000000; stroke-linecap:round; stroke-linejoin:round; stroke-width:2; stroke-opacity:0.1; fill:none\" points=\"170.857,988.37 1136.2,988.37 \"/>\n",
       "<polyline clip-path=\"url(#clip202)\" style=\"stroke:#000000; stroke-linecap:round; stroke-linejoin:round; stroke-width:2; stroke-opacity:0.1; fill:none\" points=\"170.857,724.457 1136.2,724.457 \"/>\n",
       "<polyline clip-path=\"url(#clip202)\" style=\"stroke:#000000; stroke-linecap:round; stroke-linejoin:round; stroke-width:2; stroke-opacity:0.1; fill:none\" points=\"170.857,460.545 1136.2,460.545 \"/>\n",
       "<polyline clip-path=\"url(#clip202)\" style=\"stroke:#000000; stroke-linecap:round; stroke-linejoin:round; stroke-width:2; stroke-opacity:0.1; fill:none\" points=\"170.857,196.632 1136.2,196.632 \"/>\n",
       "<polyline clip-path=\"url(#clip200)\" style=\"stroke:#000000; stroke-linecap:round; stroke-linejoin:round; stroke-width:4; stroke-opacity:1; fill:none\" points=\"170.857,1423.18 170.857,47.2441 \"/>\n",
       "<polyline clip-path=\"url(#clip200)\" style=\"stroke:#000000; stroke-linecap:round; stroke-linejoin:round; stroke-width:4; stroke-opacity:1; fill:none\" points=\"170.857,1252.28 189.755,1252.28 \"/>\n",
       "<polyline clip-path=\"url(#clip200)\" style=\"stroke:#000000; stroke-linecap:round; stroke-linejoin:round; stroke-width:4; stroke-opacity:1; fill:none\" points=\"170.857,988.37 189.755,988.37 \"/>\n",
       "<polyline clip-path=\"url(#clip200)\" style=\"stroke:#000000; stroke-linecap:round; stroke-linejoin:round; stroke-width:4; stroke-opacity:1; fill:none\" points=\"170.857,724.457 189.755,724.457 \"/>\n",
       "<polyline clip-path=\"url(#clip200)\" style=\"stroke:#000000; stroke-linecap:round; stroke-linejoin:round; stroke-width:4; stroke-opacity:1; fill:none\" points=\"170.857,460.545 189.755,460.545 \"/>\n",
       "<polyline clip-path=\"url(#clip200)\" style=\"stroke:#000000; stroke-linecap:round; stroke-linejoin:round; stroke-width:4; stroke-opacity:1; fill:none\" points=\"170.857,196.632 189.755,196.632 \"/>\n",
       "<path clip-path=\"url(#clip200)\" d=\"M122.913 1238.08 Q119.302 1238.08 117.473 1241.65 Q115.668 1245.19 115.668 1252.32 Q115.668 1259.42 117.473 1262.99 Q119.302 1266.53 122.913 1266.53 Q126.547 1266.53 128.353 1262.99 Q130.182 1259.42 130.182 1252.32 Q130.182 1245.19 128.353 1241.65 Q126.547 1238.08 122.913 1238.08 M122.913 1234.38 Q128.723 1234.38 131.779 1238.98 Q134.857 1243.57 134.857 1252.32 Q134.857 1261.04 131.779 1265.65 Q128.723 1270.23 122.913 1270.23 Q117.103 1270.23 114.024 1265.65 Q110.969 1261.04 110.969 1252.32 Q110.969 1243.57 114.024 1238.98 Q117.103 1234.38 122.913 1234.38 Z\" fill=\"#000000\" fill-rule=\"nonzero\" fill-opacity=\"1\" /><path clip-path=\"url(#clip200)\" d=\"M82.7975 971.09 L101.154 971.09 L101.154 975.025 L87.0799 975.025 L87.0799 983.497 Q88.0984 983.15 89.1169 982.988 Q90.1354 982.802 91.1539 982.802 Q96.941 982.802 100.321 985.974 Q103.7 989.145 103.7 994.562 Q103.7 1000.14 100.228 1003.24 Q96.7558 1006.32 90.4364 1006.32 Q88.2604 1006.32 85.9919 1005.95 Q83.7466 1005.58 81.3392 1004.84 L81.3392 1000.14 Q83.4225 1001.27 85.6447 1001.83 Q87.8669 1002.39 90.3438 1002.39 Q94.3484 1002.39 96.6863 1000.28 Q99.0243 998.173 99.0243 994.562 Q99.0243 990.951 96.6863 988.844 Q94.3484 986.738 90.3438 986.738 Q88.4688 986.738 86.5938 987.154 Q84.7419 987.571 82.7975 988.451 L82.7975 971.09 Z\" fill=\"#000000\" fill-rule=\"nonzero\" fill-opacity=\"1\" /><path clip-path=\"url(#clip200)\" d=\"M122.913 974.168 Q119.302 974.168 117.473 977.733 Q115.668 981.275 115.668 988.404 Q115.668 995.511 117.473 999.076 Q119.302 1002.62 122.913 1002.62 Q126.547 1002.62 128.353 999.076 Q130.182 995.511 130.182 988.404 Q130.182 981.275 128.353 977.733 Q126.547 974.168 122.913 974.168 M122.913 970.465 Q128.723 970.465 131.779 975.071 Q134.857 979.654 134.857 988.404 Q134.857 997.131 131.779 1001.74 Q128.723 1006.32 122.913 1006.32 Q117.103 1006.32 114.024 1001.74 Q110.969 997.131 110.969 988.404 Q110.969 979.654 114.024 975.071 Q117.103 970.465 122.913 970.465 Z\" fill=\"#000000\" fill-rule=\"nonzero\" fill-opacity=\"1\" /><path clip-path=\"url(#clip200)\" d=\"M53.3995 737.802 L61.0384 737.802 L61.0384 711.436 L52.7282 713.103 L52.7282 708.844 L60.9921 707.177 L65.668 707.177 L65.668 737.802 L73.3068 737.802 L73.3068 741.737 L53.3995 741.737 L53.3995 737.802 Z\" fill=\"#000000\" fill-rule=\"nonzero\" fill-opacity=\"1\" /><path clip-path=\"url(#clip200)\" d=\"M92.7512 710.256 Q89.1401 710.256 87.3114 713.821 Q85.5058 717.362 85.5058 724.492 Q85.5058 731.598 87.3114 735.163 Q89.1401 738.705 92.7512 738.705 Q96.3854 738.705 98.1909 735.163 Q100.02 731.598 100.02 724.492 Q100.02 717.362 98.1909 713.821 Q96.3854 710.256 92.7512 710.256 M92.7512 706.552 Q98.5613 706.552 101.617 711.159 Q104.696 715.742 104.696 724.492 Q104.696 733.219 101.617 737.825 Q98.5613 742.408 92.7512 742.408 Q86.941 742.408 83.8623 737.825 Q80.8068 733.219 80.8068 724.492 Q80.8068 715.742 83.8623 711.159 Q86.941 706.552 92.7512 706.552 Z\" fill=\"#000000\" fill-rule=\"nonzero\" fill-opacity=\"1\" /><path clip-path=\"url(#clip200)\" d=\"M122.913 710.256 Q119.302 710.256 117.473 713.821 Q115.668 717.362 115.668 724.492 Q115.668 731.598 117.473 735.163 Q119.302 738.705 122.913 738.705 Q126.547 738.705 128.353 735.163 Q130.182 731.598 130.182 724.492 Q130.182 717.362 128.353 713.821 Q126.547 710.256 122.913 710.256 M122.913 706.552 Q128.723 706.552 131.779 711.159 Q134.857 715.742 134.857 724.492 Q134.857 733.219 131.779 737.825 Q128.723 742.408 122.913 742.408 Q117.103 742.408 114.024 737.825 Q110.969 733.219 110.969 724.492 Q110.969 715.742 114.024 711.159 Q117.103 706.552 122.913 706.552 Z\" fill=\"#000000\" fill-rule=\"nonzero\" fill-opacity=\"1\" /><path clip-path=\"url(#clip200)\" d=\"M53.3995 473.89 L61.0384 473.89 L61.0384 447.524 L52.7282 449.191 L52.7282 444.931 L60.9921 443.265 L65.668 443.265 L65.668 473.89 L73.3068 473.89 L73.3068 477.825 L53.3995 477.825 L53.3995 473.89 Z\" fill=\"#000000\" fill-rule=\"nonzero\" fill-opacity=\"1\" /><path clip-path=\"url(#clip200)\" d=\"M82.7975 443.265 L101.154 443.265 L101.154 447.2 L87.0799 447.2 L87.0799 455.672 Q88.0984 455.325 89.1169 455.163 Q90.1354 454.978 91.1539 454.978 Q96.941 454.978 100.321 458.149 Q103.7 461.32 103.7 466.737 Q103.7 472.315 100.228 475.417 Q96.7558 478.496 90.4364 478.496 Q88.2604 478.496 85.9919 478.126 Q83.7466 477.755 81.3392 477.015 L81.3392 472.315 Q83.4225 473.45 85.6447 474.005 Q87.8669 474.561 90.3438 474.561 Q94.3484 474.561 96.6863 472.454 Q99.0243 470.348 99.0243 466.737 Q99.0243 463.126 96.6863 461.019 Q94.3484 458.913 90.3438 458.913 Q88.4688 458.913 86.5938 459.329 Q84.7419 459.746 82.7975 460.626 L82.7975 443.265 Z\" fill=\"#000000\" fill-rule=\"nonzero\" fill-opacity=\"1\" /><path clip-path=\"url(#clip200)\" d=\"M122.913 446.343 Q119.302 446.343 117.473 449.908 Q115.668 453.45 115.668 460.579 Q115.668 467.686 117.473 471.251 Q119.302 474.792 122.913 474.792 Q126.547 474.792 128.353 471.251 Q130.182 467.686 130.182 460.579 Q130.182 453.45 128.353 449.908 Q126.547 446.343 122.913 446.343 M122.913 442.64 Q128.723 442.64 131.779 447.246 Q134.857 451.829 134.857 460.579 Q134.857 469.306 131.779 473.913 Q128.723 478.496 122.913 478.496 Q117.103 478.496 114.024 473.913 Q110.969 469.306 110.969 460.579 Q110.969 451.829 114.024 447.246 Q117.103 442.64 122.913 442.64 Z\" fill=\"#000000\" fill-rule=\"nonzero\" fill-opacity=\"1\" /><path clip-path=\"url(#clip200)\" d=\"M56.6171 209.977 L72.9365 209.977 L72.9365 213.912 L50.9921 213.912 L50.9921 209.977 Q53.6541 207.222 58.2375 202.593 Q62.8439 197.94 64.0245 196.598 Q66.2698 194.074 67.1494 192.338 Q68.0522 190.579 68.0522 188.889 Q68.0522 186.135 66.1078 184.398 Q64.1865 182.662 61.0847 182.662 Q58.8856 182.662 56.4319 183.426 Q54.0014 184.19 51.2236 185.741 L51.2236 181.019 Q54.0477 179.885 56.5014 179.306 Q58.955 178.727 60.9921 178.727 Q66.3624 178.727 69.5568 181.412 Q72.7513 184.098 72.7513 188.588 Q72.7513 190.718 71.9411 192.639 Q71.1541 194.537 69.0476 197.13 Q68.4689 197.801 65.367 201.019 Q62.2652 204.213 56.6171 209.977 Z\" fill=\"#000000\" fill-rule=\"nonzero\" fill-opacity=\"1\" /><path clip-path=\"url(#clip200)\" d=\"M92.7512 182.431 Q89.1401 182.431 87.3114 185.996 Q85.5058 189.537 85.5058 196.667 Q85.5058 203.773 87.3114 207.338 Q89.1401 210.88 92.7512 210.88 Q96.3854 210.88 98.1909 207.338 Q100.02 203.773 100.02 196.667 Q100.02 189.537 98.1909 185.996 Q96.3854 182.431 92.7512 182.431 M92.7512 178.727 Q98.5613 178.727 101.617 183.334 Q104.696 187.917 104.696 196.667 Q104.696 205.394 101.617 210 Q98.5613 214.584 92.7512 214.584 Q86.941 214.584 83.8623 210 Q80.8068 205.394 80.8068 196.667 Q80.8068 187.917 83.8623 183.334 Q86.941 178.727 92.7512 178.727 Z\" fill=\"#000000\" fill-rule=\"nonzero\" fill-opacity=\"1\" /><path clip-path=\"url(#clip200)\" d=\"M122.913 182.431 Q119.302 182.431 117.473 185.996 Q115.668 189.537 115.668 196.667 Q115.668 203.773 117.473 207.338 Q119.302 210.88 122.913 210.88 Q126.547 210.88 128.353 207.338 Q130.182 203.773 130.182 196.667 Q130.182 189.537 128.353 185.996 Q126.547 182.431 122.913 182.431 M122.913 178.727 Q128.723 178.727 131.779 183.334 Q134.857 187.917 134.857 196.667 Q134.857 205.394 131.779 210 Q128.723 214.584 122.913 214.584 Q117.103 214.584 114.024 210 Q110.969 205.394 110.969 196.667 Q110.969 187.917 114.024 183.334 Q117.103 178.727 122.913 178.727 Z\" fill=\"#000000\" fill-rule=\"nonzero\" fill-opacity=\"1\" /><polyline clip-path=\"url(#clip202)\" style=\"stroke:#009af9; stroke-linecap:round; stroke-linejoin:round; stroke-width:4; stroke-opacity:1; fill:none\" points=\"198.179,1252.28 213.357,1232.85 228.535,1213.41 243.714,1193.98 258.892,1174.54 274.07,1155.11 289.249,1135.67 304.427,1116.24 319.606,1096.8 334.784,1077.37 349.962,1057.93 365.141,1038.5 380.319,1019.06 395.498,999.628 410.676,980.193 425.854,960.758 441.033,941.323 456.211,921.888 471.389,902.453 486.568,883.018 501.746,863.583 516.925,844.148 532.103,824.713 547.281,805.278 562.46,785.843 577.638,766.409 592.817,746.974 607.995,727.539 623.173,708.104 638.352,688.669 653.53,669.234 668.709,649.799 683.887,630.364 699.065,610.929 714.244,591.494 729.422,572.059 744.6,552.624 759.779,533.189 774.957,513.754 790.136,494.319 805.314,474.884 820.492,455.45 835.671,436.015 850.849,416.58 866.028,397.145 881.206,377.71 896.384,358.275 911.563,338.84 926.741,319.405 941.919,299.97 957.098,280.535 972.276,261.1 987.455,241.665 1002.63,222.23 1017.81,202.795 1032.99,183.36 1048.17,163.925 1063.35,144.49 1078.52,125.056 1093.7,105.621 1108.88,86.1857 \"/>\n",
       "<polyline clip-path=\"url(#clip202)\" style=\"stroke:#e26f46; stroke-linecap:round; stroke-linejoin:round; stroke-width:4; stroke-opacity:1; fill:none\" points=\"198.179,1252.28 213.357,1241.25 228.535,1230.59 243.714,1220.3 258.892,1210.39 274.07,1200.85 289.249,1191.69 304.427,1182.9 319.606,1174.48 334.784,1166.44 349.962,1158.78 365.141,1151.48 380.319,1144.56 395.498,1138.02 410.676,1131.85 425.854,1126.05 441.033,1120.63 456.211,1115.58 471.389,1110.9 486.568,1106.6 501.746,1102.67 516.925,1099.12 532.103,1095.94 547.281,1093.13 562.46,1090.7 577.638,1088.65 592.817,1086.96 607.995,1085.65 623.173,1084.72 638.352,1084.16 653.53,1083.97 668.709,1084.16 683.887,1084.72 699.065,1085.65 714.244,1086.96 729.422,1088.65 744.6,1090.7 759.779,1093.13 774.957,1095.94 790.136,1099.12 805.314,1102.67 820.492,1106.6 835.671,1110.9 850.849,1115.58 866.028,1120.63 881.206,1126.05 896.384,1131.85 911.563,1138.02 926.741,1144.56 941.919,1151.48 957.098,1158.78 972.276,1166.44 987.455,1174.48 1002.63,1182.9 1017.81,1191.69 1032.99,1200.85 1048.17,1210.39 1063.35,1220.3 1078.52,1230.59 1093.7,1241.25 1108.88,1252.28 \"/>\n",
       "<polyline clip-path=\"url(#clip202)\" style=\"stroke:#3da44d; stroke-linecap:round; stroke-linejoin:round; stroke-width:4; stroke-opacity:1; fill:none\" points=\"198.179,1120.33 213.357,1124.72 228.535,1129.12 243.714,1133.52 258.892,1137.92 274.07,1142.32 289.249,1146.72 304.427,1151.12 319.606,1155.51 334.784,1159.91 349.962,1164.31 365.141,1168.71 380.319,1173.11 395.498,1177.51 410.676,1181.91 425.854,1186.3 441.033,1190.7 456.211,1195.1 471.389,1199.5 486.568,1203.9 501.746,1208.3 516.925,1212.7 532.103,1217.09 547.281,1221.49 562.46,1225.89 577.638,1230.29 592.817,1234.69 607.995,1239.09 623.173,1243.48 638.352,1247.88 653.53,1252.28 668.709,1256.68 683.887,1261.08 699.065,1265.48 714.244,1269.88 729.422,1274.27 744.6,1278.67 759.779,1283.07 774.957,1287.47 790.136,1291.87 805.314,1296.27 820.492,1300.67 835.671,1305.06 850.849,1309.46 866.028,1313.86 881.206,1318.26 896.384,1322.66 911.563,1327.06 926.741,1331.46 941.919,1335.85 957.098,1340.25 972.276,1344.65 987.455,1349.05 1002.63,1353.45 1017.81,1357.85 1032.99,1362.25 1048.17,1366.64 1063.35,1371.04 1078.52,1375.44 1093.7,1379.84 1108.88,1384.24 \"/>\n",
       "<path clip-path=\"url(#clip200)\" d=\"M203.036 300.469 L405.773 300.469 L405.773 93.1086 L203.036 93.1086  Z\" fill=\"#ffffff\" fill-rule=\"evenodd\" fill-opacity=\"1\"/>\n",
       "<polyline clip-path=\"url(#clip200)\" style=\"stroke:#000000; stroke-linecap:round; stroke-linejoin:round; stroke-width:4; stroke-opacity:1; fill:none\" points=\"203.036,300.469 405.773,300.469 405.773,93.1086 203.036,93.1086 203.036,300.469 \"/>\n",
       "<polyline clip-path=\"url(#clip200)\" style=\"stroke:#009af9; stroke-linecap:round; stroke-linejoin:round; stroke-width:4; stroke-opacity:1; fill:none\" points=\"213.762,144.949 278.118,144.949 \"/>\n",
       "<path clip-path=\"url(#clip200)\" d=\"M313.497 136.303 L304.122 148.919 L313.983 162.229 L308.96 162.229 L301.413 152.043 L293.867 162.229 L288.844 162.229 L298.913 148.664 L289.701 136.303 L294.724 136.303 L301.599 145.539 L308.474 136.303 L313.497 136.303 Z\" fill=\"#000000\" fill-rule=\"nonzero\" fill-opacity=\"1\" /><path clip-path=\"url(#clip200)\" d=\"M330.233 126.257 Q327.131 131.581 325.626 136.789 Q324.122 141.997 324.122 147.344 Q324.122 152.692 325.626 157.946 Q327.154 163.178 330.233 168.479 L326.529 168.479 Q323.057 163.039 321.321 157.784 Q319.608 152.53 319.608 147.344 Q319.608 142.182 321.321 136.951 Q323.034 131.72 326.529 126.257 L330.233 126.257 Z\" fill=\"#000000\" fill-rule=\"nonzero\" fill-opacity=\"1\" /><path clip-path=\"url(#clip200)\" d=\"M342.71 128.942 L342.71 136.303 L351.483 136.303 L351.483 139.613 L342.71 139.613 L342.71 153.687 Q342.71 156.858 343.566 157.761 Q344.446 158.664 347.108 158.664 L351.483 158.664 L351.483 162.229 L347.108 162.229 Q342.177 162.229 340.302 160.4 Q338.427 158.548 338.427 153.687 L338.427 139.613 L335.302 139.613 L335.302 136.303 L338.427 136.303 L338.427 128.942 L342.71 128.942 Z\" fill=\"#000000\" fill-rule=\"nonzero\" fill-opacity=\"1\" /><path clip-path=\"url(#clip200)\" d=\"M356.413 126.257 L360.117 126.257 Q363.589 131.72 365.302 136.951 Q367.038 142.182 367.038 147.344 Q367.038 152.53 365.302 157.784 Q363.589 163.039 360.117 168.479 L356.413 168.479 Q359.492 163.178 360.996 157.946 Q362.524 152.692 362.524 147.344 Q362.524 141.997 360.996 136.789 Q359.492 131.581 356.413 126.257 Z\" fill=\"#000000\" fill-rule=\"nonzero\" fill-opacity=\"1\" /><polyline clip-path=\"url(#clip200)\" style=\"stroke:#e26f46; stroke-linecap:round; stroke-linejoin:round; stroke-width:4; stroke-opacity:1; fill:none\" points=\"213.762,196.789 278.118,196.789 \"/>\n",
       "<path clip-path=\"url(#clip200)\" d=\"M302.687 216.476 Q300.881 221.106 299.168 222.518 Q297.455 223.93 294.585 223.93 L291.182 223.93 L291.182 220.365 L293.682 220.365 Q295.441 220.365 296.413 219.532 Q297.386 218.698 298.566 215.596 L299.33 213.652 L288.844 188.143 L293.358 188.143 L301.46 208.421 L309.562 188.143 L314.075 188.143 L302.687 216.476 Z\" fill=\"#000000\" fill-rule=\"nonzero\" fill-opacity=\"1\" /><path clip-path=\"url(#clip200)\" d=\"M330.186 178.097 Q327.085 183.421 325.58 188.629 Q324.075 193.837 324.075 199.184 Q324.075 204.532 325.58 209.786 Q327.108 215.018 330.186 220.319 L326.483 220.319 Q323.011 214.879 321.274 209.624 Q319.562 204.37 319.562 199.184 Q319.562 194.022 321.274 188.791 Q322.987 183.56 326.483 178.097 L330.186 178.097 Z\" fill=\"#000000\" fill-rule=\"nonzero\" fill-opacity=\"1\" /><path clip-path=\"url(#clip200)\" d=\"M342.663 180.782 L342.663 188.143 L351.436 188.143 L351.436 191.453 L342.663 191.453 L342.663 205.527 Q342.663 208.698 343.52 209.601 Q344.399 210.504 347.061 210.504 L351.436 210.504 L351.436 214.069 L347.061 214.069 Q342.131 214.069 340.256 212.24 Q338.381 210.388 338.381 205.527 L338.381 191.453 L335.256 191.453 L335.256 188.143 L338.381 188.143 L338.381 180.782 L342.663 180.782 Z\" fill=\"#000000\" fill-rule=\"nonzero\" fill-opacity=\"1\" /><path clip-path=\"url(#clip200)\" d=\"M356.367 178.097 L360.071 178.097 Q363.543 183.56 365.256 188.791 Q366.992 194.022 366.992 199.184 Q366.992 204.37 365.256 209.624 Q363.543 214.879 360.071 220.319 L356.367 220.319 Q359.446 215.018 360.95 209.786 Q362.478 204.532 362.478 199.184 Q362.478 193.837 360.95 188.629 Q359.446 183.421 356.367 178.097 Z\" fill=\"#000000\" fill-rule=\"nonzero\" fill-opacity=\"1\" /><polyline clip-path=\"url(#clip200)\" style=\"stroke:#3da44d; stroke-linecap:round; stroke-linejoin:round; stroke-width:4; stroke-opacity:1; fill:none\" points=\"213.762,248.629 278.118,248.629 \"/>\n",
       "<path clip-path=\"url(#clip200)\" d=\"M288.844 239.983 L293.358 239.983 L301.46 261.742 L309.562 239.983 L314.075 239.983 L304.353 265.909 L298.566 265.909 L288.844 239.983 Z\" fill=\"#000000\" fill-rule=\"nonzero\" fill-opacity=\"1\" /><path clip-path=\"url(#clip200)\" d=\"M330.742 268.316 Q328.936 272.946 327.224 274.358 Q325.511 275.77 322.64 275.77 L319.237 275.77 L319.237 272.205 L321.737 272.205 Q323.497 272.205 324.469 271.372 Q325.441 270.538 326.622 267.436 L327.386 265.492 L316.899 239.983 L321.413 239.983 L329.515 260.261 L337.617 239.983 L342.131 239.983 L330.742 268.316 Z\" fill=\"#000000\" fill-rule=\"nonzero\" fill-opacity=\"1\" /><path clip-path=\"url(#clip200)\" d=\"M358.242 229.937 Q355.14 235.261 353.635 240.469 Q352.131 245.677 352.131 251.024 Q352.131 256.372 353.635 261.626 Q355.163 266.858 358.242 272.159 L354.538 272.159 Q351.066 266.719 349.33 261.464 Q347.617 256.21 347.617 251.024 Q347.617 245.862 349.33 240.631 Q351.043 235.4 354.538 229.937 L358.242 229.937 Z\" fill=\"#000000\" fill-rule=\"nonzero\" fill-opacity=\"1\" /><path clip-path=\"url(#clip200)\" d=\"M370.719 232.622 L370.719 239.983 L379.492 239.983 L379.492 243.293 L370.719 243.293 L370.719 257.367 Q370.719 260.538 371.575 261.441 Q372.455 262.344 375.117 262.344 L379.492 262.344 L379.492 265.909 L375.117 265.909 Q370.186 265.909 368.311 264.08 Q366.436 262.228 366.436 257.367 L366.436 243.293 L363.311 243.293 L363.311 239.983 L366.436 239.983 L366.436 232.622 L370.719 232.622 Z\" fill=\"#000000\" fill-rule=\"nonzero\" fill-opacity=\"1\" /><path clip-path=\"url(#clip200)\" d=\"M384.422 229.937 L388.126 229.937 Q391.598 235.4 393.311 240.631 Q395.047 245.862 395.047 251.024 Q395.047 256.21 393.311 261.464 Q391.598 266.719 388.126 272.159 L384.422 272.159 Q387.501 266.858 389.006 261.626 Q390.533 256.372 390.533 251.024 Q390.533 245.677 389.006 240.469 Q387.501 235.261 384.422 229.937 Z\" fill=\"#000000\" fill-rule=\"nonzero\" fill-opacity=\"1\" /><path clip-path=\"url(#clip200)\" d=\"M1387.41 1423.18 L2352.76 1423.18 L2352.76 47.2441 L1387.41 47.2441  Z\" fill=\"#ffffff\" fill-rule=\"evenodd\" fill-opacity=\"1\"/>\n",
       "<defs>\n",
       "  <clipPath id=\"clip203\">\n",
       "    <rect x=\"1387\" y=\"47\" width=\"966\" height=\"1377\"/>\n",
       "  </clipPath>\n",
       "</defs>\n",
       "<polyline clip-path=\"url(#clip203)\" style=\"stroke:#000000; stroke-linecap:round; stroke-linejoin:round; stroke-width:2; stroke-opacity:0.1; fill:none\" points=\"1414.73,1423.18 1414.73,47.2441 \"/>\n",
       "<polyline clip-path=\"url(#clip203)\" style=\"stroke:#000000; stroke-linecap:round; stroke-linejoin:round; stroke-width:2; stroke-opacity:0.1; fill:none\" points=\"1620.85,1423.18 1620.85,47.2441 \"/>\n",
       "<polyline clip-path=\"url(#clip203)\" style=\"stroke:#000000; stroke-linecap:round; stroke-linejoin:round; stroke-width:2; stroke-opacity:0.1; fill:none\" points=\"1826.97,1423.18 1826.97,47.2441 \"/>\n",
       "<polyline clip-path=\"url(#clip203)\" style=\"stroke:#000000; stroke-linecap:round; stroke-linejoin:round; stroke-width:2; stroke-opacity:0.1; fill:none\" points=\"2033.08,1423.18 2033.08,47.2441 \"/>\n",
       "<polyline clip-path=\"url(#clip203)\" style=\"stroke:#000000; stroke-linecap:round; stroke-linejoin:round; stroke-width:2; stroke-opacity:0.1; fill:none\" points=\"2239.2,1423.18 2239.2,47.2441 \"/>\n",
       "<polyline clip-path=\"url(#clip200)\" style=\"stroke:#000000; stroke-linecap:round; stroke-linejoin:round; stroke-width:4; stroke-opacity:1; fill:none\" points=\"1387.41,1423.18 2352.76,1423.18 \"/>\n",
       "<polyline clip-path=\"url(#clip200)\" style=\"stroke:#000000; stroke-linecap:round; stroke-linejoin:round; stroke-width:4; stroke-opacity:1; fill:none\" points=\"1414.73,1423.18 1414.73,1404.28 \"/>\n",
       "<polyline clip-path=\"url(#clip200)\" style=\"stroke:#000000; stroke-linecap:round; stroke-linejoin:round; stroke-width:4; stroke-opacity:1; fill:none\" points=\"1620.85,1423.18 1620.85,1404.28 \"/>\n",
       "<polyline clip-path=\"url(#clip200)\" style=\"stroke:#000000; stroke-linecap:round; stroke-linejoin:round; stroke-width:4; stroke-opacity:1; fill:none\" points=\"1826.97,1423.18 1826.97,1404.28 \"/>\n",
       "<polyline clip-path=\"url(#clip200)\" style=\"stroke:#000000; stroke-linecap:round; stroke-linejoin:round; stroke-width:4; stroke-opacity:1; fill:none\" points=\"2033.08,1423.18 2033.08,1404.28 \"/>\n",
       "<polyline clip-path=\"url(#clip200)\" style=\"stroke:#000000; stroke-linecap:round; stroke-linejoin:round; stroke-width:4; stroke-opacity:1; fill:none\" points=\"2239.2,1423.18 2239.2,1404.28 \"/>\n",
       "<path clip-path=\"url(#clip200)\" d=\"M1414.73 1454.1 Q1411.12 1454.1 1409.29 1457.66 Q1407.49 1461.2 1407.49 1468.33 Q1407.49 1475.44 1409.29 1479.01 Q1411.12 1482.55 1414.73 1482.55 Q1418.37 1482.55 1420.17 1479.01 Q1422 1475.44 1422 1468.33 Q1422 1461.2 1420.17 1457.66 Q1418.37 1454.1 1414.73 1454.1 M1414.73 1450.39 Q1420.54 1450.39 1423.6 1455 Q1426.68 1459.58 1426.68 1468.33 Q1426.68 1477.06 1423.6 1481.67 Q1420.54 1486.25 1414.73 1486.25 Q1408.92 1486.25 1405.84 1481.67 Q1402.79 1477.06 1402.79 1468.33 Q1402.79 1459.58 1405.84 1455 Q1408.92 1450.39 1414.73 1450.39 Z\" fill=\"#000000\" fill-rule=\"nonzero\" fill-opacity=\"1\" /><path clip-path=\"url(#clip200)\" d=\"M1595.55 1451.02 L1613.9 1451.02 L1613.9 1454.96 L1599.83 1454.96 L1599.83 1463.43 Q1600.85 1463.08 1601.87 1462.92 Q1602.89 1462.73 1603.9 1462.73 Q1609.69 1462.73 1613.07 1465.9 Q1616.45 1469.08 1616.45 1474.49 Q1616.45 1480.07 1612.98 1483.17 Q1609.51 1486.25 1603.19 1486.25 Q1601.01 1486.25 1598.74 1485.88 Q1596.5 1485.51 1594.09 1484.77 L1594.09 1480.07 Q1596.17 1481.2 1598.4 1481.76 Q1600.62 1482.32 1603.09 1482.32 Q1607.1 1482.32 1609.44 1480.21 Q1611.78 1478.1 1611.78 1474.49 Q1611.78 1470.88 1609.44 1468.77 Q1607.1 1466.67 1603.09 1466.67 Q1601.22 1466.67 1599.34 1467.08 Q1597.49 1467.5 1595.55 1468.38 L1595.55 1451.02 Z\" fill=\"#000000\" fill-rule=\"nonzero\" fill-opacity=\"1\" /><path clip-path=\"url(#clip200)\" d=\"M1635.66 1454.1 Q1632.05 1454.1 1630.22 1457.66 Q1628.42 1461.2 1628.42 1468.33 Q1628.42 1475.44 1630.22 1479.01 Q1632.05 1482.55 1635.66 1482.55 Q1639.3 1482.55 1641.1 1479.01 Q1642.93 1475.44 1642.93 1468.33 Q1642.93 1461.2 1641.1 1457.66 Q1639.3 1454.1 1635.66 1454.1 M1635.66 1450.39 Q1641.47 1450.39 1644.53 1455 Q1647.61 1459.58 1647.61 1468.33 Q1647.61 1477.06 1644.53 1481.67 Q1641.47 1486.25 1635.66 1486.25 Q1629.85 1486.25 1626.78 1481.67 Q1623.72 1477.06 1623.72 1468.33 Q1623.72 1459.58 1626.78 1455 Q1629.85 1450.39 1635.66 1450.39 Z\" fill=\"#000000\" fill-rule=\"nonzero\" fill-opacity=\"1\" /><path clip-path=\"url(#clip200)\" d=\"M1786.57 1481.64 L1794.21 1481.64 L1794.21 1455.28 L1785.9 1456.95 L1785.9 1452.69 L1794.17 1451.02 L1798.84 1451.02 L1798.84 1481.64 L1806.48 1481.64 L1806.48 1485.58 L1786.57 1485.58 L1786.57 1481.64 Z\" fill=\"#000000\" fill-rule=\"nonzero\" fill-opacity=\"1\" /><path clip-path=\"url(#clip200)\" d=\"M1825.93 1454.1 Q1822.31 1454.1 1820.49 1457.66 Q1818.68 1461.2 1818.68 1468.33 Q1818.68 1475.44 1820.49 1479.01 Q1822.31 1482.55 1825.93 1482.55 Q1829.56 1482.55 1831.36 1479.01 Q1833.19 1475.44 1833.19 1468.33 Q1833.19 1461.2 1831.36 1457.66 Q1829.56 1454.1 1825.93 1454.1 M1825.93 1450.39 Q1831.74 1450.39 1834.79 1455 Q1837.87 1459.58 1837.87 1468.33 Q1837.87 1477.06 1834.79 1481.67 Q1831.74 1486.25 1825.93 1486.25 Q1820.11 1486.25 1817.04 1481.67 Q1813.98 1477.06 1813.98 1468.33 Q1813.98 1459.58 1817.04 1455 Q1820.11 1450.39 1825.93 1450.39 Z\" fill=\"#000000\" fill-rule=\"nonzero\" fill-opacity=\"1\" /><path clip-path=\"url(#clip200)\" d=\"M1856.09 1454.1 Q1852.48 1454.1 1850.65 1457.66 Q1848.84 1461.2 1848.84 1468.33 Q1848.84 1475.44 1850.65 1479.01 Q1852.48 1482.55 1856.09 1482.55 Q1859.72 1482.55 1861.53 1479.01 Q1863.36 1475.44 1863.36 1468.33 Q1863.36 1461.2 1861.53 1457.66 Q1859.72 1454.1 1856.09 1454.1 M1856.09 1450.39 Q1861.9 1450.39 1864.95 1455 Q1868.03 1459.58 1868.03 1468.33 Q1868.03 1477.06 1864.95 1481.67 Q1861.9 1486.25 1856.09 1486.25 Q1850.28 1486.25 1847.2 1481.67 Q1844.14 1477.06 1844.14 1468.33 Q1844.14 1459.58 1847.2 1455 Q1850.28 1450.39 1856.09 1450.39 Z\" fill=\"#000000\" fill-rule=\"nonzero\" fill-opacity=\"1\" /><path clip-path=\"url(#clip200)\" d=\"M1992.69 1481.64 L2000.33 1481.64 L2000.33 1455.28 L1992.02 1456.95 L1992.02 1452.69 L2000.28 1451.02 L2004.96 1451.02 L2004.96 1481.64 L2012.6 1481.64 L2012.6 1485.58 L1992.69 1485.58 L1992.69 1481.64 Z\" fill=\"#000000\" fill-rule=\"nonzero\" fill-opacity=\"1\" /><path clip-path=\"url(#clip200)\" d=\"M2022.09 1451.02 L2040.45 1451.02 L2040.45 1454.96 L2026.37 1454.96 L2026.37 1463.43 Q2027.39 1463.08 2028.41 1462.92 Q2029.43 1462.73 2030.45 1462.73 Q2036.23 1462.73 2039.61 1465.9 Q2042.99 1469.08 2042.99 1474.49 Q2042.99 1480.07 2039.52 1483.17 Q2036.05 1486.25 2029.73 1486.25 Q2027.55 1486.25 2025.28 1485.88 Q2023.04 1485.51 2020.63 1484.77 L2020.63 1480.07 Q2022.71 1481.2 2024.94 1481.76 Q2027.16 1482.32 2029.64 1482.32 Q2033.64 1482.32 2035.98 1480.21 Q2038.32 1478.1 2038.32 1474.49 Q2038.32 1470.88 2035.98 1468.77 Q2033.64 1466.67 2029.64 1466.67 Q2027.76 1466.67 2025.89 1467.08 Q2024.03 1467.5 2022.09 1468.38 L2022.09 1451.02 Z\" fill=\"#000000\" fill-rule=\"nonzero\" fill-opacity=\"1\" /><path clip-path=\"url(#clip200)\" d=\"M2062.2 1454.1 Q2058.59 1454.1 2056.76 1457.66 Q2054.96 1461.2 2054.96 1468.33 Q2054.96 1475.44 2056.76 1479.01 Q2058.59 1482.55 2062.2 1482.55 Q2065.84 1482.55 2067.64 1479.01 Q2069.47 1475.44 2069.47 1468.33 Q2069.47 1461.2 2067.64 1457.66 Q2065.84 1454.1 2062.2 1454.1 M2062.2 1450.39 Q2068.01 1450.39 2071.07 1455 Q2074.15 1459.58 2074.15 1468.33 Q2074.15 1477.06 2071.07 1481.67 Q2068.01 1486.25 2062.2 1486.25 Q2056.39 1486.25 2053.32 1481.67 Q2050.26 1477.06 2050.26 1468.33 Q2050.26 1459.58 2053.32 1455 Q2056.39 1450.39 2062.2 1450.39 Z\" fill=\"#000000\" fill-rule=\"nonzero\" fill-opacity=\"1\" /><path clip-path=\"url(#clip200)\" d=\"M2202.89 1481.64 L2219.21 1481.64 L2219.21 1485.58 L2197.27 1485.58 L2197.27 1481.64 Q2199.93 1478.89 2204.51 1474.26 Q2209.12 1469.61 2210.3 1468.27 Q2212.55 1465.74 2213.43 1464.01 Q2214.33 1462.25 2214.33 1460.56 Q2214.33 1457.8 2212.38 1456.07 Q2210.46 1454.33 2207.36 1454.33 Q2205.16 1454.33 2202.71 1455.09 Q2200.28 1455.86 2197.5 1457.41 L2197.5 1452.69 Q2200.32 1451.55 2202.78 1450.97 Q2205.23 1450.39 2207.27 1450.39 Q2212.64 1450.39 2215.83 1453.08 Q2219.03 1455.77 2219.03 1460.26 Q2219.03 1462.39 2218.22 1464.31 Q2217.43 1466.2 2215.32 1468.8 Q2214.75 1469.47 2211.64 1472.69 Q2208.54 1475.88 2202.89 1481.64 Z\" fill=\"#000000\" fill-rule=\"nonzero\" fill-opacity=\"1\" /><path clip-path=\"url(#clip200)\" d=\"M2239.03 1454.1 Q2235.42 1454.1 2233.59 1457.66 Q2231.78 1461.2 2231.78 1468.33 Q2231.78 1475.44 2233.59 1479.01 Q2235.42 1482.55 2239.03 1482.55 Q2242.66 1482.55 2244.47 1479.01 Q2246.3 1475.44 2246.3 1468.33 Q2246.3 1461.2 2244.47 1457.66 Q2242.66 1454.1 2239.03 1454.1 M2239.03 1450.39 Q2244.84 1450.39 2247.89 1455 Q2250.97 1459.58 2250.97 1468.33 Q2250.97 1477.06 2247.89 1481.67 Q2244.84 1486.25 2239.03 1486.25 Q2233.22 1486.25 2230.14 1481.67 Q2227.08 1477.06 2227.08 1468.33 Q2227.08 1459.58 2230.14 1455 Q2233.22 1450.39 2239.03 1450.39 Z\" fill=\"#000000\" fill-rule=\"nonzero\" fill-opacity=\"1\" /><path clip-path=\"url(#clip200)\" d=\"M2269.19 1454.1 Q2265.58 1454.1 2263.75 1457.66 Q2261.94 1461.2 2261.94 1468.33 Q2261.94 1475.44 2263.75 1479.01 Q2265.58 1482.55 2269.19 1482.55 Q2272.82 1482.55 2274.63 1479.01 Q2276.46 1475.44 2276.46 1468.33 Q2276.46 1461.2 2274.63 1457.66 Q2272.82 1454.1 2269.19 1454.1 M2269.19 1450.39 Q2275 1450.39 2278.06 1455 Q2281.13 1459.58 2281.13 1468.33 Q2281.13 1477.06 2278.06 1481.67 Q2275 1486.25 2269.19 1486.25 Q2263.38 1486.25 2260.3 1481.67 Q2257.25 1477.06 2257.25 1468.33 Q2257.25 1459.58 2260.3 1455 Q2263.38 1450.39 2269.19 1450.39 Z\" fill=\"#000000\" fill-rule=\"nonzero\" fill-opacity=\"1\" /><path clip-path=\"url(#clip200)\" d=\"M1886.7 1532.4 L1873.81 1549.74 L1887.37 1568.04 L1880.46 1568.04 L1870.08 1554.04 L1859.71 1568.04 L1852.8 1568.04 L1866.65 1549.39 L1853.98 1532.4 L1860.88 1532.4 L1870.34 1545.1 L1879.79 1532.4 L1886.7 1532.4 Z\" fill=\"#000000\" fill-rule=\"nonzero\" fill-opacity=\"1\" /><polyline clip-path=\"url(#clip203)\" style=\"stroke:#000000; stroke-linecap:round; stroke-linejoin:round; stroke-width:2; stroke-opacity:0.1; fill:none\" points=\"1387.41,1384.24 2352.76,1384.24 \"/>\n",
       "<polyline clip-path=\"url(#clip203)\" style=\"stroke:#000000; stroke-linecap:round; stroke-linejoin:round; stroke-width:2; stroke-opacity:0.1; fill:none\" points=\"1387.41,978.85 2352.76,978.85 \"/>\n",
       "<polyline clip-path=\"url(#clip203)\" style=\"stroke:#000000; stroke-linecap:round; stroke-linejoin:round; stroke-width:2; stroke-opacity:0.1; fill:none\" points=\"1387.41,573.462 2352.76,573.462 \"/>\n",
       "<polyline clip-path=\"url(#clip203)\" style=\"stroke:#000000; stroke-linecap:round; stroke-linejoin:round; stroke-width:2; stroke-opacity:0.1; fill:none\" points=\"1387.41,168.073 2352.76,168.073 \"/>\n",
       "<polyline clip-path=\"url(#clip200)\" style=\"stroke:#000000; stroke-linecap:round; stroke-linejoin:round; stroke-width:4; stroke-opacity:1; fill:none\" points=\"1387.41,1423.18 1387.41,47.2441 \"/>\n",
       "<polyline clip-path=\"url(#clip200)\" style=\"stroke:#000000; stroke-linecap:round; stroke-linejoin:round; stroke-width:4; stroke-opacity:1; fill:none\" points=\"1387.41,1384.24 1406.31,1384.24 \"/>\n",
       "<polyline clip-path=\"url(#clip200)\" style=\"stroke:#000000; stroke-linecap:round; stroke-linejoin:round; stroke-width:4; stroke-opacity:1; fill:none\" points=\"1387.41,978.85 1406.31,978.85 \"/>\n",
       "<polyline clip-path=\"url(#clip200)\" style=\"stroke:#000000; stroke-linecap:round; stroke-linejoin:round; stroke-width:4; stroke-opacity:1; fill:none\" points=\"1387.41,573.462 1406.31,573.462 \"/>\n",
       "<polyline clip-path=\"url(#clip200)\" style=\"stroke:#000000; stroke-linecap:round; stroke-linejoin:round; stroke-width:4; stroke-opacity:1; fill:none\" points=\"1387.41,168.073 1406.31,168.073 \"/>\n",
       "<path clip-path=\"url(#clip200)\" d=\"M1339.47 1370.04 Q1335.86 1370.04 1334.03 1373.6 Q1332.22 1377.14 1332.22 1384.27 Q1332.22 1391.38 1334.03 1394.94 Q1335.86 1398.49 1339.47 1398.49 Q1343.1 1398.49 1344.91 1394.94 Q1346.73 1391.38 1346.73 1384.27 Q1346.73 1377.14 1344.91 1373.6 Q1343.1 1370.04 1339.47 1370.04 M1339.47 1366.33 Q1345.28 1366.33 1348.33 1370.94 Q1351.41 1375.52 1351.41 1384.27 Q1351.41 1393 1348.33 1397.61 Q1345.28 1402.19 1339.47 1402.19 Q1333.66 1402.19 1330.58 1397.61 Q1327.52 1393 1327.52 1384.27 Q1327.52 1375.52 1330.58 1370.94 Q1333.66 1366.33 1339.47 1366.33 Z\" fill=\"#000000\" fill-rule=\"nonzero\" fill-opacity=\"1\" /><path clip-path=\"url(#clip200)\" d=\"M1300.11 992.195 L1307.75 992.195 L1307.75 965.829 L1299.44 967.496 L1299.44 963.237 L1307.71 961.57 L1312.38 961.57 L1312.38 992.195 L1320.02 992.195 L1320.02 996.13 L1300.11 996.13 L1300.11 992.195 Z\" fill=\"#000000\" fill-rule=\"nonzero\" fill-opacity=\"1\" /><path clip-path=\"url(#clip200)\" d=\"M1339.47 964.649 Q1335.86 964.649 1334.03 968.213 Q1332.22 971.755 1332.22 978.885 Q1332.22 985.991 1334.03 989.556 Q1335.86 993.098 1339.47 993.098 Q1343.1 993.098 1344.91 989.556 Q1346.73 985.991 1346.73 978.885 Q1346.73 971.755 1344.91 968.213 Q1343.1 964.649 1339.47 964.649 M1339.47 960.945 Q1345.28 960.945 1348.33 965.551 Q1351.41 970.135 1351.41 978.885 Q1351.41 987.612 1348.33 992.218 Q1345.28 996.801 1339.47 996.801 Q1333.66 996.801 1330.58 992.218 Q1327.52 987.612 1327.52 978.885 Q1327.52 970.135 1330.58 965.551 Q1333.66 960.945 1339.47 960.945 Z\" fill=\"#000000\" fill-rule=\"nonzero\" fill-opacity=\"1\" /><path clip-path=\"url(#clip200)\" d=\"M1303.33 586.807 L1319.65 586.807 L1319.65 590.742 L1297.71 590.742 L1297.71 586.807 Q1300.37 584.052 1304.95 579.422 Q1309.56 574.77 1310.74 573.427 Q1312.98 570.904 1313.86 569.168 Q1314.77 567.409 1314.77 565.719 Q1314.77 562.964 1312.82 561.228 Q1310.9 559.492 1307.8 559.492 Q1305.6 559.492 1303.15 560.256 Q1300.72 561.02 1297.94 562.571 L1297.94 557.848 Q1300.76 556.714 1303.22 556.135 Q1305.67 555.557 1307.71 555.557 Q1313.08 555.557 1316.27 558.242 Q1319.47 560.927 1319.47 565.418 Q1319.47 567.547 1318.66 569.469 Q1317.87 571.367 1315.76 573.959 Q1315.18 574.631 1312.08 577.848 Q1308.98 581.043 1303.33 586.807 Z\" fill=\"#000000\" fill-rule=\"nonzero\" fill-opacity=\"1\" /><path clip-path=\"url(#clip200)\" d=\"M1339.47 559.26 Q1335.86 559.26 1334.03 562.825 Q1332.22 566.367 1332.22 573.496 Q1332.22 580.603 1334.03 584.168 Q1335.86 587.709 1339.47 587.709 Q1343.1 587.709 1344.91 584.168 Q1346.73 580.603 1346.73 573.496 Q1346.73 566.367 1344.91 562.825 Q1343.1 559.26 1339.47 559.26 M1339.47 555.557 Q1345.28 555.557 1348.33 560.163 Q1351.41 564.747 1351.41 573.496 Q1351.41 582.223 1348.33 586.83 Q1345.28 591.413 1339.47 591.413 Q1333.66 591.413 1330.58 586.83 Q1327.52 582.223 1327.52 573.496 Q1327.52 564.747 1330.58 560.163 Q1333.66 555.557 1339.47 555.557 Z\" fill=\"#000000\" fill-rule=\"nonzero\" fill-opacity=\"1\" /><path clip-path=\"url(#clip200)\" d=\"M1313.47 166.719 Q1316.83 167.437 1318.7 169.705 Q1320.6 171.974 1320.6 175.307 Q1320.6 180.423 1317.08 183.224 Q1313.56 186.025 1307.08 186.025 Q1304.91 186.025 1302.59 185.585 Q1300.3 185.168 1297.85 184.312 L1297.85 179.798 Q1299.79 180.932 1302.11 181.511 Q1304.42 182.09 1306.94 182.09 Q1311.34 182.09 1313.63 180.354 Q1315.95 178.617 1315.95 175.307 Q1315.95 172.252 1313.79 170.539 Q1311.67 168.803 1307.85 168.803 L1303.82 168.803 L1303.82 164.96 L1308.03 164.96 Q1311.48 164.96 1313.31 163.594 Q1315.14 162.205 1315.14 159.613 Q1315.14 156.951 1313.24 155.539 Q1311.36 154.104 1307.85 154.104 Q1305.92 154.104 1303.73 154.52 Q1301.53 154.937 1298.89 155.817 L1298.89 151.65 Q1301.55 150.909 1303.86 150.539 Q1306.2 150.168 1308.26 150.168 Q1313.59 150.168 1316.69 152.599 Q1319.79 155.006 1319.79 159.127 Q1319.79 161.997 1318.15 163.988 Q1316.5 165.955 1313.47 166.719 Z\" fill=\"#000000\" fill-rule=\"nonzero\" fill-opacity=\"1\" /><path clip-path=\"url(#clip200)\" d=\"M1339.47 153.872 Q1335.86 153.872 1334.03 157.437 Q1332.22 160.979 1332.22 168.108 Q1332.22 175.215 1334.03 178.779 Q1335.86 182.321 1339.47 182.321 Q1343.1 182.321 1344.91 178.779 Q1346.73 175.215 1346.73 168.108 Q1346.73 160.979 1344.91 157.437 Q1343.1 153.872 1339.47 153.872 M1339.47 150.168 Q1345.28 150.168 1348.33 154.775 Q1351.41 159.358 1351.41 168.108 Q1351.41 176.835 1348.33 181.441 Q1345.28 186.025 1339.47 186.025 Q1333.66 186.025 1330.58 181.441 Q1327.52 176.835 1327.52 168.108 Q1327.52 159.358 1330.58 154.775 Q1333.66 150.168 1339.47 150.168 Z\" fill=\"#000000\" fill-rule=\"nonzero\" fill-opacity=\"1\" /><path clip-path=\"url(#clip200)\" d=\"M1250.76 733.525 Q1257.13 736.008 1259.07 738.363 Q1261.01 740.718 1261.01 744.665 L1261.01 749.344 L1256.11 749.344 L1256.11 745.906 Q1256.11 743.487 1254.96 742.151 Q1253.82 740.814 1249.55 739.191 L1246.88 738.14 L1211.8 752.559 L1211.8 746.352 L1239.68 735.212 L1211.8 724.072 L1211.8 717.865 L1250.76 733.525 Z\" fill=\"#000000\" fill-rule=\"nonzero\" fill-opacity=\"1\" /><polyline clip-path=\"url(#clip203)\" style=\"stroke:#009af9; stroke-linecap:round; stroke-linejoin:round; stroke-width:4; stroke-opacity:1; fill:none\" points=\"1414.73,1384.24 1415.08,1382.25 1415.43,1380.26 1415.78,1378.27 1416.13,1376.29 1416.48,1374.31 1416.83,1372.32 1417.19,1370.34 1417.54,1368.37 1417.89,1366.39 1418.24,1364.41 1418.59,1362.44 1418.94,1360.47 1419.29,1358.49 1419.64,1356.52 1419.99,1354.56 1420.34,1352.59 1420.69,1350.62 1421.04,1348.66 1421.39,1346.7 1421.74,1344.74 1422.09,1342.78 1422.44,1340.82 1422.79,1338.87 1423.14,1336.91 1423.5,1334.96 1423.85,1333.01 1424.2,1331.06 1424.55,1329.11 1424.9,1327.16 1425.25,1325.22 1425.6,1323.27 1425.95,1321.33 1426.3,1319.39 1426.65,1317.45 1427,1315.51 1427.35,1313.58 1427.7,1311.64 1428.05,1309.71 1428.4,1307.78 1428.75,1305.85 1429.1,1303.92 1429.45,1301.99 1429.8,1300.07 1430.16,1298.15 1430.51,1296.22 1430.86,1294.3 1431.21,1292.38 1431.56,1290.46 1431.91,1288.55 1432.26,1286.63 1432.61,1284.72 1432.96,1282.81 1433.31,1280.9 1433.66,1278.99 1434.01,1277.08 1434.36,1275.18 1434.71,1273.27 1435.06,1271.37 1435.41,1269.47 1435.76,1267.57 1436.11,1265.67 1436.47,1263.78 1436.82,1261.88 1437.17,1259.99 1437.52,1258.1 1437.87,1256.21 1438.22,1254.32 1438.57,1252.43 1438.92,1250.54 1439.27,1248.66 1439.62,1246.78 1439.97,1244.9 1440.32,1243.02 1440.67,1241.14 1441.02,1239.26 1441.37,1237.39 1441.72,1235.51 1442.07,1233.64 1442.42,1231.77 1442.77,1229.9 1443.13,1228.03 1443.48,1226.17 1443.83,1224.3 1444.18,1222.44 1444.53,1220.58 1444.88,1218.72 1445.23,1216.86 1445.58,1215.01 1445.93,1213.15 1446.28,1211.3 1446.63,1209.44 1446.98,1207.59 1447.33,1205.75 1447.68,1203.9 1448.03,1202.05 1448.38,1200.21 1448.73,1198.36 1449.08,1196.52 1449.44,1194.68 1449.79,1192.84 1450.14,1191.01 1450.49,1189.17 1450.84,1187.34 1451.19,1185.51 1451.54,1183.67 1451.89,1181.85 1452.24,1180.02 1452.59,1178.19 1452.94,1176.37 1453.29,1174.54 1453.64,1172.72 1453.99,1170.9 1454.34,1169.08 1454.69,1167.27 1455.04,1165.45 1455.39,1163.64 1455.74,1161.82 1456.1,1160.01 1456.45,1158.2 1456.8,1156.4 1457.15,1154.59 1457.5,1152.78 1457.85,1150.98 1458.2,1149.18 1458.55,1147.38 1458.9,1145.58 1459.25,1143.78 1459.6,1141.99 1459.95,1140.19 1460.3,1138.4 1460.65,1136.61 1461,1134.82 1461.35,1133.03 1461.7,1131.25 1462.05,1129.46 1462.41,1127.68 1462.76,1125.9 1463.11,1124.11 1463.46,1122.34 1463.81,1120.56 1464.16,1118.78 1464.51,1117.01 1464.86,1115.24 1465.21,1113.46 1465.56,1111.69 1465.91,1109.93 1466.26,1108.16 1466.61,1106.39 1466.96,1104.63 1467.31,1102.87 1467.66,1101.11 1468.01,1099.35 1468.36,1097.59 1468.71,1095.84 1469.07,1094.08 1469.42,1092.33 1469.77,1090.58 1470.12,1088.83 1470.47,1087.08 1470.82,1085.33 1471.17,1083.59 1471.52,1081.84 1471.87,1080.1 1472.22,1078.36 1472.57,1076.62 1472.92,1074.88 1473.27,1073.15 1473.62,1071.41 1473.97,1069.68 1474.32,1067.95 1474.67,1066.22 1475.02,1064.49 1475.38,1062.76 1475.73,1061.04 1476.08,1059.31 1476.43,1057.59 1476.78,1055.87 1477.13,1054.15 1477.48,1052.43 1477.83,1050.71 1478.18,1049 1478.53,1047.29 1478.88,1045.57 1479.23,1043.86 1479.58,1042.16 1479.93,1040.45 1480.28,1038.74 1480.63,1037.04 1480.98,1035.34 1481.33,1033.63 1481.68,1031.93 1482.04,1030.24 1482.39,1028.54 1482.74,1026.85 1483.09,1025.15 1483.44,1023.46 1483.79,1021.77 1484.14,1020.08 1484.49,1018.39 1484.84,1016.71 1485.19,1015.02 1485.54,1013.34 1485.89,1011.66 1486.24,1009.98 1486.59,1008.3 1486.94,1006.62 1487.29,1004.95 1487.64,1003.28 1487.99,1001.6 1488.35,999.933 1488.7,998.264 1489.05,996.596 1489.4,994.93 1489.75,993.266 1490.1,991.603 1490.45,989.941 1490.8,988.281 1491.15,986.623 1491.5,984.966 1491.85,983.311 1492.2,981.657 1492.55,980.005 1492.9,978.354 1493.25,976.705 1493.6,975.057 1493.95,973.411 1494.3,971.766 1494.65,970.123 1495.01,968.482 1495.36,966.842 1495.71,965.203 1496.06,963.566 1496.41,961.931 1496.76,960.297 1497.11,958.664 1497.46,957.033 1497.81,955.404 1498.16,953.776 1498.51,952.15 1498.86,950.525 1499.21,948.902 1499.56,947.28 1499.91,945.66 1500.26,944.041 1500.61,942.424 1500.96,940.808 1501.32,939.194 1501.67,937.581 1502.02,935.97 1502.37,934.361 1502.72,932.753 1503.07,931.146 1503.42,929.541 1503.77,927.938 1504.12,926.336 1504.47,924.735 1504.82,923.136 1505.17,921.539 1505.52,919.943 1505.87,918.349 1506.22,916.756 1506.57,915.165 1506.92,913.575 1507.27,911.987 1507.62,910.4 1507.98,908.815 1508.33,907.232 1508.68,905.65 1509.03,904.069 1509.38,902.49 1509.73,900.912 1510.08,899.336 1510.43,897.762 1510.78,896.189 1511.13,894.618 1511.48,893.048 1511.83,891.479 1512.18,889.913 1512.53,888.347 1512.88,886.783 1513.23,885.221 1513.58,883.66 1513.93,882.101 1514.28,880.544 1514.64,878.987 1514.99,877.433 1515.34,875.88 1515.69,874.328 1516.04,872.778 1516.39,871.23 1516.74,869.683 1517.09,868.137 1517.44,866.593 1517.79,865.051 1518.14,863.51 1518.49,861.97 1518.84,860.433 1519.19,858.896 1519.54,857.361 1519.89,855.828 1520.24,854.296 1520.59,852.766 1520.95,851.238 1521.3,849.71 1521.65,848.185 1522,846.661 1522.35,845.138 1522.7,843.617 1523.05,842.097 1523.4,840.579 1523.75,839.063 1524.1,837.548 1524.45,836.035 1524.8,834.523 1525.15,833.012 1525.5,831.503 1525.85,829.996 1526.2,828.49 1526.55,826.986 1526.9,825.483 1527.25,823.982 1527.61,822.482 1527.96,820.984 1528.31,819.488 1528.66,817.992 1529.01,816.499 1529.36,815.007 1529.71,813.516 1530.06,812.027 1530.41,810.54 1530.76,809.054 1531.11,807.569 1531.46,806.086 1531.81,804.605 1532.16,803.125 1532.51,801.647 1532.86,800.17 1533.21,798.695 1533.56,797.221 1533.92,795.749 1534.27,794.278 1534.62,792.809 1534.97,791.341 1535.32,789.875 1535.67,788.41 1536.02,786.947 1536.37,785.486 1536.72,784.026 1537.07,782.567 1537.42,781.11 1537.77,779.655 1538.12,778.201 1538.47,776.748 1538.82,775.298 1539.17,773.848 1539.52,772.4 1539.87,770.954 1540.22,769.509 1540.58,768.066 1540.93,766.624 1541.28,765.184 1541.63,763.745 1541.98,762.308 1542.33,760.873 1542.68,759.439 1543.03,758.006 1543.38,756.575 1543.73,755.145 1544.08,753.717 1544.43,752.291 1544.78,750.866 1545.13,749.443 1545.48,748.021 1545.83,746.6 1546.18,745.182 1546.53,743.764 1546.89,742.348 1547.24,740.934 1547.59,739.521 1547.94,738.11 1548.29,736.701 1548.64,735.292 1548.99,733.886 1549.34,732.481 1549.69,731.077 1550.04,729.675 1550.39,728.275 1550.74,726.876 1551.09,725.478 1551.44,724.082 1551.79,722.688 1552.14,721.295 1552.49,719.903 1552.84,718.514 1553.19,717.125 1553.55,715.738 1553.9,714.353 1554.25,712.969 1554.6,711.587 1554.95,710.207 1555.3,708.827 1555.65,707.45 1556,706.074 1556.35,704.699 1556.7,703.326 1557.05,701.954 1557.4,700.584 1557.75,699.216 1558.1,697.849 1558.45,696.484 1558.8,695.12 1559.15,693.757 1559.5,692.396 1559.86,691.037 1560.21,689.679 1560.56,688.323 1560.91,686.968 1561.26,685.615 1561.61,684.263 1561.96,682.913 1562.31,681.564 1562.66,680.217 1563.01,678.872 1563.36,677.528 1563.71,676.185 1564.06,674.844 1564.41,673.505 1564.76,672.167 1565.11,670.83 1565.46,669.495 1565.81,668.162 1566.16,666.83 1566.52,665.5 1566.87,664.171 1567.22,662.844 1567.57,661.518 1567.92,660.194 1568.27,658.871 1568.62,657.55 1568.97,656.23 1569.32,654.912 1569.67,653.595 1570.02,652.28 1570.37,650.967 1570.72,649.655 1571.07,648.344 1571.42,647.035 1571.77,645.728 1572.12,644.422 1572.47,643.117 1572.83,641.814 1573.18,640.513 1573.53,639.213 1573.88,637.915 1574.23,636.618 1574.58,635.323 1574.93,634.029 1575.28,632.737 1575.63,631.446 1575.98,630.157 1576.33,628.87 1576.68,627.583 1577.03,626.299 1577.38,625.016 1577.73,623.734 1578.08,622.454 1578.43,621.176 1578.78,619.899 1579.13,618.624 1579.49,617.35 1579.84,616.077 1580.19,614.806 1580.54,613.537 1580.89,612.269 1581.24,611.003 1581.59,609.738 1581.94,608.475 1582.29,607.213 1582.64,605.953 1582.99,604.695 1583.34,603.438 1583.69,602.182 1584.04,600.928 1584.39,599.675 1584.74,598.424 1585.09,597.175 1585.44,595.927 1585.8,594.681 1586.15,593.436 1586.5,592.192 1586.85,590.95 1587.2,589.71 1587.55,588.471 1587.9,587.234 1588.25,585.998 1588.6,584.764 1588.95,583.531 1589.3,582.3 1589.65,581.071 1590,579.842 1590.35,578.616 1590.7,577.391 1591.05,576.167 1591.4,574.945 1591.75,573.725 1592.1,572.506 1592.46,571.288 1592.81,570.072 1593.16,568.858 1593.51,567.645 1593.86,566.434 1594.21,565.224 1594.56,564.016 1594.91,562.809 1595.26,561.604 1595.61,560.4 1595.96,559.198 1596.31,557.997 1596.66,556.798 1597.01,555.601 1597.36,554.404 1597.71,553.21 1598.06,552.017 1598.41,550.825 1598.77,549.635 1599.12,548.447 1599.47,547.26 1599.82,546.075 1600.17,544.891 1600.52,543.708 1600.87,542.528 1601.22,541.348 1601.57,540.171 1601.92,538.994 1602.27,537.82 1602.62,536.646 1602.97,535.475 1603.32,534.305 1603.67,533.136 1604.02,531.969 1604.37,530.803 1604.72,529.639 1605.07,528.477 1605.43,527.316 1605.78,526.156 1606.13,524.998 1606.48,523.842 1606.83,522.687 1607.18,521.534 1607.53,520.382 1607.88,519.232 1608.23,518.083 1608.58,516.936 1608.93,515.79 1609.28,514.646 1609.63,513.503 1609.98,512.362 1610.33,511.222 1610.68,510.084 1611.03,508.948 1611.38,507.813 1611.74,506.679 1612.09,505.547 1612.44,504.417 1612.79,503.288 1613.14,502.16 1613.49,501.034 1613.84,499.91 1614.19,498.787 1614.54,497.666 1614.89,496.546 1615.24,495.428 1615.59,494.311 1615.94,493.196 1616.29,492.082 1616.64,490.97 1616.99,489.859 1617.34,488.75 1617.69,487.643 1618.04,486.537 1618.4,485.432 1618.75,484.329 1619.1,483.228 1619.45,482.128 1619.8,481.029 1620.15,479.932 1620.5,478.837 1620.85,477.743 1621.2,476.651 1621.55,475.56 1621.9,474.471 1622.25,473.383 1622.6,472.297 1622.95,471.212 1623.3,470.129 1623.65,469.047 1624,467.967 1624.35,466.888 1624.71,465.811 1625.06,464.736 1625.41,463.662 1625.76,462.589 1626.11,461.518 1626.46,460.449 1626.81,459.381 1627.16,458.315 1627.51,457.25 1627.86,456.186 1628.21,455.125 1628.56,454.064 1628.91,453.006 1629.26,451.948 1629.61,450.893 1629.96,449.838 1630.31,448.786 1630.66,447.735 1631.01,446.685 1631.37,445.637 1631.72,444.59 1632.07,443.545 1632.42,442.502 1632.77,441.46 1633.12,440.42 1633.47,439.381 1633.82,438.343 1634.17,437.307 1634.52,436.273 1634.87,435.24 1635.22,434.209 1635.57,433.179 1635.92,432.151 1636.27,431.124 1636.62,430.099 1636.97,429.075 1637.32,428.053 1637.68,427.033 1638.03,426.013 1638.38,424.996 1638.73,423.98 1639.08,422.965 1639.43,421.952 1639.78,420.941 1640.13,419.931 1640.48,418.923 1640.83,417.916 1641.18,416.91 1641.53,415.906 1641.88,414.904 1642.23,413.903 1642.58,412.904 1642.93,411.906 1643.28,410.91 1643.63,409.916 1643.98,408.922 1644.34,407.931 1644.69,406.941 1645.04,405.952 1645.39,404.965 1645.74,403.98 1646.09,402.996 1646.44,402.013 1646.79,401.032 1647.14,400.053 1647.49,399.075 1647.84,398.098 1648.19,397.124 1648.54,396.15 1648.89,395.178 1649.24,394.208 1649.59,393.239 1649.94,392.272 1650.29,391.307 1650.65,390.342 1651,389.38 1651.35,388.419 1651.7,387.459 1652.05,386.501 1652.4,385.545 1652.75,384.589 1653.1,383.636 1653.45,382.684 1653.8,381.734 1654.15,380.785 1654.5,379.837 1654.85,378.891 1655.2,377.947 1655.55,377.004 1655.9,376.063 1656.25,375.123 1656.6,374.185 1656.95,373.248 1657.31,372.313 1657.66,371.38 1658.01,370.447 1658.36,369.517 1658.71,368.588 1659.06,367.66 1659.41,366.734 1659.76,365.81 1660.11,364.887 1660.46,363.965 1660.81,363.045 1661.16,362.127 1661.51,361.21 1661.86,360.295 1662.21,359.381 1662.56,358.469 1662.91,357.558 1663.26,356.649 1663.62,355.741 1663.97,354.835 1664.32,353.93 1664.67,353.027 1665.02,352.125 1665.37,351.225 1665.72,350.327 1666.07,349.43 1666.42,348.534 1666.77,347.64 1667.12,346.748 1667.47,345.857 1667.82,344.968 1668.17,344.08 1668.52,343.193 1668.87,342.309 1669.22,341.425 1669.57,340.543 1669.92,339.663 1670.28,338.784 1670.63,337.907 1670.98,337.032 1671.33,336.157 1671.68,335.285 1672.03,334.414 1672.38,333.544 1672.73,332.676 1673.08,331.81 1673.43,330.945 1673.78,330.081 1674.13,329.219 1674.48,328.359 1674.83,327.5 1675.18,326.643 1675.53,325.787 1675.88,324.932 1676.23,324.08 1676.59,323.228 1676.94,322.379 1677.29,321.531 1677.64,320.684 1677.99,319.839 1678.34,318.995 1678.69,318.153 1679.04,317.312 1679.39,316.473 1679.74,315.636 1680.09,314.8 1680.44,313.965 1680.79,313.132 1681.14,312.301 1681.49,311.471 1681.84,310.643 1682.19,309.816 1682.54,308.991 1682.89,308.167 1683.25,307.344 1683.6,306.524 1683.95,305.705 1684.3,304.887 1684.65,304.071 1685,303.256 1685.35,302.443 1685.7,301.631 1686.05,300.821 1686.4,300.013 1686.75,299.206 1687.1,298.4 1687.45,297.596 1687.8,296.794 1688.15,295.993 1688.5,295.194 1688.85,294.396 1689.2,293.599 1689.56,292.805 1689.91,292.011 1690.26,291.22 1690.61,290.429 1690.96,289.641 1691.31,288.853 1691.66,288.068 1692.01,287.284 1692.36,286.501 1692.71,285.72 1693.06,284.941 1693.41,284.162 1693.76,283.386 1694.11,282.611 1694.46,281.838 1694.81,281.066 1695.16,280.295 1695.51,279.526 1695.86,278.759 1696.22,277.993 1696.57,277.229 1696.92,276.466 1697.27,275.705 1697.62,274.945 1697.97,274.187 1698.32,273.43 1698.67,272.675 1699.02,271.922 1699.37,271.17 1699.72,270.419 1700.07,269.67 1700.42,268.923 1700.77,268.177 1701.12,267.432 1701.47,266.689 1701.82,265.948 1702.17,265.208 1702.53,264.47 1702.88,263.733 1703.23,262.997 1703.58,262.264 1703.93,261.531 1704.28,260.801 1704.63,260.071 1704.98,259.344 1705.33,258.618 1705.68,257.893 1706.03,257.17 1706.38,256.448 1706.73,255.728 1707.08,255.01 1707.43,254.293 1707.78,253.577 1708.13,252.863 1708.48,252.151 1708.83,251.44 1709.19,250.731 1709.54,250.023 1709.89,249.317 1710.24,248.612 1710.59,247.909 1710.94,247.207 1711.29,246.507 1711.64,245.808 1711.99,245.111 1712.34,244.415 1712.69,243.721 1713.04,243.028 1713.39,242.337 1713.74,241.648 1714.09,240.96 1714.44,240.273 1714.79,239.588 1715.14,238.905 1715.5,238.223 1715.85,237.543 1716.2,236.864 1716.55,236.187 1716.9,235.511 1717.25,234.837 1717.6,234.164 1717.95,233.493 1718.3,232.823 1718.65,232.155 1719,231.488 1719.35,230.823 1719.7,230.159 1720.05,229.497 1720.4,228.837 1720.75,228.178 1721.1,227.52 1721.45,226.864 1721.8,226.21 1722.16,225.557 1722.51,224.906 1722.86,224.256 1723.21,223.607 1723.56,222.961 1723.91,222.315 1724.26,221.672 1724.61,221.029 1724.96,220.389 1725.31,219.75 1725.66,219.112 1726.01,218.476 1726.36,217.841 1726.71,217.208 1727.06,216.577 1727.41,215.947 1727.76,215.318 1728.11,214.691 1728.46,214.066 1728.82,213.442 1729.17,212.819 1729.52,212.198 1729.87,211.579 1730.22,210.961 1730.57,210.345 1730.92,209.73 1731.27,209.117 1731.62,208.505 1731.97,207.895 1732.32,207.286 1732.67,206.679 1733.02,206.074 1733.37,205.47 1733.72,204.867 1734.07,204.266 1734.42,203.666 1734.77,203.069 1735.13,202.472 1735.48,201.877 1735.83,201.284 1736.18,200.692 1736.53,200.101 1736.88,199.513 1737.23,198.925 1737.58,198.34 1737.93,197.755 1738.28,197.173 1738.63,196.591 1738.98,196.012 1739.33,195.434 1739.68,194.857 1740.03,194.282 1740.38,193.708 1740.73,193.136 1741.08,192.566 1741.43,191.997 1741.79,191.429 1742.14,190.863 1742.49,190.299 1742.84,189.736 1743.19,189.175 1743.54,188.615 1743.89,188.057 1744.24,187.5 1744.59,186.945 1744.94,186.391 1745.29,185.839 1745.64,185.288 1745.99,184.739 1746.34,184.191 1746.69,183.645 1747.04,183.1 1747.39,182.557 1747.74,182.016 1748.1,181.476 1748.45,180.937 1748.8,180.4 1749.15,179.865 1749.5,179.331 1749.85,178.799 1750.2,178.268 1750.55,177.739 1750.9,177.211 1751.25,176.684 1751.6,176.16 1751.95,175.637 1752.3,175.115 1752.65,174.595 1753,174.076 1753.35,173.559 1753.7,173.043 1754.05,172.529 1754.4,172.017 1754.76,171.506 1755.11,170.996 1755.46,170.488 1755.81,169.982 1756.16,169.477 1756.51,168.974 1756.86,168.472 1757.21,167.971 1757.56,167.473 1757.91,166.975 1758.26,166.479 1758.61,165.985 1758.96,165.493 1759.31,165.001 1759.66,164.512 1760.01,164.024 1760.36,163.537 1760.71,163.052 1761.07,162.568 1761.42,162.086 1761.77,161.606 1762.12,161.127 1762.47,160.649 1762.82,160.173 1763.17,159.699 1763.52,159.226 1763.87,158.755 1764.22,158.285 1764.57,157.817 1764.92,157.35 1765.27,156.885 1765.62,156.421 1765.97,155.959 1766.32,155.498 1766.67,155.039 1767.02,154.581 1767.37,154.125 1767.73,153.671 1768.08,153.218 1768.43,152.766 1768.78,152.316 1769.13,151.868 1769.48,151.421 1769.83,150.975 1770.18,150.532 1770.53,150.089 1770.88,149.648 1771.23,149.209 1771.58,148.771 1771.93,148.335 1772.28,147.9 1772.63,147.467 1772.98,147.036 1773.33,146.605 1773.68,146.177 1774.04,145.75 1774.39,145.324 1774.74,144.9 1775.09,144.478 1775.44,144.057 1775.79,143.637 1776.14,143.219 1776.49,142.803 1776.84,142.388 1777.19,141.974 1777.54,141.563 1777.89,141.152 1778.24,140.743 1778.59,140.336 1778.94,139.93 1779.29,139.526 1779.64,139.124 1779.99,138.722 1780.34,138.323 1780.7,137.925 1781.05,137.528 1781.4,137.133 1781.75,136.74 1782.1,136.348 1782.45,135.957 1782.8,135.568 1783.15,135.181 1783.5,134.795 1783.85,134.41 1784.2,134.028 1784.55,133.646 1784.9,133.266 1785.25,132.888 1785.6,132.511 1785.95,132.136 1786.3,131.762 1786.65,131.39 1787.01,131.02 1787.36,130.651 1787.71,130.283 1788.06,129.917 1788.41,129.552 1788.76,129.189 1789.11,128.828 1789.46,128.468 1789.81,128.109 1790.16,127.753 1790.51,127.397 1790.86,127.043 1791.21,126.691 1791.56,126.34 1791.91,125.991 1792.26,125.643 1792.61,125.297 1792.96,124.952 1793.31,124.609 1793.67,124.267 1794.02,123.927 1794.37,123.589 1794.72,123.252 1795.07,122.916 1795.42,122.582 1795.77,122.249 1796.12,121.918 1796.47,121.589 1796.82,121.261 1797.17,120.935 1797.52,120.61 1797.87,120.287 1798.22,119.965 1798.57,119.644 1798.92,119.326 1799.27,119.008 1799.62,118.693 1799.98,118.378 1800.33,118.066 1800.68,117.755 1801.03,117.445 1801.38,117.137 1801.73,116.83 1802.08,116.525 1802.43,116.222 1802.78,115.92 1803.13,115.619 1803.48,115.32 1803.83,115.023 1804.18,114.727 1804.53,114.433 1804.88,114.14 1805.23,113.849 1805.58,113.559 1805.93,113.271 1806.28,112.984 1806.64,112.699 1806.99,112.415 1807.34,112.133 1807.69,111.852 1808.04,111.573 1808.39,111.296 1808.74,111.02 1809.09,110.745 1809.44,110.472 1809.79,110.201 1810.14,109.931 1810.49,109.662 1810.84,109.395 1811.19,109.13 1811.54,108.866 1811.89,108.604 1812.24,108.343 1812.59,108.084 1812.95,107.826 1813.3,107.57 1813.65,107.315 1814,107.062 1814.35,106.81 1814.7,106.56 1815.05,106.312 1815.4,106.065 1815.75,105.819 1816.1,105.575 1816.45,105.333 1816.8,105.092 1817.15,104.852 1817.5,104.614 1817.85,104.378 1818.2,104.143 1818.55,103.91 1818.9,103.678 1819.25,103.448 1819.61,103.219 1819.96,102.992 1820.31,102.766 1820.66,102.542 1821.01,102.319 1821.36,102.098 1821.71,101.878 1822.06,101.66 1822.41,101.444 1822.76,101.229 1823.11,101.015 1823.46,100.803 1823.81,100.593 1824.16,100.384 1824.51,100.177 1824.86,99.9708 1825.21,99.7664 1825.56,99.5636 1825.92,99.3623 1826.27,99.1626 1826.62,98.9643 1826.97,98.7676 1827.32,98.5725 1827.67,98.3788 1828.02,98.1867 1828.37,97.9961 1828.72,97.807 1829.07,97.6194 1829.42,97.4334 1829.77,97.2489 1830.12,97.0659 1830.47,96.8845 1830.82,96.7046 1831.17,96.5262 1831.52,96.3493 1831.87,96.1739 1832.22,96.0001 1832.58,95.8278 1832.93,95.657 1833.28,95.4878 1833.63,95.3201 1833.98,95.1539 1834.33,94.9892 1834.68,94.8261 1835.03,94.6645 1835.38,94.5044 1835.73,94.3458 1836.08,94.1888 1836.43,94.0333 1836.78,93.8793 1837.13,93.7268 1837.48,93.5759 1837.83,93.4265 1838.18,93.2786 1838.53,93.1322 1838.89,92.9874 1839.24,92.8441 1839.59,92.7023 1839.94,92.5621 1840.29,92.4233 1840.64,92.2861 1840.99,92.1505 1841.34,92.0163 1841.69,91.8837 1842.04,91.7526 1842.39,91.623 1842.74,91.4949 1843.09,91.3684 1843.44,91.2434 1843.79,91.12 1844.14,90.998 1844.49,90.8776 1844.84,90.7587 1845.19,90.6413 1845.55,90.5255 1845.9,90.4112 1846.25,90.2984 1846.6,90.1871 1846.95,90.0774 1847.3,89.9692 1847.65,89.8625 1848,89.7573 1848.35,89.6537 1848.7,89.5516 1849.05,89.451 1849.4,89.3519 1849.75,89.2544 1850.1,89.1584 1850.45,89.0639 1850.8,88.9709 1851.15,88.8795 1851.5,88.7896 1851.86,88.7012 1852.21,88.6144 1852.56,88.529 1852.91,88.4452 1853.26,88.363 1853.61,88.2822 1853.96,88.203 1854.31,88.1253 1854.66,88.0491 1855.01,87.9745 1855.36,87.9013 1855.71,87.8297 1856.06,87.7597 1856.41,87.6911 1856.76,87.6241 1857.11,87.5586 1857.46,87.4947 1857.81,87.4322 1858.16,87.3713 1858.52,87.3119 1858.87,87.254 1859.22,87.1977 1859.57,87.1429 1859.92,87.0896 1860.27,87.0378 1860.62,86.9876 1860.97,86.9389 1861.32,86.8917 1861.67,86.8461 1862.02,86.8019 1862.37,86.7593 1862.72,86.7182 1863.07,86.6787 1863.42,86.6407 1863.77,86.6041 1864.12,86.5692 1864.47,86.5357 1864.83,86.5038 1865.18,86.4734 1865.53,86.4445 1865.88,86.4172 1866.23,86.3913 1866.58,86.367 1866.93,86.3443 1867.28,86.323 1867.63,86.3033 1867.98,86.2851 1868.33,86.2684 1868.68,86.2533 1869.03,86.2397 1869.38,86.2276 1869.73,86.217 1870.08,86.208 1870.43,86.2005 1870.78,86.1945 1871.13,86.19 1871.49,86.1871 1871.84,86.1857 1872.19,86.1858 1872.54,86.1874 1872.89,86.1906 1873.24,86.1953 1873.59,86.2015 1873.94,86.2092 1874.29,86.2185 1874.64,86.2293 1874.99,86.2416 1875.34,86.2555 1875.69,86.2708 1876.04,86.2877 1876.39,86.3062 1876.74,86.3261 1877.09,86.3476 1877.44,86.3706 1877.8,86.3951 1878.15,86.4212 1878.5,86.4487 1878.85,86.4779 1879.2,86.5085 1879.55,86.5406 1879.9,86.5743 1880.25,86.6095 1880.6,86.6463 1880.95,86.6845 1881.3,86.7243 1881.65,86.7656 1882,86.8084 1882.35,86.8528 1882.7,86.8987 1883.05,86.9461 1883.4,86.995 1883.75,87.0455 1884.1,87.0975 1884.46,87.151 1884.81,87.2061 1885.16,87.2626 1885.51,87.3207 1885.86,87.3803 1886.21,87.4415 1886.56,87.5042 1886.91,87.5683 1887.26,87.6341 1887.61,87.7013 1887.96,87.7701 1888.31,87.8404 1888.66,87.9122 1889.01,87.9856 1889.36,88.0604 1889.71,88.1368 1890.06,88.2148 1890.41,88.2942 1890.77,88.3752 1891.12,88.4577 1891.47,88.5417 1891.82,88.6273 1892.17,88.7144 1892.52,88.803 1892.87,88.8931 1893.22,88.9848 1893.57,89.078 1893.92,89.1727 1894.27,89.2689 1894.62,89.3667 1894.97,89.466 1895.32,89.5668 1895.67,89.6691 1896.02,89.773 1896.37,89.8784 1896.72,89.9853 1897.07,90.0937 1897.43,90.2037 1897.78,90.3152 1898.13,90.4282 1898.48,90.5428 1898.83,90.6588 1899.18,90.7764 1899.53,90.8956 1899.88,91.0162 1900.23,91.1384 1900.58,91.2621 1900.93,91.3873 1901.28,91.5141 1901.63,91.6423 1901.98,91.7721 1902.33,91.9035 1902.68,92.0363 1903.03,92.1707 1903.38,92.3066 1903.74,92.444 1904.09,92.583 1904.44,92.7235 1904.79,92.8655 1905.14,93.009 1905.49,93.1541 1905.84,93.3007 1906.19,93.4488 1906.54,93.5984 1906.89,93.7496 1907.24,93.9023 1907.59,94.0565 1907.94,94.2122 1908.29,94.3695 1908.64,94.5283 1908.99,94.6886 1909.34,94.8505 1909.69,95.0138 1910.04,95.1787 1910.4,95.3451 1910.75,95.5131 1911.1,95.6826 1911.45,95.8536 1911.8,96.0261 1912.15,96.2001 1912.5,96.3757 1912.85,96.5528 1913.2,96.7314 1913.55,96.9116 1913.9,97.0933 1914.25,97.2765 1914.6,97.4612 1914.95,97.6475 1915.3,97.8352 1915.65,98.0246 1916,98.2154 1916.35,98.4077 1916.71,98.6016 1917.06,98.797 1917.41,98.994 1917.76,99.1924 1918.11,99.3924 1918.46,99.5939 1918.81,99.797 1919.16,100.002 1919.51,100.208 1919.86,100.415 1920.21,100.624 1920.56,100.835 1920.91,101.047 1921.26,101.261 1921.61,101.476 1921.96,101.693 1922.31,101.911 1922.66,102.131 1923.01,102.352 1923.37,102.575 1923.72,102.8 1924.07,103.026 1924.42,103.253 1924.77,103.482 1925.12,103.713 1925.47,103.945 1925.82,104.178 1926.17,104.413 1926.52,104.65 1926.87,104.888 1927.22,105.128 1927.57,105.369 1927.92,105.612 1928.27,105.856 1928.62,106.102 1928.97,106.349 1929.32,106.598 1929.68,106.848 1930.03,107.1 1930.38,107.353 1930.73,107.608 1931.08,107.865 1931.43,108.123 1931.78,108.382 1932.13,108.643 1932.48,108.906 1932.83,109.17 1933.18,109.435 1933.53,109.702 1933.88,109.971 1934.23,110.241 1934.58,110.513 1934.93,110.786 1935.28,111.061 1935.63,111.337 1935.98,111.615 1936.34,111.894 1936.69,112.175 1937.04,112.458 1937.39,112.741 1937.74,113.027 1938.09,113.314 1938.44,113.602 1938.79,113.892 1939.14,114.184 1939.49,114.477 1939.84,114.771 1940.19,115.068 1940.54,115.365 1940.89,115.664 1941.24,115.965 1941.59,116.267 1941.94,116.571 1942.29,116.876 1942.65,117.183 1943,117.491 1943.35,117.801 1943.7,118.113 1944.05,118.426 1944.4,118.74 1944.75,119.056 1945.1,119.373 1945.45,119.692 1945.8,120.013 1946.15,120.335 1946.5,120.658 1946.85,120.984 1947.2,121.31 1947.55,121.638 1947.9,121.968 1948.25,122.299 1948.6,122.632 1948.95,122.966 1949.31,123.302 1949.66,123.639 1950.01,123.978 1950.36,124.318 1950.71,124.66 1951.06,125.004 1951.41,125.349 1951.76,125.695 1952.11,126.043 1952.46,126.393 1952.81,126.744 1953.16,127.096 1953.51,127.45 1953.86,127.806 1954.21,128.163 1954.56,128.522 1954.91,128.882 1955.26,129.244 1955.61,129.607 1955.97,129.972 1956.32,130.338 1956.67,130.706 1957.02,131.075 1957.37,131.446 1957.72,131.818 1958.07,132.192 1958.42,132.568 1958.77,132.945 1959.12,133.323 1959.47,133.703 1959.82,134.085 1960.17,134.468 1960.52,134.853 1960.87,135.239 1961.22,135.626 1961.57,136.016 1961.92,136.406 1962.28,136.798 1962.63,137.192 1962.98,137.588 1963.33,137.984 1963.68,138.383 1964.03,138.783 1964.38,139.184 1964.73,139.587 1965.08,139.991 1965.43,140.397 1965.78,140.805 1966.13,141.214 1966.48,141.624 1966.83,142.036 1967.18,142.45 1967.53,142.865 1967.88,143.282 1968.23,143.7 1968.58,144.12 1968.94,144.541 1969.29,144.964 1969.64,145.388 1969.99,145.814 1970.34,146.241 1970.69,146.67 1971.04,147.1 1971.39,147.532 1971.74,147.965 1972.09,148.4 1972.44,148.837 1972.79,149.275 1973.14,149.714 1973.49,150.156 1973.84,150.598 1974.19,151.042 1974.54,151.488 1974.89,151.935 1975.25,152.384 1975.6,152.834 1975.95,153.286 1976.3,153.739 1976.65,154.194 1977,154.65 1977.35,155.108 1977.7,155.567 1978.05,156.028 1978.4,156.491 1978.75,156.954 1979.1,157.42 1979.45,157.887 1979.8,158.355 1980.15,158.825 1980.5,159.297 1980.85,159.77 1981.2,160.245 1981.55,160.721 1981.91,161.199 1982.26,161.678 1982.61,162.159 1982.96,162.641 1983.31,163.125 1983.66,163.61 1984.01,164.097 1984.36,164.585 1984.71,165.075 1985.06,165.566 1985.41,166.059 1985.76,166.554 1986.11,167.05 1986.46,167.547 1986.81,168.046 1987.16,168.547 1987.51,169.049 1987.86,169.553 1988.22,170.058 1988.57,170.564 1988.92,171.073 1989.27,171.582 1989.62,172.093 1989.97,172.606 1990.32,173.121 1990.67,173.636 1991.02,174.154 1991.37,174.673 1991.72,175.193 1992.07,175.715 1992.42,176.238 1992.77,176.763 1993.12,177.29 1993.47,177.818 1993.82,178.347 1994.17,178.878 1994.52,179.411 1994.88,179.945 1995.23,180.481 1995.58,181.018 1995.93,181.557 1996.28,182.097 1996.63,182.639 1996.98,183.182 1997.33,183.727 1997.68,184.273 1998.03,184.821 1998.38,185.37 1998.73,185.921 1999.08,186.474 1999.43,187.028 1999.78,187.583 2000.13,188.14 2000.48,188.699 2000.83,189.259 2001.19,189.82 2001.54,190.384 2001.89,190.948 2002.24,191.514 2002.59,192.082 2002.94,192.651 2003.29,193.222 2003.64,193.794 2003.99,194.368 2004.34,194.943 2004.69,195.52 2005.04,196.099 2005.39,196.678 2005.74,197.26 2006.09,197.843 2006.44,198.427 2006.79,199.013 2007.14,199.601 2007.49,200.19 2007.85,200.781 2008.2,201.373 2008.55,201.966 2008.9,202.561 2009.25,203.158 2009.6,203.756 2009.95,204.356 2010.3,204.957 2010.65,205.56 2011,206.164 2011.35,206.77 2011.7,207.378 2012.05,207.986 2012.4,208.597 2012.75,209.209 2013.1,209.822 2013.45,210.437 2013.8,211.054 2014.16,211.672 2014.51,212.291 2014.86,212.913 2015.21,213.535 2015.56,214.159 2015.91,214.785 2016.26,215.412 2016.61,216.041 2016.96,216.671 2017.31,217.303 2017.66,217.936 2018.01,218.571 2018.36,219.207 2018.71,219.845 2019.06,220.485 2019.41,221.126 2019.76,221.768 2020.11,222.412 2020.46,223.058 2020.82,223.705 2021.17,224.353 2021.52,225.003 2021.87,225.655 2022.22,226.308 2022.57,226.963 2022.92,227.619 2023.27,228.277 2023.62,228.936 2023.97,229.597 2024.32,230.259 2024.67,230.923 2025.02,231.588 2025.37,232.255 2025.72,232.923 2026.07,233.593 2026.42,234.265 2026.77,234.938 2027.13,235.612 2027.48,236.288 2027.83,236.966 2028.18,237.645 2028.53,238.325 2028.88,239.007 2029.23,239.691 2029.58,240.376 2029.93,241.063 2030.28,241.751 2030.63,242.441 2030.98,243.132 2031.33,243.825 2031.68,244.519 2032.03,245.215 2032.38,245.913 2032.73,246.612 2033.08,247.312 2033.43,248.014 2033.79,248.717 2034.14,249.422 2034.49,250.129 2034.84,250.837 2035.19,251.547 2035.54,252.258 2035.89,252.97 2036.24,253.685 2036.59,254.4 2036.94,255.117 2037.29,255.836 2037.64,256.556 2037.99,257.278 2038.34,258.002 2038.69,258.726 2039.04,259.453 2039.39,260.181 2039.74,260.91 2040.1,261.641 2040.45,262.374 2040.8,263.108 2041.15,263.843 2041.5,264.58 2041.85,265.319 2042.2,266.059 2042.55,266.8 2042.9,267.544 2043.25,268.288 2043.6,269.035 2043.95,269.782 2044.3,270.532 2044.65,271.282 2045,272.035 2045.35,272.788 2045.7,273.544 2046.05,274.301 2046.4,275.059 2046.76,275.819 2047.11,276.581 2047.46,277.344 2047.81,278.108 2048.16,278.874 2048.51,279.642 2048.86,280.411 2049.21,281.181 2049.56,281.953 2049.91,282.727 2050.26,283.502 2050.61,284.279 2050.96,285.057 2051.31,285.837 2051.66,286.618 2052.01,287.401 2052.36,288.186 2052.71,288.971 2053.07,289.759 2053.42,290.548 2053.77,291.338 2054.12,292.13 2054.47,292.924 2054.82,293.719 2055.17,294.515 2055.52,295.313 2055.87,296.113 2056.22,296.914 2056.57,297.717 2056.92,298.521 2057.27,299.327 2057.62,300.134 2057.97,300.943 2058.32,301.753 2058.67,302.565 2059.02,303.378 2059.37,304.193 2059.73,305.009 2060.08,305.827 2060.43,306.647 2060.78,307.468 2061.13,308.29 2061.48,309.114 2061.83,309.94 2062.18,310.767 2062.53,311.595 2062.88,312.426 2063.23,313.257 2063.58,314.09 2063.93,314.925 2064.28,315.761 2064.63,316.599 2064.98,317.438 2065.33,318.279 2065.68,319.122 2066.04,319.965 2066.39,320.811 2066.74,321.658 2067.09,322.506 2067.44,323.356 2067.79,324.208 2068.14,325.061 2068.49,325.915 2068.84,326.771 2069.19,327.629 2069.54,328.488 2069.89,329.348 2070.24,330.211 2070.59,331.074 2070.94,331.94 2071.29,332.806 2071.64,333.675 2071.99,334.544 2072.34,335.416 2072.7,336.289 2073.05,337.163 2073.4,338.039 2073.75,338.916 2074.1,339.795 2074.45,340.676 2074.8,341.558 2075.15,342.441 2075.5,343.326 2075.85,344.213 2076.2,345.101 2076.55,345.991 2076.9,346.882 2077.25,347.774 2077.6,348.669 2077.95,349.564 2078.3,350.462 2078.65,351.36 2079.01,352.261 2079.36,353.162 2079.71,354.066 2080.06,354.971 2080.41,355.877 2080.76,356.785 2081.11,357.695 2081.46,358.606 2081.81,359.518 2082.16,360.432 2082.51,361.348 2082.86,362.265 2083.21,363.183 2083.56,364.103 2083.91,365.025 2084.26,365.948 2084.61,366.873 2084.96,367.799 2085.31,368.727 2085.67,369.656 2086.02,370.587 2086.37,371.52 2086.72,372.453 2087.07,373.389 2087.42,374.326 2087.77,375.264 2088.12,376.204 2088.47,377.146 2088.82,378.089 2089.17,379.033 2089.52,379.979 2089.87,380.927 2090.22,381.876 2090.57,382.827 2090.92,383.779 2091.27,384.733 2091.62,385.688 2091.98,386.645 2092.33,387.603 2092.68,388.563 2093.03,389.524 2093.38,390.487 2093.73,391.451 2094.08,392.417 2094.43,393.385 2094.78,394.354 2095.13,395.324 2095.48,396.296 2095.83,397.27 2096.18,398.245 2096.53,399.221 2096.88,400.199 2097.23,401.179 2097.58,402.16 2097.93,403.143 2098.28,404.127 2098.64,405.113 2098.99,406.1 2099.34,407.089 2099.69,408.079 2100.04,409.071 2100.39,410.065 2100.74,411.06 2101.09,412.056 2101.44,413.054 2101.79,414.053 2102.14,415.054 2102.49,416.057 2102.84,417.061 2103.19,418.067 2103.54,419.074 2103.89,420.082 2104.24,421.093 2104.59,422.104 2104.95,423.117 2105.3,424.132 2105.65,425.148 2106,426.166 2106.35,427.186 2106.7,428.206 2107.05,429.229 2107.4,430.253 2107.75,431.278 2108.1,432.305 2108.45,433.333 2108.8,434.363 2109.15,435.395 2109.5,436.428 2109.85,437.463 2110.2,438.499 2110.55,439.536 2110.9,440.575 2111.25,441.616 2111.61,442.658 2111.96,443.702 2112.31,444.747 2112.66,445.794 2113.01,446.842 2113.36,447.892 2113.71,448.944 2114.06,449.997 2114.41,451.051 2114.76,452.107 2115.11,453.164 2115.46,454.223 2115.81,455.284 2116.16,456.346 2116.51,457.409 2116.86,458.475 2117.21,459.541 2117.56,460.609 2117.92,461.679 2118.27,462.75 2118.62,463.823 2118.97,464.897 2119.32,465.973 2119.67,467.05 2120.02,468.129 2120.37,469.209 2120.72,470.291 2121.07,471.375 2121.42,472.46 2121.77,473.546 2122.12,474.634 2122.47,475.723 2122.82,476.814 2123.17,477.907 2123.52,479.001 2123.87,480.097 2124.22,481.194 2124.58,482.292 2124.93,483.393 2125.28,484.494 2125.63,485.598 2125.98,486.702 2126.33,487.809 2126.68,488.916 2127.03,490.026 2127.38,491.137 2127.73,492.249 2128.08,493.363 2128.43,494.478 2128.78,495.595 2129.13,496.714 2129.48,497.834 2129.83,498.955 2130.18,500.078 2130.53,501.203 2130.89,502.329 2131.24,503.457 2131.59,504.586 2131.94,505.717 2132.29,506.849 2132.64,507.983 2132.99,509.118 2133.34,510.255 2133.69,511.393 2134.04,512.533 2134.39,513.674 2134.74,514.817 2135.09,515.962 2135.44,517.108 2135.79,518.255 2136.14,519.404 2136.49,520.555 2136.84,521.707 2137.19,522.86 2137.55,524.015 2137.9,525.172 2138.25,526.33 2138.6,527.49 2138.95,528.651 2139.3,529.814 2139.65,530.978 2140,532.144 2140.35,533.311 2140.7,534.48 2141.05,535.65 2141.4,536.822 2141.75,537.996 2142.1,539.171 2142.45,540.347 2142.8,541.525 2143.15,542.705 2143.5,543.886 2143.86,545.068 2144.21,546.252 2144.56,547.438 2144.91,548.625 2145.26,549.814 2145.61,551.004 2145.96,552.196 2146.31,553.389 2146.66,554.584 2147.01,555.78 2147.36,556.978 2147.71,558.177 2148.06,559.378 2148.41,560.581 2148.76,561.784 2149.11,562.99 2149.46,564.197 2149.81,565.405 2150.16,566.615 2150.52,567.827 2150.87,569.04 2151.22,570.255 2151.57,571.471 2151.92,572.689 2152.27,573.908 2152.62,575.128 2152.97,576.351 2153.32,577.574 2153.67,578.8 2154.02,580.027 2154.37,581.255 2154.72,582.485 2155.07,583.716 2155.42,584.949 2155.77,586.184 2156.12,587.42 2156.47,588.657 2156.83,589.896 2157.18,591.137 2157.53,592.379 2157.88,593.622 2158.23,594.867 2158.58,596.114 2158.93,597.362 2159.28,598.612 2159.63,599.863 2159.98,601.116 2160.33,602.37 2160.68,603.626 2161.03,604.883 2161.38,606.142 2161.73,607.403 2162.08,608.665 2162.43,609.928 2162.78,611.193 2163.13,612.459 2163.49,613.727 2163.84,614.997 2164.19,616.268 2164.54,617.541 2164.89,618.815 2165.24,620.09 2165.59,621.368 2165.94,622.646 2166.29,623.926 2166.64,625.208 2166.99,626.491 2167.34,627.776 2167.69,629.063 2168.04,630.35 2168.39,631.64 2168.74,632.931 2169.09,634.223 2169.44,635.517 2169.79,636.813 2170.15,638.11 2170.5,639.408 2170.85,640.708 2171.2,642.01 2171.55,643.313 2171.9,644.617 2172.25,645.924 2172.6,647.231 2172.95,648.541 2173.3,649.851 2173.65,651.164 2174,652.477 2174.35,653.793 2174.7,655.109 2175.05,656.428 2175.4,657.748 2175.75,659.069 2176.1,660.392 2176.46,661.717 2176.81,663.043 2177.16,664.37 2177.51,665.699 2177.86,667.03 2178.21,668.362 2178.56,669.695 2178.91,671.031 2179.26,672.367 2179.61,673.705 2179.96,675.045 2180.31,676.386 2180.66,677.729 2181.01,679.073 2181.36,680.419 2181.71,681.767 2182.06,683.116 2182.41,684.466 2182.76,685.818 2183.12,687.171 2183.47,688.526 2183.82,689.883 2184.17,691.241 2184.52,692.6 2184.87,693.962 2185.22,695.324 2185.57,696.688 2185.92,698.054 2186.27,699.421 2186.62,700.79 2186.97,702.16 2187.32,703.532 2187.67,704.905 2188.02,706.28 2188.37,707.656 2188.72,709.034 2189.07,710.414 2189.43,711.794 2189.78,713.177 2190.13,714.561 2190.48,715.946 2190.83,717.333 2191.18,718.722 2191.53,720.112 2191.88,721.504 2192.23,722.897 2192.58,724.291 2192.93,725.688 2193.28,727.085 2193.63,728.485 2193.98,729.885 2194.33,731.288 2194.68,732.691 2195.03,734.097 2195.38,735.504 2195.73,736.912 2196.09,738.322 2196.44,739.733 2196.79,741.146 2197.14,742.561 2197.49,743.977 2197.84,745.394 2198.19,746.813 2198.54,748.234 2198.89,749.656 2199.24,751.08 2199.59,752.505 2199.94,753.932 2200.29,755.36 2200.64,756.79 2200.99,758.221 2201.34,759.654 2201.69,761.088 2202.04,762.524 2202.4,763.961 2202.75,765.4 2203.1,766.84 2203.45,768.282 2203.8,769.726 2204.15,771.171 2204.5,772.617 2204.85,774.065 2205.2,775.515 2205.55,776.966 2205.9,778.419 2206.25,779.873 2206.6,781.329 2206.95,782.786 2207.3,784.245 2207.65,785.705 2208,787.167 2208.35,788.63 2208.7,790.095 2209.06,791.561 2209.41,793.029 2209.76,794.498 2210.11,795.969 2210.46,797.442 2210.81,798.916 2211.16,800.391 2211.51,801.868 2211.86,803.347 2212.21,804.827 2212.56,806.309 2212.91,807.792 2213.26,809.276 2213.61,810.763 2213.96,812.25 2214.31,813.74 2214.66,815.23 2215.01,816.723 2215.37,818.217 2215.72,819.712 2216.07,821.209 2216.42,822.707 2216.77,824.207 2217.12,825.709 2217.47,827.212 2217.82,828.716 2218.17,830.222 2218.52,831.73 2218.87,833.239 2219.22,834.749 2219.57,836.261 2219.92,837.775 2220.27,839.29 2220.62,840.807 2220.97,842.325 2221.32,843.845 2221.67,845.366 2222.03,846.889 2222.38,848.413 2222.73,849.939 2223.08,851.467 2223.43,852.996 2223.78,854.526 2224.13,856.058 2224.48,857.592 2224.83,859.127 2225.18,860.663 2225.53,862.201 2225.88,863.741 2226.23,865.282 2226.58,866.825 2226.93,868.369 2227.28,869.914 2227.63,871.462 2227.98,873.01 2228.34,874.561 2228.69,876.113 2229.04,877.666 2229.39,879.221 2229.74,880.777 2230.09,882.335 2230.44,883.894 2230.79,885.455 2231.14,887.018 2231.49,888.582 2231.84,890.147 2232.19,891.714 2232.54,893.283 2232.89,894.853 2233.24,896.425 2233.59,897.998 2233.94,899.573 2234.29,901.149 2234.64,902.727 2235,904.306 2235.35,905.887 2235.7,907.469 2236.05,909.053 2236.4,910.638 2236.75,912.225 2237.1,913.814 2237.45,915.404 2237.8,916.995 2238.15,918.588 2238.5,920.183 2238.85,921.779 2239.2,923.376 2239.55,924.975 2239.9,926.576 2240.25,928.178 2240.6,929.782 2240.95,931.387 2241.31,932.994 2241.66,934.602 2242.01,936.212 2242.36,937.823 2242.71,939.436 2243.06,941.05 2243.41,942.666 2243.76,944.283 2244.11,945.902 2244.46,947.523 2244.81,949.145 2245.16,950.768 2245.51,952.393 2245.86,954.02 2246.21,955.648 2246.56,957.278 2246.91,958.909 2247.26,960.542 2247.61,962.176 2247.97,963.811 2248.32,965.449 2248.67,967.087 2249.02,968.728 2249.37,970.37 2249.72,972.013 2250.07,973.658 2250.42,975.304 2250.77,976.952 2251.12,978.602 2251.47,980.253 2251.82,981.905 2252.17,983.559 2252.52,985.215 2252.87,986.872 2253.22,988.53 2253.57,990.19 2253.92,991.852 2254.28,993.515 2254.63,995.18 2254.98,996.846 2255.33,998.514 2255.68,1000.18 2256.03,1001.85 2256.38,1003.53 2256.73,1005.2 2257.08,1006.88 2257.43,1008.55 2257.78,1010.23 2258.13,1011.91 2258.48,1013.59 2258.83,1015.28 2259.18,1016.96 2259.53,1018.65 2259.88,1020.33 2260.23,1022.02 2260.58,1023.71 2260.94,1025.41 2261.29,1027.1 2261.64,1028.79 2261.99,1030.49 2262.34,1032.19 2262.69,1033.89 2263.04,1035.59 2263.39,1037.29 2263.74,1039 2264.09,1040.7 2264.44,1042.41 2264.79,1044.12 2265.14,1045.83 2265.49,1047.54 2265.84,1049.26 2266.19,1050.97 2266.54,1052.69 2266.89,1054.41 2267.25,1056.13 2267.6,1057.85 2267.95,1059.57 2268.3,1061.29 2268.65,1063.02 2269,1064.75 2269.35,1066.48 2269.7,1068.21 2270.05,1069.94 2270.4,1071.67 2270.75,1073.41 2271.1,1075.14 2271.45,1076.88 2271.8,1078.62 2272.15,1080.36 2272.5,1082.1 2272.85,1083.85 2273.2,1085.59 2273.55,1087.34 2273.91,1089.09 2274.26,1090.84 2274.61,1092.59 2274.96,1094.34 2275.31,1096.1 2275.66,1097.85 2276.01,1099.61 2276.36,1101.37 2276.71,1103.13 2277.06,1104.9 2277.41,1106.66 2277.76,1108.42 2278.11,1110.19 2278.46,1111.96 2278.81,1113.73 2279.16,1115.5 2279.51,1117.27 2279.86,1119.05 2280.22,1120.82 2280.57,1122.6 2280.92,1124.38 2281.27,1126.16 2281.62,1127.94 2281.97,1129.73 2282.32,1131.51 2282.67,1133.3 2283.02,1135.09 2283.37,1136.88 2283.72,1138.67 2284.07,1140.46 2284.42,1142.26 2284.77,1144.05 2285.12,1145.85 2285.47,1147.65 2285.82,1149.45 2286.17,1151.25 2286.52,1153.06 2286.88,1154.86 2287.23,1156.67 2287.58,1158.48 2287.93,1160.28 2288.28,1162.1 2288.63,1163.91 2288.98,1165.72 2289.33,1167.54 2289.68,1169.36 2290.03,1171.17 2290.38,1173 2290.73,1174.82 2291.08,1176.64 2291.43,1178.47 2291.78,1180.29 2292.13,1182.12 2292.48,1183.95 2292.83,1185.78 2293.19,1187.61 2293.54,1189.45 2293.89,1191.28 2294.24,1193.12 2294.59,1194.96 2294.94,1196.8 2295.29,1198.64 2295.64,1200.48 2295.99,1202.33 2296.34,1204.17 2296.69,1206.02 2297.04,1207.87 2297.39,1209.72 2297.74,1211.57 2298.09,1213.43 2298.44,1215.28 2298.79,1217.14 2299.14,1219 2299.49,1220.86 2299.85,1222.72 2300.2,1224.58 2300.55,1226.45 2300.9,1228.31 2301.25,1230.18 2301.6,1232.05 2301.95,1233.92 2302.3,1235.79 2302.65,1237.67 2303,1239.54 2303.35,1241.42 2303.7,1243.3 2304.05,1245.18 2304.4,1247.06 2304.75,1248.94 2305.1,1250.83 2305.45,1252.71 2305.8,1254.6 2306.16,1256.49 2306.51,1258.38 2306.86,1260.27 2307.21,1262.17 2307.56,1264.06 2307.91,1265.96 2308.26,1267.86 2308.61,1269.76 2308.96,1271.66 2309.31,1273.56 2309.66,1275.46 2310.01,1277.37 2310.36,1279.28 2310.71,1281.19 2311.06,1283.1 2311.41,1285.01 2311.76,1286.92 2312.11,1288.84 2312.46,1290.75 2312.82,1292.67 2313.17,1294.59 2313.52,1296.51 2313.87,1298.43 2314.22,1300.36 2314.57,1302.28 2314.92,1304.21 2315.27,1306.14 2315.62,1308.07 2315.97,1310 2316.32,1311.93 2316.67,1313.87 2317.02,1315.81 2317.37,1317.74 2317.72,1319.68 2318.07,1321.62 2318.42,1323.57 2318.77,1325.51 2319.13,1327.46 2319.48,1329.4 2319.83,1331.35 2320.18,1333.3 2320.53,1335.25 2320.88,1337.21 2321.23,1339.16 2321.58,1341.12 2321.93,1343.07 2322.28,1345.03 2322.63,1346.99 2322.98,1348.96 2323.33,1350.92 2323.68,1352.88 2324.03,1354.85 2324.38,1356.82 2324.73,1358.79 2325.08,1360.76 2325.43,1362.73 \"/>\n",
       "<path clip-path=\"url(#clip200)\" d=\"M2136.43 196.789 L2320.58 196.789 L2320.58 93.1086 L2136.43 93.1086  Z\" fill=\"#ffffff\" fill-rule=\"evenodd\" fill-opacity=\"1\"/>\n",
       "<polyline clip-path=\"url(#clip200)\" style=\"stroke:#000000; stroke-linecap:round; stroke-linejoin:round; stroke-width:4; stroke-opacity:1; fill:none\" points=\"2136.43,196.789 2320.58,196.789 2320.58,93.1086 2136.43,93.1086 2136.43,196.789 \"/>\n",
       "<polyline clip-path=\"url(#clip200)\" style=\"stroke:#009af9; stroke-linecap:round; stroke-linejoin:round; stroke-width:4; stroke-opacity:1; fill:none\" points=\"2147.15,144.949 2211.51,144.949 \"/>\n",
       "<path clip-path=\"url(#clip200)\" d=\"M2236.08 164.636 Q2234.27 169.266 2232.56 170.678 Q2230.85 172.09 2227.98 172.09 L2224.57 172.09 L2224.57 168.525 L2227.07 168.525 Q2228.83 168.525 2229.81 167.692 Q2230.78 166.858 2231.96 163.756 L2232.72 161.812 L2222.24 136.303 L2226.75 136.303 L2234.85 156.581 L2242.95 136.303 L2247.47 136.303 L2236.08 164.636 Z\" fill=\"#000000\" fill-rule=\"nonzero\" fill-opacity=\"1\" /><path clip-path=\"url(#clip200)\" d=\"M2263.58 126.257 Q2260.48 131.581 2258.97 136.789 Q2257.47 141.997 2257.47 147.344 Q2257.47 152.692 2258.97 157.946 Q2260.5 163.178 2263.58 168.479 L2259.88 168.479 Q2256.4 163.039 2254.67 157.784 Q2252.95 152.53 2252.95 147.344 Q2252.95 142.182 2254.67 136.951 Q2256.38 131.72 2259.88 126.257 L2263.58 126.257 Z\" fill=\"#000000\" fill-rule=\"nonzero\" fill-opacity=\"1\" /><path clip-path=\"url(#clip200)\" d=\"M2293.39 136.303 L2284.02 148.919 L2293.88 162.229 L2288.86 162.229 L2281.31 152.043 L2273.76 162.229 L2268.74 162.229 L2278.81 148.664 L2269.6 136.303 L2274.62 136.303 L2281.5 145.539 L2288.37 136.303 L2293.39 136.303 Z\" fill=\"#000000\" fill-rule=\"nonzero\" fill-opacity=\"1\" /><path clip-path=\"url(#clip200)\" d=\"M2299.23 126.257 L2302.93 126.257 Q2306.4 131.72 2308.12 136.951 Q2309.85 142.182 2309.85 147.344 Q2309.85 152.53 2308.12 157.784 Q2306.4 163.039 2302.93 168.479 L2299.23 168.479 Q2302.31 163.178 2303.81 157.946 Q2305.34 152.692 2305.34 147.344 Q2305.34 141.997 2303.81 136.789 Q2302.31 131.581 2299.23 126.257 Z\" fill=\"#000000\" fill-rule=\"nonzero\" fill-opacity=\"1\" /></svg>\n"
      ]
     },
     "execution_count": 6,
     "metadata": {},
     "output_type": "execute_result"
    }
   ],
   "source": [
    "println(\"Escriba el valor del angulo de salida\")\n",
    "\n",
    "grados = parse(Float64, readline())\n",
    "angulo = (π*grados)/180\n",
    "\n",
    "println(\"Escriba el valor de la velocidad incial\")\n",
    "\n",
    "vel_inicial = parse(Float64, readline())\n",
    "tiempo_final = (2*vel_inicial*sin(angulo))/9.8\n",
    "paso = tiempo_final/60\n",
    "\n",
    "function vely(t)\n",
    "    return (-9.8)*t+ vel_inicial*sin(angulo)\n",
    "end\n",
    "\n",
    "function posy(t)\n",
    "    return (-9.8/2)*t^2 + vel_inicial*sin(angulo)*t\n",
    "end\n",
    "\n",
    "function posx(t)\n",
    "     x = vel_inicial*cos(angulo)*t\n",
    "    return x\n",
    "end\n",
    "\n",
    "function tray(z)\n",
    "    trayect = -(4.9)*(z^2)/(50^2*cos(0.52)^2) + (tand(30)*z)  \n",
    "    return trayect\n",
    "end\n",
    "\n",
    "#Graficos punto 3 y 4\n",
    "\n",
    "#Rangos\n",
    "range_tiempo = [i for i in 0:paso:tiempo_final ]\n",
    "range_x = [i for i in 0:paso:posx(tiempo_final)]\n",
    "\n",
    "#Aplicacion de cada funcion sobre el rango y guardado en un vector \n",
    "vect_x = posx.(range_tiempo)\n",
    "vect_y = posy.(range_tiempo)\n",
    "vect_vel = vely.(range_tiempo)\n",
    "vect_tray = tray.(range_x)\n",
    "\n",
    "#Graficos 3\n",
    "plot_3 = plot(range_tiempo,vect_x,xlabel=\"t\",label=\"x(t)\")\n",
    "plot!(range_tiempo,vect_y,xlabel=\"t\",label=\"y(t)\")\n",
    "plot!(range_tiempo,vect_vel,xlabel=\"t\",label=\"vy(t)\")\n",
    "\n",
    "#Grafico 4\n",
    "plot_4 = plot(range_x,vect_tray,xlabel=\"x\",ylabel=\"y\",label=\"y(x)\")\n",
    "\n",
    "#Para graficar ambos graficos en dos imagenes juntas\n",
    "plot(plot_3,plot_4,layout = (1, 2))\n",
    "\n"
   ]
  },
  {
   "cell_type": "markdown",
   "metadata": {},
   "source": [
    "### Problema 15\n",
    "\n",
    "Escriba un programa para calcular un valor aproximado de $\\pi$ utilizando los siguientes métodos.\n",
    "\n",
    "1. La fórmula recurrente de Arquímedes, que  acota $\\pi$ entre $p_n$ y $P_n$, con $p_n < \\pi < P_n$, siendo $p_n$ y $P_n$ los perímetros de los polígonos regulares de $n$ lados inscriptos y circunscriptos, respectivamente, en la circunsferencia de radio $1/2$. \n",
    "\n",
    "    La fórmula de recurrencia que encontró Arquímides es la siguiente:\n",
    "    \n",
    "    $$\n",
    "    \\begin{align}\n",
    "    P_{2n} &= \\frac{2 p_n P_n}{p_n + P_n} \\\\\n",
    "    p_{2n} &= \\sqrt{P_{2n} p_n} \n",
    "    \\end{align}\n",
    "    $$\n",
    "    \n",
    "    Usando los valores $P_6=2\\sqrt{3}$ y $p_6 = 3$, correspondientes al hexágono, escriba un programa que realice 20 iteraciones recorriendo $k=0,1,..., 20$, y escriba los resultados en pantalla de $k$, $n=6\\times 2^k$, $p_n$, $P_n$, la aproximación $\\pi_n = (p_n+P_n)/2$ y el error $|\\pi_n-\\pi|$.\n",
    "\n",
    "2. La productoria de Wallis\n",
    "\n",
    "    $$\n",
    "    \\frac{\\pi}{2} = \\prod_{n=1}^\\infty \\frac{(2n)^2}{(2n)^2-1} = \\frac43\\frac{16}{15}\\frac{36}{35}\\frac{64}{63}\\dots \n",
    "    $$\n",
    "    \n",
    "    truncando la productoria a $10^6$ factores."
   ]
  },
  {
   "cell_type": "code",
   "execution_count": 2,
   "metadata": {},
   "outputs": [
    {
     "name": "stdout",
     "output_type": "stream",
     "text": [
      "  k        n                pn                     Pn                π_estimado                  error\n",
      "===============================================================================================================\n",
      "  0~        6        3.1058285412302493     3.215390309173473      3.1606094252018613      0.019016771612068162\n",
      "  1~        12        3.132628613281238     3.1596599420975005      3.1461442776893693      0.0045516240995762125\n",
      "  2~        24        3.139350203046867     3.146086215131435      3.142718209089151      0.0011255554993576666\n",
      "  3~        48        3.1410319508905093     3.1427145996453683      3.1418732752679386      0.0002806216781454651\n",
      "  4~        96        3.141452472285462     3.141873049979824      3.1416627611326433      7.010754285019516e-5\n",
      "  5~        192        3.1415576079118575     3.1416627470568486      3.141610177484353      1.7523894559889897e-5\n",
      "  6~        384        3.141583892148318     3.1416101766046896      3.141597034376504      4.380786710722617e-6\n",
      "  7~        768        3.14159046322805     3.141597034321526      3.1415937487747883      1.095184995136833e-6\n",
      "  8~        1536        3.1415921059992713     3.1415937487713514      3.1415929273853114      2.7379551825745807e-7\n",
      "  9~        3072        3.141592516692157     3.1415929273850964      3.141592722038627      6.84488337121536e-8\n",
      "  10~        6144        3.1415926193653836     3.1415927220386135      3.1415926707019985      1.7112205430436234e-8\n",
      "  11~        12288        3.1415926450336906     3.1415926707019977      3.141592657867844      4.278050802497546e-9\n",
      "  12~        24576        3.1415926514507673     3.1415926578678444      3.1415926546593056      1.0695124785797816e-9\n",
      "  13~        49152        3.1415926530550364     3.1415926546593056      3.1415926538571712      2.673781196449454e-10\n",
      "  14~        98304        3.1415926534561036     3.141592653857171      3.1415926536566374      6.684430786663142e-11\n",
      "  15~        196608        3.14159265355637     3.1415926536566365      3.1415926536065033      1.6710188788238156e-11\n",
      "  16~        393216        3.1415926535814367     3.1415926536065033      3.14159265359397      4.177103107849689e-12\n",
      "  17~        786432        3.1415926535877032     3.1415926535939698      3.1415926535908367      1.0436096431476471e-12\n",
      "  18~        1572864        3.14159265358927     3.1415926535908367      3.1415926535900534      2.602362769721367e-13\n",
      "  19~        3145728        3.141592653589661     3.141592653590053      3.141592653589857      6.394884621840902e-14\n",
      "  20~        6291456        3.1415926535897594     3.141592653589857      3.141592653589808      1.509903313490213e-14\n",
      "\n",
      "  El valor estimado de pi con Arquimedes es: 3.141592653589808\n",
      "  El valor estimado de pi con Willis es: 3.141591868192149\n"
     ]
    }
   ],
   "source": [
    "#Arquimedes\n",
    "function poligonos(m)  \n",
    "    P_n=2*sqrt(3) #Damos el valor de P_n6\n",
    "    p_n=3 #Damos el valor de p_n6\n",
    "    P_2n = 0\n",
    "    n=6\n",
    "    r = 1/2 \n",
    "    k = 0\n",
    "    println(\"  k        n                pn                     Pn                π_estimado                  error\")\n",
    "    println(\"===============================================================================================================\")   \n",
    "    while n<m\n",
    "        P_n = (2*p_n*P_n)/(p_n+P_n)\n",
    "        p_n = sqrt(p_n*P_n)\n",
    "        n = 6*2^k\n",
    "        # Imprimo los valores intermedios\n",
    "        print(\"  $(k)~        $(n)        $(p_n)     $(P_n)      $((p_n + P_n)/2)      $(abs(((p_n + P_n)/2)-π))\\n\")\n",
    "        k += 1\n",
    "    end \n",
    "    return (p_n + P_n)/2\n",
    "end \n",
    "print(\"\\n  El valor estimado de pi con Arquimedes es: $(poligonos(6*(2^20)))\")\n",
    "\n",
    "#Wallis\n",
    "function Wallis(j)\n",
    "    pi = 4/3\n",
    "    for i in 2:j\n",
    "        pi = pi*(((2i)^2)/((2i)^2-1))\n",
    "    end\n",
    "    return println(\"\\n  El valor estimado de pi con Willis es: $(2*pi)\")\n",
    "end\n",
    "Wallis(10^6) "
   ]
  },
  {
   "cell_type": "markdown",
   "metadata": {},
   "source": [
    "### Problema 16\n",
    "\n",
    "La fórmula cuadrática nos dice que las raíces de $ax^2 + bx + c = 0$ son\n",
    "\n",
    "$$\n",
    "x_1 = \\frac{-b+\\sqrt{b^2-4ac}}{2a},\n",
    "\\;\\;\\;\\;\n",
    "x_2 = \\frac{-b-\\sqrt{b^2-4ac}}{2a}\n",
    "$$\n",
    "\n",
    "Si $b^2 \\gg 4ac$, cálculo de $x_1$ involucra en el numerador la sustracción de dos números casi iguales cuando $b>0$, y ocurre para el cálculo de $x_2$ cuando $b<0$.\n",
    "La división por números gigantes suele generar errores numéricos severos.\n",
    "Para solucionar este problema, conviene *racionalizar los numeradores* en cuestión.\n",
    "Más precisamente, conviene calcular la raíz $x_1$ usando la expresión\n",
    "\n",
    "$$\n",
    "x_1 = \\frac{-b+\\sqrt{b^2-4ac}}{2a} \\frac{-b-\\sqrt{b^2-4ac}}{-b-\\sqrt{b^2-4ac}} = \\frac{-2c}{b+\\sqrt{b^2-4ac}}\n",
    "$$\n",
    "\n",
    "cuando $b>0$, y conviene calcular la raíz $x_2$ usando la expresión\n",
    "\n",
    "$$\n",
    "x_2 = \\frac{-b-\\sqrt{b^2-4ac}}{2a} \\frac{-b+\\sqrt{b^2-4ac}}{-b+\\sqrt{b^2-4ac}} = \\frac{2c}{-b+\\sqrt{b^2-4ac}}\n",
    "$$\n",
    "\n",
    "cuando $b<0$.\n",
    "\n",
    "1. Implemente una función que utilice las fórmulas usuales para calcular las raices $x_1$ y $x_2$.\n",
    "\n",
    "2. Implemente otra función que utilice las fórmulas *racionalizadas* para calcular las raíces $x_1$ y $x_2$.\n",
    "\n",
    "3. Implemente una función que calcule las raíces $x_1$ y $x_2$ evaluando la condición $b>0$ para decidir que fórmula utilizar en cada caso.\n",
    "\n",
    "4. Utilice las funciones de los incisos anteriores para encontrar aproximaciones numéricas a las raíces de las ecuaciónes\n",
    "\n",
    "   a) $x^2 + 6210x + 1 = 0$\n",
    "\n",
    "   b) $x^2 - 6210x + 1 = 0$\n",
    "\n",
    "5. Repita el inciso anterior para precisión simple.\n",
    "\n",
    "6. Describa lo observado."
   ]
  },
  {
   "cell_type": "code",
   "execution_count": 58,
   "metadata": {},
   "outputs": [
    {
     "data": {
      "text/plain": [
       "(6209.9998389694, 0.0001610305999888654)"
      ]
     },
     "execution_count": 58,
     "metadata": {},
     "output_type": "execute_result"
    }
   ],
   "source": [
    "function form_usual(A,B,C)\n",
    "    a = (-B)/2A\n",
    "    discriminante = (B^2)-(4*A*C)\n",
    "    b = sqrt(abs(discriminante))/2*A\n",
    "    if B^2 > 4*A*C\n",
    "        x1 = a+b\n",
    "        x2 = a-b\n",
    "    else\n",
    "        println(\"Error: B^2<4AC\")\n",
    "    end\n",
    "    return x1,x2\n",
    "end\n",
    "\n",
    "\n",
    "function form_racional(A,B,C)\n",
    "    discriminante = B^2-4*A*C\n",
    "    if B^2 > 4*A*C\n",
    "        x1 = (-2*C)/(B+√(discriminante))\n",
    "        x2 = (2*C)/(-B+√(discriminante))\n",
    "    else\n",
    "        println(\"Error: B^2<4AC\")\n",
    "    end \n",
    "    return x1,x2\n",
    "end\n",
    "\n",
    "function root(A,B,C)\n",
    "    x_11,x_21 = form_usual(A,B,C) \n",
    "    x_12,x_22 = form_racional(A,B,C)\n",
    "    if B < 0\n",
    "        x_1f = x_11\n",
    "        x_2f = x_22\n",
    "    else\n",
    "        x_1f = x_12\n",
    "        x_2f = x_21\n",
    "    end \n",
    "    return x_1f,x_2f\n",
    "end\n",
    "\n",
    "root(1,-6210,1)\n",
    "\n"
   ]
  },
  {
   "cell_type": "code",
   "execution_count": 53,
   "metadata": {},
   "outputs": [
    {
     "ename": "LoadError",
     "evalue": "TypeError: non-boolean (Int64) used in boolean context",
     "output_type": "error",
     "traceback": [
      "TypeError: non-boolean (Int64) used in boolean context",
      "",
      "Stacktrace:",
      " [1] form_usual(A::Int64, B::Int64, C::Int64)",
      "   @ Main ./In[52]:6",
      " [2] top-level scope",
      "   @ In[53]:1"
     ]
    }
   ],
   "source": [
    "form_usual(1,200,3)"
   ]
  },
  {
   "cell_type": "code",
   "execution_count": null,
   "metadata": {},
   "outputs": [],
   "source": []
  }
 ],
 "metadata": {
  "@webio": {
   "lastCommId": null,
   "lastKernelId": null
  },
  "kernelspec": {
   "display_name": "Julia 1.8.5",
   "language": "julia",
   "name": "julia-1.8"
  },
  "language_info": {
   "file_extension": ".jl",
   "mimetype": "application/julia",
   "name": "julia",
   "version": "1.8.5"
  }
 },
 "nbformat": 4,
 "nbformat_minor": 4
}
